{
 "cells": [
  {
   "cell_type": "code",
   "execution_count": 1,
   "id": "a638d49d-696f-4140-ad63-72a905869482",
   "metadata": {},
   "outputs": [],
   "source": [
    "import numpy as np\n",
    "import matplotlib.pyplot as plt\n",
    "import pandas as pd\n",
    "import seaborn as sns\n",
    "pd.set_option('display.max_rows',7000)\n",
    "pd.set_option('display.max_columns',7000)"
   ]
  },
  {
   "cell_type": "code",
   "execution_count": 2,
   "id": "bb5579db-2a3c-4fb9-8698-efaf639f8a7a",
   "metadata": {},
   "outputs": [
    {
     "name": "stderr",
     "output_type": "stream",
     "text": [
      "/home/alton/anaconda3/lib/python3.8/site-packages/IPython/core/interactiveshell.py:3165: DtypeWarning: Columns (5,6,10,11,648,745,746,753,772,773,796,801,806,811,816,821,826,831,836,841,846,851,856,861,866,871,876,881,886,891,896,901,902,903,904,974,1197,1222,1241,1250,1261,1269,1299,1399,1401,1403,1405,1408,1409,1413,1414,1415,1419,1421,1423,1425,1427,1429,1431,1432,1433,1434,1435,1436,1437,1438,1439,1440,1452) have mixed types.Specify dtype option on import or set low_memory=False.\n",
      "  has_raised = await self.run_ast_nodes(code_ast.body, cell_name,\n",
      "/home/alton/anaconda3/lib/python3.8/site-packages/IPython/core/interactiveshell.py:3165: DtypeWarning: Columns (2,12,13,14,115,893,995,1019,1020,1021,1022,1023) have mixed types.Specify dtype option on import or set low_memory=False.\n",
      "  has_raised = await self.run_ast_nodes(code_ast.body, cell_name,\n",
      "<ipython-input-2-8fec5fc5cfc6>:3: SettingWithCopyWarning: \n",
      "A value is trying to be set on a copy of a slice from a DataFrame\n",
      "\n",
      "See the caveats in the documentation: https://pandas.pydata.org/pandas-docs/stable/user_guide/indexing.html#returning-a-view-versus-a-copy\n",
      "  kcensus['How many FEMALE students  above AGE 8 YEARS OLD are in Pre-Kindergarten?'][3776]= 10\n"
     ]
    },
    {
     "data": {
      "text/plain": [
       "10.0"
      ]
     },
     "execution_count": 2,
     "metadata": {},
     "output_type": "execute_result"
    }
   ],
   "source": [
    "kcensus = pd.read_csv('kobo_data.csv')\n",
    "tcensus = pd.read_csv('tamma_data.csv')\n",
    "kcensus['How many FEMALE students  above AGE 8 YEARS OLD are in Pre-Kindergarten?'][3776]= 10\n",
    "kcensus['How many FEMALE students  above AGE 8 YEARS OLD are in Pre-Kindergarten?'][3776]"
   ]
  },
  {
   "cell_type": "code",
   "execution_count": 3,
   "id": "c3dd3983-3086-40a1-977e-c0fefc864f05",
   "metadata": {},
   "outputs": [],
   "source": [
    "kstaff = pd.read_csv('kobo_staff.csv')\n",
    "tstaff = pd.read_csv('tamma_staff.csv')"
   ]
  },
  {
   "cell_type": "code",
   "execution_count": null,
   "id": "0af9be1f-fa9f-450f-b9af-12d487ba35db",
   "metadata": {},
   "outputs": [],
   "source": []
  }
 ],
 "metadata": {
  "kernelspec": {
   "display_name": "Python 3",
   "language": "python",
   "name": "python3"
  },
  "language_info": {
   "codemirror_mode": {
    "name": "ipython",
    "version": 3
   },
   "file_extension": ".py",
   "mimetype": "text/x-python",
   "name": "python",
   "nbconvert_exporter": "python",
   "pygments_lexer": "ipython3",
   "version": "3.8.10"
  }
 },
 "nbformat": 4,
 "nbformat_minor": 5
}
