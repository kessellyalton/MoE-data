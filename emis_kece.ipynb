{
 "cells": [
  {
   "cell_type": "code",
   "execution_count": 1,
   "id": "0e612eb7-6f84-4c55-8bfc-3f76b14bef5a",
   "metadata": {},
   "outputs": [],
   "source": [
    "import numpy as np\n",
    "import matplotlib.pyplot as plt\n",
    "import pandas as pd\n",
    "import matplotlib.pyplot as plt\n",
    "import seaborn as sns\n",
    "pd.set_option('display.max_rows',7000)\n",
    "pd.set_option('display.max_columns',7000)"
   ]
  },
  {
   "cell_type": "code",
   "execution_count": 2,
   "id": "5336b734-5c50-4ca3-a2a8-d1406841523e",
   "metadata": {},
   "outputs": [
    {
     "name": "stderr",
     "output_type": "stream",
     "text": [
      "/home/alton/anaconda3/lib/python3.8/site-packages/IPython/core/interactiveshell.py:3165: DtypeWarning: Columns (5,6,10,11,648,745,746,753,772,773,796,801,806,811,816,821,826,831,836,841,846,851,856,861,866,871,876,881,886,891,896,901,902,903,904,974,1197,1222,1241,1250,1261,1269,1299,1399,1401,1403,1405,1408,1409,1413,1414,1415,1419,1421,1423,1425,1427,1429,1431,1432,1433,1434,1435,1436,1437,1438,1439,1440,1452) have mixed types.Specify dtype option on import or set low_memory=False.\n",
      "  has_raised = await self.run_ast_nodes(code_ast.body, cell_name,\n",
      "/home/alton/anaconda3/lib/python3.8/site-packages/IPython/core/interactiveshell.py:3165: DtypeWarning: Columns (2,12,13,14,115,893,995,1019,1020,1021,1022,1023) have mixed types.Specify dtype option on import or set low_memory=False.\n",
      "  has_raised = await self.run_ast_nodes(code_ast.body, cell_name,\n",
      "<ipython-input-2-8fec5fc5cfc6>:3: SettingWithCopyWarning: \n",
      "A value is trying to be set on a copy of a slice from a DataFrame\n",
      "\n",
      "See the caveats in the documentation: https://pandas.pydata.org/pandas-docs/stable/user_guide/indexing.html#returning-a-view-versus-a-copy\n",
      "  kcensus['How many FEMALE students  above AGE 8 YEARS OLD are in Pre-Kindergarten?'][3776]= 10\n"
     ]
    },
    {
     "data": {
      "text/plain": [
       "10.0"
      ]
     },
     "execution_count": 2,
     "metadata": {},
     "output_type": "execute_result"
    }
   ],
   "source": [
    "kcensus = pd.read_csv('kobo_data.csv')\n",
    "tcensus = pd.read_csv('tamma_data.csv')\n",
    "kcensus['How many FEMALE students  above AGE 8 YEARS OLD are in Pre-Kindergarten?'][3776]= 10\n",
    "kcensus['How many FEMALE students  above AGE 8 YEARS OLD are in Pre-Kindergarten?'][3776]"
   ]
  },
  {
   "cell_type": "code",
   "execution_count": 3,
   "id": "51404c78-06cb-4492-baae-13181b675ccf",
   "metadata": {},
   "outputs": [],
   "source": [
    "kstaff = pd.read_csv('kobo_staff.csv')\n",
    "tstaff = pd.read_csv('tamma_staff.csv')"
   ]
  },
  {
   "cell_type": "code",
   "execution_count": 4,
   "id": "297c9727-a01e-4eaf-91ba-35c611740b49",
   "metadata": {},
   "outputs": [
    {
     "data": {
      "text/html": [
       "<div>\n",
       "<style scoped>\n",
       "    .dataframe tbody tr th:only-of-type {\n",
       "        vertical-align: middle;\n",
       "    }\n",
       "\n",
       "    .dataframe tbody tr th {\n",
       "        vertical-align: top;\n",
       "    }\n",
       "\n",
       "    .dataframe thead th {\n",
       "        text-align: right;\n",
       "    }\n",
       "</style>\n",
       "<table border=\"1\" class=\"dataframe\">\n",
       "  <thead>\n",
       "    <tr style=\"text-align: right;\">\n",
       "      <th></th>\n",
       "      <th>What is the total number of students in ECE?</th>\n",
       "      <th>What is the total number of nursery students that are Males?</th>\n",
       "      <th>What is the total number of nursery students that are females?</th>\n",
       "      <th>What is the total number of pre-kindergarten students that are males?</th>\n",
       "      <th>What is the total number of pre-kindergarten students that are females?</th>\n",
       "      <th>What is the total number of kindergarten students that are Males?</th>\n",
       "      <th>What is the total number of kindergarten students that are Females?</th>\n",
       "      <th>What is the total number of ECE teachers?</th>\n",
       "      <th>What is the total number of nursery teachers that are Males?</th>\n",
       "      <th>What is the total number of nursery teachers that are Females?</th>\n",
       "      <th>What is the total number of pre-kindergarten teachers that are Males?</th>\n",
       "      <th>What is the total number of pre-kindergarten teachers that are Females?</th>\n",
       "      <th>What is the total number of kindergarten teachers that are males?</th>\n",
       "      <th>What is the total number of kindergarten teachers that are females?</th>\n",
       "      <th>How many male students in nursery are repeaters</th>\n",
       "      <th>How many female students in nursery are repeaters</th>\n",
       "      <th>How many FEMALE students in Pre-Kindergarten are Repeaters?</th>\n",
       "      <th>How many MALE students in Pre-Kindergarten are Repeaters?</th>\n",
       "      <th>How many MALE students in Kindergarten are Repeaters?</th>\n",
       "      <th>How many female students in Kindergarten are Repeaters?</th>\n",
       "      <th>How many teachers are teaching only one grade at the ECE level that are MALES?</th>\n",
       "      <th>How many teachers are teaching only one grade at the ECE level that are FEMALES?</th>\n",
       "      <th>How many MALE students in nursery are Visually impaired ?</th>\n",
       "      <th>How many female students in Nursery are Visually impaired ?</th>\n",
       "      <th>How many FEMALE students in Pre-Kindergarten are Visually impaired ?</th>\n",
       "      <th>How many MALE students in pre-Kindergarten are Visually impaired ?</th>\n",
       "      <th>How many FEMALE students in kindergarten are Visually impaired ?</th>\n",
       "      <th>How many MALE students in kindergarten are Visually impaired ?</th>\n",
       "      <th>How many MALE students in  nursery have hearing impairment?</th>\n",
       "      <th>How many FEMALE students in nursery have hearing impairment?</th>\n",
       "      <th>How many FEMALE students in pre- kindergarten are hearing impairment?</th>\n",
       "      <th>How many MALE students in pre-kindergarten have hearing impairment?</th>\n",
       "      <th>How many MALE students in kindergarten have hearing impairment?</th>\n",
       "      <th>How many FEMALE students in  Kindergarten have hearing impairment?</th>\n",
       "      <th>How many MALE students in Nursery have other physical disabilities?</th>\n",
       "      <th>How many FEMALE students in Nursery have other physical disabilities ?</th>\n",
       "      <th>How many FEMALE students in  Pre-Kindergarten have other physical disabilities?</th>\n",
       "      <th>How many MALE students in  Pre-Kindergarten have other physical disabilities?</th>\n",
       "      <th>How many MALE students in  Kindergarten have other physical disabilities?</th>\n",
       "      <th>How many FEMALE students in  Kindergarten have other physical disabilities?</th>\n",
       "      <th>How many MALE students in Nursery have other mental disability or learning difficulty?</th>\n",
       "      <th>How many FEMALE students in Nursery have other mental disability or learning difficulty?</th>\n",
       "      <th>How many MALE students in  Pre-Kindergarten have other mental disability or learning difficulty?</th>\n",
       "      <th>How many FEMALE students in  Pre-Kindergarten have other mental disability or learning difficulty?</th>\n",
       "      <th>How many MALE students in  Kindergarten have other mental disability or learning difficulty?</th>\n",
       "      <th>How many FEMALE students in  Kindergarten have other mental disability or learning difficulty?</th>\n",
       "      <th>How many MALE students below AGE 3 YEARS OLD are in Nursery?</th>\n",
       "      <th>How many FEMALE students below AGE 3 YEARS OLD are in Nursery?</th>\n",
       "      <th>How many MALE students below AGE 3 YEARS OLD are in Pre-kindergarten?</th>\n",
       "      <th>How many FEMALE students below AGE 3 YEARS OLD are in Pre-kindergarten?</th>\n",
       "      <th>How many MALE students below AGE 3 YEARS OLD are in Kindergarten?</th>\n",
       "      <th>How many FEMALE students below AGE 3 YEARS OLD are in Kindergarten?</th>\n",
       "      <th>How many MALE students AGE 3 YEARS OLD are in Nursery?</th>\n",
       "      <th>How many MALE students AGE 4 YEARS OLD are in Nursery?</th>\n",
       "      <th>How many MALE students AGE 5 YEARS OLD are in Nursery?</th>\n",
       "      <th>How many MALE students AGE 6 YEARS OLD are in Nursery?</th>\n",
       "      <th>How many MALE students AGE 7 YEARS OLD are in Nursery?</th>\n",
       "      <th>How many MALE students AGE 8 YEARS OLD are in Nursery?</th>\n",
       "      <th>How many MALE students Above AGE 8 YEARS OLD are in Nursery?</th>\n",
       "      <th>How many FEMALE students  AGE 3 YEARS OLD are in Nursery?</th>\n",
       "      <th>How many FEMALE students  AGE 4 YEARS OLD are in Nursery?</th>\n",
       "      <th>How many FEMALE students  AGE 5 YEARS OLD are in Nursery?</th>\n",
       "      <th>How many FEMALE students  AGE 6 YEARS OLD are in Nursery?</th>\n",
       "      <th>How many FEMALE students  AGE 7 YEARS OLD are in Nursery?</th>\n",
       "      <th>How many FEMALE students  AGE 8 YEARS OLD are in Nursery?</th>\n",
       "      <th>How many FEMALE students  above AGE 8 YEARS OLD are in Nursery?</th>\n",
       "      <th>How many MALE students AGE 3 YEARS OLD are in Pre-Kindergarten?</th>\n",
       "      <th>How many MALE students AGE 4 YEARS OLD are in Pre-Kindergarten?</th>\n",
       "      <th>How many MALE students AGE 5 YEARS OLD are in Pre-Kindergarten?</th>\n",
       "      <th>How many MALE students AGE 6 YEARS OLD are in Pre-Kindergarten?</th>\n",
       "      <th>How many MALE students AGE 7 YEARS OLD are in Pre-Kindergarten?</th>\n",
       "      <th>How many MALE students AGE 8 YEARS OLD are in Pre-Kindergarten?</th>\n",
       "      <th>How many MALE students above AGE 8 YEARS OLD are in Pre-Kindergarten?</th>\n",
       "      <th>How many FEMALE students  AGE 3 YEARS OLD are in Pre-Kindergarten?</th>\n",
       "      <th>How many FEMALE students  AGE 4 YEARS OLD are in Pre-Kindergarten?</th>\n",
       "      <th>How many FEMALE students  AGE 5 YEARS OLD are in Pre-Kindergarten?</th>\n",
       "      <th>How many FEMALE students  AGE 6 YEARS OLD are in Pre-Kindergarten?</th>\n",
       "      <th>How many FEMALE students  AGE 7 YEARS OLD are in Pre-Kindergarten?</th>\n",
       "      <th>How many FEMALE students  AGE 8 YEARS OLD are in Pre-Kindergarten?</th>\n",
       "      <th>How many FEMALE students  above AGE 8 YEARS OLD are in Pre-Kindergarten?</th>\n",
       "      <th>How many MALE students AGE 3 YEARS OLD are in Kindergarten?</th>\n",
       "      <th>How many MALE students AGE 4 YEARS OLD are in Kindergarten?</th>\n",
       "      <th>How many FEMALE students  AGE 5 YEARS OLD are in Kindergarten?</th>\n",
       "      <th>How many FEMALE students  AGE 6 YEARS OLD are in Kindergarten?</th>\n",
       "      <th>How many FEMALE students  AGE 7 YEARS OLD are in Kindergarten?</th>\n",
       "      <th>How many FEMALE students  AGE 8 YEARS OLD are in Kindergarten?</th>\n",
       "      <th>How many FEMALE students  above AGE 8 YEARS OLD are in Kindergarten?</th>\n",
       "      <th>What is total intake in Nursery?</th>\n",
       "      <th>What is total intake in Pre-Kindergarten?</th>\n",
       "      <th>What is total intake in Kindergarten?</th>\n",
       "    </tr>\n",
       "  </thead>\n",
       "  <tbody>\n",
       "    <tr>\n",
       "      <th>0</th>\n",
       "      <td>NaN</td>\n",
       "      <td>NaN</td>\n",
       "      <td>NaN</td>\n",
       "      <td>NaN</td>\n",
       "      <td>NaN</td>\n",
       "      <td>NaN</td>\n",
       "      <td>NaN</td>\n",
       "      <td>NaN</td>\n",
       "      <td>NaN</td>\n",
       "      <td>NaN</td>\n",
       "      <td>NaN</td>\n",
       "      <td>NaN</td>\n",
       "      <td>NaN</td>\n",
       "      <td>NaN</td>\n",
       "      <td>NaN</td>\n",
       "      <td>NaN</td>\n",
       "      <td>NaN</td>\n",
       "      <td>NaN</td>\n",
       "      <td>NaN</td>\n",
       "      <td>NaN</td>\n",
       "      <td>NaN</td>\n",
       "      <td>NaN</td>\n",
       "      <td>NaN</td>\n",
       "      <td>NaN</td>\n",
       "      <td>NaN</td>\n",
       "      <td>NaN</td>\n",
       "      <td>NaN</td>\n",
       "      <td>NaN</td>\n",
       "      <td>NaN</td>\n",
       "      <td>NaN</td>\n",
       "      <td>NaN</td>\n",
       "      <td>NaN</td>\n",
       "      <td>NaN</td>\n",
       "      <td>NaN</td>\n",
       "      <td>NaN</td>\n",
       "      <td>NaN</td>\n",
       "      <td>NaN</td>\n",
       "      <td>NaN</td>\n",
       "      <td>NaN</td>\n",
       "      <td>NaN</td>\n",
       "      <td>NaN</td>\n",
       "      <td>NaN</td>\n",
       "      <td>NaN</td>\n",
       "      <td>NaN</td>\n",
       "      <td>NaN</td>\n",
       "      <td>NaN</td>\n",
       "      <td>NaN</td>\n",
       "      <td>NaN</td>\n",
       "      <td>NaN</td>\n",
       "      <td>NaN</td>\n",
       "      <td>NaN</td>\n",
       "      <td>NaN</td>\n",
       "      <td>NaN</td>\n",
       "      <td>NaN</td>\n",
       "      <td>NaN</td>\n",
       "      <td>NaN</td>\n",
       "      <td>NaN</td>\n",
       "      <td>NaN</td>\n",
       "      <td>NaN</td>\n",
       "      <td>NaN</td>\n",
       "      <td>NaN</td>\n",
       "      <td>NaN</td>\n",
       "      <td>NaN</td>\n",
       "      <td>NaN</td>\n",
       "      <td>NaN</td>\n",
       "      <td>NaN</td>\n",
       "      <td>NaN</td>\n",
       "      <td>NaN</td>\n",
       "      <td>NaN</td>\n",
       "      <td>NaN</td>\n",
       "      <td>NaN</td>\n",
       "      <td>NaN</td>\n",
       "      <td>NaN</td>\n",
       "      <td>NaN</td>\n",
       "      <td>NaN</td>\n",
       "      <td>NaN</td>\n",
       "      <td>NaN</td>\n",
       "      <td>NaN</td>\n",
       "      <td>NaN</td>\n",
       "      <td>NaN</td>\n",
       "      <td>NaN</td>\n",
       "      <td>NaN</td>\n",
       "      <td>NaN</td>\n",
       "      <td>NaN</td>\n",
       "      <td>NaN</td>\n",
       "      <td>NaN</td>\n",
       "      <td>NaN</td>\n",
       "      <td>NaN</td>\n",
       "      <td>NaN</td>\n",
       "      <td>NaN</td>\n",
       "    </tr>\n",
       "    <tr>\n",
       "      <th>1</th>\n",
       "      <td>112.0</td>\n",
       "      <td>32.0</td>\n",
       "      <td>20.0</td>\n",
       "      <td>11.0</td>\n",
       "      <td>20.0</td>\n",
       "      <td>11.0</td>\n",
       "      <td>17.0</td>\n",
       "      <td>1.0</td>\n",
       "      <td>0.0</td>\n",
       "      <td>1.0</td>\n",
       "      <td>0.0</td>\n",
       "      <td>0.0</td>\n",
       "      <td>0.0</td>\n",
       "      <td>1.0</td>\n",
       "      <td>0.0</td>\n",
       "      <td>0.0</td>\n",
       "      <td>0.0</td>\n",
       "      <td>0.0</td>\n",
       "      <td>3.0</td>\n",
       "      <td>6.0</td>\n",
       "      <td>1.0</td>\n",
       "      <td>3.0</td>\n",
       "      <td>0.0</td>\n",
       "      <td>0.0</td>\n",
       "      <td>0.0</td>\n",
       "      <td>0.0</td>\n",
       "      <td>0.0</td>\n",
       "      <td>0.0</td>\n",
       "      <td>0.0</td>\n",
       "      <td>0.0</td>\n",
       "      <td>0.0</td>\n",
       "      <td>0.0</td>\n",
       "      <td>0.0</td>\n",
       "      <td>0.0</td>\n",
       "      <td>0.0</td>\n",
       "      <td>0.0</td>\n",
       "      <td>0.0</td>\n",
       "      <td>0.0</td>\n",
       "      <td>0.0</td>\n",
       "      <td>0.0</td>\n",
       "      <td>0.0</td>\n",
       "      <td>0.0</td>\n",
       "      <td>0.0</td>\n",
       "      <td>0.0</td>\n",
       "      <td>0.0</td>\n",
       "      <td>0.0</td>\n",
       "      <td>0.0</td>\n",
       "      <td>0.0</td>\n",
       "      <td>0.0</td>\n",
       "      <td>0.0</td>\n",
       "      <td>0.0</td>\n",
       "      <td>0.0</td>\n",
       "      <td>4.0</td>\n",
       "      <td>2.0</td>\n",
       "      <td>2.0</td>\n",
       "      <td>3.0</td>\n",
       "      <td>3.0</td>\n",
       "      <td>8.0</td>\n",
       "      <td>10.0</td>\n",
       "      <td>2.0</td>\n",
       "      <td>1.0</td>\n",
       "      <td>3.0</td>\n",
       "      <td>2.0</td>\n",
       "      <td>4.0</td>\n",
       "      <td>3.0</td>\n",
       "      <td>5.0</td>\n",
       "      <td>1.0</td>\n",
       "      <td>2.0</td>\n",
       "      <td>3.0</td>\n",
       "      <td>2.0</td>\n",
       "      <td>0.0</td>\n",
       "      <td>2.0</td>\n",
       "      <td>2.0</td>\n",
       "      <td>0.0</td>\n",
       "      <td>2.0</td>\n",
       "      <td>2.0</td>\n",
       "      <td>4.0</td>\n",
       "      <td>5.0</td>\n",
       "      <td>2.0</td>\n",
       "      <td>5.0</td>\n",
       "      <td>0.0</td>\n",
       "      <td>2.0</td>\n",
       "      <td>1.0</td>\n",
       "      <td>1.0</td>\n",
       "      <td>5.0</td>\n",
       "      <td>6.0</td>\n",
       "      <td>2.0</td>\n",
       "      <td>52.0</td>\n",
       "      <td>32.0</td>\n",
       "      <td>28.0</td>\n",
       "    </tr>\n",
       "    <tr>\n",
       "      <th>2</th>\n",
       "      <td>31.0</td>\n",
       "      <td>5.0</td>\n",
       "      <td>3.0</td>\n",
       "      <td>4.0</td>\n",
       "      <td>4.0</td>\n",
       "      <td>6.0</td>\n",
       "      <td>9.0</td>\n",
       "      <td>1.0</td>\n",
       "      <td>0.0</td>\n",
       "      <td>0.0</td>\n",
       "      <td>0.0</td>\n",
       "      <td>0.0</td>\n",
       "      <td>0.0</td>\n",
       "      <td>0.0</td>\n",
       "      <td>1.0</td>\n",
       "      <td>0.0</td>\n",
       "      <td>0.0</td>\n",
       "      <td>0.0</td>\n",
       "      <td>1.0</td>\n",
       "      <td>2.0</td>\n",
       "      <td>0.0</td>\n",
       "      <td>0.0</td>\n",
       "      <td>NaN</td>\n",
       "      <td>NaN</td>\n",
       "      <td>NaN</td>\n",
       "      <td>NaN</td>\n",
       "      <td>NaN</td>\n",
       "      <td>NaN</td>\n",
       "      <td>NaN</td>\n",
       "      <td>NaN</td>\n",
       "      <td>NaN</td>\n",
       "      <td>NaN</td>\n",
       "      <td>NaN</td>\n",
       "      <td>NaN</td>\n",
       "      <td>NaN</td>\n",
       "      <td>NaN</td>\n",
       "      <td>NaN</td>\n",
       "      <td>NaN</td>\n",
       "      <td>NaN</td>\n",
       "      <td>NaN</td>\n",
       "      <td>NaN</td>\n",
       "      <td>NaN</td>\n",
       "      <td>NaN</td>\n",
       "      <td>NaN</td>\n",
       "      <td>NaN</td>\n",
       "      <td>NaN</td>\n",
       "      <td>0.0</td>\n",
       "      <td>0.0</td>\n",
       "      <td>0.0</td>\n",
       "      <td>0.0</td>\n",
       "      <td>0.0</td>\n",
       "      <td>0.0</td>\n",
       "      <td>2.0</td>\n",
       "      <td>1.0</td>\n",
       "      <td>1.0</td>\n",
       "      <td>1.0</td>\n",
       "      <td>0.0</td>\n",
       "      <td>0.0</td>\n",
       "      <td>0.0</td>\n",
       "      <td>0.0</td>\n",
       "      <td>2.0</td>\n",
       "      <td>1.0</td>\n",
       "      <td>0.0</td>\n",
       "      <td>0.0</td>\n",
       "      <td>0.0</td>\n",
       "      <td>0.0</td>\n",
       "      <td>1.0</td>\n",
       "      <td>2.0</td>\n",
       "      <td>0.0</td>\n",
       "      <td>1.0</td>\n",
       "      <td>0.0</td>\n",
       "      <td>0.0</td>\n",
       "      <td>0.0</td>\n",
       "      <td>0.0</td>\n",
       "      <td>2.0</td>\n",
       "      <td>0.0</td>\n",
       "      <td>2.0</td>\n",
       "      <td>0.0</td>\n",
       "      <td>0.0</td>\n",
       "      <td>0.0</td>\n",
       "      <td>0.0</td>\n",
       "      <td>3.0</td>\n",
       "      <td>1.0</td>\n",
       "      <td>2.0</td>\n",
       "      <td>0.0</td>\n",
       "      <td>0.0</td>\n",
       "      <td>0.0</td>\n",
       "      <td>8.0</td>\n",
       "      <td>8.0</td>\n",
       "      <td>15.0</td>\n",
       "    </tr>\n",
       "    <tr>\n",
       "      <th>3</th>\n",
       "      <td>149.0</td>\n",
       "      <td>54.0</td>\n",
       "      <td>30.0</td>\n",
       "      <td>15.0</td>\n",
       "      <td>20.0</td>\n",
       "      <td>12.0</td>\n",
       "      <td>8.0</td>\n",
       "      <td>7.0</td>\n",
       "      <td>0.0</td>\n",
       "      <td>7.0</td>\n",
       "      <td>0.0</td>\n",
       "      <td>7.0</td>\n",
       "      <td>0.0</td>\n",
       "      <td>7.0</td>\n",
       "      <td>NaN</td>\n",
       "      <td>NaN</td>\n",
       "      <td>NaN</td>\n",
       "      <td>NaN</td>\n",
       "      <td>NaN</td>\n",
       "      <td>NaN</td>\n",
       "      <td>NaN</td>\n",
       "      <td>7.0</td>\n",
       "      <td>NaN</td>\n",
       "      <td>NaN</td>\n",
       "      <td>NaN</td>\n",
       "      <td>NaN</td>\n",
       "      <td>NaN</td>\n",
       "      <td>NaN</td>\n",
       "      <td>NaN</td>\n",
       "      <td>NaN</td>\n",
       "      <td>NaN</td>\n",
       "      <td>NaN</td>\n",
       "      <td>NaN</td>\n",
       "      <td>NaN</td>\n",
       "      <td>NaN</td>\n",
       "      <td>NaN</td>\n",
       "      <td>NaN</td>\n",
       "      <td>NaN</td>\n",
       "      <td>NaN</td>\n",
       "      <td>NaN</td>\n",
       "      <td>NaN</td>\n",
       "      <td>NaN</td>\n",
       "      <td>NaN</td>\n",
       "      <td>NaN</td>\n",
       "      <td>NaN</td>\n",
       "      <td>NaN</td>\n",
       "      <td>12.0</td>\n",
       "      <td>13.0</td>\n",
       "      <td>NaN</td>\n",
       "      <td>NaN</td>\n",
       "      <td>NaN</td>\n",
       "      <td>NaN</td>\n",
       "      <td>NaN</td>\n",
       "      <td>NaN</td>\n",
       "      <td>NaN</td>\n",
       "      <td>NaN</td>\n",
       "      <td>NaN</td>\n",
       "      <td>NaN</td>\n",
       "      <td>NaN</td>\n",
       "      <td>NaN</td>\n",
       "      <td>NaN</td>\n",
       "      <td>NaN</td>\n",
       "      <td>NaN</td>\n",
       "      <td>NaN</td>\n",
       "      <td>NaN</td>\n",
       "      <td>NaN</td>\n",
       "      <td>30.0</td>\n",
       "      <td>20.0</td>\n",
       "      <td>NaN</td>\n",
       "      <td>NaN</td>\n",
       "      <td>NaN</td>\n",
       "      <td>NaN</td>\n",
       "      <td>NaN</td>\n",
       "      <td>20.0</td>\n",
       "      <td>14.0</td>\n",
       "      <td>NaN</td>\n",
       "      <td>NaN</td>\n",
       "      <td>NaN</td>\n",
       "      <td>NaN</td>\n",
       "      <td>NaN</td>\n",
       "      <td>NaN</td>\n",
       "      <td>NaN</td>\n",
       "      <td>10.0</td>\n",
       "      <td>2.0</td>\n",
       "      <td>NaN</td>\n",
       "      <td>NaN</td>\n",
       "      <td>10.0</td>\n",
       "      <td>25.0</td>\n",
       "      <td>84.0</td>\n",
       "      <td>30.0</td>\n",
       "    </tr>\n",
       "    <tr>\n",
       "      <th>4</th>\n",
       "      <td>62.0</td>\n",
       "      <td>27.0</td>\n",
       "      <td>35.0</td>\n",
       "      <td>8.0</td>\n",
       "      <td>12.0</td>\n",
       "      <td>5.0</td>\n",
       "      <td>20.0</td>\n",
       "      <td>4.0</td>\n",
       "      <td>0.0</td>\n",
       "      <td>0.0</td>\n",
       "      <td>0.0</td>\n",
       "      <td>0.0</td>\n",
       "      <td>0.0</td>\n",
       "      <td>0.0</td>\n",
       "      <td>0.0</td>\n",
       "      <td>0.0</td>\n",
       "      <td>0.0</td>\n",
       "      <td>0.0</td>\n",
       "      <td>0.0</td>\n",
       "      <td>0.0</td>\n",
       "      <td>0.0</td>\n",
       "      <td>0.0</td>\n",
       "      <td>0.0</td>\n",
       "      <td>0.0</td>\n",
       "      <td>0.0</td>\n",
       "      <td>0.0</td>\n",
       "      <td>0.0</td>\n",
       "      <td>0.0</td>\n",
       "      <td>0.0</td>\n",
       "      <td>0.0</td>\n",
       "      <td>0.0</td>\n",
       "      <td>0.0</td>\n",
       "      <td>0.0</td>\n",
       "      <td>0.0</td>\n",
       "      <td>0.0</td>\n",
       "      <td>0.0</td>\n",
       "      <td>0.0</td>\n",
       "      <td>0.0</td>\n",
       "      <td>0.0</td>\n",
       "      <td>0.0</td>\n",
       "      <td>0.0</td>\n",
       "      <td>0.0</td>\n",
       "      <td>0.0</td>\n",
       "      <td>0.0</td>\n",
       "      <td>0.0</td>\n",
       "      <td>0.0</td>\n",
       "      <td>5.0</td>\n",
       "      <td>10.0</td>\n",
       "      <td>0.0</td>\n",
       "      <td>0.0</td>\n",
       "      <td>0.0</td>\n",
       "      <td>0.0</td>\n",
       "      <td>1.0</td>\n",
       "      <td>3.0</td>\n",
       "      <td>1.0</td>\n",
       "      <td>0.0</td>\n",
       "      <td>0.0</td>\n",
       "      <td>0.0</td>\n",
       "      <td>0.0</td>\n",
       "      <td>2.0</td>\n",
       "      <td>5.0</td>\n",
       "      <td>0.0</td>\n",
       "      <td>0.0</td>\n",
       "      <td>0.0</td>\n",
       "      <td>0.0</td>\n",
       "      <td>0.0</td>\n",
       "      <td>4.0</td>\n",
       "      <td>1.0</td>\n",
       "      <td>3.0</td>\n",
       "      <td>0.0</td>\n",
       "      <td>0.0</td>\n",
       "      <td>0.0</td>\n",
       "      <td>0.0</td>\n",
       "      <td>0.0</td>\n",
       "      <td>0.0</td>\n",
       "      <td>0.0</td>\n",
       "      <td>3.0</td>\n",
       "      <td>2.0</td>\n",
       "      <td>0.0</td>\n",
       "      <td>0.0</td>\n",
       "      <td>0.0</td>\n",
       "      <td>0.0</td>\n",
       "      <td>0.0</td>\n",
       "      <td>10.0</td>\n",
       "      <td>5.0</td>\n",
       "      <td>5.0</td>\n",
       "      <td>0.0</td>\n",
       "      <td>NaN</td>\n",
       "      <td>NaN</td>\n",
       "      <td>NaN</td>\n",
       "    </tr>\n",
       "  </tbody>\n",
       "</table>\n",
       "</div>"
      ],
      "text/plain": [
       "   What is the total number of students in ECE?  \\\n",
       "0                                           NaN   \n",
       "1                                         112.0   \n",
       "2                                          31.0   \n",
       "3                                         149.0   \n",
       "4                                          62.0   \n",
       "\n",
       "   What is the total number of nursery students that are Males?  \\\n",
       "0                                                NaN              \n",
       "1                                               32.0              \n",
       "2                                                5.0              \n",
       "3                                               54.0              \n",
       "4                                               27.0              \n",
       "\n",
       "   What is the total number of nursery students that are females?  \\\n",
       "0                                                NaN                \n",
       "1                                               20.0                \n",
       "2                                                3.0                \n",
       "3                                               30.0                \n",
       "4                                               35.0                \n",
       "\n",
       "   What is the total number of pre-kindergarten students that are males?  \\\n",
       "0                                                NaN                       \n",
       "1                                               11.0                       \n",
       "2                                                4.0                       \n",
       "3                                               15.0                       \n",
       "4                                                8.0                       \n",
       "\n",
       "   What is the total number of pre-kindergarten students that are females?  \\\n",
       "0                                                NaN                         \n",
       "1                                               20.0                         \n",
       "2                                                4.0                         \n",
       "3                                               20.0                         \n",
       "4                                               12.0                         \n",
       "\n",
       "   What is the total number of kindergarten students that are Males?  \\\n",
       "0                                                NaN                   \n",
       "1                                               11.0                   \n",
       "2                                                6.0                   \n",
       "3                                               12.0                   \n",
       "4                                                5.0                   \n",
       "\n",
       "   What is the total number of kindergarten students that are Females?  \\\n",
       "0                                                NaN                     \n",
       "1                                               17.0                     \n",
       "2                                                9.0                     \n",
       "3                                                8.0                     \n",
       "4                                               20.0                     \n",
       "\n",
       "   What is the total number of ECE teachers?  \\\n",
       "0                                        NaN   \n",
       "1                                        1.0   \n",
       "2                                        1.0   \n",
       "3                                        7.0   \n",
       "4                                        4.0   \n",
       "\n",
       "   What is the total number of nursery teachers that are Males?  \\\n",
       "0                                                NaN              \n",
       "1                                                0.0              \n",
       "2                                                0.0              \n",
       "3                                                0.0              \n",
       "4                                                0.0              \n",
       "\n",
       "   What is the total number of nursery teachers that are Females?  \\\n",
       "0                                                NaN                \n",
       "1                                                1.0                \n",
       "2                                                0.0                \n",
       "3                                                7.0                \n",
       "4                                                0.0                \n",
       "\n",
       "   What is the total number of pre-kindergarten teachers that are Males?  \\\n",
       "0                                                NaN                       \n",
       "1                                                0.0                       \n",
       "2                                                0.0                       \n",
       "3                                                0.0                       \n",
       "4                                                0.0                       \n",
       "\n",
       "   What is the total number of pre-kindergarten teachers that are Females?  \\\n",
       "0                                                NaN                         \n",
       "1                                                0.0                         \n",
       "2                                                0.0                         \n",
       "3                                                7.0                         \n",
       "4                                                0.0                         \n",
       "\n",
       "   What is the total number of kindergarten teachers that are males?  \\\n",
       "0                                                NaN                   \n",
       "1                                                0.0                   \n",
       "2                                                0.0                   \n",
       "3                                                0.0                   \n",
       "4                                                0.0                   \n",
       "\n",
       "   What is the total number of kindergarten teachers that are females?  \\\n",
       "0                                                NaN                     \n",
       "1                                                1.0                     \n",
       "2                                                0.0                     \n",
       "3                                                7.0                     \n",
       "4                                                0.0                     \n",
       "\n",
       "   How many male students in nursery are repeaters  \\\n",
       "0                                              NaN   \n",
       "1                                              0.0   \n",
       "2                                              1.0   \n",
       "3                                              NaN   \n",
       "4                                              0.0   \n",
       "\n",
       "   How many female students in nursery are repeaters  \\\n",
       "0                                                NaN   \n",
       "1                                                0.0   \n",
       "2                                                0.0   \n",
       "3                                                NaN   \n",
       "4                                                0.0   \n",
       "\n",
       "   How many FEMALE students in Pre-Kindergarten are Repeaters?  \\\n",
       "0                                                NaN             \n",
       "1                                                0.0             \n",
       "2                                                0.0             \n",
       "3                                                NaN             \n",
       "4                                                0.0             \n",
       "\n",
       "   How many MALE students in Pre-Kindergarten are Repeaters?  \\\n",
       "0                                                NaN           \n",
       "1                                                0.0           \n",
       "2                                                0.0           \n",
       "3                                                NaN           \n",
       "4                                                0.0           \n",
       "\n",
       "   How many MALE students in Kindergarten are Repeaters?  \\\n",
       "0                                                NaN       \n",
       "1                                                3.0       \n",
       "2                                                1.0       \n",
       "3                                                NaN       \n",
       "4                                                0.0       \n",
       "\n",
       "   How many female students in Kindergarten are Repeaters?  \\\n",
       "0                                                NaN         \n",
       "1                                                6.0         \n",
       "2                                                2.0         \n",
       "3                                                NaN         \n",
       "4                                                0.0         \n",
       "\n",
       "   How many teachers are teaching only one grade at the ECE level that are MALES?  \\\n",
       "0                                                NaN                                \n",
       "1                                                1.0                                \n",
       "2                                                0.0                                \n",
       "3                                                NaN                                \n",
       "4                                                0.0                                \n",
       "\n",
       "   How many teachers are teaching only one grade at the ECE level that are FEMALES?  \\\n",
       "0                                                NaN                                  \n",
       "1                                                3.0                                  \n",
       "2                                                0.0                                  \n",
       "3                                                7.0                                  \n",
       "4                                                0.0                                  \n",
       "\n",
       "   How many MALE students in nursery are Visually impaired ?  \\\n",
       "0                                                NaN           \n",
       "1                                                0.0           \n",
       "2                                                NaN           \n",
       "3                                                NaN           \n",
       "4                                                0.0           \n",
       "\n",
       "   How many female students in Nursery are Visually impaired ?  \\\n",
       "0                                                NaN             \n",
       "1                                                0.0             \n",
       "2                                                NaN             \n",
       "3                                                NaN             \n",
       "4                                                0.0             \n",
       "\n",
       "   How many FEMALE students in Pre-Kindergarten are Visually impaired ?  \\\n",
       "0                                                NaN                      \n",
       "1                                                0.0                      \n",
       "2                                                NaN                      \n",
       "3                                                NaN                      \n",
       "4                                                0.0                      \n",
       "\n",
       "   How many MALE students in pre-Kindergarten are Visually impaired ?  \\\n",
       "0                                                NaN                    \n",
       "1                                                0.0                    \n",
       "2                                                NaN                    \n",
       "3                                                NaN                    \n",
       "4                                                0.0                    \n",
       "\n",
       "   How many FEMALE students in kindergarten are Visually impaired ?  \\\n",
       "0                                                NaN                  \n",
       "1                                                0.0                  \n",
       "2                                                NaN                  \n",
       "3                                                NaN                  \n",
       "4                                                0.0                  \n",
       "\n",
       "   How many MALE students in kindergarten are Visually impaired ?  \\\n",
       "0                                                NaN                \n",
       "1                                                0.0                \n",
       "2                                                NaN                \n",
       "3                                                NaN                \n",
       "4                                                0.0                \n",
       "\n",
       "   How many MALE students in  nursery have hearing impairment?  \\\n",
       "0                                                NaN             \n",
       "1                                                0.0             \n",
       "2                                                NaN             \n",
       "3                                                NaN             \n",
       "4                                                0.0             \n",
       "\n",
       "   How many FEMALE students in nursery have hearing impairment?  \\\n",
       "0                                                NaN              \n",
       "1                                                0.0              \n",
       "2                                                NaN              \n",
       "3                                                NaN              \n",
       "4                                                0.0              \n",
       "\n",
       "   How many FEMALE students in pre- kindergarten are hearing impairment?  \\\n",
       "0                                                NaN                       \n",
       "1                                                0.0                       \n",
       "2                                                NaN                       \n",
       "3                                                NaN                       \n",
       "4                                                0.0                       \n",
       "\n",
       "   How many MALE students in pre-kindergarten have hearing impairment?  \\\n",
       "0                                                NaN                     \n",
       "1                                                0.0                     \n",
       "2                                                NaN                     \n",
       "3                                                NaN                     \n",
       "4                                                0.0                     \n",
       "\n",
       "   How many MALE students in kindergarten have hearing impairment?  \\\n",
       "0                                                NaN                 \n",
       "1                                                0.0                 \n",
       "2                                                NaN                 \n",
       "3                                                NaN                 \n",
       "4                                                0.0                 \n",
       "\n",
       "   How many FEMALE students in  Kindergarten have hearing impairment?  \\\n",
       "0                                                NaN                    \n",
       "1                                                0.0                    \n",
       "2                                                NaN                    \n",
       "3                                                NaN                    \n",
       "4                                                0.0                    \n",
       "\n",
       "   How many MALE students in Nursery have other physical disabilities?  \\\n",
       "0                                                NaN                     \n",
       "1                                                0.0                     \n",
       "2                                                NaN                     \n",
       "3                                                NaN                     \n",
       "4                                                0.0                     \n",
       "\n",
       "   How many FEMALE students in Nursery have other physical disabilities ?  \\\n",
       "0                                                NaN                        \n",
       "1                                                0.0                        \n",
       "2                                                NaN                        \n",
       "3                                                NaN                        \n",
       "4                                                0.0                        \n",
       "\n",
       "   How many FEMALE students in  Pre-Kindergarten have other physical disabilities?  \\\n",
       "0                                                NaN                                 \n",
       "1                                                0.0                                 \n",
       "2                                                NaN                                 \n",
       "3                                                NaN                                 \n",
       "4                                                0.0                                 \n",
       "\n",
       "   How many MALE students in  Pre-Kindergarten have other physical disabilities?  \\\n",
       "0                                                NaN                               \n",
       "1                                                0.0                               \n",
       "2                                                NaN                               \n",
       "3                                                NaN                               \n",
       "4                                                0.0                               \n",
       "\n",
       "   How many MALE students in  Kindergarten have other physical disabilities?  \\\n",
       "0                                                NaN                           \n",
       "1                                                0.0                           \n",
       "2                                                NaN                           \n",
       "3                                                NaN                           \n",
       "4                                                0.0                           \n",
       "\n",
       "   How many FEMALE students in  Kindergarten have other physical disabilities?  \\\n",
       "0                                                NaN                             \n",
       "1                                                0.0                             \n",
       "2                                                NaN                             \n",
       "3                                                NaN                             \n",
       "4                                                0.0                             \n",
       "\n",
       "   How many MALE students in Nursery have other mental disability or learning difficulty?  \\\n",
       "0                                                NaN                                        \n",
       "1                                                0.0                                        \n",
       "2                                                NaN                                        \n",
       "3                                                NaN                                        \n",
       "4                                                0.0                                        \n",
       "\n",
       "   How many FEMALE students in Nursery have other mental disability or learning difficulty?  \\\n",
       "0                                                NaN                                          \n",
       "1                                                0.0                                          \n",
       "2                                                NaN                                          \n",
       "3                                                NaN                                          \n",
       "4                                                0.0                                          \n",
       "\n",
       "   How many MALE students in  Pre-Kindergarten have other mental disability or learning difficulty?  \\\n",
       "0                                                NaN                                                  \n",
       "1                                                0.0                                                  \n",
       "2                                                NaN                                                  \n",
       "3                                                NaN                                                  \n",
       "4                                                0.0                                                  \n",
       "\n",
       "   How many FEMALE students in  Pre-Kindergarten have other mental disability or learning difficulty?  \\\n",
       "0                                                NaN                                                    \n",
       "1                                                0.0                                                    \n",
       "2                                                NaN                                                    \n",
       "3                                                NaN                                                    \n",
       "4                                                0.0                                                    \n",
       "\n",
       "   How many MALE students in  Kindergarten have other mental disability or learning difficulty?  \\\n",
       "0                                                NaN                                              \n",
       "1                                                0.0                                              \n",
       "2                                                NaN                                              \n",
       "3                                                NaN                                              \n",
       "4                                                0.0                                              \n",
       "\n",
       "   How many FEMALE students in  Kindergarten have other mental disability or learning difficulty?  \\\n",
       "0                                                NaN                                                \n",
       "1                                                0.0                                                \n",
       "2                                                NaN                                                \n",
       "3                                                NaN                                                \n",
       "4                                                0.0                                                \n",
       "\n",
       "   How many MALE students below AGE 3 YEARS OLD are in Nursery?  \\\n",
       "0                                                NaN              \n",
       "1                                                0.0              \n",
       "2                                                0.0              \n",
       "3                                               12.0              \n",
       "4                                                5.0              \n",
       "\n",
       "   How many FEMALE students below AGE 3 YEARS OLD are in Nursery?  \\\n",
       "0                                                NaN                \n",
       "1                                                0.0                \n",
       "2                                                0.0                \n",
       "3                                               13.0                \n",
       "4                                               10.0                \n",
       "\n",
       "   How many MALE students below AGE 3 YEARS OLD are in Pre-kindergarten?  \\\n",
       "0                                                NaN                       \n",
       "1                                                0.0                       \n",
       "2                                                0.0                       \n",
       "3                                                NaN                       \n",
       "4                                                0.0                       \n",
       "\n",
       "   How many FEMALE students below AGE 3 YEARS OLD are in Pre-kindergarten?  \\\n",
       "0                                                NaN                         \n",
       "1                                                0.0                         \n",
       "2                                                0.0                         \n",
       "3                                                NaN                         \n",
       "4                                                0.0                         \n",
       "\n",
       "   How many MALE students below AGE 3 YEARS OLD are in Kindergarten?  \\\n",
       "0                                                NaN                   \n",
       "1                                                0.0                   \n",
       "2                                                0.0                   \n",
       "3                                                NaN                   \n",
       "4                                                0.0                   \n",
       "\n",
       "   How many FEMALE students below AGE 3 YEARS OLD are in Kindergarten?  \\\n",
       "0                                                NaN                     \n",
       "1                                                0.0                     \n",
       "2                                                0.0                     \n",
       "3                                                NaN                     \n",
       "4                                                0.0                     \n",
       "\n",
       "   How many MALE students AGE 3 YEARS OLD are in Nursery?  \\\n",
       "0                                                NaN        \n",
       "1                                                4.0        \n",
       "2                                                2.0        \n",
       "3                                                NaN        \n",
       "4                                                1.0        \n",
       "\n",
       "   How many MALE students AGE 4 YEARS OLD are in Nursery?  \\\n",
       "0                                                NaN        \n",
       "1                                                2.0        \n",
       "2                                                1.0        \n",
       "3                                                NaN        \n",
       "4                                                3.0        \n",
       "\n",
       "   How many MALE students AGE 5 YEARS OLD are in Nursery?  \\\n",
       "0                                                NaN        \n",
       "1                                                2.0        \n",
       "2                                                1.0        \n",
       "3                                                NaN        \n",
       "4                                                1.0        \n",
       "\n",
       "   How many MALE students AGE 6 YEARS OLD are in Nursery?  \\\n",
       "0                                                NaN        \n",
       "1                                                3.0        \n",
       "2                                                1.0        \n",
       "3                                                NaN        \n",
       "4                                                0.0        \n",
       "\n",
       "   How many MALE students AGE 7 YEARS OLD are in Nursery?  \\\n",
       "0                                                NaN        \n",
       "1                                                3.0        \n",
       "2                                                0.0        \n",
       "3                                                NaN        \n",
       "4                                                0.0        \n",
       "\n",
       "   How many MALE students AGE 8 YEARS OLD are in Nursery?  \\\n",
       "0                                                NaN        \n",
       "1                                                8.0        \n",
       "2                                                0.0        \n",
       "3                                                NaN        \n",
       "4                                                0.0        \n",
       "\n",
       "   How many MALE students Above AGE 8 YEARS OLD are in Nursery?  \\\n",
       "0                                                NaN              \n",
       "1                                               10.0              \n",
       "2                                                0.0              \n",
       "3                                                NaN              \n",
       "4                                                0.0              \n",
       "\n",
       "   How many FEMALE students  AGE 3 YEARS OLD are in Nursery?  \\\n",
       "0                                                NaN           \n",
       "1                                                2.0           \n",
       "2                                                0.0           \n",
       "3                                                NaN           \n",
       "4                                                2.0           \n",
       "\n",
       "   How many FEMALE students  AGE 4 YEARS OLD are in Nursery?  \\\n",
       "0                                                NaN           \n",
       "1                                                1.0           \n",
       "2                                                2.0           \n",
       "3                                                NaN           \n",
       "4                                                5.0           \n",
       "\n",
       "   How many FEMALE students  AGE 5 YEARS OLD are in Nursery?  \\\n",
       "0                                                NaN           \n",
       "1                                                3.0           \n",
       "2                                                1.0           \n",
       "3                                                NaN           \n",
       "4                                                0.0           \n",
       "\n",
       "   How many FEMALE students  AGE 6 YEARS OLD are in Nursery?  \\\n",
       "0                                                NaN           \n",
       "1                                                2.0           \n",
       "2                                                0.0           \n",
       "3                                                NaN           \n",
       "4                                                0.0           \n",
       "\n",
       "   How many FEMALE students  AGE 7 YEARS OLD are in Nursery?  \\\n",
       "0                                                NaN           \n",
       "1                                                4.0           \n",
       "2                                                0.0           \n",
       "3                                                NaN           \n",
       "4                                                0.0           \n",
       "\n",
       "   How many FEMALE students  AGE 8 YEARS OLD are in Nursery?  \\\n",
       "0                                                NaN           \n",
       "1                                                3.0           \n",
       "2                                                0.0           \n",
       "3                                                NaN           \n",
       "4                                                0.0           \n",
       "\n",
       "   How many FEMALE students  above AGE 8 YEARS OLD are in Nursery?  \\\n",
       "0                                                NaN                 \n",
       "1                                                5.0                 \n",
       "2                                                0.0                 \n",
       "3                                                NaN                 \n",
       "4                                                0.0                 \n",
       "\n",
       "   How many MALE students AGE 3 YEARS OLD are in Pre-Kindergarten?  \\\n",
       "0                                                NaN                 \n",
       "1                                                1.0                 \n",
       "2                                                1.0                 \n",
       "3                                               30.0                 \n",
       "4                                                4.0                 \n",
       "\n",
       "   How many MALE students AGE 4 YEARS OLD are in Pre-Kindergarten?  \\\n",
       "0                                                NaN                 \n",
       "1                                                2.0                 \n",
       "2                                                2.0                 \n",
       "3                                               20.0                 \n",
       "4                                                1.0                 \n",
       "\n",
       "   How many MALE students AGE 5 YEARS OLD are in Pre-Kindergarten?  \\\n",
       "0                                                NaN                 \n",
       "1                                                3.0                 \n",
       "2                                                0.0                 \n",
       "3                                                NaN                 \n",
       "4                                                3.0                 \n",
       "\n",
       "   How many MALE students AGE 6 YEARS OLD are in Pre-Kindergarten?  \\\n",
       "0                                                NaN                 \n",
       "1                                                2.0                 \n",
       "2                                                1.0                 \n",
       "3                                                NaN                 \n",
       "4                                                0.0                 \n",
       "\n",
       "   How many MALE students AGE 7 YEARS OLD are in Pre-Kindergarten?  \\\n",
       "0                                                NaN                 \n",
       "1                                                0.0                 \n",
       "2                                                0.0                 \n",
       "3                                                NaN                 \n",
       "4                                                0.0                 \n",
       "\n",
       "   How many MALE students AGE 8 YEARS OLD are in Pre-Kindergarten?  \\\n",
       "0                                                NaN                 \n",
       "1                                                2.0                 \n",
       "2                                                0.0                 \n",
       "3                                                NaN                 \n",
       "4                                                0.0                 \n",
       "\n",
       "   How many MALE students above AGE 8 YEARS OLD are in Pre-Kindergarten?  \\\n",
       "0                                                NaN                       \n",
       "1                                                2.0                       \n",
       "2                                                0.0                       \n",
       "3                                                NaN                       \n",
       "4                                                0.0                       \n",
       "\n",
       "   How many FEMALE students  AGE 3 YEARS OLD are in Pre-Kindergarten?  \\\n",
       "0                                                NaN                    \n",
       "1                                                0.0                    \n",
       "2                                                0.0                    \n",
       "3                                               20.0                    \n",
       "4                                                0.0                    \n",
       "\n",
       "   How many FEMALE students  AGE 4 YEARS OLD are in Pre-Kindergarten?  \\\n",
       "0                                                NaN                    \n",
       "1                                                2.0                    \n",
       "2                                                2.0                    \n",
       "3                                               14.0                    \n",
       "4                                                0.0                    \n",
       "\n",
       "   How many FEMALE students  AGE 5 YEARS OLD are in Pre-Kindergarten?  \\\n",
       "0                                                NaN                    \n",
       "1                                                2.0                    \n",
       "2                                                0.0                    \n",
       "3                                                NaN                    \n",
       "4                                                0.0                    \n",
       "\n",
       "   How many FEMALE students  AGE 6 YEARS OLD are in Pre-Kindergarten?  \\\n",
       "0                                                NaN                    \n",
       "1                                                4.0                    \n",
       "2                                                2.0                    \n",
       "3                                                NaN                    \n",
       "4                                                3.0                    \n",
       "\n",
       "   How many FEMALE students  AGE 7 YEARS OLD are in Pre-Kindergarten?  \\\n",
       "0                                                NaN                    \n",
       "1                                                5.0                    \n",
       "2                                                0.0                    \n",
       "3                                                NaN                    \n",
       "4                                                2.0                    \n",
       "\n",
       "   How many FEMALE students  AGE 8 YEARS OLD are in Pre-Kindergarten?  \\\n",
       "0                                                NaN                    \n",
       "1                                                2.0                    \n",
       "2                                                0.0                    \n",
       "3                                                NaN                    \n",
       "4                                                0.0                    \n",
       "\n",
       "   How many FEMALE students  above AGE 8 YEARS OLD are in Pre-Kindergarten?  \\\n",
       "0                                                NaN                          \n",
       "1                                                5.0                          \n",
       "2                                                0.0                          \n",
       "3                                                NaN                          \n",
       "4                                                0.0                          \n",
       "\n",
       "   How many MALE students AGE 3 YEARS OLD are in Kindergarten?  \\\n",
       "0                                                NaN             \n",
       "1                                                0.0             \n",
       "2                                                0.0             \n",
       "3                                                NaN             \n",
       "4                                                0.0             \n",
       "\n",
       "   How many MALE students AGE 4 YEARS OLD are in Kindergarten?  \\\n",
       "0                                                NaN             \n",
       "1                                                2.0             \n",
       "2                                                3.0             \n",
       "3                                                NaN             \n",
       "4                                                0.0             \n",
       "\n",
       "   How many FEMALE students  AGE 5 YEARS OLD are in Kindergarten?  \\\n",
       "0                                                NaN                \n",
       "1                                                1.0                \n",
       "2                                                1.0                \n",
       "3                                               10.0                \n",
       "4                                                0.0                \n",
       "\n",
       "   How many FEMALE students  AGE 6 YEARS OLD are in Kindergarten?  \\\n",
       "0                                                NaN                \n",
       "1                                                1.0                \n",
       "2                                                2.0                \n",
       "3                                                2.0                \n",
       "4                                               10.0                \n",
       "\n",
       "   How many FEMALE students  AGE 7 YEARS OLD are in Kindergarten?  \\\n",
       "0                                                NaN                \n",
       "1                                                5.0                \n",
       "2                                                0.0                \n",
       "3                                                NaN                \n",
       "4                                                5.0                \n",
       "\n",
       "   How many FEMALE students  AGE 8 YEARS OLD are in Kindergarten?  \\\n",
       "0                                                NaN                \n",
       "1                                                6.0                \n",
       "2                                                0.0                \n",
       "3                                                NaN                \n",
       "4                                                5.0                \n",
       "\n",
       "   How many FEMALE students  above AGE 8 YEARS OLD are in Kindergarten?  \\\n",
       "0                                                NaN                      \n",
       "1                                                2.0                      \n",
       "2                                                0.0                      \n",
       "3                                               10.0                      \n",
       "4                                                0.0                      \n",
       "\n",
       "   What is total intake in Nursery?  \\\n",
       "0                               NaN   \n",
       "1                              52.0   \n",
       "2                               8.0   \n",
       "3                              25.0   \n",
       "4                               NaN   \n",
       "\n",
       "   What is total intake in Pre-Kindergarten?  \\\n",
       "0                                        NaN   \n",
       "1                                       32.0   \n",
       "2                                        8.0   \n",
       "3                                       84.0   \n",
       "4                                        NaN   \n",
       "\n",
       "   What is total intake in Kindergarten?  \n",
       "0                                    NaN  \n",
       "1                                   28.0  \n",
       "2                                   15.0  \n",
       "3                                   30.0  \n",
       "4                                    NaN  "
      ]
     },
     "execution_count": 4,
     "metadata": {},
     "output_type": "execute_result"
    }
   ],
   "source": [
    "kece_student =kcensus.iloc[:,51:141]\n",
    "kece_student.head()"
   ]
  },
  {
   "cell_type": "code",
   "execution_count": 5,
   "id": "fc3e91d5-8f6b-4ae4-8dc0-521bf277b80c",
   "metadata": {},
   "outputs": [
    {
     "data": {
      "text/html": [
       "<div>\n",
       "<style scoped>\n",
       "    .dataframe tbody tr th:only-of-type {\n",
       "        vertical-align: middle;\n",
       "    }\n",
       "\n",
       "    .dataframe tbody tr th {\n",
       "        vertical-align: top;\n",
       "    }\n",
       "\n",
       "    .dataframe thead th {\n",
       "        text-align: right;\n",
       "    }\n",
       "</style>\n",
       "<table border=\"1\" class=\"dataframe\">\n",
       "  <thead>\n",
       "    <tr style=\"text-align: right;\">\n",
       "      <th></th>\n",
       "      <th>How many MALE students below AGE 3 YEARS OLD are in Nursery?</th>\n",
       "      <th>How many FEMALE students below AGE 3 YEARS OLD are in Nursery?</th>\n",
       "      <th>How many MALE students below AGE 3 YEARS OLD are in Pre-kindergarten?</th>\n",
       "      <th>How many FEMALE students below AGE 3 YEARS OLD are in Pre-kindergarten?</th>\n",
       "      <th>How many MALE students below AGE 3 YEARS OLD are in Kindergarten?</th>\n",
       "      <th>How many FEMALE students below AGE 3 YEARS OLD are in Kindergarten?</th>\n",
       "      <th>How many MALE students AGE 3 YEARS OLD are in Nursery?</th>\n",
       "      <th>How many MALE students AGE 4 YEARS OLD are in Nursery?</th>\n",
       "      <th>How many MALE students AGE 5 YEARS OLD are in Nursery?</th>\n",
       "      <th>How many MALE students AGE 6 YEARS OLD are in Nursery?</th>\n",
       "      <th>How many MALE students AGE 7 YEARS OLD are in Nursery?</th>\n",
       "      <th>How many MALE students AGE 8 YEARS OLD are in Nursery?</th>\n",
       "      <th>How many MALE students Above AGE 8 YEARS OLD are in Nursery?</th>\n",
       "      <th>How many FEMALE students  AGE 3 YEARS OLD are in Nursery?</th>\n",
       "      <th>How many FEMALE students  AGE 4 YEARS OLD are in Nursery?</th>\n",
       "      <th>How many FEMALE students  AGE 5 YEARS OLD are in Nursery?</th>\n",
       "      <th>How many FEMALE students  AGE 6 YEARS OLD are in Nursery?</th>\n",
       "      <th>How many FEMALE students  AGE 7 YEARS OLD are in Nursery?</th>\n",
       "      <th>How many FEMALE students  AGE 8 YEARS OLD are in Nursery?</th>\n",
       "      <th>How many FEMALE students  above AGE 8 YEARS OLD are in Nursery?</th>\n",
       "      <th>How many MALE students AGE 3 YEARS OLD are in Pre-Kindergarten?</th>\n",
       "      <th>How many MALE students AGE 4 YEARS OLD are in Pre-Kindergarten?</th>\n",
       "      <th>How many MALE students AGE 5 YEARS OLD are in Pre-Kindergarten?</th>\n",
       "      <th>How many MALE students AGE 6 YEARS OLD are in Pre-Kindergarten?</th>\n",
       "      <th>How many MALE students AGE 7 YEARS OLD are in Pre-Kindergarten?</th>\n",
       "      <th>How many MALE students AGE 8 YEARS OLD are in Pre-Kindergarten?</th>\n",
       "      <th>How many MALE students above AGE 8 YEARS OLD are in Pre-Kindergarten?</th>\n",
       "      <th>How many FEMALE students  AGE 3 YEARS OLD are in Pre-Kindergarten?</th>\n",
       "      <th>How many FEMALE students  AGE 4 YEARS OLD are in Pre-Kindergarten?</th>\n",
       "      <th>How many FEMALE students  AGE 5 YEARS OLD are in Pre-Kindergarten?</th>\n",
       "      <th>How many FEMALE students  AGE 6 YEARS OLD are in Pre-Kindergarten?</th>\n",
       "      <th>How many FEMALE students  AGE 7 YEARS OLD are in Pre-Kindergarten?</th>\n",
       "      <th>How many FEMALE students  AGE 8 YEARS OLD are in Pre-Kindergarten?</th>\n",
       "      <th>How many FEMALE students  above AGE 8 YEARS OLD are in Pre-Kindergarten?</th>\n",
       "      <th>How many MALE students AGE 3 YEARS OLD are in Kindergarten?</th>\n",
       "      <th>How many MALE students AGE 4 YEARS OLD are in Kindergarten?</th>\n",
       "      <th>How many FEMALE students  AGE 5 YEARS OLD are in Kindergarten?</th>\n",
       "      <th>How many FEMALE students  AGE 6 YEARS OLD are in Kindergarten?</th>\n",
       "      <th>How many FEMALE students  AGE 7 YEARS OLD are in Kindergarten?</th>\n",
       "      <th>How many FEMALE students  AGE 8 YEARS OLD are in Kindergarten?</th>\n",
       "      <th>How many FEMALE students  above AGE 8 YEARS OLD are in Kindergarten?</th>\n",
       "    </tr>\n",
       "  </thead>\n",
       "  <tbody>\n",
       "    <tr>\n",
       "      <th>0</th>\n",
       "      <td>NaN</td>\n",
       "      <td>NaN</td>\n",
       "      <td>NaN</td>\n",
       "      <td>NaN</td>\n",
       "      <td>NaN</td>\n",
       "      <td>NaN</td>\n",
       "      <td>NaN</td>\n",
       "      <td>NaN</td>\n",
       "      <td>NaN</td>\n",
       "      <td>NaN</td>\n",
       "      <td>NaN</td>\n",
       "      <td>NaN</td>\n",
       "      <td>NaN</td>\n",
       "      <td>NaN</td>\n",
       "      <td>NaN</td>\n",
       "      <td>NaN</td>\n",
       "      <td>NaN</td>\n",
       "      <td>NaN</td>\n",
       "      <td>NaN</td>\n",
       "      <td>NaN</td>\n",
       "      <td>NaN</td>\n",
       "      <td>NaN</td>\n",
       "      <td>NaN</td>\n",
       "      <td>NaN</td>\n",
       "      <td>NaN</td>\n",
       "      <td>NaN</td>\n",
       "      <td>NaN</td>\n",
       "      <td>NaN</td>\n",
       "      <td>NaN</td>\n",
       "      <td>NaN</td>\n",
       "      <td>NaN</td>\n",
       "      <td>NaN</td>\n",
       "      <td>NaN</td>\n",
       "      <td>NaN</td>\n",
       "      <td>NaN</td>\n",
       "      <td>NaN</td>\n",
       "      <td>NaN</td>\n",
       "      <td>NaN</td>\n",
       "      <td>NaN</td>\n",
       "      <td>NaN</td>\n",
       "      <td>NaN</td>\n",
       "    </tr>\n",
       "    <tr>\n",
       "      <th>1</th>\n",
       "      <td>0.0</td>\n",
       "      <td>0.0</td>\n",
       "      <td>0.0</td>\n",
       "      <td>0.0</td>\n",
       "      <td>0.0</td>\n",
       "      <td>0.0</td>\n",
       "      <td>4.0</td>\n",
       "      <td>2.0</td>\n",
       "      <td>2.0</td>\n",
       "      <td>3.0</td>\n",
       "      <td>3.0</td>\n",
       "      <td>8.0</td>\n",
       "      <td>10.0</td>\n",
       "      <td>2.0</td>\n",
       "      <td>1.0</td>\n",
       "      <td>3.0</td>\n",
       "      <td>2.0</td>\n",
       "      <td>4.0</td>\n",
       "      <td>3.0</td>\n",
       "      <td>5.0</td>\n",
       "      <td>1.0</td>\n",
       "      <td>2.0</td>\n",
       "      <td>3.0</td>\n",
       "      <td>2.0</td>\n",
       "      <td>0.0</td>\n",
       "      <td>2.0</td>\n",
       "      <td>2.0</td>\n",
       "      <td>0.0</td>\n",
       "      <td>2.0</td>\n",
       "      <td>2.0</td>\n",
       "      <td>4.0</td>\n",
       "      <td>5.0</td>\n",
       "      <td>2.0</td>\n",
       "      <td>5.0</td>\n",
       "      <td>0.0</td>\n",
       "      <td>2.0</td>\n",
       "      <td>1.0</td>\n",
       "      <td>1.0</td>\n",
       "      <td>5.0</td>\n",
       "      <td>6.0</td>\n",
       "      <td>2.0</td>\n",
       "    </tr>\n",
       "    <tr>\n",
       "      <th>2</th>\n",
       "      <td>0.0</td>\n",
       "      <td>0.0</td>\n",
       "      <td>0.0</td>\n",
       "      <td>0.0</td>\n",
       "      <td>0.0</td>\n",
       "      <td>0.0</td>\n",
       "      <td>2.0</td>\n",
       "      <td>1.0</td>\n",
       "      <td>1.0</td>\n",
       "      <td>1.0</td>\n",
       "      <td>0.0</td>\n",
       "      <td>0.0</td>\n",
       "      <td>0.0</td>\n",
       "      <td>0.0</td>\n",
       "      <td>2.0</td>\n",
       "      <td>1.0</td>\n",
       "      <td>0.0</td>\n",
       "      <td>0.0</td>\n",
       "      <td>0.0</td>\n",
       "      <td>0.0</td>\n",
       "      <td>1.0</td>\n",
       "      <td>2.0</td>\n",
       "      <td>0.0</td>\n",
       "      <td>1.0</td>\n",
       "      <td>0.0</td>\n",
       "      <td>0.0</td>\n",
       "      <td>0.0</td>\n",
       "      <td>0.0</td>\n",
       "      <td>2.0</td>\n",
       "      <td>0.0</td>\n",
       "      <td>2.0</td>\n",
       "      <td>0.0</td>\n",
       "      <td>0.0</td>\n",
       "      <td>0.0</td>\n",
       "      <td>0.0</td>\n",
       "      <td>3.0</td>\n",
       "      <td>1.0</td>\n",
       "      <td>2.0</td>\n",
       "      <td>0.0</td>\n",
       "      <td>0.0</td>\n",
       "      <td>0.0</td>\n",
       "    </tr>\n",
       "    <tr>\n",
       "      <th>3</th>\n",
       "      <td>12.0</td>\n",
       "      <td>13.0</td>\n",
       "      <td>NaN</td>\n",
       "      <td>NaN</td>\n",
       "      <td>NaN</td>\n",
       "      <td>NaN</td>\n",
       "      <td>NaN</td>\n",
       "      <td>NaN</td>\n",
       "      <td>NaN</td>\n",
       "      <td>NaN</td>\n",
       "      <td>NaN</td>\n",
       "      <td>NaN</td>\n",
       "      <td>NaN</td>\n",
       "      <td>NaN</td>\n",
       "      <td>NaN</td>\n",
       "      <td>NaN</td>\n",
       "      <td>NaN</td>\n",
       "      <td>NaN</td>\n",
       "      <td>NaN</td>\n",
       "      <td>NaN</td>\n",
       "      <td>30.0</td>\n",
       "      <td>20.0</td>\n",
       "      <td>NaN</td>\n",
       "      <td>NaN</td>\n",
       "      <td>NaN</td>\n",
       "      <td>NaN</td>\n",
       "      <td>NaN</td>\n",
       "      <td>20.0</td>\n",
       "      <td>14.0</td>\n",
       "      <td>NaN</td>\n",
       "      <td>NaN</td>\n",
       "      <td>NaN</td>\n",
       "      <td>NaN</td>\n",
       "      <td>NaN</td>\n",
       "      <td>NaN</td>\n",
       "      <td>NaN</td>\n",
       "      <td>10.0</td>\n",
       "      <td>2.0</td>\n",
       "      <td>NaN</td>\n",
       "      <td>NaN</td>\n",
       "      <td>10.0</td>\n",
       "    </tr>\n",
       "    <tr>\n",
       "      <th>4</th>\n",
       "      <td>5.0</td>\n",
       "      <td>10.0</td>\n",
       "      <td>0.0</td>\n",
       "      <td>0.0</td>\n",
       "      <td>0.0</td>\n",
       "      <td>0.0</td>\n",
       "      <td>1.0</td>\n",
       "      <td>3.0</td>\n",
       "      <td>1.0</td>\n",
       "      <td>0.0</td>\n",
       "      <td>0.0</td>\n",
       "      <td>0.0</td>\n",
       "      <td>0.0</td>\n",
       "      <td>2.0</td>\n",
       "      <td>5.0</td>\n",
       "      <td>0.0</td>\n",
       "      <td>0.0</td>\n",
       "      <td>0.0</td>\n",
       "      <td>0.0</td>\n",
       "      <td>0.0</td>\n",
       "      <td>4.0</td>\n",
       "      <td>1.0</td>\n",
       "      <td>3.0</td>\n",
       "      <td>0.0</td>\n",
       "      <td>0.0</td>\n",
       "      <td>0.0</td>\n",
       "      <td>0.0</td>\n",
       "      <td>0.0</td>\n",
       "      <td>0.0</td>\n",
       "      <td>0.0</td>\n",
       "      <td>3.0</td>\n",
       "      <td>2.0</td>\n",
       "      <td>0.0</td>\n",
       "      <td>0.0</td>\n",
       "      <td>0.0</td>\n",
       "      <td>0.0</td>\n",
       "      <td>0.0</td>\n",
       "      <td>10.0</td>\n",
       "      <td>5.0</td>\n",
       "      <td>5.0</td>\n",
       "      <td>0.0</td>\n",
       "    </tr>\n",
       "  </tbody>\n",
       "</table>\n",
       "</div>"
      ],
      "text/plain": [
       "   How many MALE students below AGE 3 YEARS OLD are in Nursery?  \\\n",
       "0                                                NaN              \n",
       "1                                                0.0              \n",
       "2                                                0.0              \n",
       "3                                               12.0              \n",
       "4                                                5.0              \n",
       "\n",
       "   How many FEMALE students below AGE 3 YEARS OLD are in Nursery?  \\\n",
       "0                                                NaN                \n",
       "1                                                0.0                \n",
       "2                                                0.0                \n",
       "3                                               13.0                \n",
       "4                                               10.0                \n",
       "\n",
       "   How many MALE students below AGE 3 YEARS OLD are in Pre-kindergarten?  \\\n",
       "0                                                NaN                       \n",
       "1                                                0.0                       \n",
       "2                                                0.0                       \n",
       "3                                                NaN                       \n",
       "4                                                0.0                       \n",
       "\n",
       "   How many FEMALE students below AGE 3 YEARS OLD are in Pre-kindergarten?  \\\n",
       "0                                                NaN                         \n",
       "1                                                0.0                         \n",
       "2                                                0.0                         \n",
       "3                                                NaN                         \n",
       "4                                                0.0                         \n",
       "\n",
       "   How many MALE students below AGE 3 YEARS OLD are in Kindergarten?  \\\n",
       "0                                                NaN                   \n",
       "1                                                0.0                   \n",
       "2                                                0.0                   \n",
       "3                                                NaN                   \n",
       "4                                                0.0                   \n",
       "\n",
       "   How many FEMALE students below AGE 3 YEARS OLD are in Kindergarten?  \\\n",
       "0                                                NaN                     \n",
       "1                                                0.0                     \n",
       "2                                                0.0                     \n",
       "3                                                NaN                     \n",
       "4                                                0.0                     \n",
       "\n",
       "   How many MALE students AGE 3 YEARS OLD are in Nursery?  \\\n",
       "0                                                NaN        \n",
       "1                                                4.0        \n",
       "2                                                2.0        \n",
       "3                                                NaN        \n",
       "4                                                1.0        \n",
       "\n",
       "   How many MALE students AGE 4 YEARS OLD are in Nursery?  \\\n",
       "0                                                NaN        \n",
       "1                                                2.0        \n",
       "2                                                1.0        \n",
       "3                                                NaN        \n",
       "4                                                3.0        \n",
       "\n",
       "   How many MALE students AGE 5 YEARS OLD are in Nursery?  \\\n",
       "0                                                NaN        \n",
       "1                                                2.0        \n",
       "2                                                1.0        \n",
       "3                                                NaN        \n",
       "4                                                1.0        \n",
       "\n",
       "   How many MALE students AGE 6 YEARS OLD are in Nursery?  \\\n",
       "0                                                NaN        \n",
       "1                                                3.0        \n",
       "2                                                1.0        \n",
       "3                                                NaN        \n",
       "4                                                0.0        \n",
       "\n",
       "   How many MALE students AGE 7 YEARS OLD are in Nursery?  \\\n",
       "0                                                NaN        \n",
       "1                                                3.0        \n",
       "2                                                0.0        \n",
       "3                                                NaN        \n",
       "4                                                0.0        \n",
       "\n",
       "   How many MALE students AGE 8 YEARS OLD are in Nursery?  \\\n",
       "0                                                NaN        \n",
       "1                                                8.0        \n",
       "2                                                0.0        \n",
       "3                                                NaN        \n",
       "4                                                0.0        \n",
       "\n",
       "   How many MALE students Above AGE 8 YEARS OLD are in Nursery?  \\\n",
       "0                                                NaN              \n",
       "1                                               10.0              \n",
       "2                                                0.0              \n",
       "3                                                NaN              \n",
       "4                                                0.0              \n",
       "\n",
       "   How many FEMALE students  AGE 3 YEARS OLD are in Nursery?  \\\n",
       "0                                                NaN           \n",
       "1                                                2.0           \n",
       "2                                                0.0           \n",
       "3                                                NaN           \n",
       "4                                                2.0           \n",
       "\n",
       "   How many FEMALE students  AGE 4 YEARS OLD are in Nursery?  \\\n",
       "0                                                NaN           \n",
       "1                                                1.0           \n",
       "2                                                2.0           \n",
       "3                                                NaN           \n",
       "4                                                5.0           \n",
       "\n",
       "   How many FEMALE students  AGE 5 YEARS OLD are in Nursery?  \\\n",
       "0                                                NaN           \n",
       "1                                                3.0           \n",
       "2                                                1.0           \n",
       "3                                                NaN           \n",
       "4                                                0.0           \n",
       "\n",
       "   How many FEMALE students  AGE 6 YEARS OLD are in Nursery?  \\\n",
       "0                                                NaN           \n",
       "1                                                2.0           \n",
       "2                                                0.0           \n",
       "3                                                NaN           \n",
       "4                                                0.0           \n",
       "\n",
       "   How many FEMALE students  AGE 7 YEARS OLD are in Nursery?  \\\n",
       "0                                                NaN           \n",
       "1                                                4.0           \n",
       "2                                                0.0           \n",
       "3                                                NaN           \n",
       "4                                                0.0           \n",
       "\n",
       "   How many FEMALE students  AGE 8 YEARS OLD are in Nursery?  \\\n",
       "0                                                NaN           \n",
       "1                                                3.0           \n",
       "2                                                0.0           \n",
       "3                                                NaN           \n",
       "4                                                0.0           \n",
       "\n",
       "   How many FEMALE students  above AGE 8 YEARS OLD are in Nursery?  \\\n",
       "0                                                NaN                 \n",
       "1                                                5.0                 \n",
       "2                                                0.0                 \n",
       "3                                                NaN                 \n",
       "4                                                0.0                 \n",
       "\n",
       "   How many MALE students AGE 3 YEARS OLD are in Pre-Kindergarten?  \\\n",
       "0                                                NaN                 \n",
       "1                                                1.0                 \n",
       "2                                                1.0                 \n",
       "3                                               30.0                 \n",
       "4                                                4.0                 \n",
       "\n",
       "   How many MALE students AGE 4 YEARS OLD are in Pre-Kindergarten?  \\\n",
       "0                                                NaN                 \n",
       "1                                                2.0                 \n",
       "2                                                2.0                 \n",
       "3                                               20.0                 \n",
       "4                                                1.0                 \n",
       "\n",
       "   How many MALE students AGE 5 YEARS OLD are in Pre-Kindergarten?  \\\n",
       "0                                                NaN                 \n",
       "1                                                3.0                 \n",
       "2                                                0.0                 \n",
       "3                                                NaN                 \n",
       "4                                                3.0                 \n",
       "\n",
       "   How many MALE students AGE 6 YEARS OLD are in Pre-Kindergarten?  \\\n",
       "0                                                NaN                 \n",
       "1                                                2.0                 \n",
       "2                                                1.0                 \n",
       "3                                                NaN                 \n",
       "4                                                0.0                 \n",
       "\n",
       "   How many MALE students AGE 7 YEARS OLD are in Pre-Kindergarten?  \\\n",
       "0                                                NaN                 \n",
       "1                                                0.0                 \n",
       "2                                                0.0                 \n",
       "3                                                NaN                 \n",
       "4                                                0.0                 \n",
       "\n",
       "   How many MALE students AGE 8 YEARS OLD are in Pre-Kindergarten?  \\\n",
       "0                                                NaN                 \n",
       "1                                                2.0                 \n",
       "2                                                0.0                 \n",
       "3                                                NaN                 \n",
       "4                                                0.0                 \n",
       "\n",
       "   How many MALE students above AGE 8 YEARS OLD are in Pre-Kindergarten?  \\\n",
       "0                                                NaN                       \n",
       "1                                                2.0                       \n",
       "2                                                0.0                       \n",
       "3                                                NaN                       \n",
       "4                                                0.0                       \n",
       "\n",
       "   How many FEMALE students  AGE 3 YEARS OLD are in Pre-Kindergarten?  \\\n",
       "0                                                NaN                    \n",
       "1                                                0.0                    \n",
       "2                                                0.0                    \n",
       "3                                               20.0                    \n",
       "4                                                0.0                    \n",
       "\n",
       "   How many FEMALE students  AGE 4 YEARS OLD are in Pre-Kindergarten?  \\\n",
       "0                                                NaN                    \n",
       "1                                                2.0                    \n",
       "2                                                2.0                    \n",
       "3                                               14.0                    \n",
       "4                                                0.0                    \n",
       "\n",
       "   How many FEMALE students  AGE 5 YEARS OLD are in Pre-Kindergarten?  \\\n",
       "0                                                NaN                    \n",
       "1                                                2.0                    \n",
       "2                                                0.0                    \n",
       "3                                                NaN                    \n",
       "4                                                0.0                    \n",
       "\n",
       "   How many FEMALE students  AGE 6 YEARS OLD are in Pre-Kindergarten?  \\\n",
       "0                                                NaN                    \n",
       "1                                                4.0                    \n",
       "2                                                2.0                    \n",
       "3                                                NaN                    \n",
       "4                                                3.0                    \n",
       "\n",
       "   How many FEMALE students  AGE 7 YEARS OLD are in Pre-Kindergarten?  \\\n",
       "0                                                NaN                    \n",
       "1                                                5.0                    \n",
       "2                                                0.0                    \n",
       "3                                                NaN                    \n",
       "4                                                2.0                    \n",
       "\n",
       "   How many FEMALE students  AGE 8 YEARS OLD are in Pre-Kindergarten?  \\\n",
       "0                                                NaN                    \n",
       "1                                                2.0                    \n",
       "2                                                0.0                    \n",
       "3                                                NaN                    \n",
       "4                                                0.0                    \n",
       "\n",
       "   How many FEMALE students  above AGE 8 YEARS OLD are in Pre-Kindergarten?  \\\n",
       "0                                                NaN                          \n",
       "1                                                5.0                          \n",
       "2                                                0.0                          \n",
       "3                                                NaN                          \n",
       "4                                                0.0                          \n",
       "\n",
       "   How many MALE students AGE 3 YEARS OLD are in Kindergarten?  \\\n",
       "0                                                NaN             \n",
       "1                                                0.0             \n",
       "2                                                0.0             \n",
       "3                                                NaN             \n",
       "4                                                0.0             \n",
       "\n",
       "   How many MALE students AGE 4 YEARS OLD are in Kindergarten?  \\\n",
       "0                                                NaN             \n",
       "1                                                2.0             \n",
       "2                                                3.0             \n",
       "3                                                NaN             \n",
       "4                                                0.0             \n",
       "\n",
       "   How many FEMALE students  AGE 5 YEARS OLD are in Kindergarten?  \\\n",
       "0                                                NaN                \n",
       "1                                                1.0                \n",
       "2                                                1.0                \n",
       "3                                               10.0                \n",
       "4                                                0.0                \n",
       "\n",
       "   How many FEMALE students  AGE 6 YEARS OLD are in Kindergarten?  \\\n",
       "0                                                NaN                \n",
       "1                                                1.0                \n",
       "2                                                2.0                \n",
       "3                                                2.0                \n",
       "4                                               10.0                \n",
       "\n",
       "   How many FEMALE students  AGE 7 YEARS OLD are in Kindergarten?  \\\n",
       "0                                                NaN                \n",
       "1                                                5.0                \n",
       "2                                                0.0                \n",
       "3                                                NaN                \n",
       "4                                                5.0                \n",
       "\n",
       "   How many FEMALE students  AGE 8 YEARS OLD are in Kindergarten?  \\\n",
       "0                                                NaN                \n",
       "1                                                6.0                \n",
       "2                                                0.0                \n",
       "3                                                NaN                \n",
       "4                                                5.0                \n",
       "\n",
       "   How many FEMALE students  above AGE 8 YEARS OLD are in Kindergarten?  \n",
       "0                                                NaN                     \n",
       "1                                                2.0                     \n",
       "2                                                0.0                     \n",
       "3                                               10.0                     \n",
       "4                                                0.0                     "
      ]
     },
     "execution_count": 5,
     "metadata": {},
     "output_type": "execute_result"
    }
   ],
   "source": [
    "kece_age = kece_student.iloc[:,46:87]\n",
    "kece_age.head()"
   ]
  },
  {
   "cell_type": "code",
   "execution_count": 6,
   "id": "7785f36e-b5bf-4e01-a967-d4243845ee8f",
   "metadata": {},
   "outputs": [],
   "source": [
    "kece_student_dic = pd.Series(kece_student.columns)\n",
    "kece_student_dic.to_csv('kece_student_dic.csv', index = False)"
   ]
  },
  {
   "cell_type": "code",
   "execution_count": null,
   "id": "38635bdf-9ff4-4f86-b598-46695f5cbc47",
   "metadata": {},
   "outputs": [],
   "source": []
  },
  {
   "cell_type": "markdown",
   "id": "46740754-f674-4c8d-ad73-2229ce4b8c2b",
   "metadata": {},
   "source": [
    "# Table 1: ECE Enrollment by Ownership and Gender"
   ]
  },
  {
   "cell_type": "code",
   "execution_count": 7,
   "id": "11acd7fa-4790-4750-b1e3-451e090a6a04",
   "metadata": {},
   "outputs": [
    {
     "data": {
      "text/html": [
       "<div>\n",
       "<style scoped>\n",
       "    .dataframe tbody tr th:only-of-type {\n",
       "        vertical-align: middle;\n",
       "    }\n",
       "\n",
       "    .dataframe tbody tr th {\n",
       "        vertical-align: top;\n",
       "    }\n",
       "\n",
       "    .dataframe thead th {\n",
       "        text-align: right;\n",
       "    }\n",
       "</style>\n",
       "<table border=\"1\" class=\"dataframe\">\n",
       "  <thead>\n",
       "    <tr style=\"text-align: right;\">\n",
       "      <th></th>\n",
       "      <th>How many MALE students below AGE 3 YEARS OLD are in Nursery?</th>\n",
       "      <th>How many FEMALE students below AGE 3 YEARS OLD are in Nursery?</th>\n",
       "      <th>How many MALE students below AGE 3 YEARS OLD are in Pre-kindergarten?</th>\n",
       "      <th>How many FEMALE students below AGE 3 YEARS OLD are in Pre-kindergarten?</th>\n",
       "      <th>How many MALE students below AGE 3 YEARS OLD are in Kindergarten?</th>\n",
       "      <th>How many FEMALE students below AGE 3 YEARS OLD are in Kindergarten?</th>\n",
       "      <th>How many MALE students AGE 3 YEARS OLD are in Nursery?</th>\n",
       "      <th>How many MALE students AGE 4 YEARS OLD are in Nursery?</th>\n",
       "      <th>How many MALE students AGE 5 YEARS OLD are in Nursery?</th>\n",
       "      <th>How many MALE students AGE 6 YEARS OLD are in Nursery?</th>\n",
       "      <th>How many MALE students AGE 7 YEARS OLD are in Nursery?</th>\n",
       "      <th>How many MALE students AGE 8 YEARS OLD are in Nursery?</th>\n",
       "      <th>How many MALE students Above AGE 8 YEARS OLD are in Nursery?</th>\n",
       "      <th>How many FEMALE students  AGE 3 YEARS OLD are in Nursery?</th>\n",
       "      <th>How many FEMALE students  AGE 4 YEARS OLD are in Nursery?</th>\n",
       "      <th>How many FEMALE students  AGE 5 YEARS OLD are in Nursery?</th>\n",
       "      <th>How many FEMALE students  AGE 6 YEARS OLD are in Nursery?</th>\n",
       "      <th>How many FEMALE students  AGE 7 YEARS OLD are in Nursery?</th>\n",
       "      <th>How many FEMALE students  AGE 8 YEARS OLD are in Nursery?</th>\n",
       "      <th>How many FEMALE students  above AGE 8 YEARS OLD are in Nursery?</th>\n",
       "      <th>How many MALE students AGE 3 YEARS OLD are in Pre-Kindergarten?</th>\n",
       "      <th>How many MALE students AGE 4 YEARS OLD are in Pre-Kindergarten?</th>\n",
       "      <th>How many MALE students AGE 5 YEARS OLD are in Pre-Kindergarten?</th>\n",
       "      <th>How many MALE students AGE 6 YEARS OLD are in Pre-Kindergarten?</th>\n",
       "      <th>How many MALE students AGE 7 YEARS OLD are in Pre-Kindergarten?</th>\n",
       "      <th>How many MALE students AGE 8 YEARS OLD are in Pre-Kindergarten?</th>\n",
       "      <th>How many MALE students above AGE 8 YEARS OLD are in Pre-Kindergarten?</th>\n",
       "      <th>How many FEMALE students  AGE 3 YEARS OLD are in Pre-Kindergarten?</th>\n",
       "      <th>How many FEMALE students  AGE 4 YEARS OLD are in Pre-Kindergarten?</th>\n",
       "      <th>How many FEMALE students  AGE 5 YEARS OLD are in Pre-Kindergarten?</th>\n",
       "      <th>How many FEMALE students  AGE 6 YEARS OLD are in Pre-Kindergarten?</th>\n",
       "      <th>How many FEMALE students  AGE 7 YEARS OLD are in Pre-Kindergarten?</th>\n",
       "      <th>How many FEMALE students  AGE 8 YEARS OLD are in Pre-Kindergarten?</th>\n",
       "      <th>How many FEMALE students  above AGE 8 YEARS OLD are in Pre-Kindergarten?</th>\n",
       "      <th>How many MALE students AGE 3 YEARS OLD are in Kindergarten?</th>\n",
       "      <th>How many MALE students AGE 4 YEARS OLD are in Kindergarten?</th>\n",
       "      <th>How many FEMALE students  AGE 5 YEARS OLD are in Kindergarten?</th>\n",
       "      <th>How many FEMALE students  AGE 6 YEARS OLD are in Kindergarten?</th>\n",
       "      <th>How many FEMALE students  AGE 7 YEARS OLD are in Kindergarten?</th>\n",
       "      <th>How many FEMALE students  AGE 8 YEARS OLD are in Kindergarten?</th>\n",
       "      <th>How many FEMALE students  above AGE 8 YEARS OLD are in Kindergarten?</th>\n",
       "    </tr>\n",
       "  </thead>\n",
       "  <tbody>\n",
       "    <tr>\n",
       "      <th>0</th>\n",
       "      <td>NaN</td>\n",
       "      <td>NaN</td>\n",
       "      <td>NaN</td>\n",
       "      <td>NaN</td>\n",
       "      <td>NaN</td>\n",
       "      <td>NaN</td>\n",
       "      <td>NaN</td>\n",
       "      <td>NaN</td>\n",
       "      <td>NaN</td>\n",
       "      <td>NaN</td>\n",
       "      <td>NaN</td>\n",
       "      <td>NaN</td>\n",
       "      <td>NaN</td>\n",
       "      <td>NaN</td>\n",
       "      <td>NaN</td>\n",
       "      <td>NaN</td>\n",
       "      <td>NaN</td>\n",
       "      <td>NaN</td>\n",
       "      <td>NaN</td>\n",
       "      <td>NaN</td>\n",
       "      <td>NaN</td>\n",
       "      <td>NaN</td>\n",
       "      <td>NaN</td>\n",
       "      <td>NaN</td>\n",
       "      <td>NaN</td>\n",
       "      <td>NaN</td>\n",
       "      <td>NaN</td>\n",
       "      <td>NaN</td>\n",
       "      <td>NaN</td>\n",
       "      <td>NaN</td>\n",
       "      <td>NaN</td>\n",
       "      <td>NaN</td>\n",
       "      <td>NaN</td>\n",
       "      <td>NaN</td>\n",
       "      <td>NaN</td>\n",
       "      <td>NaN</td>\n",
       "      <td>NaN</td>\n",
       "      <td>NaN</td>\n",
       "      <td>NaN</td>\n",
       "      <td>NaN</td>\n",
       "      <td>NaN</td>\n",
       "    </tr>\n",
       "    <tr>\n",
       "      <th>1</th>\n",
       "      <td>0.0</td>\n",
       "      <td>0.0</td>\n",
       "      <td>0.0</td>\n",
       "      <td>0.0</td>\n",
       "      <td>0.0</td>\n",
       "      <td>0.0</td>\n",
       "      <td>4.0</td>\n",
       "      <td>2.0</td>\n",
       "      <td>2.0</td>\n",
       "      <td>3.0</td>\n",
       "      <td>3.0</td>\n",
       "      <td>8.0</td>\n",
       "      <td>10.0</td>\n",
       "      <td>2.0</td>\n",
       "      <td>1.0</td>\n",
       "      <td>3.0</td>\n",
       "      <td>2.0</td>\n",
       "      <td>4.0</td>\n",
       "      <td>3.0</td>\n",
       "      <td>5.0</td>\n",
       "      <td>1.0</td>\n",
       "      <td>2.0</td>\n",
       "      <td>3.0</td>\n",
       "      <td>2.0</td>\n",
       "      <td>0.0</td>\n",
       "      <td>2.0</td>\n",
       "      <td>2.0</td>\n",
       "      <td>0.0</td>\n",
       "      <td>2.0</td>\n",
       "      <td>2.0</td>\n",
       "      <td>4.0</td>\n",
       "      <td>5.0</td>\n",
       "      <td>2.0</td>\n",
       "      <td>5.0</td>\n",
       "      <td>0.0</td>\n",
       "      <td>2.0</td>\n",
       "      <td>1.0</td>\n",
       "      <td>1.0</td>\n",
       "      <td>5.0</td>\n",
       "      <td>6.0</td>\n",
       "      <td>2.0</td>\n",
       "    </tr>\n",
       "    <tr>\n",
       "      <th>2</th>\n",
       "      <td>0.0</td>\n",
       "      <td>0.0</td>\n",
       "      <td>0.0</td>\n",
       "      <td>0.0</td>\n",
       "      <td>0.0</td>\n",
       "      <td>0.0</td>\n",
       "      <td>2.0</td>\n",
       "      <td>1.0</td>\n",
       "      <td>1.0</td>\n",
       "      <td>1.0</td>\n",
       "      <td>0.0</td>\n",
       "      <td>0.0</td>\n",
       "      <td>0.0</td>\n",
       "      <td>0.0</td>\n",
       "      <td>2.0</td>\n",
       "      <td>1.0</td>\n",
       "      <td>0.0</td>\n",
       "      <td>0.0</td>\n",
       "      <td>0.0</td>\n",
       "      <td>0.0</td>\n",
       "      <td>1.0</td>\n",
       "      <td>2.0</td>\n",
       "      <td>0.0</td>\n",
       "      <td>1.0</td>\n",
       "      <td>0.0</td>\n",
       "      <td>0.0</td>\n",
       "      <td>0.0</td>\n",
       "      <td>0.0</td>\n",
       "      <td>2.0</td>\n",
       "      <td>0.0</td>\n",
       "      <td>2.0</td>\n",
       "      <td>0.0</td>\n",
       "      <td>0.0</td>\n",
       "      <td>0.0</td>\n",
       "      <td>0.0</td>\n",
       "      <td>3.0</td>\n",
       "      <td>1.0</td>\n",
       "      <td>2.0</td>\n",
       "      <td>0.0</td>\n",
       "      <td>0.0</td>\n",
       "      <td>0.0</td>\n",
       "    </tr>\n",
       "    <tr>\n",
       "      <th>3</th>\n",
       "      <td>12.0</td>\n",
       "      <td>13.0</td>\n",
       "      <td>NaN</td>\n",
       "      <td>NaN</td>\n",
       "      <td>NaN</td>\n",
       "      <td>NaN</td>\n",
       "      <td>NaN</td>\n",
       "      <td>NaN</td>\n",
       "      <td>NaN</td>\n",
       "      <td>NaN</td>\n",
       "      <td>NaN</td>\n",
       "      <td>NaN</td>\n",
       "      <td>NaN</td>\n",
       "      <td>NaN</td>\n",
       "      <td>NaN</td>\n",
       "      <td>NaN</td>\n",
       "      <td>NaN</td>\n",
       "      <td>NaN</td>\n",
       "      <td>NaN</td>\n",
       "      <td>NaN</td>\n",
       "      <td>30.0</td>\n",
       "      <td>20.0</td>\n",
       "      <td>NaN</td>\n",
       "      <td>NaN</td>\n",
       "      <td>NaN</td>\n",
       "      <td>NaN</td>\n",
       "      <td>NaN</td>\n",
       "      <td>20.0</td>\n",
       "      <td>14.0</td>\n",
       "      <td>NaN</td>\n",
       "      <td>NaN</td>\n",
       "      <td>NaN</td>\n",
       "      <td>NaN</td>\n",
       "      <td>NaN</td>\n",
       "      <td>NaN</td>\n",
       "      <td>NaN</td>\n",
       "      <td>10.0</td>\n",
       "      <td>2.0</td>\n",
       "      <td>NaN</td>\n",
       "      <td>NaN</td>\n",
       "      <td>10.0</td>\n",
       "    </tr>\n",
       "    <tr>\n",
       "      <th>4</th>\n",
       "      <td>5.0</td>\n",
       "      <td>10.0</td>\n",
       "      <td>0.0</td>\n",
       "      <td>0.0</td>\n",
       "      <td>0.0</td>\n",
       "      <td>0.0</td>\n",
       "      <td>1.0</td>\n",
       "      <td>3.0</td>\n",
       "      <td>1.0</td>\n",
       "      <td>0.0</td>\n",
       "      <td>0.0</td>\n",
       "      <td>0.0</td>\n",
       "      <td>0.0</td>\n",
       "      <td>2.0</td>\n",
       "      <td>5.0</td>\n",
       "      <td>0.0</td>\n",
       "      <td>0.0</td>\n",
       "      <td>0.0</td>\n",
       "      <td>0.0</td>\n",
       "      <td>0.0</td>\n",
       "      <td>4.0</td>\n",
       "      <td>1.0</td>\n",
       "      <td>3.0</td>\n",
       "      <td>0.0</td>\n",
       "      <td>0.0</td>\n",
       "      <td>0.0</td>\n",
       "      <td>0.0</td>\n",
       "      <td>0.0</td>\n",
       "      <td>0.0</td>\n",
       "      <td>0.0</td>\n",
       "      <td>3.0</td>\n",
       "      <td>2.0</td>\n",
       "      <td>0.0</td>\n",
       "      <td>0.0</td>\n",
       "      <td>0.0</td>\n",
       "      <td>0.0</td>\n",
       "      <td>0.0</td>\n",
       "      <td>10.0</td>\n",
       "      <td>5.0</td>\n",
       "      <td>5.0</td>\n",
       "      <td>0.0</td>\n",
       "    </tr>\n",
       "  </tbody>\n",
       "</table>\n",
       "</div>"
      ],
      "text/plain": [
       "   How many MALE students below AGE 3 YEARS OLD are in Nursery?  \\\n",
       "0                                                NaN              \n",
       "1                                                0.0              \n",
       "2                                                0.0              \n",
       "3                                               12.0              \n",
       "4                                                5.0              \n",
       "\n",
       "   How many FEMALE students below AGE 3 YEARS OLD are in Nursery?  \\\n",
       "0                                                NaN                \n",
       "1                                                0.0                \n",
       "2                                                0.0                \n",
       "3                                               13.0                \n",
       "4                                               10.0                \n",
       "\n",
       "   How many MALE students below AGE 3 YEARS OLD are in Pre-kindergarten?  \\\n",
       "0                                                NaN                       \n",
       "1                                                0.0                       \n",
       "2                                                0.0                       \n",
       "3                                                NaN                       \n",
       "4                                                0.0                       \n",
       "\n",
       "   How many FEMALE students below AGE 3 YEARS OLD are in Pre-kindergarten?  \\\n",
       "0                                                NaN                         \n",
       "1                                                0.0                         \n",
       "2                                                0.0                         \n",
       "3                                                NaN                         \n",
       "4                                                0.0                         \n",
       "\n",
       "   How many MALE students below AGE 3 YEARS OLD are in Kindergarten?  \\\n",
       "0                                                NaN                   \n",
       "1                                                0.0                   \n",
       "2                                                0.0                   \n",
       "3                                                NaN                   \n",
       "4                                                0.0                   \n",
       "\n",
       "   How many FEMALE students below AGE 3 YEARS OLD are in Kindergarten?  \\\n",
       "0                                                NaN                     \n",
       "1                                                0.0                     \n",
       "2                                                0.0                     \n",
       "3                                                NaN                     \n",
       "4                                                0.0                     \n",
       "\n",
       "   How many MALE students AGE 3 YEARS OLD are in Nursery?  \\\n",
       "0                                                NaN        \n",
       "1                                                4.0        \n",
       "2                                                2.0        \n",
       "3                                                NaN        \n",
       "4                                                1.0        \n",
       "\n",
       "   How many MALE students AGE 4 YEARS OLD are in Nursery?  \\\n",
       "0                                                NaN        \n",
       "1                                                2.0        \n",
       "2                                                1.0        \n",
       "3                                                NaN        \n",
       "4                                                3.0        \n",
       "\n",
       "   How many MALE students AGE 5 YEARS OLD are in Nursery?  \\\n",
       "0                                                NaN        \n",
       "1                                                2.0        \n",
       "2                                                1.0        \n",
       "3                                                NaN        \n",
       "4                                                1.0        \n",
       "\n",
       "   How many MALE students AGE 6 YEARS OLD are in Nursery?  \\\n",
       "0                                                NaN        \n",
       "1                                                3.0        \n",
       "2                                                1.0        \n",
       "3                                                NaN        \n",
       "4                                                0.0        \n",
       "\n",
       "   How many MALE students AGE 7 YEARS OLD are in Nursery?  \\\n",
       "0                                                NaN        \n",
       "1                                                3.0        \n",
       "2                                                0.0        \n",
       "3                                                NaN        \n",
       "4                                                0.0        \n",
       "\n",
       "   How many MALE students AGE 8 YEARS OLD are in Nursery?  \\\n",
       "0                                                NaN        \n",
       "1                                                8.0        \n",
       "2                                                0.0        \n",
       "3                                                NaN        \n",
       "4                                                0.0        \n",
       "\n",
       "   How many MALE students Above AGE 8 YEARS OLD are in Nursery?  \\\n",
       "0                                                NaN              \n",
       "1                                               10.0              \n",
       "2                                                0.0              \n",
       "3                                                NaN              \n",
       "4                                                0.0              \n",
       "\n",
       "   How many FEMALE students  AGE 3 YEARS OLD are in Nursery?  \\\n",
       "0                                                NaN           \n",
       "1                                                2.0           \n",
       "2                                                0.0           \n",
       "3                                                NaN           \n",
       "4                                                2.0           \n",
       "\n",
       "   How many FEMALE students  AGE 4 YEARS OLD are in Nursery?  \\\n",
       "0                                                NaN           \n",
       "1                                                1.0           \n",
       "2                                                2.0           \n",
       "3                                                NaN           \n",
       "4                                                5.0           \n",
       "\n",
       "   How many FEMALE students  AGE 5 YEARS OLD are in Nursery?  \\\n",
       "0                                                NaN           \n",
       "1                                                3.0           \n",
       "2                                                1.0           \n",
       "3                                                NaN           \n",
       "4                                                0.0           \n",
       "\n",
       "   How many FEMALE students  AGE 6 YEARS OLD are in Nursery?  \\\n",
       "0                                                NaN           \n",
       "1                                                2.0           \n",
       "2                                                0.0           \n",
       "3                                                NaN           \n",
       "4                                                0.0           \n",
       "\n",
       "   How many FEMALE students  AGE 7 YEARS OLD are in Nursery?  \\\n",
       "0                                                NaN           \n",
       "1                                                4.0           \n",
       "2                                                0.0           \n",
       "3                                                NaN           \n",
       "4                                                0.0           \n",
       "\n",
       "   How many FEMALE students  AGE 8 YEARS OLD are in Nursery?  \\\n",
       "0                                                NaN           \n",
       "1                                                3.0           \n",
       "2                                                0.0           \n",
       "3                                                NaN           \n",
       "4                                                0.0           \n",
       "\n",
       "   How many FEMALE students  above AGE 8 YEARS OLD are in Nursery?  \\\n",
       "0                                                NaN                 \n",
       "1                                                5.0                 \n",
       "2                                                0.0                 \n",
       "3                                                NaN                 \n",
       "4                                                0.0                 \n",
       "\n",
       "   How many MALE students AGE 3 YEARS OLD are in Pre-Kindergarten?  \\\n",
       "0                                                NaN                 \n",
       "1                                                1.0                 \n",
       "2                                                1.0                 \n",
       "3                                               30.0                 \n",
       "4                                                4.0                 \n",
       "\n",
       "   How many MALE students AGE 4 YEARS OLD are in Pre-Kindergarten?  \\\n",
       "0                                                NaN                 \n",
       "1                                                2.0                 \n",
       "2                                                2.0                 \n",
       "3                                               20.0                 \n",
       "4                                                1.0                 \n",
       "\n",
       "   How many MALE students AGE 5 YEARS OLD are in Pre-Kindergarten?  \\\n",
       "0                                                NaN                 \n",
       "1                                                3.0                 \n",
       "2                                                0.0                 \n",
       "3                                                NaN                 \n",
       "4                                                3.0                 \n",
       "\n",
       "   How many MALE students AGE 6 YEARS OLD are in Pre-Kindergarten?  \\\n",
       "0                                                NaN                 \n",
       "1                                                2.0                 \n",
       "2                                                1.0                 \n",
       "3                                                NaN                 \n",
       "4                                                0.0                 \n",
       "\n",
       "   How many MALE students AGE 7 YEARS OLD are in Pre-Kindergarten?  \\\n",
       "0                                                NaN                 \n",
       "1                                                0.0                 \n",
       "2                                                0.0                 \n",
       "3                                                NaN                 \n",
       "4                                                0.0                 \n",
       "\n",
       "   How many MALE students AGE 8 YEARS OLD are in Pre-Kindergarten?  \\\n",
       "0                                                NaN                 \n",
       "1                                                2.0                 \n",
       "2                                                0.0                 \n",
       "3                                                NaN                 \n",
       "4                                                0.0                 \n",
       "\n",
       "   How many MALE students above AGE 8 YEARS OLD are in Pre-Kindergarten?  \\\n",
       "0                                                NaN                       \n",
       "1                                                2.0                       \n",
       "2                                                0.0                       \n",
       "3                                                NaN                       \n",
       "4                                                0.0                       \n",
       "\n",
       "   How many FEMALE students  AGE 3 YEARS OLD are in Pre-Kindergarten?  \\\n",
       "0                                                NaN                    \n",
       "1                                                0.0                    \n",
       "2                                                0.0                    \n",
       "3                                               20.0                    \n",
       "4                                                0.0                    \n",
       "\n",
       "   How many FEMALE students  AGE 4 YEARS OLD are in Pre-Kindergarten?  \\\n",
       "0                                                NaN                    \n",
       "1                                                2.0                    \n",
       "2                                                2.0                    \n",
       "3                                               14.0                    \n",
       "4                                                0.0                    \n",
       "\n",
       "   How many FEMALE students  AGE 5 YEARS OLD are in Pre-Kindergarten?  \\\n",
       "0                                                NaN                    \n",
       "1                                                2.0                    \n",
       "2                                                0.0                    \n",
       "3                                                NaN                    \n",
       "4                                                0.0                    \n",
       "\n",
       "   How many FEMALE students  AGE 6 YEARS OLD are in Pre-Kindergarten?  \\\n",
       "0                                                NaN                    \n",
       "1                                                4.0                    \n",
       "2                                                2.0                    \n",
       "3                                                NaN                    \n",
       "4                                                3.0                    \n",
       "\n",
       "   How many FEMALE students  AGE 7 YEARS OLD are in Pre-Kindergarten?  \\\n",
       "0                                                NaN                    \n",
       "1                                                5.0                    \n",
       "2                                                0.0                    \n",
       "3                                                NaN                    \n",
       "4                                                2.0                    \n",
       "\n",
       "   How many FEMALE students  AGE 8 YEARS OLD are in Pre-Kindergarten?  \\\n",
       "0                                                NaN                    \n",
       "1                                                2.0                    \n",
       "2                                                0.0                    \n",
       "3                                                NaN                    \n",
       "4                                                0.0                    \n",
       "\n",
       "   How many FEMALE students  above AGE 8 YEARS OLD are in Pre-Kindergarten?  \\\n",
       "0                                                NaN                          \n",
       "1                                                5.0                          \n",
       "2                                                0.0                          \n",
       "3                                                NaN                          \n",
       "4                                                0.0                          \n",
       "\n",
       "   How many MALE students AGE 3 YEARS OLD are in Kindergarten?  \\\n",
       "0                                                NaN             \n",
       "1                                                0.0             \n",
       "2                                                0.0             \n",
       "3                                                NaN             \n",
       "4                                                0.0             \n",
       "\n",
       "   How many MALE students AGE 4 YEARS OLD are in Kindergarten?  \\\n",
       "0                                                NaN             \n",
       "1                                                2.0             \n",
       "2                                                3.0             \n",
       "3                                                NaN             \n",
       "4                                                0.0             \n",
       "\n",
       "   How many FEMALE students  AGE 5 YEARS OLD are in Kindergarten?  \\\n",
       "0                                                NaN                \n",
       "1                                                1.0                \n",
       "2                                                1.0                \n",
       "3                                               10.0                \n",
       "4                                                0.0                \n",
       "\n",
       "   How many FEMALE students  AGE 6 YEARS OLD are in Kindergarten?  \\\n",
       "0                                                NaN                \n",
       "1                                                1.0                \n",
       "2                                                2.0                \n",
       "3                                                2.0                \n",
       "4                                               10.0                \n",
       "\n",
       "   How many FEMALE students  AGE 7 YEARS OLD are in Kindergarten?  \\\n",
       "0                                                NaN                \n",
       "1                                                5.0                \n",
       "2                                                0.0                \n",
       "3                                                NaN                \n",
       "4                                                5.0                \n",
       "\n",
       "   How many FEMALE students  AGE 8 YEARS OLD are in Kindergarten?  \\\n",
       "0                                                NaN                \n",
       "1                                                6.0                \n",
       "2                                                0.0                \n",
       "3                                                NaN                \n",
       "4                                                5.0                \n",
       "\n",
       "   How many FEMALE students  above AGE 8 YEARS OLD are in Kindergarten?  \n",
       "0                                                NaN                     \n",
       "1                                                2.0                     \n",
       "2                                                0.0                     \n",
       "3                                               10.0                     \n",
       "4                                                0.0                     "
      ]
     },
     "execution_count": 7,
     "metadata": {},
     "output_type": "execute_result"
    }
   ],
   "source": [
    "kece_c = kcensus.iloc[:,[2]]\n",
    "kece_o = kcensus.iloc[:,[39]]\n",
    "kece_s = kece_student.iloc[:,46:87]\n",
    "kece_s.head()"
   ]
  },
  {
   "cell_type": "code",
   "execution_count": 8,
   "id": "bb247e6c-4d21-4834-8a7d-afc2387681d6",
   "metadata": {},
   "outputs": [
    {
     "data": {
      "text/plain": [
       "Type of school\n",
       "Community        9927.0\n",
       "Faith-based     43330.0\n",
       "Private         76586.0\n",
       "Public         120300.0\n",
       "dtype: float64"
      ]
     },
     "execution_count": 8,
     "metadata": {},
     "output_type": "execute_result"
    }
   ],
   "source": [
    "kece_og = pd.concat([kece_o, kece_s],axis=1).groupby('Type of school').sum()\n",
    "kece_og.sum(1)"
   ]
  },
  {
   "cell_type": "code",
   "execution_count": 9,
   "id": "08137268-0d18-4970-86f5-85ae11d16636",
   "metadata": {},
   "outputs": [
    {
     "data": {
      "text/plain": [
       "Type of school\n",
       "Community       4139.0\n",
       "Faith-based    18356.0\n",
       "Private        32796.0\n",
       "Public         54309.0\n",
       "dtype: float64"
      ]
     },
     "execution_count": 9,
     "metadata": {},
     "output_type": "execute_result"
    }
   ],
   "source": [
    "kece_ogm =kece_og.iloc[:,[0,2,4]].append([kece_og.iloc[:,6:13],kece_og.iloc[:,20:27],kece_og.iloc[:,[34,35]]]).groupby('Type of school').sum().sum(1)\n",
    "kece_ogm"
   ]
  },
  {
   "cell_type": "code",
   "execution_count": 10,
   "id": "399636c8-cd0a-4e59-b962-3447b60967db",
   "metadata": {},
   "outputs": [
    {
     "data": {
      "text/plain": [
       "Type of school\n",
       "Community       5788.0\n",
       "Faith-based    24974.0\n",
       "Private        43790.0\n",
       "Public         65991.0\n",
       "dtype: float64"
      ]
     },
     "execution_count": 10,
     "metadata": {},
     "output_type": "execute_result"
    }
   ],
   "source": [
    "kece_ogf = kece_og.sum(1)-kece_ogm\n",
    "kece_ogf"
   ]
  },
  {
   "cell_type": "markdown",
   "id": "b0fbb78d-1770-4d01-9a19-70ad8b22cfc6",
   "metadata": {},
   "source": [
    "# Table 2: ECE Enrollment by Grade and Gender"
   ]
  },
  {
   "cell_type": "code",
   "execution_count": 11,
   "id": "aada7822-59d4-4835-a7bf-688af7d16b66",
   "metadata": {},
   "outputs": [
    {
     "data": {
      "text/plain": [
       "How many MALE students below AGE 3 YEARS OLD are in Nursery?                 5312.0\n",
       "How many FEMALE students below AGE 3 YEARS OLD are in Nursery?               6100.0\n",
       "How many MALE students below AGE 3 YEARS OLD are in Pre-kindergarten?        1361.0\n",
       "How many FEMALE students below AGE 3 YEARS OLD are in Pre-kindergarten?      1319.0\n",
       "How many MALE students below AGE 3 YEARS OLD are in Kindergarten?             726.0\n",
       "How many FEMALE students below AGE 3 YEARS OLD are in Kindergarten?           841.0\n",
       "How many MALE students AGE 3 YEARS OLD are in Nursery?                      12524.0\n",
       "How many MALE students AGE 4 YEARS OLD are in Nursery?                      12679.0\n",
       "How many MALE students AGE 5 YEARS OLD are in Nursery?                      11270.0\n",
       "How many MALE students AGE 6 YEARS OLD are in Nursery?                       8257.0\n",
       "How many MALE students AGE 7 YEARS OLD are in Nursery?                       5279.0\n",
       "How many MALE students AGE 8 YEARS OLD are in Nursery?                       3389.0\n",
       "How many MALE students Above AGE 8 YEARS OLD are in Nursery?                 3158.0\n",
       "How many FEMALE students  AGE 3 YEARS OLD are in Nursery?                   12156.0\n",
       "How many FEMALE students  AGE 4 YEARS OLD are in Nursery?                   12760.0\n",
       "How many FEMALE students  AGE 5 YEARS OLD are in Nursery?                   10572.0\n",
       "How many FEMALE students  AGE 6 YEARS OLD are in Nursery?                    7805.0\n",
       "How many FEMALE students  AGE 7 YEARS OLD are in Nursery?                    5119.0\n",
       "How many FEMALE students  AGE 8 YEARS OLD are in Nursery?                    3201.0\n",
       "How many FEMALE students  above AGE 8 YEARS OLD are in Nursery?              2855.0\n",
       "How many MALE students AGE 3 YEARS OLD are in Pre-Kindergarten?              3087.0\n",
       "How many MALE students AGE 4 YEARS OLD are in Pre-Kindergarten?              6988.0\n",
       "How many MALE students AGE 5 YEARS OLD are in Pre-Kindergarten?              8395.0\n",
       "How many MALE students AGE 6 YEARS OLD are in Pre-Kindergarten?              7724.0\n",
       "How many MALE students AGE 7 YEARS OLD are in Pre-Kindergarten?              5803.0\n",
       "How many MALE students AGE 8 YEARS OLD are in Pre-Kindergarten?              4133.0\n",
       "How many MALE students above AGE 8 YEARS OLD are in Pre-Kindergarten?        3863.0\n",
       "How many FEMALE students  AGE 3 YEARS OLD are in Pre-Kindergarten?           3199.0\n",
       "How many FEMALE students  AGE 4 YEARS OLD are in Pre-Kindergarten?           6909.0\n",
       "How many FEMALE students  AGE 5 YEARS OLD are in Pre-Kindergarten?           8273.0\n",
       "How many FEMALE students  AGE 6 YEARS OLD are in Pre-Kindergarten?           7398.0\n",
       "How many FEMALE students  AGE 7 YEARS OLD are in Pre-Kindergarten?           5659.0\n",
       "How many FEMALE students  AGE 8 YEARS OLD are in Pre-Kindergarten?           3994.0\n",
       "How many FEMALE students  above AGE 8 YEARS OLD are in Pre-Kindergarten?     3669.0\n",
       "How many MALE students AGE 3 YEARS OLD are in Kindergarten?                  1542.0\n",
       "How many MALE students AGE 4 YEARS OLD are in Kindergarten?                  4110.0\n",
       "How many FEMALE students  AGE 5 YEARS OLD are in Kindergarten?               7889.0\n",
       "How many FEMALE students  AGE 6 YEARS OLD are in Kindergarten?               8751.0\n",
       "How many FEMALE students  AGE 7 YEARS OLD are in Kindergarten?               8069.0\n",
       "How many FEMALE students  AGE 8 YEARS OLD are in Kindergarten?               6799.0\n",
       "How many FEMALE students  above AGE 8 YEARS OLD are in Kindergarten?         7206.0\n",
       "dtype: float64"
      ]
     },
     "execution_count": 11,
     "metadata": {},
     "output_type": "execute_result"
    }
   ],
   "source": [
    "kece_gg = kece_og.sum()\n",
    "kece_gg"
   ]
  },
  {
   "cell_type": "code",
   "execution_count": 12,
   "id": "0e9accb8-07fd-499a-8711-cc02f476dfa7",
   "metadata": {},
   "outputs": [
    {
     "data": {
      "text/plain": [
       "122436.0"
      ]
     },
     "execution_count": 12,
     "metadata": {},
     "output_type": "execute_result"
    }
   ],
   "source": [
    "kece_ggn = kece_gg[:2].append(kece_gg[6:20])\n",
    "kece_ggn.sum()"
   ]
  },
  {
   "cell_type": "code",
   "execution_count": 13,
   "id": "b0c072c1-efc8-480a-a146-1d0376282f19",
   "metadata": {},
   "outputs": [
    {
     "data": {
      "text/plain": [
       "58710.0"
      ]
     },
     "execution_count": 13,
     "metadata": {},
     "output_type": "execute_result"
    }
   ],
   "source": [
    "kece_ggnm = kece_ggn[[0]].append(kece_ggn[2:8])\n",
    "kece_ggnm.sum()"
   ]
  },
  {
   "cell_type": "code",
   "execution_count": null,
   "id": "0faa91a2-47c3-4c22-bd74-e1c87003c034",
   "metadata": {},
   "outputs": [],
   "source": []
  },
  {
   "cell_type": "code",
   "execution_count": null,
   "id": "e9f4d0a1-a792-4e3f-9171-cb2c6fce5d99",
   "metadata": {},
   "outputs": [],
   "source": []
  },
  {
   "cell_type": "code",
   "execution_count": null,
   "id": "1182643e-c6cf-4c44-b3eb-3ca440a4f862",
   "metadata": {},
   "outputs": [],
   "source": []
  },
  {
   "cell_type": "code",
   "execution_count": 14,
   "id": "68d4851f-b0e9-418d-b4d0-45b1d83bcb91",
   "metadata": {},
   "outputs": [
    {
     "data": {
      "text/plain": [
       "81774.0"
      ]
     },
     "execution_count": 14,
     "metadata": {},
     "output_type": "execute_result"
    }
   ],
   "source": [
    "kece_ggp =kece_gg[2:4].append(kece_gg[20:34])\n",
    "kece_ggp.sum()"
   ]
  },
  {
   "cell_type": "code",
   "execution_count": 15,
   "id": "37c84c96-c46b-4b9a-aeba-a0725c3cf976",
   "metadata": {},
   "outputs": [
    {
     "data": {
      "text/plain": [
       "37491.0"
      ]
     },
     "execution_count": 15,
     "metadata": {},
     "output_type": "execute_result"
    }
   ],
   "source": [
    "kece_ggmp = kece_ggp[[0]].append(kece_ggp[2:8])\n",
    "kece_ggmp.sum()"
   ]
  },
  {
   "cell_type": "code",
   "execution_count": null,
   "id": "09f8f745-24cf-4f6e-909b-2c61942d5147",
   "metadata": {},
   "outputs": [],
   "source": []
  },
  {
   "cell_type": "code",
   "execution_count": null,
   "id": "44572c43-8c07-4eaf-b9da-6630acd6555b",
   "metadata": {},
   "outputs": [],
   "source": []
  },
  {
   "cell_type": "code",
   "execution_count": 16,
   "id": "4360dc94-b92a-4ab9-837a-7cddbe092618",
   "metadata": {},
   "outputs": [
    {
     "data": {
      "text/plain": [
       "45933.0"
      ]
     },
     "execution_count": 16,
     "metadata": {},
     "output_type": "execute_result"
    }
   ],
   "source": [
    "kece_ggk = kece_gg[4:6].append(kece_gg[34:])\n",
    "kece_ggk.sum()"
   ]
  },
  {
   "cell_type": "code",
   "execution_count": 17,
   "id": "38ed859d-ef4b-40c8-86f3-57d07a851a31",
   "metadata": {},
   "outputs": [
    {
     "data": {
      "text/plain": [
       "6378.0"
      ]
     },
     "execution_count": 17,
     "metadata": {},
     "output_type": "execute_result"
    }
   ],
   "source": [
    "kece_ggmk = kece_ggk[[0]].append(kece_ggk[[2,3]])\n",
    "kece_ggmk.sum()"
   ]
  },
  {
   "cell_type": "code",
   "execution_count": 18,
   "id": "cf7e067e-ae59-4e6d-8251-b5c47fb94fa8",
   "metadata": {},
   "outputs": [
    {
     "data": {
      "text/plain": [
       "What is the total number of students in ECE?                               289266.0\n",
       "What is the total number of nursery students that are Males?                86178.0\n",
       "What is the total number of nursery students that are females?              78265.0\n",
       "What is the total number of pre-kindergarten students that are males?       43938.0\n",
       "What is the total number of pre-kindergarten students that are females?     42689.0\n",
       "What is the total number of kindergarten students that are Males?           44743.0\n",
       "What is the total number of kindergarten students that are Females?         44802.0\n",
       "dtype: float64"
      ]
     },
     "execution_count": 18,
     "metadata": {},
     "output_type": "execute_result"
    }
   ],
   "source": [
    "kcensus.iloc[:,51:58].sum()"
   ]
  },
  {
   "cell_type": "code",
   "execution_count": null,
   "id": "c40595a1-5802-48c7-85bc-f9b1ffb09a27",
   "metadata": {},
   "outputs": [],
   "source": []
  },
  {
   "cell_type": "markdown",
   "id": "54a6e330-9a31-444c-83cd-c925f84bfbd1",
   "metadata": {},
   "source": [
    "# Table 3: Number of ECE Students by County and Grade"
   ]
  },
  {
   "cell_type": "code",
   "execution_count": 19,
   "id": "6dd53d8e-ff3a-4bc2-b068-710fc9fe2c8d",
   "metadata": {},
   "outputs": [
    {
     "data": {
      "text/html": [
       "<div>\n",
       "<style scoped>\n",
       "    .dataframe tbody tr th:only-of-type {\n",
       "        vertical-align: middle;\n",
       "    }\n",
       "\n",
       "    .dataframe tbody tr th {\n",
       "        vertical-align: top;\n",
       "    }\n",
       "\n",
       "    .dataframe thead th {\n",
       "        text-align: right;\n",
       "    }\n",
       "</style>\n",
       "<table border=\"1\" class=\"dataframe\">\n",
       "  <thead>\n",
       "    <tr style=\"text-align: right;\">\n",
       "      <th></th>\n",
       "      <th>How many MALE students below AGE 3 YEARS OLD are in Nursery?</th>\n",
       "      <th>How many FEMALE students below AGE 3 YEARS OLD are in Nursery?</th>\n",
       "      <th>How many MALE students below AGE 3 YEARS OLD are in Pre-kindergarten?</th>\n",
       "      <th>How many FEMALE students below AGE 3 YEARS OLD are in Pre-kindergarten?</th>\n",
       "      <th>How many MALE students below AGE 3 YEARS OLD are in Kindergarten?</th>\n",
       "      <th>How many FEMALE students below AGE 3 YEARS OLD are in Kindergarten?</th>\n",
       "      <th>How many MALE students AGE 3 YEARS OLD are in Nursery?</th>\n",
       "      <th>How many MALE students AGE 4 YEARS OLD are in Nursery?</th>\n",
       "      <th>How many MALE students AGE 5 YEARS OLD are in Nursery?</th>\n",
       "      <th>How many MALE students AGE 6 YEARS OLD are in Nursery?</th>\n",
       "      <th>How many MALE students AGE 7 YEARS OLD are in Nursery?</th>\n",
       "      <th>How many MALE students AGE 8 YEARS OLD are in Nursery?</th>\n",
       "      <th>How many MALE students Above AGE 8 YEARS OLD are in Nursery?</th>\n",
       "      <th>How many FEMALE students  AGE 3 YEARS OLD are in Nursery?</th>\n",
       "      <th>How many FEMALE students  AGE 4 YEARS OLD are in Nursery?</th>\n",
       "      <th>How many FEMALE students  AGE 5 YEARS OLD are in Nursery?</th>\n",
       "      <th>How many FEMALE students  AGE 6 YEARS OLD are in Nursery?</th>\n",
       "      <th>How many FEMALE students  AGE 7 YEARS OLD are in Nursery?</th>\n",
       "      <th>How many FEMALE students  AGE 8 YEARS OLD are in Nursery?</th>\n",
       "      <th>How many FEMALE students  above AGE 8 YEARS OLD are in Nursery?</th>\n",
       "      <th>How many MALE students AGE 3 YEARS OLD are in Pre-Kindergarten?</th>\n",
       "      <th>How many MALE students AGE 4 YEARS OLD are in Pre-Kindergarten?</th>\n",
       "      <th>How many MALE students AGE 5 YEARS OLD are in Pre-Kindergarten?</th>\n",
       "      <th>How many MALE students AGE 6 YEARS OLD are in Pre-Kindergarten?</th>\n",
       "      <th>How many MALE students AGE 7 YEARS OLD are in Pre-Kindergarten?</th>\n",
       "      <th>How many MALE students AGE 8 YEARS OLD are in Pre-Kindergarten?</th>\n",
       "      <th>How many MALE students above AGE 8 YEARS OLD are in Pre-Kindergarten?</th>\n",
       "      <th>How many FEMALE students  AGE 3 YEARS OLD are in Pre-Kindergarten?</th>\n",
       "      <th>How many FEMALE students  AGE 4 YEARS OLD are in Pre-Kindergarten?</th>\n",
       "      <th>How many FEMALE students  AGE 5 YEARS OLD are in Pre-Kindergarten?</th>\n",
       "      <th>How many FEMALE students  AGE 6 YEARS OLD are in Pre-Kindergarten?</th>\n",
       "      <th>How many FEMALE students  AGE 7 YEARS OLD are in Pre-Kindergarten?</th>\n",
       "      <th>How many FEMALE students  AGE 8 YEARS OLD are in Pre-Kindergarten?</th>\n",
       "      <th>How many FEMALE students  above AGE 8 YEARS OLD are in Pre-Kindergarten?</th>\n",
       "      <th>How many MALE students AGE 3 YEARS OLD are in Kindergarten?</th>\n",
       "      <th>How many MALE students AGE 4 YEARS OLD are in Kindergarten?</th>\n",
       "      <th>How many FEMALE students  AGE 5 YEARS OLD are in Kindergarten?</th>\n",
       "      <th>How many FEMALE students  AGE 6 YEARS OLD are in Kindergarten?</th>\n",
       "      <th>How many FEMALE students  AGE 7 YEARS OLD are in Kindergarten?</th>\n",
       "      <th>How many FEMALE students  AGE 8 YEARS OLD are in Kindergarten?</th>\n",
       "      <th>How many FEMALE students  above AGE 8 YEARS OLD are in Kindergarten?</th>\n",
       "    </tr>\n",
       "    <tr>\n",
       "      <th>County</th>\n",
       "      <th></th>\n",
       "      <th></th>\n",
       "      <th></th>\n",
       "      <th></th>\n",
       "      <th></th>\n",
       "      <th></th>\n",
       "      <th></th>\n",
       "      <th></th>\n",
       "      <th></th>\n",
       "      <th></th>\n",
       "      <th></th>\n",
       "      <th></th>\n",
       "      <th></th>\n",
       "      <th></th>\n",
       "      <th></th>\n",
       "      <th></th>\n",
       "      <th></th>\n",
       "      <th></th>\n",
       "      <th></th>\n",
       "      <th></th>\n",
       "      <th></th>\n",
       "      <th></th>\n",
       "      <th></th>\n",
       "      <th></th>\n",
       "      <th></th>\n",
       "      <th></th>\n",
       "      <th></th>\n",
       "      <th></th>\n",
       "      <th></th>\n",
       "      <th></th>\n",
       "      <th></th>\n",
       "      <th></th>\n",
       "      <th></th>\n",
       "      <th></th>\n",
       "      <th></th>\n",
       "      <th></th>\n",
       "      <th></th>\n",
       "      <th></th>\n",
       "      <th></th>\n",
       "      <th></th>\n",
       "      <th></th>\n",
       "    </tr>\n",
       "  </thead>\n",
       "  <tbody>\n",
       "    <tr>\n",
       "      <th>Bomi</th>\n",
       "      <td>62.0</td>\n",
       "      <td>69.0</td>\n",
       "      <td>10.0</td>\n",
       "      <td>0.0</td>\n",
       "      <td>0.0</td>\n",
       "      <td>0.0</td>\n",
       "      <td>327.0</td>\n",
       "      <td>444.0</td>\n",
       "      <td>367.0</td>\n",
       "      <td>180.0</td>\n",
       "      <td>107.0</td>\n",
       "      <td>42.0</td>\n",
       "      <td>62.0</td>\n",
       "      <td>345.0</td>\n",
       "      <td>363.0</td>\n",
       "      <td>292.0</td>\n",
       "      <td>192.0</td>\n",
       "      <td>79.0</td>\n",
       "      <td>43.0</td>\n",
       "      <td>37.0</td>\n",
       "      <td>44.0</td>\n",
       "      <td>153.0</td>\n",
       "      <td>203.0</td>\n",
       "      <td>173.0</td>\n",
       "      <td>86.0</td>\n",
       "      <td>73.0</td>\n",
       "      <td>56.0</td>\n",
       "      <td>38.0</td>\n",
       "      <td>119.0</td>\n",
       "      <td>167.0</td>\n",
       "      <td>160.0</td>\n",
       "      <td>75.0</td>\n",
       "      <td>60.0</td>\n",
       "      <td>52.0</td>\n",
       "      <td>15.0</td>\n",
       "      <td>116.0</td>\n",
       "      <td>144.0</td>\n",
       "      <td>137.0</td>\n",
       "      <td>146.0</td>\n",
       "      <td>137.0</td>\n",
       "      <td>124.0</td>\n",
       "    </tr>\n",
       "    <tr>\n",
       "      <th>Bong</th>\n",
       "      <td>264.0</td>\n",
       "      <td>299.0</td>\n",
       "      <td>84.0</td>\n",
       "      <td>53.0</td>\n",
       "      <td>34.0</td>\n",
       "      <td>43.0</td>\n",
       "      <td>629.0</td>\n",
       "      <td>968.0</td>\n",
       "      <td>1147.0</td>\n",
       "      <td>958.0</td>\n",
       "      <td>755.0</td>\n",
       "      <td>578.0</td>\n",
       "      <td>529.0</td>\n",
       "      <td>588.0</td>\n",
       "      <td>1001.0</td>\n",
       "      <td>1030.0</td>\n",
       "      <td>891.0</td>\n",
       "      <td>606.0</td>\n",
       "      <td>459.0</td>\n",
       "      <td>421.0</td>\n",
       "      <td>167.0</td>\n",
       "      <td>354.0</td>\n",
       "      <td>458.0</td>\n",
       "      <td>595.0</td>\n",
       "      <td>534.0</td>\n",
       "      <td>420.0</td>\n",
       "      <td>474.0</td>\n",
       "      <td>153.0</td>\n",
       "      <td>337.0</td>\n",
       "      <td>428.0</td>\n",
       "      <td>532.0</td>\n",
       "      <td>495.0</td>\n",
       "      <td>395.0</td>\n",
       "      <td>488.0</td>\n",
       "      <td>125.0</td>\n",
       "      <td>249.0</td>\n",
       "      <td>381.0</td>\n",
       "      <td>428.0</td>\n",
       "      <td>459.0</td>\n",
       "      <td>444.0</td>\n",
       "      <td>657.0</td>\n",
       "    </tr>\n",
       "    <tr>\n",
       "      <th>Gbarpolu</th>\n",
       "      <td>45.0</td>\n",
       "      <td>45.0</td>\n",
       "      <td>27.0</td>\n",
       "      <td>11.0</td>\n",
       "      <td>10.0</td>\n",
       "      <td>14.0</td>\n",
       "      <td>312.0</td>\n",
       "      <td>450.0</td>\n",
       "      <td>449.0</td>\n",
       "      <td>368.0</td>\n",
       "      <td>303.0</td>\n",
       "      <td>173.0</td>\n",
       "      <td>113.0</td>\n",
       "      <td>293.0</td>\n",
       "      <td>415.0</td>\n",
       "      <td>420.0</td>\n",
       "      <td>411.0</td>\n",
       "      <td>291.0</td>\n",
       "      <td>150.0</td>\n",
       "      <td>139.0</td>\n",
       "      <td>54.0</td>\n",
       "      <td>126.0</td>\n",
       "      <td>196.0</td>\n",
       "      <td>309.0</td>\n",
       "      <td>233.0</td>\n",
       "      <td>141.0</td>\n",
       "      <td>132.0</td>\n",
       "      <td>53.0</td>\n",
       "      <td>107.0</td>\n",
       "      <td>133.0</td>\n",
       "      <td>261.0</td>\n",
       "      <td>208.0</td>\n",
       "      <td>148.0</td>\n",
       "      <td>146.0</td>\n",
       "      <td>32.0</td>\n",
       "      <td>58.0</td>\n",
       "      <td>101.0</td>\n",
       "      <td>135.0</td>\n",
       "      <td>225.0</td>\n",
       "      <td>210.0</td>\n",
       "      <td>237.0</td>\n",
       "    </tr>\n",
       "    <tr>\n",
       "      <th>Grand Bassa</th>\n",
       "      <td>48.0</td>\n",
       "      <td>46.0</td>\n",
       "      <td>43.0</td>\n",
       "      <td>58.0</td>\n",
       "      <td>23.0</td>\n",
       "      <td>6.0</td>\n",
       "      <td>331.0</td>\n",
       "      <td>437.0</td>\n",
       "      <td>484.0</td>\n",
       "      <td>389.0</td>\n",
       "      <td>299.0</td>\n",
       "      <td>191.0</td>\n",
       "      <td>152.0</td>\n",
       "      <td>328.0</td>\n",
       "      <td>446.0</td>\n",
       "      <td>407.0</td>\n",
       "      <td>358.0</td>\n",
       "      <td>240.0</td>\n",
       "      <td>204.0</td>\n",
       "      <td>158.0</td>\n",
       "      <td>71.0</td>\n",
       "      <td>199.0</td>\n",
       "      <td>432.0</td>\n",
       "      <td>460.0</td>\n",
       "      <td>441.0</td>\n",
       "      <td>293.0</td>\n",
       "      <td>367.0</td>\n",
       "      <td>64.0</td>\n",
       "      <td>191.0</td>\n",
       "      <td>422.0</td>\n",
       "      <td>406.0</td>\n",
       "      <td>446.0</td>\n",
       "      <td>410.0</td>\n",
       "      <td>272.0</td>\n",
       "      <td>61.0</td>\n",
       "      <td>270.0</td>\n",
       "      <td>274.0</td>\n",
       "      <td>470.0</td>\n",
       "      <td>463.0</td>\n",
       "      <td>430.0</td>\n",
       "      <td>529.0</td>\n",
       "    </tr>\n",
       "    <tr>\n",
       "      <th>Grand Cape Mount</th>\n",
       "      <td>230.0</td>\n",
       "      <td>245.0</td>\n",
       "      <td>121.0</td>\n",
       "      <td>68.0</td>\n",
       "      <td>32.0</td>\n",
       "      <td>23.0</td>\n",
       "      <td>718.0</td>\n",
       "      <td>715.0</td>\n",
       "      <td>679.0</td>\n",
       "      <td>501.0</td>\n",
       "      <td>287.0</td>\n",
       "      <td>127.0</td>\n",
       "      <td>103.0</td>\n",
       "      <td>670.0</td>\n",
       "      <td>679.0</td>\n",
       "      <td>620.0</td>\n",
       "      <td>495.0</td>\n",
       "      <td>326.0</td>\n",
       "      <td>195.0</td>\n",
       "      <td>89.0</td>\n",
       "      <td>177.0</td>\n",
       "      <td>288.0</td>\n",
       "      <td>347.0</td>\n",
       "      <td>358.0</td>\n",
       "      <td>270.0</td>\n",
       "      <td>162.0</td>\n",
       "      <td>148.0</td>\n",
       "      <td>209.0</td>\n",
       "      <td>266.0</td>\n",
       "      <td>342.0</td>\n",
       "      <td>371.0</td>\n",
       "      <td>295.0</td>\n",
       "      <td>196.0</td>\n",
       "      <td>144.0</td>\n",
       "      <td>70.0</td>\n",
       "      <td>173.0</td>\n",
       "      <td>260.0</td>\n",
       "      <td>361.0</td>\n",
       "      <td>356.0</td>\n",
       "      <td>265.0</td>\n",
       "      <td>247.0</td>\n",
       "    </tr>\n",
       "  </tbody>\n",
       "</table>\n",
       "</div>"
      ],
      "text/plain": [
       "                  How many MALE students below AGE 3 YEARS OLD are in Nursery?  \\\n",
       "County                                                                           \n",
       "Bomi                                                           62.0              \n",
       "Bong                                                          264.0              \n",
       "Gbarpolu                                                       45.0              \n",
       "Grand Bassa                                                    48.0              \n",
       "Grand Cape Mount                                              230.0              \n",
       "\n",
       "                  How many FEMALE students below AGE 3 YEARS OLD are in Nursery?  \\\n",
       "County                                                                             \n",
       "Bomi                                                           69.0                \n",
       "Bong                                                          299.0                \n",
       "Gbarpolu                                                       45.0                \n",
       "Grand Bassa                                                    46.0                \n",
       "Grand Cape Mount                                              245.0                \n",
       "\n",
       "                  How many MALE students below AGE 3 YEARS OLD are in Pre-kindergarten?  \\\n",
       "County                                                                                    \n",
       "Bomi                                                           10.0                       \n",
       "Bong                                                           84.0                       \n",
       "Gbarpolu                                                       27.0                       \n",
       "Grand Bassa                                                    43.0                       \n",
       "Grand Cape Mount                                              121.0                       \n",
       "\n",
       "                  How many FEMALE students below AGE 3 YEARS OLD are in Pre-kindergarten?  \\\n",
       "County                                                                                      \n",
       "Bomi                                                            0.0                         \n",
       "Bong                                                           53.0                         \n",
       "Gbarpolu                                                       11.0                         \n",
       "Grand Bassa                                                    58.0                         \n",
       "Grand Cape Mount                                               68.0                         \n",
       "\n",
       "                  How many MALE students below AGE 3 YEARS OLD are in Kindergarten?  \\\n",
       "County                                                                                \n",
       "Bomi                                                            0.0                   \n",
       "Bong                                                           34.0                   \n",
       "Gbarpolu                                                       10.0                   \n",
       "Grand Bassa                                                    23.0                   \n",
       "Grand Cape Mount                                               32.0                   \n",
       "\n",
       "                  How many FEMALE students below AGE 3 YEARS OLD are in Kindergarten?  \\\n",
       "County                                                                                  \n",
       "Bomi                                                            0.0                     \n",
       "Bong                                                           43.0                     \n",
       "Gbarpolu                                                       14.0                     \n",
       "Grand Bassa                                                     6.0                     \n",
       "Grand Cape Mount                                               23.0                     \n",
       "\n",
       "                  How many MALE students AGE 3 YEARS OLD are in Nursery?  \\\n",
       "County                                                                     \n",
       "Bomi                                                          327.0        \n",
       "Bong                                                          629.0        \n",
       "Gbarpolu                                                      312.0        \n",
       "Grand Bassa                                                   331.0        \n",
       "Grand Cape Mount                                              718.0        \n",
       "\n",
       "                  How many MALE students AGE 4 YEARS OLD are in Nursery?  \\\n",
       "County                                                                     \n",
       "Bomi                                                          444.0        \n",
       "Bong                                                          968.0        \n",
       "Gbarpolu                                                      450.0        \n",
       "Grand Bassa                                                   437.0        \n",
       "Grand Cape Mount                                              715.0        \n",
       "\n",
       "                  How many MALE students AGE 5 YEARS OLD are in Nursery?  \\\n",
       "County                                                                     \n",
       "Bomi                                                          367.0        \n",
       "Bong                                                         1147.0        \n",
       "Gbarpolu                                                      449.0        \n",
       "Grand Bassa                                                   484.0        \n",
       "Grand Cape Mount                                              679.0        \n",
       "\n",
       "                  How many MALE students AGE 6 YEARS OLD are in Nursery?  \\\n",
       "County                                                                     \n",
       "Bomi                                                          180.0        \n",
       "Bong                                                          958.0        \n",
       "Gbarpolu                                                      368.0        \n",
       "Grand Bassa                                                   389.0        \n",
       "Grand Cape Mount                                              501.0        \n",
       "\n",
       "                  How many MALE students AGE 7 YEARS OLD are in Nursery?  \\\n",
       "County                                                                     \n",
       "Bomi                                                          107.0        \n",
       "Bong                                                          755.0        \n",
       "Gbarpolu                                                      303.0        \n",
       "Grand Bassa                                                   299.0        \n",
       "Grand Cape Mount                                              287.0        \n",
       "\n",
       "                  How many MALE students AGE 8 YEARS OLD are in Nursery?  \\\n",
       "County                                                                     \n",
       "Bomi                                                           42.0        \n",
       "Bong                                                          578.0        \n",
       "Gbarpolu                                                      173.0        \n",
       "Grand Bassa                                                   191.0        \n",
       "Grand Cape Mount                                              127.0        \n",
       "\n",
       "                  How many MALE students Above AGE 8 YEARS OLD are in Nursery?  \\\n",
       "County                                                                           \n",
       "Bomi                                                           62.0              \n",
       "Bong                                                          529.0              \n",
       "Gbarpolu                                                      113.0              \n",
       "Grand Bassa                                                   152.0              \n",
       "Grand Cape Mount                                              103.0              \n",
       "\n",
       "                  How many FEMALE students  AGE 3 YEARS OLD are in Nursery?  \\\n",
       "County                                                                        \n",
       "Bomi                                                          345.0           \n",
       "Bong                                                          588.0           \n",
       "Gbarpolu                                                      293.0           \n",
       "Grand Bassa                                                   328.0           \n",
       "Grand Cape Mount                                              670.0           \n",
       "\n",
       "                  How many FEMALE students  AGE 4 YEARS OLD are in Nursery?  \\\n",
       "County                                                                        \n",
       "Bomi                                                          363.0           \n",
       "Bong                                                         1001.0           \n",
       "Gbarpolu                                                      415.0           \n",
       "Grand Bassa                                                   446.0           \n",
       "Grand Cape Mount                                              679.0           \n",
       "\n",
       "                  How many FEMALE students  AGE 5 YEARS OLD are in Nursery?  \\\n",
       "County                                                                        \n",
       "Bomi                                                          292.0           \n",
       "Bong                                                         1030.0           \n",
       "Gbarpolu                                                      420.0           \n",
       "Grand Bassa                                                   407.0           \n",
       "Grand Cape Mount                                              620.0           \n",
       "\n",
       "                  How many FEMALE students  AGE 6 YEARS OLD are in Nursery?  \\\n",
       "County                                                                        \n",
       "Bomi                                                          192.0           \n",
       "Bong                                                          891.0           \n",
       "Gbarpolu                                                      411.0           \n",
       "Grand Bassa                                                   358.0           \n",
       "Grand Cape Mount                                              495.0           \n",
       "\n",
       "                  How many FEMALE students  AGE 7 YEARS OLD are in Nursery?  \\\n",
       "County                                                                        \n",
       "Bomi                                                           79.0           \n",
       "Bong                                                          606.0           \n",
       "Gbarpolu                                                      291.0           \n",
       "Grand Bassa                                                   240.0           \n",
       "Grand Cape Mount                                              326.0           \n",
       "\n",
       "                  How many FEMALE students  AGE 8 YEARS OLD are in Nursery?  \\\n",
       "County                                                                        \n",
       "Bomi                                                           43.0           \n",
       "Bong                                                          459.0           \n",
       "Gbarpolu                                                      150.0           \n",
       "Grand Bassa                                                   204.0           \n",
       "Grand Cape Mount                                              195.0           \n",
       "\n",
       "                  How many FEMALE students  above AGE 8 YEARS OLD are in Nursery?  \\\n",
       "County                                                                              \n",
       "Bomi                                                           37.0                 \n",
       "Bong                                                          421.0                 \n",
       "Gbarpolu                                                      139.0                 \n",
       "Grand Bassa                                                   158.0                 \n",
       "Grand Cape Mount                                               89.0                 \n",
       "\n",
       "                  How many MALE students AGE 3 YEARS OLD are in Pre-Kindergarten?  \\\n",
       "County                                                                              \n",
       "Bomi                                                           44.0                 \n",
       "Bong                                                          167.0                 \n",
       "Gbarpolu                                                       54.0                 \n",
       "Grand Bassa                                                    71.0                 \n",
       "Grand Cape Mount                                              177.0                 \n",
       "\n",
       "                  How many MALE students AGE 4 YEARS OLD are in Pre-Kindergarten?  \\\n",
       "County                                                                              \n",
       "Bomi                                                          153.0                 \n",
       "Bong                                                          354.0                 \n",
       "Gbarpolu                                                      126.0                 \n",
       "Grand Bassa                                                   199.0                 \n",
       "Grand Cape Mount                                              288.0                 \n",
       "\n",
       "                  How many MALE students AGE 5 YEARS OLD are in Pre-Kindergarten?  \\\n",
       "County                                                                              \n",
       "Bomi                                                          203.0                 \n",
       "Bong                                                          458.0                 \n",
       "Gbarpolu                                                      196.0                 \n",
       "Grand Bassa                                                   432.0                 \n",
       "Grand Cape Mount                                              347.0                 \n",
       "\n",
       "                  How many MALE students AGE 6 YEARS OLD are in Pre-Kindergarten?  \\\n",
       "County                                                                              \n",
       "Bomi                                                          173.0                 \n",
       "Bong                                                          595.0                 \n",
       "Gbarpolu                                                      309.0                 \n",
       "Grand Bassa                                                   460.0                 \n",
       "Grand Cape Mount                                              358.0                 \n",
       "\n",
       "                  How many MALE students AGE 7 YEARS OLD are in Pre-Kindergarten?  \\\n",
       "County                                                                              \n",
       "Bomi                                                           86.0                 \n",
       "Bong                                                          534.0                 \n",
       "Gbarpolu                                                      233.0                 \n",
       "Grand Bassa                                                   441.0                 \n",
       "Grand Cape Mount                                              270.0                 \n",
       "\n",
       "                  How many MALE students AGE 8 YEARS OLD are in Pre-Kindergarten?  \\\n",
       "County                                                                              \n",
       "Bomi                                                           73.0                 \n",
       "Bong                                                          420.0                 \n",
       "Gbarpolu                                                      141.0                 \n",
       "Grand Bassa                                                   293.0                 \n",
       "Grand Cape Mount                                              162.0                 \n",
       "\n",
       "                  How many MALE students above AGE 8 YEARS OLD are in Pre-Kindergarten?  \\\n",
       "County                                                                                    \n",
       "Bomi                                                           56.0                       \n",
       "Bong                                                          474.0                       \n",
       "Gbarpolu                                                      132.0                       \n",
       "Grand Bassa                                                   367.0                       \n",
       "Grand Cape Mount                                              148.0                       \n",
       "\n",
       "                  How many FEMALE students  AGE 3 YEARS OLD are in Pre-Kindergarten?  \\\n",
       "County                                                                                 \n",
       "Bomi                                                           38.0                    \n",
       "Bong                                                          153.0                    \n",
       "Gbarpolu                                                       53.0                    \n",
       "Grand Bassa                                                    64.0                    \n",
       "Grand Cape Mount                                              209.0                    \n",
       "\n",
       "                  How many FEMALE students  AGE 4 YEARS OLD are in Pre-Kindergarten?  \\\n",
       "County                                                                                 \n",
       "Bomi                                                          119.0                    \n",
       "Bong                                                          337.0                    \n",
       "Gbarpolu                                                      107.0                    \n",
       "Grand Bassa                                                   191.0                    \n",
       "Grand Cape Mount                                              266.0                    \n",
       "\n",
       "                  How many FEMALE students  AGE 5 YEARS OLD are in Pre-Kindergarten?  \\\n",
       "County                                                                                 \n",
       "Bomi                                                          167.0                    \n",
       "Bong                                                          428.0                    \n",
       "Gbarpolu                                                      133.0                    \n",
       "Grand Bassa                                                   422.0                    \n",
       "Grand Cape Mount                                              342.0                    \n",
       "\n",
       "                  How many FEMALE students  AGE 6 YEARS OLD are in Pre-Kindergarten?  \\\n",
       "County                                                                                 \n",
       "Bomi                                                          160.0                    \n",
       "Bong                                                          532.0                    \n",
       "Gbarpolu                                                      261.0                    \n",
       "Grand Bassa                                                   406.0                    \n",
       "Grand Cape Mount                                              371.0                    \n",
       "\n",
       "                  How many FEMALE students  AGE 7 YEARS OLD are in Pre-Kindergarten?  \\\n",
       "County                                                                                 \n",
       "Bomi                                                           75.0                    \n",
       "Bong                                                          495.0                    \n",
       "Gbarpolu                                                      208.0                    \n",
       "Grand Bassa                                                   446.0                    \n",
       "Grand Cape Mount                                              295.0                    \n",
       "\n",
       "                  How many FEMALE students  AGE 8 YEARS OLD are in Pre-Kindergarten?  \\\n",
       "County                                                                                 \n",
       "Bomi                                                           60.0                    \n",
       "Bong                                                          395.0                    \n",
       "Gbarpolu                                                      148.0                    \n",
       "Grand Bassa                                                   410.0                    \n",
       "Grand Cape Mount                                              196.0                    \n",
       "\n",
       "                  How many FEMALE students  above AGE 8 YEARS OLD are in Pre-Kindergarten?  \\\n",
       "County                                                                                       \n",
       "Bomi                                                           52.0                          \n",
       "Bong                                                          488.0                          \n",
       "Gbarpolu                                                      146.0                          \n",
       "Grand Bassa                                                   272.0                          \n",
       "Grand Cape Mount                                              144.0                          \n",
       "\n",
       "                  How many MALE students AGE 3 YEARS OLD are in Kindergarten?  \\\n",
       "County                                                                          \n",
       "Bomi                                                           15.0             \n",
       "Bong                                                          125.0             \n",
       "Gbarpolu                                                       32.0             \n",
       "Grand Bassa                                                    61.0             \n",
       "Grand Cape Mount                                               70.0             \n",
       "\n",
       "                  How many MALE students AGE 4 YEARS OLD are in Kindergarten?  \\\n",
       "County                                                                          \n",
       "Bomi                                                          116.0             \n",
       "Bong                                                          249.0             \n",
       "Gbarpolu                                                       58.0             \n",
       "Grand Bassa                                                   270.0             \n",
       "Grand Cape Mount                                              173.0             \n",
       "\n",
       "                  How many FEMALE students  AGE 5 YEARS OLD are in Kindergarten?  \\\n",
       "County                                                                             \n",
       "Bomi                                                          144.0                \n",
       "Bong                                                          381.0                \n",
       "Gbarpolu                                                      101.0                \n",
       "Grand Bassa                                                   274.0                \n",
       "Grand Cape Mount                                              260.0                \n",
       "\n",
       "                  How many FEMALE students  AGE 6 YEARS OLD are in Kindergarten?  \\\n",
       "County                                                                             \n",
       "Bomi                                                          137.0                \n",
       "Bong                                                          428.0                \n",
       "Gbarpolu                                                      135.0                \n",
       "Grand Bassa                                                   470.0                \n",
       "Grand Cape Mount                                              361.0                \n",
       "\n",
       "                  How many FEMALE students  AGE 7 YEARS OLD are in Kindergarten?  \\\n",
       "County                                                                             \n",
       "Bomi                                                          146.0                \n",
       "Bong                                                          459.0                \n",
       "Gbarpolu                                                      225.0                \n",
       "Grand Bassa                                                   463.0                \n",
       "Grand Cape Mount                                              356.0                \n",
       "\n",
       "                  How many FEMALE students  AGE 8 YEARS OLD are in Kindergarten?  \\\n",
       "County                                                                             \n",
       "Bomi                                                          137.0                \n",
       "Bong                                                          444.0                \n",
       "Gbarpolu                                                      210.0                \n",
       "Grand Bassa                                                   430.0                \n",
       "Grand Cape Mount                                              265.0                \n",
       "\n",
       "                  How many FEMALE students  above AGE 8 YEARS OLD are in Kindergarten?  \n",
       "County                                                                                  \n",
       "Bomi                                                          124.0                     \n",
       "Bong                                                          657.0                     \n",
       "Gbarpolu                                                      237.0                     \n",
       "Grand Bassa                                                   529.0                     \n",
       "Grand Cape Mount                                              247.0                     "
      ]
     },
     "execution_count": 19,
     "metadata": {},
     "output_type": "execute_result"
    }
   ],
   "source": [
    "kece_cos = pd.concat([kece_c, kece_o, kece_s], axis = 1).groupby(['County']).sum()\n",
    "kece_cos.head()"
   ]
  },
  {
   "cell_type": "code",
   "execution_count": 20,
   "id": "15c59238-74ae-4e39-8925-73e0a3fe892f",
   "metadata": {},
   "outputs": [
    {
     "data": {
      "text/plain": [
       "County\n",
       "Bomi                 3011.0\n",
       "Bong                11123.0\n",
       "Gbarpolu             4377.0\n",
       "Grand Bassa          4518.0\n",
       "Grand Cape Mount     6679.0\n",
       "Grand Gedeh          4326.0\n",
       "Grand Kru            3129.0\n",
       "Lofa                 3313.0\n",
       "Margibi              6201.0\n",
       "Maryland              844.0\n",
       "Montserrado 1       23133.0\n",
       "Montserrado 2       19636.0\n",
       "Nimba               21872.0\n",
       "River Gee            2946.0\n",
       "Rivercess            1913.0\n",
       "Sinoe                5415.0\n",
       "dtype: float64"
      ]
     },
     "execution_count": 20,
     "metadata": {},
     "output_type": "execute_result"
    }
   ],
   "source": [
    "kece_cosn = pd.concat([kece_cos.iloc[:,0:2],kece_cos.iloc[:,6:20]], axis=1)\n",
    "kece_cosn.sum(1)"
   ]
  },
  {
   "cell_type": "code",
   "execution_count": null,
   "id": "1adb1402-ae77-41c9-b0bb-c5dc2fedae65",
   "metadata": {},
   "outputs": [],
   "source": []
  },
  {
   "cell_type": "code",
   "execution_count": 21,
   "id": "966a2781-f73c-401d-9624-e9102e2a2328",
   "metadata": {},
   "outputs": [
    {
     "data": {
      "text/plain": [
       "County\n",
       "Bomi                 1469.0\n",
       "Bong                 5967.0\n",
       "Gbarpolu             2285.0\n",
       "Grand Bassa          4575.0\n",
       "Grand Cape Mount     3762.0\n",
       "Grand Gedeh          3533.0\n",
       "Grand Kru            2513.0\n",
       "Lofa                 4219.0\n",
       "Margibi              3857.0\n",
       "Maryland              422.0\n",
       "Montserrado 1       14417.0\n",
       "Montserrado 2       12161.0\n",
       "Nimba               15572.0\n",
       "River Gee            2128.0\n",
       "Rivercess            1268.0\n",
       "Sinoe                3626.0\n",
       "dtype: float64"
      ]
     },
     "execution_count": 21,
     "metadata": {},
     "output_type": "execute_result"
    }
   ],
   "source": [
    "kece_cosp = pd.concat([kece_cos.iloc[:,2:4],kece_cos.iloc[:,20:34]], axis=1)\n",
    "kece_cosp.sum(1)"
   ]
  },
  {
   "cell_type": "code",
   "execution_count": null,
   "id": "11f288a3-5168-4ffb-be1c-9c0bb70a7131",
   "metadata": {},
   "outputs": [],
   "source": []
  },
  {
   "cell_type": "code",
   "execution_count": 22,
   "id": "e695e197-b7d3-46f6-9acc-e51e14ef57d5",
   "metadata": {},
   "outputs": [
    {
     "data": {
      "text/plain": [
       "County\n",
       "Bomi                 819.0\n",
       "Bong                2820.0\n",
       "Gbarpolu            1022.0\n",
       "Grand Bassa         2526.0\n",
       "Grand Cape Mount    1787.0\n",
       "Grand Gedeh         2288.0\n",
       "Grand Kru           1308.0\n",
       "Lofa                2403.0\n",
       "Margibi             2191.0\n",
       "Maryland             432.0\n",
       "Montserrado 1       8647.0\n",
       "Montserrado 2       7967.0\n",
       "Nimba               8233.0\n",
       "River Gee           1171.0\n",
       "Rivercess            600.0\n",
       "Sinoe               1719.0\n",
       "dtype: float64"
      ]
     },
     "execution_count": 22,
     "metadata": {},
     "output_type": "execute_result"
    }
   ],
   "source": [
    "kece_cosk = pd.concat([kece_cos.iloc[:,4:6],kece_cos.iloc[:,34:]], axis = 1)\n",
    "kece_cosk.sum(1)"
   ]
  },
  {
   "cell_type": "code",
   "execution_count": 23,
   "id": "aadbcd46-a21d-49b8-8d2d-690f30ee3133",
   "metadata": {},
   "outputs": [],
   "source": [
    "#pd.concat([kece_c, kece_o, kece_s], axis = 1).groupby(['County', 'Type of school']).sum().sum(1)"
   ]
  },
  {
   "cell_type": "code",
   "execution_count": null,
   "id": "24148910-9cbc-4f92-abca-fc984b788096",
   "metadata": {},
   "outputs": [],
   "source": []
  },
  {
   "cell_type": "code",
   "execution_count": null,
   "id": "695e64c7-8e64-457b-acf0-a0ce9ab6cb22",
   "metadata": {},
   "outputs": [],
   "source": []
  },
  {
   "cell_type": "code",
   "execution_count": null,
   "id": "cb0040d4-35ed-487c-b513-9283d91a6baa",
   "metadata": {},
   "outputs": [],
   "source": []
  },
  {
   "cell_type": "markdown",
   "id": "89b16cfe-16cf-4e9a-b242-8268bdc99284",
   "metadata": {},
   "source": [
    "# Table 4: ECE Students by County and Gender"
   ]
  },
  {
   "cell_type": "code",
   "execution_count": 24,
   "id": "7e348735-be98-42fe-8213-e3529b1f6bff",
   "metadata": {},
   "outputs": [
    {
     "data": {
      "text/plain": [
       "County\n",
       "Bomi                 5299.0\n",
       "Bong                19910.0\n",
       "Gbarpolu             7684.0\n",
       "Grand Bassa         11619.0\n",
       "Grand Cape Mount    12228.0\n",
       "Grand Gedeh         10147.0\n",
       "Grand Kru            6950.0\n",
       "Lofa                 9935.0\n",
       "Margibi             12249.0\n",
       "Maryland             1698.0\n",
       "Montserrado 1       46197.0\n",
       "Montserrado 2       39764.0\n",
       "Nimba               45677.0\n",
       "River Gee            6245.0\n",
       "Rivercess            3781.0\n",
       "Sinoe               10760.0\n",
       "dtype: float64"
      ]
     },
     "execution_count": 24,
     "metadata": {},
     "output_type": "execute_result"
    }
   ],
   "source": [
    "kece_cg = pd.concat([kece_c, kece_s], axis = 1).groupby(['County']).sum()\n",
    "kece_cg.sum(1)"
   ]
  },
  {
   "cell_type": "code",
   "execution_count": 25,
   "id": "392fe786-49ae-49e2-b40c-a337416d79af",
   "metadata": {},
   "outputs": [
    {
     "data": {
      "text/plain": [
       "County\n",
       "Bomi                 2520.0\n",
       "Bong                 9322.0\n",
       "Gbarpolu             3531.0\n",
       "Grand Bassa          4991.0\n",
       "Grand Cape Mount     5506.0\n",
       "Grand Gedeh          4470.0\n",
       "Grand Kru            3170.0\n",
       "Lofa                 4360.0\n",
       "Margibi              5267.0\n",
       "Maryland              779.0\n",
       "Montserrado 1       19935.0\n",
       "Montserrado 2       16602.0\n",
       "Nimba               19914.0\n",
       "River Gee            2726.0\n",
       "Rivercess            1698.0\n",
       "Sinoe                4809.0\n",
       "dtype: float64"
      ]
     },
     "execution_count": 25,
     "metadata": {},
     "output_type": "execute_result"
    }
   ],
   "source": [
    "pd.concat([kece_cg.iloc[:,[0,2,4]],\n",
    "kece_cg.iloc[:,6:13],\n",
    "kece_cg.iloc[:,20:27],kece_cg.iloc[:,-7:-5]]).groupby('County').sum().sum(1)#.sum()"
   ]
  },
  {
   "cell_type": "code",
   "execution_count": null,
   "id": "b47a9c2b-730f-4a81-819c-8178b208d76a",
   "metadata": {},
   "outputs": [],
   "source": []
  },
  {
   "cell_type": "markdown",
   "id": "ed5fe0d3-41d1-4bdc-b039-a88c16577153",
   "metadata": {},
   "source": [
    "# Table 5: ECE Enrollment by County and Ownership"
   ]
  },
  {
   "cell_type": "code",
   "execution_count": 26,
   "id": "7c24e05d-bf85-4b5d-a725-14488dcc3673",
   "metadata": {},
   "outputs": [
    {
     "data": {
      "text/plain": [
       "County            Type of school\n",
       "Bomi              Community            90.0\n",
       "                  Faith-based         801.0\n",
       "                  Private             835.0\n",
       "                  Public             3573.0\n",
       "Bong              Community           964.0\n",
       "                  Faith-based        2476.0\n",
       "                  Private            3440.0\n",
       "                  Public            13030.0\n",
       "Gbarpolu          Community            39.0\n",
       "                  Faith-based         281.0\n",
       "                  Private             203.0\n",
       "                  Public             7161.0\n",
       "Grand Bassa       Community           824.0\n",
       "                  Faith-based         725.0\n",
       "                  Private            2913.0\n",
       "                  Public             7157.0\n",
       "Grand Cape Mount  Community           605.0\n",
       "                  Faith-based        1297.0\n",
       "                  Private            1728.0\n",
       "                  Public             8598.0\n",
       "Grand Gedeh       Community           505.0\n",
       "                  Faith-based         960.0\n",
       "                  Private            3072.0\n",
       "                  Public             5610.0\n",
       "Grand Kru         Faith-based         606.0\n",
       "                  Private             123.0\n",
       "                  Public             6221.0\n",
       "Lofa              Community           295.0\n",
       "                  Faith-based         262.0\n",
       "                  Private             849.0\n",
       "                  Public             8529.0\n",
       "Margibi           Community          1209.0\n",
       "                  Faith-based        2179.0\n",
       "                  Private            4308.0\n",
       "                  Public             4553.0\n",
       "Maryland          Private             312.0\n",
       "                  Public             1386.0\n",
       "Montserrado 1     Community          2261.0\n",
       "                  Faith-based       14203.0\n",
       "                  Private           27692.0\n",
       "                  Public             2041.0\n",
       "Montserrado 2     Community           530.0\n",
       "                  Faith-based       11729.0\n",
       "                  Private           22619.0\n",
       "                  Public             4886.0\n",
       "Nimba             Community          2463.0\n",
       "                  Faith-based        4841.0\n",
       "                  Private            7129.0\n",
       "                  Public            31244.0\n",
       "River Gee         Faith-based        1097.0\n",
       "                  Private             118.0\n",
       "                  Public             5030.0\n",
       "Rivercess         Community            35.0\n",
       "                  Faith-based         262.0\n",
       "                  Private             145.0\n",
       "                  Public             3339.0\n",
       "Sinoe             Community           107.0\n",
       "                  Faith-based        1611.0\n",
       "                  Private            1100.0\n",
       "                  Public             7942.0\n",
       "dtype: float64"
      ]
     },
     "execution_count": 26,
     "metadata": {},
     "output_type": "execute_result"
    }
   ],
   "source": [
    "pd.concat([kece_c, kece_o, kece_s], axis = 1).groupby(['County', 'Type of school']).sum().sum(1)"
   ]
  },
  {
   "cell_type": "code",
   "execution_count": null,
   "id": "32f7c120-f693-4519-aaa3-587e7e9c2188",
   "metadata": {},
   "outputs": [],
   "source": []
  },
  {
   "cell_type": "code",
   "execution_count": null,
   "id": "4f253cbe-09b1-44e3-b4df-e4951549ba2d",
   "metadata": {},
   "outputs": [],
   "source": []
  },
  {
   "cell_type": "markdown",
   "id": "5fac7e1b-3965-4b29-a68f-a117d074c32f",
   "metadata": {},
   "source": [
    "# Table 6: ECE Enrollment by District and Gender"
   ]
  },
  {
   "cell_type": "code",
   "execution_count": 27,
   "id": "91f15aae-7d9d-4025-9bf5-a1ac9d4e92bc",
   "metadata": {},
   "outputs": [],
   "source": [
    "kece_c = kcensus.iloc[:,[2]]\n",
    "kece_d = kcensus.iloc[:,3:19]\n",
    "kece_s = kece_student.iloc[:,46:87]"
   ]
  },
  {
   "cell_type": "code",
   "execution_count": 28,
   "id": "1f1e1d30-c765-48e8-a3e5-dcdd6ffc3e0b",
   "metadata": {},
   "outputs": [
    {
     "data": {
      "text/plain": [
       "Index(['County', 'District in Bong County', 'District in Gbarpolu',\n",
       "       'District in River Gee', 'District in Sinoe', 'District in Lofa',\n",
       "       'District in Nimba', 'District in Grand Cape Mount',\n",
       "       'District in Maryland', 'District in Margibi', 'District in Bomi',\n",
       "       'District in Grand Bassa', 'District in Montserrado 2',\n",
       "       'District in Montserrado 1', 'Districts in Grand Kru',\n",
       "       'Districts in Grand Gedeh', 'Districts in River Cess',\n",
       "       'How many MALE students below AGE 3 YEARS OLD are in Nursery?',\n",
       "       'How many FEMALE students below AGE 3 YEARS OLD are in Nursery?',\n",
       "       'How many MALE students below AGE 3 YEARS OLD are in Pre-kindergarten?',\n",
       "       'How many FEMALE students below AGE 3 YEARS OLD are in Pre-kindergarten?',\n",
       "       'How many MALE students below AGE 3 YEARS OLD are in Kindergarten?',\n",
       "       'How many FEMALE students below AGE 3 YEARS OLD are in Kindergarten?',\n",
       "       'How many MALE students AGE 3 YEARS OLD are in Nursery?',\n",
       "       'How many MALE students AGE 4 YEARS OLD are in Nursery?',\n",
       "       'How many MALE students AGE 5 YEARS OLD are in Nursery?',\n",
       "       'How many MALE students AGE 6 YEARS OLD are in Nursery?',\n",
       "       'How many MALE students AGE 7 YEARS OLD are in Nursery?',\n",
       "       'How many MALE students AGE 8 YEARS OLD are in Nursery?',\n",
       "       'How many MALE students Above AGE 8 YEARS OLD are in Nursery?',\n",
       "       'How many FEMALE students  AGE 3 YEARS OLD are in Nursery?',\n",
       "       'How many FEMALE students  AGE 4 YEARS OLD are in Nursery?',\n",
       "       'How many FEMALE students  AGE 5 YEARS OLD are in Nursery?',\n",
       "       'How many FEMALE students  AGE 6 YEARS OLD are in Nursery?',\n",
       "       'How many FEMALE students  AGE 7 YEARS OLD are in Nursery?',\n",
       "       'How many FEMALE students  AGE 8 YEARS OLD are in Nursery?',\n",
       "       'How many FEMALE students  above AGE 8 YEARS OLD are in Nursery?',\n",
       "       'How many MALE students AGE 3 YEARS OLD are in Pre-Kindergarten?',\n",
       "       'How many MALE students AGE 4 YEARS OLD are in Pre-Kindergarten?',\n",
       "       'How many MALE students AGE 5 YEARS OLD are in Pre-Kindergarten?',\n",
       "       'How many MALE students AGE 6 YEARS OLD are in Pre-Kindergarten?',\n",
       "       'How many MALE students AGE 7 YEARS OLD are in Pre-Kindergarten?',\n",
       "       'How many MALE students AGE 8 YEARS OLD are in Pre-Kindergarten?',\n",
       "       'How many MALE students above AGE 8 YEARS OLD are in Pre-Kindergarten?',\n",
       "       'How many FEMALE students  AGE 3 YEARS OLD are in Pre-Kindergarten?',\n",
       "       'How many FEMALE students  AGE 4 YEARS OLD are in Pre-Kindergarten?',\n",
       "       'How many FEMALE students  AGE 5 YEARS OLD are in Pre-Kindergarten?',\n",
       "       'How many FEMALE students  AGE 6 YEARS OLD are in Pre-Kindergarten?',\n",
       "       'How many FEMALE students  AGE 7 YEARS OLD are in Pre-Kindergarten?',\n",
       "       'How many FEMALE students  AGE 8 YEARS OLD are in Pre-Kindergarten?',\n",
       "       'How many FEMALE students  above AGE 8 YEARS OLD are in Pre-Kindergarten?',\n",
       "       'How many MALE students AGE 3 YEARS OLD are in Kindergarten?',\n",
       "       'How many MALE students AGE 4 YEARS OLD are in Kindergarten?',\n",
       "       'How many FEMALE students  AGE 5 YEARS OLD are in Kindergarten?',\n",
       "       'How many FEMALE students  AGE 6 YEARS OLD are in Kindergarten?',\n",
       "       'How many FEMALE students  AGE 7 YEARS OLD are in Kindergarten?',\n",
       "       'How many FEMALE students  AGE 8 YEARS OLD are in Kindergarten?',\n",
       "       'How many FEMALE students  above AGE 8 YEARS OLD are in Kindergarten?'],\n",
       "      dtype='object')"
      ]
     },
     "execution_count": 28,
     "metadata": {},
     "output_type": "execute_result"
    }
   ],
   "source": [
    "kece_cds = pd.concat([kece_c, kece_d, kece_s], axis = 1)\n",
    "kece_cds.columns"
   ]
  },
  {
   "cell_type": "code",
   "execution_count": 29,
   "id": "3040ea00-86d9-4a8e-9d1f-c9f11144d4c3",
   "metadata": {},
   "outputs": [
    {
     "data": {
      "text/html": [
       "<div>\n",
       "<style scoped>\n",
       "    .dataframe tbody tr th:only-of-type {\n",
       "        vertical-align: middle;\n",
       "    }\n",
       "\n",
       "    .dataframe tbody tr th {\n",
       "        vertical-align: top;\n",
       "    }\n",
       "\n",
       "    .dataframe thead th {\n",
       "        text-align: right;\n",
       "    }\n",
       "</style>\n",
       "<table border=\"1\" class=\"dataframe\">\n",
       "  <thead>\n",
       "    <tr style=\"text-align: right;\">\n",
       "      <th></th>\n",
       "      <th>County</th>\n",
       "      <th>How many MALE students below AGE 3 YEARS OLD are in Nursery?</th>\n",
       "      <th>How many FEMALE students below AGE 3 YEARS OLD are in Nursery?</th>\n",
       "      <th>How many MALE students below AGE 3 YEARS OLD are in Pre-kindergarten?</th>\n",
       "      <th>How many FEMALE students below AGE 3 YEARS OLD are in Pre-kindergarten?</th>\n",
       "      <th>How many MALE students below AGE 3 YEARS OLD are in Kindergarten?</th>\n",
       "      <th>How many FEMALE students below AGE 3 YEARS OLD are in Kindergarten?</th>\n",
       "      <th>How many MALE students AGE 3 YEARS OLD are in Nursery?</th>\n",
       "      <th>How many MALE students AGE 4 YEARS OLD are in Nursery?</th>\n",
       "      <th>How many MALE students AGE 5 YEARS OLD are in Nursery?</th>\n",
       "      <th>How many MALE students AGE 6 YEARS OLD are in Nursery?</th>\n",
       "      <th>How many MALE students AGE 7 YEARS OLD are in Nursery?</th>\n",
       "      <th>How many MALE students AGE 8 YEARS OLD are in Nursery?</th>\n",
       "      <th>How many MALE students Above AGE 8 YEARS OLD are in Nursery?</th>\n",
       "      <th>How many FEMALE students  AGE 3 YEARS OLD are in Nursery?</th>\n",
       "      <th>How many FEMALE students  AGE 4 YEARS OLD are in Nursery?</th>\n",
       "      <th>How many FEMALE students  AGE 5 YEARS OLD are in Nursery?</th>\n",
       "      <th>How many FEMALE students  AGE 6 YEARS OLD are in Nursery?</th>\n",
       "      <th>How many FEMALE students  AGE 7 YEARS OLD are in Nursery?</th>\n",
       "      <th>How many FEMALE students  AGE 8 YEARS OLD are in Nursery?</th>\n",
       "      <th>How many FEMALE students  above AGE 8 YEARS OLD are in Nursery?</th>\n",
       "      <th>How many MALE students AGE 3 YEARS OLD are in Pre-Kindergarten?</th>\n",
       "      <th>How many MALE students AGE 4 YEARS OLD are in Pre-Kindergarten?</th>\n",
       "      <th>How many MALE students AGE 5 YEARS OLD are in Pre-Kindergarten?</th>\n",
       "      <th>How many MALE students AGE 6 YEARS OLD are in Pre-Kindergarten?</th>\n",
       "      <th>How many MALE students AGE 7 YEARS OLD are in Pre-Kindergarten?</th>\n",
       "      <th>How many MALE students AGE 8 YEARS OLD are in Pre-Kindergarten?</th>\n",
       "      <th>How many MALE students above AGE 8 YEARS OLD are in Pre-Kindergarten?</th>\n",
       "      <th>How many FEMALE students  AGE 3 YEARS OLD are in Pre-Kindergarten?</th>\n",
       "      <th>How many FEMALE students  AGE 4 YEARS OLD are in Pre-Kindergarten?</th>\n",
       "      <th>How many FEMALE students  AGE 5 YEARS OLD are in Pre-Kindergarten?</th>\n",
       "      <th>How many FEMALE students  AGE 6 YEARS OLD are in Pre-Kindergarten?</th>\n",
       "      <th>How many FEMALE students  AGE 7 YEARS OLD are in Pre-Kindergarten?</th>\n",
       "      <th>How many FEMALE students  AGE 8 YEARS OLD are in Pre-Kindergarten?</th>\n",
       "      <th>How many FEMALE students  above AGE 8 YEARS OLD are in Pre-Kindergarten?</th>\n",
       "      <th>How many MALE students AGE 3 YEARS OLD are in Kindergarten?</th>\n",
       "      <th>How many MALE students AGE 4 YEARS OLD are in Kindergarten?</th>\n",
       "      <th>How many FEMALE students  AGE 5 YEARS OLD are in Kindergarten?</th>\n",
       "      <th>How many FEMALE students  AGE 6 YEARS OLD are in Kindergarten?</th>\n",
       "      <th>How many FEMALE students  AGE 7 YEARS OLD are in Kindergarten?</th>\n",
       "      <th>How many FEMALE students  AGE 8 YEARS OLD are in Kindergarten?</th>\n",
       "      <th>How many FEMALE students  above AGE 8 YEARS OLD are in Kindergarten?</th>\n",
       "      <th>district</th>\n",
       "      <th>count</th>\n",
       "    </tr>\n",
       "  </thead>\n",
       "  <tbody>\n",
       "    <tr>\n",
       "      <th>0</th>\n",
       "      <td>Rivercess</td>\n",
       "      <td>NaN</td>\n",
       "      <td>NaN</td>\n",
       "      <td>NaN</td>\n",
       "      <td>NaN</td>\n",
       "      <td>NaN</td>\n",
       "      <td>NaN</td>\n",
       "      <td>NaN</td>\n",
       "      <td>NaN</td>\n",
       "      <td>NaN</td>\n",
       "      <td>NaN</td>\n",
       "      <td>NaN</td>\n",
       "      <td>NaN</td>\n",
       "      <td>NaN</td>\n",
       "      <td>NaN</td>\n",
       "      <td>NaN</td>\n",
       "      <td>NaN</td>\n",
       "      <td>NaN</td>\n",
       "      <td>NaN</td>\n",
       "      <td>NaN</td>\n",
       "      <td>NaN</td>\n",
       "      <td>NaN</td>\n",
       "      <td>NaN</td>\n",
       "      <td>NaN</td>\n",
       "      <td>NaN</td>\n",
       "      <td>NaN</td>\n",
       "      <td>NaN</td>\n",
       "      <td>NaN</td>\n",
       "      <td>NaN</td>\n",
       "      <td>NaN</td>\n",
       "      <td>NaN</td>\n",
       "      <td>NaN</td>\n",
       "      <td>NaN</td>\n",
       "      <td>NaN</td>\n",
       "      <td>NaN</td>\n",
       "      <td>NaN</td>\n",
       "      <td>NaN</td>\n",
       "      <td>NaN</td>\n",
       "      <td>NaN</td>\n",
       "      <td>NaN</td>\n",
       "      <td>NaN</td>\n",
       "      <td>NaN</td>\n",
       "      <td>District in Bong County</td>\n",
       "      <td>NaN</td>\n",
       "    </tr>\n",
       "    <tr>\n",
       "      <th>1</th>\n",
       "      <td>Nimba</td>\n",
       "      <td>0.0</td>\n",
       "      <td>0.0</td>\n",
       "      <td>0.0</td>\n",
       "      <td>0.0</td>\n",
       "      <td>0.0</td>\n",
       "      <td>0.0</td>\n",
       "      <td>4.0</td>\n",
       "      <td>2.0</td>\n",
       "      <td>2.0</td>\n",
       "      <td>3.0</td>\n",
       "      <td>3.0</td>\n",
       "      <td>8.0</td>\n",
       "      <td>10.0</td>\n",
       "      <td>2.0</td>\n",
       "      <td>1.0</td>\n",
       "      <td>3.0</td>\n",
       "      <td>2.0</td>\n",
       "      <td>4.0</td>\n",
       "      <td>3.0</td>\n",
       "      <td>5.0</td>\n",
       "      <td>1.0</td>\n",
       "      <td>2.0</td>\n",
       "      <td>3.0</td>\n",
       "      <td>2.0</td>\n",
       "      <td>0.0</td>\n",
       "      <td>2.0</td>\n",
       "      <td>2.0</td>\n",
       "      <td>0.0</td>\n",
       "      <td>2.0</td>\n",
       "      <td>2.0</td>\n",
       "      <td>4.0</td>\n",
       "      <td>5.0</td>\n",
       "      <td>2.0</td>\n",
       "      <td>5.0</td>\n",
       "      <td>0.0</td>\n",
       "      <td>2.0</td>\n",
       "      <td>1.0</td>\n",
       "      <td>1.0</td>\n",
       "      <td>5.0</td>\n",
       "      <td>6.0</td>\n",
       "      <td>2.0</td>\n",
       "      <td>District in Bong County</td>\n",
       "      <td>NaN</td>\n",
       "    </tr>\n",
       "    <tr>\n",
       "      <th>2</th>\n",
       "      <td>River Gee</td>\n",
       "      <td>0.0</td>\n",
       "      <td>0.0</td>\n",
       "      <td>0.0</td>\n",
       "      <td>0.0</td>\n",
       "      <td>0.0</td>\n",
       "      <td>0.0</td>\n",
       "      <td>2.0</td>\n",
       "      <td>1.0</td>\n",
       "      <td>1.0</td>\n",
       "      <td>1.0</td>\n",
       "      <td>0.0</td>\n",
       "      <td>0.0</td>\n",
       "      <td>0.0</td>\n",
       "      <td>0.0</td>\n",
       "      <td>2.0</td>\n",
       "      <td>1.0</td>\n",
       "      <td>0.0</td>\n",
       "      <td>0.0</td>\n",
       "      <td>0.0</td>\n",
       "      <td>0.0</td>\n",
       "      <td>1.0</td>\n",
       "      <td>2.0</td>\n",
       "      <td>0.0</td>\n",
       "      <td>1.0</td>\n",
       "      <td>0.0</td>\n",
       "      <td>0.0</td>\n",
       "      <td>0.0</td>\n",
       "      <td>0.0</td>\n",
       "      <td>2.0</td>\n",
       "      <td>0.0</td>\n",
       "      <td>2.0</td>\n",
       "      <td>0.0</td>\n",
       "      <td>0.0</td>\n",
       "      <td>0.0</td>\n",
       "      <td>0.0</td>\n",
       "      <td>3.0</td>\n",
       "      <td>1.0</td>\n",
       "      <td>2.0</td>\n",
       "      <td>0.0</td>\n",
       "      <td>0.0</td>\n",
       "      <td>0.0</td>\n",
       "      <td>District in Bong County</td>\n",
       "      <td>NaN</td>\n",
       "    </tr>\n",
       "    <tr>\n",
       "      <th>3</th>\n",
       "      <td>Montserrado 1</td>\n",
       "      <td>12.0</td>\n",
       "      <td>13.0</td>\n",
       "      <td>NaN</td>\n",
       "      <td>NaN</td>\n",
       "      <td>NaN</td>\n",
       "      <td>NaN</td>\n",
       "      <td>NaN</td>\n",
       "      <td>NaN</td>\n",
       "      <td>NaN</td>\n",
       "      <td>NaN</td>\n",
       "      <td>NaN</td>\n",
       "      <td>NaN</td>\n",
       "      <td>NaN</td>\n",
       "      <td>NaN</td>\n",
       "      <td>NaN</td>\n",
       "      <td>NaN</td>\n",
       "      <td>NaN</td>\n",
       "      <td>NaN</td>\n",
       "      <td>NaN</td>\n",
       "      <td>NaN</td>\n",
       "      <td>30.0</td>\n",
       "      <td>20.0</td>\n",
       "      <td>NaN</td>\n",
       "      <td>NaN</td>\n",
       "      <td>NaN</td>\n",
       "      <td>NaN</td>\n",
       "      <td>NaN</td>\n",
       "      <td>20.0</td>\n",
       "      <td>14.0</td>\n",
       "      <td>NaN</td>\n",
       "      <td>NaN</td>\n",
       "      <td>NaN</td>\n",
       "      <td>NaN</td>\n",
       "      <td>NaN</td>\n",
       "      <td>NaN</td>\n",
       "      <td>NaN</td>\n",
       "      <td>10.0</td>\n",
       "      <td>2.0</td>\n",
       "      <td>NaN</td>\n",
       "      <td>NaN</td>\n",
       "      <td>10.0</td>\n",
       "      <td>District in Bong County</td>\n",
       "      <td>NaN</td>\n",
       "    </tr>\n",
       "    <tr>\n",
       "      <th>4</th>\n",
       "      <td>Montserrado 1</td>\n",
       "      <td>5.0</td>\n",
       "      <td>10.0</td>\n",
       "      <td>0.0</td>\n",
       "      <td>0.0</td>\n",
       "      <td>0.0</td>\n",
       "      <td>0.0</td>\n",
       "      <td>1.0</td>\n",
       "      <td>3.0</td>\n",
       "      <td>1.0</td>\n",
       "      <td>0.0</td>\n",
       "      <td>0.0</td>\n",
       "      <td>0.0</td>\n",
       "      <td>0.0</td>\n",
       "      <td>2.0</td>\n",
       "      <td>5.0</td>\n",
       "      <td>0.0</td>\n",
       "      <td>0.0</td>\n",
       "      <td>0.0</td>\n",
       "      <td>0.0</td>\n",
       "      <td>0.0</td>\n",
       "      <td>4.0</td>\n",
       "      <td>1.0</td>\n",
       "      <td>3.0</td>\n",
       "      <td>0.0</td>\n",
       "      <td>0.0</td>\n",
       "      <td>0.0</td>\n",
       "      <td>0.0</td>\n",
       "      <td>0.0</td>\n",
       "      <td>0.0</td>\n",
       "      <td>0.0</td>\n",
       "      <td>3.0</td>\n",
       "      <td>2.0</td>\n",
       "      <td>0.0</td>\n",
       "      <td>0.0</td>\n",
       "      <td>0.0</td>\n",
       "      <td>0.0</td>\n",
       "      <td>0.0</td>\n",
       "      <td>10.0</td>\n",
       "      <td>5.0</td>\n",
       "      <td>5.0</td>\n",
       "      <td>0.0</td>\n",
       "      <td>District in Bong County</td>\n",
       "      <td>NaN</td>\n",
       "    </tr>\n",
       "  </tbody>\n",
       "</table>\n",
       "</div>"
      ],
      "text/plain": [
       "          County  \\\n",
       "0      Rivercess   \n",
       "1          Nimba   \n",
       "2      River Gee   \n",
       "3  Montserrado 1   \n",
       "4  Montserrado 1   \n",
       "\n",
       "   How many MALE students below AGE 3 YEARS OLD are in Nursery?  \\\n",
       "0                                                NaN              \n",
       "1                                                0.0              \n",
       "2                                                0.0              \n",
       "3                                               12.0              \n",
       "4                                                5.0              \n",
       "\n",
       "   How many FEMALE students below AGE 3 YEARS OLD are in Nursery?  \\\n",
       "0                                                NaN                \n",
       "1                                                0.0                \n",
       "2                                                0.0                \n",
       "3                                               13.0                \n",
       "4                                               10.0                \n",
       "\n",
       "   How many MALE students below AGE 3 YEARS OLD are in Pre-kindergarten?  \\\n",
       "0                                                NaN                       \n",
       "1                                                0.0                       \n",
       "2                                                0.0                       \n",
       "3                                                NaN                       \n",
       "4                                                0.0                       \n",
       "\n",
       "   How many FEMALE students below AGE 3 YEARS OLD are in Pre-kindergarten?  \\\n",
       "0                                                NaN                         \n",
       "1                                                0.0                         \n",
       "2                                                0.0                         \n",
       "3                                                NaN                         \n",
       "4                                                0.0                         \n",
       "\n",
       "   How many MALE students below AGE 3 YEARS OLD are in Kindergarten?  \\\n",
       "0                                                NaN                   \n",
       "1                                                0.0                   \n",
       "2                                                0.0                   \n",
       "3                                                NaN                   \n",
       "4                                                0.0                   \n",
       "\n",
       "   How many FEMALE students below AGE 3 YEARS OLD are in Kindergarten?  \\\n",
       "0                                                NaN                     \n",
       "1                                                0.0                     \n",
       "2                                                0.0                     \n",
       "3                                                NaN                     \n",
       "4                                                0.0                     \n",
       "\n",
       "   How many MALE students AGE 3 YEARS OLD are in Nursery?  \\\n",
       "0                                                NaN        \n",
       "1                                                4.0        \n",
       "2                                                2.0        \n",
       "3                                                NaN        \n",
       "4                                                1.0        \n",
       "\n",
       "   How many MALE students AGE 4 YEARS OLD are in Nursery?  \\\n",
       "0                                                NaN        \n",
       "1                                                2.0        \n",
       "2                                                1.0        \n",
       "3                                                NaN        \n",
       "4                                                3.0        \n",
       "\n",
       "   How many MALE students AGE 5 YEARS OLD are in Nursery?  \\\n",
       "0                                                NaN        \n",
       "1                                                2.0        \n",
       "2                                                1.0        \n",
       "3                                                NaN        \n",
       "4                                                1.0        \n",
       "\n",
       "   How many MALE students AGE 6 YEARS OLD are in Nursery?  \\\n",
       "0                                                NaN        \n",
       "1                                                3.0        \n",
       "2                                                1.0        \n",
       "3                                                NaN        \n",
       "4                                                0.0        \n",
       "\n",
       "   How many MALE students AGE 7 YEARS OLD are in Nursery?  \\\n",
       "0                                                NaN        \n",
       "1                                                3.0        \n",
       "2                                                0.0        \n",
       "3                                                NaN        \n",
       "4                                                0.0        \n",
       "\n",
       "   How many MALE students AGE 8 YEARS OLD are in Nursery?  \\\n",
       "0                                                NaN        \n",
       "1                                                8.0        \n",
       "2                                                0.0        \n",
       "3                                                NaN        \n",
       "4                                                0.0        \n",
       "\n",
       "   How many MALE students Above AGE 8 YEARS OLD are in Nursery?  \\\n",
       "0                                                NaN              \n",
       "1                                               10.0              \n",
       "2                                                0.0              \n",
       "3                                                NaN              \n",
       "4                                                0.0              \n",
       "\n",
       "   How many FEMALE students  AGE 3 YEARS OLD are in Nursery?  \\\n",
       "0                                                NaN           \n",
       "1                                                2.0           \n",
       "2                                                0.0           \n",
       "3                                                NaN           \n",
       "4                                                2.0           \n",
       "\n",
       "   How many FEMALE students  AGE 4 YEARS OLD are in Nursery?  \\\n",
       "0                                                NaN           \n",
       "1                                                1.0           \n",
       "2                                                2.0           \n",
       "3                                                NaN           \n",
       "4                                                5.0           \n",
       "\n",
       "   How many FEMALE students  AGE 5 YEARS OLD are in Nursery?  \\\n",
       "0                                                NaN           \n",
       "1                                                3.0           \n",
       "2                                                1.0           \n",
       "3                                                NaN           \n",
       "4                                                0.0           \n",
       "\n",
       "   How many FEMALE students  AGE 6 YEARS OLD are in Nursery?  \\\n",
       "0                                                NaN           \n",
       "1                                                2.0           \n",
       "2                                                0.0           \n",
       "3                                                NaN           \n",
       "4                                                0.0           \n",
       "\n",
       "   How many FEMALE students  AGE 7 YEARS OLD are in Nursery?  \\\n",
       "0                                                NaN           \n",
       "1                                                4.0           \n",
       "2                                                0.0           \n",
       "3                                                NaN           \n",
       "4                                                0.0           \n",
       "\n",
       "   How many FEMALE students  AGE 8 YEARS OLD are in Nursery?  \\\n",
       "0                                                NaN           \n",
       "1                                                3.0           \n",
       "2                                                0.0           \n",
       "3                                                NaN           \n",
       "4                                                0.0           \n",
       "\n",
       "   How many FEMALE students  above AGE 8 YEARS OLD are in Nursery?  \\\n",
       "0                                                NaN                 \n",
       "1                                                5.0                 \n",
       "2                                                0.0                 \n",
       "3                                                NaN                 \n",
       "4                                                0.0                 \n",
       "\n",
       "   How many MALE students AGE 3 YEARS OLD are in Pre-Kindergarten?  \\\n",
       "0                                                NaN                 \n",
       "1                                                1.0                 \n",
       "2                                                1.0                 \n",
       "3                                               30.0                 \n",
       "4                                                4.0                 \n",
       "\n",
       "   How many MALE students AGE 4 YEARS OLD are in Pre-Kindergarten?  \\\n",
       "0                                                NaN                 \n",
       "1                                                2.0                 \n",
       "2                                                2.0                 \n",
       "3                                               20.0                 \n",
       "4                                                1.0                 \n",
       "\n",
       "   How many MALE students AGE 5 YEARS OLD are in Pre-Kindergarten?  \\\n",
       "0                                                NaN                 \n",
       "1                                                3.0                 \n",
       "2                                                0.0                 \n",
       "3                                                NaN                 \n",
       "4                                                3.0                 \n",
       "\n",
       "   How many MALE students AGE 6 YEARS OLD are in Pre-Kindergarten?  \\\n",
       "0                                                NaN                 \n",
       "1                                                2.0                 \n",
       "2                                                1.0                 \n",
       "3                                                NaN                 \n",
       "4                                                0.0                 \n",
       "\n",
       "   How many MALE students AGE 7 YEARS OLD are in Pre-Kindergarten?  \\\n",
       "0                                                NaN                 \n",
       "1                                                0.0                 \n",
       "2                                                0.0                 \n",
       "3                                                NaN                 \n",
       "4                                                0.0                 \n",
       "\n",
       "   How many MALE students AGE 8 YEARS OLD are in Pre-Kindergarten?  \\\n",
       "0                                                NaN                 \n",
       "1                                                2.0                 \n",
       "2                                                0.0                 \n",
       "3                                                NaN                 \n",
       "4                                                0.0                 \n",
       "\n",
       "   How many MALE students above AGE 8 YEARS OLD are in Pre-Kindergarten?  \\\n",
       "0                                                NaN                       \n",
       "1                                                2.0                       \n",
       "2                                                0.0                       \n",
       "3                                                NaN                       \n",
       "4                                                0.0                       \n",
       "\n",
       "   How many FEMALE students  AGE 3 YEARS OLD are in Pre-Kindergarten?  \\\n",
       "0                                                NaN                    \n",
       "1                                                0.0                    \n",
       "2                                                0.0                    \n",
       "3                                               20.0                    \n",
       "4                                                0.0                    \n",
       "\n",
       "   How many FEMALE students  AGE 4 YEARS OLD are in Pre-Kindergarten?  \\\n",
       "0                                                NaN                    \n",
       "1                                                2.0                    \n",
       "2                                                2.0                    \n",
       "3                                               14.0                    \n",
       "4                                                0.0                    \n",
       "\n",
       "   How many FEMALE students  AGE 5 YEARS OLD are in Pre-Kindergarten?  \\\n",
       "0                                                NaN                    \n",
       "1                                                2.0                    \n",
       "2                                                0.0                    \n",
       "3                                                NaN                    \n",
       "4                                                0.0                    \n",
       "\n",
       "   How many FEMALE students  AGE 6 YEARS OLD are in Pre-Kindergarten?  \\\n",
       "0                                                NaN                    \n",
       "1                                                4.0                    \n",
       "2                                                2.0                    \n",
       "3                                                NaN                    \n",
       "4                                                3.0                    \n",
       "\n",
       "   How many FEMALE students  AGE 7 YEARS OLD are in Pre-Kindergarten?  \\\n",
       "0                                                NaN                    \n",
       "1                                                5.0                    \n",
       "2                                                0.0                    \n",
       "3                                                NaN                    \n",
       "4                                                2.0                    \n",
       "\n",
       "   How many FEMALE students  AGE 8 YEARS OLD are in Pre-Kindergarten?  \\\n",
       "0                                                NaN                    \n",
       "1                                                2.0                    \n",
       "2                                                0.0                    \n",
       "3                                                NaN                    \n",
       "4                                                0.0                    \n",
       "\n",
       "   How many FEMALE students  above AGE 8 YEARS OLD are in Pre-Kindergarten?  \\\n",
       "0                                                NaN                          \n",
       "1                                                5.0                          \n",
       "2                                                0.0                          \n",
       "3                                                NaN                          \n",
       "4                                                0.0                          \n",
       "\n",
       "   How many MALE students AGE 3 YEARS OLD are in Kindergarten?  \\\n",
       "0                                                NaN             \n",
       "1                                                0.0             \n",
       "2                                                0.0             \n",
       "3                                                NaN             \n",
       "4                                                0.0             \n",
       "\n",
       "   How many MALE students AGE 4 YEARS OLD are in Kindergarten?  \\\n",
       "0                                                NaN             \n",
       "1                                                2.0             \n",
       "2                                                3.0             \n",
       "3                                                NaN             \n",
       "4                                                0.0             \n",
       "\n",
       "   How many FEMALE students  AGE 5 YEARS OLD are in Kindergarten?  \\\n",
       "0                                                NaN                \n",
       "1                                                1.0                \n",
       "2                                                1.0                \n",
       "3                                               10.0                \n",
       "4                                                0.0                \n",
       "\n",
       "   How many FEMALE students  AGE 6 YEARS OLD are in Kindergarten?  \\\n",
       "0                                                NaN                \n",
       "1                                                1.0                \n",
       "2                                                2.0                \n",
       "3                                                2.0                \n",
       "4                                               10.0                \n",
       "\n",
       "   How many FEMALE students  AGE 7 YEARS OLD are in Kindergarten?  \\\n",
       "0                                                NaN                \n",
       "1                                                5.0                \n",
       "2                                                0.0                \n",
       "3                                                NaN                \n",
       "4                                                5.0                \n",
       "\n",
       "   How many FEMALE students  AGE 8 YEARS OLD are in Kindergarten?  \\\n",
       "0                                                NaN                \n",
       "1                                                6.0                \n",
       "2                                                0.0                \n",
       "3                                                NaN                \n",
       "4                                                5.0                \n",
       "\n",
       "   How many FEMALE students  above AGE 8 YEARS OLD are in Kindergarten?  \\\n",
       "0                                                NaN                      \n",
       "1                                                2.0                      \n",
       "2                                                0.0                      \n",
       "3                                               10.0                      \n",
       "4                                                0.0                      \n",
       "\n",
       "                  district count  \n",
       "0  District in Bong County   NaN  \n",
       "1  District in Bong County   NaN  \n",
       "2  District in Bong County   NaN  \n",
       "3  District in Bong County   NaN  \n",
       "4  District in Bong County   NaN  "
      ]
     },
     "execution_count": 29,
     "metadata": {},
     "output_type": "execute_result"
    }
   ],
   "source": [
    "kece_melt =kece_cds.melt(id_vars=['County','How many MALE students below AGE 3 YEARS OLD are in Nursery?',\n",
    "       'How many FEMALE students below AGE 3 YEARS OLD are in Nursery?',\n",
    "       'How many MALE students below AGE 3 YEARS OLD are in Pre-kindergarten?',\n",
    "       'How many FEMALE students below AGE 3 YEARS OLD are in Pre-kindergarten?',\n",
    "       'How many MALE students below AGE 3 YEARS OLD are in Kindergarten?',\n",
    "       'How many FEMALE students below AGE 3 YEARS OLD are in Kindergarten?',\n",
    "       'How many MALE students AGE 3 YEARS OLD are in Nursery?',\n",
    "       'How many MALE students AGE 4 YEARS OLD are in Nursery?',\n",
    "       'How many MALE students AGE 5 YEARS OLD are in Nursery?',\n",
    "       'How many MALE students AGE 6 YEARS OLD are in Nursery?',\n",
    "       'How many MALE students AGE 7 YEARS OLD are in Nursery?',\n",
    "       'How many MALE students AGE 8 YEARS OLD are in Nursery?',\n",
    "       'How many MALE students Above AGE 8 YEARS OLD are in Nursery?',\n",
    "       'How many FEMALE students  AGE 3 YEARS OLD are in Nursery?',\n",
    "       'How many FEMALE students  AGE 4 YEARS OLD are in Nursery?',\n",
    "       'How many FEMALE students  AGE 5 YEARS OLD are in Nursery?',\n",
    "       'How many FEMALE students  AGE 6 YEARS OLD are in Nursery?',\n",
    "       'How many FEMALE students  AGE 7 YEARS OLD are in Nursery?',\n",
    "       'How many FEMALE students  AGE 8 YEARS OLD are in Nursery?',\n",
    "       'How many FEMALE students  above AGE 8 YEARS OLD are in Nursery?',\n",
    "       'How many MALE students AGE 3 YEARS OLD are in Pre-Kindergarten?',\n",
    "       'How many MALE students AGE 4 YEARS OLD are in Pre-Kindergarten?',\n",
    "       'How many MALE students AGE 5 YEARS OLD are in Pre-Kindergarten?',\n",
    "       'How many MALE students AGE 6 YEARS OLD are in Pre-Kindergarten?',\n",
    "       'How many MALE students AGE 7 YEARS OLD are in Pre-Kindergarten?',\n",
    "       'How many MALE students AGE 8 YEARS OLD are in Pre-Kindergarten?',\n",
    "       'How many MALE students above AGE 8 YEARS OLD are in Pre-Kindergarten?',\n",
    "       'How many FEMALE students  AGE 3 YEARS OLD are in Pre-Kindergarten?',\n",
    "       'How many FEMALE students  AGE 4 YEARS OLD are in Pre-Kindergarten?',\n",
    "       'How many FEMALE students  AGE 5 YEARS OLD are in Pre-Kindergarten?',\n",
    "       'How many FEMALE students  AGE 6 YEARS OLD are in Pre-Kindergarten?',\n",
    "       'How many FEMALE students  AGE 7 YEARS OLD are in Pre-Kindergarten?',\n",
    "       'How many FEMALE students  AGE 8 YEARS OLD are in Pre-Kindergarten?',\n",
    "       'How many FEMALE students  above AGE 8 YEARS OLD are in Pre-Kindergarten?',\n",
    "       'How many MALE students AGE 3 YEARS OLD are in Kindergarten?',\n",
    "       'How many MALE students AGE 4 YEARS OLD are in Kindergarten?',\n",
    "       'How many FEMALE students  AGE 5 YEARS OLD are in Kindergarten?',\n",
    "       'How many FEMALE students  AGE 6 YEARS OLD are in Kindergarten?',\n",
    "       'How many FEMALE students  AGE 7 YEARS OLD are in Kindergarten?',\n",
    "       'How many FEMALE students  AGE 8 YEARS OLD are in Kindergarten?',\n",
    "       'How many FEMALE students  above AGE 8 YEARS OLD are in Kindergarten?'],var_name = 'district',value_name='count')\n",
    "kece_melt.head()"
   ]
  },
  {
   "cell_type": "markdown",
   "id": "e8f734b8-fb31-423f-946b-2e8f051a88b8",
   "metadata": {},
   "source": [
    "## Districts in Bomi County"
   ]
  },
  {
   "cell_type": "code",
   "execution_count": 30,
   "id": "8f9446c9-5cf4-4b0b-8171-234421bf66df",
   "metadata": {},
   "outputs": [
    {
     "data": {
      "text/plain": [
       "1609.0"
      ]
     },
     "execution_count": 30,
     "metadata": {},
     "output_type": "execute_result"
    }
   ],
   "source": [
    "k_s = kece_melt[(kece_melt['district']== 'District in Bomi') & (kece_melt['count']== 'Senji')].sum()\n",
    "k_s = kece_melt[(kece_melt['district']== 'District in Bomi') & (kece_melt['count']== 'Dewoin')].sum()\n",
    "k_s = kece_melt[(kece_melt['district']== 'District in Bomi') & (kece_melt['count']== 'Klay')].sum()\n",
    "k_s = kece_melt[(kece_melt['district']== 'District in Bomi') & (kece_melt['count']== 'Suehn-Mecca')].sum()\n",
    "\n",
    "k_a = k_s[1:-2]\n",
    "k_a.sum()\n"
   ]
  },
  {
   "cell_type": "code",
   "execution_count": 31,
   "id": "75a02d39-2d33-43b5-b64d-9491339eec2d",
   "metadata": {},
   "outputs": [
    {
     "data": {
      "text/plain": [
       "745.0"
      ]
     },
     "execution_count": 31,
     "metadata": {},
     "output_type": "execute_result"
    }
   ],
   "source": [
    "k_m =  k_a[:7:2].append([k_a[7:13],k_a[20:27],k_a[34:36]])\n",
    "k_m.sum()"
   ]
  },
  {
   "cell_type": "markdown",
   "id": "c47fe965-0533-4023-9c0a-02adc2a098c0",
   "metadata": {},
   "source": [
    "## Districts in Bong County"
   ]
  },
  {
   "cell_type": "code",
   "execution_count": 32,
   "id": "ef9b4886-66c5-491b-95b4-326ae464ce5f",
   "metadata": {},
   "outputs": [
    {
     "data": {
      "text/plain": [
       "3162.0"
      ]
     },
     "execution_count": 32,
     "metadata": {},
     "output_type": "execute_result"
    }
   ],
   "source": [
    "k_s = kece_melt[(kece_melt['district']== 'District in Bong County') & (kece_melt['count']== 'Gbarnga 1')].sum()\n",
    "k_s = kece_melt[(kece_melt['district']== 'District in Bong County') & (kece_melt['count']== 'Gbarnga 2')].sum()\n",
    "k_s = kece_melt[(kece_melt['district']== 'District in Bong County') & (kece_melt['count']== 'Zota')].sum()\n",
    "k_s = kece_melt[(kece_melt['district']== 'District in Bong County') & (kece_melt['count']== 'Salala')].sum()\n",
    "k_s = kece_melt[(kece_melt['district']== 'District in Bong County') & (kece_melt['count']== 'Fuamah')].sum()\n",
    "k_s = kece_melt[(kece_melt['district']== 'District in Bong County') & (kece_melt['count']== 'Suakoko')].sum()\n",
    "k_s = kece_melt[(kece_melt['district']== 'District in Bong County') & (kece_melt['count']== 'Sanoyea')].sum()\n",
    "k_s = kece_melt[(kece_melt['district']== 'District in Bong County') & (kece_melt['count']== 'Panta-Kpaai')].sum()\n",
    "k_s = kece_melt[(kece_melt['district']== 'District in Bong County') & (kece_melt['count']== 'Kokoyah')].sum()\n",
    "\n",
    "k_a = k_s[1:-2]\n",
    "k_a.sum()\n"
   ]
  },
  {
   "cell_type": "code",
   "execution_count": 33,
   "id": "e4655a10-059d-4825-a50a-5bff7407c256",
   "metadata": {},
   "outputs": [
    {
     "data": {
      "text/plain": [
       "1482.0"
      ]
     },
     "execution_count": 33,
     "metadata": {},
     "output_type": "execute_result"
    }
   ],
   "source": [
    "k_m =  k_a[:7:2].append([k_a[7:13],k_a[20:27],k_a[34:36]])\n",
    "k_m.sum()"
   ]
  },
  {
   "cell_type": "markdown",
   "id": "b72fab03-8a64-42cc-bdb6-cf19a845aa24",
   "metadata": {},
   "source": [
    "## Districts in Gbarpolu"
   ]
  },
  {
   "cell_type": "code",
   "execution_count": 34,
   "id": "2424efaa-2358-4857-beb3-d70013998659",
   "metadata": {},
   "outputs": [
    {
     "data": {
      "text/plain": [
       "1068.0"
      ]
     },
     "execution_count": 34,
     "metadata": {},
     "output_type": "execute_result"
    }
   ],
   "source": [
    "k_s = kece_melt[(kece_melt['district']== 'District in Gbarpolu') & (kece_melt['count']== 'Gorwalali')].sum()\n",
    "k_s = kece_melt[(kece_melt['district']== 'District in Gbarpolu') & (kece_melt['count']== 'Bopolu')].sum()\n",
    "k_s = kece_melt[(kece_melt['district']== 'District in Gbarpolu') & (kece_melt['count']== 'Gbarma')].sum()\n",
    "k_s = kece_melt[(kece_melt['district']== 'District in Gbarpolu') & (kece_melt['count']== 'Belle')].sum()\n",
    "k_s = kece_melt[(kece_melt['district']== 'District in Gbarpolu') & (kece_melt['count']== 'Bokomu')].sum()\n",
    "k_s = kece_melt[(kece_melt['district']== 'District in Gbarpolu') & (kece_melt['count']== 'Kongba')].sum()\n",
    "\n",
    "k_a = k_s[1:-2]\n",
    "k_a.sum()\n"
   ]
  },
  {
   "cell_type": "code",
   "execution_count": 35,
   "id": "c8dcf8b5-f74f-419e-b2e7-82a6efacb128",
   "metadata": {},
   "outputs": [
    {
     "data": {
      "text/plain": [
       "465.0"
      ]
     },
     "execution_count": 35,
     "metadata": {},
     "output_type": "execute_result"
    }
   ],
   "source": [
    "k_m =  k_a[:7:2].append([k_a[7:13],k_a[20:27],k_a[34:36]])\n",
    "k_m.sum()"
   ]
  },
  {
   "cell_type": "markdown",
   "id": "ef2aa058-1e40-4271-a01d-3561b6b38ccf",
   "metadata": {},
   "source": [
    "## Districts in Grand Bassa "
   ]
  },
  {
   "cell_type": "code",
   "execution_count": 36,
   "id": "3e4142a7-430e-4080-906b-764815a0b232",
   "metadata": {},
   "outputs": [
    {
     "data": {
      "text/plain": [
       "2148.0"
      ]
     },
     "execution_count": 36,
     "metadata": {},
     "output_type": "execute_result"
    }
   ],
   "source": [
    "k_s = kece_melt[(kece_melt['district']== 'District in Grand Bassa') & (kece_melt['count']== 'District 5')].sum()\n",
    "k_s = kece_melt[(kece_melt['district']== 'District in Grand Bassa') & (kece_melt['count']== 'District 5B')].sum()\n",
    "k_s = kece_melt[(kece_melt['district']== 'District in Grand Bassa') & (kece_melt['count']== 'District 2')].sum()\n",
    "k_s = kece_melt[(kece_melt['district']== 'District in Grand Bassa') & (kece_melt['count']== 'District 3A')].sum()\n",
    "k_s = kece_melt[(kece_melt['district']== 'District in Grand Bassa') & (kece_melt['count']== 'District 3B')].sum()\n",
    "k_s = kece_melt[(kece_melt['district']== 'District in Grand Bassa') & (kece_melt['count']== 'District 1')].sum()\n",
    "k_s = kece_melt[(kece_melt['district']== 'District in Grand Bassa') & (kece_melt['count']== 'District 4')].sum()\n",
    "k_a = k_s[1:-2]\n",
    "k_a.sum()\n"
   ]
  },
  {
   "cell_type": "code",
   "execution_count": 37,
   "id": "fa117a6e-add0-4933-a039-d8f8304dfd2d",
   "metadata": {},
   "outputs": [
    {
     "data": {
      "text/plain": [
       "842.0"
      ]
     },
     "execution_count": 37,
     "metadata": {},
     "output_type": "execute_result"
    }
   ],
   "source": [
    "k_m =  k_a[:7:2].append([k_a[7:13],k_a[20:27],k_a[34:36]])\n",
    "k_m.sum()"
   ]
  },
  {
   "cell_type": "markdown",
   "id": "3234f016-5253-4db8-9e79-79a3d07b32f5",
   "metadata": {},
   "source": [
    "## Districts in Grand Cape Mount"
   ]
  },
  {
   "cell_type": "code",
   "execution_count": 38,
   "id": "014afd7e-dec3-4128-92a6-92c187bcd0ee",
   "metadata": {},
   "outputs": [
    {
     "data": {
      "text/plain": [
       "1056.0"
      ]
     },
     "execution_count": 38,
     "metadata": {},
     "output_type": "execute_result"
    }
   ],
   "source": [
    "k_s = kece_melt[(kece_melt['district']== 'District in Grand Cape Mount') & (kece_melt['count']== 'Tewor')].sum()\n",
    "k_s = kece_melt[(kece_melt['district']== 'District in Grand Cape Mount') & (kece_melt['count']== 'Gola Konneh')].sum()\n",
    "k_s = kece_melt[(kece_melt['district']== 'District in Grand Cape Mount') & (kece_melt['count']== 'Porkpa')].sum()\n",
    "k_s = kece_melt[(kece_melt['district']== 'District in Grand Cape Mount') & (kece_melt['count']== 'Garwular')].sum()\n",
    "k_s = kece_melt[(kece_melt['district']== 'District in Grand Cape Mount') & (kece_melt['count']== 'Tallah Tombay')].sum()\n",
    "\n",
    "k_a = k_s[1:-2]\n",
    "k_a.sum()"
   ]
  },
  {
   "cell_type": "code",
   "execution_count": 39,
   "id": "32b92864-2c08-4e05-b8c6-d00d1c2c467f",
   "metadata": {},
   "outputs": [
    {
     "data": {
      "text/plain": [
       "463.0"
      ]
     },
     "execution_count": 39,
     "metadata": {},
     "output_type": "execute_result"
    }
   ],
   "source": [
    "k_m =  k_a[:7:2].append([k_a[7:13],k_a[20:27],k_a[34:36]])\n",
    "k_m.sum()"
   ]
  },
  {
   "cell_type": "markdown",
   "id": "a44d9672-5e81-4b42-8589-9bba05e00cd8",
   "metadata": {},
   "source": [
    "## Districts in Grand Gedeh"
   ]
  },
  {
   "cell_type": "code",
   "execution_count": 40,
   "id": "8958882c-b804-446a-907f-b21bab84a414",
   "metadata": {},
   "outputs": [
    {
     "data": {
      "text/plain": [
       "2578.0"
      ]
     },
     "execution_count": 40,
     "metadata": {},
     "output_type": "execute_result"
    }
   ],
   "source": [
    "k_s = kece_melt[(kece_melt['district']== 'Districts in Grand Gedeh') & (kece_melt['count']== 'Konobo')].sum()\n",
    "k_s = kece_melt[(kece_melt['district']== 'Districts in Grand Gedeh') & (kece_melt['count']== 'Putu')].sum()\n",
    "k_s = kece_melt[(kece_melt['district']== 'Districts in Grand Gedeh') & (kece_melt['count']== 'Gbarzon')].sum()\n",
    "k_s = kece_melt[(kece_melt['district']== 'Districts in Grand Gedeh') & (kece_melt['count']== 'Tchien')].sum()\n",
    "k_s = kece_melt[(kece_melt['district']== 'Districts in Grand Gedeh') & (kece_melt['count']== 'Cavalla')].sum()\n",
    "k_a = k_s[1:-2]\n",
    "k_a.sum()\n"
   ]
  },
  {
   "cell_type": "code",
   "execution_count": 41,
   "id": "325855e8-575e-4f57-a66f-7278e647f2ee",
   "metadata": {},
   "outputs": [
    {
     "data": {
      "text/plain": [
       "1089.0"
      ]
     },
     "execution_count": 41,
     "metadata": {},
     "output_type": "execute_result"
    }
   ],
   "source": [
    "k_m =  k_a[:7:2].append([k_a[7:13],k_a[20:27],k_a[34:36]])\n",
    "k_m.sum()"
   ]
  },
  {
   "cell_type": "markdown",
   "id": "ea038cf3-b718-4d0e-97b2-2c8a8dc600c4",
   "metadata": {},
   "source": [
    "## Districts in Grand Kru"
   ]
  },
  {
   "cell_type": "code",
   "execution_count": 42,
   "id": "876b9460-c715-42ee-a1c5-ddb4ad4b394b",
   "metadata": {},
   "outputs": [
    {
     "data": {
      "text/plain": [
       "806.0"
      ]
     },
     "execution_count": 42,
     "metadata": {},
     "output_type": "execute_result"
    }
   ],
   "source": [
    "k_s = kece_melt[(kece_melt['district']== 'Districts in Grand Kru') & (kece_melt['count']== 'Barclayville')].sum()\n",
    "k_s = kece_melt[(kece_melt['district']== 'Districts in Grand Kru') & (kece_melt['count']== 'Trehn')].sum()\n",
    "k_s = kece_melt[(kece_melt['district']== 'Districts in Grand Kru') & (kece_melt['count']== 'Buah')].sum()\n",
    "k_s = kece_melt[(kece_melt['district']== 'Districts in Grand Kru') & (kece_melt['count']== 'Grand Cess')].sum()\n",
    "k_s = kece_melt[(kece_melt['district']== 'Districts in Grand Kru') & (kece_melt['count']== 'Dorbor')].sum()\n",
    "k_s = kece_melt[(kece_melt['district']== 'Districts in Grand Kru') & (kece_melt['count']== 'Jloh')].sum()\n",
    "k_s = kece_melt[(kece_melt['district']== 'Districts in Grand Kru') & (kece_melt['count']== 'Sass Town')].sum()\n",
    "k_s = kece_melt[(kece_melt['district']== 'Districts in Grand Kru') & (kece_melt['count']== 'Wedabo')].sum()\n",
    "\n",
    "k_a = k_s[1:-2]\n",
    "k_a.sum()"
   ]
  },
  {
   "cell_type": "code",
   "execution_count": 43,
   "id": "98c4ede4-5722-4c3b-ae7f-4d4f4f1897fa",
   "metadata": {},
   "outputs": [
    {
     "data": {
      "text/plain": [
       "360.0"
      ]
     },
     "execution_count": 43,
     "metadata": {},
     "output_type": "execute_result"
    }
   ],
   "source": [
    "k_m =  k_a[:7:2].append([k_a[7:13],k_a[20:27],k_a[34:36]])\n",
    "k_m.sum()"
   ]
  },
  {
   "cell_type": "markdown",
   "id": "7fed20b1-eb2d-40a2-bf99-e4279de713b6",
   "metadata": {},
   "source": [
    "## Districts in Lofa"
   ]
  },
  {
   "cell_type": "code",
   "execution_count": 44,
   "id": "49699f8b-3171-44a7-81ff-d276702b1674",
   "metadata": {},
   "outputs": [
    {
     "data": {
      "text/plain": [
       "1271.0"
      ]
     },
     "execution_count": 44,
     "metadata": {},
     "output_type": "execute_result"
    }
   ],
   "source": [
    "k_s = kece_melt[(kece_melt['district']== 'District in Lofa') & (kece_melt['count']== 'Foya')].sum()\n",
    "k_s = kece_melt[(kece_melt['district']== 'District in Lofa') & (kece_melt['count']== 'Kolahun 1')].sum()\n",
    "k_s = kece_melt[(kece_melt['district']== 'District in Lofa') & (kece_melt['count']== 'Kolahun 2')].sum()\n",
    "k_s = kece_melt[(kece_melt['district']== 'District in Lofa') & (kece_melt['count']== 'Salayea')].sum()\n",
    "k_s = kece_melt[(kece_melt['district']== 'District in Lofa') & (kece_melt['count']== 'Vahun')].sum()\n",
    "k_s = kece_melt[(kece_melt['district']== 'District in Lofa') & (kece_melt['count']== 'Voinjama')].sum()\n",
    "k_s = kece_melt[(kece_melt['district']== 'District in Lofa') & (kece_melt['count']== 'Zorzor')].sum()\n",
    "\n",
    "k_a = k_s[1:-2]\n",
    "k_a.sum()\n"
   ]
  },
  {
   "cell_type": "code",
   "execution_count": 45,
   "id": "59c59259-f0f9-409d-af74-4851d77c15a7",
   "metadata": {},
   "outputs": [
    {
     "data": {
      "text/plain": [
       "538.0"
      ]
     },
     "execution_count": 45,
     "metadata": {},
     "output_type": "execute_result"
    }
   ],
   "source": [
    "k_m =  k_a[:7:2].append([k_a[7:13],k_a[20:27],k_a[34:36]])\n",
    "k_m.sum()"
   ]
  },
  {
   "cell_type": "markdown",
   "id": "2f1a2021-f533-4e7a-829b-50c2caa4b744",
   "metadata": {},
   "source": [
    "## Districts in Margibi"
   ]
  },
  {
   "cell_type": "code",
   "execution_count": 46,
   "id": "9c05b214-d962-46cb-88cb-4eb887ce185f",
   "metadata": {},
   "outputs": [
    {
     "data": {
      "text/plain": [
       "1473.0"
      ]
     },
     "execution_count": 46,
     "metadata": {},
     "output_type": "execute_result"
    }
   ],
   "source": [
    "k_s = kece_melt[(kece_melt['district']== 'District in Margibi') & (kece_melt['count']== 'Marshall')].sum()\n",
    "k_s = kece_melt[(kece_melt['district']== 'District in Margibi') & (kece_melt['count']== 'Farmington')].sum()\n",
    "k_s = kece_melt[(kece_melt['district']== 'District in Margibi') & (kece_melt['count']== 'Mama kaba')].sum()\n",
    "k_s = kece_melt[(kece_melt['district']== 'District in Margibi') & (kece_melt['count']== 'Gibi')].sum()\n",
    "k_s = kece_melt[(kece_melt['district']== 'District in Margibi') & (kece_melt['count']== 'Kakata 1')].sum()\n",
    "k_s = kece_melt[(kece_melt['district']== 'District in Margibi') & (kece_melt['count']== 'Kakata 2')].sum()\n",
    "\n",
    "k_a = k_s[1:-2]\n",
    "k_a.sum()"
   ]
  },
  {
   "cell_type": "code",
   "execution_count": 47,
   "id": "47973148-c90b-4c9d-8d6c-d925298621c1",
   "metadata": {},
   "outputs": [
    {
     "data": {
      "text/plain": [
       "537.0"
      ]
     },
     "execution_count": 47,
     "metadata": {},
     "output_type": "execute_result"
    }
   ],
   "source": [
    "k_m =  k_a[:7:2].append([k_a[7:13],k_a[20:27],k_a[34:36]])\n",
    "k_m.sum()"
   ]
  },
  {
   "cell_type": "markdown",
   "id": "39155906-56b8-4779-99ec-091292cea46e",
   "metadata": {},
   "source": [
    "## Districts in Maryland"
   ]
  },
  {
   "cell_type": "code",
   "execution_count": 48,
   "id": "ab64c394-8e3b-47ea-90c4-f3a9bd402ab4",
   "metadata": {},
   "outputs": [
    {
     "data": {
      "text/plain": [
       "0.0"
      ]
     },
     "execution_count": 48,
     "metadata": {},
     "output_type": "execute_result"
    }
   ],
   "source": [
    "k_s = kece_melt[(kece_melt['district']== 'District in Maryland') & (kece_melt['count']== 'Harper 1')].sum()\n",
    "k_s = kece_melt[(kece_melt['district']== 'District in Maryland') & (kece_melt['count']== 'Harper 2')].sum()\n",
    "k_s = kece_melt[(kece_melt['district']== 'District in Maryland') & (kece_melt['count']== 'Barrobo 1')].sum()\n",
    "k_s = kece_melt[(kece_melt['district']== 'District in Maryland') & (kece_melt['count']== 'Barrobo 2')].sum()\n",
    "k_s = kece_melt[(kece_melt['district']== 'District in Maryland') & (kece_melt['count']== 'Sodoken')].sum()\n",
    "k_s = kece_melt[(kece_melt['district']== 'District in Maryland') & (kece_melt['count']== 'Karleway 1')].sum()\n",
    "k_s = kece_melt[(kece_melt['district']== 'District in Maryland') & (kece_melt['count']== 'Karleway 2')].sum()\n",
    "k_s = kece_melt[(kece_melt['district']== 'District in Maryland') & (kece_melt['count']== 'Pleebo')].sum()\n",
    "\n",
    "k_a = k_s[1:-2]\n",
    "k_a.sum()"
   ]
  },
  {
   "cell_type": "code",
   "execution_count": 49,
   "id": "ce5fdc36-ac07-4c3b-a320-d627589eef1c",
   "metadata": {},
   "outputs": [
    {
     "data": {
      "text/plain": [
       "0.0"
      ]
     },
     "execution_count": 49,
     "metadata": {},
     "output_type": "execute_result"
    }
   ],
   "source": [
    "k_m =  k_a[:7:2].append([k_a[7:13],k_a[20:27],k_a[34:36]])\n",
    "k_m.sum()"
   ]
  },
  {
   "cell_type": "markdown",
   "id": "ece30a83-4b54-4d82-9c26-cb9703fe756d",
   "metadata": {},
   "source": [
    "## Districts in Montserrado 1"
   ]
  },
  {
   "cell_type": "code",
   "execution_count": 50,
   "id": "b79dd37b-559b-4b32-a231-ccc3d1fd1e2f",
   "metadata": {},
   "outputs": [
    {
     "data": {
      "text/plain": [
       "3420.0"
      ]
     },
     "execution_count": 50,
     "metadata": {},
     "output_type": "execute_result"
    }
   ],
   "source": [
    "k_s = kece_melt[(kece_melt['district']== 'District in Montserrado 1') & (kece_melt['count']== 'Paynesville 1')].sum()\n",
    "k_s = kece_melt[(kece_melt['district']== 'District in Montserrado 1') & (kece_melt['count']== 'Paynesville 2')].sum()\n",
    "k_s = kece_melt[(kece_melt['district']== 'District in Montserrado 1') & (kece_melt['count']== 'Paynesville 3')].sum()\n",
    "k_s = kece_melt[(kece_melt['district']== 'District in Montserrado 1') & (kece_melt['count']== 'Paynesville 4')].sum()\n",
    "k_s = kece_melt[(kece_melt['district']== 'District in Montserrado 1') & (kece_melt['count']== 'Paynesville 5')].sum()\n",
    "k_s = kece_melt[(kece_melt['district']== 'District in Montserrado 1') & (kece_melt['count']== 'Paynesville 6')].sum()\n",
    "k_s = kece_melt[(kece_melt['district']== 'District in Montserrado 1') & (kece_melt['count']== 'Greater Monrovia 1A')].sum()\n",
    "k_s = kece_melt[(kece_melt['district']== 'District in Montserrado 1') & (kece_melt['count']== 'Greater Monrovia 1B')].sum()\n",
    "k_s = kece_melt[(kece_melt['district']== 'District in Montserrado 1') & (kece_melt['count']== 'Greater Monrovia 1C')].sum()\n",
    "k_s = kece_melt[(kece_melt['district']== 'District in Montserrado 1') & (kece_melt['count']== 'Greater Monrovia 1D')].sum()\n",
    "k_s = kece_melt[(kece_melt['district']== 'District in Montserrado 1') & (kece_melt['count']== 'Greater Monrovia 1E')].sum()\n",
    "k_s = kece_melt[(kece_melt['district']== 'District in Montserrado 1') & (kece_melt['count']== 'Greater Monrovia 2A')].sum()\n",
    "k_s = kece_melt[(kece_melt['district']== 'District in Montserrado 1') & (kece_melt['count']== 'Greater Monrovia 2B')].sum()\n",
    "k_s = kece_melt[(kece_melt['district']== 'District in Montserrado 1') & (kece_melt['count']== 'Greater Monrovia 2C')].sum()\n",
    "k_s = kece_melt[(kece_melt['district']== 'District in Montserrado 1') & (kece_melt['count']== 'Greater Monrovia 2D')].sum()\n",
    "\n",
    "k_a = k_s[1:-2]\n",
    "k_a.sum()"
   ]
  },
  {
   "cell_type": "code",
   "execution_count": 51,
   "id": "93785b8a-def4-4b74-83ae-083374ceee44",
   "metadata": {},
   "outputs": [
    {
     "data": {
      "text/plain": [
       "1422.0"
      ]
     },
     "execution_count": 51,
     "metadata": {},
     "output_type": "execute_result"
    }
   ],
   "source": [
    "k_m =  k_a[:7:2].append([k_a[7:13],k_a[20:27],k_a[34:36]])\n",
    "k_m.sum()"
   ]
  },
  {
   "cell_type": "markdown",
   "id": "9eb7f3db-0ef1-4d2a-b11a-5217ff799ab0",
   "metadata": {},
   "source": [
    "## Districts in Montserrado 2"
   ]
  },
  {
   "cell_type": "code",
   "execution_count": 52,
   "id": "4eb16ded-6f3a-41c8-b737-23ec92e2a2b4",
   "metadata": {},
   "outputs": [
    {
     "data": {
      "text/plain": [
       "2975.0"
      ]
     },
     "execution_count": 52,
     "metadata": {},
     "output_type": "execute_result"
    }
   ],
   "source": [
    "k_s = kece_melt[(kece_melt['district']== 'District in Montserrado 2') & (kece_melt['count']== 'Left Bank 1A')].sum()\n",
    "k_s = kece_melt[(kece_melt['district']== 'District in Montserrado 2') & (kece_melt['count']== 'Left bank 1B')].sum()\n",
    "k_s = kece_melt[(kece_melt['district']== 'District in Montserrado 2') & (kece_melt['count']== 'Left bank  1C')].sum()\n",
    "k_s = kece_melt[(kece_melt['district']== 'District in Montserrado 2') & (kece_melt['count']== 'Left Bank 1D')].sum()\n",
    "k_s = kece_melt[(kece_melt['district']== 'District in Montserrado 2') & (kece_melt['count']== 'Left Bank 2A')].sum()\n",
    "k_s = kece_melt[(kece_melt['district']== 'District in Montserrado 2') & (kece_melt['count']== 'Left bank 2B')].sum()\n",
    "k_s = kece_melt[(kece_melt['district']== 'District in Montserrado 2') & (kece_melt['count']== 'Careysburg')].sum()\n",
    "k_s = kece_melt[(kece_melt['district']== 'District in Montserrado 2') & (kece_melt['count']== 'Todee')].sum()\n",
    "k_s = kece_melt[(kece_melt['district']== 'District in Montserrado 2') & (kece_melt['count']== 'Right Bank 1')].sum()\n",
    "k_s = kece_melt[(kece_melt['district']== 'District in Montserrado 2') & (kece_melt['count']== 'Right Bank 2')].sum()\n",
    "k_s = kece_melt[(kece_melt['district']== 'District in Montserrado 2') & (kece_melt['count']== 'Right Bank 3')].sum()\n",
    "\n",
    "k_a = k_s[1:-2]\n",
    "k_a.sum()\n"
   ]
  },
  {
   "cell_type": "code",
   "execution_count": 53,
   "id": "085ebda1-6312-47a2-b16e-37b1f08c6fbe",
   "metadata": {},
   "outputs": [
    {
     "data": {
      "text/plain": [
       "1354.0"
      ]
     },
     "execution_count": 53,
     "metadata": {},
     "output_type": "execute_result"
    }
   ],
   "source": [
    "k_m =  k_a[:7:2].append([k_a[7:13],k_a[20:27],k_a[34:36]])\n",
    "k_m.sum()"
   ]
  },
  {
   "cell_type": "markdown",
   "id": "59521c80-e266-4ac0-a683-b8f2c436504f",
   "metadata": {},
   "source": [
    "## Districts in Nimba"
   ]
  },
  {
   "cell_type": "code",
   "execution_count": 54,
   "id": "eefb8612-7554-41fd-b97f-6e2fb2f06b75",
   "metadata": {},
   "outputs": [
    {
     "data": {
      "text/plain": [
       "2918.0"
      ]
     },
     "execution_count": 54,
     "metadata": {},
     "output_type": "execute_result"
    }
   ],
   "source": [
    "k_s = kece_melt[(kece_melt['district']== 'District in Nimba') & (kece_melt['count']== 'Tappita 1')].sum()\n",
    "k_s = kece_melt[(kece_melt['district']== 'District in Nimba') & (kece_melt['count']== 'Tappita 2')].sum()\n",
    "k_s = kece_melt[(kece_melt['district']== 'District in Nimba') & (kece_melt['count']== 'Saclepea 1')].sum()\n",
    "k_s = kece_melt[(kece_melt['district']== 'District in Nimba') & (kece_melt['count']== 'Sanniquellie Mah')].sum()\n",
    "k_s = kece_melt[(kece_melt['district']== 'District in Nimba') & (kece_melt['count']== 'Zoe-Geh')].sum()\n",
    "k_s = kece_melt[(kece_melt['district']== 'District in Nimba') & (kece_melt['count']== 'Tuwah River')].sum()\n",
    "k_s = kece_melt[(kece_melt['district']== 'District in Nimba') & (kece_melt['count']== 'Gbelay-Geh')].sum()\n",
    "k_s = kece_melt[(kece_melt['district']== 'District in Nimba') & (kece_melt['count']== 'Yarpea Mah')].sum()\n",
    "k_s = kece_melt[(kece_melt['district']== 'District in Nimba') & (kece_melt['count']== 'Yarwein Mensonoh')].sum()\n",
    "k_s = kece_melt[(kece_melt['district']== 'District in Nimba') & (kece_melt['count']== 'Buuyao')].sum()\n",
    "k_s = kece_melt[(kece_melt['district']== 'District in Nimba') & (kece_melt['count']== 'Bain-Garr 1')].sum()\n",
    "k_s = kece_melt[(kece_melt['district']== 'District in Nimba') & (kece_melt['count']== 'Bain- Garr 2')].sum()\n",
    "\n",
    "k_a = k_s[1:-2]\n",
    "k_a.sum()\n"
   ]
  },
  {
   "cell_type": "code",
   "execution_count": 55,
   "id": "6cb3fb72-16d2-44fa-8693-21541a65f4f9",
   "metadata": {},
   "outputs": [
    {
     "data": {
      "text/plain": [
       "1275.0"
      ]
     },
     "execution_count": 55,
     "metadata": {},
     "output_type": "execute_result"
    }
   ],
   "source": [
    "k_m =  k_a[:7:2].append([k_a[7:13],k_a[20:27],k_a[34:36]])\n",
    "k_m.sum()"
   ]
  },
  {
   "cell_type": "markdown",
   "id": "0d526e9c-880d-455d-8a32-9182455d3605",
   "metadata": {},
   "source": [
    "## Districts in River Gee"
   ]
  },
  {
   "cell_type": "code",
   "execution_count": 56,
   "id": "9e0ff529-9917-4c3c-9de4-6cbad2424281",
   "metadata": {},
   "outputs": [
    {
     "data": {
      "text/plain": [
       "2090.0"
      ]
     },
     "execution_count": 56,
     "metadata": {},
     "output_type": "execute_result"
    }
   ],
   "source": [
    "k_s = kece_melt[(kece_melt['district']== 'District in River Gee') & (kece_melt['count']== 'Sarbo')].sum()\n",
    "k_s = kece_melt[(kece_melt['district']== 'District in River Gee') & (kece_melt['count']== 'Tienpo')].sum()\n",
    "k_s = kece_melt[(kece_melt['district']== 'District in River Gee') & (kece_melt['count']== 'Chedepo')].sum()\n",
    "k_s = kece_melt[(kece_melt['district']== 'District in River Gee') & (kece_melt['count']== 'Putupo')].sum()\n",
    "k_s = kece_melt[(kece_melt['district']== 'District in River Gee') & (kece_melt['count']== 'Gbeapo')].sum()\n",
    "k_s = kece_melt[(kece_melt['district']== 'District in River Gee') & (kece_melt['count']== 'Webbo')].sum()\n",
    "\n",
    "k_a = k_s[1:-2]\n",
    "k_a.sum()\n"
   ]
  },
  {
   "cell_type": "code",
   "execution_count": 57,
   "id": "654f690a-764e-498a-9a10-7246c921b053",
   "metadata": {},
   "outputs": [
    {
     "data": {
      "text/plain": [
       "891.0"
      ]
     },
     "execution_count": 57,
     "metadata": {},
     "output_type": "execute_result"
    }
   ],
   "source": [
    "k_m =  k_a[:7:2].append([k_a[7:13],k_a[20:27],k_a[34:36]])\n",
    "k_m.sum()"
   ]
  },
  {
   "cell_type": "markdown",
   "id": "9abb5cd9-a5f2-42d2-999b-e3b6b107f047",
   "metadata": {},
   "source": [
    "## Districts in River Cess"
   ]
  },
  {
   "cell_type": "code",
   "execution_count": 58,
   "id": "5000728e-8664-48b5-a7ba-b055c7ee9d90",
   "metadata": {},
   "outputs": [
    {
     "data": {
      "text/plain": [
       "774.0"
      ]
     },
     "execution_count": 58,
     "metadata": {},
     "output_type": "execute_result"
    }
   ],
   "source": [
    "k_s = kece_melt[(kece_melt['district']== 'Districts in River Cess') & (kece_melt['count']== 'Timobo')].sum()\n",
    "k_s = kece_melt[(kece_melt['district']== 'Districts in River Cess') & (kece_melt['count']== 'Central Rivercess 1')].sum()\n",
    "k_s = kece_melt[(kece_melt['district']== 'Districts in River Cess') & (kece_melt['count']== 'Central Rivercess 2')].sum()\n",
    "k_s = kece_melt[(kece_melt['district']== 'Districts in River Cess') & (kece_melt['count']== 'Morwah')].sum()\n",
    "k_s = kece_melt[(kece_melt['district']== 'Districts in River Cess') & (kece_melt['count']== 'Yarnee')].sum()\n",
    "\n",
    "k_a = k_s[1:-2]\n",
    "k_a.sum()\n"
   ]
  },
  {
   "cell_type": "code",
   "execution_count": 59,
   "id": "8ded6f20-3537-46cf-848f-5a9ad4f29b40",
   "metadata": {},
   "outputs": [
    {
     "data": {
      "text/plain": [
       "340.0"
      ]
     },
     "execution_count": 59,
     "metadata": {},
     "output_type": "execute_result"
    }
   ],
   "source": [
    "k_m =  k_a[:7:2].append([k_a[7:13],k_a[20:27],k_a[34:36]])\n",
    "k_m.sum()"
   ]
  },
  {
   "cell_type": "markdown",
   "id": "581967a1-1c38-477f-8119-a70afbda618b",
   "metadata": {},
   "source": [
    "## Districts in Sinoe"
   ]
  },
  {
   "cell_type": "code",
   "execution_count": 60,
   "id": "e53a3b58-4c35-410a-a8f6-28fa2746a14f",
   "metadata": {},
   "outputs": [
    {
     "data": {
      "text/plain": [
       "831.0"
      ]
     },
     "execution_count": 60,
     "metadata": {},
     "output_type": "execute_result"
    }
   ],
   "source": [
    "k_s = kece_melt[(kece_melt['district']== 'District in Sinoe') & (kece_melt['count']== 'Upper Kpanyan')].sum()\n",
    "k_s = kece_melt[(kece_melt['district']== 'District in Sinoe') & (kece_melt['count']== 'Juarzon')].sum()\n",
    "k_s = kece_melt[(kece_melt['district']== 'District in Sinoe') & (kece_melt['count']== 'Lower Kpanyan')].sum()\n",
    "k_s = kece_melt[(kece_melt['district']== 'District in Sinoe') & (kece_melt['count']== 'Butaw')].sum()\n",
    "k_s = kece_melt[(kece_melt['district']== 'District in Sinoe') & (kece_melt['count']== 'Tarjuwon')].sum()\n",
    "k_s = kece_melt[(kece_melt['district']== 'District in Sinoe') & (kece_melt['count']== 'Jeadea')].sum()\n",
    "k_s = kece_melt[(kece_melt['district']== 'District in Sinoe') & (kece_melt['count']== 'Sanquin')].sum()\n",
    "k_s = kece_melt[(kece_melt['district']== 'District in Sinoe') & (kece_melt['count']== 'Greenville')].sum()\n",
    "k_s = kece_melt[(kece_melt['district']== 'District in Sinoe') & (kece_melt['count']== 'Central Kpanyan')].sum()\n",
    "\n",
    "k_a = k_s[1:-2]\n",
    "k_a.sum()"
   ]
  },
  {
   "cell_type": "code",
   "execution_count": 61,
   "id": "c5576029-1e58-43ec-8e03-dde323097b24",
   "metadata": {},
   "outputs": [
    {
     "data": {
      "text/plain": [
       "402.0"
      ]
     },
     "execution_count": 61,
     "metadata": {},
     "output_type": "execute_result"
    }
   ],
   "source": [
    "k_m =  k_a[:7:2].append([k_a[7:13],k_a[20:27],k_a[34:36]])\n",
    "k_m.sum()"
   ]
  },
  {
   "cell_type": "code",
   "execution_count": null,
   "id": "2055cef5-c525-43aa-a5dd-509efd6988fe",
   "metadata": {},
   "outputs": [],
   "source": []
  },
  {
   "cell_type": "code",
   "execution_count": null,
   "id": "418951a0-8340-4d0e-a238-c60caa543b39",
   "metadata": {},
   "outputs": [],
   "source": []
  },
  {
   "cell_type": "code",
   "execution_count": null,
   "id": "852956c0-1268-4b37-a784-b9b8d908f142",
   "metadata": {},
   "outputs": [],
   "source": []
  },
  {
   "cell_type": "markdown",
   "id": "42e82392-72e7-4490-ab71-59aec625b398",
   "metadata": {},
   "source": [
    "# Table 7: Enrollment by District and Grade"
   ]
  },
  {
   "cell_type": "code",
   "execution_count": null,
   "id": "1d69472d-c828-4bba-aae0-c852315f76c7",
   "metadata": {},
   "outputs": [],
   "source": []
  },
  {
   "cell_type": "code",
   "execution_count": 62,
   "id": "1705155f-0b2b-4f54-a69f-4268e141f2eb",
   "metadata": {},
   "outputs": [],
   "source": [
    "#kece_cds.columns"
   ]
  },
  {
   "cell_type": "code",
   "execution_count": 63,
   "id": "62165002-6be1-444e-a5c7-1c8930bf9f51",
   "metadata": {},
   "outputs": [],
   "source": [
    "#pd.set_option('display.max_rows',2000)\n",
    "\n",
    "#kece_cds['District in Nimba'].dropna() #[kece_cds['District in Montserrado 2']=='Left Bank 1B']"
   ]
  },
  {
   "cell_type": "markdown",
   "id": "7c216703-9c25-4c72-9248-ae5db06d2936",
   "metadata": {},
   "source": [
    "## Districts in Bomi County"
   ]
  },
  {
   "cell_type": "code",
   "execution_count": 64,
   "id": "6398e100-72bc-485d-a3f5-1f4570144015",
   "metadata": {},
   "outputs": [
    {
     "data": {
      "text/plain": [
       "1609.0"
      ]
     },
     "execution_count": 64,
     "metadata": {},
     "output_type": "execute_result"
    }
   ],
   "source": [
    "k_s = kece_melt[(kece_melt['district']== 'District in Bomi') & (kece_melt['count']== 'Senji')].sum()\n",
    "k_s = kece_melt[(kece_melt['district']== 'District in Bomi') & (kece_melt['count']== 'Dewoin')].sum()\n",
    "k_s = kece_melt[(kece_melt['district']== 'District in Bomi') & (kece_melt['count']== 'Klay')].sum()\n",
    "k_s = kece_melt[(kece_melt['district']== 'District in Bomi') & (kece_melt['count']== 'Suehn-Mecca')].sum()\n",
    "k_a = k_s[1:-2]\n",
    "k_a.sum()\n"
   ]
  },
  {
   "cell_type": "code",
   "execution_count": 65,
   "id": "d782c1b1-66e5-4752-8657-a6c80cec4b71",
   "metadata": {},
   "outputs": [
    {
     "data": {
      "text/plain": [
       "1010.0"
      ]
     },
     "execution_count": 65,
     "metadata": {},
     "output_type": "execute_result"
    }
   ],
   "source": [
    "ka_nur = k_a[:2].append(k_a[6:20])\n",
    "#ka_nur\n",
    "ka_nur.sum()"
   ]
  },
  {
   "cell_type": "code",
   "execution_count": 66,
   "id": "045005eb-34d4-40ca-841a-9a9a468396d6",
   "metadata": {},
   "outputs": [
    {
     "data": {
      "text/plain": [
       "415.0"
      ]
     },
     "execution_count": 66,
     "metadata": {},
     "output_type": "execute_result"
    }
   ],
   "source": [
    "ka_pk = k_a[2:4].append(k_a[20:34])\n",
    "#ka_pk\n",
    "ka_pk.sum()"
   ]
  },
  {
   "cell_type": "code",
   "execution_count": 67,
   "id": "d27519ba-b030-454d-b3f5-6d271b566057",
   "metadata": {},
   "outputs": [
    {
     "data": {
      "text/plain": [
       "184.0"
      ]
     },
     "execution_count": 67,
     "metadata": {},
     "output_type": "execute_result"
    }
   ],
   "source": [
    "ka_k = k_a[4:6].append(k_a[34:])\n",
    "ka_k\n",
    "ka_k.sum()"
   ]
  },
  {
   "cell_type": "markdown",
   "id": "7441752f-445d-474a-bf1d-94c656c4d70d",
   "metadata": {},
   "source": [
    "## Districts in Bong County"
   ]
  },
  {
   "cell_type": "code",
   "execution_count": 68,
   "id": "00fc1557-99c9-46b0-bf60-e55c6893a36c",
   "metadata": {},
   "outputs": [
    {
     "data": {
      "text/plain": [
       "3162.0"
      ]
     },
     "execution_count": 68,
     "metadata": {},
     "output_type": "execute_result"
    }
   ],
   "source": [
    "k_s = kece_melt[(kece_melt['district']== 'District in Bong County') & (kece_melt['count']== 'Gbarnga 1')].sum()\n",
    "k_s = kece_melt[(kece_melt['district']== 'District in Bong County') & (kece_melt['count']== 'Gbarnga 2')].sum()\n",
    "k_s = kece_melt[(kece_melt['district']== 'District in Bong County') & (kece_melt['count']== 'Zota')].sum()\n",
    "k_s = kece_melt[(kece_melt['district']== 'District in Bong County') & (kece_melt['count']== 'Salala')].sum()\n",
    "k_s = kece_melt[(kece_melt['district']== 'District in Bong County') & (kece_melt['count']== 'Fuamah')].sum()\n",
    "k_s = kece_melt[(kece_melt['district']== 'District in Bong County') & (kece_melt['count']== 'Suakoko')].sum()\n",
    "k_s = kece_melt[(kece_melt['district']== 'District in Bong County') & (kece_melt['count']== 'Sanoyea')].sum()\n",
    "k_s = kece_melt[(kece_melt['district']== 'District in Bong County') & (kece_melt['count']== 'Panta-Kpaai')].sum()\n",
    "k_s = kece_melt[(kece_melt['district']== 'District in Bong County') & (kece_melt['count']== 'Kokoyah')].sum()\n",
    "k_a = k_s[1:-2]\n",
    "k_a.sum()\n"
   ]
  },
  {
   "cell_type": "code",
   "execution_count": 69,
   "id": "d0d1b92d-24a9-42ef-becb-65f18bcfafc9",
   "metadata": {},
   "outputs": [
    {
     "data": {
      "text/plain": [
       "1671.0"
      ]
     },
     "execution_count": 69,
     "metadata": {},
     "output_type": "execute_result"
    }
   ],
   "source": [
    "ka_nur = k_a[:2].append(k_a[6:20])\n",
    "#ka_nur\n",
    "ka_nur.sum()\n"
   ]
  },
  {
   "cell_type": "code",
   "execution_count": 70,
   "id": "326ab1c6-8ef4-4e32-a756-51e7d26e2421",
   "metadata": {},
   "outputs": [
    {
     "data": {
      "text/plain": [
       "1032.0"
      ]
     },
     "execution_count": 70,
     "metadata": {},
     "output_type": "execute_result"
    }
   ],
   "source": [
    "ka_pk = k_a[2:4].append(k_a[20:34])\n",
    "#ka_pk\n",
    "ka_pk.sum()"
   ]
  },
  {
   "cell_type": "code",
   "execution_count": 71,
   "id": "bd54bdee-991e-46e0-b4c0-ada70267fe3d",
   "metadata": {},
   "outputs": [
    {
     "data": {
      "text/plain": [
       "459.0"
      ]
     },
     "execution_count": 71,
     "metadata": {},
     "output_type": "execute_result"
    }
   ],
   "source": [
    "ka_k = k_a[4:6].append(k_a[34:])\n",
    "ka_k\n",
    "ka_k.sum()"
   ]
  },
  {
   "cell_type": "markdown",
   "id": "b7a44e5a-e10f-4762-9e23-5a3f0b7f4e82",
   "metadata": {},
   "source": [
    "## Districts in Gbarpolu"
   ]
  },
  {
   "cell_type": "code",
   "execution_count": 72,
   "id": "697723d0-c9a5-4a09-bde3-7f45aaadf74a",
   "metadata": {},
   "outputs": [
    {
     "data": {
      "text/plain": [
       "1068.0"
      ]
     },
     "execution_count": 72,
     "metadata": {},
     "output_type": "execute_result"
    }
   ],
   "source": [
    "k_s = kece_melt[(kece_melt['district']== 'District in Gbarpolu') & (kece_melt['count']== 'Gorwalali')].sum()\n",
    "k_s = kece_melt[(kece_melt['district']== 'District in Gbarpolu') & (kece_melt['count']== 'Bopolu')].sum()\n",
    "k_s = kece_melt[(kece_melt['district']== 'District in Gbarpolu') & (kece_melt['count']== 'Gbarma')].sum()\n",
    "k_s = kece_melt[(kece_melt['district']== 'District in Gbarpolu') & (kece_melt['count']== 'Belle')].sum()\n",
    "k_s = kece_melt[(kece_melt['district']== 'District in Gbarpolu') & (kece_melt['count']== 'Bokomu')].sum()\n",
    "k_s = kece_melt[(kece_melt['district']== 'District in Gbarpolu') & (kece_melt['count']== 'Kongba')].sum()\n",
    "\n",
    "k_a = k_s[1:-2]\n",
    "k_a.sum()\n",
    "\n"
   ]
  },
  {
   "cell_type": "code",
   "execution_count": 73,
   "id": "fe30156e-617e-451c-894b-dbd68dc0135a",
   "metadata": {},
   "outputs": [
    {
     "data": {
      "text/plain": [
       "595.0"
      ]
     },
     "execution_count": 73,
     "metadata": {},
     "output_type": "execute_result"
    }
   ],
   "source": [
    "ka_nur = k_a[:2].append(k_a[6:20])\n",
    "#ka_nur\n",
    "ka_nur.sum()"
   ]
  },
  {
   "cell_type": "code",
   "execution_count": 74,
   "id": "5405d066-935f-4227-8b97-782eb8be8a13",
   "metadata": {},
   "outputs": [
    {
     "data": {
      "text/plain": [
       "325.0"
      ]
     },
     "execution_count": 74,
     "metadata": {},
     "output_type": "execute_result"
    }
   ],
   "source": [
    "ka_pk = k_a[2:4].append(k_a[20:34])\n",
    "#ka_pk\n",
    "ka_pk.sum()"
   ]
  },
  {
   "cell_type": "code",
   "execution_count": 75,
   "id": "84bf9b4a-cc03-4c94-b612-70dd10141646",
   "metadata": {},
   "outputs": [
    {
     "data": {
      "text/plain": [
       "148.0"
      ]
     },
     "execution_count": 75,
     "metadata": {},
     "output_type": "execute_result"
    }
   ],
   "source": [
    "ka_k = k_a[4:6].append(k_a[34:])\n",
    "#ka_k\n",
    "ka_k.sum()"
   ]
  },
  {
   "cell_type": "code",
   "execution_count": null,
   "id": "883f5132-bdf6-40bd-9521-29aa8f1a1b6c",
   "metadata": {},
   "outputs": [],
   "source": []
  },
  {
   "cell_type": "markdown",
   "id": "680b12cb-e4e1-4a3d-b74a-c1d0e6d321c9",
   "metadata": {},
   "source": [
    "## Districts in Grand Bassa "
   ]
  },
  {
   "cell_type": "code",
   "execution_count": 76,
   "id": "2a0a6163-1795-461c-a048-d421d3e188e8",
   "metadata": {},
   "outputs": [
    {
     "data": {
      "text/plain": [
       "2148.0"
      ]
     },
     "execution_count": 76,
     "metadata": {},
     "output_type": "execute_result"
    }
   ],
   "source": [
    "k_s = kece_melt[(kece_melt['district']== 'District in Grand Bassa') & (kece_melt['count']== 'District 5')].sum()\n",
    "k_s = kece_melt[(kece_melt['district']== 'District in Grand Bassa') & (kece_melt['count']== 'District 5B')].sum()\n",
    "k_s = kece_melt[(kece_melt['district']== 'District in Grand Bassa') & (kece_melt['count']== 'District 2')].sum()\n",
    "k_s = kece_melt[(kece_melt['district']== 'District in Grand Bassa') & (kece_melt['count']== 'District 3A')].sum()\n",
    "k_s = kece_melt[(kece_melt['district']== 'District in Grand Bassa') & (kece_melt['count']== 'District 3B')].sum()\n",
    "k_s = kece_melt[(kece_melt['district']== 'District in Grand Bassa') & (kece_melt['count']== 'District 1')].sum()\n",
    "k_s = kece_melt[(kece_melt['district']== 'District in Grand Bassa') & (kece_melt['count']== 'District 4')].sum()\n",
    "k_a = k_s[1:-2]\n",
    "k_a.sum()\n",
    "\n"
   ]
  },
  {
   "cell_type": "code",
   "execution_count": 77,
   "id": "cffc9fe7-91f1-412d-ba30-e56470a9af2d",
   "metadata": {},
   "outputs": [
    {
     "data": {
      "text/plain": [
       "594.0"
      ]
     },
     "execution_count": 77,
     "metadata": {},
     "output_type": "execute_result"
    }
   ],
   "source": [
    "ka_nur = k_a[:2].append(k_a[6:20])\n",
    "#ka_nur\n",
    "ka_nur.sum()"
   ]
  },
  {
   "cell_type": "code",
   "execution_count": 78,
   "id": "f8d78525-79af-406a-bec1-8f170a8f5da1",
   "metadata": {},
   "outputs": [
    {
     "data": {
      "text/plain": [
       "930.0"
      ]
     },
     "execution_count": 78,
     "metadata": {},
     "output_type": "execute_result"
    }
   ],
   "source": [
    "ka_pk = k_a[2:4].append(k_a[20:34])\n",
    "#ka_pk\n",
    "ka_pk.sum()"
   ]
  },
  {
   "cell_type": "code",
   "execution_count": 79,
   "id": "de4d4255-d8c9-4b2b-a092-2867150f7ba1",
   "metadata": {},
   "outputs": [
    {
     "data": {
      "text/plain": [
       "624.0"
      ]
     },
     "execution_count": 79,
     "metadata": {},
     "output_type": "execute_result"
    }
   ],
   "source": [
    "ka_k = k_a[4:6].append(k_a[34:])\n",
    "ka_k\n",
    "ka_k.sum()"
   ]
  },
  {
   "cell_type": "markdown",
   "id": "3ab0e9c1-5fb0-4f91-b644-d01cc5c82db5",
   "metadata": {},
   "source": [
    "## Districts in Grand Cape Mount"
   ]
  },
  {
   "cell_type": "code",
   "execution_count": 80,
   "id": "10052e09-dc12-408a-b0d2-e72527678af1",
   "metadata": {},
   "outputs": [
    {
     "data": {
      "text/plain": [
       "1056.0"
      ]
     },
     "execution_count": 80,
     "metadata": {},
     "output_type": "execute_result"
    }
   ],
   "source": [
    "k_s = kece_melt[(kece_melt['district']== 'District in Grand Cape Mount') & (kece_melt['count']== 'Tewor')].sum()\n",
    "k_s = kece_melt[(kece_melt['district']== 'District in Grand Cape Mount') & (kece_melt['count']== 'Gola Konneh')].sum()\n",
    "k_s = kece_melt[(kece_melt['district']== 'District in Grand Cape Mount') & (kece_melt['count']== 'Porkpa')].sum()\n",
    "k_s = kece_melt[(kece_melt['district']== 'District in Grand Cape Mount') & (kece_melt['count']== 'Garwular')].sum()\n",
    "k_s = kece_melt[(kece_melt['district']== 'District in Grand Cape Mount') & (kece_melt['count']== 'Tallah Tombay')].sum()\n",
    "k_a = k_s[1:-2]\n",
    "k_a.sum()\n",
    "\n"
   ]
  },
  {
   "cell_type": "code",
   "execution_count": 81,
   "id": "2d88052d-380a-47e4-8e62-4868b69ee0db",
   "metadata": {},
   "outputs": [
    {
     "data": {
      "text/plain": [
       "597.0"
      ]
     },
     "execution_count": 81,
     "metadata": {},
     "output_type": "execute_result"
    }
   ],
   "source": [
    "ka_nur = k_a[:2].append(k_a[6:20])\n",
    "#ka_nur\n",
    "ka_nur.sum()"
   ]
  },
  {
   "cell_type": "code",
   "execution_count": 82,
   "id": "601607d5-7571-4c1c-a0ab-eae2d7eba1f8",
   "metadata": {},
   "outputs": [
    {
     "data": {
      "text/plain": [
       "291.0"
      ]
     },
     "execution_count": 82,
     "metadata": {},
     "output_type": "execute_result"
    }
   ],
   "source": [
    "ka_pk = k_a[2:4].append(k_a[20:34])\n",
    "#ka_pk\n",
    "ka_pk.sum()"
   ]
  },
  {
   "cell_type": "code",
   "execution_count": 83,
   "id": "375f40b7-4da4-45f8-9980-3bfa00a5a8da",
   "metadata": {},
   "outputs": [
    {
     "data": {
      "text/plain": [
       "168.0"
      ]
     },
     "execution_count": 83,
     "metadata": {},
     "output_type": "execute_result"
    }
   ],
   "source": [
    "ka_k = k_a[4:6].append(k_a[34:])\n",
    "ka_k\n",
    "ka_k.sum()"
   ]
  },
  {
   "cell_type": "markdown",
   "id": "1fc620c6-dcf4-4549-be17-e24eb562d799",
   "metadata": {},
   "source": [
    "## Districts in Grand Gedeh"
   ]
  },
  {
   "cell_type": "code",
   "execution_count": 84,
   "id": "f1ed567e-f4ad-4c8f-8ec7-b124349107cc",
   "metadata": {},
   "outputs": [
    {
     "data": {
      "text/plain": [
       "2578.0"
      ]
     },
     "execution_count": 84,
     "metadata": {},
     "output_type": "execute_result"
    }
   ],
   "source": [
    "k_s = kece_melt[(kece_melt['district']== 'Districts in Grand Gedeh') & (kece_melt['count']== 'Konobo')].sum()\n",
    "k_s = kece_melt[(kece_melt['district']== 'Districts in Grand Gedeh') & (kece_melt['count']== 'Putu')].sum()\n",
    "k_s = kece_melt[(kece_melt['district']== 'Districts in Grand Gedeh') & (kece_melt['count']== 'Gbarzon')].sum()\n",
    "k_s = kece_melt[(kece_melt['district']== 'Districts in Grand Gedeh') & (kece_melt['count']== 'Tchien')].sum()\n",
    "k_s = kece_melt[(kece_melt['district']== 'Districts in Grand Gedeh') & (kece_melt['count']== 'Cavalla')].sum()\n",
    "\n",
    "k_a = k_s[1:-2]\n",
    "k_a.sum()\n",
    "\n"
   ]
  },
  {
   "cell_type": "code",
   "execution_count": 85,
   "id": "6b5ee712-4810-455e-8311-0e6fe2328298",
   "metadata": {},
   "outputs": [
    {
     "data": {
      "text/plain": [
       "995.0"
      ]
     },
     "execution_count": 85,
     "metadata": {},
     "output_type": "execute_result"
    }
   ],
   "source": [
    "ka_nur = k_a[:2].append(k_a[6:20])\n",
    "#ka_nur\n",
    "ka_nur.sum()"
   ]
  },
  {
   "cell_type": "code",
   "execution_count": 86,
   "id": "bf97ea85-2ee7-428c-87bc-b0ee0c819ae3",
   "metadata": {},
   "outputs": [
    {
     "data": {
      "text/plain": [
       "941.0"
      ]
     },
     "execution_count": 86,
     "metadata": {},
     "output_type": "execute_result"
    }
   ],
   "source": [
    "ka_pk = k_a[2:4].append(k_a[20:34])\n",
    "#ka_pk\n",
    "ka_pk.sum()"
   ]
  },
  {
   "cell_type": "code",
   "execution_count": 87,
   "id": "c3d5e131-a206-4841-a830-9c4eb778b266",
   "metadata": {},
   "outputs": [
    {
     "data": {
      "text/plain": [
       "642.0"
      ]
     },
     "execution_count": 87,
     "metadata": {},
     "output_type": "execute_result"
    }
   ],
   "source": [
    "ka_k = k_a[4:6].append(k_a[34:])\n",
    "ka_k\n",
    "ka_k.sum()"
   ]
  },
  {
   "cell_type": "markdown",
   "id": "f83d2cc0-772e-47b3-917f-c8d61396c467",
   "metadata": {},
   "source": [
    "## Districts in Grand Kru"
   ]
  },
  {
   "cell_type": "code",
   "execution_count": 88,
   "id": "3aead961-b30d-41b9-8899-e09211d5ef5a",
   "metadata": {},
   "outputs": [
    {
     "data": {
      "text/plain": [
       "806.0"
      ]
     },
     "execution_count": 88,
     "metadata": {},
     "output_type": "execute_result"
    }
   ],
   "source": [
    "k_s = kece_melt[(kece_melt['district']== 'Districts in Grand Kru') & (kece_melt['count']== 'Barclayville')].sum()\n",
    "k_s = kece_melt[(kece_melt['district']== 'Districts in Grand Kru') & (kece_melt['count']== 'Trehn')].sum()\n",
    "k_s = kece_melt[(kece_melt['district']== 'Districts in Grand Kru') & (kece_melt['count']== 'Buah')].sum()\n",
    "k_s = kece_melt[(kece_melt['district']== 'Districts in Grand Kru') & (kece_melt['count']== 'Grand Cess')].sum()\n",
    "k_s = kece_melt[(kece_melt['district']== 'Districts in Grand Kru') & (kece_melt['count']== 'Dorbor')].sum()\n",
    "k_s = kece_melt[(kece_melt['district']== 'Districts in Grand Kru') & (kece_melt['count']== 'Jloh')].sum()\n",
    "k_s = kece_melt[(kece_melt['district']== 'Districts in Grand Kru') & (kece_melt['count']== 'Sass Town')].sum()\n",
    "k_s = kece_melt[(kece_melt['district']== 'Districts in Grand Kru') & (kece_melt['count']== 'Wedabo')].sum()\n",
    "\n",
    "k_a = k_s[1:-2]\n",
    "k_a.sum()\n"
   ]
  },
  {
   "cell_type": "code",
   "execution_count": 89,
   "id": "f57b69cd-0e3b-49c5-8b4a-3a3c500b270a",
   "metadata": {},
   "outputs": [
    {
     "data": {
      "text/plain": [
       "356.0"
      ]
     },
     "execution_count": 89,
     "metadata": {},
     "output_type": "execute_result"
    }
   ],
   "source": [
    "ka_nur = k_a[:2].append(k_a[6:20])\n",
    "#ka_nur\n",
    "ka_nur.sum()"
   ]
  },
  {
   "cell_type": "code",
   "execution_count": 90,
   "id": "d93b1558-bab3-4b4e-b535-bfdbe273bab5",
   "metadata": {},
   "outputs": [
    {
     "data": {
      "text/plain": [
       "303.0"
      ]
     },
     "execution_count": 90,
     "metadata": {},
     "output_type": "execute_result"
    }
   ],
   "source": [
    "ka_pk = k_a[2:4].append(k_a[20:34])\n",
    "#ka_pk\n",
    "ka_pk.sum()"
   ]
  },
  {
   "cell_type": "code",
   "execution_count": 91,
   "id": "32ed0e86-29cc-4ef0-b2cf-58023b8b310b",
   "metadata": {},
   "outputs": [
    {
     "data": {
      "text/plain": [
       "147.0"
      ]
     },
     "execution_count": 91,
     "metadata": {},
     "output_type": "execute_result"
    }
   ],
   "source": [
    "ka_k = k_a[4:6].append(k_a[34:])\n",
    "ka_k\n",
    "ka_k.sum()"
   ]
  },
  {
   "cell_type": "markdown",
   "id": "540f248e-9437-4927-815b-e1969e5d56ba",
   "metadata": {},
   "source": [
    "## Districts in Lofa"
   ]
  },
  {
   "cell_type": "code",
   "execution_count": 92,
   "id": "412abd32-68a6-41d5-8cfc-015bac732ed7",
   "metadata": {},
   "outputs": [
    {
     "data": {
      "text/plain": [
       "1271.0"
      ]
     },
     "execution_count": 92,
     "metadata": {},
     "output_type": "execute_result"
    }
   ],
   "source": [
    "k_s = kece_melt[(kece_melt['district']== 'District in Lofa') & (kece_melt['count']== 'Foya')].sum()\n",
    "k_s = kece_melt[(kece_melt['district']== 'District in Lofa') & (kece_melt['count']== 'Kolahun 1')].sum()\n",
    "k_s = kece_melt[(kece_melt['district']== 'District in Lofa') & (kece_melt['count']== 'Kolahun 2')].sum()\n",
    "k_s = kece_melt[(kece_melt['district']== 'District in Lofa') & (kece_melt['count']== 'Salayea')].sum()\n",
    "k_s = kece_melt[(kece_melt['district']== 'District in Lofa') & (kece_melt['count']== 'Vahun')].sum()\n",
    "k_s = kece_melt[(kece_melt['district']== 'District in Lofa') & (kece_melt['count']== 'Voinjama')].sum()\n",
    "k_s = kece_melt[(kece_melt['district']== 'District in Lofa') & (kece_melt['count']== 'Zorzor')].sum()\n",
    "k_a = k_s[1:-2]\n",
    "k_a.sum()\n"
   ]
  },
  {
   "cell_type": "code",
   "execution_count": 93,
   "id": "81c1b253-14a8-4b38-a3cb-7e17cd1630bd",
   "metadata": {},
   "outputs": [
    {
     "data": {
      "text/plain": [
       "131.0"
      ]
     },
     "execution_count": 93,
     "metadata": {},
     "output_type": "execute_result"
    }
   ],
   "source": [
    "ka_nur = k_a[:2].append(k_a[6:20])\n",
    "#ka_nur\n",
    "ka_nur.sum()"
   ]
  },
  {
   "cell_type": "code",
   "execution_count": 94,
   "id": "2ebe3cff-e18a-4b16-a56b-788dc3f5de8f",
   "metadata": {},
   "outputs": [
    {
     "data": {
      "text/plain": [
       "820.0"
      ]
     },
     "execution_count": 94,
     "metadata": {},
     "output_type": "execute_result"
    }
   ],
   "source": [
    "ka_pk = k_a[2:4].append(k_a[20:34])\n",
    "#ka_pk\n",
    "ka_pk.sum()"
   ]
  },
  {
   "cell_type": "code",
   "execution_count": 95,
   "id": "03f22e89-24df-41ec-b865-57cdf79aa047",
   "metadata": {},
   "outputs": [
    {
     "data": {
      "text/plain": [
       "320.0"
      ]
     },
     "execution_count": 95,
     "metadata": {},
     "output_type": "execute_result"
    }
   ],
   "source": [
    "ka_k = k_a[4:6].append(k_a[34:])\n",
    "ka_k\n",
    "ka_k.sum()"
   ]
  },
  {
   "cell_type": "markdown",
   "id": "f82c1995-b3c5-4344-9219-cba3609ea0d2",
   "metadata": {},
   "source": [
    "## Districts in Margibi"
   ]
  },
  {
   "cell_type": "code",
   "execution_count": 96,
   "id": "3e89b1c5-4279-45c2-9c2e-c335a66134a1",
   "metadata": {},
   "outputs": [
    {
     "data": {
      "text/plain": [
       "1473.0"
      ]
     },
     "execution_count": 96,
     "metadata": {},
     "output_type": "execute_result"
    }
   ],
   "source": [
    "k_s = kece_melt[(kece_melt['district']== 'District in Margibi') & (kece_melt['count']== 'Marshall')].sum()\n",
    "k_s = kece_melt[(kece_melt['district']== 'District in Margibi') & (kece_melt['count']== 'Farmington')].sum()\n",
    "k_s = kece_melt[(kece_melt['district']== 'District in Margibi') & (kece_melt['count']== 'Mama kaba')].sum()\n",
    "k_s = kece_melt[(kece_melt['district']== 'District in Margibi') & (kece_melt['count']== 'Gibi')].sum()\n",
    "k_s = kece_melt[(kece_melt['district']== 'District in Margibi') & (kece_melt['count']== 'Kakata 1')].sum()\n",
    "k_s = kece_melt[(kece_melt['district']== 'District in Margibi') & (kece_melt['count']== 'Kakata 2')].sum()\n",
    "k_a = k_s[1:-2]\n",
    "k_a.sum()\n"
   ]
  },
  {
   "cell_type": "code",
   "execution_count": 97,
   "id": "f887c6f1-3322-452c-985f-94c36fafcc29",
   "metadata": {},
   "outputs": [
    {
     "data": {
      "text/plain": [
       "661.0"
      ]
     },
     "execution_count": 97,
     "metadata": {},
     "output_type": "execute_result"
    }
   ],
   "source": [
    "ka_nur = k_a[:2].append(k_a[6:20])\n",
    "#ka_nur\n",
    "ka_nur.sum()"
   ]
  },
  {
   "cell_type": "code",
   "execution_count": 98,
   "id": "0a2b2daa-6afd-4d02-9352-d80b1d2f9509",
   "metadata": {},
   "outputs": [
    {
     "data": {
      "text/plain": [
       "476.0"
      ]
     },
     "execution_count": 98,
     "metadata": {},
     "output_type": "execute_result"
    }
   ],
   "source": [
    "ka_pk = k_a[2:4].append(k_a[20:34])\n",
    "#ka_pk\n",
    "ka_pk.sum()"
   ]
  },
  {
   "cell_type": "code",
   "execution_count": 99,
   "id": "fe13d946-3aa9-42b7-adcb-1a293f8a0e8e",
   "metadata": {},
   "outputs": [
    {
     "data": {
      "text/plain": [
       "336.0"
      ]
     },
     "execution_count": 99,
     "metadata": {},
     "output_type": "execute_result"
    }
   ],
   "source": [
    "ka_k = k_a[4:6].append(k_a[34:])\n",
    "ka_k\n",
    "ka_k.sum()"
   ]
  },
  {
   "cell_type": "markdown",
   "id": "ea0da580-03f6-4e1f-8f5f-ea89b0e843b4",
   "metadata": {},
   "source": [
    "## Districts in Maryland"
   ]
  },
  {
   "cell_type": "code",
   "execution_count": 100,
   "id": "22551948-a6e4-490b-ad9d-e74d0948b57c",
   "metadata": {},
   "outputs": [
    {
     "data": {
      "text/plain": [
       "0.0"
      ]
     },
     "execution_count": 100,
     "metadata": {},
     "output_type": "execute_result"
    }
   ],
   "source": [
    "k_s = kece_melt[(kece_melt['district']== 'District in Maryland') & (kece_melt['count']== 'Harper 1')].sum()\n",
    "k_s = kece_melt[(kece_melt['district']== 'District in Maryland') & (kece_melt['count']== 'Harper 2')].sum()\n",
    "k_s = kece_melt[(kece_melt['district']== 'District in Maryland') & (kece_melt['count']== 'Barrobo 1')].sum()\n",
    "k_s = kece_melt[(kece_melt['district']== 'District in Maryland') & (kece_melt['count']== 'Barrobo 2')].sum()\n",
    "k_s = kece_melt[(kece_melt['district']== 'District in Maryland') & (kece_melt['count']== 'Sodoken')].sum()\n",
    "k_s = kece_melt[(kece_melt['district']== 'District in Maryland') & (kece_melt['count']== 'Karleway 1')].sum()\n",
    "k_s = kece_melt[(kece_melt['district']== 'District in Maryland') & (kece_melt['count']== 'Karleway 2')].sum()\n",
    "k_s = kece_melt[(kece_melt['district']== 'District in Maryland') & (kece_melt['count']== 'Pleebo')].sum()\n",
    "k_a = k_s[1:-2]\n",
    "k_a.sum()"
   ]
  },
  {
   "cell_type": "code",
   "execution_count": 101,
   "id": "14c54bbc-81d8-4351-8aab-53405def63fd",
   "metadata": {},
   "outputs": [
    {
     "data": {
      "text/plain": [
       "0.0"
      ]
     },
     "execution_count": 101,
     "metadata": {},
     "output_type": "execute_result"
    }
   ],
   "source": [
    "ka_nur = k_a[:2].append(k_a[6:20])\n",
    "#ka_nur\n",
    "ka_nur.sum()"
   ]
  },
  {
   "cell_type": "code",
   "execution_count": 102,
   "id": "ddf40b5b-91a6-4963-9c8b-d25c68b759c5",
   "metadata": {},
   "outputs": [
    {
     "data": {
      "text/plain": [
       "0.0"
      ]
     },
     "execution_count": 102,
     "metadata": {},
     "output_type": "execute_result"
    }
   ],
   "source": [
    "ka_pk = k_a[2:4].append(k_a[20:34])\n",
    "#ka_pk\n",
    "ka_pk.sum()"
   ]
  },
  {
   "cell_type": "code",
   "execution_count": 103,
   "id": "cf888ae9-b0ef-41cc-9dbf-c9e2c2309e12",
   "metadata": {},
   "outputs": [
    {
     "data": {
      "text/plain": [
       "0.0"
      ]
     },
     "execution_count": 103,
     "metadata": {},
     "output_type": "execute_result"
    }
   ],
   "source": [
    "ka_k = k_a[4:6].append(k_a[34:])\n",
    "ka_k\n",
    "ka_k.sum()"
   ]
  },
  {
   "cell_type": "markdown",
   "id": "abfe93d2-fa73-4ef0-850d-650f025bbdb5",
   "metadata": {},
   "source": [
    "## Districts in Montserrado 1"
   ]
  },
  {
   "cell_type": "code",
   "execution_count": 104,
   "id": "d0ed7781-f823-491f-bd01-abf288e69edd",
   "metadata": {},
   "outputs": [
    {
     "data": {
      "text/plain": [
       "3420.0"
      ]
     },
     "execution_count": 104,
     "metadata": {},
     "output_type": "execute_result"
    }
   ],
   "source": [
    "k_s = kece_melt[(kece_melt['district']== 'District in Montserrado 1') & (kece_melt['count']== 'Paynesville 1')].sum()\n",
    "k_s = kece_melt[(kece_melt['district']== 'District in Montserrado 1') & (kece_melt['count']== 'Paynesville 2')].sum()\n",
    "k_s = kece_melt[(kece_melt['district']== 'District in Montserrado 1') & (kece_melt['count']== 'Paynesville 3')].sum()\n",
    "k_s = kece_melt[(kece_melt['district']== 'District in Montserrado 1') & (kece_melt['count']== 'Paynesville 4')].sum()\n",
    "k_s = kece_melt[(kece_melt['district']== 'District in Montserrado 1') & (kece_melt['count']== 'Paynesville 5')].sum()\n",
    "k_s = kece_melt[(kece_melt['district']== 'District in Montserrado 1') & (kece_melt['count']== 'Paynesville 6')].sum()\n",
    "k_s = kece_melt[(kece_melt['district']== 'District in Montserrado 1') & (kece_melt['count']== 'Greater Monrovia 1A')].sum()\n",
    "k_s = kece_melt[(kece_melt['district']== 'District in Montserrado 1') & (kece_melt['count']== 'Greater Monrovia 1B')].sum()\n",
    "k_s = kece_melt[(kece_melt['district']== 'District in Montserrado 1') & (kece_melt['count']== 'Greater Monrovia 1C')].sum()\n",
    "k_s = kece_melt[(kece_melt['district']== 'District in Montserrado 1') & (kece_melt['count']== 'Greater Monrovia 1D')].sum()\n",
    "k_s = kece_melt[(kece_melt['district']== 'District in Montserrado 1') & (kece_melt['count']== 'Greater Monrovia 1E')].sum()\n",
    "k_s = kece_melt[(kece_melt['district']== 'District in Montserrado 1') & (kece_melt['count']== 'Greater Monrovia 2A')].sum()\n",
    "k_s = kece_melt[(kece_melt['district']== 'District in Montserrado 1') & (kece_melt['count']== 'Greater Monrovia 2B')].sum()\n",
    "k_s = kece_melt[(kece_melt['district']== 'District in Montserrado 1') & (kece_melt['count']== 'Greater Monrovia 2C')].sum()\n",
    "k_s = kece_melt[(kece_melt['district']== 'District in Montserrado 1') & (kece_melt['count']== 'Greater Monrovia 2D')].sum()\n",
    "k_a = k_s[1:-2]\n",
    "k_a.sum()"
   ]
  },
  {
   "cell_type": "code",
   "execution_count": 105,
   "id": "af38d2ca-5760-44b5-92f0-220deec51731",
   "metadata": {},
   "outputs": [
    {
     "data": {
      "text/plain": [
       "1529.0"
      ]
     },
     "execution_count": 105,
     "metadata": {},
     "output_type": "execute_result"
    }
   ],
   "source": [
    "ka_nur = k_a[:2].append(k_a[6:20])\n",
    "#ka_nur\n",
    "ka_nur.sum()"
   ]
  },
  {
   "cell_type": "code",
   "execution_count": 106,
   "id": "85576b15-e823-4058-b530-17b8d14d09e4",
   "metadata": {},
   "outputs": [
    {
     "data": {
      "text/plain": [
       "1222.0"
      ]
     },
     "execution_count": 106,
     "metadata": {},
     "output_type": "execute_result"
    }
   ],
   "source": [
    "ka_pk = k_a[2:4].append(k_a[20:34])\n",
    "#ka_pk\n",
    "ka_pk.sum()"
   ]
  },
  {
   "cell_type": "code",
   "execution_count": 107,
   "id": "3881e7e5-534b-44d5-878d-b67d87ae8227",
   "metadata": {},
   "outputs": [
    {
     "data": {
      "text/plain": [
       "669.0"
      ]
     },
     "execution_count": 107,
     "metadata": {},
     "output_type": "execute_result"
    }
   ],
   "source": [
    "ka_k = k_a[4:6].append(k_a[34:])\n",
    "ka_k\n",
    "ka_k.sum()"
   ]
  },
  {
   "cell_type": "code",
   "execution_count": null,
   "id": "ed40d93b-5a9b-4257-a9dc-bd8e14cc987a",
   "metadata": {},
   "outputs": [],
   "source": []
  },
  {
   "cell_type": "markdown",
   "id": "3c8fce94-3d58-4e50-8b9d-be1b380fbc2e",
   "metadata": {},
   "source": [
    "## Districts in Montserrado 2"
   ]
  },
  {
   "cell_type": "code",
   "execution_count": 108,
   "id": "3a1f7bd8-e957-47f6-8a52-96ced1d70615",
   "metadata": {},
   "outputs": [
    {
     "data": {
      "text/plain": [
       "2975.0"
      ]
     },
     "execution_count": 108,
     "metadata": {},
     "output_type": "execute_result"
    }
   ],
   "source": [
    "k_s = kece_melt[(kece_melt['district']== 'District in Montserrado 2') & (kece_melt['count']== 'Left Bank 1A')].sum()\n",
    "k_s = kece_melt[(kece_melt['district']== 'District in Montserrado 2') & (kece_melt['count']== 'Left bank 1B')].sum()\n",
    "k_s = kece_melt[(kece_melt['district']== 'District in Montserrado 2') & (kece_melt['count']== 'Left bank  1C')].sum()\n",
    "k_s = kece_melt[(kece_melt['district']== 'District in Montserrado 2') & (kece_melt['count']== 'Left Bank 1D')].sum()\n",
    "k_s = kece_melt[(kece_melt['district']== 'District in Montserrado 2') & (kece_melt['count']== 'Left Bank 2A')].sum()\n",
    "k_s = kece_melt[(kece_melt['district']== 'District in Montserrado 2') & (kece_melt['count']== 'Left bank 2B')].sum()\n",
    "k_s = kece_melt[(kece_melt['district']== 'District in Montserrado 2') & (kece_melt['count']== 'Careysburg')].sum()\n",
    "k_s = kece_melt[(kece_melt['district']== 'District in Montserrado 2') & (kece_melt['count']== 'Todee')].sum()\n",
    "k_s = kece_melt[(kece_melt['district']== 'District in Montserrado 2') & (kece_melt['count']== 'Right Bank 1')].sum()\n",
    "k_s = kece_melt[(kece_melt['district']== 'District in Montserrado 2') & (kece_melt['count']== 'Right Bank 2')].sum()\n",
    "k_s = kece_melt[(kece_melt['district']== 'District in Montserrado 2') & (kece_melt['count']== 'Right Bank 3')].sum()\n",
    "k_a = k_s[1:-2]\n",
    "k_a.sum()\n"
   ]
  },
  {
   "cell_type": "code",
   "execution_count": 109,
   "id": "eef6e8e9-459d-420c-b432-a5061ecb9ab0",
   "metadata": {},
   "outputs": [
    {
     "data": {
      "text/plain": [
       "1468.0"
      ]
     },
     "execution_count": 109,
     "metadata": {},
     "output_type": "execute_result"
    }
   ],
   "source": [
    "ka_nur = k_a[:2].append(k_a[6:20])\n",
    "#ka_nur\n",
    "ka_nur.sum()"
   ]
  },
  {
   "cell_type": "code",
   "execution_count": 110,
   "id": "a66b95fa-1583-4862-b7ef-8296c8c5005b",
   "metadata": {},
   "outputs": [
    {
     "data": {
      "text/plain": [
       "954.0"
      ]
     },
     "execution_count": 110,
     "metadata": {},
     "output_type": "execute_result"
    }
   ],
   "source": [
    "ka_pk = k_a[2:4].append(k_a[20:34])\n",
    "#ka_pk\n",
    "ka_pk.sum()"
   ]
  },
  {
   "cell_type": "code",
   "execution_count": 111,
   "id": "4aab85ca-7e24-43da-ab42-0c8cf5535a8d",
   "metadata": {},
   "outputs": [
    {
     "data": {
      "text/plain": [
       "553.0"
      ]
     },
     "execution_count": 111,
     "metadata": {},
     "output_type": "execute_result"
    }
   ],
   "source": [
    "ka_k = k_a[4:6].append(k_a[34:])\n",
    "ka_k\n",
    "ka_k.sum()"
   ]
  },
  {
   "cell_type": "markdown",
   "id": "6e6be2af-df86-4cfa-a667-f26ad1ce24f2",
   "metadata": {},
   "source": [
    "## Districts in Nimba"
   ]
  },
  {
   "cell_type": "code",
   "execution_count": 112,
   "id": "f821cd93-a4e5-4dfa-9fda-08ad918bb7ba",
   "metadata": {},
   "outputs": [
    {
     "data": {
      "text/plain": [
       "2918.0"
      ]
     },
     "execution_count": 112,
     "metadata": {},
     "output_type": "execute_result"
    }
   ],
   "source": [
    "k_s = kece_melt[(kece_melt['district']== 'District in Nimba') & (kece_melt['count']== 'Tappita 1')].sum()\n",
    "k_s = kece_melt[(kece_melt['district']== 'District in Nimba') & (kece_melt['count']== 'Tappita 2')].sum()\n",
    "#k_s = kece_melt[(kece_melt['district']== 'District in Nimba') & (kece_melt['count']== 'Saclepea 1')].sum()\n",
    "k_s = kece_melt[(kece_melt['district']== 'District in Nimba') & (kece_melt['count']== 'Sanniquellie Mah')].sum()\n",
    "k_s = kece_melt[(kece_melt['district']== 'District in Nimba') & (kece_melt['count']== 'Zoe-Geh')].sum()\n",
    "k_s = kece_melt[(kece_melt['district']== 'District in Nimba') & (kece_melt['count']== 'Tuwah River')].sum()\n",
    "k_s = kece_melt[(kece_melt['district']== 'District in Nimba') & (kece_melt['count']== 'Gbelay-Geh')].sum()\n",
    "k_s = kece_melt[(kece_melt['district']== 'District in Nimba') & (kece_melt['count']== 'Yarpea Mah')].sum()\n",
    "k_s = kece_melt[(kece_melt['district']== 'District in Nimba') & (kece_melt['count']== 'Yarwein Mensonoh')].sum()\n",
    "k_s = kece_melt[(kece_melt['district']== 'District in Nimba') & (kece_melt['count']== 'Buuyao')].sum()\n",
    "k_s = kece_melt[(kece_melt['district']== 'District in Nimba') & (kece_melt['count']== 'Bain-Garr 1')].sum()\n",
    "k_s = kece_melt[(kece_melt['district']== 'District in Nimba') & (kece_melt['count']== 'Bain- Garr 2')].sum()\n",
    "k_a = k_s[1:-2]\n",
    "k_a.sum()"
   ]
  },
  {
   "cell_type": "code",
   "execution_count": 113,
   "id": "c839cb79-0d9e-42e8-bf72-a5eb67d0348e",
   "metadata": {},
   "outputs": [
    {
     "data": {
      "text/plain": [
       "1583.0"
      ]
     },
     "execution_count": 113,
     "metadata": {},
     "output_type": "execute_result"
    }
   ],
   "source": [
    "ka_nur = k_a[:2].append(k_a[6:20])\n",
    "#ka_nur\n",
    "ka_nur.sum()"
   ]
  },
  {
   "cell_type": "code",
   "execution_count": 114,
   "id": "e37dafc9-7c82-4799-a80f-55107a268c6e",
   "metadata": {},
   "outputs": [
    {
     "data": {
      "text/plain": [
       "805.0"
      ]
     },
     "execution_count": 114,
     "metadata": {},
     "output_type": "execute_result"
    }
   ],
   "source": [
    "ka_pk = k_a[2:4].append(k_a[20:34])\n",
    "#ka_pk\n",
    "ka_pk.sum()"
   ]
  },
  {
   "cell_type": "code",
   "execution_count": 115,
   "id": "d61199b6-4961-4bd5-b9e4-f950f2bab66b",
   "metadata": {},
   "outputs": [
    {
     "data": {
      "text/plain": [
       "530.0"
      ]
     },
     "execution_count": 115,
     "metadata": {},
     "output_type": "execute_result"
    }
   ],
   "source": [
    "ka_k = k_a[4:6].append(k_a[34:])\n",
    "ka_k\n",
    "ka_k.sum()"
   ]
  },
  {
   "cell_type": "markdown",
   "id": "d0764159-dd9d-4361-9e93-786caf281a2b",
   "metadata": {},
   "source": [
    "## Districts in River Gee"
   ]
  },
  {
   "cell_type": "code",
   "execution_count": 116,
   "id": "49ebe6bf-a86d-482d-b879-e94dfd79318f",
   "metadata": {},
   "outputs": [
    {
     "data": {
      "text/plain": [
       "2090.0"
      ]
     },
     "execution_count": 116,
     "metadata": {},
     "output_type": "execute_result"
    }
   ],
   "source": [
    "k_s = kece_melt[(kece_melt['district']== 'District in River Gee') & (kece_melt['count']== 'Sarbo')].sum()\n",
    "k_s = kece_melt[(kece_melt['district']== 'District in River Gee') & (kece_melt['count']== 'Tienpo')].sum()\n",
    "k_s = kece_melt[(kece_melt['district']== 'District in River Gee') & (kece_melt['count']== 'Chedepo')].sum()\n",
    "k_s = kece_melt[(kece_melt['district']== 'District in River Gee') & (kece_melt['count']== 'Putupo')].sum()\n",
    "k_s = kece_melt[(kece_melt['district']== 'District in River Gee') & (kece_melt['count']== 'Gbeapo')].sum()\n",
    "k_s = kece_melt[(kece_melt['district']== 'District in River Gee') & (kece_melt['count']== 'Webbo')].sum()\n",
    "k_a = k_s[1:-2]\n",
    "k_a.sum()"
   ]
  },
  {
   "cell_type": "code",
   "execution_count": 117,
   "id": "d6376046-f387-47bb-8889-e7d087b084d9",
   "metadata": {},
   "outputs": [
    {
     "data": {
      "text/plain": [
       "994.0"
      ]
     },
     "execution_count": 117,
     "metadata": {},
     "output_type": "execute_result"
    }
   ],
   "source": [
    "ka_nur = k_a[:2].append(k_a[6:20])\n",
    "#ka_nur\n",
    "ka_nur.sum()"
   ]
  },
  {
   "cell_type": "code",
   "execution_count": 118,
   "id": "8aaaeda6-59e7-40f3-8c2b-441b7e40f569",
   "metadata": {},
   "outputs": [
    {
     "data": {
      "text/plain": [
       "708.0"
      ]
     },
     "execution_count": 118,
     "metadata": {},
     "output_type": "execute_result"
    }
   ],
   "source": [
    "ka_pk = k_a[2:4].append(k_a[20:34])\n",
    "#ka_pk\n",
    "ka_pk.sum()"
   ]
  },
  {
   "cell_type": "code",
   "execution_count": 119,
   "id": "7e9fe4e7-171e-4b82-a76d-394c1c6eccbb",
   "metadata": {},
   "outputs": [
    {
     "data": {
      "text/plain": [
       "388.0"
      ]
     },
     "execution_count": 119,
     "metadata": {},
     "output_type": "execute_result"
    }
   ],
   "source": [
    "ka_k = k_a[4:6].append(k_a[34:])\n",
    "ka_k\n",
    "ka_k.sum()"
   ]
  },
  {
   "cell_type": "markdown",
   "id": "89aee3dc-9558-4bab-8f97-48fb19e7f36d",
   "metadata": {},
   "source": [
    "## Districts in River Cess"
   ]
  },
  {
   "cell_type": "code",
   "execution_count": 120,
   "id": "365c3fa6-03cd-4bb6-a78f-3134dd036c6e",
   "metadata": {},
   "outputs": [
    {
     "data": {
      "text/plain": [
       "774.0"
      ]
     },
     "execution_count": 120,
     "metadata": {},
     "output_type": "execute_result"
    }
   ],
   "source": [
    "k_s = kece_melt[(kece_melt['district']== 'Districts in River Cess') & (kece_melt['count']== 'Timobo')].sum()\n",
    "k_s = kece_melt[(kece_melt['district']== 'Districts in River Cess') & (kece_melt['count']== 'Central Rivercess 1')].sum()\n",
    "k_s = kece_melt[(kece_melt['district']== 'Districts in River Cess') & (kece_melt['count']== 'Central Rivercess 2')].sum()\n",
    "k_s = kece_melt[(kece_melt['district']== 'Districts in River Cess') & (kece_melt['count']== 'Morwah')].sum()\n",
    "k_s = kece_melt[(kece_melt['district']== 'Districts in River Cess') & (kece_melt['count']== 'Yarnee')].sum()\n",
    "k_a = k_s[1:-2]\n",
    "k_a.sum()"
   ]
  },
  {
   "cell_type": "code",
   "execution_count": 121,
   "id": "1d2e1a83-6c20-492d-abb5-886dc1835181",
   "metadata": {},
   "outputs": [
    {
     "data": {
      "text/plain": [
       "326.0"
      ]
     },
     "execution_count": 121,
     "metadata": {},
     "output_type": "execute_result"
    }
   ],
   "source": [
    "ka_nur = k_a[:2].append(k_a[6:20])\n",
    "#ka_nur\n",
    "ka_nur.sum()"
   ]
  },
  {
   "cell_type": "code",
   "execution_count": 122,
   "id": "2c05f09a-b978-4e63-965a-e16ab4f60ce0",
   "metadata": {},
   "outputs": [
    {
     "data": {
      "text/plain": [
       "282.0"
      ]
     },
     "execution_count": 122,
     "metadata": {},
     "output_type": "execute_result"
    }
   ],
   "source": [
    "ka_pk = k_a[2:4].append(k_a[20:34])\n",
    "#ka_pk\n",
    "ka_pk.sum()"
   ]
  },
  {
   "cell_type": "code",
   "execution_count": 123,
   "id": "89d0f8d7-8886-45ca-9dbd-e6ac2e803c28",
   "metadata": {},
   "outputs": [
    {
     "data": {
      "text/plain": [
       "166.0"
      ]
     },
     "execution_count": 123,
     "metadata": {},
     "output_type": "execute_result"
    }
   ],
   "source": [
    "ka_k = k_a[4:6].append(k_a[34:])\n",
    "ka_k\n",
    "ka_k.sum()"
   ]
  },
  {
   "cell_type": "markdown",
   "id": "bb5d3409-f2c9-4fee-8146-5df5e23004cb",
   "metadata": {},
   "source": [
    "## Districts in Sinoe"
   ]
  },
  {
   "cell_type": "code",
   "execution_count": 124,
   "id": "3ab9ae12-7c6e-4231-903d-4610ab59d8cd",
   "metadata": {},
   "outputs": [
    {
     "data": {
      "text/plain": [
       "831.0"
      ]
     },
     "execution_count": 124,
     "metadata": {},
     "output_type": "execute_result"
    }
   ],
   "source": [
    "k_s = kece_melt[(kece_melt['district']== 'District in Sinoe') & (kece_melt['count']== 'Upper Kpanyan')].sum()\n",
    "k_s = kece_melt[(kece_melt['district']== 'District in Sinoe') & (kece_melt['count']== 'Juarzon')].sum()\n",
    "k_s = kece_melt[(kece_melt['district']== 'District in Sinoe') & (kece_melt['count']== 'Lower Kpanyan')].sum()\n",
    "k_s = kece_melt[(kece_melt['district']== 'District in Sinoe') & (kece_melt['count']== 'Butaw')].sum()\n",
    "k_s = kece_melt[(kece_melt['district']== 'District in Sinoe') & (kece_melt['count']== 'Tarjuwon')].sum()\n",
    "k_s = kece_melt[(kece_melt['district']== 'District in Sinoe') & (kece_melt['count']== 'Jeadea')].sum()\n",
    "k_s = kece_melt[(kece_melt['district']== 'District in Sinoe') & (kece_melt['count']== 'Sanquin')].sum()\n",
    "k_s = kece_melt[(kece_melt['district']== 'District in Sinoe') & (kece_melt['count']== 'Greenville')].sum()\n",
    "k_s = kece_melt[(kece_melt['district']== 'District in Sinoe') & (kece_melt['count']== 'Central Kpanyan')].sum()\n",
    "k_a = k_s[1:-2]\n",
    "k_a.sum()"
   ]
  },
  {
   "cell_type": "code",
   "execution_count": 125,
   "id": "11f7c987-eb11-49b9-b365-ddef318ebc70",
   "metadata": {},
   "outputs": [
    {
     "data": {
      "text/plain": [
       "459.0"
      ]
     },
     "execution_count": 125,
     "metadata": {},
     "output_type": "execute_result"
    }
   ],
   "source": [
    "ka_nur = k_a[:2].append(k_a[6:20])\n",
    "#ka_nur\n",
    "ka_nur.sum()"
   ]
  },
  {
   "cell_type": "code",
   "execution_count": 126,
   "id": "d1d228c3-bd3b-48e4-8b7f-a623d1ef83d7",
   "metadata": {},
   "outputs": [
    {
     "data": {
      "text/plain": [
       "277.0"
      ]
     },
     "execution_count": 126,
     "metadata": {},
     "output_type": "execute_result"
    }
   ],
   "source": [
    "ka_pk = k_a[2:4].append(k_a[20:34])\n",
    "#ka_pk\n",
    "ka_pk.sum()"
   ]
  },
  {
   "cell_type": "code",
   "execution_count": 127,
   "id": "aee8efcc-f590-4904-962d-0df750495751",
   "metadata": {},
   "outputs": [
    {
     "data": {
      "text/plain": [
       "95.0"
      ]
     },
     "execution_count": 127,
     "metadata": {},
     "output_type": "execute_result"
    }
   ],
   "source": [
    "ka_k = k_a[4:6].append(k_a[34:])\n",
    "ka_k\n",
    "ka_k.sum()"
   ]
  },
  {
   "cell_type": "markdown",
   "id": "0c8c6a55-1add-434a-9299-cc1f127eb76e",
   "metadata": {},
   "source": [
    "# Table 8: Enrollment by District and Ownership"
   ]
  },
  {
   "cell_type": "code",
   "execution_count": 128,
   "id": "65a12a43-7a39-47d2-a05a-6583a5c47f89",
   "metadata": {},
   "outputs": [],
   "source": [
    "#kece_c.head()"
   ]
  },
  {
   "cell_type": "code",
   "execution_count": 129,
   "id": "a2d37ea3-11af-4992-bfc2-14c3c713762f",
   "metadata": {},
   "outputs": [],
   "source": [
    "kece_c = kcensus.iloc[:,[2]]\n",
    "kece_o = kcensus.iloc[:,[39]]\n",
    "kece_s = kece_student.iloc[:,46:87]\n",
    "kece_c = kcensus.iloc[:,[2]]\n",
    "kece_d = kcensus.iloc[:,3:19]\n",
    "kece_s = kece_student.iloc[:,46:87]"
   ]
  },
  {
   "cell_type": "code",
   "execution_count": 130,
   "id": "6651cf7a-d61e-458c-9881-8c46cf0cd8dd",
   "metadata": {},
   "outputs": [
    {
     "data": {
      "text/plain": [
       "Index(['County', 'Type of school', 'District in Bong County',\n",
       "       'District in Gbarpolu', 'District in River Gee', 'District in Sinoe',\n",
       "       'District in Lofa', 'District in Nimba', 'District in Grand Cape Mount',\n",
       "       'District in Maryland', 'District in Margibi', 'District in Bomi',\n",
       "       'District in Grand Bassa', 'District in Montserrado 2',\n",
       "       'District in Montserrado 1', 'Districts in Grand Kru',\n",
       "       'Districts in Grand Gedeh', 'Districts in River Cess',\n",
       "       'How many MALE students below AGE 3 YEARS OLD are in Nursery?',\n",
       "       'How many FEMALE students below AGE 3 YEARS OLD are in Nursery?',\n",
       "       'How many MALE students below AGE 3 YEARS OLD are in Pre-kindergarten?',\n",
       "       'How many FEMALE students below AGE 3 YEARS OLD are in Pre-kindergarten?',\n",
       "       'How many MALE students below AGE 3 YEARS OLD are in Kindergarten?',\n",
       "       'How many FEMALE students below AGE 3 YEARS OLD are in Kindergarten?',\n",
       "       'How many MALE students AGE 3 YEARS OLD are in Nursery?',\n",
       "       'How many MALE students AGE 4 YEARS OLD are in Nursery?',\n",
       "       'How many MALE students AGE 5 YEARS OLD are in Nursery?',\n",
       "       'How many MALE students AGE 6 YEARS OLD are in Nursery?',\n",
       "       'How many MALE students AGE 7 YEARS OLD are in Nursery?',\n",
       "       'How many MALE students AGE 8 YEARS OLD are in Nursery?',\n",
       "       'How many MALE students Above AGE 8 YEARS OLD are in Nursery?',\n",
       "       'How many FEMALE students  AGE 3 YEARS OLD are in Nursery?',\n",
       "       'How many FEMALE students  AGE 4 YEARS OLD are in Nursery?',\n",
       "       'How many FEMALE students  AGE 5 YEARS OLD are in Nursery?',\n",
       "       'How many FEMALE students  AGE 6 YEARS OLD are in Nursery?',\n",
       "       'How many FEMALE students  AGE 7 YEARS OLD are in Nursery?',\n",
       "       'How many FEMALE students  AGE 8 YEARS OLD are in Nursery?',\n",
       "       'How many FEMALE students  above AGE 8 YEARS OLD are in Nursery?',\n",
       "       'How many MALE students AGE 3 YEARS OLD are in Pre-Kindergarten?',\n",
       "       'How many MALE students AGE 4 YEARS OLD are in Pre-Kindergarten?',\n",
       "       'How many MALE students AGE 5 YEARS OLD are in Pre-Kindergarten?',\n",
       "       'How many MALE students AGE 6 YEARS OLD are in Pre-Kindergarten?',\n",
       "       'How many MALE students AGE 7 YEARS OLD are in Pre-Kindergarten?',\n",
       "       'How many MALE students AGE 8 YEARS OLD are in Pre-Kindergarten?',\n",
       "       'How many MALE students above AGE 8 YEARS OLD are in Pre-Kindergarten?',\n",
       "       'How many FEMALE students  AGE 3 YEARS OLD are in Pre-Kindergarten?',\n",
       "       'How many FEMALE students  AGE 4 YEARS OLD are in Pre-Kindergarten?',\n",
       "       'How many FEMALE students  AGE 5 YEARS OLD are in Pre-Kindergarten?',\n",
       "       'How many FEMALE students  AGE 6 YEARS OLD are in Pre-Kindergarten?',\n",
       "       'How many FEMALE students  AGE 7 YEARS OLD are in Pre-Kindergarten?',\n",
       "       'How many FEMALE students  AGE 8 YEARS OLD are in Pre-Kindergarten?',\n",
       "       'How many FEMALE students  above AGE 8 YEARS OLD are in Pre-Kindergarten?',\n",
       "       'How many MALE students AGE 3 YEARS OLD are in Kindergarten?',\n",
       "       'How many MALE students AGE 4 YEARS OLD are in Kindergarten?',\n",
       "       'How many FEMALE students  AGE 5 YEARS OLD are in Kindergarten?',\n",
       "       'How many FEMALE students  AGE 6 YEARS OLD are in Kindergarten?',\n",
       "       'How many FEMALE students  AGE 7 YEARS OLD are in Kindergarten?',\n",
       "       'How many FEMALE students  AGE 8 YEARS OLD are in Kindergarten?',\n",
       "       'How many FEMALE students  above AGE 8 YEARS OLD are in Kindergarten?'],\n",
       "      dtype='object')"
      ]
     },
     "execution_count": 130,
     "metadata": {},
     "output_type": "execute_result"
    }
   ],
   "source": [
    "kece_cdso = pd.concat([kece_c, kece_o, kece_d, kece_s], axis = 1)\n",
    "kece_cdso.columns"
   ]
  },
  {
   "cell_type": "code",
   "execution_count": 131,
   "id": "e9173133-4a01-4535-bf26-40ea50a36a7d",
   "metadata": {},
   "outputs": [],
   "source": [
    "kece_melto =kece_cdso.melt(id_vars=['County', 'Type of school','How many MALE students below AGE 3 YEARS OLD are in Nursery?',\n",
    "       'How many FEMALE students below AGE 3 YEARS OLD are in Nursery?',\n",
    "       'How many MALE students below AGE 3 YEARS OLD are in Pre-kindergarten?',\n",
    "       'How many FEMALE students below AGE 3 YEARS OLD are in Pre-kindergarten?',\n",
    "       'How many MALE students below AGE 3 YEARS OLD are in Kindergarten?',\n",
    "       'How many FEMALE students below AGE 3 YEARS OLD are in Kindergarten?',\n",
    "       'How many MALE students AGE 3 YEARS OLD are in Nursery?',\n",
    "       'How many MALE students AGE 4 YEARS OLD are in Nursery?',\n",
    "       'How many MALE students AGE 5 YEARS OLD are in Nursery?',\n",
    "       'How many MALE students AGE 6 YEARS OLD are in Nursery?',\n",
    "       'How many MALE students AGE 7 YEARS OLD are in Nursery?',\n",
    "       'How many MALE students AGE 8 YEARS OLD are in Nursery?',\n",
    "       'How many MALE students Above AGE 8 YEARS OLD are in Nursery?',\n",
    "       'How many FEMALE students  AGE 3 YEARS OLD are in Nursery?',\n",
    "       'How many FEMALE students  AGE 4 YEARS OLD are in Nursery?',\n",
    "       'How many FEMALE students  AGE 5 YEARS OLD are in Nursery?',\n",
    "       'How many FEMALE students  AGE 6 YEARS OLD are in Nursery?',\n",
    "       'How many FEMALE students  AGE 7 YEARS OLD are in Nursery?',\n",
    "       'How many FEMALE students  AGE 8 YEARS OLD are in Nursery?',\n",
    "       'How many FEMALE students  above AGE 8 YEARS OLD are in Nursery?',\n",
    "       'How many MALE students AGE 3 YEARS OLD are in Pre-Kindergarten?',\n",
    "       'How many MALE students AGE 4 YEARS OLD are in Pre-Kindergarten?',\n",
    "       'How many MALE students AGE 5 YEARS OLD are in Pre-Kindergarten?',\n",
    "       'How many MALE students AGE 6 YEARS OLD are in Pre-Kindergarten?',\n",
    "       'How many MALE students AGE 7 YEARS OLD are in Pre-Kindergarten?',\n",
    "       'How many MALE students AGE 8 YEARS OLD are in Pre-Kindergarten?',\n",
    "       'How many MALE students above AGE 8 YEARS OLD are in Pre-Kindergarten?',\n",
    "       'How many FEMALE students  AGE 3 YEARS OLD are in Pre-Kindergarten?',\n",
    "       'How many FEMALE students  AGE 4 YEARS OLD are in Pre-Kindergarten?',\n",
    "       'How many FEMALE students  AGE 5 YEARS OLD are in Pre-Kindergarten?',\n",
    "       'How many FEMALE students  AGE 6 YEARS OLD are in Pre-Kindergarten?',\n",
    "       'How many FEMALE students  AGE 7 YEARS OLD are in Pre-Kindergarten?',\n",
    "       'How many FEMALE students  AGE 8 YEARS OLD are in Pre-Kindergarten?',\n",
    "       'How many FEMALE students  above AGE 8 YEARS OLD are in Pre-Kindergarten?',\n",
    "       'How many MALE students AGE 3 YEARS OLD are in Kindergarten?',\n",
    "       'How many MALE students AGE 4 YEARS OLD are in Kindergarten?',\n",
    "       'How many FEMALE students  AGE 5 YEARS OLD are in Kindergarten?',\n",
    "       'How many FEMALE students  AGE 6 YEARS OLD are in Kindergarten?',\n",
    "       'How many FEMALE students  AGE 7 YEARS OLD are in Kindergarten?',\n",
    "       'How many FEMALE students  AGE 8 YEARS OLD are in Kindergarten?',\n",
    "       'How many FEMALE students  above AGE 8 YEARS OLD are in Kindergarten?'],var_name = 'district',value_name='count')\n",
    "#kece_melto.head()"
   ]
  },
  {
   "cell_type": "code",
   "execution_count": 132,
   "id": "8a3ab208-45be-43ea-a0ad-0252d207db92",
   "metadata": {},
   "outputs": [],
   "source": [
    "#k_so = kece_melto[(kece_melt['district']== 'District in Gbarpolu') & (kece_melt['count']== 'Gbarma')].head(2).groupby('Type of school').sum()#.sum(1)\n",
    "#k_so\n",
    "#k_so = kece_melto[(kece_melto['district']== 'District in Sinoe') & (kece_melto['count']== 'Greenville')].groupby('Type of school').sum().sum(1)\n",
    "#k_so"
   ]
  },
  {
   "cell_type": "code",
   "execution_count": null,
   "id": "3f027b3e-07c7-441f-be43-42952098cb18",
   "metadata": {},
   "outputs": [],
   "source": []
  },
  {
   "cell_type": "markdown",
   "id": "9830562f-1fc0-497d-b6c3-74c626b9937b",
   "metadata": {},
   "source": [
    "## Districts in Bomi County"
   ]
  },
  {
   "cell_type": "code",
   "execution_count": 133,
   "id": "4e8876e4-17eb-4f8b-90bf-f09864ece020",
   "metadata": {},
   "outputs": [
    {
     "name": "stdout",
     "output_type": "stream",
     "text": [
      "1609.0\n",
      "Type of school\n",
      "Private      85.0\n",
      "Public     1524.0\n",
      "dtype: float64\n"
     ]
    }
   ],
   "source": [
    "k_so = kece_melto[(kece_melto['district']== 'District in Bomi') & (kece_melto['count']== 'Senji')].groupby('Type of school').sum().sum(1)\n",
    "k_so = kece_melto[(kece_melto['district']== 'District in Bomi') & (kece_melto['count']== 'Dewoin')].groupby('Type of school').sum().sum(1)\n",
    "k_so = kece_melto[(kece_melto['district']== 'District in Bomi') & (kece_melto['count']== 'Klay')].groupby('Type of school').sum().sum(1)\n",
    "k_so = kece_melto[(kece_melto['district']== 'District in Bomi') & (kece_melto['count']== 'Suehn-Mecca')].groupby('Type of school').sum().sum(1)\n",
    "\n",
    "print(k_so.sum())\n",
    "print(k_so)"
   ]
  },
  {
   "cell_type": "code",
   "execution_count": null,
   "id": "5d21a71e-b18a-49e3-909b-ab99d3f373a9",
   "metadata": {},
   "outputs": [],
   "source": []
  },
  {
   "cell_type": "markdown",
   "id": "9b178d25-c670-4339-8ec0-fba2d44b635e",
   "metadata": {},
   "source": [
    "## Districts in Bong County"
   ]
  },
  {
   "cell_type": "code",
   "execution_count": 134,
   "id": "b55f56a1-e913-4f1f-8e9e-15000d5e9eb1",
   "metadata": {},
   "outputs": [
    {
     "name": "stdout",
     "output_type": "stream",
     "text": [
      "3162.0\n",
      "Type of school\n",
      "Community       190.0\n",
      "Faith-based      76.0\n",
      "Private         320.0\n",
      "Public         2576.0\n",
      "dtype: float64\n"
     ]
    }
   ],
   "source": [
    "k_so = kece_melto[(kece_melto['district']== 'District in Bong County') & (kece_melto['count']== 'Gbarnga 1')].groupby('Type of school').sum().sum(1)\n",
    "k_so = kece_melto[(kece_melto['district']== 'District in Bong County') & (kece_melto['count']== 'Gbarnga 2')].groupby('Type of school').sum().sum(1)\n",
    "k_so = kece_melto[(kece_melto['district']== 'District in Bong County') & (kece_melto['count']== 'Zota')].groupby('Type of school').sum().sum(1)\n",
    "k_so = kece_melto[(kece_melto['district']== 'District in Bong County') & (kece_melto['count']== 'Salala')].groupby('Type of school').sum().sum(1)\n",
    "k_so = kece_melto[(kece_melto['district']== 'District in Bong County') & (kece_melto['count']== 'Fuamah')].groupby('Type of school').sum().sum(1)\n",
    "k_so = kece_melto[(kece_melto['district']== 'District in Bong County') & (kece_melto['count']== 'Suakoko')].groupby('Type of school').sum().sum(1)\n",
    "k_so = kece_melto[(kece_melto['district']== 'District in Bong County') & (kece_melto['count']== 'Sanoyea')].groupby('Type of school').sum().sum(1)\n",
    "k_so = kece_melto[(kece_melto['district']== 'District in Bong County') & (kece_melto['count']== 'Panta-Kpaai')].groupby('Type of school').sum().sum(1)\n",
    "k_so = kece_melto[(kece_melto['district']== 'District in Bong County') & (kece_melto['count']== 'Kokoyah')].groupby('Type of school').sum().sum(1)\n",
    "\n",
    "print(k_so.sum())\n",
    "print(k_so)"
   ]
  },
  {
   "cell_type": "code",
   "execution_count": null,
   "id": "b5c8dcf7-7c52-4264-a007-d9a49b8f9712",
   "metadata": {},
   "outputs": [],
   "source": []
  },
  {
   "cell_type": "markdown",
   "id": "c03a0f1b-b6db-4744-91c6-29e969a22bb0",
   "metadata": {},
   "source": [
    "## Districts in Gbarpolu"
   ]
  },
  {
   "cell_type": "code",
   "execution_count": 135,
   "id": "85b71b07-713e-4d5f-92a8-ff3baa2523d6",
   "metadata": {},
   "outputs": [
    {
     "name": "stdout",
     "output_type": "stream",
     "text": [
      "1068.0\n",
      "Type of school\n",
      "Public    1068.0\n",
      "dtype: float64\n"
     ]
    }
   ],
   "source": [
    "k_so = kece_melto[(kece_melto['district']== 'District in Gbarpolu') & (kece_melto['count']== 'Gorwalali')].groupby('Type of school').sum().sum(1)\n",
    "k_so = kece_melto[(kece_melto['district']== 'District in Gbarpolu') & (kece_melto['count']== 'Bopolu')].groupby('Type of school').sum().sum(1)\n",
    "k_so = kece_melto[(kece_melto['district']== 'District in Gbarpolu') & (kece_melto['count']== 'Gbarma')].groupby('Type of school').sum().sum(1)\n",
    "k_so = kece_melto[(kece_melto['district']== 'District in Gbarpolu') & (kece_melto['count']== 'Belle')].groupby('Type of school').sum().sum(1)\n",
    "k_so = kece_melto[(kece_melto['district']== 'District in Gbarpolu') & (kece_melto['count']== 'Bokomu')].groupby('Type of school').sum().sum(1)\n",
    "k_so = kece_melto[(kece_melto['district']== 'District in Gbarpolu') & (kece_melto['count']== 'Kongba')].groupby('Type of school').sum().sum(1)\n",
    "print(k_so.sum())\n",
    "print(k_so)"
   ]
  },
  {
   "cell_type": "code",
   "execution_count": null,
   "id": "77c486e8-1b25-4413-bd57-944275efa854",
   "metadata": {},
   "outputs": [],
   "source": []
  },
  {
   "cell_type": "code",
   "execution_count": null,
   "id": "1304f666-39e0-4d18-ad9a-60ad8e212f6a",
   "metadata": {},
   "outputs": [],
   "source": []
  },
  {
   "cell_type": "markdown",
   "id": "45862a6c-caa1-411d-80d3-2a5705f2b640",
   "metadata": {},
   "source": [
    "## Districts in Grand Bassa "
   ]
  },
  {
   "cell_type": "code",
   "execution_count": 136,
   "id": "93b3ae2e-6876-4351-9816-c7aca9081c60",
   "metadata": {},
   "outputs": [
    {
     "name": "stdout",
     "output_type": "stream",
     "text": [
      "2148.0\n",
      "Type of school\n",
      "Community      690.0\n",
      "Faith-based    209.0\n",
      "Private        286.0\n",
      "Public         963.0\n",
      "dtype: float64\n"
     ]
    }
   ],
   "source": [
    "k_so = kece_melto[(kece_melto['district']== 'District in Grand Bassa') & (kece_melto['count']== 'District 5')].groupby('Type of school').sum().sum(1)\n",
    "k_so = kece_melto[(kece_melto['district']== 'District in Grand Bassa') & (kece_melto['count']== 'District 5B')].groupby('Type of school').sum().sum(1)\n",
    "k_so = kece_melto[(kece_melto['district']== 'District in Grand Bassa') & (kece_melto['count']== 'District 2')].groupby('Type of school').sum().sum(1)\n",
    "k_so = kece_melto[(kece_melto['district']== 'District in Grand Bassa') & (kece_melto['count']== 'District 3A')].groupby('Type of school').sum().sum(1)\n",
    "k_so = kece_melto[(kece_melto['district']== 'District in Grand Bassa') & (kece_melto['count']== 'District 3B')].groupby('Type of school').sum().sum(1)\n",
    "k_so = kece_melto[(kece_melto['district']== 'District in Grand Bassa') & (kece_melto['count']== 'District 1')].groupby('Type of school').sum().sum(1)\n",
    "k_so = kece_melto[(kece_melto['district']== 'District in Grand Bassa') & (kece_melto['count']== 'District 4')].groupby('Type of school').sum().sum(1)\n",
    "print(k_so.sum())\n",
    "print(k_so)"
   ]
  },
  {
   "cell_type": "code",
   "execution_count": null,
   "id": "07b2c440-1b35-4d06-b35e-dd08ea555acf",
   "metadata": {},
   "outputs": [],
   "source": []
  },
  {
   "cell_type": "markdown",
   "id": "e9e99d30-54cb-4616-acf1-5f7c5144ce84",
   "metadata": {},
   "source": [
    "## Districts in Grand Cape Mount"
   ]
  },
  {
   "cell_type": "code",
   "execution_count": 137,
   "id": "3912d6cb-1635-47ec-9c2a-562c7be1644d",
   "metadata": {},
   "outputs": [
    {
     "name": "stdout",
     "output_type": "stream",
     "text": [
      "1056.0\n",
      "Type of school\n",
      "Community       29.0\n",
      "Faith-based    292.0\n",
      "Private        140.0\n",
      "Public         595.0\n",
      "dtype: float64\n"
     ]
    }
   ],
   "source": [
    "k_so = kece_melto[(kece_melto['district']== 'District in Grand Cape Mount') & (kece_melto['count']== 'Tewor')].groupby('Type of school').sum().sum(1)\n",
    "k_so = kece_melto[(kece_melto['district']== 'District in Grand Cape Mount') & (kece_melto['count']== 'Gola Konneh')].groupby('Type of school').sum().sum(1)\n",
    "k_so = kece_melto[(kece_melto['district']== 'District in Grand Cape Mount') & (kece_melto['count']== 'Porkpa')].groupby('Type of school').sum().sum(1)\n",
    "k_so = kece_melto[(kece_melto['district']== 'District in Grand Cape Mount') & (kece_melto['count']== 'Garwular')].groupby('Type of school').sum().sum(1)\n",
    "k_so = kece_melto[(kece_melto['district']== 'District in Grand Cape Mount') & (kece_melto['count']== 'Tallah Tombay')].groupby('Type of school').sum().sum(1)\n",
    "print(k_so.sum())\n",
    "print(k_so)"
   ]
  },
  {
   "cell_type": "code",
   "execution_count": null,
   "id": "641bd989-c401-4ec4-9ee0-4db414568c14",
   "metadata": {},
   "outputs": [],
   "source": []
  },
  {
   "cell_type": "markdown",
   "id": "03894060-fbf4-4113-8e2a-b769421c2680",
   "metadata": {},
   "source": [
    "## Districts in Grand Gedeh"
   ]
  },
  {
   "cell_type": "code",
   "execution_count": 138,
   "id": "64f5ee7a-a824-457b-9b9b-ef46cfe9dec9",
   "metadata": {},
   "outputs": [
    {
     "name": "stdout",
     "output_type": "stream",
     "text": [
      "2578.0\n",
      "Type of school\n",
      "Community       121.0\n",
      "Faith-based     261.0\n",
      "Private         906.0\n",
      "Public         1290.0\n",
      "dtype: float64\n"
     ]
    }
   ],
   "source": [
    "k_so = kece_melto[(kece_melto['district']== 'Districts in Grand Gedeh') & (kece_melto['count']== 'Konobo')].groupby('Type of school').sum().sum(1)\n",
    "k_so = kece_melto[(kece_melto['district']== 'Districts in Grand Gedeh') & (kece_melto['count']== 'Putu')].groupby('Type of school').sum().sum(1)\n",
    "k_so = kece_melto[(kece_melto['district']== 'Districts in Grand Gedeh') & (kece_melto['count']== 'Gbarzon')].groupby('Type of school').sum().sum(1)\n",
    "k_so = kece_melto[(kece_melto['district']== 'Districts in Grand Gedeh') & (kece_melto['count']== 'Tchien')].groupby('Type of school').sum().sum(1)\n",
    "k_so = kece_melto[(kece_melto['district']== 'Districts in Grand Gedeh') & (kece_melto['count']== 'Cavalla')].groupby('Type of school').sum().sum(1)\n",
    "print(k_so.sum())\n",
    "print(k_so)\n"
   ]
  },
  {
   "cell_type": "code",
   "execution_count": null,
   "id": "1efb72d2-3b00-4768-985c-7de8e8f19cf2",
   "metadata": {},
   "outputs": [],
   "source": []
  },
  {
   "cell_type": "markdown",
   "id": "a25bd9a9-bf16-4cfa-b1a0-114d0456631c",
   "metadata": {},
   "source": [
    "## Districts in Grand Kru"
   ]
  },
  {
   "cell_type": "code",
   "execution_count": 139,
   "id": "f0c654e2-ef2e-4864-81cc-22b75091f517",
   "metadata": {},
   "outputs": [
    {
     "name": "stdout",
     "output_type": "stream",
     "text": [
      "806.0\n",
      "Type of school\n",
      "Faith-based     87.0\n",
      "Public         719.0\n",
      "dtype: float64\n"
     ]
    }
   ],
   "source": [
    "k_so = kece_melto[(kece_melto['district']== 'Districts in Grand Kru') & (kece_melto['count']== 'Barclayville')].groupby('Type of school').sum().sum(1)\n",
    "k_so = kece_melto[(kece_melto['district']== 'Districts in Grand Kru') & (kece_melto['count']== 'Trehn')].groupby('Type of school').sum().sum(1)\n",
    "k_so = kece_melto[(kece_melto['district']== 'Districts in Grand Kru') & (kece_melto['count']== 'Buah')].groupby('Type of school').sum().sum(1)\n",
    "k_so = kece_melto[(kece_melto['district']== 'Districts in Grand Kru') & (kece_melto['count']== 'Grand Cess')].groupby('Type of school').sum().sum(1)\n",
    "k_so = kece_melto[(kece_melto['district']== 'Districts in Grand Kru') & (kece_melto['count']== 'Dorbor')].groupby('Type of school').sum().sum(1)\n",
    "k_so = kece_melto[(kece_melto['district']== 'Districts in Grand Kru') & (kece_melto['count']== 'Jloh')].groupby('Type of school').sum().sum(1)\n",
    "k_so = kece_melto[(kece_melto['district']== 'Districts in Grand Kru') & (kece_melto['count']== 'Sass Town')].groupby('Type of school').sum().sum(1)\n",
    "k_so = kece_melto[(kece_melto['district']== 'Districts in Grand Kru') & (kece_melto['count']== 'Wedabo')].groupby('Type of school').sum().sum(1)\n",
    "print(k_so.sum())\n",
    "print(k_so)"
   ]
  },
  {
   "cell_type": "code",
   "execution_count": null,
   "id": "7ad57553-9153-48c9-b29c-00db8647019a",
   "metadata": {},
   "outputs": [],
   "source": []
  },
  {
   "cell_type": "markdown",
   "id": "b2f4966e-292b-4c92-ae46-441a6702a122",
   "metadata": {},
   "source": [
    "## Districts in Lofa"
   ]
  },
  {
   "cell_type": "code",
   "execution_count": 140,
   "id": "79440508-42c3-490e-a6b7-716a659f0c37",
   "metadata": {},
   "outputs": [
    {
     "name": "stdout",
     "output_type": "stream",
     "text": [
      "1271.0\n",
      "Type of school\n",
      "Faith-based      21.0\n",
      "Private         104.0\n",
      "Public         1146.0\n",
      "dtype: float64\n"
     ]
    }
   ],
   "source": [
    "k_so = kece_melto[(kece_melto['district']== 'District in Lofa') & (kece_melto['count']== 'Foya')].groupby('Type of school').sum().sum(1)\n",
    "k_so = kece_melto[(kece_melto['district']== 'District in Lofa') & (kece_melto['count']== 'Kolahun 1')].groupby('Type of school').sum().sum(1)\n",
    "k_so = kece_melto[(kece_melto['district']== 'District in Lofa') & (kece_melto['count']== 'Kolahun 2')].groupby('Type of school').sum().sum(1)\n",
    "k_so = kece_melto[(kece_melto['district']== 'District in Lofa') & (kece_melto['count']== 'Salayea')].groupby('Type of school').sum().sum(1)\n",
    "k_so = kece_melto[(kece_melto['district']== 'District in Lofa') & (kece_melto['count']== 'Vahun')].groupby('Type of school').sum().sum(1)\n",
    "k_so = kece_melto[(kece_melto['district']== 'District in Lofa') & (kece_melto['count']== 'Voinjama')].groupby('Type of school').sum().sum(1)\n",
    "k_so = kece_melto[(kece_melto['district']== 'District in Lofa') & (kece_melto['count']== 'Zorzor')].groupby('Type of school').sum().sum(1)\n",
    "print(k_so.sum())\n",
    "print(k_so)"
   ]
  },
  {
   "cell_type": "code",
   "execution_count": null,
   "id": "3136e9d5-dd3f-4cbb-a7b3-1c352634296f",
   "metadata": {},
   "outputs": [],
   "source": []
  },
  {
   "cell_type": "markdown",
   "id": "89401577-1dfe-4b54-a9df-7e2f9246cfa0",
   "metadata": {},
   "source": [
    "## Districts in Margibi"
   ]
  },
  {
   "cell_type": "code",
   "execution_count": 141,
   "id": "f3aa7778-2a79-4761-a84a-6c3976978f01",
   "metadata": {},
   "outputs": [
    {
     "name": "stdout",
     "output_type": "stream",
     "text": [
      "1473.0\n",
      "Type of school\n",
      "Community      361.0\n",
      "Faith-based    194.0\n",
      "Private        425.0\n",
      "Public         493.0\n",
      "dtype: float64\n"
     ]
    }
   ],
   "source": [
    "k_so = kece_melto[(kece_melto['district']== 'District in Margibi') & (kece_melto['count']== 'Marshall')].groupby('Type of school').sum().sum(1)\n",
    "k_so = kece_melto[(kece_melto['district']== 'District in Margibi') & (kece_melto['count']== 'Farmington')].groupby('Type of school').sum().sum(1)\n",
    "k_so = kece_melto[(kece_melto['district']== 'District in Margibi') & (kece_melto['count']== 'Mama kaba')].groupby('Type of school').sum().sum(1)\n",
    "k_so = kece_melto[(kece_melto['district']== 'District in Margibi') & (kece_melto['count']== 'Gibi')].groupby('Type of school').sum().sum(1)\n",
    "k_so = kece_melto[(kece_melto['district']== 'District in Margibi') & (kece_melto['count']== 'Kakata 1')].groupby('Type of school').sum().sum(1)\n",
    "k_so = kece_melto[(kece_melto['district']== 'District in Margibi') & (kece_melto['count']== 'Kakata 2')].groupby('Type of school').sum().sum(1)\n",
    "\n",
    "print(k_so.sum())\n",
    "print(k_so)"
   ]
  },
  {
   "cell_type": "code",
   "execution_count": null,
   "id": "9eff0552-3751-4379-a8db-ba0961174ce3",
   "metadata": {},
   "outputs": [],
   "source": []
  },
  {
   "cell_type": "markdown",
   "id": "f1fb52ac-755b-4f45-90fa-c433bdb92bb3",
   "metadata": {},
   "source": [
    "## Districts in Maryland"
   ]
  },
  {
   "cell_type": "code",
   "execution_count": 142,
   "id": "6987afbb-8411-4be4-9520-314209767603",
   "metadata": {},
   "outputs": [
    {
     "name": "stdout",
     "output_type": "stream",
     "text": [
      "0.0\n",
      "Series([], dtype: float64)\n"
     ]
    }
   ],
   "source": [
    "k_so = kece_melto[(kece_melto['district']== 'District in Maryland') & (kece_melto['count']== 'Harper 1')].groupby('Type of school').sum().sum(1)\n",
    "k_so = kece_melto[(kece_melto['district']== 'District in Maryland') & (kece_melto['count']== 'Harper 2')].groupby('Type of school').sum().sum(1)\n",
    "k_so = kece_melto[(kece_melto['district']== 'District in Maryland') & (kece_melto['count']== 'Barrobo 1')].groupby('Type of school').sum().sum(1)\n",
    "k_so = kece_melto[(kece_melto['district']== 'District in Maryland') & (kece_melto['count']== 'Barrobo 2')].groupby('Type of school').sum().sum(1)\n",
    "k_so = kece_melto[(kece_melto['district']== 'District in Maryland') & (kece_melto['count']== 'Sodoken')].groupby('Type of school').sum().sum(1)\n",
    "k_so = kece_melto[(kece_melto['district']== 'District in Maryland') & (kece_melto['count']== 'Karleway 1')].groupby('Type of school').sum().sum(1)\n",
    "k_so = kece_melto[(kece_melto['district']== 'District in Maryland') & (kece_melto['count']== 'Karleway 2')].groupby('Type of school').sum().sum(1)\n",
    "k_so = kece_melto[(kece_melto['district']== 'District in Maryland') & (kece_melto['count']== 'Pleebo')].groupby('Type of school').sum().sum(1)\n",
    "\n",
    "print(k_so.sum())\n",
    "print(k_so)"
   ]
  },
  {
   "cell_type": "code",
   "execution_count": null,
   "id": "2f96e85b-066a-407c-9704-13698661669e",
   "metadata": {},
   "outputs": [],
   "source": []
  },
  {
   "cell_type": "markdown",
   "id": "33310750-ad3d-4374-abd2-0e8b9ebcc00e",
   "metadata": {},
   "source": [
    "## Districts in Montserrado 1"
   ]
  },
  {
   "cell_type": "code",
   "execution_count": 143,
   "id": "af2dbfd8-ac1b-4f1b-89ac-290dbff8cf59",
   "metadata": {},
   "outputs": [
    {
     "name": "stdout",
     "output_type": "stream",
     "text": [
      "3420.0\n",
      "Type of school\n",
      "Community      1075.0\n",
      "Faith-based     624.0\n",
      "Private        1536.0\n",
      "Public          185.0\n",
      "dtype: float64\n"
     ]
    }
   ],
   "source": [
    "k_so = kece_melto[(kece_melto['district']== 'District in Montserrado 1') & (kece_melto['count']== 'Paynesville 1')].groupby('Type of school').sum().sum(1)\n",
    "k_so = kece_melto[(kece_melto['district']== 'District in Montserrado 1') & (kece_melto['count']== 'Paynesville 2')].groupby('Type of school').sum().sum(1)\n",
    "k_so = kece_melto[(kece_melto['district']== 'District in Montserrado 1') & (kece_melt['count']== 'Paynesville 3')].groupby('Type of school').sum().sum(1)\n",
    "k_so = kece_melto[(kece_melto['district']== 'District in Montserrado 1') & (kece_melto['count']== 'Paynesville 4')].groupby('Type of school').sum().sum(1)\n",
    "k_so = kece_melto[(kece_melto['district']== 'District in Montserrado 1') & (kece_melto['count']== 'Paynesville 5')].groupby('Type of school').sum().sum(1)\n",
    "k_so = kece_melto[(kece_melto['district']== 'District in Montserrado 1') & (kece_melto['count']== 'Paynesville 6')].groupby('Type of school').sum().sum(1)\n",
    "k_so = kece_melto[(kece_melto['district']== 'District in Montserrado 1') & (kece_melto['count']== 'Greater Monrovia 1A')].groupby('Type of school').sum().sum(1)\n",
    "k_so = kece_melto[(kece_melto['district']== 'District in Montserrado 1') & (kece_melto['count']== 'Greater Monrovia 1B')].groupby('Type of school').sum().sum(1)\n",
    "k_so = kece_melto[(kece_melto['district']== 'District in Montserrado 1') & (kece_melto['count']== 'Greater Monrovia 1C')].groupby('Type of school').sum().sum(1)\n",
    "k_so = kece_melto[(kece_melto['district']== 'District in Montserrado 1') & (kece_melto['count']== 'Greater Monrovia 1D')].groupby('Type of school').sum().sum(1)\n",
    "k_so = kece_melto[(kece_melto['district']== 'District in Montserrado 1') & (kece_melto['count']== 'Greater Monrovia 1E')].groupby('Type of school').sum().sum(1)\n",
    "k_so = kece_melto[(kece_melto['district']== 'District in Montserrado 1') & (kece_melto['count']== 'Greater Monrovia 2A')].groupby('Type of school').sum().sum(1)\n",
    "k_so = kece_melto[(kece_melto['district']== 'District in Montserrado 1') & (kece_melto['count']== 'Greater Monrovia 2B')].groupby('Type of school').sum().sum(1)\n",
    "k_so = kece_melto[(kece_melto['district']== 'District in Montserrado 1') & (kece_melto['count']== 'Greater Monrovia 2C')].groupby('Type of school').sum().sum(1)\n",
    "k_so = kece_melto[(kece_melto['district']== 'District in Montserrado 1') & (kece_melto['count']== 'Greater Monrovia 2D')].groupby('Type of school').sum().sum(1)\n",
    "\n",
    "print(k_so.sum())\n",
    "print(k_so)"
   ]
  },
  {
   "cell_type": "code",
   "execution_count": null,
   "id": "7a81b721-db70-4986-9ef1-60121240e288",
   "metadata": {},
   "outputs": [],
   "source": []
  },
  {
   "cell_type": "code",
   "execution_count": null,
   "id": "705e85f9-c4ab-46b7-b7d9-61879cf63f28",
   "metadata": {},
   "outputs": [],
   "source": []
  },
  {
   "cell_type": "markdown",
   "id": "23a7b206-21f4-4f09-a94a-b741fb02346a",
   "metadata": {},
   "source": [
    "## Districts in Montserrado 2"
   ]
  },
  {
   "cell_type": "code",
   "execution_count": 144,
   "id": "7d23876d-cd0a-4b05-84a9-81d6035617b9",
   "metadata": {},
   "outputs": [
    {
     "name": "stdout",
     "output_type": "stream",
     "text": [
      "2975.0\n",
      "Type of school\n",
      "Faith-based     322.0\n",
      "Private        1733.0\n",
      "Public          920.0\n",
      "dtype: float64\n"
     ]
    }
   ],
   "source": [
    "k_so = kece_melto[(kece_melto['district']== 'District in Montserrado 2') & (kece_melto['count']== 'Left Bank 1A')].groupby('Type of school').sum().sum(1)\n",
    "k_so = kece_melto[(kece_melto['district']== 'District in Montserrado 2') & (kece_melto['count']== 'Left bank 1B')].groupby('Type of school').sum().sum(1)\n",
    "k_so = kece_melto[(kece_melto['district']== 'District in Montserrado 2') & (kece_melto['count']== 'Left bank  1C')].groupby('Type of school').sum().sum(1)\n",
    "k_so = kece_melto[(kece_melto['district']== 'District in Montserrado 2') & (kece_melto['count']== 'Left Bank 1D')].groupby('Type of school').sum().sum(1)\n",
    "k_so = kece_melto[(kece_melto['district']== 'District in Montserrado 2') & (kece_melto['count']== 'Left Bank 2A')].groupby('Type of school').sum().sum(1)\n",
    "k_so = kece_melto[(kece_melto['district']== 'District in Montserrado 2') & (kece_melto['count']== 'Left bank 2B')].groupby('Type of school').sum().sum(1)\n",
    "k_so = kece_melto[(kece_melto['district']== 'District in Montserrado 2') & (kece_melto['count']== 'Careysburg')].groupby('Type of school').sum().sum(1)\n",
    "k_so = kece_melto[(kece_melto['district']== 'District in Montserrado 2') & (kece_melto['count']== 'Todee')].groupby('Type of school').sum().sum(1)\n",
    "k_so = kece_melto[(kece_melto['district']== 'District in Montserrado 2') & (kece_melto['count']== 'Right Bank 1')].groupby('Type of school').sum().sum(1)\n",
    "k_so = kece_melto[(kece_melto['district']== 'District in Montserrado 2') & (kece_melto['count']== 'Right Bank 2')].groupby('Type of school').sum().sum(1)\n",
    "k_so = kece_melto[(kece_melto['district']== 'District in Montserrado 2') & (kece_melto['count']== 'Right Bank 3')].groupby('Type of school').sum().sum(1)\n",
    "\n",
    "print(k_so.sum())\n",
    "print(k_so)"
   ]
  },
  {
   "cell_type": "code",
   "execution_count": null,
   "id": "d5a06d6f-d3ee-47eb-852e-ad173f3ceae8",
   "metadata": {},
   "outputs": [],
   "source": []
  },
  {
   "cell_type": "markdown",
   "id": "f82b4e05-c52a-4077-b043-62d6bcd3ec0f",
   "metadata": {},
   "source": [
    "## Districts in Nimba"
   ]
  },
  {
   "cell_type": "code",
   "execution_count": 145,
   "id": "272628be-b86c-4363-9ece-53b575273bcf",
   "metadata": {},
   "outputs": [
    {
     "name": "stdout",
     "output_type": "stream",
     "text": [
      "2918.0\n",
      "Type of school\n",
      "Community       209.0\n",
      "Faith-based     140.0\n",
      "Private        1050.0\n",
      "Public         1519.0\n",
      "dtype: float64\n"
     ]
    }
   ],
   "source": [
    "k_so = kece_melto[(kece_melto['district']== 'District in Nimba') & (kece_melto['count']== 'Tappita 1')].groupby('Type of school').sum().sum(1)\n",
    "k_so = kece_melto[(kece_melto['district']== 'District in Nimba') & (kece_melto['count']== 'Tappita 2')].groupby('Type of school').sum().sum(1)\n",
    "k_so = kece_melto[(kece_melto['district']== 'District in Nimba') & (kece_melto['count']== 'Saclepea 1')].groupby('Type of school').sum().sum(1)\n",
    "k_so = kece_melto[(kece_melto['district']== 'District in Nimba') & (kece_melto['count']== 'Sanniquellie Mah')].groupby('Type of school').sum().sum(1)\n",
    "k_so = kece_melto[(kece_melto['district']== 'District in Nimba') & (kece_melto['count']== 'Zoe-Geh')].groupby('Type of school').sum().sum(1)\n",
    "k_so = kece_melto[(kece_melto['district']== 'District in Nimba') & (kece_melto['count']== 'Tuwah River')].groupby('Type of school').sum().sum(1)\n",
    "k_so = kece_melto[(kece_melto['district']== 'District in Nimba') & (kece_melto['count']== 'Gbelay-Geh')].groupby('Type of school').sum().sum(1)\n",
    "k_so = kece_melto[(kece_melto['district']== 'District in Nimba') & (kece_melto['count']== 'Yarpea Mah')].groupby('Type of school').sum().sum(1)\n",
    "k_so = kece_melto[(kece_melto['district']== 'District in Nimba') & (kece_melto['count']== 'Yarwein Mensonoh')].groupby('Type of school').sum().sum(1)\n",
    "k_so = kece_melto[(kece_melto['district']== 'District in Nimba') & (kece_melto['count']== 'Buuyao')].groupby('Type of school').sum().sum(1)\n",
    "k_so = kece_melto[(kece_melto['district']== 'District in Nimba') & (kece_melto['count']== 'Bain-Garr 1')].groupby('Type of school').sum().sum(1)\n",
    "k_so = kece_melto[(kece_melto['district']== 'District in Nimba') & (kece_melto['count']== 'Bain- Garr 2')].groupby('Type of school').sum().sum(1)\n",
    "\n",
    "print(k_so.sum())\n",
    "print(k_so)"
   ]
  },
  {
   "cell_type": "code",
   "execution_count": null,
   "id": "63250513-725c-4e25-953a-46f4889fe731",
   "metadata": {},
   "outputs": [],
   "source": []
  },
  {
   "cell_type": "markdown",
   "id": "37e493e5-79d3-41e8-992f-e7b560d7cb9a",
   "metadata": {},
   "source": [
    "## Districts in River Gee"
   ]
  },
  {
   "cell_type": "code",
   "execution_count": 146,
   "id": "8a091a83-4903-4ca5-a611-7284e2076f25",
   "metadata": {},
   "outputs": [
    {
     "name": "stdout",
     "output_type": "stream",
     "text": [
      "2090.0\n",
      "Type of school\n",
      "Public    2090.0\n",
      "dtype: float64\n"
     ]
    }
   ],
   "source": [
    "k_so = kece_melto[(kece_melto['district']== 'District in River Gee') & (kece_melto['count']== 'Sarbo')].groupby('Type of school').sum().sum(1)\n",
    "k_so = kece_melto[(kece_melto['district']== 'District in River Gee') & (kece_melto['count']== 'Tienpo')].groupby('Type of school').sum().sum(1)\n",
    "k_so = kece_melto[(kece_melto['district']== 'District in River Gee') & (kece_melto['count']== 'Chedepo')].groupby('Type of school').sum().sum(1)\n",
    "k_so = kece_melto[(kece_melto['district']== 'District in River Gee') & (kece_melto['count']== 'Putupo')].groupby('Type of school').sum().sum(1)\n",
    "k_so = kece_melto[(kece_melto['district']== 'District in River Gee') & (kece_melto['count']== 'Gbeapo')].groupby('Type of school').sum().sum(1)\n",
    "k_so = kece_melto[(kece_melto['district']== 'District in River Gee') & (kece_melto['count']== 'Webbo')].groupby('Type of school').sum().sum(1)\n",
    "\n",
    "print(k_so.sum())\n",
    "print(k_so)"
   ]
  },
  {
   "cell_type": "code",
   "execution_count": null,
   "id": "127213f5-5e57-4086-aa2b-4a3ecfcd934d",
   "metadata": {},
   "outputs": [],
   "source": []
  },
  {
   "cell_type": "markdown",
   "id": "7065b700-4e72-4ab7-9252-238b370b1939",
   "metadata": {},
   "source": [
    "## Districts in River Cess"
   ]
  },
  {
   "cell_type": "code",
   "execution_count": 147,
   "id": "89ee0456-7220-480d-a7d3-3abc5d26ac1e",
   "metadata": {},
   "outputs": [
    {
     "name": "stdout",
     "output_type": "stream",
     "text": [
      "774.0\n",
      "Type of school\n",
      "Faith-based     13.0\n",
      "Public         761.0\n",
      "dtype: float64\n"
     ]
    }
   ],
   "source": [
    "k_so = kece_melto[(kece_melto['district']== 'Districts in River Cess') & (kece_melto['count']== 'Timobo')].groupby('Type of school').sum().sum(1)\n",
    "k_so = kece_melto[(kece_melto['district']== 'Districts in River Cess') & (kece_melto['count']== 'Central Rivercess 1')].groupby('Type of school').sum().sum(1)\n",
    "k_so = kece_melto[(kece_melto['district']== 'Districts in River Cess') & (kece_melto['count']== 'Central Rivercess 2')].groupby('Type of school').sum().sum(1)\n",
    "k_so = kece_melto[(kece_melto['district']== 'Districts in River Cess') & (kece_melto['count']== 'Morwah')].groupby('Type of school').sum().sum(1)\n",
    "k_so = kece_melto[(kece_melto['district']== 'Districts in River Cess') & (kece_melto['count']== 'Yarnee')].groupby('Type of school').sum().sum(1)\n",
    "\n",
    "print(k_so.sum())\n",
    "print(k_so)"
   ]
  },
  {
   "cell_type": "code",
   "execution_count": null,
   "id": "d93aa937-e810-4c19-8d47-2195dc18a477",
   "metadata": {},
   "outputs": [],
   "source": []
  },
  {
   "cell_type": "markdown",
   "id": "e9df6cc6-693c-46d9-ac13-ab6854475dfd",
   "metadata": {},
   "source": [
    "## Districts in Sinoe"
   ]
  },
  {
   "cell_type": "code",
   "execution_count": 151,
   "id": "7caf5fb8-48ba-4be4-a0d2-d660465fca5e",
   "metadata": {},
   "outputs": [
    {
     "name": "stdout",
     "output_type": "stream",
     "text": [
      "831.0\n",
      "Type of school\n",
      "Public    831.0\n",
      "dtype: float64\n"
     ]
    }
   ],
   "source": [
    "k_so = kece_melto[(kece_melto['district']== 'District in Sinoe') & (kece_melto['count']== 'Upper Kpanyan')].groupby('Type of school').sum().sum(1)\n",
    "k_so = kece_melto[(kece_melto['district']== 'District in Sinoe') & (kece_melto['count']== 'Juarzon')].groupby('Type of school').sum().sum(1)\n",
    "k_so = kece_melto[(kece_melto['district']== 'District in Sinoe') & (kece_melto['count']== 'Lower Kpanyan')].groupby('Type of school').sum().sum(1)\n",
    "k_so = kece_melto[(kece_melto['district']== 'District in Sinoe') & (kece_melto['count']== 'Butaw')].groupby('Type of school').sum().sum(1)\n",
    "k_so = kece_melto[(kece_melto['district']== 'District in Sinoe') & (kece_melto['count']== 'Tarjuwon')].groupby('Type of school').sum().sum(1)\n",
    "k_so = kece_melto[(kece_melto['district']== 'District in Sinoe') & (kece_melto['count']== 'Jeadea')].groupby('Type of school').sum().sum(1)\n",
    "k_so = kece_melto[(kece_melto['district']== 'District in Sinoe') & (kece_melto['count']== 'Sanquin')].groupby('Type of school').sum().sum(1)\n",
    "k_so = kece_melto[(kece_melto['district']== 'District in Sinoe') & (kece_melto['count']== 'Greenville')].groupby('Type of school').sum().sum(1)\n",
    "k_so = kece_melto[(kece_melto['district']== 'District in Sinoe') & (kece_melto['count']== 'Central Kpanyan')].groupby('Type of school').sum().sum(1)\n",
    "\n",
    "print(k_so.sum())\n",
    "print(k_so)\n"
   ]
  },
  {
   "cell_type": "code",
   "execution_count": null,
   "id": "5aa35548-f444-4f8a-871f-1930d62c8fdd",
   "metadata": {},
   "outputs": [],
   "source": [
    "k"
   ]
  },
  {
   "cell_type": "markdown",
   "id": "cfce4156-31e7-447c-8526-a1ad56849322",
   "metadata": {},
   "source": [
    "# ECE Disability by Ownership"
   ]
  },
  {
   "cell_type": "code",
   "execution_count": 210,
   "id": "87660a86-223d-4651-8745-d25b495caf63",
   "metadata": {},
   "outputs": [
    {
     "data": {
      "text/html": [
       "<div>\n",
       "<style scoped>\n",
       "    .dataframe tbody tr th:only-of-type {\n",
       "        vertical-align: middle;\n",
       "    }\n",
       "\n",
       "    .dataframe tbody tr th {\n",
       "        vertical-align: top;\n",
       "    }\n",
       "\n",
       "    .dataframe thead th {\n",
       "        text-align: right;\n",
       "    }\n",
       "</style>\n",
       "<table border=\"1\" class=\"dataframe\">\n",
       "  <thead>\n",
       "    <tr style=\"text-align: right;\">\n",
       "      <th></th>\n",
       "      <th>Type of school</th>\n",
       "      <th>How many MALE students in Nursery have other mental disability or learning difficulty?</th>\n",
       "      <th>How many FEMALE students in Nursery have other mental disability or learning difficulty?</th>\n",
       "      <th>How many MALE students in  Pre-Kindergarten have other mental disability or learning difficulty?</th>\n",
       "      <th>How many FEMALE students in  Pre-Kindergarten have other mental disability or learning difficulty?</th>\n",
       "      <th>How many MALE students in  Kindergarten have other mental disability or learning difficulty?</th>\n",
       "      <th>How many FEMALE students in  Kindergarten have other mental disability or learning difficulty?</th>\n",
       "    </tr>\n",
       "  </thead>\n",
       "  <tbody>\n",
       "    <tr>\n",
       "      <th>0</th>\n",
       "      <td>Private</td>\n",
       "      <td>NaN</td>\n",
       "      <td>NaN</td>\n",
       "      <td>NaN</td>\n",
       "      <td>NaN</td>\n",
       "      <td>NaN</td>\n",
       "      <td>NaN</td>\n",
       "    </tr>\n",
       "    <tr>\n",
       "      <th>1</th>\n",
       "      <td>Public</td>\n",
       "      <td>0.0</td>\n",
       "      <td>0.0</td>\n",
       "      <td>0.0</td>\n",
       "      <td>0.0</td>\n",
       "      <td>0.0</td>\n",
       "      <td>0.0</td>\n",
       "    </tr>\n",
       "    <tr>\n",
       "      <th>2</th>\n",
       "      <td>Public</td>\n",
       "      <td>NaN</td>\n",
       "      <td>NaN</td>\n",
       "      <td>NaN</td>\n",
       "      <td>NaN</td>\n",
       "      <td>NaN</td>\n",
       "      <td>NaN</td>\n",
       "    </tr>\n",
       "    <tr>\n",
       "      <th>3</th>\n",
       "      <td>Private</td>\n",
       "      <td>NaN</td>\n",
       "      <td>NaN</td>\n",
       "      <td>NaN</td>\n",
       "      <td>NaN</td>\n",
       "      <td>NaN</td>\n",
       "      <td>NaN</td>\n",
       "    </tr>\n",
       "    <tr>\n",
       "      <th>4</th>\n",
       "      <td>Private</td>\n",
       "      <td>0.0</td>\n",
       "      <td>0.0</td>\n",
       "      <td>0.0</td>\n",
       "      <td>0.0</td>\n",
       "      <td>0.0</td>\n",
       "      <td>0.0</td>\n",
       "    </tr>\n",
       "  </tbody>\n",
       "</table>\n",
       "</div>"
      ],
      "text/plain": [
       "  Type of school  \\\n",
       "0        Private   \n",
       "1         Public   \n",
       "2         Public   \n",
       "3        Private   \n",
       "4        Private   \n",
       "\n",
       "   How many MALE students in Nursery have other mental disability or learning difficulty?  \\\n",
       "0                                                NaN                                        \n",
       "1                                                0.0                                        \n",
       "2                                                NaN                                        \n",
       "3                                                NaN                                        \n",
       "4                                                0.0                                        \n",
       "\n",
       "   How many FEMALE students in Nursery have other mental disability or learning difficulty?  \\\n",
       "0                                                NaN                                          \n",
       "1                                                0.0                                          \n",
       "2                                                NaN                                          \n",
       "3                                                NaN                                          \n",
       "4                                                0.0                                          \n",
       "\n",
       "   How many MALE students in  Pre-Kindergarten have other mental disability or learning difficulty?  \\\n",
       "0                                                NaN                                                  \n",
       "1                                                0.0                                                  \n",
       "2                                                NaN                                                  \n",
       "3                                                NaN                                                  \n",
       "4                                                0.0                                                  \n",
       "\n",
       "   How many FEMALE students in  Pre-Kindergarten have other mental disability or learning difficulty?  \\\n",
       "0                                                NaN                                                    \n",
       "1                                                0.0                                                    \n",
       "2                                                NaN                                                    \n",
       "3                                                NaN                                                    \n",
       "4                                                0.0                                                    \n",
       "\n",
       "   How many MALE students in  Kindergarten have other mental disability or learning difficulty?  \\\n",
       "0                                                NaN                                              \n",
       "1                                                0.0                                              \n",
       "2                                                NaN                                              \n",
       "3                                                NaN                                              \n",
       "4                                                0.0                                              \n",
       "\n",
       "   How many FEMALE students in  Kindergarten have other mental disability or learning difficulty?  \n",
       "0                                                NaN                                               \n",
       "1                                                0.0                                               \n",
       "2                                                NaN                                               \n",
       "3                                                NaN                                               \n",
       "4                                                0.0                                               "
      ]
     },
     "execution_count": 210,
     "metadata": {},
     "output_type": "execute_result"
    }
   ],
   "source": [
    "kece_disa=kcensus.iloc[:,73:97]\n",
    "eceo=kece_disao.iloc[:,0]\n",
    "eceo.head()\n",
    "kece_disa.head()\n",
    "kece_disao=pd.concat([kece_o,kece_disa], axis =1)"
   ]
  },
  {
   "cell_type": "code",
   "execution_count": 215,
   "id": "1a630fb8-34fc-400d-923a-e171e53d0e46",
   "metadata": {},
   "outputs": [
    {
     "data": {
      "text/plain": [
       "Type of school\n",
       "Community       24.0\n",
       "Faith-based     25.0\n",
       "Private        107.0\n",
       "Public         171.0\n",
       "dtype: float64"
      ]
     },
     "execution_count": 215,
     "metadata": {},
     "output_type": "execute_result"
    }
   ],
   "source": [
    "ecev=kece_disao.iloc[:,:7]\n",
    "ecev.groupby('Type of school').sum().sum(1)\n"
   ]
  },
  {
   "cell_type": "code",
   "execution_count": 217,
   "id": "6ac85ffb-7b91-4086-bf86-4525fad32dd0",
   "metadata": {},
   "outputs": [
    {
     "data": {
      "text/plain": [
       "Type of school\n",
       "Community       26.0\n",
       "Faith-based     97.0\n",
       "Private         98.0\n",
       "Public         270.0\n",
       "dtype: float64"
      ]
     },
     "execution_count": 217,
     "metadata": {},
     "output_type": "execute_result"
    }
   ],
   "source": [
    "eceh=kece_disao.iloc[:,7:13]\n",
    "eceh1=pd.concat([eceo,eceh], axis=1)\n",
    "eceh1.groupby('Type of school').sum().sum(1)"
   ]
  },
  {
   "cell_type": "code",
   "execution_count": 219,
   "id": "c574136b-8bc7-4d90-80b5-1b745a5048ea",
   "metadata": {},
   "outputs": [
    {
     "data": {
      "text/plain": [
       "Type of school\n",
       "Community       15.0\n",
       "Faith-based     63.0\n",
       "Private        109.0\n",
       "Public         204.0\n",
       "dtype: float64"
      ]
     },
     "execution_count": 219,
     "metadata": {},
     "output_type": "execute_result"
    }
   ],
   "source": [
    "ecep=kece_disao.iloc[:,13:19]\n",
    "ecep1=pd.concat([eceo,ecep], axis=1)\n",
    "ecep1.groupby('Type of school').sum().sum(1)"
   ]
  },
  {
   "cell_type": "code",
   "execution_count": 221,
   "id": "fc3d3e75-3dc4-4987-b4a0-99c3b5975153",
   "metadata": {},
   "outputs": [
    {
     "data": {
      "text/plain": [
       "Type of school\n",
       "Community       47.0\n",
       "Faith-based    141.0\n",
       "Private        131.0\n",
       "Public         196.0\n",
       "dtype: float64"
      ]
     },
     "execution_count": 221,
     "metadata": {},
     "output_type": "execute_result"
    }
   ],
   "source": [
    "ecel=kece_disao.iloc[:,19:]\n",
    "ecel1=pd.concat([eceo,ecel], axis =1)\n",
    "ecel1.groupby('Type of school').sum().sum(1)"
   ]
  },
  {
   "cell_type": "markdown",
   "id": "6c6b12a8-a0c0-44d2-bead-29952ed3f993",
   "metadata": {},
   "source": [
    "# Table 10: ECE Disability by Gender"
   ]
  },
  {
   "cell_type": "code",
   "execution_count": 2114,
   "id": "9aed10c6-715f-4202-af2f-3faad18bad04",
   "metadata": {},
   "outputs": [
    {
     "data": {
      "text/plain": [
       "1724.0"
      ]
     },
     "execution_count": 2114,
     "metadata": {},
     "output_type": "execute_result"
    }
   ],
   "source": [
    "dd.sum().sum()"
   ]
  },
  {
   "cell_type": "code",
   "execution_count": 2113,
   "id": "e723539e-6097-4311-93fb-6e85b314ccc9",
   "metadata": {},
   "outputs": [
    {
     "data": {
      "text/plain": [
       "327.0"
      ]
     },
     "execution_count": 2113,
     "metadata": {},
     "output_type": "execute_result"
    }
   ],
   "source": [
    "dd_v = dd.iloc[:,:6]\n",
    "dd_v.sum().sum()"
   ]
  },
  {
   "cell_type": "code",
   "execution_count": 825,
   "id": "65d41336-6eb1-4be3-b0fd-905b6952188a",
   "metadata": {},
   "outputs": [
    {
     "data": {
      "text/plain": [
       "164.0"
      ]
     },
     "execution_count": 825,
     "metadata": {},
     "output_type": "execute_result"
    }
   ],
   "source": [
    "dd_vm = dd_v.iloc[:,[0,3,5]]\n",
    "dd_vm.sum().sum()"
   ]
  },
  {
   "cell_type": "code",
   "execution_count": null,
   "id": "c0057870-1ddf-4783-8d31-c586774d4789",
   "metadata": {},
   "outputs": [],
   "source": []
  },
  {
   "cell_type": "code",
   "execution_count": 2115,
   "id": "8e5aadd7-84ed-454d-bcae-1ee69535c189",
   "metadata": {},
   "outputs": [
    {
     "data": {
      "text/plain": [
       "491.0"
      ]
     },
     "execution_count": 2115,
     "metadata": {},
     "output_type": "execute_result"
    }
   ],
   "source": [
    "dd_h = dd.iloc[:,6:12]\n",
    "dd_h.sum().sum()"
   ]
  },
  {
   "cell_type": "code",
   "execution_count": 2116,
   "id": "b308ac2b-4025-4766-b082-0077f710cea1",
   "metadata": {},
   "outputs": [
    {
     "data": {
      "text/plain": [
       "247.0"
      ]
     },
     "execution_count": 2116,
     "metadata": {},
     "output_type": "execute_result"
    }
   ],
   "source": [
    "dd_hm = dd_h.iloc[:,[0,3,4]]\n",
    "dd_hm.sum().sum()"
   ]
  },
  {
   "cell_type": "code",
   "execution_count": 2117,
   "id": "4ee3944f-caa0-4e68-9fde-dae54d5b6eef",
   "metadata": {},
   "outputs": [
    {
     "data": {
      "text/plain": [
       "391.0"
      ]
     },
     "execution_count": 2117,
     "metadata": {},
     "output_type": "execute_result"
    }
   ],
   "source": [
    "dd_p = dd.iloc[:,12:18]\n",
    "dd_p.sum().sum()"
   ]
  },
  {
   "cell_type": "code",
   "execution_count": 2118,
   "id": "73d0473c-3a3e-4c94-b87a-569b0d45bb19",
   "metadata": {},
   "outputs": [
    {
     "data": {
      "text/plain": [
       "224.0"
      ]
     },
     "execution_count": 2118,
     "metadata": {},
     "output_type": "execute_result"
    }
   ],
   "source": [
    "dd_pm = dd_p.iloc[:,[0,3,4]]\n",
    "dd_pm.sum().sum()"
   ]
  },
  {
   "cell_type": "code",
   "execution_count": null,
   "id": "4913d309-197a-49a5-a3a9-95fa801905bd",
   "metadata": {},
   "outputs": [],
   "source": []
  },
  {
   "cell_type": "code",
   "execution_count": 2119,
   "id": "1ca1bcd6-e37d-46f2-8fbc-cd48383e33e8",
   "metadata": {},
   "outputs": [
    {
     "data": {
      "text/plain": [
       "515.0"
      ]
     },
     "execution_count": 2119,
     "metadata": {},
     "output_type": "execute_result"
    }
   ],
   "source": [
    "dd_l = dd.iloc[:,18:]\n",
    "dd_l.sum().sum()"
   ]
  },
  {
   "cell_type": "code",
   "execution_count": 2120,
   "id": "01bea7ad-179c-4382-a1ac-ce2c4b3e72a7",
   "metadata": {},
   "outputs": [
    {
     "data": {
      "text/plain": [
       "269.0"
      ]
     },
     "execution_count": 2120,
     "metadata": {},
     "output_type": "execute_result"
    }
   ],
   "source": [
    "dd_lm = dd_l.iloc[:,[0,2,4]]\n",
    "dd_lm.sum().sum()"
   ]
  },
  {
   "cell_type": "code",
   "execution_count": null,
   "id": "3dbb7610-a6f3-4163-858e-0265347119a0",
   "metadata": {},
   "outputs": [],
   "source": []
  },
  {
   "cell_type": "markdown",
   "id": "9677d139-34ad-4b3e-a064-f76fcde40a23",
   "metadata": {},
   "source": [
    "# Table 11: ECE Disability by Grade"
   ]
  },
  {
   "cell_type": "code",
   "execution_count": 839,
   "id": "4e379518-8ff1-4c01-a5ac-aab04bebf694",
   "metadata": {},
   "outputs": [
    {
     "data": {
      "text/plain": [
       "How many MALE students in nursery are Visually impaired ?                                              79.0\n",
       "How many female students in Nursery are Visually impaired ?                                            54.0\n",
       "How many FEMALE students in Pre-Kindergarten are Visually impaired ?                                   46.0\n",
       "How many MALE students in pre-Kindergarten are Visually impaired ?                                     46.0\n",
       "How many FEMALE students in kindergarten are Visually impaired ?                                       63.0\n",
       "How many MALE students in kindergarten are Visually impaired ?                                         39.0\n",
       "How many MALE students in  nursery have hearing impairment?                                           109.0\n",
       "How many FEMALE students in nursery have hearing impairment?                                           89.0\n",
       "How many FEMALE students in pre- kindergarten are hearing impairment?                                  95.0\n",
       "How many MALE students in pre-kindergarten have hearing impairment?                                    84.0\n",
       "How many MALE students in kindergarten have hearing impairment?                                        54.0\n",
       "How many FEMALE students in  Kindergarten have hearing impairment?                                     60.0\n",
       "How many MALE students in Nursery have other physical disabilities?                                   109.0\n",
       "How many FEMALE students in Nursery have other physical disabilities ?                                 57.0\n",
       "How many FEMALE students in  Pre-Kindergarten have other physical disabilities?                        42.0\n",
       "How many MALE students in  Pre-Kindergarten have other physical disabilities?                          64.0\n",
       "How many MALE students in  Kindergarten have other physical disabilities?                              51.0\n",
       "How many FEMALE students in  Kindergarten have other physical disabilities?                            68.0\n",
       "How many MALE students in Nursery have other mental disability or learning difficulty?                124.0\n",
       "How many FEMALE students in Nursery have other mental disability or learning difficulty?               93.0\n",
       "How many MALE students in  Pre-Kindergarten have other mental disability or learning difficulty?       68.0\n",
       "How many FEMALE students in  Pre-Kindergarten have other mental disability or learning difficulty?     90.0\n",
       "How many MALE students in  Kindergarten have other mental disability or learning difficulty?           77.0\n",
       "How many FEMALE students in  Kindergarten have other mental disability or learning difficulty?         63.0\n",
       "dtype: float64"
      ]
     },
     "execution_count": 839,
     "metadata": {},
     "output_type": "execute_result"
    }
   ],
   "source": [
    "dd_s = dd.sum()\n",
    "dd_s"
   ]
  },
  {
   "cell_type": "code",
   "execution_count": 844,
   "id": "71229a90-8ca5-4f8e-bab6-381dfad95ea8",
   "metadata": {},
   "outputs": [
    {
     "data": {
      "text/plain": [
       "133.0"
      ]
     },
     "execution_count": 844,
     "metadata": {},
     "output_type": "execute_result"
    }
   ],
   "source": [
    "dd_s[:2]#.sum()"
   ]
  },
  {
   "cell_type": "code",
   "execution_count": 845,
   "id": "f77654d4-f31c-4486-9764-a27afdfd56b4",
   "metadata": {},
   "outputs": [
    {
     "data": {
      "text/plain": [
       "92.0"
      ]
     },
     "execution_count": 845,
     "metadata": {},
     "output_type": "execute_result"
    }
   ],
   "source": [
    "dd_s[2:4]#.sum()"
   ]
  },
  {
   "cell_type": "code",
   "execution_count": 846,
   "id": "ad9031ac-fcab-4b54-a4b9-45802b75e54f",
   "metadata": {},
   "outputs": [
    {
     "data": {
      "text/plain": [
       "102.0"
      ]
     },
     "execution_count": 846,
     "metadata": {},
     "output_type": "execute_result"
    }
   ],
   "source": [
    "dd_s[4:6]#.sum()"
   ]
  },
  {
   "cell_type": "code",
   "execution_count": 850,
   "id": "35a4bfc8-d13f-4bc8-8b9e-34a5b87e1f33",
   "metadata": {},
   "outputs": [
    {
     "data": {
      "text/plain": [
       "198.0"
      ]
     },
     "execution_count": 850,
     "metadata": {},
     "output_type": "execute_result"
    }
   ],
   "source": [
    "dd_s[6:8]#.sum()"
   ]
  },
  {
   "cell_type": "code",
   "execution_count": 851,
   "id": "f4fc42ba-c067-4666-966f-391d79a89c75",
   "metadata": {},
   "outputs": [
    {
     "data": {
      "text/plain": [
       "179.0"
      ]
     },
     "execution_count": 851,
     "metadata": {},
     "output_type": "execute_result"
    }
   ],
   "source": [
    "dd_s[8:10]#.sum()"
   ]
  },
  {
   "cell_type": "code",
   "execution_count": 852,
   "id": "e784b4a3-42fb-4647-beaa-634b005c63a2",
   "metadata": {},
   "outputs": [
    {
     "data": {
      "text/plain": [
       "114.0"
      ]
     },
     "execution_count": 852,
     "metadata": {},
     "output_type": "execute_result"
    }
   ],
   "source": [
    "dd_s[10:12]#.sum()"
   ]
  },
  {
   "cell_type": "code",
   "execution_count": 856,
   "id": "73a3cc31-3898-4c1a-bfeb-e9155884830f",
   "metadata": {},
   "outputs": [
    {
     "data": {
      "text/plain": [
       "166.0"
      ]
     },
     "execution_count": 856,
     "metadata": {},
     "output_type": "execute_result"
    }
   ],
   "source": [
    "dd_s[12:14]#.sum()"
   ]
  },
  {
   "cell_type": "code",
   "execution_count": 857,
   "id": "e82147a3-6ef0-4ad7-ab0b-888a6e33514b",
   "metadata": {},
   "outputs": [
    {
     "data": {
      "text/plain": [
       "106.0"
      ]
     },
     "execution_count": 857,
     "metadata": {},
     "output_type": "execute_result"
    }
   ],
   "source": [
    "dd_s[14:16]#.sum()"
   ]
  },
  {
   "cell_type": "code",
   "execution_count": 858,
   "id": "b4f53ecd-39ff-41c1-ba01-3758b054a0c8",
   "metadata": {},
   "outputs": [
    {
     "data": {
      "text/plain": [
       "119.0"
      ]
     },
     "execution_count": 858,
     "metadata": {},
     "output_type": "execute_result"
    }
   ],
   "source": [
    "dd_s[16:18]#.sum()"
   ]
  },
  {
   "cell_type": "code",
   "execution_count": 862,
   "id": "4e514dd5-fde3-4fb6-97af-c6e688688b57",
   "metadata": {},
   "outputs": [
    {
     "data": {
      "text/plain": [
       "217.0"
      ]
     },
     "execution_count": 862,
     "metadata": {},
     "output_type": "execute_result"
    }
   ],
   "source": [
    "dd_s[18:20]#.sum()"
   ]
  },
  {
   "cell_type": "code",
   "execution_count": 863,
   "id": "e3e888c7-74ef-4c9f-b43a-f0f9a08d7b98",
   "metadata": {},
   "outputs": [
    {
     "data": {
      "text/plain": [
       "158.0"
      ]
     },
     "execution_count": 863,
     "metadata": {},
     "output_type": "execute_result"
    }
   ],
   "source": [
    "dd_s[20:22]#.sum()"
   ]
  },
  {
   "cell_type": "code",
   "execution_count": 864,
   "id": "0f1cc1a8-6acd-44e0-ae45-a087c120c395",
   "metadata": {},
   "outputs": [
    {
     "data": {
      "text/plain": [
       "140.0"
      ]
     },
     "execution_count": 864,
     "metadata": {},
     "output_type": "execute_result"
    }
   ],
   "source": [
    "dd_s[22:]#.sum()"
   ]
  },
  {
   "cell_type": "code",
   "execution_count": null,
   "id": "344aa611-bdd1-4387-a407-a3281cb813f6",
   "metadata": {},
   "outputs": [],
   "source": []
  },
  {
   "cell_type": "code",
   "execution_count": null,
   "id": "0cbcde86-36cb-4e80-98d4-52d3ff1913aa",
   "metadata": {},
   "outputs": [],
   "source": []
  },
  {
   "cell_type": "markdown",
   "id": "bd5e0e3f-136f-429d-b903-a6b686f8de57",
   "metadata": {},
   "source": [
    "# Table 12: ECE by Enrollment by Disability and County"
   ]
  },
  {
   "cell_type": "code",
   "execution_count": 117,
   "id": "2a937b91-4438-4259-bf51-054b8de82ddc",
   "metadata": {},
   "outputs": [
    {
     "data": {
      "text/html": [
       "<div>\n",
       "<style scoped>\n",
       "    .dataframe tbody tr th:only-of-type {\n",
       "        vertical-align: middle;\n",
       "    }\n",
       "\n",
       "    .dataframe tbody tr th {\n",
       "        vertical-align: top;\n",
       "    }\n",
       "\n",
       "    .dataframe thead th {\n",
       "        text-align: right;\n",
       "    }\n",
       "</style>\n",
       "<table border=\"1\" class=\"dataframe\">\n",
       "  <thead>\n",
       "    <tr style=\"text-align: right;\">\n",
       "      <th></th>\n",
       "      <th>How many MALE students in nursery are Visually impaired ?</th>\n",
       "      <th>How many female students in Nursery are Visually impaired ?</th>\n",
       "      <th>How many FEMALE students in Pre-Kindergarten are Visually impaired ?</th>\n",
       "      <th>How many MALE students in pre-Kindergarten are Visually impaired ?</th>\n",
       "      <th>How many FEMALE students in kindergarten are Visually impaired ?</th>\n",
       "      <th>How many MALE students in kindergarten are Visually impaired ?</th>\n",
       "      <th>How many MALE students in  nursery have hearing impairment?</th>\n",
       "      <th>How many FEMALE students in nursery have hearing impairment?</th>\n",
       "      <th>How many FEMALE students in pre- kindergarten are hearing impairment?</th>\n",
       "      <th>How many MALE students in pre-kindergarten have hearing impairment?</th>\n",
       "      <th>How many MALE students in kindergarten have hearing impairment?</th>\n",
       "      <th>How many FEMALE students in  Kindergarten have hearing impairment?</th>\n",
       "      <th>How many MALE students in Nursery have other physical disabilities?</th>\n",
       "      <th>How many FEMALE students in Nursery have other physical disabilities ?</th>\n",
       "      <th>How many FEMALE students in  Pre-Kindergarten have other physical disabilities?</th>\n",
       "      <th>How many MALE students in  Pre-Kindergarten have other physical disabilities?</th>\n",
       "      <th>How many MALE students in  Kindergarten have other physical disabilities?</th>\n",
       "      <th>How many FEMALE students in  Kindergarten have other physical disabilities?</th>\n",
       "      <th>How many MALE students in Nursery have other mental disability or learning difficulty?</th>\n",
       "      <th>How many FEMALE students in Nursery have other mental disability or learning difficulty?</th>\n",
       "      <th>How many MALE students in  Pre-Kindergarten have other mental disability or learning difficulty?</th>\n",
       "      <th>How many FEMALE students in  Pre-Kindergarten have other mental disability or learning difficulty?</th>\n",
       "      <th>How many MALE students in  Kindergarten have other mental disability or learning difficulty?</th>\n",
       "      <th>How many FEMALE students in  Kindergarten have other mental disability or learning difficulty?</th>\n",
       "    </tr>\n",
       "  </thead>\n",
       "  <tbody>\n",
       "    <tr>\n",
       "      <th>0</th>\n",
       "      <td>NaN</td>\n",
       "      <td>NaN</td>\n",
       "      <td>NaN</td>\n",
       "      <td>NaN</td>\n",
       "      <td>NaN</td>\n",
       "      <td>NaN</td>\n",
       "      <td>NaN</td>\n",
       "      <td>NaN</td>\n",
       "      <td>NaN</td>\n",
       "      <td>NaN</td>\n",
       "      <td>NaN</td>\n",
       "      <td>NaN</td>\n",
       "      <td>NaN</td>\n",
       "      <td>NaN</td>\n",
       "      <td>NaN</td>\n",
       "      <td>NaN</td>\n",
       "      <td>NaN</td>\n",
       "      <td>NaN</td>\n",
       "      <td>NaN</td>\n",
       "      <td>NaN</td>\n",
       "      <td>NaN</td>\n",
       "      <td>NaN</td>\n",
       "      <td>NaN</td>\n",
       "      <td>NaN</td>\n",
       "    </tr>\n",
       "    <tr>\n",
       "      <th>1</th>\n",
       "      <td>0.0</td>\n",
       "      <td>0.0</td>\n",
       "      <td>0.0</td>\n",
       "      <td>0.0</td>\n",
       "      <td>0.0</td>\n",
       "      <td>0.0</td>\n",
       "      <td>0.0</td>\n",
       "      <td>0.0</td>\n",
       "      <td>0.0</td>\n",
       "      <td>0.0</td>\n",
       "      <td>0.0</td>\n",
       "      <td>0.0</td>\n",
       "      <td>0.0</td>\n",
       "      <td>0.0</td>\n",
       "      <td>0.0</td>\n",
       "      <td>0.0</td>\n",
       "      <td>0.0</td>\n",
       "      <td>0.0</td>\n",
       "      <td>0.0</td>\n",
       "      <td>0.0</td>\n",
       "      <td>0.0</td>\n",
       "      <td>0.0</td>\n",
       "      <td>0.0</td>\n",
       "      <td>0.0</td>\n",
       "    </tr>\n",
       "    <tr>\n",
       "      <th>2</th>\n",
       "      <td>NaN</td>\n",
       "      <td>NaN</td>\n",
       "      <td>NaN</td>\n",
       "      <td>NaN</td>\n",
       "      <td>NaN</td>\n",
       "      <td>NaN</td>\n",
       "      <td>NaN</td>\n",
       "      <td>NaN</td>\n",
       "      <td>NaN</td>\n",
       "      <td>NaN</td>\n",
       "      <td>NaN</td>\n",
       "      <td>NaN</td>\n",
       "      <td>NaN</td>\n",
       "      <td>NaN</td>\n",
       "      <td>NaN</td>\n",
       "      <td>NaN</td>\n",
       "      <td>NaN</td>\n",
       "      <td>NaN</td>\n",
       "      <td>NaN</td>\n",
       "      <td>NaN</td>\n",
       "      <td>NaN</td>\n",
       "      <td>NaN</td>\n",
       "      <td>NaN</td>\n",
       "      <td>NaN</td>\n",
       "    </tr>\n",
       "    <tr>\n",
       "      <th>3</th>\n",
       "      <td>NaN</td>\n",
       "      <td>NaN</td>\n",
       "      <td>NaN</td>\n",
       "      <td>NaN</td>\n",
       "      <td>NaN</td>\n",
       "      <td>NaN</td>\n",
       "      <td>NaN</td>\n",
       "      <td>NaN</td>\n",
       "      <td>NaN</td>\n",
       "      <td>NaN</td>\n",
       "      <td>NaN</td>\n",
       "      <td>NaN</td>\n",
       "      <td>NaN</td>\n",
       "      <td>NaN</td>\n",
       "      <td>NaN</td>\n",
       "      <td>NaN</td>\n",
       "      <td>NaN</td>\n",
       "      <td>NaN</td>\n",
       "      <td>NaN</td>\n",
       "      <td>NaN</td>\n",
       "      <td>NaN</td>\n",
       "      <td>NaN</td>\n",
       "      <td>NaN</td>\n",
       "      <td>NaN</td>\n",
       "    </tr>\n",
       "    <tr>\n",
       "      <th>4</th>\n",
       "      <td>0.0</td>\n",
       "      <td>0.0</td>\n",
       "      <td>0.0</td>\n",
       "      <td>0.0</td>\n",
       "      <td>0.0</td>\n",
       "      <td>0.0</td>\n",
       "      <td>0.0</td>\n",
       "      <td>0.0</td>\n",
       "      <td>0.0</td>\n",
       "      <td>0.0</td>\n",
       "      <td>0.0</td>\n",
       "      <td>0.0</td>\n",
       "      <td>0.0</td>\n",
       "      <td>0.0</td>\n",
       "      <td>0.0</td>\n",
       "      <td>0.0</td>\n",
       "      <td>0.0</td>\n",
       "      <td>0.0</td>\n",
       "      <td>0.0</td>\n",
       "      <td>0.0</td>\n",
       "      <td>0.0</td>\n",
       "      <td>0.0</td>\n",
       "      <td>0.0</td>\n",
       "      <td>0.0</td>\n",
       "    </tr>\n",
       "  </tbody>\n",
       "</table>\n",
       "</div>"
      ],
      "text/plain": [
       "   How many MALE students in nursery are Visually impaired ?  \\\n",
       "0                                                NaN           \n",
       "1                                                0.0           \n",
       "2                                                NaN           \n",
       "3                                                NaN           \n",
       "4                                                0.0           \n",
       "\n",
       "   How many female students in Nursery are Visually impaired ?  \\\n",
       "0                                                NaN             \n",
       "1                                                0.0             \n",
       "2                                                NaN             \n",
       "3                                                NaN             \n",
       "4                                                0.0             \n",
       "\n",
       "   How many FEMALE students in Pre-Kindergarten are Visually impaired ?  \\\n",
       "0                                                NaN                      \n",
       "1                                                0.0                      \n",
       "2                                                NaN                      \n",
       "3                                                NaN                      \n",
       "4                                                0.0                      \n",
       "\n",
       "   How many MALE students in pre-Kindergarten are Visually impaired ?  \\\n",
       "0                                                NaN                    \n",
       "1                                                0.0                    \n",
       "2                                                NaN                    \n",
       "3                                                NaN                    \n",
       "4                                                0.0                    \n",
       "\n",
       "   How many FEMALE students in kindergarten are Visually impaired ?  \\\n",
       "0                                                NaN                  \n",
       "1                                                0.0                  \n",
       "2                                                NaN                  \n",
       "3                                                NaN                  \n",
       "4                                                0.0                  \n",
       "\n",
       "   How many MALE students in kindergarten are Visually impaired ?  \\\n",
       "0                                                NaN                \n",
       "1                                                0.0                \n",
       "2                                                NaN                \n",
       "3                                                NaN                \n",
       "4                                                0.0                \n",
       "\n",
       "   How many MALE students in  nursery have hearing impairment?  \\\n",
       "0                                                NaN             \n",
       "1                                                0.0             \n",
       "2                                                NaN             \n",
       "3                                                NaN             \n",
       "4                                                0.0             \n",
       "\n",
       "   How many FEMALE students in nursery have hearing impairment?  \\\n",
       "0                                                NaN              \n",
       "1                                                0.0              \n",
       "2                                                NaN              \n",
       "3                                                NaN              \n",
       "4                                                0.0              \n",
       "\n",
       "   How many FEMALE students in pre- kindergarten are hearing impairment?  \\\n",
       "0                                                NaN                       \n",
       "1                                                0.0                       \n",
       "2                                                NaN                       \n",
       "3                                                NaN                       \n",
       "4                                                0.0                       \n",
       "\n",
       "   How many MALE students in pre-kindergarten have hearing impairment?  \\\n",
       "0                                                NaN                     \n",
       "1                                                0.0                     \n",
       "2                                                NaN                     \n",
       "3                                                NaN                     \n",
       "4                                                0.0                     \n",
       "\n",
       "   How many MALE students in kindergarten have hearing impairment?  \\\n",
       "0                                                NaN                 \n",
       "1                                                0.0                 \n",
       "2                                                NaN                 \n",
       "3                                                NaN                 \n",
       "4                                                0.0                 \n",
       "\n",
       "   How many FEMALE students in  Kindergarten have hearing impairment?  \\\n",
       "0                                                NaN                    \n",
       "1                                                0.0                    \n",
       "2                                                NaN                    \n",
       "3                                                NaN                    \n",
       "4                                                0.0                    \n",
       "\n",
       "   How many MALE students in Nursery have other physical disabilities?  \\\n",
       "0                                                NaN                     \n",
       "1                                                0.0                     \n",
       "2                                                NaN                     \n",
       "3                                                NaN                     \n",
       "4                                                0.0                     \n",
       "\n",
       "   How many FEMALE students in Nursery have other physical disabilities ?  \\\n",
       "0                                                NaN                        \n",
       "1                                                0.0                        \n",
       "2                                                NaN                        \n",
       "3                                                NaN                        \n",
       "4                                                0.0                        \n",
       "\n",
       "   How many FEMALE students in  Pre-Kindergarten have other physical disabilities?  \\\n",
       "0                                                NaN                                 \n",
       "1                                                0.0                                 \n",
       "2                                                NaN                                 \n",
       "3                                                NaN                                 \n",
       "4                                                0.0                                 \n",
       "\n",
       "   How many MALE students in  Pre-Kindergarten have other physical disabilities?  \\\n",
       "0                                                NaN                               \n",
       "1                                                0.0                               \n",
       "2                                                NaN                               \n",
       "3                                                NaN                               \n",
       "4                                                0.0                               \n",
       "\n",
       "   How many MALE students in  Kindergarten have other physical disabilities?  \\\n",
       "0                                                NaN                           \n",
       "1                                                0.0                           \n",
       "2                                                NaN                           \n",
       "3                                                NaN                           \n",
       "4                                                0.0                           \n",
       "\n",
       "   How many FEMALE students in  Kindergarten have other physical disabilities?  \\\n",
       "0                                                NaN                             \n",
       "1                                                0.0                             \n",
       "2                                                NaN                             \n",
       "3                                                NaN                             \n",
       "4                                                0.0                             \n",
       "\n",
       "   How many MALE students in Nursery have other mental disability or learning difficulty?  \\\n",
       "0                                                NaN                                        \n",
       "1                                                0.0                                        \n",
       "2                                                NaN                                        \n",
       "3                                                NaN                                        \n",
       "4                                                0.0                                        \n",
       "\n",
       "   How many FEMALE students in Nursery have other mental disability or learning difficulty?  \\\n",
       "0                                                NaN                                          \n",
       "1                                                0.0                                          \n",
       "2                                                NaN                                          \n",
       "3                                                NaN                                          \n",
       "4                                                0.0                                          \n",
       "\n",
       "   How many MALE students in  Pre-Kindergarten have other mental disability or learning difficulty?  \\\n",
       "0                                                NaN                                                  \n",
       "1                                                0.0                                                  \n",
       "2                                                NaN                                                  \n",
       "3                                                NaN                                                  \n",
       "4                                                0.0                                                  \n",
       "\n",
       "   How many FEMALE students in  Pre-Kindergarten have other mental disability or learning difficulty?  \\\n",
       "0                                                NaN                                                    \n",
       "1                                                0.0                                                    \n",
       "2                                                NaN                                                    \n",
       "3                                                NaN                                                    \n",
       "4                                                0.0                                                    \n",
       "\n",
       "   How many MALE students in  Kindergarten have other mental disability or learning difficulty?  \\\n",
       "0                                                NaN                                              \n",
       "1                                                0.0                                              \n",
       "2                                                NaN                                              \n",
       "3                                                NaN                                              \n",
       "4                                                0.0                                              \n",
       "\n",
       "   How many FEMALE students in  Kindergarten have other mental disability or learning difficulty?  \n",
       "0                                                NaN                                               \n",
       "1                                                0.0                                               \n",
       "2                                                NaN                                               \n",
       "3                                                NaN                                               \n",
       "4                                                0.0                                               "
      ]
     },
     "execution_count": 117,
     "metadata": {},
     "output_type": "execute_result"
    }
   ],
   "source": [
    "kece_c = kcensus.iloc[:,[2]]\n",
    "kece_o = kcensus.iloc[:,[39]]\n",
    "kece_s = kece_student.iloc[:,46:87]\n",
    "kece_c = kcensus.iloc[:,[2]]\n",
    "kece_d = kcensus.iloc[:,3:19]\n",
    "kece_s = kece_student.iloc[:,46:87]\n",
    "kece_disa = kece_student.iloc[:,22:46]\n",
    "kece_disa.head()"
   ]
  },
  {
   "cell_type": "code",
   "execution_count": 118,
   "id": "c78e68cd-be34-4b79-82f3-4f9a4effd1fc",
   "metadata": {},
   "outputs": [
    {
     "data": {
      "text/html": [
       "<div>\n",
       "<style scoped>\n",
       "    .dataframe tbody tr th:only-of-type {\n",
       "        vertical-align: middle;\n",
       "    }\n",
       "\n",
       "    .dataframe tbody tr th {\n",
       "        vertical-align: top;\n",
       "    }\n",
       "\n",
       "    .dataframe thead th {\n",
       "        text-align: right;\n",
       "    }\n",
       "</style>\n",
       "<table border=\"1\" class=\"dataframe\">\n",
       "  <thead>\n",
       "    <tr style=\"text-align: right;\">\n",
       "      <th></th>\n",
       "      <th>County</th>\n",
       "      <th>District in Bong County</th>\n",
       "      <th>District in Gbarpolu</th>\n",
       "      <th>District in River Gee</th>\n",
       "      <th>District in Sinoe</th>\n",
       "      <th>District in Lofa</th>\n",
       "      <th>District in Nimba</th>\n",
       "      <th>District in Grand Cape Mount</th>\n",
       "      <th>District in Maryland</th>\n",
       "      <th>District in Margibi</th>\n",
       "      <th>District in Bomi</th>\n",
       "      <th>District in Grand Bassa</th>\n",
       "      <th>District in Montserrado 2</th>\n",
       "      <th>District in Montserrado 1</th>\n",
       "      <th>Districts in Grand Kru</th>\n",
       "      <th>Districts in Grand Gedeh</th>\n",
       "      <th>Districts in River Cess</th>\n",
       "      <th>How many MALE students in nursery are Visually impaired ?</th>\n",
       "      <th>How many female students in Nursery are Visually impaired ?</th>\n",
       "      <th>How many FEMALE students in Pre-Kindergarten are Visually impaired ?</th>\n",
       "      <th>How many MALE students in pre-Kindergarten are Visually impaired ?</th>\n",
       "      <th>How many FEMALE students in kindergarten are Visually impaired ?</th>\n",
       "      <th>How many MALE students in kindergarten are Visually impaired ?</th>\n",
       "      <th>How many MALE students in  nursery have hearing impairment?</th>\n",
       "      <th>How many FEMALE students in nursery have hearing impairment?</th>\n",
       "      <th>How many FEMALE students in pre- kindergarten are hearing impairment?</th>\n",
       "      <th>How many MALE students in pre-kindergarten have hearing impairment?</th>\n",
       "      <th>How many MALE students in kindergarten have hearing impairment?</th>\n",
       "      <th>How many FEMALE students in  Kindergarten have hearing impairment?</th>\n",
       "      <th>How many MALE students in Nursery have other physical disabilities?</th>\n",
       "      <th>How many FEMALE students in Nursery have other physical disabilities ?</th>\n",
       "      <th>How many FEMALE students in  Pre-Kindergarten have other physical disabilities?</th>\n",
       "      <th>How many MALE students in  Pre-Kindergarten have other physical disabilities?</th>\n",
       "      <th>How many MALE students in  Kindergarten have other physical disabilities?</th>\n",
       "      <th>How many FEMALE students in  Kindergarten have other physical disabilities?</th>\n",
       "      <th>How many MALE students in Nursery have other mental disability or learning difficulty?</th>\n",
       "      <th>How many FEMALE students in Nursery have other mental disability or learning difficulty?</th>\n",
       "      <th>How many MALE students in  Pre-Kindergarten have other mental disability or learning difficulty?</th>\n",
       "      <th>How many FEMALE students in  Pre-Kindergarten have other mental disability or learning difficulty?</th>\n",
       "      <th>How many MALE students in  Kindergarten have other mental disability or learning difficulty?</th>\n",
       "      <th>How many FEMALE students in  Kindergarten have other mental disability or learning difficulty?</th>\n",
       "    </tr>\n",
       "  </thead>\n",
       "  <tbody>\n",
       "    <tr>\n",
       "      <th>0</th>\n",
       "      <td>Rivercess</td>\n",
       "      <td>NaN</td>\n",
       "      <td>NaN</td>\n",
       "      <td>NaN</td>\n",
       "      <td>NaN</td>\n",
       "      <td>NaN</td>\n",
       "      <td>NaN</td>\n",
       "      <td>NaN</td>\n",
       "      <td>NaN</td>\n",
       "      <td>NaN</td>\n",
       "      <td>NaN</td>\n",
       "      <td>NaN</td>\n",
       "      <td>NaN</td>\n",
       "      <td>NaN</td>\n",
       "      <td>NaN</td>\n",
       "      <td>NaN</td>\n",
       "      <td>Timobo</td>\n",
       "      <td>NaN</td>\n",
       "      <td>NaN</td>\n",
       "      <td>NaN</td>\n",
       "      <td>NaN</td>\n",
       "      <td>NaN</td>\n",
       "      <td>NaN</td>\n",
       "      <td>NaN</td>\n",
       "      <td>NaN</td>\n",
       "      <td>NaN</td>\n",
       "      <td>NaN</td>\n",
       "      <td>NaN</td>\n",
       "      <td>NaN</td>\n",
       "      <td>NaN</td>\n",
       "      <td>NaN</td>\n",
       "      <td>NaN</td>\n",
       "      <td>NaN</td>\n",
       "      <td>NaN</td>\n",
       "      <td>NaN</td>\n",
       "      <td>NaN</td>\n",
       "      <td>NaN</td>\n",
       "      <td>NaN</td>\n",
       "      <td>NaN</td>\n",
       "      <td>NaN</td>\n",
       "      <td>NaN</td>\n",
       "    </tr>\n",
       "    <tr>\n",
       "      <th>1</th>\n",
       "      <td>Nimba</td>\n",
       "      <td>NaN</td>\n",
       "      <td>NaN</td>\n",
       "      <td>NaN</td>\n",
       "      <td>NaN</td>\n",
       "      <td>NaN</td>\n",
       "      <td>Zoe-Geh</td>\n",
       "      <td>NaN</td>\n",
       "      <td>NaN</td>\n",
       "      <td>NaN</td>\n",
       "      <td>NaN</td>\n",
       "      <td>NaN</td>\n",
       "      <td>NaN</td>\n",
       "      <td>NaN</td>\n",
       "      <td>NaN</td>\n",
       "      <td>NaN</td>\n",
       "      <td>NaN</td>\n",
       "      <td>0.0</td>\n",
       "      <td>0.0</td>\n",
       "      <td>0.0</td>\n",
       "      <td>0.0</td>\n",
       "      <td>0.0</td>\n",
       "      <td>0.0</td>\n",
       "      <td>0.0</td>\n",
       "      <td>0.0</td>\n",
       "      <td>0.0</td>\n",
       "      <td>0.0</td>\n",
       "      <td>0.0</td>\n",
       "      <td>0.0</td>\n",
       "      <td>0.0</td>\n",
       "      <td>0.0</td>\n",
       "      <td>0.0</td>\n",
       "      <td>0.0</td>\n",
       "      <td>0.0</td>\n",
       "      <td>0.0</td>\n",
       "      <td>0.0</td>\n",
       "      <td>0.0</td>\n",
       "      <td>0.0</td>\n",
       "      <td>0.0</td>\n",
       "      <td>0.0</td>\n",
       "      <td>0.0</td>\n",
       "    </tr>\n",
       "    <tr>\n",
       "      <th>2</th>\n",
       "      <td>River Gee</td>\n",
       "      <td>NaN</td>\n",
       "      <td>NaN</td>\n",
       "      <td>Tienpo</td>\n",
       "      <td>NaN</td>\n",
       "      <td>NaN</td>\n",
       "      <td>NaN</td>\n",
       "      <td>NaN</td>\n",
       "      <td>NaN</td>\n",
       "      <td>NaN</td>\n",
       "      <td>NaN</td>\n",
       "      <td>NaN</td>\n",
       "      <td>NaN</td>\n",
       "      <td>NaN</td>\n",
       "      <td>NaN</td>\n",
       "      <td>NaN</td>\n",
       "      <td>NaN</td>\n",
       "      <td>NaN</td>\n",
       "      <td>NaN</td>\n",
       "      <td>NaN</td>\n",
       "      <td>NaN</td>\n",
       "      <td>NaN</td>\n",
       "      <td>NaN</td>\n",
       "      <td>NaN</td>\n",
       "      <td>NaN</td>\n",
       "      <td>NaN</td>\n",
       "      <td>NaN</td>\n",
       "      <td>NaN</td>\n",
       "      <td>NaN</td>\n",
       "      <td>NaN</td>\n",
       "      <td>NaN</td>\n",
       "      <td>NaN</td>\n",
       "      <td>NaN</td>\n",
       "      <td>NaN</td>\n",
       "      <td>NaN</td>\n",
       "      <td>NaN</td>\n",
       "      <td>NaN</td>\n",
       "      <td>NaN</td>\n",
       "      <td>NaN</td>\n",
       "      <td>NaN</td>\n",
       "      <td>NaN</td>\n",
       "    </tr>\n",
       "    <tr>\n",
       "      <th>3</th>\n",
       "      <td>Montserrado 1</td>\n",
       "      <td>NaN</td>\n",
       "      <td>NaN</td>\n",
       "      <td>NaN</td>\n",
       "      <td>NaN</td>\n",
       "      <td>NaN</td>\n",
       "      <td>NaN</td>\n",
       "      <td>NaN</td>\n",
       "      <td>NaN</td>\n",
       "      <td>NaN</td>\n",
       "      <td>NaN</td>\n",
       "      <td>NaN</td>\n",
       "      <td>NaN</td>\n",
       "      <td>Paynesville 4</td>\n",
       "      <td>NaN</td>\n",
       "      <td>NaN</td>\n",
       "      <td>NaN</td>\n",
       "      <td>NaN</td>\n",
       "      <td>NaN</td>\n",
       "      <td>NaN</td>\n",
       "      <td>NaN</td>\n",
       "      <td>NaN</td>\n",
       "      <td>NaN</td>\n",
       "      <td>NaN</td>\n",
       "      <td>NaN</td>\n",
       "      <td>NaN</td>\n",
       "      <td>NaN</td>\n",
       "      <td>NaN</td>\n",
       "      <td>NaN</td>\n",
       "      <td>NaN</td>\n",
       "      <td>NaN</td>\n",
       "      <td>NaN</td>\n",
       "      <td>NaN</td>\n",
       "      <td>NaN</td>\n",
       "      <td>NaN</td>\n",
       "      <td>NaN</td>\n",
       "      <td>NaN</td>\n",
       "      <td>NaN</td>\n",
       "      <td>NaN</td>\n",
       "      <td>NaN</td>\n",
       "      <td>NaN</td>\n",
       "    </tr>\n",
       "    <tr>\n",
       "      <th>4</th>\n",
       "      <td>Montserrado 1</td>\n",
       "      <td>NaN</td>\n",
       "      <td>NaN</td>\n",
       "      <td>NaN</td>\n",
       "      <td>NaN</td>\n",
       "      <td>NaN</td>\n",
       "      <td>NaN</td>\n",
       "      <td>NaN</td>\n",
       "      <td>NaN</td>\n",
       "      <td>NaN</td>\n",
       "      <td>NaN</td>\n",
       "      <td>NaN</td>\n",
       "      <td>NaN</td>\n",
       "      <td>Greater Monrovia 1A</td>\n",
       "      <td>NaN</td>\n",
       "      <td>NaN</td>\n",
       "      <td>NaN</td>\n",
       "      <td>0.0</td>\n",
       "      <td>0.0</td>\n",
       "      <td>0.0</td>\n",
       "      <td>0.0</td>\n",
       "      <td>0.0</td>\n",
       "      <td>0.0</td>\n",
       "      <td>0.0</td>\n",
       "      <td>0.0</td>\n",
       "      <td>0.0</td>\n",
       "      <td>0.0</td>\n",
       "      <td>0.0</td>\n",
       "      <td>0.0</td>\n",
       "      <td>0.0</td>\n",
       "      <td>0.0</td>\n",
       "      <td>0.0</td>\n",
       "      <td>0.0</td>\n",
       "      <td>0.0</td>\n",
       "      <td>0.0</td>\n",
       "      <td>0.0</td>\n",
       "      <td>0.0</td>\n",
       "      <td>0.0</td>\n",
       "      <td>0.0</td>\n",
       "      <td>0.0</td>\n",
       "      <td>0.0</td>\n",
       "    </tr>\n",
       "  </tbody>\n",
       "</table>\n",
       "</div>"
      ],
      "text/plain": [
       "          County District in Bong County District in Gbarpolu  \\\n",
       "0      Rivercess                     NaN                  NaN   \n",
       "1          Nimba                     NaN                  NaN   \n",
       "2      River Gee                     NaN                  NaN   \n",
       "3  Montserrado 1                     NaN                  NaN   \n",
       "4  Montserrado 1                     NaN                  NaN   \n",
       "\n",
       "  District in River Gee District in Sinoe District in Lofa District in Nimba  \\\n",
       "0                   NaN               NaN              NaN               NaN   \n",
       "1                   NaN               NaN              NaN           Zoe-Geh   \n",
       "2                Tienpo               NaN              NaN               NaN   \n",
       "3                   NaN               NaN              NaN               NaN   \n",
       "4                   NaN               NaN              NaN               NaN   \n",
       "\n",
       "  District in Grand Cape Mount District in Maryland District in Margibi  \\\n",
       "0                          NaN                  NaN                 NaN   \n",
       "1                          NaN                  NaN                 NaN   \n",
       "2                          NaN                  NaN                 NaN   \n",
       "3                          NaN                  NaN                 NaN   \n",
       "4                          NaN                  NaN                 NaN   \n",
       "\n",
       "  District in Bomi District in Grand Bassa District in Montserrado 2  \\\n",
       "0              NaN                     NaN                       NaN   \n",
       "1              NaN                     NaN                       NaN   \n",
       "2              NaN                     NaN                       NaN   \n",
       "3              NaN                     NaN                       NaN   \n",
       "4              NaN                     NaN                       NaN   \n",
       "\n",
       "  District in Montserrado 1 Districts in Grand Kru Districts in Grand Gedeh  \\\n",
       "0                       NaN                    NaN                      NaN   \n",
       "1                       NaN                    NaN                      NaN   \n",
       "2                       NaN                    NaN                      NaN   \n",
       "3             Paynesville 4                    NaN                      NaN   \n",
       "4       Greater Monrovia 1A                    NaN                      NaN   \n",
       "\n",
       "  Districts in River Cess  \\\n",
       "0                  Timobo   \n",
       "1                     NaN   \n",
       "2                     NaN   \n",
       "3                     NaN   \n",
       "4                     NaN   \n",
       "\n",
       "   How many MALE students in nursery are Visually impaired ?  \\\n",
       "0                                                NaN           \n",
       "1                                                0.0           \n",
       "2                                                NaN           \n",
       "3                                                NaN           \n",
       "4                                                0.0           \n",
       "\n",
       "   How many female students in Nursery are Visually impaired ?  \\\n",
       "0                                                NaN             \n",
       "1                                                0.0             \n",
       "2                                                NaN             \n",
       "3                                                NaN             \n",
       "4                                                0.0             \n",
       "\n",
       "   How many FEMALE students in Pre-Kindergarten are Visually impaired ?  \\\n",
       "0                                                NaN                      \n",
       "1                                                0.0                      \n",
       "2                                                NaN                      \n",
       "3                                                NaN                      \n",
       "4                                                0.0                      \n",
       "\n",
       "   How many MALE students in pre-Kindergarten are Visually impaired ?  \\\n",
       "0                                                NaN                    \n",
       "1                                                0.0                    \n",
       "2                                                NaN                    \n",
       "3                                                NaN                    \n",
       "4                                                0.0                    \n",
       "\n",
       "   How many FEMALE students in kindergarten are Visually impaired ?  \\\n",
       "0                                                NaN                  \n",
       "1                                                0.0                  \n",
       "2                                                NaN                  \n",
       "3                                                NaN                  \n",
       "4                                                0.0                  \n",
       "\n",
       "   How many MALE students in kindergarten are Visually impaired ?  \\\n",
       "0                                                NaN                \n",
       "1                                                0.0                \n",
       "2                                                NaN                \n",
       "3                                                NaN                \n",
       "4                                                0.0                \n",
       "\n",
       "   How many MALE students in  nursery have hearing impairment?  \\\n",
       "0                                                NaN             \n",
       "1                                                0.0             \n",
       "2                                                NaN             \n",
       "3                                                NaN             \n",
       "4                                                0.0             \n",
       "\n",
       "   How many FEMALE students in nursery have hearing impairment?  \\\n",
       "0                                                NaN              \n",
       "1                                                0.0              \n",
       "2                                                NaN              \n",
       "3                                                NaN              \n",
       "4                                                0.0              \n",
       "\n",
       "   How many FEMALE students in pre- kindergarten are hearing impairment?  \\\n",
       "0                                                NaN                       \n",
       "1                                                0.0                       \n",
       "2                                                NaN                       \n",
       "3                                                NaN                       \n",
       "4                                                0.0                       \n",
       "\n",
       "   How many MALE students in pre-kindergarten have hearing impairment?  \\\n",
       "0                                                NaN                     \n",
       "1                                                0.0                     \n",
       "2                                                NaN                     \n",
       "3                                                NaN                     \n",
       "4                                                0.0                     \n",
       "\n",
       "   How many MALE students in kindergarten have hearing impairment?  \\\n",
       "0                                                NaN                 \n",
       "1                                                0.0                 \n",
       "2                                                NaN                 \n",
       "3                                                NaN                 \n",
       "4                                                0.0                 \n",
       "\n",
       "   How many FEMALE students in  Kindergarten have hearing impairment?  \\\n",
       "0                                                NaN                    \n",
       "1                                                0.0                    \n",
       "2                                                NaN                    \n",
       "3                                                NaN                    \n",
       "4                                                0.0                    \n",
       "\n",
       "   How many MALE students in Nursery have other physical disabilities?  \\\n",
       "0                                                NaN                     \n",
       "1                                                0.0                     \n",
       "2                                                NaN                     \n",
       "3                                                NaN                     \n",
       "4                                                0.0                     \n",
       "\n",
       "   How many FEMALE students in Nursery have other physical disabilities ?  \\\n",
       "0                                                NaN                        \n",
       "1                                                0.0                        \n",
       "2                                                NaN                        \n",
       "3                                                NaN                        \n",
       "4                                                0.0                        \n",
       "\n",
       "   How many FEMALE students in  Pre-Kindergarten have other physical disabilities?  \\\n",
       "0                                                NaN                                 \n",
       "1                                                0.0                                 \n",
       "2                                                NaN                                 \n",
       "3                                                NaN                                 \n",
       "4                                                0.0                                 \n",
       "\n",
       "   How many MALE students in  Pre-Kindergarten have other physical disabilities?  \\\n",
       "0                                                NaN                               \n",
       "1                                                0.0                               \n",
       "2                                                NaN                               \n",
       "3                                                NaN                               \n",
       "4                                                0.0                               \n",
       "\n",
       "   How many MALE students in  Kindergarten have other physical disabilities?  \\\n",
       "0                                                NaN                           \n",
       "1                                                0.0                           \n",
       "2                                                NaN                           \n",
       "3                                                NaN                           \n",
       "4                                                0.0                           \n",
       "\n",
       "   How many FEMALE students in  Kindergarten have other physical disabilities?  \\\n",
       "0                                                NaN                             \n",
       "1                                                0.0                             \n",
       "2                                                NaN                             \n",
       "3                                                NaN                             \n",
       "4                                                0.0                             \n",
       "\n",
       "   How many MALE students in Nursery have other mental disability or learning difficulty?  \\\n",
       "0                                                NaN                                        \n",
       "1                                                0.0                                        \n",
       "2                                                NaN                                        \n",
       "3                                                NaN                                        \n",
       "4                                                0.0                                        \n",
       "\n",
       "   How many FEMALE students in Nursery have other mental disability or learning difficulty?  \\\n",
       "0                                                NaN                                          \n",
       "1                                                0.0                                          \n",
       "2                                                NaN                                          \n",
       "3                                                NaN                                          \n",
       "4                                                0.0                                          \n",
       "\n",
       "   How many MALE students in  Pre-Kindergarten have other mental disability or learning difficulty?  \\\n",
       "0                                                NaN                                                  \n",
       "1                                                0.0                                                  \n",
       "2                                                NaN                                                  \n",
       "3                                                NaN                                                  \n",
       "4                                                0.0                                                  \n",
       "\n",
       "   How many FEMALE students in  Pre-Kindergarten have other mental disability or learning difficulty?  \\\n",
       "0                                                NaN                                                    \n",
       "1                                                0.0                                                    \n",
       "2                                                NaN                                                    \n",
       "3                                                NaN                                                    \n",
       "4                                                0.0                                                    \n",
       "\n",
       "   How many MALE students in  Kindergarten have other mental disability or learning difficulty?  \\\n",
       "0                                                NaN                                              \n",
       "1                                                0.0                                              \n",
       "2                                                NaN                                              \n",
       "3                                                NaN                                              \n",
       "4                                                0.0                                              \n",
       "\n",
       "   How many FEMALE students in  Kindergarten have other mental disability or learning difficulty?  \n",
       "0                                                NaN                                               \n",
       "1                                                0.0                                               \n",
       "2                                                NaN                                               \n",
       "3                                                NaN                                               \n",
       "4                                                0.0                                               "
      ]
     },
     "execution_count": 118,
     "metadata": {},
     "output_type": "execute_result"
    }
   ],
   "source": [
    "kece_cdd = pd.concat([kece_c, kece_d, kece_disa], axis = 1)\n",
    "kece_cdd.columns\n",
    "kece_cdd.head()"
   ]
  },
  {
   "cell_type": "code",
   "execution_count": 119,
   "id": "9b22b89b-2632-47db-a7ea-66e52605bbbd",
   "metadata": {},
   "outputs": [
    {
     "data": {
      "text/html": [
       "<div>\n",
       "<style scoped>\n",
       "    .dataframe tbody tr th:only-of-type {\n",
       "        vertical-align: middle;\n",
       "    }\n",
       "\n",
       "    .dataframe tbody tr th {\n",
       "        vertical-align: top;\n",
       "    }\n",
       "\n",
       "    .dataframe thead th {\n",
       "        text-align: right;\n",
       "    }\n",
       "</style>\n",
       "<table border=\"1\" class=\"dataframe\">\n",
       "  <thead>\n",
       "    <tr style=\"text-align: right;\">\n",
       "      <th></th>\n",
       "      <th>How many MALE students in nursery are Visually impaired ?</th>\n",
       "      <th>How many female students in Nursery are Visually impaired ?</th>\n",
       "      <th>How many FEMALE students in Pre-Kindergarten are Visually impaired ?</th>\n",
       "      <th>How many MALE students in pre-Kindergarten are Visually impaired ?</th>\n",
       "      <th>How many FEMALE students in kindergarten are Visually impaired ?</th>\n",
       "      <th>How many MALE students in kindergarten are Visually impaired ?</th>\n",
       "      <th>How many MALE students in  nursery have hearing impairment?</th>\n",
       "      <th>How many FEMALE students in nursery have hearing impairment?</th>\n",
       "      <th>How many FEMALE students in pre- kindergarten are hearing impairment?</th>\n",
       "      <th>How many MALE students in pre-kindergarten have hearing impairment?</th>\n",
       "      <th>How many MALE students in kindergarten have hearing impairment?</th>\n",
       "      <th>How many FEMALE students in  Kindergarten have hearing impairment?</th>\n",
       "      <th>How many MALE students in Nursery have other physical disabilities?</th>\n",
       "      <th>How many FEMALE students in Nursery have other physical disabilities ?</th>\n",
       "      <th>How many FEMALE students in  Pre-Kindergarten have other physical disabilities?</th>\n",
       "      <th>How many MALE students in  Pre-Kindergarten have other physical disabilities?</th>\n",
       "      <th>How many MALE students in  Kindergarten have other physical disabilities?</th>\n",
       "      <th>How many FEMALE students in  Kindergarten have other physical disabilities?</th>\n",
       "      <th>How many MALE students in Nursery have other mental disability or learning difficulty?</th>\n",
       "      <th>How many FEMALE students in Nursery have other mental disability or learning difficulty?</th>\n",
       "      <th>How many MALE students in  Pre-Kindergarten have other mental disability or learning difficulty?</th>\n",
       "      <th>How many FEMALE students in  Pre-Kindergarten have other mental disability or learning difficulty?</th>\n",
       "      <th>How many MALE students in  Kindergarten have other mental disability or learning difficulty?</th>\n",
       "      <th>How many FEMALE students in  Kindergarten have other mental disability or learning difficulty?</th>\n",
       "    </tr>\n",
       "    <tr>\n",
       "      <th>County</th>\n",
       "      <th></th>\n",
       "      <th></th>\n",
       "      <th></th>\n",
       "      <th></th>\n",
       "      <th></th>\n",
       "      <th></th>\n",
       "      <th></th>\n",
       "      <th></th>\n",
       "      <th></th>\n",
       "      <th></th>\n",
       "      <th></th>\n",
       "      <th></th>\n",
       "      <th></th>\n",
       "      <th></th>\n",
       "      <th></th>\n",
       "      <th></th>\n",
       "      <th></th>\n",
       "      <th></th>\n",
       "      <th></th>\n",
       "      <th></th>\n",
       "      <th></th>\n",
       "      <th></th>\n",
       "      <th></th>\n",
       "      <th></th>\n",
       "    </tr>\n",
       "  </thead>\n",
       "  <tbody>\n",
       "    <tr>\n",
       "      <th>Bomi</th>\n",
       "      <td>2.0</td>\n",
       "      <td>2.0</td>\n",
       "      <td>2.0</td>\n",
       "      <td>0.0</td>\n",
       "      <td>0.0</td>\n",
       "      <td>1.0</td>\n",
       "      <td>22.0</td>\n",
       "      <td>9.0</td>\n",
       "      <td>4.0</td>\n",
       "      <td>5.0</td>\n",
       "      <td>7.0</td>\n",
       "      <td>3.0</td>\n",
       "      <td>3.0</td>\n",
       "      <td>0.0</td>\n",
       "      <td>0.0</td>\n",
       "      <td>1.0</td>\n",
       "      <td>2.0</td>\n",
       "      <td>0.0</td>\n",
       "      <td>5.0</td>\n",
       "      <td>6.0</td>\n",
       "      <td>3.0</td>\n",
       "      <td>4.0</td>\n",
       "      <td>4.0</td>\n",
       "      <td>5.0</td>\n",
       "    </tr>\n",
       "    <tr>\n",
       "      <th>Bong</th>\n",
       "      <td>13.0</td>\n",
       "      <td>3.0</td>\n",
       "      <td>1.0</td>\n",
       "      <td>0.0</td>\n",
       "      <td>0.0</td>\n",
       "      <td>8.0</td>\n",
       "      <td>7.0</td>\n",
       "      <td>3.0</td>\n",
       "      <td>6.0</td>\n",
       "      <td>8.0</td>\n",
       "      <td>13.0</td>\n",
       "      <td>6.0</td>\n",
       "      <td>7.0</td>\n",
       "      <td>5.0</td>\n",
       "      <td>0.0</td>\n",
       "      <td>7.0</td>\n",
       "      <td>0.0</td>\n",
       "      <td>0.0</td>\n",
       "      <td>5.0</td>\n",
       "      <td>1.0</td>\n",
       "      <td>2.0</td>\n",
       "      <td>1.0</td>\n",
       "      <td>1.0</td>\n",
       "      <td>1.0</td>\n",
       "    </tr>\n",
       "    <tr>\n",
       "      <th>Gbarpolu</th>\n",
       "      <td>3.0</td>\n",
       "      <td>0.0</td>\n",
       "      <td>0.0</td>\n",
       "      <td>0.0</td>\n",
       "      <td>0.0</td>\n",
       "      <td>0.0</td>\n",
       "      <td>2.0</td>\n",
       "      <td>0.0</td>\n",
       "      <td>0.0</td>\n",
       "      <td>0.0</td>\n",
       "      <td>0.0</td>\n",
       "      <td>0.0</td>\n",
       "      <td>3.0</td>\n",
       "      <td>2.0</td>\n",
       "      <td>0.0</td>\n",
       "      <td>0.0</td>\n",
       "      <td>0.0</td>\n",
       "      <td>0.0</td>\n",
       "      <td>1.0</td>\n",
       "      <td>2.0</td>\n",
       "      <td>1.0</td>\n",
       "      <td>0.0</td>\n",
       "      <td>0.0</td>\n",
       "      <td>1.0</td>\n",
       "    </tr>\n",
       "    <tr>\n",
       "      <th>Grand Bassa</th>\n",
       "      <td>2.0</td>\n",
       "      <td>0.0</td>\n",
       "      <td>0.0</td>\n",
       "      <td>0.0</td>\n",
       "      <td>2.0</td>\n",
       "      <td>0.0</td>\n",
       "      <td>0.0</td>\n",
       "      <td>1.0</td>\n",
       "      <td>0.0</td>\n",
       "      <td>0.0</td>\n",
       "      <td>0.0</td>\n",
       "      <td>1.0</td>\n",
       "      <td>1.0</td>\n",
       "      <td>1.0</td>\n",
       "      <td>0.0</td>\n",
       "      <td>3.0</td>\n",
       "      <td>1.0</td>\n",
       "      <td>0.0</td>\n",
       "      <td>2.0</td>\n",
       "      <td>1.0</td>\n",
       "      <td>1.0</td>\n",
       "      <td>1.0</td>\n",
       "      <td>0.0</td>\n",
       "      <td>0.0</td>\n",
       "    </tr>\n",
       "    <tr>\n",
       "      <th>Grand Cape Mount</th>\n",
       "      <td>4.0</td>\n",
       "      <td>2.0</td>\n",
       "      <td>1.0</td>\n",
       "      <td>1.0</td>\n",
       "      <td>2.0</td>\n",
       "      <td>3.0</td>\n",
       "      <td>12.0</td>\n",
       "      <td>4.0</td>\n",
       "      <td>3.0</td>\n",
       "      <td>3.0</td>\n",
       "      <td>4.0</td>\n",
       "      <td>3.0</td>\n",
       "      <td>2.0</td>\n",
       "      <td>5.0</td>\n",
       "      <td>1.0</td>\n",
       "      <td>3.0</td>\n",
       "      <td>3.0</td>\n",
       "      <td>2.0</td>\n",
       "      <td>5.0</td>\n",
       "      <td>4.0</td>\n",
       "      <td>2.0</td>\n",
       "      <td>18.0</td>\n",
       "      <td>11.0</td>\n",
       "      <td>2.0</td>\n",
       "    </tr>\n",
       "    <tr>\n",
       "      <th>Grand Gedeh</th>\n",
       "      <td>2.0</td>\n",
       "      <td>2.0</td>\n",
       "      <td>1.0</td>\n",
       "      <td>1.0</td>\n",
       "      <td>2.0</td>\n",
       "      <td>3.0</td>\n",
       "      <td>3.0</td>\n",
       "      <td>2.0</td>\n",
       "      <td>8.0</td>\n",
       "      <td>1.0</td>\n",
       "      <td>2.0</td>\n",
       "      <td>2.0</td>\n",
       "      <td>3.0</td>\n",
       "      <td>13.0</td>\n",
       "      <td>0.0</td>\n",
       "      <td>0.0</td>\n",
       "      <td>0.0</td>\n",
       "      <td>0.0</td>\n",
       "      <td>0.0</td>\n",
       "      <td>0.0</td>\n",
       "      <td>0.0</td>\n",
       "      <td>0.0</td>\n",
       "      <td>2.0</td>\n",
       "      <td>0.0</td>\n",
       "    </tr>\n",
       "    <tr>\n",
       "      <th>Grand Kru</th>\n",
       "      <td>5.0</td>\n",
       "      <td>3.0</td>\n",
       "      <td>1.0</td>\n",
       "      <td>1.0</td>\n",
       "      <td>8.0</td>\n",
       "      <td>8.0</td>\n",
       "      <td>5.0</td>\n",
       "      <td>2.0</td>\n",
       "      <td>1.0</td>\n",
       "      <td>2.0</td>\n",
       "      <td>1.0</td>\n",
       "      <td>1.0</td>\n",
       "      <td>14.0</td>\n",
       "      <td>1.0</td>\n",
       "      <td>4.0</td>\n",
       "      <td>0.0</td>\n",
       "      <td>5.0</td>\n",
       "      <td>5.0</td>\n",
       "      <td>12.0</td>\n",
       "      <td>12.0</td>\n",
       "      <td>13.0</td>\n",
       "      <td>10.0</td>\n",
       "      <td>6.0</td>\n",
       "      <td>2.0</td>\n",
       "    </tr>\n",
       "    <tr>\n",
       "      <th>Lofa</th>\n",
       "      <td>8.0</td>\n",
       "      <td>13.0</td>\n",
       "      <td>24.0</td>\n",
       "      <td>23.0</td>\n",
       "      <td>2.0</td>\n",
       "      <td>1.0</td>\n",
       "      <td>6.0</td>\n",
       "      <td>8.0</td>\n",
       "      <td>16.0</td>\n",
       "      <td>1.0</td>\n",
       "      <td>2.0</td>\n",
       "      <td>4.0</td>\n",
       "      <td>3.0</td>\n",
       "      <td>1.0</td>\n",
       "      <td>1.0</td>\n",
       "      <td>8.0</td>\n",
       "      <td>11.0</td>\n",
       "      <td>1.0</td>\n",
       "      <td>6.0</td>\n",
       "      <td>5.0</td>\n",
       "      <td>3.0</td>\n",
       "      <td>2.0</td>\n",
       "      <td>10.0</td>\n",
       "      <td>4.0</td>\n",
       "    </tr>\n",
       "    <tr>\n",
       "      <th>Margibi</th>\n",
       "      <td>1.0</td>\n",
       "      <td>2.0</td>\n",
       "      <td>0.0</td>\n",
       "      <td>0.0</td>\n",
       "      <td>1.0</td>\n",
       "      <td>1.0</td>\n",
       "      <td>1.0</td>\n",
       "      <td>1.0</td>\n",
       "      <td>9.0</td>\n",
       "      <td>1.0</td>\n",
       "      <td>0.0</td>\n",
       "      <td>0.0</td>\n",
       "      <td>2.0</td>\n",
       "      <td>0.0</td>\n",
       "      <td>3.0</td>\n",
       "      <td>3.0</td>\n",
       "      <td>0.0</td>\n",
       "      <td>0.0</td>\n",
       "      <td>7.0</td>\n",
       "      <td>3.0</td>\n",
       "      <td>3.0</td>\n",
       "      <td>9.0</td>\n",
       "      <td>3.0</td>\n",
       "      <td>1.0</td>\n",
       "    </tr>\n",
       "    <tr>\n",
       "      <th>Maryland</th>\n",
       "      <td>0.0</td>\n",
       "      <td>0.0</td>\n",
       "      <td>0.0</td>\n",
       "      <td>0.0</td>\n",
       "      <td>1.0</td>\n",
       "      <td>0.0</td>\n",
       "      <td>1.0</td>\n",
       "      <td>1.0</td>\n",
       "      <td>0.0</td>\n",
       "      <td>0.0</td>\n",
       "      <td>0.0</td>\n",
       "      <td>0.0</td>\n",
       "      <td>0.0</td>\n",
       "      <td>0.0</td>\n",
       "      <td>1.0</td>\n",
       "      <td>0.0</td>\n",
       "      <td>1.0</td>\n",
       "      <td>1.0</td>\n",
       "      <td>2.0</td>\n",
       "      <td>2.0</td>\n",
       "      <td>0.0</td>\n",
       "      <td>0.0</td>\n",
       "      <td>1.0</td>\n",
       "      <td>2.0</td>\n",
       "    </tr>\n",
       "    <tr>\n",
       "      <th>Montserrado 1</th>\n",
       "      <td>10.0</td>\n",
       "      <td>3.0</td>\n",
       "      <td>2.0</td>\n",
       "      <td>9.0</td>\n",
       "      <td>36.0</td>\n",
       "      <td>9.0</td>\n",
       "      <td>10.0</td>\n",
       "      <td>16.0</td>\n",
       "      <td>10.0</td>\n",
       "      <td>9.0</td>\n",
       "      <td>14.0</td>\n",
       "      <td>28.0</td>\n",
       "      <td>14.0</td>\n",
       "      <td>10.0</td>\n",
       "      <td>14.0</td>\n",
       "      <td>4.0</td>\n",
       "      <td>6.0</td>\n",
       "      <td>30.0</td>\n",
       "      <td>45.0</td>\n",
       "      <td>34.0</td>\n",
       "      <td>12.0</td>\n",
       "      <td>13.0</td>\n",
       "      <td>5.0</td>\n",
       "      <td>11.0</td>\n",
       "    </tr>\n",
       "    <tr>\n",
       "      <th>Montserrado 2</th>\n",
       "      <td>3.0</td>\n",
       "      <td>7.0</td>\n",
       "      <td>2.0</td>\n",
       "      <td>2.0</td>\n",
       "      <td>6.0</td>\n",
       "      <td>1.0</td>\n",
       "      <td>14.0</td>\n",
       "      <td>7.0</td>\n",
       "      <td>20.0</td>\n",
       "      <td>23.0</td>\n",
       "      <td>3.0</td>\n",
       "      <td>2.0</td>\n",
       "      <td>20.0</td>\n",
       "      <td>2.0</td>\n",
       "      <td>4.0</td>\n",
       "      <td>18.0</td>\n",
       "      <td>14.0</td>\n",
       "      <td>5.0</td>\n",
       "      <td>22.0</td>\n",
       "      <td>19.0</td>\n",
       "      <td>12.0</td>\n",
       "      <td>21.0</td>\n",
       "      <td>11.0</td>\n",
       "      <td>18.0</td>\n",
       "    </tr>\n",
       "    <tr>\n",
       "      <th>Nimba</th>\n",
       "      <td>23.0</td>\n",
       "      <td>14.0</td>\n",
       "      <td>11.0</td>\n",
       "      <td>5.0</td>\n",
       "      <td>3.0</td>\n",
       "      <td>3.0</td>\n",
       "      <td>20.0</td>\n",
       "      <td>11.0</td>\n",
       "      <td>13.0</td>\n",
       "      <td>7.0</td>\n",
       "      <td>6.0</td>\n",
       "      <td>8.0</td>\n",
       "      <td>30.0</td>\n",
       "      <td>11.0</td>\n",
       "      <td>13.0</td>\n",
       "      <td>16.0</td>\n",
       "      <td>5.0</td>\n",
       "      <td>24.0</td>\n",
       "      <td>10.0</td>\n",
       "      <td>1.0</td>\n",
       "      <td>16.0</td>\n",
       "      <td>11.0</td>\n",
       "      <td>22.0</td>\n",
       "      <td>14.0</td>\n",
       "    </tr>\n",
       "    <tr>\n",
       "      <th>River Gee</th>\n",
       "      <td>1.0</td>\n",
       "      <td>1.0</td>\n",
       "      <td>1.0</td>\n",
       "      <td>2.0</td>\n",
       "      <td>0.0</td>\n",
       "      <td>0.0</td>\n",
       "      <td>2.0</td>\n",
       "      <td>22.0</td>\n",
       "      <td>3.0</td>\n",
       "      <td>23.0</td>\n",
       "      <td>0.0</td>\n",
       "      <td>0.0</td>\n",
       "      <td>2.0</td>\n",
       "      <td>0.0</td>\n",
       "      <td>0.0</td>\n",
       "      <td>1.0</td>\n",
       "      <td>0.0</td>\n",
       "      <td>0.0</td>\n",
       "      <td>0.0</td>\n",
       "      <td>0.0</td>\n",
       "      <td>0.0</td>\n",
       "      <td>0.0</td>\n",
       "      <td>0.0</td>\n",
       "      <td>0.0</td>\n",
       "    </tr>\n",
       "    <tr>\n",
       "      <th>Rivercess</th>\n",
       "      <td>2.0</td>\n",
       "      <td>1.0</td>\n",
       "      <td>0.0</td>\n",
       "      <td>0.0</td>\n",
       "      <td>0.0</td>\n",
       "      <td>0.0</td>\n",
       "      <td>2.0</td>\n",
       "      <td>0.0</td>\n",
       "      <td>0.0</td>\n",
       "      <td>0.0</td>\n",
       "      <td>1.0</td>\n",
       "      <td>1.0</td>\n",
       "      <td>3.0</td>\n",
       "      <td>1.0</td>\n",
       "      <td>0.0</td>\n",
       "      <td>0.0</td>\n",
       "      <td>1.0</td>\n",
       "      <td>0.0</td>\n",
       "      <td>1.0</td>\n",
       "      <td>0.0</td>\n",
       "      <td>0.0</td>\n",
       "      <td>0.0</td>\n",
       "      <td>0.0</td>\n",
       "      <td>2.0</td>\n",
       "    </tr>\n",
       "    <tr>\n",
       "      <th>Sinoe</th>\n",
       "      <td>0.0</td>\n",
       "      <td>1.0</td>\n",
       "      <td>0.0</td>\n",
       "      <td>2.0</td>\n",
       "      <td>0.0</td>\n",
       "      <td>1.0</td>\n",
       "      <td>2.0</td>\n",
       "      <td>2.0</td>\n",
       "      <td>2.0</td>\n",
       "      <td>1.0</td>\n",
       "      <td>1.0</td>\n",
       "      <td>1.0</td>\n",
       "      <td>2.0</td>\n",
       "      <td>5.0</td>\n",
       "      <td>1.0</td>\n",
       "      <td>0.0</td>\n",
       "      <td>2.0</td>\n",
       "      <td>0.0</td>\n",
       "      <td>1.0</td>\n",
       "      <td>3.0</td>\n",
       "      <td>0.0</td>\n",
       "      <td>0.0</td>\n",
       "      <td>1.0</td>\n",
       "      <td>0.0</td>\n",
       "    </tr>\n",
       "  </tbody>\n",
       "</table>\n",
       "</div>"
      ],
      "text/plain": [
       "                  How many MALE students in nursery are Visually impaired ?  \\\n",
       "County                                                                        \n",
       "Bomi                                                            2.0           \n",
       "Bong                                                           13.0           \n",
       "Gbarpolu                                                        3.0           \n",
       "Grand Bassa                                                     2.0           \n",
       "Grand Cape Mount                                                4.0           \n",
       "Grand Gedeh                                                     2.0           \n",
       "Grand Kru                                                       5.0           \n",
       "Lofa                                                            8.0           \n",
       "Margibi                                                         1.0           \n",
       "Maryland                                                        0.0           \n",
       "Montserrado 1                                                  10.0           \n",
       "Montserrado 2                                                   3.0           \n",
       "Nimba                                                          23.0           \n",
       "River Gee                                                       1.0           \n",
       "Rivercess                                                       2.0           \n",
       "Sinoe                                                           0.0           \n",
       "\n",
       "                  How many female students in Nursery are Visually impaired ?  \\\n",
       "County                                                                          \n",
       "Bomi                                                            2.0             \n",
       "Bong                                                            3.0             \n",
       "Gbarpolu                                                        0.0             \n",
       "Grand Bassa                                                     0.0             \n",
       "Grand Cape Mount                                                2.0             \n",
       "Grand Gedeh                                                     2.0             \n",
       "Grand Kru                                                       3.0             \n",
       "Lofa                                                           13.0             \n",
       "Margibi                                                         2.0             \n",
       "Maryland                                                        0.0             \n",
       "Montserrado 1                                                   3.0             \n",
       "Montserrado 2                                                   7.0             \n",
       "Nimba                                                          14.0             \n",
       "River Gee                                                       1.0             \n",
       "Rivercess                                                       1.0             \n",
       "Sinoe                                                           1.0             \n",
       "\n",
       "                  How many FEMALE students in Pre-Kindergarten are Visually impaired ?  \\\n",
       "County                                                                                   \n",
       "Bomi                                                            2.0                      \n",
       "Bong                                                            1.0                      \n",
       "Gbarpolu                                                        0.0                      \n",
       "Grand Bassa                                                     0.0                      \n",
       "Grand Cape Mount                                                1.0                      \n",
       "Grand Gedeh                                                     1.0                      \n",
       "Grand Kru                                                       1.0                      \n",
       "Lofa                                                           24.0                      \n",
       "Margibi                                                         0.0                      \n",
       "Maryland                                                        0.0                      \n",
       "Montserrado 1                                                   2.0                      \n",
       "Montserrado 2                                                   2.0                      \n",
       "Nimba                                                          11.0                      \n",
       "River Gee                                                       1.0                      \n",
       "Rivercess                                                       0.0                      \n",
       "Sinoe                                                           0.0                      \n",
       "\n",
       "                  How many MALE students in pre-Kindergarten are Visually impaired ?  \\\n",
       "County                                                                                 \n",
       "Bomi                                                            0.0                    \n",
       "Bong                                                            0.0                    \n",
       "Gbarpolu                                                        0.0                    \n",
       "Grand Bassa                                                     0.0                    \n",
       "Grand Cape Mount                                                1.0                    \n",
       "Grand Gedeh                                                     1.0                    \n",
       "Grand Kru                                                       1.0                    \n",
       "Lofa                                                           23.0                    \n",
       "Margibi                                                         0.0                    \n",
       "Maryland                                                        0.0                    \n",
       "Montserrado 1                                                   9.0                    \n",
       "Montserrado 2                                                   2.0                    \n",
       "Nimba                                                           5.0                    \n",
       "River Gee                                                       2.0                    \n",
       "Rivercess                                                       0.0                    \n",
       "Sinoe                                                           2.0                    \n",
       "\n",
       "                  How many FEMALE students in kindergarten are Visually impaired ?  \\\n",
       "County                                                                               \n",
       "Bomi                                                            0.0                  \n",
       "Bong                                                            0.0                  \n",
       "Gbarpolu                                                        0.0                  \n",
       "Grand Bassa                                                     2.0                  \n",
       "Grand Cape Mount                                                2.0                  \n",
       "Grand Gedeh                                                     2.0                  \n",
       "Grand Kru                                                       8.0                  \n",
       "Lofa                                                            2.0                  \n",
       "Margibi                                                         1.0                  \n",
       "Maryland                                                        1.0                  \n",
       "Montserrado 1                                                  36.0                  \n",
       "Montserrado 2                                                   6.0                  \n",
       "Nimba                                                           3.0                  \n",
       "River Gee                                                       0.0                  \n",
       "Rivercess                                                       0.0                  \n",
       "Sinoe                                                           0.0                  \n",
       "\n",
       "                  How many MALE students in kindergarten are Visually impaired ?  \\\n",
       "County                                                                             \n",
       "Bomi                                                            1.0                \n",
       "Bong                                                            8.0                \n",
       "Gbarpolu                                                        0.0                \n",
       "Grand Bassa                                                     0.0                \n",
       "Grand Cape Mount                                                3.0                \n",
       "Grand Gedeh                                                     3.0                \n",
       "Grand Kru                                                       8.0                \n",
       "Lofa                                                            1.0                \n",
       "Margibi                                                         1.0                \n",
       "Maryland                                                        0.0                \n",
       "Montserrado 1                                                   9.0                \n",
       "Montserrado 2                                                   1.0                \n",
       "Nimba                                                           3.0                \n",
       "River Gee                                                       0.0                \n",
       "Rivercess                                                       0.0                \n",
       "Sinoe                                                           1.0                \n",
       "\n",
       "                  How many MALE students in  nursery have hearing impairment?  \\\n",
       "County                                                                          \n",
       "Bomi                                                           22.0             \n",
       "Bong                                                            7.0             \n",
       "Gbarpolu                                                        2.0             \n",
       "Grand Bassa                                                     0.0             \n",
       "Grand Cape Mount                                               12.0             \n",
       "Grand Gedeh                                                     3.0             \n",
       "Grand Kru                                                       5.0             \n",
       "Lofa                                                            6.0             \n",
       "Margibi                                                         1.0             \n",
       "Maryland                                                        1.0             \n",
       "Montserrado 1                                                  10.0             \n",
       "Montserrado 2                                                  14.0             \n",
       "Nimba                                                          20.0             \n",
       "River Gee                                                       2.0             \n",
       "Rivercess                                                       2.0             \n",
       "Sinoe                                                           2.0             \n",
       "\n",
       "                  How many FEMALE students in nursery have hearing impairment?  \\\n",
       "County                                                                           \n",
       "Bomi                                                            9.0              \n",
       "Bong                                                            3.0              \n",
       "Gbarpolu                                                        0.0              \n",
       "Grand Bassa                                                     1.0              \n",
       "Grand Cape Mount                                                4.0              \n",
       "Grand Gedeh                                                     2.0              \n",
       "Grand Kru                                                       2.0              \n",
       "Lofa                                                            8.0              \n",
       "Margibi                                                         1.0              \n",
       "Maryland                                                        1.0              \n",
       "Montserrado 1                                                  16.0              \n",
       "Montserrado 2                                                   7.0              \n",
       "Nimba                                                          11.0              \n",
       "River Gee                                                      22.0              \n",
       "Rivercess                                                       0.0              \n",
       "Sinoe                                                           2.0              \n",
       "\n",
       "                  How many FEMALE students in pre- kindergarten are hearing impairment?  \\\n",
       "County                                                                                    \n",
       "Bomi                                                            4.0                       \n",
       "Bong                                                            6.0                       \n",
       "Gbarpolu                                                        0.0                       \n",
       "Grand Bassa                                                     0.0                       \n",
       "Grand Cape Mount                                                3.0                       \n",
       "Grand Gedeh                                                     8.0                       \n",
       "Grand Kru                                                       1.0                       \n",
       "Lofa                                                           16.0                       \n",
       "Margibi                                                         9.0                       \n",
       "Maryland                                                        0.0                       \n",
       "Montserrado 1                                                  10.0                       \n",
       "Montserrado 2                                                  20.0                       \n",
       "Nimba                                                          13.0                       \n",
       "River Gee                                                       3.0                       \n",
       "Rivercess                                                       0.0                       \n",
       "Sinoe                                                           2.0                       \n",
       "\n",
       "                  How many MALE students in pre-kindergarten have hearing impairment?  \\\n",
       "County                                                                                  \n",
       "Bomi                                                            5.0                     \n",
       "Bong                                                            8.0                     \n",
       "Gbarpolu                                                        0.0                     \n",
       "Grand Bassa                                                     0.0                     \n",
       "Grand Cape Mount                                                3.0                     \n",
       "Grand Gedeh                                                     1.0                     \n",
       "Grand Kru                                                       2.0                     \n",
       "Lofa                                                            1.0                     \n",
       "Margibi                                                         1.0                     \n",
       "Maryland                                                        0.0                     \n",
       "Montserrado 1                                                   9.0                     \n",
       "Montserrado 2                                                  23.0                     \n",
       "Nimba                                                           7.0                     \n",
       "River Gee                                                      23.0                     \n",
       "Rivercess                                                       0.0                     \n",
       "Sinoe                                                           1.0                     \n",
       "\n",
       "                  How many MALE students in kindergarten have hearing impairment?  \\\n",
       "County                                                                              \n",
       "Bomi                                                            7.0                 \n",
       "Bong                                                           13.0                 \n",
       "Gbarpolu                                                        0.0                 \n",
       "Grand Bassa                                                     0.0                 \n",
       "Grand Cape Mount                                                4.0                 \n",
       "Grand Gedeh                                                     2.0                 \n",
       "Grand Kru                                                       1.0                 \n",
       "Lofa                                                            2.0                 \n",
       "Margibi                                                         0.0                 \n",
       "Maryland                                                        0.0                 \n",
       "Montserrado 1                                                  14.0                 \n",
       "Montserrado 2                                                   3.0                 \n",
       "Nimba                                                           6.0                 \n",
       "River Gee                                                       0.0                 \n",
       "Rivercess                                                       1.0                 \n",
       "Sinoe                                                           1.0                 \n",
       "\n",
       "                  How many FEMALE students in  Kindergarten have hearing impairment?  \\\n",
       "County                                                                                 \n",
       "Bomi                                                            3.0                    \n",
       "Bong                                                            6.0                    \n",
       "Gbarpolu                                                        0.0                    \n",
       "Grand Bassa                                                     1.0                    \n",
       "Grand Cape Mount                                                3.0                    \n",
       "Grand Gedeh                                                     2.0                    \n",
       "Grand Kru                                                       1.0                    \n",
       "Lofa                                                            4.0                    \n",
       "Margibi                                                         0.0                    \n",
       "Maryland                                                        0.0                    \n",
       "Montserrado 1                                                  28.0                    \n",
       "Montserrado 2                                                   2.0                    \n",
       "Nimba                                                           8.0                    \n",
       "River Gee                                                       0.0                    \n",
       "Rivercess                                                       1.0                    \n",
       "Sinoe                                                           1.0                    \n",
       "\n",
       "                  How many MALE students in Nursery have other physical disabilities?  \\\n",
       "County                                                                                  \n",
       "Bomi                                                            3.0                     \n",
       "Bong                                                            7.0                     \n",
       "Gbarpolu                                                        3.0                     \n",
       "Grand Bassa                                                     1.0                     \n",
       "Grand Cape Mount                                                2.0                     \n",
       "Grand Gedeh                                                     3.0                     \n",
       "Grand Kru                                                      14.0                     \n",
       "Lofa                                                            3.0                     \n",
       "Margibi                                                         2.0                     \n",
       "Maryland                                                        0.0                     \n",
       "Montserrado 1                                                  14.0                     \n",
       "Montserrado 2                                                  20.0                     \n",
       "Nimba                                                          30.0                     \n",
       "River Gee                                                       2.0                     \n",
       "Rivercess                                                       3.0                     \n",
       "Sinoe                                                           2.0                     \n",
       "\n",
       "                  How many FEMALE students in Nursery have other physical disabilities ?  \\\n",
       "County                                                                                     \n",
       "Bomi                                                            0.0                        \n",
       "Bong                                                            5.0                        \n",
       "Gbarpolu                                                        2.0                        \n",
       "Grand Bassa                                                     1.0                        \n",
       "Grand Cape Mount                                                5.0                        \n",
       "Grand Gedeh                                                    13.0                        \n",
       "Grand Kru                                                       1.0                        \n",
       "Lofa                                                            1.0                        \n",
       "Margibi                                                         0.0                        \n",
       "Maryland                                                        0.0                        \n",
       "Montserrado 1                                                  10.0                        \n",
       "Montserrado 2                                                   2.0                        \n",
       "Nimba                                                          11.0                        \n",
       "River Gee                                                       0.0                        \n",
       "Rivercess                                                       1.0                        \n",
       "Sinoe                                                           5.0                        \n",
       "\n",
       "                  How many FEMALE students in  Pre-Kindergarten have other physical disabilities?  \\\n",
       "County                                                                                              \n",
       "Bomi                                                            0.0                                 \n",
       "Bong                                                            0.0                                 \n",
       "Gbarpolu                                                        0.0                                 \n",
       "Grand Bassa                                                     0.0                                 \n",
       "Grand Cape Mount                                                1.0                                 \n",
       "Grand Gedeh                                                     0.0                                 \n",
       "Grand Kru                                                       4.0                                 \n",
       "Lofa                                                            1.0                                 \n",
       "Margibi                                                         3.0                                 \n",
       "Maryland                                                        1.0                                 \n",
       "Montserrado 1                                                  14.0                                 \n",
       "Montserrado 2                                                   4.0                                 \n",
       "Nimba                                                          13.0                                 \n",
       "River Gee                                                       0.0                                 \n",
       "Rivercess                                                       0.0                                 \n",
       "Sinoe                                                           1.0                                 \n",
       "\n",
       "                  How many MALE students in  Pre-Kindergarten have other physical disabilities?  \\\n",
       "County                                                                                            \n",
       "Bomi                                                            1.0                               \n",
       "Bong                                                            7.0                               \n",
       "Gbarpolu                                                        0.0                               \n",
       "Grand Bassa                                                     3.0                               \n",
       "Grand Cape Mount                                                3.0                               \n",
       "Grand Gedeh                                                     0.0                               \n",
       "Grand Kru                                                       0.0                               \n",
       "Lofa                                                            8.0                               \n",
       "Margibi                                                         3.0                               \n",
       "Maryland                                                        0.0                               \n",
       "Montserrado 1                                                   4.0                               \n",
       "Montserrado 2                                                  18.0                               \n",
       "Nimba                                                          16.0                               \n",
       "River Gee                                                       1.0                               \n",
       "Rivercess                                                       0.0                               \n",
       "Sinoe                                                           0.0                               \n",
       "\n",
       "                  How many MALE students in  Kindergarten have other physical disabilities?  \\\n",
       "County                                                                                        \n",
       "Bomi                                                            2.0                           \n",
       "Bong                                                            0.0                           \n",
       "Gbarpolu                                                        0.0                           \n",
       "Grand Bassa                                                     1.0                           \n",
       "Grand Cape Mount                                                3.0                           \n",
       "Grand Gedeh                                                     0.0                           \n",
       "Grand Kru                                                       5.0                           \n",
       "Lofa                                                           11.0                           \n",
       "Margibi                                                         0.0                           \n",
       "Maryland                                                        1.0                           \n",
       "Montserrado 1                                                   6.0                           \n",
       "Montserrado 2                                                  14.0                           \n",
       "Nimba                                                           5.0                           \n",
       "River Gee                                                       0.0                           \n",
       "Rivercess                                                       1.0                           \n",
       "Sinoe                                                           2.0                           \n",
       "\n",
       "                  How many FEMALE students in  Kindergarten have other physical disabilities?  \\\n",
       "County                                                                                          \n",
       "Bomi                                                            0.0                             \n",
       "Bong                                                            0.0                             \n",
       "Gbarpolu                                                        0.0                             \n",
       "Grand Bassa                                                     0.0                             \n",
       "Grand Cape Mount                                                2.0                             \n",
       "Grand Gedeh                                                     0.0                             \n",
       "Grand Kru                                                       5.0                             \n",
       "Lofa                                                            1.0                             \n",
       "Margibi                                                         0.0                             \n",
       "Maryland                                                        1.0                             \n",
       "Montserrado 1                                                  30.0                             \n",
       "Montserrado 2                                                   5.0                             \n",
       "Nimba                                                          24.0                             \n",
       "River Gee                                                       0.0                             \n",
       "Rivercess                                                       0.0                             \n",
       "Sinoe                                                           0.0                             \n",
       "\n",
       "                  How many MALE students in Nursery have other mental disability or learning difficulty?  \\\n",
       "County                                                                                                     \n",
       "Bomi                                                            5.0                                        \n",
       "Bong                                                            5.0                                        \n",
       "Gbarpolu                                                        1.0                                        \n",
       "Grand Bassa                                                     2.0                                        \n",
       "Grand Cape Mount                                                5.0                                        \n",
       "Grand Gedeh                                                     0.0                                        \n",
       "Grand Kru                                                      12.0                                        \n",
       "Lofa                                                            6.0                                        \n",
       "Margibi                                                         7.0                                        \n",
       "Maryland                                                        2.0                                        \n",
       "Montserrado 1                                                  45.0                                        \n",
       "Montserrado 2                                                  22.0                                        \n",
       "Nimba                                                          10.0                                        \n",
       "River Gee                                                       0.0                                        \n",
       "Rivercess                                                       1.0                                        \n",
       "Sinoe                                                           1.0                                        \n",
       "\n",
       "                  How many FEMALE students in Nursery have other mental disability or learning difficulty?  \\\n",
       "County                                                                                                       \n",
       "Bomi                                                            6.0                                          \n",
       "Bong                                                            1.0                                          \n",
       "Gbarpolu                                                        2.0                                          \n",
       "Grand Bassa                                                     1.0                                          \n",
       "Grand Cape Mount                                                4.0                                          \n",
       "Grand Gedeh                                                     0.0                                          \n",
       "Grand Kru                                                      12.0                                          \n",
       "Lofa                                                            5.0                                          \n",
       "Margibi                                                         3.0                                          \n",
       "Maryland                                                        2.0                                          \n",
       "Montserrado 1                                                  34.0                                          \n",
       "Montserrado 2                                                  19.0                                          \n",
       "Nimba                                                           1.0                                          \n",
       "River Gee                                                       0.0                                          \n",
       "Rivercess                                                       0.0                                          \n",
       "Sinoe                                                           3.0                                          \n",
       "\n",
       "                  How many MALE students in  Pre-Kindergarten have other mental disability or learning difficulty?  \\\n",
       "County                                                                                                               \n",
       "Bomi                                                            3.0                                                  \n",
       "Bong                                                            2.0                                                  \n",
       "Gbarpolu                                                        1.0                                                  \n",
       "Grand Bassa                                                     1.0                                                  \n",
       "Grand Cape Mount                                                2.0                                                  \n",
       "Grand Gedeh                                                     0.0                                                  \n",
       "Grand Kru                                                      13.0                                                  \n",
       "Lofa                                                            3.0                                                  \n",
       "Margibi                                                         3.0                                                  \n",
       "Maryland                                                        0.0                                                  \n",
       "Montserrado 1                                                  12.0                                                  \n",
       "Montserrado 2                                                  12.0                                                  \n",
       "Nimba                                                          16.0                                                  \n",
       "River Gee                                                       0.0                                                  \n",
       "Rivercess                                                       0.0                                                  \n",
       "Sinoe                                                           0.0                                                  \n",
       "\n",
       "                  How many FEMALE students in  Pre-Kindergarten have other mental disability or learning difficulty?  \\\n",
       "County                                                                                                                 \n",
       "Bomi                                                            4.0                                                    \n",
       "Bong                                                            1.0                                                    \n",
       "Gbarpolu                                                        0.0                                                    \n",
       "Grand Bassa                                                     1.0                                                    \n",
       "Grand Cape Mount                                               18.0                                                    \n",
       "Grand Gedeh                                                     0.0                                                    \n",
       "Grand Kru                                                      10.0                                                    \n",
       "Lofa                                                            2.0                                                    \n",
       "Margibi                                                         9.0                                                    \n",
       "Maryland                                                        0.0                                                    \n",
       "Montserrado 1                                                  13.0                                                    \n",
       "Montserrado 2                                                  21.0                                                    \n",
       "Nimba                                                          11.0                                                    \n",
       "River Gee                                                       0.0                                                    \n",
       "Rivercess                                                       0.0                                                    \n",
       "Sinoe                                                           0.0                                                    \n",
       "\n",
       "                  How many MALE students in  Kindergarten have other mental disability or learning difficulty?  \\\n",
       "County                                                                                                           \n",
       "Bomi                                                            4.0                                              \n",
       "Bong                                                            1.0                                              \n",
       "Gbarpolu                                                        0.0                                              \n",
       "Grand Bassa                                                     0.0                                              \n",
       "Grand Cape Mount                                               11.0                                              \n",
       "Grand Gedeh                                                     2.0                                              \n",
       "Grand Kru                                                       6.0                                              \n",
       "Lofa                                                           10.0                                              \n",
       "Margibi                                                         3.0                                              \n",
       "Maryland                                                        1.0                                              \n",
       "Montserrado 1                                                   5.0                                              \n",
       "Montserrado 2                                                  11.0                                              \n",
       "Nimba                                                          22.0                                              \n",
       "River Gee                                                       0.0                                              \n",
       "Rivercess                                                       0.0                                              \n",
       "Sinoe                                                           1.0                                              \n",
       "\n",
       "                  How many FEMALE students in  Kindergarten have other mental disability or learning difficulty?  \n",
       "County                                                                                                            \n",
       "Bomi                                                            5.0                                               \n",
       "Bong                                                            1.0                                               \n",
       "Gbarpolu                                                        1.0                                               \n",
       "Grand Bassa                                                     0.0                                               \n",
       "Grand Cape Mount                                                2.0                                               \n",
       "Grand Gedeh                                                     0.0                                               \n",
       "Grand Kru                                                       2.0                                               \n",
       "Lofa                                                            4.0                                               \n",
       "Margibi                                                         1.0                                               \n",
       "Maryland                                                        2.0                                               \n",
       "Montserrado 1                                                  11.0                                               \n",
       "Montserrado 2                                                  18.0                                               \n",
       "Nimba                                                          14.0                                               \n",
       "River Gee                                                       0.0                                               \n",
       "Rivercess                                                       2.0                                               \n",
       "Sinoe                                                           0.0                                               "
      ]
     },
     "execution_count": 119,
     "metadata": {},
     "output_type": "execute_result"
    }
   ],
   "source": [
    "dd = kece_cdd.groupby('County').sum()\n",
    "dd"
   ]
  },
  {
   "cell_type": "code",
   "execution_count": 120,
   "id": "ba194413-4fb2-4bd9-9be3-664e0d938196",
   "metadata": {},
   "outputs": [],
   "source": [
    "#k_od = kece_cdd[(kece_cdd['district']== 'District in Sinoe') & (kece_cdd['count']== 'Greenville')].groupby('Type of school').sum()#.sum(1)"
   ]
  },
  {
   "cell_type": "code",
   "execution_count": 121,
   "id": "8e8c18ea-7f2c-4c30-94d2-3468a4726a9b",
   "metadata": {},
   "outputs": [
    {
     "data": {
      "text/plain": [
       "515.0"
      ]
     },
     "execution_count": 121,
     "metadata": {},
     "output_type": "execute_result"
    }
   ],
   "source": [
    "dd.iloc[:,:6].sum(1).sum() \n",
    "dd.iloc[:,6:12].sum(1).sum()\n",
    "dd.iloc[:,12:18].sum(1).sum()  \n",
    "dd.iloc[:,18:].sum(1).sum()"
   ]
  },
  {
   "cell_type": "code",
   "execution_count": 759,
   "id": "a3402fa4-a4af-4385-b83e-5f01403dd769",
   "metadata": {},
   "outputs": [
    {
     "data": {
      "text/html": [
       "<div>\n",
       "<style scoped>\n",
       "    .dataframe tbody tr th:only-of-type {\n",
       "        vertical-align: middle;\n",
       "    }\n",
       "\n",
       "    .dataframe tbody tr th {\n",
       "        vertical-align: top;\n",
       "    }\n",
       "\n",
       "    .dataframe thead th {\n",
       "        text-align: right;\n",
       "    }\n",
       "</style>\n",
       "<table border=\"1\" class=\"dataframe\">\n",
       "  <thead>\n",
       "    <tr style=\"text-align: right;\">\n",
       "      <th></th>\n",
       "      <th>How many MALE students in Nursery have other mental disability or learning difficulty?</th>\n",
       "      <th>How many FEMALE students in Nursery have other mental disability or learning difficulty?</th>\n",
       "      <th>How many MALE students in  Pre-Kindergarten have other mental disability or learning difficulty?</th>\n",
       "      <th>How many FEMALE students in  Pre-Kindergarten have other mental disability or learning difficulty?</th>\n",
       "      <th>How many MALE students in  Kindergarten have other mental disability or learning difficulty?</th>\n",
       "      <th>How many FEMALE students in  Kindergarten have other mental disability or learning difficulty?</th>\n",
       "      <th>district</th>\n",
       "      <th>count</th>\n",
       "    </tr>\n",
       "  </thead>\n",
       "  <tbody>\n",
       "    <tr>\n",
       "      <th>0</th>\n",
       "      <td>NaN</td>\n",
       "      <td>NaN</td>\n",
       "      <td>NaN</td>\n",
       "      <td>NaN</td>\n",
       "      <td>NaN</td>\n",
       "      <td>NaN</td>\n",
       "      <td>County</td>\n",
       "      <td>Rivercess</td>\n",
       "    </tr>\n",
       "    <tr>\n",
       "      <th>1</th>\n",
       "      <td>0.0</td>\n",
       "      <td>0.0</td>\n",
       "      <td>0.0</td>\n",
       "      <td>0.0</td>\n",
       "      <td>0.0</td>\n",
       "      <td>0.0</td>\n",
       "      <td>County</td>\n",
       "      <td>Nimba</td>\n",
       "    </tr>\n",
       "    <tr>\n",
       "      <th>2</th>\n",
       "      <td>NaN</td>\n",
       "      <td>NaN</td>\n",
       "      <td>NaN</td>\n",
       "      <td>NaN</td>\n",
       "      <td>NaN</td>\n",
       "      <td>NaN</td>\n",
       "      <td>County</td>\n",
       "      <td>River Gee</td>\n",
       "    </tr>\n",
       "    <tr>\n",
       "      <th>3</th>\n",
       "      <td>NaN</td>\n",
       "      <td>NaN</td>\n",
       "      <td>NaN</td>\n",
       "      <td>NaN</td>\n",
       "      <td>NaN</td>\n",
       "      <td>NaN</td>\n",
       "      <td>County</td>\n",
       "      <td>Montserrado 1</td>\n",
       "    </tr>\n",
       "    <tr>\n",
       "      <th>4</th>\n",
       "      <td>0.0</td>\n",
       "      <td>0.0</td>\n",
       "      <td>0.0</td>\n",
       "      <td>0.0</td>\n",
       "      <td>0.0</td>\n",
       "      <td>0.0</td>\n",
       "      <td>County</td>\n",
       "      <td>Montserrado 1</td>\n",
       "    </tr>\n",
       "    <tr>\n",
       "      <th>...</th>\n",
       "      <td>...</td>\n",
       "      <td>...</td>\n",
       "      <td>...</td>\n",
       "      <td>...</td>\n",
       "      <td>...</td>\n",
       "      <td>...</td>\n",
       "      <td>...</td>\n",
       "      <td>...</td>\n",
       "    </tr>\n",
       "    <tr>\n",
       "      <th>70817</th>\n",
       "      <td>0.0</td>\n",
       "      <td>0.0</td>\n",
       "      <td>0.0</td>\n",
       "      <td>0.0</td>\n",
       "      <td>0.0</td>\n",
       "      <td>0.0</td>\n",
       "      <td>Districts in River Cess</td>\n",
       "      <td>NaN</td>\n",
       "    </tr>\n",
       "    <tr>\n",
       "      <th>70818</th>\n",
       "      <td>0.0</td>\n",
       "      <td>0.0</td>\n",
       "      <td>0.0</td>\n",
       "      <td>0.0</td>\n",
       "      <td>0.0</td>\n",
       "      <td>0.0</td>\n",
       "      <td>Districts in River Cess</td>\n",
       "      <td>NaN</td>\n",
       "    </tr>\n",
       "    <tr>\n",
       "      <th>70819</th>\n",
       "      <td>NaN</td>\n",
       "      <td>NaN</td>\n",
       "      <td>NaN</td>\n",
       "      <td>NaN</td>\n",
       "      <td>NaN</td>\n",
       "      <td>NaN</td>\n",
       "      <td>Districts in River Cess</td>\n",
       "      <td>NaN</td>\n",
       "    </tr>\n",
       "    <tr>\n",
       "      <th>70820</th>\n",
       "      <td>NaN</td>\n",
       "      <td>NaN</td>\n",
       "      <td>NaN</td>\n",
       "      <td>NaN</td>\n",
       "      <td>NaN</td>\n",
       "      <td>NaN</td>\n",
       "      <td>Districts in River Cess</td>\n",
       "      <td>NaN</td>\n",
       "    </tr>\n",
       "    <tr>\n",
       "      <th>70821</th>\n",
       "      <td>0.0</td>\n",
       "      <td>0.0</td>\n",
       "      <td>0.0</td>\n",
       "      <td>0.0</td>\n",
       "      <td>0.0</td>\n",
       "      <td>0.0</td>\n",
       "      <td>Districts in River Cess</td>\n",
       "      <td>NaN</td>\n",
       "    </tr>\n",
       "  </tbody>\n",
       "</table>\n",
       "<p>70822 rows × 8 columns</p>\n",
       "</div>"
      ],
      "text/plain": [
       "       How many MALE students in Nursery have other mental disability or learning difficulty?  \\\n",
       "0                                                    NaN                                        \n",
       "1                                                    0.0                                        \n",
       "2                                                    NaN                                        \n",
       "3                                                    NaN                                        \n",
       "4                                                    0.0                                        \n",
       "...                                                  ...                                        \n",
       "70817                                                0.0                                        \n",
       "70818                                                0.0                                        \n",
       "70819                                                NaN                                        \n",
       "70820                                                NaN                                        \n",
       "70821                                                0.0                                        \n",
       "\n",
       "       How many FEMALE students in Nursery have other mental disability or learning difficulty?  \\\n",
       "0                                                    NaN                                          \n",
       "1                                                    0.0                                          \n",
       "2                                                    NaN                                          \n",
       "3                                                    NaN                                          \n",
       "4                                                    0.0                                          \n",
       "...                                                  ...                                          \n",
       "70817                                                0.0                                          \n",
       "70818                                                0.0                                          \n",
       "70819                                                NaN                                          \n",
       "70820                                                NaN                                          \n",
       "70821                                                0.0                                          \n",
       "\n",
       "       How many MALE students in  Pre-Kindergarten have other mental disability or learning difficulty?  \\\n",
       "0                                                    NaN                                                  \n",
       "1                                                    0.0                                                  \n",
       "2                                                    NaN                                                  \n",
       "3                                                    NaN                                                  \n",
       "4                                                    0.0                                                  \n",
       "...                                                  ...                                                  \n",
       "70817                                                0.0                                                  \n",
       "70818                                                0.0                                                  \n",
       "70819                                                NaN                                                  \n",
       "70820                                                NaN                                                  \n",
       "70821                                                0.0                                                  \n",
       "\n",
       "       How many FEMALE students in  Pre-Kindergarten have other mental disability or learning difficulty?  \\\n",
       "0                                                    NaN                                                    \n",
       "1                                                    0.0                                                    \n",
       "2                                                    NaN                                                    \n",
       "3                                                    NaN                                                    \n",
       "4                                                    0.0                                                    \n",
       "...                                                  ...                                                    \n",
       "70817                                                0.0                                                    \n",
       "70818                                                0.0                                                    \n",
       "70819                                                NaN                                                    \n",
       "70820                                                NaN                                                    \n",
       "70821                                                0.0                                                    \n",
       "\n",
       "       How many MALE students in  Kindergarten have other mental disability or learning difficulty?  \\\n",
       "0                                                    NaN                                              \n",
       "1                                                    0.0                                              \n",
       "2                                                    NaN                                              \n",
       "3                                                    NaN                                              \n",
       "4                                                    0.0                                              \n",
       "...                                                  ...                                              \n",
       "70817                                                0.0                                              \n",
       "70818                                                0.0                                              \n",
       "70819                                                NaN                                              \n",
       "70820                                                NaN                                              \n",
       "70821                                                0.0                                              \n",
       "\n",
       "       How many FEMALE students in  Kindergarten have other mental disability or learning difficulty?  \\\n",
       "0                                                    NaN                                                \n",
       "1                                                    0.0                                                \n",
       "2                                                    NaN                                                \n",
       "3                                                    NaN                                                \n",
       "4                                                    0.0                                                \n",
       "...                                                  ...                                                \n",
       "70817                                                0.0                                                \n",
       "70818                                                0.0                                                \n",
       "70819                                                NaN                                                \n",
       "70820                                                NaN                                                \n",
       "70821                                                0.0                                                \n",
       "\n",
       "                      district          count  \n",
       "0                       County      Rivercess  \n",
       "1                       County          Nimba  \n",
       "2                       County      River Gee  \n",
       "3                       County  Montserrado 1  \n",
       "4                       County  Montserrado 1  \n",
       "...                        ...            ...  \n",
       "70817  Districts in River Cess            NaN  \n",
       "70818  Districts in River Cess            NaN  \n",
       "70819  Districts in River Cess            NaN  \n",
       "70820  Districts in River Cess            NaN  \n",
       "70821  Districts in River Cess            NaN  \n",
       "\n",
       "[70822 rows x 8 columns]"
      ]
     },
     "execution_count": 759,
     "metadata": {},
     "output_type": "execute_result"
    }
   ],
   "source": [
    "kece_meltdd.iloc[:,18:]#.sum(1).sum()"
   ]
  },
  {
   "cell_type": "code",
   "execution_count": null,
   "id": "630c4fc6-49ab-4397-bdaa-7343e990d340",
   "metadata": {},
   "outputs": [],
   "source": []
  },
  {
   "cell_type": "code",
   "execution_count": null,
   "id": "999ce29d-c492-4679-b2e1-aada651f664a",
   "metadata": {},
   "outputs": [],
   "source": []
  },
  {
   "cell_type": "code",
   "execution_count": null,
   "id": "658045f4-a651-4f0d-9afa-25889f565a77",
   "metadata": {},
   "outputs": [],
   "source": []
  },
  {
   "cell_type": "code",
   "execution_count": null,
   "id": "7b8bc1dc-31a5-4d39-ae58-778896175d9d",
   "metadata": {},
   "outputs": [],
   "source": []
  },
  {
   "cell_type": "markdown",
   "id": "70883fbe-29e7-4521-9f81-64c64c9e19df",
   "metadata": {},
   "source": [
    "# Table 12: ECE Disability Enrollment by County"
   ]
  },
  {
   "cell_type": "code",
   "execution_count": 865,
   "id": "7334943a-d167-4533-b5d7-8c1f3f48a033",
   "metadata": {},
   "outputs": [
    {
     "data": {
      "text/html": [
       "<div>\n",
       "<style scoped>\n",
       "    .dataframe tbody tr th:only-of-type {\n",
       "        vertical-align: middle;\n",
       "    }\n",
       "\n",
       "    .dataframe tbody tr th {\n",
       "        vertical-align: top;\n",
       "    }\n",
       "\n",
       "    .dataframe thead th {\n",
       "        text-align: right;\n",
       "    }\n",
       "</style>\n",
       "<table border=\"1\" class=\"dataframe\">\n",
       "  <thead>\n",
       "    <tr style=\"text-align: right;\">\n",
       "      <th></th>\n",
       "      <th>How many MALE students in nursery are Visually impaired ?</th>\n",
       "      <th>How many female students in Nursery are Visually impaired ?</th>\n",
       "      <th>How many FEMALE students in Pre-Kindergarten are Visually impaired ?</th>\n",
       "      <th>How many MALE students in pre-Kindergarten are Visually impaired ?</th>\n",
       "      <th>How many FEMALE students in kindergarten are Visually impaired ?</th>\n",
       "      <th>How many MALE students in kindergarten are Visually impaired ?</th>\n",
       "      <th>How many MALE students in  nursery have hearing impairment?</th>\n",
       "      <th>How many FEMALE students in nursery have hearing impairment?</th>\n",
       "      <th>How many FEMALE students in pre- kindergarten are hearing impairment?</th>\n",
       "      <th>How many MALE students in pre-kindergarten have hearing impairment?</th>\n",
       "      <th>How many MALE students in kindergarten have hearing impairment?</th>\n",
       "      <th>How many FEMALE students in  Kindergarten have hearing impairment?</th>\n",
       "      <th>How many MALE students in Nursery have other physical disabilities?</th>\n",
       "      <th>How many FEMALE students in Nursery have other physical disabilities ?</th>\n",
       "      <th>How many FEMALE students in  Pre-Kindergarten have other physical disabilities?</th>\n",
       "      <th>How many MALE students in  Pre-Kindergarten have other physical disabilities?</th>\n",
       "      <th>How many MALE students in  Kindergarten have other physical disabilities?</th>\n",
       "      <th>How many FEMALE students in  Kindergarten have other physical disabilities?</th>\n",
       "      <th>How many MALE students in Nursery have other mental disability or learning difficulty?</th>\n",
       "      <th>How many FEMALE students in Nursery have other mental disability or learning difficulty?</th>\n",
       "      <th>How many MALE students in  Pre-Kindergarten have other mental disability or learning difficulty?</th>\n",
       "      <th>How many FEMALE students in  Pre-Kindergarten have other mental disability or learning difficulty?</th>\n",
       "      <th>How many MALE students in  Kindergarten have other mental disability or learning difficulty?</th>\n",
       "      <th>How many FEMALE students in  Kindergarten have other mental disability or learning difficulty?</th>\n",
       "    </tr>\n",
       "    <tr>\n",
       "      <th>County</th>\n",
       "      <th></th>\n",
       "      <th></th>\n",
       "      <th></th>\n",
       "      <th></th>\n",
       "      <th></th>\n",
       "      <th></th>\n",
       "      <th></th>\n",
       "      <th></th>\n",
       "      <th></th>\n",
       "      <th></th>\n",
       "      <th></th>\n",
       "      <th></th>\n",
       "      <th></th>\n",
       "      <th></th>\n",
       "      <th></th>\n",
       "      <th></th>\n",
       "      <th></th>\n",
       "      <th></th>\n",
       "      <th></th>\n",
       "      <th></th>\n",
       "      <th></th>\n",
       "      <th></th>\n",
       "      <th></th>\n",
       "      <th></th>\n",
       "    </tr>\n",
       "  </thead>\n",
       "  <tbody>\n",
       "    <tr>\n",
       "      <th>Bomi</th>\n",
       "      <td>2.0</td>\n",
       "      <td>2.0</td>\n",
       "      <td>2.0</td>\n",
       "      <td>0.0</td>\n",
       "      <td>0.0</td>\n",
       "      <td>1.0</td>\n",
       "      <td>22.0</td>\n",
       "      <td>9.0</td>\n",
       "      <td>4.0</td>\n",
       "      <td>5.0</td>\n",
       "      <td>7.0</td>\n",
       "      <td>3.0</td>\n",
       "      <td>3.0</td>\n",
       "      <td>0.0</td>\n",
       "      <td>0.0</td>\n",
       "      <td>1.0</td>\n",
       "      <td>2.0</td>\n",
       "      <td>0.0</td>\n",
       "      <td>5.0</td>\n",
       "      <td>6.0</td>\n",
       "      <td>3.0</td>\n",
       "      <td>4.0</td>\n",
       "      <td>4.0</td>\n",
       "      <td>5.0</td>\n",
       "    </tr>\n",
       "    <tr>\n",
       "      <th>Bong</th>\n",
       "      <td>13.0</td>\n",
       "      <td>3.0</td>\n",
       "      <td>1.0</td>\n",
       "      <td>0.0</td>\n",
       "      <td>0.0</td>\n",
       "      <td>8.0</td>\n",
       "      <td>7.0</td>\n",
       "      <td>3.0</td>\n",
       "      <td>6.0</td>\n",
       "      <td>8.0</td>\n",
       "      <td>13.0</td>\n",
       "      <td>6.0</td>\n",
       "      <td>7.0</td>\n",
       "      <td>5.0</td>\n",
       "      <td>0.0</td>\n",
       "      <td>7.0</td>\n",
       "      <td>0.0</td>\n",
       "      <td>0.0</td>\n",
       "      <td>5.0</td>\n",
       "      <td>1.0</td>\n",
       "      <td>2.0</td>\n",
       "      <td>1.0</td>\n",
       "      <td>1.0</td>\n",
       "      <td>1.0</td>\n",
       "    </tr>\n",
       "    <tr>\n",
       "      <th>Gbarpolu</th>\n",
       "      <td>3.0</td>\n",
       "      <td>0.0</td>\n",
       "      <td>0.0</td>\n",
       "      <td>0.0</td>\n",
       "      <td>0.0</td>\n",
       "      <td>0.0</td>\n",
       "      <td>2.0</td>\n",
       "      <td>0.0</td>\n",
       "      <td>0.0</td>\n",
       "      <td>0.0</td>\n",
       "      <td>0.0</td>\n",
       "      <td>0.0</td>\n",
       "      <td>3.0</td>\n",
       "      <td>2.0</td>\n",
       "      <td>0.0</td>\n",
       "      <td>0.0</td>\n",
       "      <td>0.0</td>\n",
       "      <td>0.0</td>\n",
       "      <td>1.0</td>\n",
       "      <td>2.0</td>\n",
       "      <td>1.0</td>\n",
       "      <td>0.0</td>\n",
       "      <td>0.0</td>\n",
       "      <td>1.0</td>\n",
       "    </tr>\n",
       "    <tr>\n",
       "      <th>Grand Bassa</th>\n",
       "      <td>2.0</td>\n",
       "      <td>0.0</td>\n",
       "      <td>0.0</td>\n",
       "      <td>0.0</td>\n",
       "      <td>2.0</td>\n",
       "      <td>0.0</td>\n",
       "      <td>0.0</td>\n",
       "      <td>1.0</td>\n",
       "      <td>0.0</td>\n",
       "      <td>0.0</td>\n",
       "      <td>0.0</td>\n",
       "      <td>1.0</td>\n",
       "      <td>1.0</td>\n",
       "      <td>1.0</td>\n",
       "      <td>0.0</td>\n",
       "      <td>3.0</td>\n",
       "      <td>1.0</td>\n",
       "      <td>0.0</td>\n",
       "      <td>2.0</td>\n",
       "      <td>1.0</td>\n",
       "      <td>1.0</td>\n",
       "      <td>1.0</td>\n",
       "      <td>0.0</td>\n",
       "      <td>0.0</td>\n",
       "    </tr>\n",
       "    <tr>\n",
       "      <th>Grand Cape Mount</th>\n",
       "      <td>4.0</td>\n",
       "      <td>2.0</td>\n",
       "      <td>1.0</td>\n",
       "      <td>1.0</td>\n",
       "      <td>2.0</td>\n",
       "      <td>3.0</td>\n",
       "      <td>12.0</td>\n",
       "      <td>4.0</td>\n",
       "      <td>3.0</td>\n",
       "      <td>3.0</td>\n",
       "      <td>4.0</td>\n",
       "      <td>3.0</td>\n",
       "      <td>2.0</td>\n",
       "      <td>5.0</td>\n",
       "      <td>1.0</td>\n",
       "      <td>3.0</td>\n",
       "      <td>3.0</td>\n",
       "      <td>2.0</td>\n",
       "      <td>5.0</td>\n",
       "      <td>4.0</td>\n",
       "      <td>2.0</td>\n",
       "      <td>18.0</td>\n",
       "      <td>11.0</td>\n",
       "      <td>2.0</td>\n",
       "    </tr>\n",
       "  </tbody>\n",
       "</table>\n",
       "</div>"
      ],
      "text/plain": [
       "                  How many MALE students in nursery are Visually impaired ?  \\\n",
       "County                                                                        \n",
       "Bomi                                                            2.0           \n",
       "Bong                                                           13.0           \n",
       "Gbarpolu                                                        3.0           \n",
       "Grand Bassa                                                     2.0           \n",
       "Grand Cape Mount                                                4.0           \n",
       "\n",
       "                  How many female students in Nursery are Visually impaired ?  \\\n",
       "County                                                                          \n",
       "Bomi                                                            2.0             \n",
       "Bong                                                            3.0             \n",
       "Gbarpolu                                                        0.0             \n",
       "Grand Bassa                                                     0.0             \n",
       "Grand Cape Mount                                                2.0             \n",
       "\n",
       "                  How many FEMALE students in Pre-Kindergarten are Visually impaired ?  \\\n",
       "County                                                                                   \n",
       "Bomi                                                            2.0                      \n",
       "Bong                                                            1.0                      \n",
       "Gbarpolu                                                        0.0                      \n",
       "Grand Bassa                                                     0.0                      \n",
       "Grand Cape Mount                                                1.0                      \n",
       "\n",
       "                  How many MALE students in pre-Kindergarten are Visually impaired ?  \\\n",
       "County                                                                                 \n",
       "Bomi                                                            0.0                    \n",
       "Bong                                                            0.0                    \n",
       "Gbarpolu                                                        0.0                    \n",
       "Grand Bassa                                                     0.0                    \n",
       "Grand Cape Mount                                                1.0                    \n",
       "\n",
       "                  How many FEMALE students in kindergarten are Visually impaired ?  \\\n",
       "County                                                                               \n",
       "Bomi                                                            0.0                  \n",
       "Bong                                                            0.0                  \n",
       "Gbarpolu                                                        0.0                  \n",
       "Grand Bassa                                                     2.0                  \n",
       "Grand Cape Mount                                                2.0                  \n",
       "\n",
       "                  How many MALE students in kindergarten are Visually impaired ?  \\\n",
       "County                                                                             \n",
       "Bomi                                                            1.0                \n",
       "Bong                                                            8.0                \n",
       "Gbarpolu                                                        0.0                \n",
       "Grand Bassa                                                     0.0                \n",
       "Grand Cape Mount                                                3.0                \n",
       "\n",
       "                  How many MALE students in  nursery have hearing impairment?  \\\n",
       "County                                                                          \n",
       "Bomi                                                           22.0             \n",
       "Bong                                                            7.0             \n",
       "Gbarpolu                                                        2.0             \n",
       "Grand Bassa                                                     0.0             \n",
       "Grand Cape Mount                                               12.0             \n",
       "\n",
       "                  How many FEMALE students in nursery have hearing impairment?  \\\n",
       "County                                                                           \n",
       "Bomi                                                            9.0              \n",
       "Bong                                                            3.0              \n",
       "Gbarpolu                                                        0.0              \n",
       "Grand Bassa                                                     1.0              \n",
       "Grand Cape Mount                                                4.0              \n",
       "\n",
       "                  How many FEMALE students in pre- kindergarten are hearing impairment?  \\\n",
       "County                                                                                    \n",
       "Bomi                                                            4.0                       \n",
       "Bong                                                            6.0                       \n",
       "Gbarpolu                                                        0.0                       \n",
       "Grand Bassa                                                     0.0                       \n",
       "Grand Cape Mount                                                3.0                       \n",
       "\n",
       "                  How many MALE students in pre-kindergarten have hearing impairment?  \\\n",
       "County                                                                                  \n",
       "Bomi                                                            5.0                     \n",
       "Bong                                                            8.0                     \n",
       "Gbarpolu                                                        0.0                     \n",
       "Grand Bassa                                                     0.0                     \n",
       "Grand Cape Mount                                                3.0                     \n",
       "\n",
       "                  How many MALE students in kindergarten have hearing impairment?  \\\n",
       "County                                                                              \n",
       "Bomi                                                            7.0                 \n",
       "Bong                                                           13.0                 \n",
       "Gbarpolu                                                        0.0                 \n",
       "Grand Bassa                                                     0.0                 \n",
       "Grand Cape Mount                                                4.0                 \n",
       "\n",
       "                  How many FEMALE students in  Kindergarten have hearing impairment?  \\\n",
       "County                                                                                 \n",
       "Bomi                                                            3.0                    \n",
       "Bong                                                            6.0                    \n",
       "Gbarpolu                                                        0.0                    \n",
       "Grand Bassa                                                     1.0                    \n",
       "Grand Cape Mount                                                3.0                    \n",
       "\n",
       "                  How many MALE students in Nursery have other physical disabilities?  \\\n",
       "County                                                                                  \n",
       "Bomi                                                            3.0                     \n",
       "Bong                                                            7.0                     \n",
       "Gbarpolu                                                        3.0                     \n",
       "Grand Bassa                                                     1.0                     \n",
       "Grand Cape Mount                                                2.0                     \n",
       "\n",
       "                  How many FEMALE students in Nursery have other physical disabilities ?  \\\n",
       "County                                                                                     \n",
       "Bomi                                                            0.0                        \n",
       "Bong                                                            5.0                        \n",
       "Gbarpolu                                                        2.0                        \n",
       "Grand Bassa                                                     1.0                        \n",
       "Grand Cape Mount                                                5.0                        \n",
       "\n",
       "                  How many FEMALE students in  Pre-Kindergarten have other physical disabilities?  \\\n",
       "County                                                                                              \n",
       "Bomi                                                            0.0                                 \n",
       "Bong                                                            0.0                                 \n",
       "Gbarpolu                                                        0.0                                 \n",
       "Grand Bassa                                                     0.0                                 \n",
       "Grand Cape Mount                                                1.0                                 \n",
       "\n",
       "                  How many MALE students in  Pre-Kindergarten have other physical disabilities?  \\\n",
       "County                                                                                            \n",
       "Bomi                                                            1.0                               \n",
       "Bong                                                            7.0                               \n",
       "Gbarpolu                                                        0.0                               \n",
       "Grand Bassa                                                     3.0                               \n",
       "Grand Cape Mount                                                3.0                               \n",
       "\n",
       "                  How many MALE students in  Kindergarten have other physical disabilities?  \\\n",
       "County                                                                                        \n",
       "Bomi                                                            2.0                           \n",
       "Bong                                                            0.0                           \n",
       "Gbarpolu                                                        0.0                           \n",
       "Grand Bassa                                                     1.0                           \n",
       "Grand Cape Mount                                                3.0                           \n",
       "\n",
       "                  How many FEMALE students in  Kindergarten have other physical disabilities?  \\\n",
       "County                                                                                          \n",
       "Bomi                                                            0.0                             \n",
       "Bong                                                            0.0                             \n",
       "Gbarpolu                                                        0.0                             \n",
       "Grand Bassa                                                     0.0                             \n",
       "Grand Cape Mount                                                2.0                             \n",
       "\n",
       "                  How many MALE students in Nursery have other mental disability or learning difficulty?  \\\n",
       "County                                                                                                     \n",
       "Bomi                                                            5.0                                        \n",
       "Bong                                                            5.0                                        \n",
       "Gbarpolu                                                        1.0                                        \n",
       "Grand Bassa                                                     2.0                                        \n",
       "Grand Cape Mount                                                5.0                                        \n",
       "\n",
       "                  How many FEMALE students in Nursery have other mental disability or learning difficulty?  \\\n",
       "County                                                                                                       \n",
       "Bomi                                                            6.0                                          \n",
       "Bong                                                            1.0                                          \n",
       "Gbarpolu                                                        2.0                                          \n",
       "Grand Bassa                                                     1.0                                          \n",
       "Grand Cape Mount                                                4.0                                          \n",
       "\n",
       "                  How many MALE students in  Pre-Kindergarten have other mental disability or learning difficulty?  \\\n",
       "County                                                                                                               \n",
       "Bomi                                                            3.0                                                  \n",
       "Bong                                                            2.0                                                  \n",
       "Gbarpolu                                                        1.0                                                  \n",
       "Grand Bassa                                                     1.0                                                  \n",
       "Grand Cape Mount                                                2.0                                                  \n",
       "\n",
       "                  How many FEMALE students in  Pre-Kindergarten have other mental disability or learning difficulty?  \\\n",
       "County                                                                                                                 \n",
       "Bomi                                                            4.0                                                    \n",
       "Bong                                                            1.0                                                    \n",
       "Gbarpolu                                                        0.0                                                    \n",
       "Grand Bassa                                                     1.0                                                    \n",
       "Grand Cape Mount                                               18.0                                                    \n",
       "\n",
       "                  How many MALE students in  Kindergarten have other mental disability or learning difficulty?  \\\n",
       "County                                                                                                           \n",
       "Bomi                                                            4.0                                              \n",
       "Bong                                                            1.0                                              \n",
       "Gbarpolu                                                        0.0                                              \n",
       "Grand Bassa                                                     0.0                                              \n",
       "Grand Cape Mount                                               11.0                                              \n",
       "\n",
       "                  How many FEMALE students in  Kindergarten have other mental disability or learning difficulty?  \n",
       "County                                                                                                            \n",
       "Bomi                                                            5.0                                               \n",
       "Bong                                                            1.0                                               \n",
       "Gbarpolu                                                        1.0                                               \n",
       "Grand Bassa                                                     0.0                                               \n",
       "Grand Cape Mount                                                2.0                                               "
      ]
     },
     "execution_count": 865,
     "metadata": {},
     "output_type": "execute_result"
    }
   ],
   "source": [
    "dd.head()"
   ]
  },
  {
   "cell_type": "code",
   "execution_count": 869,
   "id": "407c10e5-0601-4791-84b2-1d287ff2e94f",
   "metadata": {},
   "outputs": [
    {
     "data": {
      "text/plain": [
       "County\n",
       "Bomi                 7.0\n",
       "Bong                25.0\n",
       "Gbarpolu             3.0\n",
       "Grand Bassa          4.0\n",
       "Grand Cape Mount    13.0\n",
       "Grand Gedeh         11.0\n",
       "Grand Kru           26.0\n",
       "Lofa                71.0\n",
       "Margibi              5.0\n",
       "Maryland             1.0\n",
       "Montserrado 1       69.0\n",
       "Montserrado 2       21.0\n",
       "Nimba               59.0\n",
       "River Gee            5.0\n",
       "Rivercess            3.0\n",
       "Sinoe                4.0\n",
       "dtype: float64"
      ]
     },
     "execution_count": 869,
     "metadata": {},
     "output_type": "execute_result"
    }
   ],
   "source": [
    "dd.iloc[:,:6].sum(1)"
   ]
  },
  {
   "cell_type": "code",
   "execution_count": 871,
   "id": "276c58df-9bc2-402e-a497-427f5838feb9",
   "metadata": {},
   "outputs": [
    {
     "data": {
      "text/plain": [
       "County\n",
       "Bomi                50.0\n",
       "Bong                43.0\n",
       "Gbarpolu             2.0\n",
       "Grand Bassa          2.0\n",
       "Grand Cape Mount    29.0\n",
       "Grand Gedeh         18.0\n",
       "Grand Kru           12.0\n",
       "Lofa                37.0\n",
       "Margibi             12.0\n",
       "Maryland             2.0\n",
       "Montserrado 1       87.0\n",
       "Montserrado 2       69.0\n",
       "Nimba               65.0\n",
       "River Gee           50.0\n",
       "Rivercess            4.0\n",
       "Sinoe                9.0\n",
       "dtype: float64"
      ]
     },
     "execution_count": 871,
     "metadata": {},
     "output_type": "execute_result"
    }
   ],
   "source": [
    "dd.iloc[:,6:12].sum(1)"
   ]
  },
  {
   "cell_type": "code",
   "execution_count": 1010,
   "id": "199907be-2ca1-400c-bb89-53a55a8fe30b",
   "metadata": {},
   "outputs": [
    {
     "data": {
      "text/plain": [
       "County\n",
       "Bomi                 6.0\n",
       "Bong                19.0\n",
       "Gbarpolu             5.0\n",
       "Grand Bassa          6.0\n",
       "Grand Cape Mount    16.0\n",
       "Grand Gedeh         16.0\n",
       "Grand Kru           29.0\n",
       "Lofa                25.0\n",
       "Margibi              8.0\n",
       "Maryland             3.0\n",
       "Montserrado 1       78.0\n",
       "Montserrado 2       63.0\n",
       "Nimba               99.0\n",
       "River Gee            3.0\n",
       "Rivercess            5.0\n",
       "Sinoe               10.0\n",
       "dtype: float64"
      ]
     },
     "execution_count": 1010,
     "metadata": {},
     "output_type": "execute_result"
    }
   ],
   "source": [
    "dd.iloc[:,12:18].sum(1)"
   ]
  },
  {
   "cell_type": "code",
   "execution_count": 1012,
   "id": "892bb4ee-2c0b-495c-8769-7eec4b1fe7fe",
   "metadata": {},
   "outputs": [
    {
     "data": {
      "text/plain": [
       "County\n",
       "Bomi                 27.0\n",
       "Bong                 11.0\n",
       "Gbarpolu              5.0\n",
       "Grand Bassa           5.0\n",
       "Grand Cape Mount     42.0\n",
       "Grand Gedeh           2.0\n",
       "Grand Kru            55.0\n",
       "Lofa                 30.0\n",
       "Margibi              26.0\n",
       "Maryland              7.0\n",
       "Montserrado 1       120.0\n",
       "Montserrado 2       103.0\n",
       "Nimba                74.0\n",
       "River Gee             0.0\n",
       "Rivercess             3.0\n",
       "Sinoe                 5.0\n",
       "dtype: float64"
      ]
     },
     "execution_count": 1012,
     "metadata": {},
     "output_type": "execute_result"
    }
   ],
   "source": [
    "dd.iloc[:,18:].sum(1)"
   ]
  },
  {
   "cell_type": "code",
   "execution_count": 1013,
   "id": "7987ba2f-6cad-4b7b-b5ec-d97c8fac5a58",
   "metadata": {},
   "outputs": [],
   "source": [
    "district_dic =pd.Series(kece_cdso.columns[2:18])\n",
    "district_dic.to_csv('district_dic.csv', index = False)\n"
   ]
  },
  {
   "cell_type": "code",
   "execution_count": 1014,
   "id": "84e8d864-cfc6-45c9-842e-793c6de90e4b",
   "metadata": {},
   "outputs": [
    {
     "data": {
      "text/plain": [
       "How many MALE students in nursery are Visually impaired ?               79.0\n",
       "How many female students in Nursery are Visually impaired ?             54.0\n",
       "How many FEMALE students in Pre-Kindergarten are Visually impaired ?    46.0\n",
       "How many MALE students in pre-Kindergarten are Visually impaired ?      46.0\n",
       "How many FEMALE students in kindergarten are Visually impaired ?        63.0\n",
       "How many MALE students in kindergarten are Visually impaired ?          39.0\n",
       "dtype: float64"
      ]
     },
     "execution_count": 1014,
     "metadata": {},
     "output_type": "execute_result"
    }
   ],
   "source": [
    "d_2 = dd.iloc[:,:6].sum()\n",
    "d_2"
   ]
  },
  {
   "cell_type": "code",
   "execution_count": 1005,
   "id": "26de917a-7c48-4a78-8c55-660f25918dd5",
   "metadata": {},
   "outputs": [],
   "source": [
    "#d_2[[0,3,5]].sum()"
   ]
  },
  {
   "cell_type": "code",
   "execution_count": 1004,
   "id": "b91f5f46-9295-42cb-adf0-2c8a3002427f",
   "metadata": {},
   "outputs": [],
   "source": [
    "#d_2.sum()"
   ]
  },
  {
   "cell_type": "code",
   "execution_count": 1003,
   "id": "de14c7bd-4b8c-4592-a00f-923d9496a924",
   "metadata": {},
   "outputs": [],
   "source": [
    "#dd.iloc[:,6:12].sum()[[0,3,4]].sum()"
   ]
  },
  {
   "cell_type": "code",
   "execution_count": 1002,
   "id": "dcd22758-2a84-4d92-8f13-5a8d2ee91f8d",
   "metadata": {},
   "outputs": [],
   "source": [
    "#dd.iloc[:,6:12].sum().sum()"
   ]
  },
  {
   "cell_type": "code",
   "execution_count": 1001,
   "id": "abb6b656-1c37-4a83-acaf-72353fa4c373",
   "metadata": {},
   "outputs": [],
   "source": [
    "#dd.iloc[:,12:18].sum()[[0,3,4]].sum()"
   ]
  },
  {
   "cell_type": "code",
   "execution_count": 1000,
   "id": "da1542d5-2ad9-4e7a-a154-3eedb4c00d08",
   "metadata": {},
   "outputs": [],
   "source": [
    "#dd.iloc[:,12:18].sum().sum()"
   ]
  },
  {
   "cell_type": "code",
   "execution_count": 999,
   "id": "b27e43aa-b495-4264-aafb-28b9ce7b19c4",
   "metadata": {},
   "outputs": [],
   "source": [
    "#dd.iloc[:,18:].sum()[[0,2,4]].sum()"
   ]
  },
  {
   "cell_type": "code",
   "execution_count": 998,
   "id": "c2a9c038-67de-42bb-88fd-f72e3085fcb0",
   "metadata": {},
   "outputs": [],
   "source": [
    "#dd.iloc[:,18:].sum().sum()"
   ]
  },
  {
   "cell_type": "code",
   "execution_count": 997,
   "id": "827ae4a3-cc92-48e9-b634-2128c2ae801b",
   "metadata": {},
   "outputs": [],
   "source": [
    "#dd"
   ]
  },
  {
   "cell_type": "code",
   "execution_count": 996,
   "id": "d7d8b231-ca3d-48bd-964e-a82bc7eeeebe",
   "metadata": {},
   "outputs": [],
   "source": [
    "#dd.iloc[:].sum()[[22,23]].sum()"
   ]
  },
  {
   "cell_type": "code",
   "execution_count": 995,
   "id": "34778c9d-6233-4ef2-a0dd-07e41dcf466a",
   "metadata": {},
   "outputs": [],
   "source": [
    "#kece_cdso.head()"
   ]
  },
  {
   "cell_type": "code",
   "execution_count": 994,
   "id": "ffad0630-e585-4913-81fe-326005164f15",
   "metadata": {},
   "outputs": [],
   "source": [
    "#ece_vi_c=kece_cdso.iloc[:,[0,2,3,4,5,6,7]]\n",
    "#ece_vi_c"
   ]
  },
  {
   "cell_type": "code",
   "execution_count": 993,
   "id": "a9275ad1-6c32-44ba-a75e-1db25fe60973",
   "metadata": {},
   "outputs": [],
   "source": [
    "#ece_vi_c.groupby('County').sum().sum(1)"
   ]
  },
  {
   "cell_type": "code",
   "execution_count": 992,
   "id": "668ef63b-83f5-44b5-b5eb-152059ea0735",
   "metadata": {},
   "outputs": [],
   "source": [
    "#ece_hp_c=kece_cdso.iloc[:,[0,8,9,10,11,12,13]]\n",
    "#ece_hp_c.groupby('County').sum().sum(1)"
   ]
  },
  {
   "cell_type": "code",
   "execution_count": 991,
   "id": "a749491c-fcac-420c-9079-b5ee57dcee83",
   "metadata": {},
   "outputs": [],
   "source": [
    "#ece_p_c=kece_cdso.iloc[:,[0,14,15,16,17,18,19]]\n",
    "#ece_p_c.groupby('County').sum().sum(1)"
   ]
  },
  {
   "cell_type": "code",
   "execution_count": 990,
   "id": "50a07dd6-16d3-416a-bece-f9cec429d146",
   "metadata": {},
   "outputs": [],
   "source": [
    "#ece_m_c=kece_cdso.iloc[:,[0,20,21,22,23,24,25]]\n",
    "#ece_m_c.groupby('County').sum().sum(1)"
   ]
  },
  {
   "cell_type": "code",
   "execution_count": null,
   "id": "7c7eccf3-067e-4388-895e-9d5155ba9c00",
   "metadata": {},
   "outputs": [],
   "source": []
  },
  {
   "cell_type": "code",
   "execution_count": null,
   "id": "ec835691-bf1e-42b2-9811-6f148bc3c911",
   "metadata": {},
   "outputs": [],
   "source": []
  },
  {
   "cell_type": "markdown",
   "id": "c524b787-5c05-4129-b100-fdcbbc90e6b2",
   "metadata": {},
   "source": [
    "# Table 13: ECE Enrollment by Disability and Districts"
   ]
  },
  {
   "cell_type": "code",
   "execution_count": 122,
   "id": "88821432-dfb0-4e1d-90a2-1a365af32434",
   "metadata": {},
   "outputs": [
    {
     "data": {
      "text/plain": [
       "(4166, 41)"
      ]
     },
     "execution_count": 122,
     "metadata": {},
     "output_type": "execute_result"
    }
   ],
   "source": [
    "kece_cdd.shape"
   ]
  },
  {
   "cell_type": "code",
   "execution_count": null,
   "id": "d0ffcdcc-4f2c-4a3a-a706-5d7759a6e240",
   "metadata": {},
   "outputs": [],
   "source": []
  },
  {
   "cell_type": "code",
   "execution_count": 123,
   "id": "40556a17-46f9-4331-b9c5-fca892b59f87",
   "metadata": {},
   "outputs": [
    {
     "data": {
      "text/html": [
       "<div>\n",
       "<style scoped>\n",
       "    .dataframe tbody tr th:only-of-type {\n",
       "        vertical-align: middle;\n",
       "    }\n",
       "\n",
       "    .dataframe tbody tr th {\n",
       "        vertical-align: top;\n",
       "    }\n",
       "\n",
       "    .dataframe thead th {\n",
       "        text-align: right;\n",
       "    }\n",
       "</style>\n",
       "<table border=\"1\" class=\"dataframe\">\n",
       "  <thead>\n",
       "    <tr style=\"text-align: right;\">\n",
       "      <th></th>\n",
       "      <th>How many MALE students in nursery are Visually impaired ?</th>\n",
       "      <th>How many female students in Nursery are Visually impaired ?</th>\n",
       "      <th>How many FEMALE students in Pre-Kindergarten are Visually impaired ?</th>\n",
       "      <th>How many MALE students in pre-Kindergarten are Visually impaired ?</th>\n",
       "      <th>How many FEMALE students in kindergarten are Visually impaired ?</th>\n",
       "      <th>How many MALE students in kindergarten are Visually impaired ?</th>\n",
       "      <th>How many MALE students in  nursery have hearing impairment?</th>\n",
       "      <th>How many FEMALE students in nursery have hearing impairment?</th>\n",
       "      <th>How many FEMALE students in pre- kindergarten are hearing impairment?</th>\n",
       "      <th>How many MALE students in pre-kindergarten have hearing impairment?</th>\n",
       "      <th>How many MALE students in kindergarten have hearing impairment?</th>\n",
       "      <th>How many FEMALE students in  Kindergarten have hearing impairment?</th>\n",
       "      <th>How many MALE students in Nursery have other physical disabilities?</th>\n",
       "      <th>How many FEMALE students in Nursery have other physical disabilities ?</th>\n",
       "      <th>How many FEMALE students in  Pre-Kindergarten have other physical disabilities?</th>\n",
       "      <th>How many MALE students in  Pre-Kindergarten have other physical disabilities?</th>\n",
       "      <th>How many MALE students in  Kindergarten have other physical disabilities?</th>\n",
       "      <th>How many FEMALE students in  Kindergarten have other physical disabilities?</th>\n",
       "      <th>How many MALE students in Nursery have other mental disability or learning difficulty?</th>\n",
       "      <th>How many FEMALE students in Nursery have other mental disability or learning difficulty?</th>\n",
       "      <th>How many MALE students in  Pre-Kindergarten have other mental disability or learning difficulty?</th>\n",
       "      <th>How many FEMALE students in  Pre-Kindergarten have other mental disability or learning difficulty?</th>\n",
       "      <th>How many MALE students in  Kindergarten have other mental disability or learning difficulty?</th>\n",
       "      <th>How many FEMALE students in  Kindergarten have other mental disability or learning difficulty?</th>\n",
       "      <th>district</th>\n",
       "      <th>count</th>\n",
       "    </tr>\n",
       "  </thead>\n",
       "  <tbody>\n",
       "    <tr>\n",
       "      <th>0</th>\n",
       "      <td>NaN</td>\n",
       "      <td>NaN</td>\n",
       "      <td>NaN</td>\n",
       "      <td>NaN</td>\n",
       "      <td>NaN</td>\n",
       "      <td>NaN</td>\n",
       "      <td>NaN</td>\n",
       "      <td>NaN</td>\n",
       "      <td>NaN</td>\n",
       "      <td>NaN</td>\n",
       "      <td>NaN</td>\n",
       "      <td>NaN</td>\n",
       "      <td>NaN</td>\n",
       "      <td>NaN</td>\n",
       "      <td>NaN</td>\n",
       "      <td>NaN</td>\n",
       "      <td>NaN</td>\n",
       "      <td>NaN</td>\n",
       "      <td>NaN</td>\n",
       "      <td>NaN</td>\n",
       "      <td>NaN</td>\n",
       "      <td>NaN</td>\n",
       "      <td>NaN</td>\n",
       "      <td>NaN</td>\n",
       "      <td>County</td>\n",
       "      <td>Rivercess</td>\n",
       "    </tr>\n",
       "    <tr>\n",
       "      <th>1</th>\n",
       "      <td>0.0</td>\n",
       "      <td>0.0</td>\n",
       "      <td>0.0</td>\n",
       "      <td>0.0</td>\n",
       "      <td>0.0</td>\n",
       "      <td>0.0</td>\n",
       "      <td>0.0</td>\n",
       "      <td>0.0</td>\n",
       "      <td>0.0</td>\n",
       "      <td>0.0</td>\n",
       "      <td>0.0</td>\n",
       "      <td>0.0</td>\n",
       "      <td>0.0</td>\n",
       "      <td>0.0</td>\n",
       "      <td>0.0</td>\n",
       "      <td>0.0</td>\n",
       "      <td>0.0</td>\n",
       "      <td>0.0</td>\n",
       "      <td>0.0</td>\n",
       "      <td>0.0</td>\n",
       "      <td>0.0</td>\n",
       "      <td>0.0</td>\n",
       "      <td>0.0</td>\n",
       "      <td>0.0</td>\n",
       "      <td>County</td>\n",
       "      <td>Nimba</td>\n",
       "    </tr>\n",
       "    <tr>\n",
       "      <th>2</th>\n",
       "      <td>NaN</td>\n",
       "      <td>NaN</td>\n",
       "      <td>NaN</td>\n",
       "      <td>NaN</td>\n",
       "      <td>NaN</td>\n",
       "      <td>NaN</td>\n",
       "      <td>NaN</td>\n",
       "      <td>NaN</td>\n",
       "      <td>NaN</td>\n",
       "      <td>NaN</td>\n",
       "      <td>NaN</td>\n",
       "      <td>NaN</td>\n",
       "      <td>NaN</td>\n",
       "      <td>NaN</td>\n",
       "      <td>NaN</td>\n",
       "      <td>NaN</td>\n",
       "      <td>NaN</td>\n",
       "      <td>NaN</td>\n",
       "      <td>NaN</td>\n",
       "      <td>NaN</td>\n",
       "      <td>NaN</td>\n",
       "      <td>NaN</td>\n",
       "      <td>NaN</td>\n",
       "      <td>NaN</td>\n",
       "      <td>County</td>\n",
       "      <td>River Gee</td>\n",
       "    </tr>\n",
       "    <tr>\n",
       "      <th>3</th>\n",
       "      <td>NaN</td>\n",
       "      <td>NaN</td>\n",
       "      <td>NaN</td>\n",
       "      <td>NaN</td>\n",
       "      <td>NaN</td>\n",
       "      <td>NaN</td>\n",
       "      <td>NaN</td>\n",
       "      <td>NaN</td>\n",
       "      <td>NaN</td>\n",
       "      <td>NaN</td>\n",
       "      <td>NaN</td>\n",
       "      <td>NaN</td>\n",
       "      <td>NaN</td>\n",
       "      <td>NaN</td>\n",
       "      <td>NaN</td>\n",
       "      <td>NaN</td>\n",
       "      <td>NaN</td>\n",
       "      <td>NaN</td>\n",
       "      <td>NaN</td>\n",
       "      <td>NaN</td>\n",
       "      <td>NaN</td>\n",
       "      <td>NaN</td>\n",
       "      <td>NaN</td>\n",
       "      <td>NaN</td>\n",
       "      <td>County</td>\n",
       "      <td>Montserrado 1</td>\n",
       "    </tr>\n",
       "    <tr>\n",
       "      <th>4</th>\n",
       "      <td>0.0</td>\n",
       "      <td>0.0</td>\n",
       "      <td>0.0</td>\n",
       "      <td>0.0</td>\n",
       "      <td>0.0</td>\n",
       "      <td>0.0</td>\n",
       "      <td>0.0</td>\n",
       "      <td>0.0</td>\n",
       "      <td>0.0</td>\n",
       "      <td>0.0</td>\n",
       "      <td>0.0</td>\n",
       "      <td>0.0</td>\n",
       "      <td>0.0</td>\n",
       "      <td>0.0</td>\n",
       "      <td>0.0</td>\n",
       "      <td>0.0</td>\n",
       "      <td>0.0</td>\n",
       "      <td>0.0</td>\n",
       "      <td>0.0</td>\n",
       "      <td>0.0</td>\n",
       "      <td>0.0</td>\n",
       "      <td>0.0</td>\n",
       "      <td>0.0</td>\n",
       "      <td>0.0</td>\n",
       "      <td>County</td>\n",
       "      <td>Montserrado 1</td>\n",
       "    </tr>\n",
       "  </tbody>\n",
       "</table>\n",
       "</div>"
      ],
      "text/plain": [
       "   How many MALE students in nursery are Visually impaired ?  \\\n",
       "0                                                NaN           \n",
       "1                                                0.0           \n",
       "2                                                NaN           \n",
       "3                                                NaN           \n",
       "4                                                0.0           \n",
       "\n",
       "   How many female students in Nursery are Visually impaired ?  \\\n",
       "0                                                NaN             \n",
       "1                                                0.0             \n",
       "2                                                NaN             \n",
       "3                                                NaN             \n",
       "4                                                0.0             \n",
       "\n",
       "   How many FEMALE students in Pre-Kindergarten are Visually impaired ?  \\\n",
       "0                                                NaN                      \n",
       "1                                                0.0                      \n",
       "2                                                NaN                      \n",
       "3                                                NaN                      \n",
       "4                                                0.0                      \n",
       "\n",
       "   How many MALE students in pre-Kindergarten are Visually impaired ?  \\\n",
       "0                                                NaN                    \n",
       "1                                                0.0                    \n",
       "2                                                NaN                    \n",
       "3                                                NaN                    \n",
       "4                                                0.0                    \n",
       "\n",
       "   How many FEMALE students in kindergarten are Visually impaired ?  \\\n",
       "0                                                NaN                  \n",
       "1                                                0.0                  \n",
       "2                                                NaN                  \n",
       "3                                                NaN                  \n",
       "4                                                0.0                  \n",
       "\n",
       "   How many MALE students in kindergarten are Visually impaired ?  \\\n",
       "0                                                NaN                \n",
       "1                                                0.0                \n",
       "2                                                NaN                \n",
       "3                                                NaN                \n",
       "4                                                0.0                \n",
       "\n",
       "   How many MALE students in  nursery have hearing impairment?  \\\n",
       "0                                                NaN             \n",
       "1                                                0.0             \n",
       "2                                                NaN             \n",
       "3                                                NaN             \n",
       "4                                                0.0             \n",
       "\n",
       "   How many FEMALE students in nursery have hearing impairment?  \\\n",
       "0                                                NaN              \n",
       "1                                                0.0              \n",
       "2                                                NaN              \n",
       "3                                                NaN              \n",
       "4                                                0.0              \n",
       "\n",
       "   How many FEMALE students in pre- kindergarten are hearing impairment?  \\\n",
       "0                                                NaN                       \n",
       "1                                                0.0                       \n",
       "2                                                NaN                       \n",
       "3                                                NaN                       \n",
       "4                                                0.0                       \n",
       "\n",
       "   How many MALE students in pre-kindergarten have hearing impairment?  \\\n",
       "0                                                NaN                     \n",
       "1                                                0.0                     \n",
       "2                                                NaN                     \n",
       "3                                                NaN                     \n",
       "4                                                0.0                     \n",
       "\n",
       "   How many MALE students in kindergarten have hearing impairment?  \\\n",
       "0                                                NaN                 \n",
       "1                                                0.0                 \n",
       "2                                                NaN                 \n",
       "3                                                NaN                 \n",
       "4                                                0.0                 \n",
       "\n",
       "   How many FEMALE students in  Kindergarten have hearing impairment?  \\\n",
       "0                                                NaN                    \n",
       "1                                                0.0                    \n",
       "2                                                NaN                    \n",
       "3                                                NaN                    \n",
       "4                                                0.0                    \n",
       "\n",
       "   How many MALE students in Nursery have other physical disabilities?  \\\n",
       "0                                                NaN                     \n",
       "1                                                0.0                     \n",
       "2                                                NaN                     \n",
       "3                                                NaN                     \n",
       "4                                                0.0                     \n",
       "\n",
       "   How many FEMALE students in Nursery have other physical disabilities ?  \\\n",
       "0                                                NaN                        \n",
       "1                                                0.0                        \n",
       "2                                                NaN                        \n",
       "3                                                NaN                        \n",
       "4                                                0.0                        \n",
       "\n",
       "   How many FEMALE students in  Pre-Kindergarten have other physical disabilities?  \\\n",
       "0                                                NaN                                 \n",
       "1                                                0.0                                 \n",
       "2                                                NaN                                 \n",
       "3                                                NaN                                 \n",
       "4                                                0.0                                 \n",
       "\n",
       "   How many MALE students in  Pre-Kindergarten have other physical disabilities?  \\\n",
       "0                                                NaN                               \n",
       "1                                                0.0                               \n",
       "2                                                NaN                               \n",
       "3                                                NaN                               \n",
       "4                                                0.0                               \n",
       "\n",
       "   How many MALE students in  Kindergarten have other physical disabilities?  \\\n",
       "0                                                NaN                           \n",
       "1                                                0.0                           \n",
       "2                                                NaN                           \n",
       "3                                                NaN                           \n",
       "4                                                0.0                           \n",
       "\n",
       "   How many FEMALE students in  Kindergarten have other physical disabilities?  \\\n",
       "0                                                NaN                             \n",
       "1                                                0.0                             \n",
       "2                                                NaN                             \n",
       "3                                                NaN                             \n",
       "4                                                0.0                             \n",
       "\n",
       "   How many MALE students in Nursery have other mental disability or learning difficulty?  \\\n",
       "0                                                NaN                                        \n",
       "1                                                0.0                                        \n",
       "2                                                NaN                                        \n",
       "3                                                NaN                                        \n",
       "4                                                0.0                                        \n",
       "\n",
       "   How many FEMALE students in Nursery have other mental disability or learning difficulty?  \\\n",
       "0                                                NaN                                          \n",
       "1                                                0.0                                          \n",
       "2                                                NaN                                          \n",
       "3                                                NaN                                          \n",
       "4                                                0.0                                          \n",
       "\n",
       "   How many MALE students in  Pre-Kindergarten have other mental disability or learning difficulty?  \\\n",
       "0                                                NaN                                                  \n",
       "1                                                0.0                                                  \n",
       "2                                                NaN                                                  \n",
       "3                                                NaN                                                  \n",
       "4                                                0.0                                                  \n",
       "\n",
       "   How many FEMALE students in  Pre-Kindergarten have other mental disability or learning difficulty?  \\\n",
       "0                                                NaN                                                    \n",
       "1                                                0.0                                                    \n",
       "2                                                NaN                                                    \n",
       "3                                                NaN                                                    \n",
       "4                                                0.0                                                    \n",
       "\n",
       "   How many MALE students in  Kindergarten have other mental disability or learning difficulty?  \\\n",
       "0                                                NaN                                              \n",
       "1                                                0.0                                              \n",
       "2                                                NaN                                              \n",
       "3                                                NaN                                              \n",
       "4                                                0.0                                              \n",
       "\n",
       "   How many FEMALE students in  Kindergarten have other mental disability or learning difficulty?  \\\n",
       "0                                                NaN                                                \n",
       "1                                                0.0                                                \n",
       "2                                                NaN                                                \n",
       "3                                                NaN                                                \n",
       "4                                                0.0                                                \n",
       "\n",
       "  district          count  \n",
       "0   County      Rivercess  \n",
       "1   County          Nimba  \n",
       "2   County      River Gee  \n",
       "3   County  Montserrado 1  \n",
       "4   County  Montserrado 1  "
      ]
     },
     "execution_count": 123,
     "metadata": {},
     "output_type": "execute_result"
    }
   ],
   "source": [
    "kece_meltdd =kece_cdd.melt(id_vars=['How many MALE students in nursery are Visually impaired ?',\n",
    "       'How many female students in Nursery are Visually impaired ?',\n",
    "       'How many FEMALE students in Pre-Kindergarten are Visually impaired ?',\n",
    "       'How many MALE students in pre-Kindergarten are Visually impaired ?',\n",
    "       'How many FEMALE students in kindergarten are Visually impaired ?',\n",
    "       'How many MALE students in kindergarten are Visually impaired ?',\n",
    "       'How many MALE students in  nursery have hearing impairment?',\n",
    "       'How many FEMALE students in nursery have hearing impairment?',\n",
    "       'How many FEMALE students in pre- kindergarten are hearing impairment?',\n",
    "       'How many MALE students in pre-kindergarten have hearing impairment?',\n",
    "       'How many MALE students in kindergarten have hearing impairment?',\n",
    "       'How many FEMALE students in  Kindergarten have hearing impairment?',\n",
    "       'How many MALE students in Nursery have other physical disabilities?',\n",
    "       'How many FEMALE students in Nursery have other physical disabilities ?',\n",
    "       'How many FEMALE students in  Pre-Kindergarten have other physical disabilities?',\n",
    "       'How many MALE students in  Pre-Kindergarten have other physical disabilities?',\n",
    "       'How many MALE students in  Kindergarten have other physical disabilities?',\n",
    "       'How many FEMALE students in  Kindergarten have other physical disabilities?',\n",
    "       'How many MALE students in Nursery have other mental disability or learning difficulty?',\n",
    "       'How many FEMALE students in Nursery have other mental disability or learning difficulty?',\n",
    "       'How many MALE students in  Pre-Kindergarten have other mental disability or learning difficulty?',\n",
    "       'How many FEMALE students in  Pre-Kindergarten have other mental disability or learning difficulty?',\n",
    "       'How many MALE students in  Kindergarten have other mental disability or learning difficulty?',\n",
    "       'How many FEMALE students in  Kindergarten have other mental disability or learning difficulty?'],var_name = 'district',value_name='count')\n",
    "kece_meltdd.head()"
   ]
  },
  {
   "cell_type": "code",
   "execution_count": null,
   "id": "978d0e3e-5eab-4a20-b868-5d16913252e4",
   "metadata": {},
   "outputs": [],
   "source": []
  },
  {
   "cell_type": "markdown",
   "id": "f7f7a0b0-23c0-4d58-b9a4-7bd497b5d08e",
   "metadata": {},
   "source": [
    "## Districts in Bomi County"
   ]
  },
  {
   "cell_type": "code",
   "execution_count": 124,
   "id": "0a2453bd-c872-478b-bd37-b48b45ad7d50",
   "metadata": {},
   "outputs": [
    {
     "data": {
      "text/plain": [
       "53.0"
      ]
     },
     "execution_count": 124,
     "metadata": {},
     "output_type": "execute_result"
    }
   ],
   "source": [
    "k_dd = kece_meltdd[(kece_meltdd['district']== 'District in Bomi') & (kece_meltdd['count']== 'Senji')]\n",
    "k_dd = kece_meltdd[(kece_meltdd['district']== 'District in Bomi') & (kece_meltdd['count']== 'Dewoin')]\n",
    "k_dd = kece_meltdd[(kece_meltdd['district']== 'District in Bomi') & (kece_meltdd['count']== 'Klay')]\n",
    "k_dd = kece_meltdd[(kece_meltdd['district']== 'District in Bomi') & (kece_meltdd['count']== 'Suehn-Mecca')]\n",
    "k_dd.sum(1).sum()"
   ]
  },
  {
   "cell_type": "code",
   "execution_count": 2054,
   "id": "86324303-ffd5-4cc4-8ce1-db375d9a7645",
   "metadata": {},
   "outputs": [
    {
     "data": {
      "text/html": [
       "<div>\n",
       "<style scoped>\n",
       "    .dataframe tbody tr th:only-of-type {\n",
       "        vertical-align: middle;\n",
       "    }\n",
       "\n",
       "    .dataframe tbody tr th {\n",
       "        vertical-align: top;\n",
       "    }\n",
       "\n",
       "    .dataframe thead th {\n",
       "        text-align: right;\n",
       "    }\n",
       "</style>\n",
       "<table border=\"1\" class=\"dataframe\">\n",
       "  <thead>\n",
       "    <tr style=\"text-align: right;\">\n",
       "      <th></th>\n",
       "      <th>How many MALE students in nursery are Visually impaired ?</th>\n",
       "      <th>How many female students in Nursery are Visually impaired ?</th>\n",
       "      <th>How many FEMALE students in Pre-Kindergarten are Visually impaired ?</th>\n",
       "      <th>How many MALE students in pre-Kindergarten are Visually impaired ?</th>\n",
       "      <th>How many FEMALE students in kindergarten are Visually impaired ?</th>\n",
       "      <th>How many MALE students in kindergarten are Visually impaired ?</th>\n",
       "    </tr>\n",
       "  </thead>\n",
       "  <tbody>\n",
       "    <tr>\n",
       "      <th>17078</th>\n",
       "      <td>0.0</td>\n",
       "      <td>0.0</td>\n",
       "      <td>0.0</td>\n",
       "      <td>0.0</td>\n",
       "      <td>0.0</td>\n",
       "      <td>0.0</td>\n",
       "    </tr>\n",
       "    <tr>\n",
       "      <th>17234</th>\n",
       "      <td>0.0</td>\n",
       "      <td>0.0</td>\n",
       "      <td>0.0</td>\n",
       "      <td>0.0</td>\n",
       "      <td>0.0</td>\n",
       "      <td>0.0</td>\n",
       "    </tr>\n",
       "    <tr>\n",
       "      <th>17540</th>\n",
       "      <td>0.0</td>\n",
       "      <td>0.0</td>\n",
       "      <td>0.0</td>\n",
       "      <td>0.0</td>\n",
       "      <td>0.0</td>\n",
       "      <td>0.0</td>\n",
       "    </tr>\n",
       "    <tr>\n",
       "      <th>18746</th>\n",
       "      <td>0.0</td>\n",
       "      <td>0.0</td>\n",
       "      <td>0.0</td>\n",
       "      <td>0.0</td>\n",
       "      <td>0.0</td>\n",
       "      <td>0.0</td>\n",
       "    </tr>\n",
       "    <tr>\n",
       "      <th>18871</th>\n",
       "      <td>0.0</td>\n",
       "      <td>0.0</td>\n",
       "      <td>0.0</td>\n",
       "      <td>0.0</td>\n",
       "      <td>0.0</td>\n",
       "      <td>0.0</td>\n",
       "    </tr>\n",
       "    <tr>\n",
       "      <th>19036</th>\n",
       "      <td>0.0</td>\n",
       "      <td>0.0</td>\n",
       "      <td>0.0</td>\n",
       "      <td>0.0</td>\n",
       "      <td>0.0</td>\n",
       "      <td>0.0</td>\n",
       "    </tr>\n",
       "    <tr>\n",
       "      <th>19434</th>\n",
       "      <td>0.0</td>\n",
       "      <td>0.0</td>\n",
       "      <td>0.0</td>\n",
       "      <td>0.0</td>\n",
       "      <td>0.0</td>\n",
       "      <td>0.0</td>\n",
       "    </tr>\n",
       "    <tr>\n",
       "      <th>19457</th>\n",
       "      <td>0.0</td>\n",
       "      <td>0.0</td>\n",
       "      <td>0.0</td>\n",
       "      <td>0.0</td>\n",
       "      <td>0.0</td>\n",
       "      <td>0.0</td>\n",
       "    </tr>\n",
       "    <tr>\n",
       "      <th>19535</th>\n",
       "      <td>0.0</td>\n",
       "      <td>0.0</td>\n",
       "      <td>0.0</td>\n",
       "      <td>0.0</td>\n",
       "      <td>0.0</td>\n",
       "      <td>0.0</td>\n",
       "    </tr>\n",
       "    <tr>\n",
       "      <th>19654</th>\n",
       "      <td>0.0</td>\n",
       "      <td>0.0</td>\n",
       "      <td>0.0</td>\n",
       "      <td>0.0</td>\n",
       "      <td>0.0</td>\n",
       "      <td>0.0</td>\n",
       "    </tr>\n",
       "    <tr>\n",
       "      <th>19920</th>\n",
       "      <td>0.0</td>\n",
       "      <td>0.0</td>\n",
       "      <td>0.0</td>\n",
       "      <td>0.0</td>\n",
       "      <td>0.0</td>\n",
       "      <td>0.0</td>\n",
       "    </tr>\n",
       "    <tr>\n",
       "      <th>19963</th>\n",
       "      <td>0.0</td>\n",
       "      <td>0.0</td>\n",
       "      <td>0.0</td>\n",
       "      <td>0.0</td>\n",
       "      <td>0.0</td>\n",
       "      <td>0.0</td>\n",
       "    </tr>\n",
       "    <tr>\n",
       "      <th>20234</th>\n",
       "      <td>0.0</td>\n",
       "      <td>0.0</td>\n",
       "      <td>0.0</td>\n",
       "      <td>0.0</td>\n",
       "      <td>0.0</td>\n",
       "      <td>0.0</td>\n",
       "    </tr>\n",
       "    <tr>\n",
       "      <th>20405</th>\n",
       "      <td>0.0</td>\n",
       "      <td>0.0</td>\n",
       "      <td>0.0</td>\n",
       "      <td>0.0</td>\n",
       "      <td>0.0</td>\n",
       "      <td>0.0</td>\n",
       "    </tr>\n",
       "    <tr>\n",
       "      <th>20547</th>\n",
       "      <td>0.0</td>\n",
       "      <td>0.0</td>\n",
       "      <td>0.0</td>\n",
       "      <td>0.0</td>\n",
       "      <td>0.0</td>\n",
       "      <td>0.0</td>\n",
       "    </tr>\n",
       "    <tr>\n",
       "      <th>20553</th>\n",
       "      <td>0.0</td>\n",
       "      <td>0.0</td>\n",
       "      <td>0.0</td>\n",
       "      <td>0.0</td>\n",
       "      <td>0.0</td>\n",
       "      <td>0.0</td>\n",
       "    </tr>\n",
       "    <tr>\n",
       "      <th>20676</th>\n",
       "      <td>0.0</td>\n",
       "      <td>0.0</td>\n",
       "      <td>0.0</td>\n",
       "      <td>0.0</td>\n",
       "      <td>0.0</td>\n",
       "      <td>0.0</td>\n",
       "    </tr>\n",
       "  </tbody>\n",
       "</table>\n",
       "</div>"
      ],
      "text/plain": [
       "       How many MALE students in nursery are Visually impaired ?  \\\n",
       "17078                                                0.0           \n",
       "17234                                                0.0           \n",
       "17540                                                0.0           \n",
       "18746                                                0.0           \n",
       "18871                                                0.0           \n",
       "19036                                                0.0           \n",
       "19434                                                0.0           \n",
       "19457                                                0.0           \n",
       "19535                                                0.0           \n",
       "19654                                                0.0           \n",
       "19920                                                0.0           \n",
       "19963                                                0.0           \n",
       "20234                                                0.0           \n",
       "20405                                                0.0           \n",
       "20547                                                0.0           \n",
       "20553                                                0.0           \n",
       "20676                                                0.0           \n",
       "\n",
       "       How many female students in Nursery are Visually impaired ?  \\\n",
       "17078                                                0.0             \n",
       "17234                                                0.0             \n",
       "17540                                                0.0             \n",
       "18746                                                0.0             \n",
       "18871                                                0.0             \n",
       "19036                                                0.0             \n",
       "19434                                                0.0             \n",
       "19457                                                0.0             \n",
       "19535                                                0.0             \n",
       "19654                                                0.0             \n",
       "19920                                                0.0             \n",
       "19963                                                0.0             \n",
       "20234                                                0.0             \n",
       "20405                                                0.0             \n",
       "20547                                                0.0             \n",
       "20553                                                0.0             \n",
       "20676                                                0.0             \n",
       "\n",
       "       How many FEMALE students in Pre-Kindergarten are Visually impaired ?  \\\n",
       "17078                                                0.0                      \n",
       "17234                                                0.0                      \n",
       "17540                                                0.0                      \n",
       "18746                                                0.0                      \n",
       "18871                                                0.0                      \n",
       "19036                                                0.0                      \n",
       "19434                                                0.0                      \n",
       "19457                                                0.0                      \n",
       "19535                                                0.0                      \n",
       "19654                                                0.0                      \n",
       "19920                                                0.0                      \n",
       "19963                                                0.0                      \n",
       "20234                                                0.0                      \n",
       "20405                                                0.0                      \n",
       "20547                                                0.0                      \n",
       "20553                                                0.0                      \n",
       "20676                                                0.0                      \n",
       "\n",
       "       How many MALE students in pre-Kindergarten are Visually impaired ?  \\\n",
       "17078                                                0.0                    \n",
       "17234                                                0.0                    \n",
       "17540                                                0.0                    \n",
       "18746                                                0.0                    \n",
       "18871                                                0.0                    \n",
       "19036                                                0.0                    \n",
       "19434                                                0.0                    \n",
       "19457                                                0.0                    \n",
       "19535                                                0.0                    \n",
       "19654                                                0.0                    \n",
       "19920                                                0.0                    \n",
       "19963                                                0.0                    \n",
       "20234                                                0.0                    \n",
       "20405                                                0.0                    \n",
       "20547                                                0.0                    \n",
       "20553                                                0.0                    \n",
       "20676                                                0.0                    \n",
       "\n",
       "       How many FEMALE students in kindergarten are Visually impaired ?  \\\n",
       "17078                                                0.0                  \n",
       "17234                                                0.0                  \n",
       "17540                                                0.0                  \n",
       "18746                                                0.0                  \n",
       "18871                                                0.0                  \n",
       "19036                                                0.0                  \n",
       "19434                                                0.0                  \n",
       "19457                                                0.0                  \n",
       "19535                                                0.0                  \n",
       "19654                                                0.0                  \n",
       "19920                                                0.0                  \n",
       "19963                                                0.0                  \n",
       "20234                                                0.0                  \n",
       "20405                                                0.0                  \n",
       "20547                                                0.0                  \n",
       "20553                                                0.0                  \n",
       "20676                                                0.0                  \n",
       "\n",
       "       How many MALE students in kindergarten are Visually impaired ?  \n",
       "17078                                                0.0               \n",
       "17234                                                0.0               \n",
       "17540                                                0.0               \n",
       "18746                                                0.0               \n",
       "18871                                                0.0               \n",
       "19036                                                0.0               \n",
       "19434                                                0.0               \n",
       "19457                                                0.0               \n",
       "19535                                                0.0               \n",
       "19654                                                0.0               \n",
       "19920                                                0.0               \n",
       "19963                                                0.0               \n",
       "20234                                                0.0               \n",
       "20405                                                0.0               \n",
       "20547                                                0.0               \n",
       "20553                                                0.0               \n",
       "20676                                                0.0               "
      ]
     },
     "execution_count": 2054,
     "metadata": {},
     "output_type": "execute_result"
    }
   ],
   "source": [
    "k_dd.iloc[:,:6]#.sum().sum()"
   ]
  },
  {
   "cell_type": "code",
   "execution_count": 126,
   "id": "245cad4b-0d66-4656-992d-83257562dc96",
   "metadata": {},
   "outputs": [
    {
     "data": {
      "text/plain": [
       "22.0"
      ]
     },
     "execution_count": 126,
     "metadata": {},
     "output_type": "execute_result"
    }
   ],
   "source": [
    "k_dd.iloc[:,6:12].sum().sum()"
   ]
  },
  {
   "cell_type": "code",
   "execution_count": 127,
   "id": "6cfb3956-d5b4-46a6-a6d9-02b28562c1bc",
   "metadata": {},
   "outputs": [
    {
     "data": {
      "text/plain": [
       "3.0"
      ]
     },
     "execution_count": 127,
     "metadata": {},
     "output_type": "execute_result"
    }
   ],
   "source": [
    "k_dd.iloc[:,12:18].sum().sum()"
   ]
  },
  {
   "cell_type": "code",
   "execution_count": 128,
   "id": "382ae9b5-fe1b-4b3d-a2b0-ef497a38b7dd",
   "metadata": {},
   "outputs": [
    {
     "data": {
      "text/plain": [
       "21.0"
      ]
     },
     "execution_count": 128,
     "metadata": {},
     "output_type": "execute_result"
    }
   ],
   "source": [
    "k_dd.iloc[:,18:24].sum().sum()"
   ]
  },
  {
   "cell_type": "markdown",
   "id": "04dd83a0-8c2a-415a-8513-966a2217f06e",
   "metadata": {},
   "source": [
    "## Districts in Bong County"
   ]
  },
  {
   "cell_type": "code",
   "execution_count": 140,
   "id": "36fe015f-5e12-4c0a-8e0f-2db225bf7197",
   "metadata": {},
   "outputs": [
    {
     "data": {
      "text/plain": [
       "14.0"
      ]
     },
     "execution_count": 140,
     "metadata": {},
     "output_type": "execute_result"
    }
   ],
   "source": [
    "k_dd = kece_meltdd[(kece_meltdd['district']== 'District in Bong County') & (kece_meltdd['count']== 'Gbarnga 1')]\n",
    "k_dd = kece_meltdd[(kece_meltdd['district']== 'District in Bong County') & (kece_meltdd['count']== 'Gbarnga 2')]\n",
    "k_dd = kece_meltdd[(kece_meltdd['district']== 'District in Bong County') & (kece_meltdd['count']== 'Zota')]\n",
    "k_dd = kece_meltdd[(kece_meltdd['district']== 'District in Bong County') & (kece_meltdd['count']== 'Salala')]\n",
    "k_dd = kece_meltdd[(kece_meltdd['district']== 'District in Bong County') & (kece_meltdd['count']== 'Fuamah')]\n",
    "k_dd = kece_meltdd[(kece_meltdd['district']== 'District in Bong County') & (kece_meltdd['count']== 'Suakoko')]\n",
    "k_dd = kece_meltdd[(kece_meltdd['district']== 'District in Bong County') & (kece_meltdd['count']== 'Sanoyea')]\n",
    "k_dd = kece_meltdd[(kece_meltdd['district']== 'District in Bong County') & (kece_meltdd['count']== 'Panta-Kpaai')]\n",
    "k_dd = kece_meltdd[(kece_meltdd['district']== 'District in Bong County') & (kece_meltdd['count']== 'Kokoyah')]\n",
    "k_dd.sum(1).sum()"
   ]
  },
  {
   "cell_type": "code",
   "execution_count": null,
   "id": "ba10d01d-8274-4b8e-9fb3-952cc0d58372",
   "metadata": {},
   "outputs": [],
   "source": []
  },
  {
   "cell_type": "code",
   "execution_count": 141,
   "id": "efcf4a3f-baec-404f-a433-5dde807bcd13",
   "metadata": {},
   "outputs": [
    {
     "data": {
      "text/plain": [
       "2.0"
      ]
     },
     "execution_count": 141,
     "metadata": {},
     "output_type": "execute_result"
    }
   ],
   "source": [
    "k_dd.iloc[:,:6].sum().sum()"
   ]
  },
  {
   "cell_type": "code",
   "execution_count": 142,
   "id": "38ec5715-2bcc-4e86-b70e-d447ce7bc96d",
   "metadata": {},
   "outputs": [
    {
     "data": {
      "text/plain": [
       "4.0"
      ]
     },
     "execution_count": 142,
     "metadata": {},
     "output_type": "execute_result"
    }
   ],
   "source": [
    "k_dd.iloc[:,6:12].sum().sum()"
   ]
  },
  {
   "cell_type": "code",
   "execution_count": 143,
   "id": "2a79185f-728c-4eec-9d92-30409581b4b4",
   "metadata": {},
   "outputs": [
    {
     "data": {
      "text/plain": [
       "8.0"
      ]
     },
     "execution_count": 143,
     "metadata": {},
     "output_type": "execute_result"
    }
   ],
   "source": [
    "k_dd.iloc[:,12:18].sum().sum()"
   ]
  },
  {
   "cell_type": "code",
   "execution_count": 145,
   "id": "79151b3d-5915-49d8-b245-6d9aba21450c",
   "metadata": {},
   "outputs": [
    {
     "data": {
      "text/plain": [
       "0.0"
      ]
     },
     "execution_count": 145,
     "metadata": {},
     "output_type": "execute_result"
    }
   ],
   "source": [
    "k_dd.iloc[:,18:24].sum().sum()"
   ]
  },
  {
   "cell_type": "code",
   "execution_count": null,
   "id": "e079dfc5-5c9e-47ed-becf-9280a03d34bb",
   "metadata": {},
   "outputs": [],
   "source": []
  },
  {
   "cell_type": "markdown",
   "id": "58550ff8-ac16-4135-a932-7e07f2332b82",
   "metadata": {},
   "source": [
    "## Districts in Gbarpolu"
   ]
  },
  {
   "cell_type": "code",
   "execution_count": 185,
   "id": "be8e147d-c285-4c28-bf43-0b03502aa540",
   "metadata": {},
   "outputs": [
    {
     "data": {
      "text/plain": [
       "2.0"
      ]
     },
     "execution_count": 185,
     "metadata": {},
     "output_type": "execute_result"
    }
   ],
   "source": [
    "k_dd = kece_meltdd[(kece_meltdd['district']== 'District in Gbarpolu') & (kece_meltdd['count']== 'Gorwalali')]\n",
    "k_dd = kece_meltdd[(kece_meltdd['district']== 'District in Gbarpolu') & (kece_meltdd['count']== 'Bopolu')]\n",
    "k_dd = kece_meltdd[(kece_meltdd['district']== 'District in Gbarpolu') & (kece_meltdd['count']== 'Gbarma')]\n",
    "k_dd = kece_meltdd[(kece_meltdd['district']== 'District in Gbarpolu') & (kece_meltdd['count']== 'Belle')]\n",
    "k_dd = kece_meltdd[(kece_meltdd['district']== 'District in Gbarpolu') & (kece_meltdd['count']== 'Bokomu')]\n",
    "k_dd = kece_meltdd[(kece_meltdd['district']== 'District in Gbarpolu') & (kece_meltdd['count']== 'Kongba')]\n",
    "k_dd.sum(1).sum()"
   ]
  },
  {
   "cell_type": "code",
   "execution_count": null,
   "id": "09f0bec0-e1a1-4fae-9cf2-0e4961ce8dc0",
   "metadata": {},
   "outputs": [],
   "source": []
  },
  {
   "cell_type": "code",
   "execution_count": 186,
   "id": "f7d428b1-a8d9-4736-b032-31355a062a24",
   "metadata": {},
   "outputs": [
    {
     "data": {
      "text/plain": [
       "0.0"
      ]
     },
     "execution_count": 186,
     "metadata": {},
     "output_type": "execute_result"
    }
   ],
   "source": [
    "k_dd.iloc[:,:6].sum().sum()"
   ]
  },
  {
   "cell_type": "code",
   "execution_count": 187,
   "id": "867ae054-1141-4811-a8ae-aa34f51090b7",
   "metadata": {},
   "outputs": [
    {
     "data": {
      "text/plain": [
       "0.0"
      ]
     },
     "execution_count": 187,
     "metadata": {},
     "output_type": "execute_result"
    }
   ],
   "source": [
    "k_dd.iloc[:,6:12].sum().sum()"
   ]
  },
  {
   "cell_type": "code",
   "execution_count": 188,
   "id": "0e8e175d-a0c1-4191-b1f1-8b601111cc32",
   "metadata": {},
   "outputs": [
    {
     "data": {
      "text/plain": [
       "1.0"
      ]
     },
     "execution_count": 188,
     "metadata": {},
     "output_type": "execute_result"
    }
   ],
   "source": [
    "k_dd.iloc[:,12:18].sum().sum()"
   ]
  },
  {
   "cell_type": "code",
   "execution_count": 189,
   "id": "3888c5c3-90b5-40e8-bb0d-6c30bdfbcd1f",
   "metadata": {},
   "outputs": [
    {
     "data": {
      "text/plain": [
       "1.0"
      ]
     },
     "execution_count": 189,
     "metadata": {},
     "output_type": "execute_result"
    }
   ],
   "source": [
    "k_dd.iloc[:,18:24].sum().sum()"
   ]
  },
  {
   "cell_type": "code",
   "execution_count": null,
   "id": "fe8a5aa8-1d2b-4620-be89-5f93068ac8c7",
   "metadata": {},
   "outputs": [],
   "source": []
  },
  {
   "cell_type": "markdown",
   "id": "5bb63406-3a03-4c31-b531-7d4c38ddf70c",
   "metadata": {},
   "source": [
    "## Districts in Grand Bassa "
   ]
  },
  {
   "cell_type": "code",
   "execution_count": 230,
   "id": "d8537d61-b15e-43ca-ac5a-84d4ee0c43e1",
   "metadata": {},
   "outputs": [
    {
     "data": {
      "text/plain": [
       "0.0"
      ]
     },
     "execution_count": 230,
     "metadata": {},
     "output_type": "execute_result"
    }
   ],
   "source": [
    "k_dd = kece_meltdd[(kece_meltdd['district']== 'District in Grand Bassa') & (kece_meltdd['count']== 'District 5')]\n",
    "k_dd = kece_meltdd[(kece_meltdd['district']== 'District in Grand Bassa') & (kece_meltdd['count']== 'District 5B')]\n",
    "k_dd = kece_meltdd[(kece_meltdd['district']== 'District in Grand Bassa') & (kece_meltdd['count']== 'District 2')]\n",
    "k_dd = kece_meltdd[(kece_meltdd['district']== 'District in Grand Bassa') & (kece_meltdd['count']== 'District 3A')]\n",
    "k_dd = kece_meltdd[(kece_meltdd['district']== 'District in Grand Bassa') & (kece_meltdd['count']== 'District 3B')]\n",
    "k_dd = kece_meltdd[(kece_meltdd['district']== 'District in Grand Bassa') & (kece_meltdd['count']== 'District 1')]\n",
    "k_dd = kece_meltdd[(kece_meltdd['district']== 'District in Grand Bassa') & (kece_meltdd['count']== 'District 4')]\n",
    "#k_so\n",
    "k_dd.sum(1).sum()"
   ]
  },
  {
   "cell_type": "code",
   "execution_count": null,
   "id": "0b846b32-2b5c-48a6-af96-3b65e6e843c1",
   "metadata": {},
   "outputs": [],
   "source": []
  },
  {
   "cell_type": "code",
   "execution_count": 231,
   "id": "c76b4cd0-053a-44b1-a1ce-2bad30f07777",
   "metadata": {},
   "outputs": [
    {
     "data": {
      "text/plain": [
       "0.0"
      ]
     },
     "execution_count": 231,
     "metadata": {},
     "output_type": "execute_result"
    }
   ],
   "source": [
    "k_dd.iloc[:,:6].sum().sum()"
   ]
  },
  {
   "cell_type": "code",
   "execution_count": 232,
   "id": "3c230429-2bc4-40c6-a4fa-1d78f5115da9",
   "metadata": {},
   "outputs": [
    {
     "data": {
      "text/plain": [
       "0.0"
      ]
     },
     "execution_count": 232,
     "metadata": {},
     "output_type": "execute_result"
    }
   ],
   "source": [
    "k_dd.iloc[:,6:12].sum().sum()"
   ]
  },
  {
   "cell_type": "code",
   "execution_count": 233,
   "id": "64a8d135-eca0-4874-94db-0083b58c7779",
   "metadata": {},
   "outputs": [
    {
     "data": {
      "text/plain": [
       "0.0"
      ]
     },
     "execution_count": 233,
     "metadata": {},
     "output_type": "execute_result"
    }
   ],
   "source": [
    "k_dd.iloc[:,12:18].sum().sum()"
   ]
  },
  {
   "cell_type": "code",
   "execution_count": 234,
   "id": "2241c097-ce6e-432f-b020-d33cffccc52f",
   "metadata": {},
   "outputs": [
    {
     "data": {
      "text/plain": [
       "0.0"
      ]
     },
     "execution_count": 234,
     "metadata": {},
     "output_type": "execute_result"
    }
   ],
   "source": [
    "k_dd.iloc[:,18:24].sum().sum()"
   ]
  },
  {
   "cell_type": "markdown",
   "id": "292e7889-389e-4777-b3a8-6a03426ae510",
   "metadata": {},
   "source": [
    "## Districts in Grand Cape Mount"
   ]
  },
  {
   "cell_type": "code",
   "execution_count": 258,
   "id": "3012f294-3435-4b95-9bfe-9851586b0cc3",
   "metadata": {},
   "outputs": [
    {
     "data": {
      "text/plain": [
       "14.0"
      ]
     },
     "execution_count": 258,
     "metadata": {},
     "output_type": "execute_result"
    }
   ],
   "source": [
    "k_dd = kece_meltdd[(kece_meltdd['district']== 'District in Grand Cape Mount') & (kece_meltdd['count']== 'Tewor')]\n",
    "k_dd = kece_meltdd[(kece_meltdd['district']== 'District in Grand Cape Mount') & (kece_meltdd['count']== 'Gola Konneh')]\n",
    "k_dd = kece_meltdd[(kece_meltdd['district']== 'District in Grand Cape Mount') & (kece_meltdd['count']== 'Porkpa')]\n",
    "k_dd = kece_meltdd[(kece_meltdd['district']== 'District in Grand Cape Mount') & (kece_meltdd['count']== 'Garwular')]\n",
    "k_dd = kece_meltdd[(kece_meltdd['district']== 'District in Grand Cape Mount') & (kece_meltdd['count']== 'Tallah Tombay')]\n",
    "#k_so\n",
    "k_dd.sum(1).sum()"
   ]
  },
  {
   "cell_type": "code",
   "execution_count": null,
   "id": "24ccb8bc-3a8f-44d3-9664-119e89516bd0",
   "metadata": {},
   "outputs": [],
   "source": []
  },
  {
   "cell_type": "code",
   "execution_count": 259,
   "id": "dd9c33ad-2969-4730-8086-cf662a3e393e",
   "metadata": {},
   "outputs": [
    {
     "data": {
      "text/plain": [
       "4.0"
      ]
     },
     "execution_count": 259,
     "metadata": {},
     "output_type": "execute_result"
    }
   ],
   "source": [
    "k_dd.iloc[:,:6].sum().sum()"
   ]
  },
  {
   "cell_type": "code",
   "execution_count": 260,
   "id": "253539f2-4017-4c59-8573-2f8e44cf14e7",
   "metadata": {},
   "outputs": [
    {
     "data": {
      "text/plain": [
       "4.0"
      ]
     },
     "execution_count": 260,
     "metadata": {},
     "output_type": "execute_result"
    }
   ],
   "source": [
    "k_dd.iloc[:,6:12].sum().sum()"
   ]
  },
  {
   "cell_type": "code",
   "execution_count": 261,
   "id": "68891be9-2442-423b-a9b3-6c838bbc5d4d",
   "metadata": {},
   "outputs": [
    {
     "data": {
      "text/plain": [
       "4.0"
      ]
     },
     "execution_count": 261,
     "metadata": {},
     "output_type": "execute_result"
    }
   ],
   "source": [
    "k_dd.iloc[:,12:18].sum().sum()"
   ]
  },
  {
   "cell_type": "code",
   "execution_count": 262,
   "id": "853405a8-76e5-49ac-a618-3022a80a54a2",
   "metadata": {},
   "outputs": [
    {
     "data": {
      "text/plain": [
       "2.0"
      ]
     },
     "execution_count": 262,
     "metadata": {},
     "output_type": "execute_result"
    }
   ],
   "source": [
    "k_dd.iloc[:,18:24].sum().sum()"
   ]
  },
  {
   "cell_type": "code",
   "execution_count": null,
   "id": "8a7d53fd-bff7-4771-a9c6-0c93d7cd12ad",
   "metadata": {},
   "outputs": [],
   "source": []
  },
  {
   "cell_type": "markdown",
   "id": "e59922af-1ddd-4399-be97-517bed394c6b",
   "metadata": {},
   "source": [
    "## Districts in Grand Gedeh"
   ]
  },
  {
   "cell_type": "code",
   "execution_count": 308,
   "id": "7c06caa6-b42d-44c8-a723-a2d9a562ddf3",
   "metadata": {},
   "outputs": [
    {
     "data": {
      "text/plain": [
       "9.0"
      ]
     },
     "execution_count": 308,
     "metadata": {},
     "output_type": "execute_result"
    }
   ],
   "source": [
    "k_dd = kece_meltdd[(kece_meltdd['district']== 'Districts in Grand Gedeh') & (kece_meltdd['count']== 'Konobo')]\n",
    "k_dd = kece_meltdd[(kece_meltdd['district']== 'Districts in Grand Gedeh') & (kece_meltdd['count']== 'Putu')]\n",
    "k_dd = kece_meltdd[(kece_meltdd['district']== 'Districts in Grand Gedeh') & (kece_meltdd['count']== 'Gbarzon')]\n",
    "k_dd = kece_meltdd[(kece_meltdd['district']== 'Districts in Grand Gedeh') & (kece_meltdd['count']== 'Tchien')]\n",
    "k_dd = kece_meltdd[(kece_meltdd['district']== 'Districts in Grand Gedeh') & (kece_meltdd['count']== 'Cavalla')]\n",
    "#k_so\n",
    "k_dd.sum(1).sum()"
   ]
  },
  {
   "cell_type": "code",
   "execution_count": null,
   "id": "f6ee905e-1c80-4105-8144-034d027757e5",
   "metadata": {},
   "outputs": [],
   "source": []
  },
  {
   "cell_type": "code",
   "execution_count": 309,
   "id": "8a1f8a04-44ae-4ece-a2de-5494566f4806",
   "metadata": {},
   "outputs": [
    {
     "data": {
      "text/plain": [
       "4.0"
      ]
     },
     "execution_count": 309,
     "metadata": {},
     "output_type": "execute_result"
    }
   ],
   "source": [
    "k_dd.iloc[:,:6].sum().sum()"
   ]
  },
  {
   "cell_type": "code",
   "execution_count": 310,
   "id": "f157cc43-9839-4495-92b2-b62a9feee973",
   "metadata": {},
   "outputs": [
    {
     "data": {
      "text/plain": [
       "2.0"
      ]
     },
     "execution_count": 310,
     "metadata": {},
     "output_type": "execute_result"
    }
   ],
   "source": [
    "k_dd.iloc[:,6:12].sum().sum()"
   ]
  },
  {
   "cell_type": "code",
   "execution_count": 311,
   "id": "6bfeb31d-b927-41bf-83fb-4986402ae61b",
   "metadata": {},
   "outputs": [
    {
     "data": {
      "text/plain": [
       "2.0"
      ]
     },
     "execution_count": 311,
     "metadata": {},
     "output_type": "execute_result"
    }
   ],
   "source": [
    "k_dd.iloc[:,12:18].sum().sum()"
   ]
  },
  {
   "cell_type": "code",
   "execution_count": 312,
   "id": "38abc8a2-0268-484a-a51d-c3f18cfe9718",
   "metadata": {},
   "outputs": [
    {
     "data": {
      "text/plain": [
       "1.0"
      ]
     },
     "execution_count": 312,
     "metadata": {},
     "output_type": "execute_result"
    }
   ],
   "source": [
    "k_dd.iloc[:,18:24].sum().sum()"
   ]
  },
  {
   "cell_type": "markdown",
   "id": "35f7907e-d18d-4878-89c9-2b3a837e7431",
   "metadata": {},
   "source": [
    "## Districts in Grand Kru"
   ]
  },
  {
   "cell_type": "code",
   "execution_count": 348,
   "id": "deab3f70-147b-48ec-a017-2744c9828241",
   "metadata": {},
   "outputs": [
    {
     "data": {
      "text/plain": [
       "8.0"
      ]
     },
     "execution_count": 348,
     "metadata": {},
     "output_type": "execute_result"
    }
   ],
   "source": [
    "k_dd = kece_meltdd[(kece_meltdd['district']== 'Districts in Grand Kru') & (kece_meltdd['count']== 'Barclayville')]\n",
    "k_dd = kece_meltdd[(kece_meltdd['district']== 'Districts in Grand Kru') & (kece_meltdd['count']== 'Trehn')]\n",
    "k_dd = kece_meltdd[(kece_meltdd['district']== 'Districts in Grand Kru') & (kece_meltdd['count']== 'Buah')]\n",
    "k_dd = kece_meltdd[(kece_meltdd['district']== 'Districts in Grand Kru') & (kece_meltdd['count']== 'Grand Cess')]\n",
    "k_dd = kece_meltdd[(kece_meltdd['district']== 'Districts in Grand Kru') & (kece_meltdd['count']== 'Dorbor')]\n",
    "k_dd = kece_meltdd[(kece_meltdd['district']== 'Districts in Grand Kru') & (kece_meltdd['count']== 'Jloh')]\n",
    "k_dd = kece_meltdd[(kece_meltdd['district']== 'Districts in Grand Kru') & (kece_meltdd['count']== 'Sass Town')]\n",
    "k_dd = kece_meltdd[(kece_meltdd['district']== 'Districts in Grand Kru') & (kece_meltdd['count']== 'Wedabo')]\n",
    "#k_so\n",
    "k_dd.sum(1).sum()"
   ]
  },
  {
   "cell_type": "code",
   "execution_count": null,
   "id": "c366deec-242a-4dc8-84ca-6d82cc8b4257",
   "metadata": {},
   "outputs": [],
   "source": []
  },
  {
   "cell_type": "code",
   "execution_count": 349,
   "id": "1d4254cb-cf5a-4668-8818-3fa2bae3a51b",
   "metadata": {},
   "outputs": [
    {
     "data": {
      "text/plain": [
       "3.0"
      ]
     },
     "execution_count": 349,
     "metadata": {},
     "output_type": "execute_result"
    }
   ],
   "source": [
    "k_dd.iloc[:,:6].sum().sum()"
   ]
  },
  {
   "cell_type": "code",
   "execution_count": 350,
   "id": "9df3b075-f669-4786-b3bc-b463fbee9812",
   "metadata": {},
   "outputs": [
    {
     "data": {
      "text/plain": [
       "1.0"
      ]
     },
     "execution_count": 350,
     "metadata": {},
     "output_type": "execute_result"
    }
   ],
   "source": [
    "k_dd.iloc[:,6:12].sum().sum()"
   ]
  },
  {
   "cell_type": "code",
   "execution_count": 351,
   "id": "89996ce0-f1de-422d-aea4-ae92ea762382",
   "metadata": {},
   "outputs": [
    {
     "data": {
      "text/plain": [
       "1.0"
      ]
     },
     "execution_count": 351,
     "metadata": {},
     "output_type": "execute_result"
    }
   ],
   "source": [
    "k_dd.iloc[:,12:18].sum().sum()"
   ]
  },
  {
   "cell_type": "code",
   "execution_count": 352,
   "id": "477f56ba-0df9-443e-bcbe-273e2c687fb9",
   "metadata": {},
   "outputs": [
    {
     "data": {
      "text/plain": [
       "3.0"
      ]
     },
     "execution_count": 352,
     "metadata": {},
     "output_type": "execute_result"
    }
   ],
   "source": [
    "k_dd.iloc[:,18:24].sum().sum()"
   ]
  },
  {
   "cell_type": "markdown",
   "id": "1f0e34aa-36a1-4bd8-bd12-204948554b04",
   "metadata": {},
   "source": [
    "## Districts in Lofa"
   ]
  },
  {
   "cell_type": "code",
   "execution_count": 383,
   "id": "a004f6c6-2449-4448-b6b3-7ff8bb2d72ac",
   "metadata": {},
   "outputs": [
    {
     "data": {
      "text/plain": [
       "17.0"
      ]
     },
     "execution_count": 383,
     "metadata": {},
     "output_type": "execute_result"
    }
   ],
   "source": [
    "k_so = kece_melto[(kece_melto['district']== 'District in Lofa') & (kece_melto['count']== 'Foya')].groupby('Type of school').sum().sum(1)\n",
    "k_dd = kece_meltdd[(kece_meltdd['district']== 'District in Lofa') & (kece_meltdd['count']== 'Kolahun 1')]\n",
    "k_dd = kece_meltdd[(kece_meltdd['district']== 'District in Lofa') & (kece_meltdd['count']== 'Kolahun 2')]\n",
    "k_dd = kece_meltdd[(kece_meltdd['district']== 'District in Lofa') & (kece_meltdd['count']== 'Salayea')]\n",
    "k_dd = kece_meltdd[(kece_meltdd['district']== 'District in Lofa') & (kece_meltdd['count']== 'Vahun')]\n",
    "k_dd = kece_meltdd[(kece_meltdd['district']== 'District in Lofa') & (kece_meltdd['count']== 'Voinjama')]\n",
    "k_dd = kece_meltdd[(kece_meltdd['district']== 'District in Lofa') & (kece_meltdd['count']== 'Zorzor')]\n",
    "#k_so\n",
    "k_dd.sum(1).sum()"
   ]
  },
  {
   "cell_type": "code",
   "execution_count": null,
   "id": "3c4c63f7-e02e-40cf-b9c9-d37fc5306631",
   "metadata": {},
   "outputs": [],
   "source": []
  },
  {
   "cell_type": "code",
   "execution_count": 384,
   "id": "f6f7133e-9f75-464e-a465-e877deb71d89",
   "metadata": {},
   "outputs": [
    {
     "data": {
      "text/plain": [
       "15.0"
      ]
     },
     "execution_count": 384,
     "metadata": {},
     "output_type": "execute_result"
    }
   ],
   "source": [
    "k_dd.iloc[:,:6].sum().sum()"
   ]
  },
  {
   "cell_type": "code",
   "execution_count": 385,
   "id": "d075aa13-06fc-4d48-9856-2053fe202af3",
   "metadata": {},
   "outputs": [
    {
     "data": {
      "text/plain": [
       "0.0"
      ]
     },
     "execution_count": 385,
     "metadata": {},
     "output_type": "execute_result"
    }
   ],
   "source": [
    "k_dd.iloc[:,6:12].sum().sum()"
   ]
  },
  {
   "cell_type": "code",
   "execution_count": 386,
   "id": "a0301c47-cde6-4310-9eea-81c0ed253aa4",
   "metadata": {},
   "outputs": [
    {
     "data": {
      "text/plain": [
       "1.0"
      ]
     },
     "execution_count": 386,
     "metadata": {},
     "output_type": "execute_result"
    }
   ],
   "source": [
    "k_dd.iloc[:,12:18].sum().sum()"
   ]
  },
  {
   "cell_type": "code",
   "execution_count": 387,
   "id": "f3c09571-111e-4dc2-a030-64c6783de260",
   "metadata": {},
   "outputs": [
    {
     "data": {
      "text/plain": [
       "1.0"
      ]
     },
     "execution_count": 387,
     "metadata": {},
     "output_type": "execute_result"
    }
   ],
   "source": [
    "k_dd.iloc[:,18:24].sum().sum()"
   ]
  },
  {
   "cell_type": "code",
   "execution_count": null,
   "id": "977217f1-e265-4d33-bd1c-699b26ca389d",
   "metadata": {},
   "outputs": [],
   "source": []
  },
  {
   "cell_type": "markdown",
   "id": "f6340709-94cb-4559-9e5a-cb69bb689678",
   "metadata": {},
   "source": [
    "## Districts in Margibi"
   ]
  },
  {
   "cell_type": "code",
   "execution_count": 434,
   "id": "2c8efc59-9c55-436a-9a49-2b8d5bf8db23",
   "metadata": {},
   "outputs": [
    {
     "data": {
      "text/plain": [
       "1.0"
      ]
     },
     "execution_count": 434,
     "metadata": {},
     "output_type": "execute_result"
    }
   ],
   "source": [
    "k_dd = kece_meltdd[(kece_meltdd['district']== 'District in Margibi') & (kece_meltdd['count']== 'Marshall')]\n",
    "k_dd = kece_meltdd[(kece_meltdd['district']== 'District in Margibi') & (kece_meltdd['count']== 'Farmington')]\n",
    "k_dd = kece_meltdd[(kece_meltdd['district']== 'District in Margibi') & (kece_meltdd['count']== 'Mama kaba')]\n",
    "#k_dd = kece_meltdd[(kece_meltdd['district']== 'District in Margibi') & (kece_meltdd['count']== 'Gibi')]\n",
    "#k_dd = kece_meltdd[(kece_meltdd['district']== 'District in Margibi') & (kece_meltdd['count']== 'Kakata 1')]\n",
    "#k_dd = kece_meltdd[(kece_meltdd['district']== 'District in Margibi') & (kece_meltdd['count']== 'Kakata 2')]\n",
    "#k_so\n",
    "k_dd.sum(1).sum()"
   ]
  },
  {
   "cell_type": "code",
   "execution_count": null,
   "id": "2affc308-cb7f-48f5-97d6-f3f269c05266",
   "metadata": {},
   "outputs": [],
   "source": []
  },
  {
   "cell_type": "code",
   "execution_count": 435,
   "id": "4e407392-f684-4c1c-b390-e352681bb24b",
   "metadata": {},
   "outputs": [
    {
     "data": {
      "text/plain": [
       "1.0"
      ]
     },
     "execution_count": 435,
     "metadata": {},
     "output_type": "execute_result"
    }
   ],
   "source": [
    "k_dd.iloc[:,:6].sum().sum()"
   ]
  },
  {
   "cell_type": "code",
   "execution_count": 436,
   "id": "b30edd0f-1333-4587-846b-a43c453f35a1",
   "metadata": {},
   "outputs": [
    {
     "data": {
      "text/plain": [
       "0.0"
      ]
     },
     "execution_count": 436,
     "metadata": {},
     "output_type": "execute_result"
    }
   ],
   "source": [
    "k_dd.iloc[:,6:12].sum().sum()"
   ]
  },
  {
   "cell_type": "code",
   "execution_count": 437,
   "id": "299da816-1ab7-4543-8cc4-83680dd829ee",
   "metadata": {},
   "outputs": [
    {
     "data": {
      "text/plain": [
       "0.0"
      ]
     },
     "execution_count": 437,
     "metadata": {},
     "output_type": "execute_result"
    }
   ],
   "source": [
    "k_dd.iloc[:,12:18].sum().sum()"
   ]
  },
  {
   "cell_type": "code",
   "execution_count": 438,
   "id": "cf15a3fb-bb67-4ce2-8af4-5ce5a8166d30",
   "metadata": {},
   "outputs": [
    {
     "data": {
      "text/plain": [
       "0.0"
      ]
     },
     "execution_count": 438,
     "metadata": {},
     "output_type": "execute_result"
    }
   ],
   "source": [
    "k_dd.iloc[:,18:24].sum().sum()"
   ]
  },
  {
   "cell_type": "markdown",
   "id": "92a61b29-d2e4-42f7-b29d-ca9b7921fd25",
   "metadata": {},
   "source": [
    "##### "
   ]
  },
  {
   "cell_type": "markdown",
   "id": "0e331be0-2edf-4388-ab36-b87ddfdff62f",
   "metadata": {},
   "source": [
    "## Districts in Maryland"
   ]
  },
  {
   "cell_type": "code",
   "execution_count": 474,
   "id": "90312dfe-2b09-4045-b298-cc59a5e840db",
   "metadata": {},
   "outputs": [
    {
     "data": {
      "text/plain": [
       "0.0"
      ]
     },
     "execution_count": 474,
     "metadata": {},
     "output_type": "execute_result"
    }
   ],
   "source": [
    "k_dd = kece_meltdd[(kece_meltdd['district']== 'District in Maryland') & (kece_meltdd['count']== 'Harper 1')]\n",
    "k_dd = kece_meltdd[(kece_meltdd['district']== 'District in Maryland') & (kece_meltdd['count']== 'Harper 2')]\n",
    "k_dd = kece_meltdd[(kece_meltdd['district']== 'District in Maryland') & (kece_meltdd['count']== 'Barrobo 1')]\n",
    "k_dd = kece_meltdd[(kece_meltdd['district']== 'District in Maryland') & (kece_meltdd['count']== 'Barrobo 2')]\n",
    "k_dd = kece_meltdd[(kece_meltdd['district']== 'District in Maryland') & (kece_meltdd['count']== 'Sodoken')]\n",
    "k_dd = kece_meltdd[(kece_meltdd['district']== 'District in Maryland') & (kece_meltdd['count']== 'Karleway 1')]\n",
    "k_dd = kece_meltdd[(kece_meltdd['district']== 'District in Maryland') & (kece_meltdd['count']== 'Karleway 2')]\n",
    "k_dd = kece_meltdd[(kece_meltdd['district']== 'District in Maryland') & (kece_meltdd['count']== 'Pleebo')]\n",
    "\n",
    "k_so\n",
    "k_dd.sum(1).sum()"
   ]
  },
  {
   "cell_type": "code",
   "execution_count": null,
   "id": "c3636d21-64dd-400a-bac5-b7a534572735",
   "metadata": {},
   "outputs": [],
   "source": []
  },
  {
   "cell_type": "code",
   "execution_count": 475,
   "id": "89a04e79-b3c6-4c18-80d0-b19a2bf29b5c",
   "metadata": {},
   "outputs": [
    {
     "data": {
      "text/plain": [
       "0.0"
      ]
     },
     "execution_count": 475,
     "metadata": {},
     "output_type": "execute_result"
    }
   ],
   "source": [
    "k_dd.iloc[:,:6].sum().sum()"
   ]
  },
  {
   "cell_type": "code",
   "execution_count": 476,
   "id": "36906d2d-a306-44f6-9f3d-e36fbe0d941e",
   "metadata": {},
   "outputs": [
    {
     "data": {
      "text/plain": [
       "0.0"
      ]
     },
     "execution_count": 476,
     "metadata": {},
     "output_type": "execute_result"
    }
   ],
   "source": [
    "k_dd.iloc[:,6:12].sum().sum()"
   ]
  },
  {
   "cell_type": "code",
   "execution_count": 477,
   "id": "aed625b4-8e09-457b-b3c6-4424e808adb7",
   "metadata": {},
   "outputs": [
    {
     "data": {
      "text/plain": [
       "0.0"
      ]
     },
     "execution_count": 477,
     "metadata": {},
     "output_type": "execute_result"
    }
   ],
   "source": [
    "k_dd.iloc[:,12:18].sum().sum()"
   ]
  },
  {
   "cell_type": "code",
   "execution_count": 478,
   "id": "92c21a37-f5e6-4042-9634-8cbd46332f87",
   "metadata": {},
   "outputs": [
    {
     "data": {
      "text/plain": [
       "0.0"
      ]
     },
     "execution_count": 478,
     "metadata": {},
     "output_type": "execute_result"
    }
   ],
   "source": [
    "k_dd.iloc[:,18:24].sum().sum()"
   ]
  },
  {
   "cell_type": "markdown",
   "id": "c48b6f59-7cc5-4c62-8fd0-6f38766b1c99",
   "metadata": {},
   "source": [
    "## Districts in Montserrado 1"
   ]
  },
  {
   "cell_type": "code",
   "execution_count": 550,
   "id": "67886051-a286-4e8a-935d-82a89155346f",
   "metadata": {},
   "outputs": [
    {
     "data": {
      "text/plain": [
       "21.0"
      ]
     },
     "execution_count": 550,
     "metadata": {},
     "output_type": "execute_result"
    }
   ],
   "source": [
    "k_dd = kece_meltdd[(kece_meltdd['district']== 'District in Montserrado 1') & (kece_meltdd['count']== 'Paynesville 1')]\n",
    "k_dd = kece_meltdd[(kece_meltdd['district']== 'District in Montserrado 1') & (kece_meltdd['count']== 'Paynesville 2')]\n",
    "k_dd = kece_meltdd[(kece_meltdd['district']== 'District in Montserrado 1') & (kece_meltdd['count']== 'Paynesville 3')]\n",
    "k_dd = kece_meltdd[(kece_meltdd['district']== 'District in Montserrado 1') & (kece_meltdd['count']== 'Paynesville 4')]\n",
    "k_dd = kece_meltdd[(kece_meltdd['district']== 'District in Montserrado 1') & (kece_meltdd['count']== 'Paynesville 5')]\n",
    "k_dd = kece_meltdd[(kece_meltdd['district']== 'District in Montserrado 1') & (kece_meltdd['count']== 'Paynesville 6')]\n",
    "k_dd = kece_meltdd[(kece_meltdd['district']== 'District in Montserrado 1') & (kece_meltdd['count']== 'Greater Monrovia 1A')]\n",
    "k_dd = kece_meltdd[(kece_meltdd['district']== 'District in Montserrado 1') & (kece_meltdd['count']== 'Greater Monrovia 1B')]\n",
    "k_dd = kece_meltdd[(kece_meltdd['district']== 'District in Montserrado 1') & (kece_meltdd['count']== 'Greater Monrovia 1C')]\n",
    "k_dd = kece_meltdd[(kece_meltdd['district']== 'District in Montserrado 1') & (kece_meltdd['count']== 'Greater Monrovia 1D')]\n",
    "k_dd = kece_meltdd[(kece_meltdd['district']== 'District in Montserrado 1') & (kece_meltdd['count']== 'Greater Monrovia 1E')]\n",
    "k_dd = kece_meltdd[(kece_meltdd['district']== 'District in Montserrado 1') & (kece_meltdd['count']== 'Greater Monrovia 2A')]\n",
    "k_dd = kece_meltdd[(kece_meltdd['district']== 'District in Montserrado 1') & (kece_meltdd['count']== 'Greater Monrovia 2B')]\n",
    "k_dd = kece_meltdd[(kece_meltdd['district']== 'District in Montserrado 1') & (kece_meltdd['count']== 'Greater Monrovia 2C')]\n",
    "k_dd = kece_meltdd[(kece_meltdd['district']== 'District in Montserrado 1') & (kece_meltdd['count']== 'Greater Monrovia 2D')]\n",
    "\n",
    "k_so\n",
    "k_dd.sum(1).sum()"
   ]
  },
  {
   "cell_type": "code",
   "execution_count": null,
   "id": "2177c2d2-f52f-48ac-9b23-8d99d6fb3303",
   "metadata": {},
   "outputs": [],
   "source": []
  },
  {
   "cell_type": "code",
   "execution_count": 551,
   "id": "ab0fa91f-b475-49d0-8a3d-a61c96e69168",
   "metadata": {},
   "outputs": [
    {
     "data": {
      "text/plain": [
       "2.0"
      ]
     },
     "execution_count": 551,
     "metadata": {},
     "output_type": "execute_result"
    }
   ],
   "source": [
    "k_dd.iloc[:,:6].sum().sum()"
   ]
  },
  {
   "cell_type": "code",
   "execution_count": 552,
   "id": "74c44544-d3a4-4566-a8d3-a9ced7c34f06",
   "metadata": {},
   "outputs": [
    {
     "data": {
      "text/plain": [
       "9.0"
      ]
     },
     "execution_count": 552,
     "metadata": {},
     "output_type": "execute_result"
    }
   ],
   "source": [
    "k_dd.iloc[:,6:12].sum().sum()"
   ]
  },
  {
   "cell_type": "code",
   "execution_count": 553,
   "id": "314f02bb-4c46-4581-83bb-5c8c9a895ead",
   "metadata": {},
   "outputs": [
    {
     "data": {
      "text/plain": [
       "8.0"
      ]
     },
     "execution_count": 553,
     "metadata": {},
     "output_type": "execute_result"
    }
   ],
   "source": [
    "k_dd.iloc[:,12:18].sum().sum()"
   ]
  },
  {
   "cell_type": "code",
   "execution_count": 549,
   "id": "b2938ee8-b236-4fd2-8c92-acae6787755d",
   "metadata": {},
   "outputs": [
    {
     "data": {
      "text/plain": [
       "1.0"
      ]
     },
     "execution_count": 549,
     "metadata": {},
     "output_type": "execute_result"
    }
   ],
   "source": [
    "k_dd.iloc[:,18:24].sum().sum()"
   ]
  },
  {
   "cell_type": "markdown",
   "id": "cd458cfd-6730-4977-b352-010d7cd6fa22",
   "metadata": {},
   "source": [
    "## Districts in Montserrado 2"
   ]
  },
  {
   "cell_type": "code",
   "execution_count": 613,
   "id": "d1aef104-9be6-475d-8b82-18abb2df800a",
   "metadata": {},
   "outputs": [
    {
     "data": {
      "text/plain": [
       "31.0"
      ]
     },
     "execution_count": 613,
     "metadata": {},
     "output_type": "execute_result"
    }
   ],
   "source": [
    "k_dd = kece_meltdd[(kece_meltdd['district']== 'District in Montserrado 2') & (kece_meltdd['count']== 'Left Bank 1A')]\n",
    "k_dd = kece_meltdd[(kece_meltdd['district']== 'District in Montserrado 2') & (kece_meltdd['count']== 'Left bank 1B')]\n",
    "k_dd = kece_meltdd[(kece_meltdd['district']== 'District in Montserrado 2') & (kece_meltdd['count']== 'Left bank  1C')]\n",
    "k_dd = kece_meltdd[(kece_meltdd['district']== 'District in Montserrado 2') & (kece_meltdd['count']== 'Left Bank 1D')]\n",
    "k_dd = kece_meltdd[(kece_meltdd['district']== 'District in Montserrado 2') & (kece_meltdd['count']== 'Left Bank 2A')]\n",
    "k_dd = kece_meltdd[(kece_meltdd['district']== 'District in Montserrado 2') & (kece_meltdd['count']== 'Left bank 2B')]\n",
    "k_dd = kece_meltdd[(kece_meltdd['district']== 'District in Montserrado 2') & (kece_meltdd['count']== 'Careysburg')]\n",
    "k_dd = kece_meltdd[(kece_meltdd['district']== 'District in Montserrado 2') & (kece_meltdd['count']== 'Todee')]\n",
    "k_dd = kece_meltdd[(kece_meltdd['district']== 'District in Montserrado 2') & (kece_meltdd['count']== 'Right Bank 1')]\n",
    "k_dd = kece_meltdd[(kece_meltdd['district']== 'District in Montserrado 2') & (kece_meltdd['count']== 'Right Bank 2')]\n",
    "k_dd = kece_meltdd[(kece_meltdd['district']== 'District in Montserrado 2') & (kece_meltdd['count']== 'Right Bank 3')]\n",
    "\n",
    "k_so\n",
    "k_dd.sum(1).sum()"
   ]
  },
  {
   "cell_type": "code",
   "execution_count": null,
   "id": "ae1fd112-9d1a-4bdc-bed8-adea60fb1bb7",
   "metadata": {},
   "outputs": [],
   "source": []
  },
  {
   "cell_type": "code",
   "execution_count": 614,
   "id": "c3b958ea-55d9-4d93-8193-6b97dd77e93d",
   "metadata": {},
   "outputs": [
    {
     "data": {
      "text/plain": [
       "0.0"
      ]
     },
     "execution_count": 614,
     "metadata": {},
     "output_type": "execute_result"
    }
   ],
   "source": [
    "k_dd.iloc[:,:6].sum().sum()"
   ]
  },
  {
   "cell_type": "code",
   "execution_count": 615,
   "id": "eee31745-66f6-4f4e-b871-09d5ca5cb1bf",
   "metadata": {},
   "outputs": [
    {
     "data": {
      "text/plain": [
       "2.0"
      ]
     },
     "execution_count": 615,
     "metadata": {},
     "output_type": "execute_result"
    }
   ],
   "source": [
    "k_dd.iloc[:,6:12].sum().sum()"
   ]
  },
  {
   "cell_type": "code",
   "execution_count": 616,
   "id": "e820e94a-d40f-4c45-8b23-2d1a2a67e3a3",
   "metadata": {},
   "outputs": [
    {
     "data": {
      "text/plain": [
       "24.0"
      ]
     },
     "execution_count": 616,
     "metadata": {},
     "output_type": "execute_result"
    }
   ],
   "source": [
    "k_dd.iloc[:,12:18].sum().sum()"
   ]
  },
  {
   "cell_type": "code",
   "execution_count": 617,
   "id": "d31b1b37-c85b-4a5a-aa1a-d3cfe26ea932",
   "metadata": {},
   "outputs": [
    {
     "data": {
      "text/plain": [
       "5.0"
      ]
     },
     "execution_count": 617,
     "metadata": {},
     "output_type": "execute_result"
    }
   ],
   "source": [
    "k_dd.iloc[:,18:24].sum().sum()"
   ]
  },
  {
   "cell_type": "markdown",
   "id": "23e2cc19-55c0-4e83-8552-43002aef9ece",
   "metadata": {},
   "source": [
    "## Districts in Nimba"
   ]
  },
  {
   "cell_type": "code",
   "execution_count": 673,
   "id": "00f7787c-f92c-4c3d-b740-b3bc76b7de60",
   "metadata": {},
   "outputs": [
    {
     "data": {
      "text/plain": [
       "10.0"
      ]
     },
     "execution_count": 673,
     "metadata": {},
     "output_type": "execute_result"
    }
   ],
   "source": [
    "k_dd = kece_meltdd[(kece_meltdd['district']== 'District in Nimba') & (kece_meltdd['count']== 'Tappita 1')]\n",
    "k_dd = kece_meltdd[(kece_meltdd['district']== 'District in Nimba') & (kece_meltdd['count']== 'Tappita 2')]\n",
    "k_dd = kece_meltdd[(kece_meltdd['district']== 'District in Nimba') & (kece_meltdd['count']== 'Saclepea 1')]\n",
    "k_dd = kece_meltdd[(kece_meltdd['district']== 'District in Nimba') & (kece_meltdd['count']== 'Sanniquellie Mah')]\n",
    "k_dd = kece_meltdd[(kece_meltdd['district']== 'District in Nimba') & (kece_meltdd['count']== 'Zoe-Geh')]\n",
    "k_dd = kece_meltdd[(kece_meltdd['district']== 'District in Nimba') & (kece_meltdd['count']== 'Tuwah River')]\n",
    "k_dd = kece_meltdd[(kece_meltdd['district']== 'District in Nimba') & (kece_meltdd['count']== 'Gbelay-Geh')]\n",
    "k_dd = kece_meltdd[(kece_meltdd['district']== 'District in Nimba') & (kece_meltdd['count']== 'Yarpea Mah')]\n",
    "k_dd = kece_meltdd[(kece_meltdd['district']== 'District in Nimba') & (kece_meltdd['count']== 'Yarwein Mensonoh')]\n",
    "k_dd = kece_meltdd[(kece_meltdd['district']== 'District in Nimba') & (kece_meltdd['count']== 'Buuyao')]\n",
    "k_dd = kece_meltdd[(kece_meltdd['district']== 'District in Nimba') & (kece_meltdd['count']== 'Bain-Garr 1')]\n",
    "k_dd = kece_meltdd[(kece_meltdd['district']== 'District in Nimba') & (kece_meltdd['count']== 'Bain- Garr 2')]\n",
    "k_so\n",
    "\n",
    "k_dd.sum(1).sum()"
   ]
  },
  {
   "cell_type": "code",
   "execution_count": null,
   "id": "3459930f-2d21-467f-ba51-ba00a63f8b57",
   "metadata": {},
   "outputs": [],
   "source": []
  },
  {
   "cell_type": "code",
   "execution_count": 674,
   "id": "6b91c8e7-aa99-41de-adea-8f065c16a781",
   "metadata": {},
   "outputs": [
    {
     "data": {
      "text/plain": [
       "1.0"
      ]
     },
     "execution_count": 674,
     "metadata": {},
     "output_type": "execute_result"
    }
   ],
   "source": [
    "k_dd.iloc[:,:6].sum().sum()"
   ]
  },
  {
   "cell_type": "code",
   "execution_count": 675,
   "id": "da06a5e2-770c-4883-867b-dedc3d318866",
   "metadata": {},
   "outputs": [
    {
     "data": {
      "text/plain": [
       "0.0"
      ]
     },
     "execution_count": 675,
     "metadata": {},
     "output_type": "execute_result"
    }
   ],
   "source": [
    "k_dd.iloc[:,6:12].sum().sum()"
   ]
  },
  {
   "cell_type": "code",
   "execution_count": 676,
   "id": "aa3bce39-ca76-4e43-a1a1-8e9299a4a162",
   "metadata": {},
   "outputs": [
    {
     "data": {
      "text/plain": [
       "8.0"
      ]
     },
     "execution_count": 676,
     "metadata": {},
     "output_type": "execute_result"
    }
   ],
   "source": [
    "k_dd.iloc[:,12:18].sum().sum()"
   ]
  },
  {
   "cell_type": "code",
   "execution_count": 677,
   "id": "57a4f9cb-4cff-429f-87ec-150d33de2bc3",
   "metadata": {},
   "outputs": [
    {
     "data": {
      "text/plain": [
       "1.0"
      ]
     },
     "execution_count": 677,
     "metadata": {},
     "output_type": "execute_result"
    }
   ],
   "source": [
    "k_dd.iloc[:,18:24].sum().sum()"
   ]
  },
  {
   "cell_type": "markdown",
   "id": "763fe06f-27c8-4138-add1-08e3414293a8",
   "metadata": {},
   "source": [
    "## Districts in River Gee"
   ]
  },
  {
   "cell_type": "code",
   "execution_count": 701,
   "id": "1e0e3712-79c7-47be-bae1-6993fc641841",
   "metadata": {},
   "outputs": [
    {
     "data": {
      "text/plain": [
       "6.0"
      ]
     },
     "execution_count": 701,
     "metadata": {},
     "output_type": "execute_result"
    }
   ],
   "source": [
    "k_dd = kece_meltdd[(kece_meltdd['district']== 'District in River Gee') & (kece_meltdd['count']== 'Sarbo')]\n",
    "k_dd = kece_meltdd[(kece_meltdd['district']== 'District in River Gee') & (kece_meltdd['count']== 'Tienpo')]\n",
    "k_dd = kece_meltdd[(kece_meltdd['district']== 'District in River Gee') & (kece_meltdd['count']== 'Chedepo')]\n",
    "k_dd = kece_meltdd[(kece_meltdd['district']== 'District in River Gee') & (kece_meltdd['count']== 'Putupo')]\n",
    "k_dd = kece_meltdd[(kece_meltdd['district']== 'District in River Gee') & (kece_meltdd['count']== 'Gbeapo')]\n",
    "k_dd = kece_meltdd[(kece_meltdd['district']== 'District in River Gee') & (kece_meltdd['count']== 'Webbo')]\n",
    "\n",
    "k_dd.sum(1).sum()"
   ]
  },
  {
   "cell_type": "code",
   "execution_count": null,
   "id": "6ebee464-0dd8-4936-90a2-fefd350fd792",
   "metadata": {},
   "outputs": [],
   "source": []
  },
  {
   "cell_type": "code",
   "execution_count": 702,
   "id": "cb5627b0-c73c-48eb-99c9-243a6dec0de3",
   "metadata": {},
   "outputs": [
    {
     "data": {
      "text/plain": [
       "1.0"
      ]
     },
     "execution_count": 702,
     "metadata": {},
     "output_type": "execute_result"
    }
   ],
   "source": [
    "k_dd.iloc[:,:6].sum().sum()"
   ]
  },
  {
   "cell_type": "code",
   "execution_count": 707,
   "id": "522740e8-750c-4e26-8514-c1f88b7eb905",
   "metadata": {},
   "outputs": [
    {
     "data": {
      "text/plain": [
       "4.0"
      ]
     },
     "execution_count": 707,
     "metadata": {},
     "output_type": "execute_result"
    }
   ],
   "source": [
    "k_dd.iloc[:,6:12].sum().sum()"
   ]
  },
  {
   "cell_type": "code",
   "execution_count": 704,
   "id": "c4e0bb09-8552-420a-8102-3bb7de8ac621",
   "metadata": {},
   "outputs": [
    {
     "data": {
      "text/plain": [
       "1.0"
      ]
     },
     "execution_count": 704,
     "metadata": {},
     "output_type": "execute_result"
    }
   ],
   "source": [
    "k_dd.iloc[:,12:18].sum().sum()"
   ]
  },
  {
   "cell_type": "code",
   "execution_count": 705,
   "id": "a584c903-e022-43ed-baef-377ca8a4679b",
   "metadata": {},
   "outputs": [
    {
     "data": {
      "text/plain": [
       "0.0"
      ]
     },
     "execution_count": 705,
     "metadata": {},
     "output_type": "execute_result"
    }
   ],
   "source": [
    "k_dd.iloc[:,18:24].sum().sum()"
   ]
  },
  {
   "cell_type": "markdown",
   "id": "0aa6f96b-c357-4d2c-955f-13fea7a89b5a",
   "metadata": {},
   "source": [
    "## Districts in River Cess"
   ]
  },
  {
   "cell_type": "code",
   "execution_count": 729,
   "id": "228df05f-1cee-4072-a3c2-881749f36b7c",
   "metadata": {},
   "outputs": [
    {
     "data": {
      "text/plain": [
       "7.0"
      ]
     },
     "execution_count": 729,
     "metadata": {},
     "output_type": "execute_result"
    }
   ],
   "source": [
    "k_dd = kece_meltdd[(kece_meltdd['district']== 'Districts in River Cess') & (kece_meltdd['count']== 'Timobo')]\n",
    "k_dd = kece_meltdd[(kece_meltdd['district']== 'Districts in River Cess') & (kece_meltdd['count']== 'Central Rivercess 1')]\n",
    "k_dd = kece_meltdd[(kece_meltdd['district']== 'Districts in River Cess') & (kece_meltdd['count']== 'Central Rivercess 2')]\n",
    "k_dd = kece_meltdd[(kece_meltdd['district']== 'Districts in River Cess') & (kece_meltdd['count']== 'Morwah')]\n",
    "k_dd = kece_meltdd[(kece_meltdd['district']== 'Districts in River Cess') & (kece_meltdd['count']== 'Yarnee')]\n",
    "k_so\n",
    "k_dd.sum(1).sum()"
   ]
  },
  {
   "cell_type": "code",
   "execution_count": 730,
   "id": "c5e0b3b7-0116-4cf3-9488-5b4673dfa472",
   "metadata": {},
   "outputs": [
    {
     "data": {
      "text/plain": [
       "2.0"
      ]
     },
     "execution_count": 730,
     "metadata": {},
     "output_type": "execute_result"
    }
   ],
   "source": [
    "k_dd.iloc[:,:6].sum().sum()"
   ]
  },
  {
   "cell_type": "code",
   "execution_count": 731,
   "id": "ad786ffc-0f16-4d15-bea6-cfe01a845306",
   "metadata": {},
   "outputs": [
    {
     "data": {
      "text/plain": [
       "3.0"
      ]
     },
     "execution_count": 731,
     "metadata": {},
     "output_type": "execute_result"
    }
   ],
   "source": [
    "k_dd.iloc[:,6:12].sum().sum()"
   ]
  },
  {
   "cell_type": "code",
   "execution_count": 732,
   "id": "3c95c3a9-b031-4dab-8080-34a2e314e9a1",
   "metadata": {},
   "outputs": [
    {
     "data": {
      "text/plain": [
       "2.0"
      ]
     },
     "execution_count": 732,
     "metadata": {},
     "output_type": "execute_result"
    }
   ],
   "source": [
    "k_dd.iloc[:,12:18].sum().sum()"
   ]
  },
  {
   "cell_type": "code",
   "execution_count": 733,
   "id": "3104fba7-931e-4c3f-a4bf-ce37a0d44e51",
   "metadata": {},
   "outputs": [
    {
     "data": {
      "text/plain": [
       "0.0"
      ]
     },
     "execution_count": 733,
     "metadata": {},
     "output_type": "execute_result"
    }
   ],
   "source": [
    "k_dd.iloc[:,18:24].sum().sum()"
   ]
  },
  {
   "cell_type": "markdown",
   "id": "ee85dd48-33df-4ead-9bc3-d38c8d02e005",
   "metadata": {},
   "source": [
    "## Districts in Sinoe"
   ]
  },
  {
   "cell_type": "code",
   "execution_count": 775,
   "id": "170cd233-c5ae-4260-9fd3-b9024f38c2bf",
   "metadata": {},
   "outputs": [
    {
     "data": {
      "text/plain": [
       "1.0"
      ]
     },
     "execution_count": 775,
     "metadata": {},
     "output_type": "execute_result"
    }
   ],
   "source": [
    "k_dd = kece_meltdd[(kece_meltdd['district']== 'District in Sinoe') & (kece_meltdd['count']== 'Upper Kpanyan')]\n",
    "k_dd = kece_meltdd[(kece_meltdd['district']== 'District in Sinoe') & (kece_meltdd['count']== 'Juarzon')]\n",
    "k_dd = kece_meltdd[(kece_meltdd['district']== 'District in Sinoe') & (kece_meltdd['count']== 'Lower Kpanyan')]\n",
    "k_dd = kece_meltdd[(kece_meltdd['district']== 'District in Sinoe') & (kece_meltdd['count']== 'Butaw')]\n",
    "k_dd = kece_meltdd[(kece_meltdd['district']== 'District in Sinoe') & (kece_meltdd['count']== 'Tarjuwon')]\n",
    "k_dd = kece_meltdd[(kece_meltdd['district']== 'District in Sinoe') & (kece_meltdd['count']== 'Jeadea')]\n",
    "k_dd = kece_meltdd[(kece_meltdd['district']== 'District in Sinoe') & (kece_meltdd['count']== 'Sanquin')]\n",
    "k_dd = kece_meltdd[(kece_meltdd['district']== 'District in Sinoe') & (kece_meltdd['count']== 'Greenville')]\n",
    "k_dd = kece_meltdd[(kece_meltdd['district']== 'District in Sinoe') & (kece_meltdd['count']== 'Central Kpanyan')]\n",
    "#k_so\n",
    "k_dd.sum(1).sum()"
   ]
  },
  {
   "cell_type": "code",
   "execution_count": null,
   "id": "cfae6bf5-9995-4992-93cc-236ec3b23b18",
   "metadata": {},
   "outputs": [],
   "source": []
  },
  {
   "cell_type": "code",
   "execution_count": 776,
   "id": "b1e1af38-1b11-4e68-8856-93e40df90045",
   "metadata": {},
   "outputs": [
    {
     "data": {
      "text/plain": [
       "0.0"
      ]
     },
     "execution_count": 776,
     "metadata": {},
     "output_type": "execute_result"
    }
   ],
   "source": [
    "k_dd.iloc[:,:6].sum().sum()"
   ]
  },
  {
   "cell_type": "code",
   "execution_count": 777,
   "id": "52194192-9374-407e-bde2-469e9ba369b6",
   "metadata": {},
   "outputs": [
    {
     "data": {
      "text/plain": [
       "0.0"
      ]
     },
     "execution_count": 777,
     "metadata": {},
     "output_type": "execute_result"
    }
   ],
   "source": [
    "k_dd.iloc[:,6:12].sum().sum()"
   ]
  },
  {
   "cell_type": "code",
   "execution_count": 778,
   "id": "af0258cd-0ce8-466e-b211-0432e8bf587f",
   "metadata": {},
   "outputs": [
    {
     "data": {
      "text/plain": [
       "1.0"
      ]
     },
     "execution_count": 778,
     "metadata": {},
     "output_type": "execute_result"
    }
   ],
   "source": [
    "k_dd.iloc[:,12:18].sum().sum()"
   ]
  },
  {
   "cell_type": "code",
   "execution_count": 779,
   "id": "f0f2414e-48b3-4c88-a232-b162affb1e97",
   "metadata": {},
   "outputs": [
    {
     "data": {
      "text/plain": [
       "0.0"
      ]
     },
     "execution_count": 779,
     "metadata": {},
     "output_type": "execute_result"
    }
   ],
   "source": [
    "k_dd.iloc[:,18:24].sum().sum()"
   ]
  },
  {
   "cell_type": "code",
   "execution_count": null,
   "id": "495c5419-8193-422d-a95c-0c594fae5b97",
   "metadata": {},
   "outputs": [],
   "source": []
  },
  {
   "cell_type": "code",
   "execution_count": null,
   "id": "06cee9f4-4a68-45a1-84bb-15149ab7614f",
   "metadata": {},
   "outputs": [],
   "source": []
  },
  {
   "cell_type": "code",
   "execution_count": null,
   "id": "c3335a00-5b2f-4bd9-ad80-454bd12ff31d",
   "metadata": {},
   "outputs": [],
   "source": []
  },
  {
   "cell_type": "code",
   "execution_count": null,
   "id": "ff547592-260b-4f7c-b8dd-d4217dd2aa42",
   "metadata": {},
   "outputs": [],
   "source": []
  },
  {
   "cell_type": "code",
   "execution_count": null,
   "id": "ca577d27-4e8b-4738-8366-1bc5d057091a",
   "metadata": {},
   "outputs": [],
   "source": []
  },
  {
   "cell_type": "code",
   "execution_count": null,
   "id": "4ff56335-6cdc-4d8f-937f-f8b5814f8d81",
   "metadata": {},
   "outputs": [],
   "source": []
  },
  {
   "cell_type": "code",
   "execution_count": null,
   "id": "253f3e34-f86f-4479-b11d-f35756394ec7",
   "metadata": {},
   "outputs": [],
   "source": []
  },
  {
   "cell_type": "code",
   "execution_count": null,
   "id": "d37d5570-f370-493a-9a1e-5cffe6851e2d",
   "metadata": {},
   "outputs": [],
   "source": []
  },
  {
   "cell_type": "code",
   "execution_count": 975,
   "id": "5af853d4-81a2-4ca5-a565-3348475f9eca",
   "metadata": {},
   "outputs": [],
   "source": [
    "#k_od = kece_meltdd[(kece_meltdd['district']== 'District in Sinoe') & (kece_meltdd['count']== 'Central Kpanyan')].sum()#.sum(1)#.groupby('Type of school').sum()#.sum(1)\n",
    "#kdis=k_od[1:-2]\n",
    "#kdis"
   ]
  },
  {
   "cell_type": "code",
   "execution_count": 391,
   "id": "811bb486-7884-4c70-88a5-289afdca998c",
   "metadata": {},
   "outputs": [
    {
     "data": {
      "text/plain": [
       "0.0"
      ]
     },
     "execution_count": 391,
     "metadata": {},
     "output_type": "execute_result"
    }
   ],
   "source": [
    "#visual\n",
    "#kdis[:6].sum()"
   ]
  },
  {
   "cell_type": "code",
   "execution_count": 392,
   "id": "30428095-10f6-45a8-bce3-9c4fa916cb5e",
   "metadata": {},
   "outputs": [
    {
     "data": {
      "text/plain": [
       "0.0"
      ]
     },
     "execution_count": 392,
     "metadata": {},
     "output_type": "execute_result"
    }
   ],
   "source": [
    "#hearing\n",
    "#kdis[6:12].sum()"
   ]
  },
  {
   "cell_type": "code",
   "execution_count": 393,
   "id": "0ed60ef9-dbc8-4138-a012-c7c16e5bdf84",
   "metadata": {},
   "outputs": [
    {
     "data": {
      "text/plain": [
       "1.0"
      ]
     },
     "execution_count": 393,
     "metadata": {},
     "output_type": "execute_result"
    }
   ],
   "source": [
    "#physical\n",
    "#kdis[12:18].sum()"
   ]
  },
  {
   "cell_type": "code",
   "execution_count": 394,
   "id": "2b2a5634-1aae-4d8d-b248-e8b137c9d733",
   "metadata": {},
   "outputs": [
    {
     "data": {
      "text/plain": [
       "0.0"
      ]
     },
     "execution_count": 394,
     "metadata": {},
     "output_type": "execute_result"
    }
   ],
   "source": [
    "#mental\n",
    "#kdis[18:24].sum()"
   ]
  },
  {
   "cell_type": "code",
   "execution_count": 976,
   "id": "26f5dc12-db28-4aaf-97b6-bb42f605d0c0",
   "metadata": {},
   "outputs": [],
   "source": [
    "#kece_c = kcensus.iloc[:,[2]]\n",
    "#kece_o = kcensus.iloc[:,[39]]\n",
    "#kece_s = kece_student.iloc[:,46:87]\n",
    "#kece_c = kcensus.iloc[:,[2]]\n",
    "#kece_d = kcensus.iloc[:,3:19]\n",
    "#kece_s = kece_student.iloc[:,46:87]\n",
    "#kece_disa = kece_student.iloc[:,22:46]"
   ]
  },
  {
   "cell_type": "code",
   "execution_count": null,
   "id": "0fb720e0-521a-420a-97d3-9ce07a9b9b6b",
   "metadata": {},
   "outputs": [],
   "source": []
  },
  {
   "cell_type": "code",
   "execution_count": 977,
   "id": "4210ff96-ac16-4676-b742-2b3769bf6655",
   "metadata": {},
   "outputs": [],
   "source": [
    "#kece_cdd = pd.concat([kece_c, kece_d, kece_disa], axis = 1)\n",
    "#kece_cdd.columns"
   ]
  },
  {
   "cell_type": "code",
   "execution_count": 978,
   "id": "fb01346c-864f-42f0-ba6e-1e092e092482",
   "metadata": {},
   "outputs": [],
   "source": [
    "#kece_cdd.head()"
   ]
  },
  {
   "cell_type": "code",
   "execution_count": null,
   "id": "ad7c2759-3de1-4d9c-8dcf-e90885f062bc",
   "metadata": {},
   "outputs": [],
   "source": []
  },
  {
   "cell_type": "code",
   "execution_count": null,
   "id": "fa02e885-abfb-4255-974d-effe103cd3a5",
   "metadata": {},
   "outputs": [],
   "source": []
  },
  {
   "cell_type": "code",
   "execution_count": 981,
   "id": "e21a5b01-256a-4c9a-9668-d60a8b9d7e8b",
   "metadata": {},
   "outputs": [],
   "source": [
    "kece_meltdd =kece_cdd.melt(id_vars=['County','How many MALE students in nursery are Visually impaired ?',\n",
    "       'How many female students in Nursery are Visually impaired ?',\n",
    "       'How many FEMALE students in Pre-Kindergarten are Visually impaired ?',\n",
    "       'How many MALE students in pre-Kindergarten are Visually impaired ?',\n",
    "       'How many FEMALE students in kindergarten are Visually impaired ?',\n",
    "       'How many MALE students in kindergarten are Visually impaired ?',\n",
    "       'How many MALE students in  nursery have hearing impairment?',\n",
    "       'How many FEMALE students in nursery have hearing impairment?',\n",
    "       'How many FEMALE students in pre- kindergarten are hearing impairment?',\n",
    "       'How many MALE students in pre-kindergarten have hearing impairment?',\n",
    "       'How many MALE students in kindergarten have hearing impairment?',\n",
    "       'How many FEMALE students in  Kindergarten have hearing impairment?',\n",
    "       'How many MALE students in Nursery have other physical disabilities?',\n",
    "       'How many FEMALE students in Nursery have other physical disabilities ?',\n",
    "       'How many FEMALE students in  Pre-Kindergarten have other physical disabilities?',\n",
    "       'How many MALE students in  Pre-Kindergarten have other physical disabilities?',\n",
    "       'How many MALE students in  Kindergarten have other physical disabilities?',\n",
    "       'How many FEMALE students in  Kindergarten have other physical disabilities?',\n",
    "       'How many MALE students in Nursery have other mental disability or learning difficulty?',\n",
    "       'How many FEMALE students in Nursery have other mental disability or learning difficulty?',\n",
    "       'How many MALE students in  Pre-Kindergarten have other mental disability or learning difficulty?',\n",
    "       'How many FEMALE students in  Pre-Kindergarten have other mental disability or learning difficulty?',\n",
    "       'How many MALE students in  Kindergarten have other mental disability or learning difficulty?',\n",
    "       'How many FEMALE students in  Kindergarten have other mental disability or learning difficulty?'],var_name = 'district',value_name='count')\n",
    "#kdd_1 = kece_meltdd\n",
    "#kdd_1['district'].unique()\n",
    "#kdd_1['count'].unique()"
   ]
  },
  {
   "cell_type": "code",
   "execution_count": 982,
   "id": "30609a2b-aa66-4d80-abea-d9d81905ae78",
   "metadata": {},
   "outputs": [],
   "source": [
    "#d15 = kdd_1[(kdd_1['district']=='District in Montserrado 1') &(kdd_1['count']== 'Paynesville 1')].sum()\n",
    "#dk15 = d15[1:-2]\n",
    "#dk15"
   ]
  },
  {
   "cell_type": "code",
   "execution_count": 1170,
   "id": "5f0a098b-aa38-44cf-815f-92ea1b61caa0",
   "metadata": {},
   "outputs": [
    {
     "data": {
      "text/plain": [
       "2.0"
      ]
     },
     "execution_count": 1170,
     "metadata": {},
     "output_type": "execute_result"
    }
   ],
   "source": [
    "#dk15[:6].sum()"
   ]
  },
  {
   "cell_type": "code",
   "execution_count": 983,
   "id": "f5772027-6f00-46f6-8791-72f2f8c1c8aa",
   "metadata": {},
   "outputs": [],
   "source": [
    "#dk15[6:12].sum()"
   ]
  },
  {
   "cell_type": "code",
   "execution_count": 985,
   "id": "492df1b5-285a-4abc-a7a2-cf9ea0d3dc79",
   "metadata": {},
   "outputs": [],
   "source": [
    "#dk15[12:18].sum()"
   ]
  },
  {
   "cell_type": "code",
   "execution_count": 1173,
   "id": "63fda2aa-cc3f-427e-bc37-266366a7e2a1",
   "metadata": {},
   "outputs": [
    {
     "data": {
      "text/plain": [
       "0.0"
      ]
     },
     "execution_count": 1173,
     "metadata": {},
     "output_type": "execute_result"
    }
   ],
   "source": [
    "#dk15[18:].sum()"
   ]
  },
  {
   "cell_type": "code",
   "execution_count": 986,
   "id": "28c8f8e7-8a56-48a1-8038-21a603b1bbed",
   "metadata": {},
   "outputs": [],
   "source": [
    "#kece_cdso.head()"
   ]
  },
  {
   "cell_type": "code",
   "execution_count": 987,
   "id": "ced6c93a-b622-41a3-a263-28cfe3f5cc87",
   "metadata": {},
   "outputs": [],
   "source": [
    "#h = kece_cdso.iloc[:,:26].groupby('County').sum()\n",
    "#h.iloc[:,18:].sum(1)"
   ]
  },
  {
   "cell_type": "code",
   "execution_count": 988,
   "id": "d6d50bca-ed94-46ed-98fa-e3bd8442d5fc",
   "metadata": {},
   "outputs": [],
   "source": [
    "kece_meltdd =kece_cdd.melt(id_vars=['County', 'How many MALE students in nursery are Visually impaired ?',\n",
    "       'How many female students in Nursery are Visually impaired ?',\n",
    "       'How many FEMALE students in Pre-Kindergarten are Visually impaired ?',\n",
    "       'How many MALE students in pre-Kindergarten are Visually impaired ?',\n",
    "       'How many FEMALE students in kindergarten are Visually impaired ?',\n",
    "       'How many MALE students in kindergarten are Visually impaired ?',\n",
    "       'How many MALE students in  nursery have hearing impairment?',\n",
    "       'How many FEMALE students in nursery have hearing impairment?',\n",
    "       'How many FEMALE students in pre- kindergarten are hearing impairment?',\n",
    "       'How many MALE students in pre-kindergarten have hearing impairment?',\n",
    "       'How many MALE students in kindergarten have hearing impairment?',\n",
    "       'How many FEMALE students in  Kindergarten have hearing impairment?',\n",
    "       'How many MALE students in Nursery have other physical disabilities?',\n",
    "       'How many FEMALE students in Nursery have other physical disabilities ?',\n",
    "       'How many FEMALE students in  Pre-Kindergarten have other physical disabilities?',\n",
    "       'How many MALE students in  Pre-Kindergarten have other physical disabilities?',\n",
    "       'How many MALE students in  Kindergarten have other physical disabilities?',\n",
    "       'How many FEMALE students in  Kindergarten have other physical disabilities?',\n",
    "       'How many MALE students in Nursery have other mental disability or learning difficulty?',\n",
    "       'How many FEMALE students in Nursery have other mental disability or learning difficulty?',\n",
    "       'How many MALE students in  Pre-Kindergarten have other mental disability or learning difficulty?',\n",
    "       'How many FEMALE students in  Pre-Kindergarten have other mental disability or learning difficulty?',\n",
    "       'How many MALE students in  Kindergarten have other mental disability or learning difficulty?',\n",
    "       'How many FEMALE students in  Kindergarten have other mental disability or learning difficulty?'],var_name = 'district',value_name='count')\n",
    "#kece_meltdd.head()"
   ]
  },
  {
   "cell_type": "code",
   "execution_count": null,
   "id": "7438d46a-8838-4b15-ad31-87755eba1a96",
   "metadata": {},
   "outputs": [],
   "source": []
  },
  {
   "cell_type": "code",
   "execution_count": 989,
   "id": "beef3ecd-284c-46aa-abae-f39ed095992b",
   "metadata": {},
   "outputs": [],
   "source": [
    "#count_di = pd.Series(kece_meltdd['count'].unique())\n",
    "#count_dic = count_di[1:]\n",
    "#count_dic.to_csv('count_dic.csv', index = False)"
   ]
  },
  {
   "cell_type": "code",
   "execution_count": null,
   "id": "7d499775-320a-46d6-a769-4bb67a1a7762",
   "metadata": {},
   "outputs": [],
   "source": []
  },
  {
   "cell_type": "markdown",
   "id": "3263ffa2-707b-4bb8-897e-33a5234b0c90",
   "metadata": {},
   "source": [
    "# Table 14 ECE Enrollment by Age and Grade"
   ]
  },
  {
   "cell_type": "code",
   "execution_count": 226,
   "id": "4e8be731-41bd-4e6f-a840-a837666c16eb",
   "metadata": {},
   "outputs": [
    {
     "data": {
      "text/plain": [
       "How many MALE students below AGE 3 YEARS OLD are in Nursery?                 5312.0\n",
       "How many FEMALE students below AGE 3 YEARS OLD are in Nursery?               6100.0\n",
       "How many MALE students below AGE 3 YEARS OLD are in Pre-kindergarten?        1361.0\n",
       "How many FEMALE students below AGE 3 YEARS OLD are in Pre-kindergarten?      1319.0\n",
       "How many MALE students below AGE 3 YEARS OLD are in Kindergarten?             726.0\n",
       "How many FEMALE students below AGE 3 YEARS OLD are in Kindergarten?           841.0\n",
       "How many MALE students AGE 3 YEARS OLD are in Nursery?                      12524.0\n",
       "How many MALE students AGE 4 YEARS OLD are in Nursery?                      12679.0\n",
       "How many MALE students AGE 5 YEARS OLD are in Nursery?                      11270.0\n",
       "How many MALE students AGE 6 YEARS OLD are in Nursery?                       8257.0\n",
       "How many MALE students AGE 7 YEARS OLD are in Nursery?                       5279.0\n",
       "How many MALE students AGE 8 YEARS OLD are in Nursery?                       3389.0\n",
       "How many MALE students Above AGE 8 YEARS OLD are in Nursery?                 3158.0\n",
       "How many FEMALE students  AGE 3 YEARS OLD are in Nursery?                   12156.0\n",
       "How many FEMALE students  AGE 4 YEARS OLD are in Nursery?                   12760.0\n",
       "How many FEMALE students  AGE 5 YEARS OLD are in Nursery?                   10572.0\n",
       "How many FEMALE students  AGE 6 YEARS OLD are in Nursery?                    7805.0\n",
       "How many FEMALE students  AGE 7 YEARS OLD are in Nursery?                    5119.0\n",
       "How many FEMALE students  AGE 8 YEARS OLD are in Nursery?                    3201.0\n",
       "How many FEMALE students  above AGE 8 YEARS OLD are in Nursery?              2855.0\n",
       "How many MALE students AGE 3 YEARS OLD are in Pre-Kindergarten?              3087.0\n",
       "How many MALE students AGE 4 YEARS OLD are in Pre-Kindergarten?              6988.0\n",
       "How many MALE students AGE 5 YEARS OLD are in Pre-Kindergarten?              8395.0\n",
       "How many MALE students AGE 6 YEARS OLD are in Pre-Kindergarten?              7724.0\n",
       "How many MALE students AGE 7 YEARS OLD are in Pre-Kindergarten?              5803.0\n",
       "How many MALE students AGE 8 YEARS OLD are in Pre-Kindergarten?              4133.0\n",
       "How many MALE students above AGE 8 YEARS OLD are in Pre-Kindergarten?        3863.0\n",
       "How many FEMALE students  AGE 3 YEARS OLD are in Pre-Kindergarten?           3199.0\n",
       "How many FEMALE students  AGE 4 YEARS OLD are in Pre-Kindergarten?           6909.0\n",
       "How many FEMALE students  AGE 5 YEARS OLD are in Pre-Kindergarten?           8273.0\n",
       "How many FEMALE students  AGE 6 YEARS OLD are in Pre-Kindergarten?           7398.0\n",
       "How many FEMALE students  AGE 7 YEARS OLD are in Pre-Kindergarten?           5659.0\n",
       "How many FEMALE students  AGE 8 YEARS OLD are in Pre-Kindergarten?           3994.0\n",
       "How many FEMALE students  above AGE 8 YEARS OLD are in Pre-Kindergarten?     3669.0\n",
       "How many MALE students AGE 3 YEARS OLD are in Kindergarten?                  1542.0\n",
       "How many MALE students AGE 4 YEARS OLD are in Kindergarten?                  4110.0\n",
       "How many FEMALE students  AGE 5 YEARS OLD are in Kindergarten?               7889.0\n",
       "How many FEMALE students  AGE 6 YEARS OLD are in Kindergarten?               8751.0\n",
       "How many FEMALE students  AGE 7 YEARS OLD are in Kindergarten?               8069.0\n",
       "How many FEMALE students  AGE 8 YEARS OLD are in Kindergarten?               6799.0\n",
       "How many FEMALE students  above AGE 8 YEARS OLD are in Kindergarten?         7206.0\n",
       "dtype: float64"
      ]
     },
     "execution_count": 226,
     "metadata": {},
     "output_type": "execute_result"
    }
   ],
   "source": [
    "kece_s = kece_student.iloc[:,46:87].sum()\n",
    "\n",
    "kece_s"
   ]
  },
  {
   "cell_type": "code",
   "execution_count": 227,
   "id": "6438cd2c-25f5-463f-93cc-9ee72c1b2d34",
   "metadata": {},
   "outputs": [
    {
     "data": {
      "text/plain": [
       "How many MALE students below AGE 3 YEARS OLD are in Nursery?        5312.0\n",
       "How many FEMALE students below AGE 3 YEARS OLD are in Nursery?      6100.0\n",
       "How many MALE students AGE 3 YEARS OLD are in Nursery?             12524.0\n",
       "How many MALE students AGE 4 YEARS OLD are in Nursery?             12679.0\n",
       "How many MALE students AGE 5 YEARS OLD are in Nursery?             11270.0\n",
       "How many MALE students AGE 6 YEARS OLD are in Nursery?              8257.0\n",
       "How many MALE students AGE 7 YEARS OLD are in Nursery?              5279.0\n",
       "How many MALE students AGE 8 YEARS OLD are in Nursery?              3389.0\n",
       "How many MALE students Above AGE 8 YEARS OLD are in Nursery?        3158.0\n",
       "How many FEMALE students  AGE 3 YEARS OLD are in Nursery?          12156.0\n",
       "How many FEMALE students  AGE 4 YEARS OLD are in Nursery?          12760.0\n",
       "How many FEMALE students  AGE 5 YEARS OLD are in Nursery?          10572.0\n",
       "How many FEMALE students  AGE 6 YEARS OLD are in Nursery?           7805.0\n",
       "How many FEMALE students  AGE 7 YEARS OLD are in Nursery?           5119.0\n",
       "How many FEMALE students  AGE 8 YEARS OLD are in Nursery?           3201.0\n",
       "How many FEMALE students  above AGE 8 YEARS OLD are in Nursery?     2855.0\n",
       "dtype: float64"
      ]
     },
     "execution_count": 227,
     "metadata": {},
     "output_type": "execute_result"
    }
   ],
   "source": [
    "#nur \n",
    "knur = kece_s[:2].append(kece_s[6:20])\n",
    "knur\n",
    "\n",
    "#knur.sum()"
   ]
  },
  {
   "cell_type": "code",
   "execution_count": 243,
   "id": "8d11239f-1947-4525-81d4-ef1748b1d1aa",
   "metadata": {},
   "outputs": [
    {
     "name": "stdout",
     "output_type": "stream",
     "text": [
      "11412.0\n",
      "24680.0\n",
      "25439.0\n",
      "21842.0\n",
      "16062.0\n",
      "10398.0\n",
      "6590.0\n",
      "6013.0\n"
     ]
    }
   ],
   "source": [
    "print(knur[:2].sum())\n",
    "print(knur[[2,9]].sum())\n",
    "print(knur[[3,10]].sum())\n",
    "print(knur[[4,11]].sum())\n",
    "print(knur[[5,12]].sum())\n",
    "print(knur[[6,13]].sum())\n",
    "print(knur[[7,14]].sum())\n",
    "print(knur[[8,15]].sum())"
   ]
  },
  {
   "cell_type": "code",
   "execution_count": 229,
   "id": "495717bd-a024-41b8-bd26-e0250d51dad7",
   "metadata": {},
   "outputs": [
    {
     "data": {
      "text/plain": [
       "How many MALE students below AGE 3 YEARS OLD are in Pre-kindergarten?       1361.0\n",
       "How many FEMALE students below AGE 3 YEARS OLD are in Pre-kindergarten?     1319.0\n",
       "How many MALE students AGE 3 YEARS OLD are in Pre-Kindergarten?             3087.0\n",
       "How many MALE students AGE 4 YEARS OLD are in Pre-Kindergarten?             6988.0\n",
       "How many MALE students AGE 5 YEARS OLD are in Pre-Kindergarten?             8395.0\n",
       "How many MALE students AGE 6 YEARS OLD are in Pre-Kindergarten?             7724.0\n",
       "How many MALE students AGE 7 YEARS OLD are in Pre-Kindergarten?             5803.0\n",
       "How many MALE students AGE 8 YEARS OLD are in Pre-Kindergarten?             4133.0\n",
       "How many MALE students above AGE 8 YEARS OLD are in Pre-Kindergarten?       3863.0\n",
       "How many FEMALE students  AGE 3 YEARS OLD are in Pre-Kindergarten?          3199.0\n",
       "How many FEMALE students  AGE 4 YEARS OLD are in Pre-Kindergarten?          6909.0\n",
       "How many FEMALE students  AGE 5 YEARS OLD are in Pre-Kindergarten?          8273.0\n",
       "How many FEMALE students  AGE 6 YEARS OLD are in Pre-Kindergarten?          7398.0\n",
       "How many FEMALE students  AGE 7 YEARS OLD are in Pre-Kindergarten?          5659.0\n",
       "How many FEMALE students  AGE 8 YEARS OLD are in Pre-Kindergarten?          3994.0\n",
       "How many FEMALE students  above AGE 8 YEARS OLD are in Pre-Kindergarten?    3669.0\n",
       "dtype: float64"
      ]
     },
     "execution_count": 229,
     "metadata": {},
     "output_type": "execute_result"
    }
   ],
   "source": [
    "#prk \n",
    "prk = kece_s[2:4].append(kece_s[20:34])\n",
    "prk\n",
    "#prk.sum()#[:2].sum()\n",
    "#prk[[2,9]].sum()\n",
    "#prk[[8,15]].sum()\n"
   ]
  },
  {
   "cell_type": "code",
   "execution_count": 244,
   "id": "bccbd5bc-86a8-4853-bd8d-0c8274241a59",
   "metadata": {},
   "outputs": [
    {
     "name": "stdout",
     "output_type": "stream",
     "text": [
      "2680.0\n",
      "6286.0\n",
      "13897.0\n",
      "16668.0\n",
      "15122.0\n",
      "11462.0\n",
      "8127.0\n",
      "7532.0\n"
     ]
    }
   ],
   "source": [
    "print(prk[:2].sum())\n",
    "print(prk[[2,9]].sum())\n",
    "print(prk[[3,10]].sum())\n",
    "print(prk[[4,11]].sum())\n",
    "print(prk[[5,12]].sum())\n",
    "print(prk[[6,13]].sum())\n",
    "print(prk[[7,14]].sum())\n",
    "print(prk[[8,15]].sum())"
   ]
  },
  {
   "cell_type": "code",
   "execution_count": 263,
   "id": "ed300991-2f3a-46bb-a020-39c7ff54a2a0",
   "metadata": {},
   "outputs": [
    {
     "data": {
      "text/plain": [
       "How many MALE students below AGE 3 YEARS OLD are in Kindergarten?        726.0\n",
       "How many FEMALE students below AGE 3 YEARS OLD are in Kindergarten?      841.0\n",
       "How many MALE students AGE 3 YEARS OLD are in Kindergarten?             1542.0\n",
       "How many MALE students AGE 4 YEARS OLD are in Kindergarten?             4110.0\n",
       "How many FEMALE students  AGE 5 YEARS OLD are in Kindergarten?          7889.0\n",
       "How many FEMALE students  AGE 6 YEARS OLD are in Kindergarten?          8751.0\n",
       "How many FEMALE students  AGE 7 YEARS OLD are in Kindergarten?          8069.0\n",
       "How many FEMALE students  AGE 8 YEARS OLD are in Kindergarten?          6799.0\n",
       "How many FEMALE students  above AGE 8 YEARS OLD are in Kindergarten?    7206.0\n",
       "dtype: float64"
      ]
     },
     "execution_count": 263,
     "metadata": {},
     "output_type": "execute_result"
    }
   ],
   "source": [
    "kk = kece_s[4:6].append(kece_s[34:])\n",
    "kk\n",
    "#kk[:2].sum()"
   ]
  },
  {
   "cell_type": "code",
   "execution_count": 285,
   "id": "2565077a-0475-4654-bab4-28aec2c2129d",
   "metadata": {},
   "outputs": [
    {
     "name": "stdout",
     "output_type": "stream",
     "text": [
      "1567.0\n",
      "1542.0\n",
      "4110.0\n",
      "7889.0\n",
      "8751.0\n",
      "8069.0\n",
      "6799.0\n",
      "7206.0\n"
     ]
    }
   ],
   "source": [
    "print((kk[:2]).sum())\n",
    "print(kk[[2]].sum())\n",
    "print(kk[[3]].sum())\n",
    "print(kk[[4]].sum())\n",
    "print(kk[[5]].sum())\n",
    "print(kk[[6]].sum())\n",
    "print(kk[[7]].sum())\n",
    "print(kk[[8]].sum())"
   ]
  },
  {
   "cell_type": "code",
   "execution_count": null,
   "id": "fd40d4ec-d737-4809-93ac-eb02d1013983",
   "metadata": {},
   "outputs": [],
   "source": []
  },
  {
   "cell_type": "markdown",
   "id": "79df276e-7680-4767-a7e9-acf4f7f904a8",
   "metadata": {},
   "source": [
    "# Table 15 ECE Enrollment by Age, Grade and Gender"
   ]
  },
  {
   "cell_type": "code",
   "execution_count": null,
   "id": "cb1134ad-99e1-4660-ad84-46e83c9939bf",
   "metadata": {},
   "outputs": [],
   "source": []
  },
  {
   "cell_type": "code",
   "execution_count": 286,
   "id": "4f7352f9-51af-4c9d-b30e-2c07d165eae2",
   "metadata": {},
   "outputs": [
    {
     "data": {
      "text/plain": [
       "How many MALE students below AGE 3 YEARS OLD are in Nursery?     5312.0\n",
       "How many MALE students AGE 3 YEARS OLD are in Nursery?          12524.0\n",
       "How many MALE students AGE 4 YEARS OLD are in Nursery?          12679.0\n",
       "How many MALE students AGE 5 YEARS OLD are in Nursery?          11270.0\n",
       "How many MALE students AGE 6 YEARS OLD are in Nursery?           8257.0\n",
       "How many MALE students AGE 7 YEARS OLD are in Nursery?           5279.0\n",
       "How many MALE students AGE 8 YEARS OLD are in Nursery?           3389.0\n",
       "How many MALE students Above AGE 8 YEARS OLD are in Nursery?     3158.0\n",
       "dtype: float64"
      ]
     },
     "execution_count": 286,
     "metadata": {},
     "output_type": "execute_result"
    }
   ],
   "source": [
    "#knur_male\n",
    "#knur = kece_s[:2].append(kece_s[6:20])\n",
    "knur_m=knur[[0]].append(knur[2:9])\n",
    "knur_m\n",
    "#knur_m[:]"
   ]
  },
  {
   "cell_type": "code",
   "execution_count": 287,
   "id": "1795013d-6f13-4648-9646-b97ff1fb79f8",
   "metadata": {},
   "outputs": [
    {
     "data": {
      "text/plain": [
       "How many FEMALE students below AGE 3 YEARS OLD are in Nursery?      6100.0\n",
       "How many FEMALE students  AGE 3 YEARS OLD are in Nursery?          12156.0\n",
       "How many FEMALE students  AGE 4 YEARS OLD are in Nursery?          12760.0\n",
       "How many FEMALE students  AGE 5 YEARS OLD are in Nursery?          10572.0\n",
       "How many FEMALE students  AGE 6 YEARS OLD are in Nursery?           7805.0\n",
       "How many FEMALE students  AGE 7 YEARS OLD are in Nursery?           5119.0\n",
       "How many FEMALE students  AGE 8 YEARS OLD are in Nursery?           3201.0\n",
       "How many FEMALE students  above AGE 8 YEARS OLD are in Nursery?     2855.0\n",
       "dtype: float64"
      ]
     },
     "execution_count": 287,
     "metadata": {},
     "output_type": "execute_result"
    }
   ],
   "source": [
    "#knur_female\n",
    "#knur = kece_s[:2].append(kece_s[6:20])\n",
    "knur_f=knur[[1]].append(knur[9:])\n",
    "knur_f\n",
    "#knur_f[:]"
   ]
  },
  {
   "cell_type": "code",
   "execution_count": 288,
   "id": "ec22bc85-328e-464f-8a71-cb0a7efa0f42",
   "metadata": {},
   "outputs": [
    {
     "data": {
      "text/plain": [
       "How many MALE students below AGE 3 YEARS OLD are in Pre-kindergarten?    1361.0\n",
       "How many MALE students AGE 3 YEARS OLD are in Pre-Kindergarten?          3087.0\n",
       "How many MALE students AGE 4 YEARS OLD are in Pre-Kindergarten?          6988.0\n",
       "How many MALE students AGE 5 YEARS OLD are in Pre-Kindergarten?          8395.0\n",
       "How many MALE students AGE 6 YEARS OLD are in Pre-Kindergarten?          7724.0\n",
       "How many MALE students AGE 7 YEARS OLD are in Pre-Kindergarten?          5803.0\n",
       "How many MALE students AGE 8 YEARS OLD are in Pre-Kindergarten?          4133.0\n",
       "How many MALE students above AGE 8 YEARS OLD are in Pre-Kindergarten?    3863.0\n",
       "dtype: float64"
      ]
     },
     "execution_count": 288,
     "metadata": {},
     "output_type": "execute_result"
    }
   ],
   "source": [
    "#kpk_male\n",
    "#prk = kece_s[2:4].append(kece_s[20:34])\n",
    "prk_m=prk[[0]].append(prk[2:9])\n",
    "prk_m"
   ]
  },
  {
   "cell_type": "code",
   "execution_count": 289,
   "id": "522d257e-188d-4bc7-a0c1-78d67f5d076c",
   "metadata": {},
   "outputs": [
    {
     "data": {
      "text/plain": [
       "How many FEMALE students below AGE 3 YEARS OLD are in Pre-kindergarten?     1319.0\n",
       "How many FEMALE students  AGE 3 YEARS OLD are in Pre-Kindergarten?          3199.0\n",
       "How many FEMALE students  AGE 4 YEARS OLD are in Pre-Kindergarten?          6909.0\n",
       "How many FEMALE students  AGE 5 YEARS OLD are in Pre-Kindergarten?          8273.0\n",
       "How many FEMALE students  AGE 6 YEARS OLD are in Pre-Kindergarten?          7398.0\n",
       "How many FEMALE students  AGE 7 YEARS OLD are in Pre-Kindergarten?          5659.0\n",
       "How many FEMALE students  AGE 8 YEARS OLD are in Pre-Kindergarten?          3994.0\n",
       "How many FEMALE students  above AGE 8 YEARS OLD are in Pre-Kindergarten?    3669.0\n",
       "dtype: float64"
      ]
     },
     "execution_count": 289,
     "metadata": {},
     "output_type": "execute_result"
    }
   ],
   "source": [
    "#kpk_female\n",
    "#prk = kece_s[2:4].append(kece_s[20:34])\n",
    "prk_f=prk[[1]].append(prk[9:])\n",
    "prk_f"
   ]
  },
  {
   "cell_type": "code",
   "execution_count": 290,
   "id": "1cd33d4c-f907-4a14-bf9b-9fd7c84f48d9",
   "metadata": {},
   "outputs": [
    {
     "data": {
      "text/plain": [
       "How many MALE students below AGE 3 YEARS OLD are in Kindergarten?     726.0\n",
       "How many MALE students AGE 3 YEARS OLD are in Kindergarten?          1542.0\n",
       "How many MALE students AGE 4 YEARS OLD are in Kindergarten?          4110.0\n",
       "dtype: float64"
      ]
     },
     "execution_count": 290,
     "metadata": {},
     "output_type": "execute_result"
    }
   ],
   "source": [
    "#kk_male\n",
    "#kk = kece_s[4:6].append(kece_s[34:])\n",
    "kk_m = kk[[0,2,3]]\n",
    "kk_m"
   ]
  },
  {
   "cell_type": "code",
   "execution_count": 291,
   "id": "ee2a44a5-e3a6-471f-8c57-7808e5401d88",
   "metadata": {},
   "outputs": [
    {
     "data": {
      "text/plain": [
       "How many FEMALE students below AGE 3 YEARS OLD are in Kindergarten?      841.0\n",
       "How many FEMALE students  AGE 5 YEARS OLD are in Kindergarten?          7889.0\n",
       "How many FEMALE students  AGE 6 YEARS OLD are in Kindergarten?          8751.0\n",
       "How many FEMALE students  AGE 7 YEARS OLD are in Kindergarten?          8069.0\n",
       "How many FEMALE students  AGE 8 YEARS OLD are in Kindergarten?          6799.0\n",
       "How many FEMALE students  above AGE 8 YEARS OLD are in Kindergarten?    7206.0\n",
       "dtype: float64"
      ]
     },
     "execution_count": 291,
     "metadata": {},
     "output_type": "execute_result"
    }
   ],
   "source": [
    "#kk_female\n",
    "kk = kece_s[4:6].append(kece_s[34:])\n",
    "kk_f = kk[[1,4,5,6,7,8]]#.sum()\n",
    "kk_f"
   ]
  },
  {
   "cell_type": "code",
   "execution_count": null,
   "id": "922758b1-714d-4329-9373-1867e462d9aa",
   "metadata": {},
   "outputs": [],
   "source": []
  },
  {
   "cell_type": "code",
   "execution_count": null,
   "id": "ed381886-577b-4612-a0c5-c1259e546054",
   "metadata": {},
   "outputs": [],
   "source": []
  },
  {
   "cell_type": "code",
   "execution_count": null,
   "id": "4c9377d7-a2df-4c90-b75a-a277ed8e664c",
   "metadata": {},
   "outputs": [],
   "source": []
  },
  {
   "cell_type": "code",
   "execution_count": 239,
   "id": "042bfae0-2d00-45e2-b409-680ab2931984",
   "metadata": {},
   "outputs": [],
   "source": [
    "# ece enrollment disagregated by age and county\n",
    "#kece_s.head()"
   ]
  },
  {
   "cell_type": "code",
   "execution_count": 240,
   "id": "277d241f-4015-4f42-a72c-70a469b040b8",
   "metadata": {},
   "outputs": [],
   "source": [
    "#kece_st = kece_student.iloc[:,46:87]"
   ]
  },
  {
   "cell_type": "code",
   "execution_count": 241,
   "id": "92c9473f-2924-4193-b29d-50f4e337ecc6",
   "metadata": {},
   "outputs": [],
   "source": [
    "#ece_asc=pd.concat([kcensus.iloc[:,[2]],kece_st],axis=1).groupby(\"County\").sum()\n",
    "#ece_asc.head()"
   ]
  },
  {
   "cell_type": "code",
   "execution_count": null,
   "id": "deed16de-bc12-429b-9b4d-a2cf6baa9ecb",
   "metadata": {},
   "outputs": [],
   "source": []
  },
  {
   "cell_type": "markdown",
   "id": "55e85b82-2d35-40d6-82b8-296a1b6430ad",
   "metadata": {},
   "source": [
    "# Table 16: ECE Repeater by School Types"
   ]
  },
  {
   "cell_type": "code",
   "execution_count": 293,
   "id": "63eb3b37-61ce-457e-8459-97e10cfaf5bb",
   "metadata": {},
   "outputs": [
    {
     "data": {
      "text/html": [
       "<div>\n",
       "<style scoped>\n",
       "    .dataframe tbody tr th:only-of-type {\n",
       "        vertical-align: middle;\n",
       "    }\n",
       "\n",
       "    .dataframe tbody tr th {\n",
       "        vertical-align: top;\n",
       "    }\n",
       "\n",
       "    .dataframe thead th {\n",
       "        text-align: right;\n",
       "    }\n",
       "</style>\n",
       "<table border=\"1\" class=\"dataframe\">\n",
       "  <thead>\n",
       "    <tr style=\"text-align: right;\">\n",
       "      <th></th>\n",
       "      <th>How many male students in nursery are repeaters</th>\n",
       "      <th>How many female students in nursery are repeaters</th>\n",
       "      <th>How many FEMALE students in Pre-Kindergarten are Repeaters?</th>\n",
       "      <th>How many MALE students in Pre-Kindergarten are Repeaters?</th>\n",
       "      <th>How many MALE students in Kindergarten are Repeaters?</th>\n",
       "      <th>How many female students in Kindergarten are Repeaters?</th>\n",
       "    </tr>\n",
       "    <tr>\n",
       "      <th>Type of school</th>\n",
       "      <th></th>\n",
       "      <th></th>\n",
       "      <th></th>\n",
       "      <th></th>\n",
       "      <th></th>\n",
       "      <th></th>\n",
       "    </tr>\n",
       "  </thead>\n",
       "  <tbody>\n",
       "    <tr>\n",
       "      <th>Community</th>\n",
       "      <td>146.0</td>\n",
       "      <td>220.0</td>\n",
       "      <td>156.0</td>\n",
       "      <td>155.0</td>\n",
       "      <td>156.0</td>\n",
       "      <td>196.0</td>\n",
       "    </tr>\n",
       "    <tr>\n",
       "      <th>Faith-based</th>\n",
       "      <td>915.0</td>\n",
       "      <td>937.0</td>\n",
       "      <td>433.0</td>\n",
       "      <td>393.0</td>\n",
       "      <td>389.0</td>\n",
       "      <td>457.0</td>\n",
       "    </tr>\n",
       "    <tr>\n",
       "      <th>Private</th>\n",
       "      <td>1473.0</td>\n",
       "      <td>1429.0</td>\n",
       "      <td>819.0</td>\n",
       "      <td>874.0</td>\n",
       "      <td>847.0</td>\n",
       "      <td>825.0</td>\n",
       "    </tr>\n",
       "    <tr>\n",
       "      <th>Public</th>\n",
       "      <td>4649.0</td>\n",
       "      <td>4231.0</td>\n",
       "      <td>2816.0</td>\n",
       "      <td>2946.0</td>\n",
       "      <td>2607.0</td>\n",
       "      <td>2514.0</td>\n",
       "    </tr>\n",
       "  </tbody>\n",
       "</table>\n",
       "</div>"
      ],
      "text/plain": [
       "                How many male students in nursery are repeaters  \\\n",
       "Type of school                                                    \n",
       "Community                                                 146.0   \n",
       "Faith-based                                               915.0   \n",
       "Private                                                  1473.0   \n",
       "Public                                                   4649.0   \n",
       "\n",
       "                How many female students in nursery are repeaters  \\\n",
       "Type of school                                                      \n",
       "Community                                                   220.0   \n",
       "Faith-based                                                 937.0   \n",
       "Private                                                    1429.0   \n",
       "Public                                                     4231.0   \n",
       "\n",
       "                How many FEMALE students in Pre-Kindergarten are Repeaters?  \\\n",
       "Type of school                                                                \n",
       "Community                                                   156.0             \n",
       "Faith-based                                                 433.0             \n",
       "Private                                                     819.0             \n",
       "Public                                                     2816.0             \n",
       "\n",
       "                How many MALE students in Pre-Kindergarten are Repeaters?  \\\n",
       "Type of school                                                              \n",
       "Community                                                   155.0           \n",
       "Faith-based                                                 393.0           \n",
       "Private                                                     874.0           \n",
       "Public                                                     2946.0           \n",
       "\n",
       "                How many MALE students in Kindergarten are Repeaters?  \\\n",
       "Type of school                                                          \n",
       "Community                                                   156.0       \n",
       "Faith-based                                                 389.0       \n",
       "Private                                                     847.0       \n",
       "Public                                                     2607.0       \n",
       "\n",
       "                How many female students in Kindergarten are Repeaters?  \n",
       "Type of school                                                           \n",
       "Community                                                   196.0        \n",
       "Faith-based                                                 457.0        \n",
       "Private                                                     825.0        \n",
       "Public                                                     2514.0        "
      ]
     },
     "execution_count": 293,
     "metadata": {},
     "output_type": "execute_result"
    }
   ],
   "source": [
    "kece_r = pd.concat([kcensus.iloc[:,[2,39]],kcensus.iloc[:,65:71]], axis=1).groupby('Type of school').sum()\n",
    "kece_r\n"
   ]
  },
  {
   "cell_type": "code",
   "execution_count": 294,
   "id": "682f0afd-5717-4093-a764-119ec3d7be5d",
   "metadata": {},
   "outputs": [
    {
     "data": {
      "text/html": [
       "<div>\n",
       "<style scoped>\n",
       "    .dataframe tbody tr th:only-of-type {\n",
       "        vertical-align: middle;\n",
       "    }\n",
       "\n",
       "    .dataframe tbody tr th {\n",
       "        vertical-align: top;\n",
       "    }\n",
       "\n",
       "    .dataframe thead th {\n",
       "        text-align: right;\n",
       "    }\n",
       "</style>\n",
       "<table border=\"1\" class=\"dataframe\">\n",
       "  <thead>\n",
       "    <tr style=\"text-align: right;\">\n",
       "      <th></th>\n",
       "      <th>How many male students in nursery are repeaters</th>\n",
       "      <th>How many female students in nursery are repeaters</th>\n",
       "    </tr>\n",
       "    <tr>\n",
       "      <th>Type of school</th>\n",
       "      <th></th>\n",
       "      <th></th>\n",
       "    </tr>\n",
       "  </thead>\n",
       "  <tbody>\n",
       "    <tr>\n",
       "      <th>Community</th>\n",
       "      <td>146.0</td>\n",
       "      <td>220.0</td>\n",
       "    </tr>\n",
       "    <tr>\n",
       "      <th>Faith-based</th>\n",
       "      <td>915.0</td>\n",
       "      <td>937.0</td>\n",
       "    </tr>\n",
       "    <tr>\n",
       "      <th>Private</th>\n",
       "      <td>1473.0</td>\n",
       "      <td>1429.0</td>\n",
       "    </tr>\n",
       "    <tr>\n",
       "      <th>Public</th>\n",
       "      <td>4649.0</td>\n",
       "      <td>4231.0</td>\n",
       "    </tr>\n",
       "  </tbody>\n",
       "</table>\n",
       "</div>"
      ],
      "text/plain": [
       "                How many male students in nursery are repeaters  \\\n",
       "Type of school                                                    \n",
       "Community                                                 146.0   \n",
       "Faith-based                                               915.0   \n",
       "Private                                                  1473.0   \n",
       "Public                                                   4649.0   \n",
       "\n",
       "                How many female students in nursery are repeaters  \n",
       "Type of school                                                     \n",
       "Community                                                   220.0  \n",
       "Faith-based                                                 937.0  \n",
       "Private                                                    1429.0  \n",
       "Public                                                     4231.0  "
      ]
     },
     "execution_count": 294,
     "metadata": {},
     "output_type": "execute_result"
    }
   ],
   "source": [
    "kece_r.iloc[:,:2]"
   ]
  },
  {
   "cell_type": "code",
   "execution_count": 295,
   "id": "17c6b715-ad5b-4247-b0d8-e4b30dd5cb78",
   "metadata": {},
   "outputs": [
    {
     "data": {
      "text/html": [
       "<div>\n",
       "<style scoped>\n",
       "    .dataframe tbody tr th:only-of-type {\n",
       "        vertical-align: middle;\n",
       "    }\n",
       "\n",
       "    .dataframe tbody tr th {\n",
       "        vertical-align: top;\n",
       "    }\n",
       "\n",
       "    .dataframe thead th {\n",
       "        text-align: right;\n",
       "    }\n",
       "</style>\n",
       "<table border=\"1\" class=\"dataframe\">\n",
       "  <thead>\n",
       "    <tr style=\"text-align: right;\">\n",
       "      <th></th>\n",
       "      <th>How many FEMALE students in Pre-Kindergarten are Repeaters?</th>\n",
       "      <th>How many MALE students in Pre-Kindergarten are Repeaters?</th>\n",
       "    </tr>\n",
       "    <tr>\n",
       "      <th>Type of school</th>\n",
       "      <th></th>\n",
       "      <th></th>\n",
       "    </tr>\n",
       "  </thead>\n",
       "  <tbody>\n",
       "    <tr>\n",
       "      <th>Community</th>\n",
       "      <td>156.0</td>\n",
       "      <td>155.0</td>\n",
       "    </tr>\n",
       "    <tr>\n",
       "      <th>Faith-based</th>\n",
       "      <td>433.0</td>\n",
       "      <td>393.0</td>\n",
       "    </tr>\n",
       "    <tr>\n",
       "      <th>Private</th>\n",
       "      <td>819.0</td>\n",
       "      <td>874.0</td>\n",
       "    </tr>\n",
       "    <tr>\n",
       "      <th>Public</th>\n",
       "      <td>2816.0</td>\n",
       "      <td>2946.0</td>\n",
       "    </tr>\n",
       "  </tbody>\n",
       "</table>\n",
       "</div>"
      ],
      "text/plain": [
       "                How many FEMALE students in Pre-Kindergarten are Repeaters?  \\\n",
       "Type of school                                                                \n",
       "Community                                                   156.0             \n",
       "Faith-based                                                 433.0             \n",
       "Private                                                     819.0             \n",
       "Public                                                     2816.0             \n",
       "\n",
       "                How many MALE students in Pre-Kindergarten are Repeaters?  \n",
       "Type of school                                                             \n",
       "Community                                                   155.0          \n",
       "Faith-based                                                 393.0          \n",
       "Private                                                     874.0          \n",
       "Public                                                     2946.0          "
      ]
     },
     "execution_count": 295,
     "metadata": {},
     "output_type": "execute_result"
    }
   ],
   "source": [
    "kece_r.iloc[:,2:4]"
   ]
  },
  {
   "cell_type": "code",
   "execution_count": 296,
   "id": "239658c2-2ad4-40b2-8c0b-84a0814db861",
   "metadata": {},
   "outputs": [
    {
     "data": {
      "text/html": [
       "<div>\n",
       "<style scoped>\n",
       "    .dataframe tbody tr th:only-of-type {\n",
       "        vertical-align: middle;\n",
       "    }\n",
       "\n",
       "    .dataframe tbody tr th {\n",
       "        vertical-align: top;\n",
       "    }\n",
       "\n",
       "    .dataframe thead th {\n",
       "        text-align: right;\n",
       "    }\n",
       "</style>\n",
       "<table border=\"1\" class=\"dataframe\">\n",
       "  <thead>\n",
       "    <tr style=\"text-align: right;\">\n",
       "      <th></th>\n",
       "      <th>How many MALE students in Kindergarten are Repeaters?</th>\n",
       "      <th>How many female students in Kindergarten are Repeaters?</th>\n",
       "    </tr>\n",
       "    <tr>\n",
       "      <th>Type of school</th>\n",
       "      <th></th>\n",
       "      <th></th>\n",
       "    </tr>\n",
       "  </thead>\n",
       "  <tbody>\n",
       "    <tr>\n",
       "      <th>Community</th>\n",
       "      <td>156.0</td>\n",
       "      <td>196.0</td>\n",
       "    </tr>\n",
       "    <tr>\n",
       "      <th>Faith-based</th>\n",
       "      <td>389.0</td>\n",
       "      <td>457.0</td>\n",
       "    </tr>\n",
       "    <tr>\n",
       "      <th>Private</th>\n",
       "      <td>847.0</td>\n",
       "      <td>825.0</td>\n",
       "    </tr>\n",
       "    <tr>\n",
       "      <th>Public</th>\n",
       "      <td>2607.0</td>\n",
       "      <td>2514.0</td>\n",
       "    </tr>\n",
       "  </tbody>\n",
       "</table>\n",
       "</div>"
      ],
      "text/plain": [
       "                How many MALE students in Kindergarten are Repeaters?  \\\n",
       "Type of school                                                          \n",
       "Community                                                   156.0       \n",
       "Faith-based                                                 389.0       \n",
       "Private                                                     847.0       \n",
       "Public                                                     2607.0       \n",
       "\n",
       "                How many female students in Kindergarten are Repeaters?  \n",
       "Type of school                                                           \n",
       "Community                                                   196.0        \n",
       "Faith-based                                                 457.0        \n",
       "Private                                                     825.0        \n",
       "Public                                                     2514.0        "
      ]
     },
     "execution_count": 296,
     "metadata": {},
     "output_type": "execute_result"
    }
   ],
   "source": [
    "kece_r.iloc[:,4:]"
   ]
  },
  {
   "cell_type": "code",
   "execution_count": null,
   "id": "fffb818d-f9cf-4baf-8d40-76543d0a9731",
   "metadata": {},
   "outputs": [],
   "source": []
  },
  {
   "cell_type": "markdown",
   "id": "a1b1dce2-6bb4-4e07-823b-56138ab0b21b",
   "metadata": {},
   "source": [
    "# Table 17: ECE Repeaters by County, Gender and Grade"
   ]
  },
  {
   "cell_type": "code",
   "execution_count": 297,
   "id": "fc15a46a-f668-4a6b-a9ec-9a9105346bfc",
   "metadata": {},
   "outputs": [
    {
     "data": {
      "text/html": [
       "<div>\n",
       "<style scoped>\n",
       "    .dataframe tbody tr th:only-of-type {\n",
       "        vertical-align: middle;\n",
       "    }\n",
       "\n",
       "    .dataframe tbody tr th {\n",
       "        vertical-align: top;\n",
       "    }\n",
       "\n",
       "    .dataframe thead th {\n",
       "        text-align: right;\n",
       "    }\n",
       "</style>\n",
       "<table border=\"1\" class=\"dataframe\">\n",
       "  <thead>\n",
       "    <tr style=\"text-align: right;\">\n",
       "      <th></th>\n",
       "      <th>How many male students in nursery are repeaters</th>\n",
       "      <th>How many female students in nursery are repeaters</th>\n",
       "      <th>How many FEMALE students in Pre-Kindergarten are Repeaters?</th>\n",
       "      <th>How many MALE students in Pre-Kindergarten are Repeaters?</th>\n",
       "      <th>How many MALE students in Kindergarten are Repeaters?</th>\n",
       "      <th>How many female students in Kindergarten are Repeaters?</th>\n",
       "    </tr>\n",
       "    <tr>\n",
       "      <th>County</th>\n",
       "      <th></th>\n",
       "      <th></th>\n",
       "      <th></th>\n",
       "      <th></th>\n",
       "      <th></th>\n",
       "      <th></th>\n",
       "    </tr>\n",
       "  </thead>\n",
       "  <tbody>\n",
       "    <tr>\n",
       "      <th>Bomi</th>\n",
       "      <td>263.0</td>\n",
       "      <td>248.0</td>\n",
       "      <td>83.0</td>\n",
       "      <td>102.0</td>\n",
       "      <td>64.0</td>\n",
       "      <td>58.0</td>\n",
       "    </tr>\n",
       "    <tr>\n",
       "      <th>Bong</th>\n",
       "      <td>755.0</td>\n",
       "      <td>675.0</td>\n",
       "      <td>346.0</td>\n",
       "      <td>358.0</td>\n",
       "      <td>288.0</td>\n",
       "      <td>264.0</td>\n",
       "    </tr>\n",
       "    <tr>\n",
       "      <th>Gbarpolu</th>\n",
       "      <td>405.0</td>\n",
       "      <td>363.0</td>\n",
       "      <td>175.0</td>\n",
       "      <td>183.0</td>\n",
       "      <td>121.0</td>\n",
       "      <td>127.0</td>\n",
       "    </tr>\n",
       "    <tr>\n",
       "      <th>Grand Bassa</th>\n",
       "      <td>334.0</td>\n",
       "      <td>355.0</td>\n",
       "      <td>415.0</td>\n",
       "      <td>464.0</td>\n",
       "      <td>381.0</td>\n",
       "      <td>373.0</td>\n",
       "    </tr>\n",
       "    <tr>\n",
       "      <th>Grand Cape Mount</th>\n",
       "      <td>744.0</td>\n",
       "      <td>701.0</td>\n",
       "      <td>271.0</td>\n",
       "      <td>283.0</td>\n",
       "      <td>290.0</td>\n",
       "      <td>273.0</td>\n",
       "    </tr>\n",
       "    <tr>\n",
       "      <th>Grand Gedeh</th>\n",
       "      <td>244.0</td>\n",
       "      <td>186.0</td>\n",
       "      <td>141.0</td>\n",
       "      <td>169.0</td>\n",
       "      <td>198.0</td>\n",
       "      <td>177.0</td>\n",
       "    </tr>\n",
       "    <tr>\n",
       "      <th>Grand Kru</th>\n",
       "      <td>239.0</td>\n",
       "      <td>226.0</td>\n",
       "      <td>162.0</td>\n",
       "      <td>145.0</td>\n",
       "      <td>141.0</td>\n",
       "      <td>141.0</td>\n",
       "    </tr>\n",
       "    <tr>\n",
       "      <th>Lofa</th>\n",
       "      <td>288.0</td>\n",
       "      <td>268.0</td>\n",
       "      <td>344.0</td>\n",
       "      <td>363.0</td>\n",
       "      <td>290.0</td>\n",
       "      <td>320.0</td>\n",
       "    </tr>\n",
       "    <tr>\n",
       "      <th>Margibi</th>\n",
       "      <td>266.0</td>\n",
       "      <td>258.0</td>\n",
       "      <td>174.0</td>\n",
       "      <td>94.0</td>\n",
       "      <td>130.0</td>\n",
       "      <td>110.0</td>\n",
       "    </tr>\n",
       "    <tr>\n",
       "      <th>Maryland</th>\n",
       "      <td>73.0</td>\n",
       "      <td>66.0</td>\n",
       "      <td>47.0</td>\n",
       "      <td>42.0</td>\n",
       "      <td>103.0</td>\n",
       "      <td>98.0</td>\n",
       "    </tr>\n",
       "    <tr>\n",
       "      <th>Montserrado 1</th>\n",
       "      <td>514.0</td>\n",
       "      <td>522.0</td>\n",
       "      <td>230.0</td>\n",
       "      <td>242.0</td>\n",
       "      <td>230.0</td>\n",
       "      <td>269.0</td>\n",
       "    </tr>\n",
       "    <tr>\n",
       "      <th>Montserrado 2</th>\n",
       "      <td>706.0</td>\n",
       "      <td>738.0</td>\n",
       "      <td>317.0</td>\n",
       "      <td>331.0</td>\n",
       "      <td>392.0</td>\n",
       "      <td>422.0</td>\n",
       "    </tr>\n",
       "    <tr>\n",
       "      <th>Nimba</th>\n",
       "      <td>1657.0</td>\n",
       "      <td>1543.0</td>\n",
       "      <td>1149.0</td>\n",
       "      <td>1232.0</td>\n",
       "      <td>1066.0</td>\n",
       "      <td>1044.0</td>\n",
       "    </tr>\n",
       "    <tr>\n",
       "      <th>River Gee</th>\n",
       "      <td>176.0</td>\n",
       "      <td>166.0</td>\n",
       "      <td>117.0</td>\n",
       "      <td>112.0</td>\n",
       "      <td>98.0</td>\n",
       "      <td>101.0</td>\n",
       "    </tr>\n",
       "    <tr>\n",
       "      <th>Rivercess</th>\n",
       "      <td>134.0</td>\n",
       "      <td>129.0</td>\n",
       "      <td>62.0</td>\n",
       "      <td>65.0</td>\n",
       "      <td>43.0</td>\n",
       "      <td>51.0</td>\n",
       "    </tr>\n",
       "    <tr>\n",
       "      <th>Sinoe</th>\n",
       "      <td>385.0</td>\n",
       "      <td>373.0</td>\n",
       "      <td>191.0</td>\n",
       "      <td>183.0</td>\n",
       "      <td>164.0</td>\n",
       "      <td>164.0</td>\n",
       "    </tr>\n",
       "  </tbody>\n",
       "</table>\n",
       "</div>"
      ],
      "text/plain": [
       "                  How many male students in nursery are repeaters  \\\n",
       "County                                                              \n",
       "Bomi                                                        263.0   \n",
       "Bong                                                        755.0   \n",
       "Gbarpolu                                                    405.0   \n",
       "Grand Bassa                                                 334.0   \n",
       "Grand Cape Mount                                            744.0   \n",
       "Grand Gedeh                                                 244.0   \n",
       "Grand Kru                                                   239.0   \n",
       "Lofa                                                        288.0   \n",
       "Margibi                                                     266.0   \n",
       "Maryland                                                     73.0   \n",
       "Montserrado 1                                               514.0   \n",
       "Montserrado 2                                               706.0   \n",
       "Nimba                                                      1657.0   \n",
       "River Gee                                                   176.0   \n",
       "Rivercess                                                   134.0   \n",
       "Sinoe                                                       385.0   \n",
       "\n",
       "                  How many female students in nursery are repeaters  \\\n",
       "County                                                                \n",
       "Bomi                                                          248.0   \n",
       "Bong                                                          675.0   \n",
       "Gbarpolu                                                      363.0   \n",
       "Grand Bassa                                                   355.0   \n",
       "Grand Cape Mount                                              701.0   \n",
       "Grand Gedeh                                                   186.0   \n",
       "Grand Kru                                                     226.0   \n",
       "Lofa                                                          268.0   \n",
       "Margibi                                                       258.0   \n",
       "Maryland                                                       66.0   \n",
       "Montserrado 1                                                 522.0   \n",
       "Montserrado 2                                                 738.0   \n",
       "Nimba                                                        1543.0   \n",
       "River Gee                                                     166.0   \n",
       "Rivercess                                                     129.0   \n",
       "Sinoe                                                         373.0   \n",
       "\n",
       "                  How many FEMALE students in Pre-Kindergarten are Repeaters?  \\\n",
       "County                                                                          \n",
       "Bomi                                                           83.0             \n",
       "Bong                                                          346.0             \n",
       "Gbarpolu                                                      175.0             \n",
       "Grand Bassa                                                   415.0             \n",
       "Grand Cape Mount                                              271.0             \n",
       "Grand Gedeh                                                   141.0             \n",
       "Grand Kru                                                     162.0             \n",
       "Lofa                                                          344.0             \n",
       "Margibi                                                       174.0             \n",
       "Maryland                                                       47.0             \n",
       "Montserrado 1                                                 230.0             \n",
       "Montserrado 2                                                 317.0             \n",
       "Nimba                                                        1149.0             \n",
       "River Gee                                                     117.0             \n",
       "Rivercess                                                      62.0             \n",
       "Sinoe                                                         191.0             \n",
       "\n",
       "                  How many MALE students in Pre-Kindergarten are Repeaters?  \\\n",
       "County                                                                        \n",
       "Bomi                                                          102.0           \n",
       "Bong                                                          358.0           \n",
       "Gbarpolu                                                      183.0           \n",
       "Grand Bassa                                                   464.0           \n",
       "Grand Cape Mount                                              283.0           \n",
       "Grand Gedeh                                                   169.0           \n",
       "Grand Kru                                                     145.0           \n",
       "Lofa                                                          363.0           \n",
       "Margibi                                                        94.0           \n",
       "Maryland                                                       42.0           \n",
       "Montserrado 1                                                 242.0           \n",
       "Montserrado 2                                                 331.0           \n",
       "Nimba                                                        1232.0           \n",
       "River Gee                                                     112.0           \n",
       "Rivercess                                                      65.0           \n",
       "Sinoe                                                         183.0           \n",
       "\n",
       "                  How many MALE students in Kindergarten are Repeaters?  \\\n",
       "County                                                                    \n",
       "Bomi                                                           64.0       \n",
       "Bong                                                          288.0       \n",
       "Gbarpolu                                                      121.0       \n",
       "Grand Bassa                                                   381.0       \n",
       "Grand Cape Mount                                              290.0       \n",
       "Grand Gedeh                                                   198.0       \n",
       "Grand Kru                                                     141.0       \n",
       "Lofa                                                          290.0       \n",
       "Margibi                                                       130.0       \n",
       "Maryland                                                      103.0       \n",
       "Montserrado 1                                                 230.0       \n",
       "Montserrado 2                                                 392.0       \n",
       "Nimba                                                        1066.0       \n",
       "River Gee                                                      98.0       \n",
       "Rivercess                                                      43.0       \n",
       "Sinoe                                                         164.0       \n",
       "\n",
       "                  How many female students in Kindergarten are Repeaters?  \n",
       "County                                                                     \n",
       "Bomi                                                           58.0        \n",
       "Bong                                                          264.0        \n",
       "Gbarpolu                                                      127.0        \n",
       "Grand Bassa                                                   373.0        \n",
       "Grand Cape Mount                                              273.0        \n",
       "Grand Gedeh                                                   177.0        \n",
       "Grand Kru                                                     141.0        \n",
       "Lofa                                                          320.0        \n",
       "Margibi                                                       110.0        \n",
       "Maryland                                                       98.0        \n",
       "Montserrado 1                                                 269.0        \n",
       "Montserrado 2                                                 422.0        \n",
       "Nimba                                                        1044.0        \n",
       "River Gee                                                     101.0        \n",
       "Rivercess                                                      51.0        \n",
       "Sinoe                                                         164.0        "
      ]
     },
     "execution_count": 297,
     "metadata": {},
     "output_type": "execute_result"
    }
   ],
   "source": [
    "kece_rc = pd.concat([kcensus.iloc[:,[2,39]],kcensus.iloc[:,65:71]], axis=1).groupby('County').sum()\n",
    "kece_rc"
   ]
  },
  {
   "cell_type": "code",
   "execution_count": 967,
   "id": "d17db796-4b39-493a-9680-8d0505557acb",
   "metadata": {},
   "outputs": [
    {
     "data": {
      "text/html": [
       "<div>\n",
       "<style scoped>\n",
       "    .dataframe tbody tr th:only-of-type {\n",
       "        vertical-align: middle;\n",
       "    }\n",
       "\n",
       "    .dataframe tbody tr th {\n",
       "        vertical-align: top;\n",
       "    }\n",
       "\n",
       "    .dataframe thead th {\n",
       "        text-align: right;\n",
       "    }\n",
       "</style>\n",
       "<table border=\"1\" class=\"dataframe\">\n",
       "  <thead>\n",
       "    <tr style=\"text-align: right;\">\n",
       "      <th></th>\n",
       "      <th>How many male students in nursery are repeaters</th>\n",
       "      <th>How many female students in nursery are repeaters</th>\n",
       "    </tr>\n",
       "    <tr>\n",
       "      <th>County</th>\n",
       "      <th></th>\n",
       "      <th></th>\n",
       "    </tr>\n",
       "  </thead>\n",
       "  <tbody>\n",
       "    <tr>\n",
       "      <th>Bomi</th>\n",
       "      <td>263.0</td>\n",
       "      <td>248.0</td>\n",
       "    </tr>\n",
       "    <tr>\n",
       "      <th>Bong</th>\n",
       "      <td>755.0</td>\n",
       "      <td>675.0</td>\n",
       "    </tr>\n",
       "    <tr>\n",
       "      <th>Gbarpolu</th>\n",
       "      <td>405.0</td>\n",
       "      <td>363.0</td>\n",
       "    </tr>\n",
       "    <tr>\n",
       "      <th>Grand Bassa</th>\n",
       "      <td>334.0</td>\n",
       "      <td>355.0</td>\n",
       "    </tr>\n",
       "    <tr>\n",
       "      <th>Grand Cape Mount</th>\n",
       "      <td>744.0</td>\n",
       "      <td>701.0</td>\n",
       "    </tr>\n",
       "    <tr>\n",
       "      <th>Grand Gedeh</th>\n",
       "      <td>244.0</td>\n",
       "      <td>186.0</td>\n",
       "    </tr>\n",
       "    <tr>\n",
       "      <th>Grand Kru</th>\n",
       "      <td>239.0</td>\n",
       "      <td>226.0</td>\n",
       "    </tr>\n",
       "    <tr>\n",
       "      <th>Lofa</th>\n",
       "      <td>288.0</td>\n",
       "      <td>268.0</td>\n",
       "    </tr>\n",
       "    <tr>\n",
       "      <th>Margibi</th>\n",
       "      <td>266.0</td>\n",
       "      <td>258.0</td>\n",
       "    </tr>\n",
       "    <tr>\n",
       "      <th>Maryland</th>\n",
       "      <td>73.0</td>\n",
       "      <td>66.0</td>\n",
       "    </tr>\n",
       "    <tr>\n",
       "      <th>Montserrado 1</th>\n",
       "      <td>514.0</td>\n",
       "      <td>522.0</td>\n",
       "    </tr>\n",
       "    <tr>\n",
       "      <th>Montserrado 2</th>\n",
       "      <td>706.0</td>\n",
       "      <td>738.0</td>\n",
       "    </tr>\n",
       "    <tr>\n",
       "      <th>Nimba</th>\n",
       "      <td>1657.0</td>\n",
       "      <td>1543.0</td>\n",
       "    </tr>\n",
       "    <tr>\n",
       "      <th>River Gee</th>\n",
       "      <td>176.0</td>\n",
       "      <td>166.0</td>\n",
       "    </tr>\n",
       "    <tr>\n",
       "      <th>Rivercess</th>\n",
       "      <td>134.0</td>\n",
       "      <td>129.0</td>\n",
       "    </tr>\n",
       "    <tr>\n",
       "      <th>Sinoe</th>\n",
       "      <td>385.0</td>\n",
       "      <td>373.0</td>\n",
       "    </tr>\n",
       "  </tbody>\n",
       "</table>\n",
       "</div>"
      ],
      "text/plain": [
       "                  How many male students in nursery are repeaters  \\\n",
       "County                                                              \n",
       "Bomi                                                        263.0   \n",
       "Bong                                                        755.0   \n",
       "Gbarpolu                                                    405.0   \n",
       "Grand Bassa                                                 334.0   \n",
       "Grand Cape Mount                                            744.0   \n",
       "Grand Gedeh                                                 244.0   \n",
       "Grand Kru                                                   239.0   \n",
       "Lofa                                                        288.0   \n",
       "Margibi                                                     266.0   \n",
       "Maryland                                                     73.0   \n",
       "Montserrado 1                                               514.0   \n",
       "Montserrado 2                                               706.0   \n",
       "Nimba                                                      1657.0   \n",
       "River Gee                                                   176.0   \n",
       "Rivercess                                                   134.0   \n",
       "Sinoe                                                       385.0   \n",
       "\n",
       "                  How many female students in nursery are repeaters  \n",
       "County                                                               \n",
       "Bomi                                                          248.0  \n",
       "Bong                                                          675.0  \n",
       "Gbarpolu                                                      363.0  \n",
       "Grand Bassa                                                   355.0  \n",
       "Grand Cape Mount                                              701.0  \n",
       "Grand Gedeh                                                   186.0  \n",
       "Grand Kru                                                     226.0  \n",
       "Lofa                                                          268.0  \n",
       "Margibi                                                       258.0  \n",
       "Maryland                                                       66.0  \n",
       "Montserrado 1                                                 522.0  \n",
       "Montserrado 2                                                 738.0  \n",
       "Nimba                                                        1543.0  \n",
       "River Gee                                                     166.0  \n",
       "Rivercess                                                     129.0  \n",
       "Sinoe                                                         373.0  "
      ]
     },
     "execution_count": 967,
     "metadata": {},
     "output_type": "execute_result"
    }
   ],
   "source": [
    "kece_rc.iloc[:,:2]"
   ]
  },
  {
   "cell_type": "code",
   "execution_count": 970,
   "id": "a046f22f-e6ae-4abc-b849-411c86e58311",
   "metadata": {},
   "outputs": [
    {
     "data": {
      "text/html": [
       "<div>\n",
       "<style scoped>\n",
       "    .dataframe tbody tr th:only-of-type {\n",
       "        vertical-align: middle;\n",
       "    }\n",
       "\n",
       "    .dataframe tbody tr th {\n",
       "        vertical-align: top;\n",
       "    }\n",
       "\n",
       "    .dataframe thead th {\n",
       "        text-align: right;\n",
       "    }\n",
       "</style>\n",
       "<table border=\"1\" class=\"dataframe\">\n",
       "  <thead>\n",
       "    <tr style=\"text-align: right;\">\n",
       "      <th></th>\n",
       "      <th>How many FEMALE students in Pre-Kindergarten are Repeaters?</th>\n",
       "      <th>How many MALE students in Pre-Kindergarten are Repeaters?</th>\n",
       "    </tr>\n",
       "    <tr>\n",
       "      <th>County</th>\n",
       "      <th></th>\n",
       "      <th></th>\n",
       "    </tr>\n",
       "  </thead>\n",
       "  <tbody>\n",
       "    <tr>\n",
       "      <th>Bomi</th>\n",
       "      <td>83.0</td>\n",
       "      <td>102.0</td>\n",
       "    </tr>\n",
       "    <tr>\n",
       "      <th>Bong</th>\n",
       "      <td>346.0</td>\n",
       "      <td>358.0</td>\n",
       "    </tr>\n",
       "    <tr>\n",
       "      <th>Gbarpolu</th>\n",
       "      <td>175.0</td>\n",
       "      <td>183.0</td>\n",
       "    </tr>\n",
       "    <tr>\n",
       "      <th>Grand Bassa</th>\n",
       "      <td>415.0</td>\n",
       "      <td>464.0</td>\n",
       "    </tr>\n",
       "    <tr>\n",
       "      <th>Grand Cape Mount</th>\n",
       "      <td>271.0</td>\n",
       "      <td>283.0</td>\n",
       "    </tr>\n",
       "    <tr>\n",
       "      <th>Grand Gedeh</th>\n",
       "      <td>141.0</td>\n",
       "      <td>169.0</td>\n",
       "    </tr>\n",
       "    <tr>\n",
       "      <th>Grand Kru</th>\n",
       "      <td>162.0</td>\n",
       "      <td>145.0</td>\n",
       "    </tr>\n",
       "    <tr>\n",
       "      <th>Lofa</th>\n",
       "      <td>344.0</td>\n",
       "      <td>363.0</td>\n",
       "    </tr>\n",
       "    <tr>\n",
       "      <th>Margibi</th>\n",
       "      <td>174.0</td>\n",
       "      <td>94.0</td>\n",
       "    </tr>\n",
       "    <tr>\n",
       "      <th>Maryland</th>\n",
       "      <td>47.0</td>\n",
       "      <td>42.0</td>\n",
       "    </tr>\n",
       "    <tr>\n",
       "      <th>Montserrado 1</th>\n",
       "      <td>230.0</td>\n",
       "      <td>242.0</td>\n",
       "    </tr>\n",
       "    <tr>\n",
       "      <th>Montserrado 2</th>\n",
       "      <td>317.0</td>\n",
       "      <td>331.0</td>\n",
       "    </tr>\n",
       "    <tr>\n",
       "      <th>Nimba</th>\n",
       "      <td>1149.0</td>\n",
       "      <td>1232.0</td>\n",
       "    </tr>\n",
       "    <tr>\n",
       "      <th>River Gee</th>\n",
       "      <td>117.0</td>\n",
       "      <td>112.0</td>\n",
       "    </tr>\n",
       "    <tr>\n",
       "      <th>Rivercess</th>\n",
       "      <td>62.0</td>\n",
       "      <td>65.0</td>\n",
       "    </tr>\n",
       "    <tr>\n",
       "      <th>Sinoe</th>\n",
       "      <td>191.0</td>\n",
       "      <td>183.0</td>\n",
       "    </tr>\n",
       "  </tbody>\n",
       "</table>\n",
       "</div>"
      ],
      "text/plain": [
       "                  How many FEMALE students in Pre-Kindergarten are Repeaters?  \\\n",
       "County                                                                          \n",
       "Bomi                                                           83.0             \n",
       "Bong                                                          346.0             \n",
       "Gbarpolu                                                      175.0             \n",
       "Grand Bassa                                                   415.0             \n",
       "Grand Cape Mount                                              271.0             \n",
       "Grand Gedeh                                                   141.0             \n",
       "Grand Kru                                                     162.0             \n",
       "Lofa                                                          344.0             \n",
       "Margibi                                                       174.0             \n",
       "Maryland                                                       47.0             \n",
       "Montserrado 1                                                 230.0             \n",
       "Montserrado 2                                                 317.0             \n",
       "Nimba                                                        1149.0             \n",
       "River Gee                                                     117.0             \n",
       "Rivercess                                                      62.0             \n",
       "Sinoe                                                         191.0             \n",
       "\n",
       "                  How many MALE students in Pre-Kindergarten are Repeaters?  \n",
       "County                                                                       \n",
       "Bomi                                                          102.0          \n",
       "Bong                                                          358.0          \n",
       "Gbarpolu                                                      183.0          \n",
       "Grand Bassa                                                   464.0          \n",
       "Grand Cape Mount                                              283.0          \n",
       "Grand Gedeh                                                   169.0          \n",
       "Grand Kru                                                     145.0          \n",
       "Lofa                                                          363.0          \n",
       "Margibi                                                        94.0          \n",
       "Maryland                                                       42.0          \n",
       "Montserrado 1                                                 242.0          \n",
       "Montserrado 2                                                 331.0          \n",
       "Nimba                                                        1232.0          \n",
       "River Gee                                                     112.0          \n",
       "Rivercess                                                      65.0          \n",
       "Sinoe                                                         183.0          "
      ]
     },
     "execution_count": 970,
     "metadata": {},
     "output_type": "execute_result"
    }
   ],
   "source": [
    "kece_rc.iloc[:,2:4]"
   ]
  },
  {
   "cell_type": "code",
   "execution_count": 971,
   "id": "45d20580-81ea-4db6-b3ef-5ac7ac3e7381",
   "metadata": {},
   "outputs": [
    {
     "data": {
      "text/html": [
       "<div>\n",
       "<style scoped>\n",
       "    .dataframe tbody tr th:only-of-type {\n",
       "        vertical-align: middle;\n",
       "    }\n",
       "\n",
       "    .dataframe tbody tr th {\n",
       "        vertical-align: top;\n",
       "    }\n",
       "\n",
       "    .dataframe thead th {\n",
       "        text-align: right;\n",
       "    }\n",
       "</style>\n",
       "<table border=\"1\" class=\"dataframe\">\n",
       "  <thead>\n",
       "    <tr style=\"text-align: right;\">\n",
       "      <th></th>\n",
       "      <th>How many MALE students in Kindergarten are Repeaters?</th>\n",
       "      <th>How many female students in Kindergarten are Repeaters?</th>\n",
       "    </tr>\n",
       "    <tr>\n",
       "      <th>County</th>\n",
       "      <th></th>\n",
       "      <th></th>\n",
       "    </tr>\n",
       "  </thead>\n",
       "  <tbody>\n",
       "    <tr>\n",
       "      <th>Bomi</th>\n",
       "      <td>64.0</td>\n",
       "      <td>58.0</td>\n",
       "    </tr>\n",
       "    <tr>\n",
       "      <th>Bong</th>\n",
       "      <td>288.0</td>\n",
       "      <td>264.0</td>\n",
       "    </tr>\n",
       "    <tr>\n",
       "      <th>Gbarpolu</th>\n",
       "      <td>121.0</td>\n",
       "      <td>127.0</td>\n",
       "    </tr>\n",
       "    <tr>\n",
       "      <th>Grand Bassa</th>\n",
       "      <td>381.0</td>\n",
       "      <td>373.0</td>\n",
       "    </tr>\n",
       "    <tr>\n",
       "      <th>Grand Cape Mount</th>\n",
       "      <td>290.0</td>\n",
       "      <td>273.0</td>\n",
       "    </tr>\n",
       "    <tr>\n",
       "      <th>Grand Gedeh</th>\n",
       "      <td>198.0</td>\n",
       "      <td>177.0</td>\n",
       "    </tr>\n",
       "    <tr>\n",
       "      <th>Grand Kru</th>\n",
       "      <td>141.0</td>\n",
       "      <td>141.0</td>\n",
       "    </tr>\n",
       "    <tr>\n",
       "      <th>Lofa</th>\n",
       "      <td>290.0</td>\n",
       "      <td>320.0</td>\n",
       "    </tr>\n",
       "    <tr>\n",
       "      <th>Margibi</th>\n",
       "      <td>130.0</td>\n",
       "      <td>110.0</td>\n",
       "    </tr>\n",
       "    <tr>\n",
       "      <th>Maryland</th>\n",
       "      <td>103.0</td>\n",
       "      <td>98.0</td>\n",
       "    </tr>\n",
       "    <tr>\n",
       "      <th>Montserrado 1</th>\n",
       "      <td>230.0</td>\n",
       "      <td>269.0</td>\n",
       "    </tr>\n",
       "    <tr>\n",
       "      <th>Montserrado 2</th>\n",
       "      <td>392.0</td>\n",
       "      <td>422.0</td>\n",
       "    </tr>\n",
       "    <tr>\n",
       "      <th>Nimba</th>\n",
       "      <td>1066.0</td>\n",
       "      <td>1044.0</td>\n",
       "    </tr>\n",
       "    <tr>\n",
       "      <th>River Gee</th>\n",
       "      <td>98.0</td>\n",
       "      <td>101.0</td>\n",
       "    </tr>\n",
       "    <tr>\n",
       "      <th>Rivercess</th>\n",
       "      <td>43.0</td>\n",
       "      <td>51.0</td>\n",
       "    </tr>\n",
       "    <tr>\n",
       "      <th>Sinoe</th>\n",
       "      <td>164.0</td>\n",
       "      <td>164.0</td>\n",
       "    </tr>\n",
       "  </tbody>\n",
       "</table>\n",
       "</div>"
      ],
      "text/plain": [
       "                  How many MALE students in Kindergarten are Repeaters?  \\\n",
       "County                                                                    \n",
       "Bomi                                                           64.0       \n",
       "Bong                                                          288.0       \n",
       "Gbarpolu                                                      121.0       \n",
       "Grand Bassa                                                   381.0       \n",
       "Grand Cape Mount                                              290.0       \n",
       "Grand Gedeh                                                   198.0       \n",
       "Grand Kru                                                     141.0       \n",
       "Lofa                                                          290.0       \n",
       "Margibi                                                       130.0       \n",
       "Maryland                                                      103.0       \n",
       "Montserrado 1                                                 230.0       \n",
       "Montserrado 2                                                 392.0       \n",
       "Nimba                                                        1066.0       \n",
       "River Gee                                                      98.0       \n",
       "Rivercess                                                      43.0       \n",
       "Sinoe                                                         164.0       \n",
       "\n",
       "                  How many female students in Kindergarten are Repeaters?  \n",
       "County                                                                     \n",
       "Bomi                                                           58.0        \n",
       "Bong                                                          264.0        \n",
       "Gbarpolu                                                      127.0        \n",
       "Grand Bassa                                                   373.0        \n",
       "Grand Cape Mount                                              273.0        \n",
       "Grand Gedeh                                                   177.0        \n",
       "Grand Kru                                                     141.0        \n",
       "Lofa                                                          320.0        \n",
       "Margibi                                                       110.0        \n",
       "Maryland                                                       98.0        \n",
       "Montserrado 1                                                 269.0        \n",
       "Montserrado 2                                                 422.0        \n",
       "Nimba                                                        1044.0        \n",
       "River Gee                                                     101.0        \n",
       "Rivercess                                                      51.0        \n",
       "Sinoe                                                         164.0        "
      ]
     },
     "execution_count": 971,
     "metadata": {},
     "output_type": "execute_result"
    }
   ],
   "source": [
    "kece_rc.iloc[:,4:]"
   ]
  },
  {
   "cell_type": "code",
   "execution_count": null,
   "id": "18a8ac02-b7a7-4c04-b3ff-8043969376dd",
   "metadata": {},
   "outputs": [],
   "source": []
  },
  {
   "cell_type": "code",
   "execution_count": null,
   "id": "48724482-e3b3-45a8-9f5b-f7233be058a0",
   "metadata": {},
   "outputs": [],
   "source": []
  },
  {
   "cell_type": "code",
   "execution_count": null,
   "id": "55356be7-8e19-4f6d-a443-73eea53a523a",
   "metadata": {},
   "outputs": [],
   "source": []
  },
  {
   "cell_type": "code",
   "execution_count": null,
   "id": "dfbef33b-703f-44de-ba34-acf61aa35579",
   "metadata": {},
   "outputs": [],
   "source": []
  },
  {
   "cell_type": "code",
   "execution_count": null,
   "id": "b2996757-7469-4951-9dd7-dda156d82b2e",
   "metadata": {},
   "outputs": [],
   "source": []
  },
  {
   "cell_type": "code",
   "execution_count": null,
   "id": "81ecaee2-95f3-40f6-81ab-ef9b8e43a817",
   "metadata": {},
   "outputs": [],
   "source": []
  },
  {
   "cell_type": "code",
   "execution_count": null,
   "id": "d4504119-ab22-4139-aee5-916b95163870",
   "metadata": {},
   "outputs": [],
   "source": []
  },
  {
   "cell_type": "code",
   "execution_count": null,
   "id": "562e68bd-d042-4f20-9d64-5c8f3382420e",
   "metadata": {},
   "outputs": [],
   "source": []
  },
  {
   "cell_type": "code",
   "execution_count": null,
   "id": "ee30ddb3-9929-48a2-9373-8154e06b378c",
   "metadata": {},
   "outputs": [],
   "source": []
  },
  {
   "cell_type": "code",
   "execution_count": null,
   "id": "6d4bfb89-a8cc-423d-a4e5-34ee1aee8dbb",
   "metadata": {},
   "outputs": [],
   "source": []
  },
  {
   "cell_type": "code",
   "execution_count": null,
   "id": "12b2ef83-ec7c-4938-887e-13f905e4131c",
   "metadata": {},
   "outputs": [],
   "source": []
  },
  {
   "cell_type": "code",
   "execution_count": null,
   "id": "161f34c7-b4b8-4ca2-9b76-173d2e7ae5e1",
   "metadata": {},
   "outputs": [],
   "source": []
  },
  {
   "cell_type": "code",
   "execution_count": null,
   "id": "ad506710-da20-4567-a8f9-75d133e13fc4",
   "metadata": {},
   "outputs": [],
   "source": []
  },
  {
   "cell_type": "code",
   "execution_count": null,
   "id": "6eb7719e-4063-4425-a6a3-fb4815a5205c",
   "metadata": {},
   "outputs": [],
   "source": []
  }
 ],
 "metadata": {
  "kernelspec": {
   "display_name": "Python 3",
   "language": "python",
   "name": "python3"
  },
  "language_info": {
   "codemirror_mode": {
    "name": "ipython",
    "version": 3
   },
   "file_extension": ".py",
   "mimetype": "text/x-python",
   "name": "python",
   "nbconvert_exporter": "python",
   "pygments_lexer": "ipython3",
   "version": "3.8.10"
  }
 },
 "nbformat": 4,
 "nbformat_minor": 5
}
