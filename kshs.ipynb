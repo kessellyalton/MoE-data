{
 "cells": [
  {
   "cell_type": "code",
   "execution_count": 3,
   "id": "0e612eb7-6f84-4c55-8bfc-3f76b14bef5a",
   "metadata": {},
   "outputs": [],
   "source": [
    "import numpy as np\n",
    "import matplotlib.pyplot as plt\n",
    "import pandas as pd\n",
    "import matplotlib.pyplot as plt\n",
    "import seaborn as sns\n",
    "pd.set_option('display.max_rows',7000)\n",
    "pd.set_option('display.max_columns',2000)"
   ]
  },
  {
   "cell_type": "code",
   "execution_count": 4,
   "id": "5336b734-5c50-4ca3-a2a8-d1406841523e",
   "metadata": {},
   "outputs": [
    {
     "name": "stderr",
     "output_type": "stream",
     "text": [
      "/home/alton/anaconda3/lib/python3.8/site-packages/IPython/core/interactiveshell.py:3165: DtypeWarning: Columns (5,6,10,11,648,745,746,753,772,773,796,801,806,811,816,821,826,831,836,841,846,851,856,861,866,871,876,881,886,891,896,901,902,903,904,974,1197,1222,1241,1250,1261,1269,1299,1399,1401,1403,1405,1408,1409,1413,1414,1415,1419,1421,1423,1425,1427,1429,1431,1432,1433,1434,1435,1436,1437,1438,1439,1440,1452) have mixed types.Specify dtype option on import or set low_memory=False.\n",
      "  has_raised = await self.run_ast_nodes(code_ast.body, cell_name,\n",
      "/home/alton/anaconda3/lib/python3.8/site-packages/IPython/core/interactiveshell.py:3165: DtypeWarning: Columns (2,12,13,14,115,893,995,1019,1020,1021,1022,1023) have mixed types.Specify dtype option on import or set low_memory=False.\n",
      "  has_raised = await self.run_ast_nodes(code_ast.body, cell_name,\n",
      "<ipython-input-4-8fec5fc5cfc6>:3: SettingWithCopyWarning: \n",
      "A value is trying to be set on a copy of a slice from a DataFrame\n",
      "\n",
      "See the caveats in the documentation: https://pandas.pydata.org/pandas-docs/stable/user_guide/indexing.html#returning-a-view-versus-a-copy\n",
      "  kcensus['How many FEMALE students  above AGE 8 YEARS OLD are in Pre-Kindergarten?'][3776]= 10\n"
     ]
    },
    {
     "data": {
      "text/plain": [
       "10.0"
      ]
     },
     "execution_count": 4,
     "metadata": {},
     "output_type": "execute_result"
    }
   ],
   "source": [
    "kcensus = pd.read_csv('kobo_data.csv')\n",
    "tcensus = pd.read_csv('tamma_data.csv')\n",
    "kcensus['How many FEMALE students  above AGE 8 YEARS OLD are in Pre-Kindergarten?'][3776]= 10\n",
    "kcensus['How many FEMALE students  above AGE 8 YEARS OLD are in Pre-Kindergarten?'][3776]"
   ]
  },
  {
   "cell_type": "code",
   "execution_count": 5,
   "id": "51404c78-06cb-4492-baae-13181b675ccf",
   "metadata": {},
   "outputs": [],
   "source": [
    "kstaff = pd.read_csv('kobo_staff.csv')\n",
    "tstaff = pd.read_csv('tamma_staff.csv')"
   ]
  },
  {
   "cell_type": "code",
   "execution_count": 6,
   "id": "297c9727-a01e-4eaf-91ba-35c611740b49",
   "metadata": {},
   "outputs": [
    {
     "data": {
      "text/html": [
       "<div>\n",
       "<style scoped>\n",
       "    .dataframe tbody tr th:only-of-type {\n",
       "        vertical-align: middle;\n",
       "    }\n",
       "\n",
       "    .dataframe tbody tr th {\n",
       "        vertical-align: top;\n",
       "    }\n",
       "\n",
       "    .dataframe thead th {\n",
       "        text-align: right;\n",
       "    }\n",
       "</style>\n",
       "<table border=\"1\" class=\"dataframe\">\n",
       "  <thead>\n",
       "    <tr style=\"text-align: right;\">\n",
       "      <th></th>\n",
       "      <th>How many students below Age 12 years old in Grade 10 are MALES?</th>\n",
       "      <th>How many students below Age 12 years old in Grade 11 are MALES?</th>\n",
       "      <th>How many students below Age 12 years old in Grade 12 are MALES?</th>\n",
       "      <th>How many students below Age 12 years old in Grade 10 are FEMALES?</th>\n",
       "      <th>How many students below Age 12 years old in Grade 11 are FEMALES?</th>\n",
       "      <th>How many students below Age 12 years old in Grade 12 are FEMALES?</th>\n",
       "      <th>How many students Age 12 years old in Grade 10 are MALES?</th>\n",
       "      <th>How many students Age 12 years old in Grade 11 are MALES?</th>\n",
       "      <th>How many students Age 12 years old in Grade 12 are MALES?</th>\n",
       "      <th>How many students Age 12 years old in Grade 10 are FEMALES?</th>\n",
       "      <th>How many students Age 12 years old in Grade 11 are FEMALES?</th>\n",
       "      <th>How many students Age 12 years old in Grade 12 are FEMALES?</th>\n",
       "      <th>How many students  Age 13 years old in Grade 10 are MALES?</th>\n",
       "      <th>How many students  Age 13 years old in Grade 11 are MALES?</th>\n",
       "      <th>How many students  Age 13 years old in Grade 12 are MALES?</th>\n",
       "      <th>How many students  Age 13 years old in Grade 10 are FEMALES?</th>\n",
       "      <th>How many students  Age 13 years old in Grade 11 are FEMALES?</th>\n",
       "      <th>How many students  Age 13 years old in Grade 12 are FEMALES?</th>\n",
       "      <th>How many students  Age 14 years old in Grade 10 are MALES?</th>\n",
       "      <th>How many students  Age 14 years old in Grade 11 are MALES?</th>\n",
       "      <th>How many students  Age 14 years old in Grade 12 are MALES?</th>\n",
       "      <th>How many students  Age 14 years old in Grade 10 are FEMALES?</th>\n",
       "      <th>How many students  Age 14 years old in Grade 11 are FEMALES?</th>\n",
       "      <th>How many students  Age 14 years old in Grade 12 are FEMALES?</th>\n",
       "      <th>How many students  Age 15 years old in Grade 10 are MALES?</th>\n",
       "      <th>How many students  Age 15 years old in Grade 11 are MALES?</th>\n",
       "      <th>How many students  Age 15 years old in Grade 12 are MALES?</th>\n",
       "      <th>How many students  age 15 Years old  in Grade 10 are FEMALES?</th>\n",
       "      <th>How many students  age 15 Years old  in Grade 11 are FEMALES?</th>\n",
       "      <th>How many students  age 15 Years old  in Grade 12 are FEMALES?</th>\n",
       "      <th>How many students age 16 Years old  in Grade 10 are MALES?</th>\n",
       "      <th>How many students age 16 Years old  in Grade 11 are MALES?</th>\n",
       "      <th>How many students age 16 Years old  in Grade 12 are MALES?</th>\n",
       "      <th>How many students  above Age 16 in Grade 10 are FEMALES?</th>\n",
       "      <th>How many students  above Age 16 in Grade 11 are FEMALES?</th>\n",
       "      <th>How many students  above Age 16 in Grade 12 are FEMALES?</th>\n",
       "      <th>How many students age 17 in Grade 10 are MALES?</th>\n",
       "      <th>How many students age 17 in Grade 11 are MALES?</th>\n",
       "      <th>How many students age 17 in Grade 12 are MALES?</th>\n",
       "      <th>How many students age 17 in Grade 10 are FEMALES?</th>\n",
       "      <th>How many students age 17 in Grade 11 are FEMALES?</th>\n",
       "      <th>How many students age 17 in Grade 12 are FEMALES?</th>\n",
       "      <th>How many students age 18 in Grade 10 are MALES?</th>\n",
       "      <th>How many students age 18 in Grade 11 are MALES?</th>\n",
       "      <th>How many students age 18 in Grade 12 are MALES?</th>\n",
       "      <th>How many students age 18 in Grade 10 are FEMALES?</th>\n",
       "      <th>How many students age 18 in Grade 11 are FEMALES?</th>\n",
       "      <th>How many students age 18 in Grade 12 are FEMALES?</th>\n",
       "      <th>How many students age 19 in Grade 10 are MALES?</th>\n",
       "      <th>How many students age 19 in Grade 11 are MALES?</th>\n",
       "      <th>How many students age 19 in Grade 12 are MALES?</th>\n",
       "      <th>How many students age 19 in Grade 10 are FEMALES?</th>\n",
       "      <th>How many students age 19 in Grade 11 are FEMALES?</th>\n",
       "      <th>How many students age 19 in Grade 12 are FEMALES?</th>\n",
       "      <th>How many students age 20 in Grade 10 are MALES?</th>\n",
       "      <th>How many students age 20 in Grade 11 are MALES?</th>\n",
       "      <th>How many students age 20 in Grade 12 are MALES?</th>\n",
       "      <th>How many students age 20 in Grade 10 are FEMALES?</th>\n",
       "      <th>How many students age 20 in Grade 11 that are FEMALES?</th>\n",
       "      <th>How many students age 20 in Grade 12 that are FEMALES?</th>\n",
       "      <th>How many students above age 20 in Grade 10 that are MALES?</th>\n",
       "      <th>How many students above age 20 in Grade 11 that are MALES?</th>\n",
       "      <th>How many students above age 20 in Grade 12 that are MALES?</th>\n",
       "      <th>How many students above age 20 in Grade 10 that are FEMALES?</th>\n",
       "      <th>How many students above age 20 in Grade 11 that are FEMALES?</th>\n",
       "      <th>How many students above age 20 in Grade 12 that are FEMALES?</th>\n",
       "    </tr>\n",
       "  </thead>\n",
       "  <tbody>\n",
       "    <tr>\n",
       "      <th>0</th>\n",
       "      <td>NaN</td>\n",
       "      <td>NaN</td>\n",
       "      <td>NaN</td>\n",
       "      <td>NaN</td>\n",
       "      <td>NaN</td>\n",
       "      <td>NaN</td>\n",
       "      <td>NaN</td>\n",
       "      <td>NaN</td>\n",
       "      <td>NaN</td>\n",
       "      <td>NaN</td>\n",
       "      <td>NaN</td>\n",
       "      <td>NaN</td>\n",
       "      <td>NaN</td>\n",
       "      <td>NaN</td>\n",
       "      <td>NaN</td>\n",
       "      <td>NaN</td>\n",
       "      <td>NaN</td>\n",
       "      <td>NaN</td>\n",
       "      <td>NaN</td>\n",
       "      <td>NaN</td>\n",
       "      <td>NaN</td>\n",
       "      <td>NaN</td>\n",
       "      <td>NaN</td>\n",
       "      <td>NaN</td>\n",
       "      <td>NaN</td>\n",
       "      <td>NaN</td>\n",
       "      <td>NaN</td>\n",
       "      <td>NaN</td>\n",
       "      <td>NaN</td>\n",
       "      <td>NaN</td>\n",
       "      <td>NaN</td>\n",
       "      <td>NaN</td>\n",
       "      <td>NaN</td>\n",
       "      <td>NaN</td>\n",
       "      <td>NaN</td>\n",
       "      <td>NaN</td>\n",
       "      <td>NaN</td>\n",
       "      <td>NaN</td>\n",
       "      <td>NaN</td>\n",
       "      <td>NaN</td>\n",
       "      <td>NaN</td>\n",
       "      <td>NaN</td>\n",
       "      <td>NaN</td>\n",
       "      <td>NaN</td>\n",
       "      <td>NaN</td>\n",
       "      <td>NaN</td>\n",
       "      <td>NaN</td>\n",
       "      <td>NaN</td>\n",
       "      <td>NaN</td>\n",
       "      <td>NaN</td>\n",
       "      <td>NaN</td>\n",
       "      <td>NaN</td>\n",
       "      <td>NaN</td>\n",
       "      <td>NaN</td>\n",
       "      <td>NaN</td>\n",
       "      <td>NaN</td>\n",
       "      <td>NaN</td>\n",
       "      <td>NaN</td>\n",
       "      <td>NaN</td>\n",
       "      <td>NaN</td>\n",
       "      <td>NaN</td>\n",
       "      <td>NaN</td>\n",
       "      <td>NaN</td>\n",
       "      <td>NaN</td>\n",
       "      <td>NaN</td>\n",
       "      <td>NaN</td>\n",
       "    </tr>\n",
       "    <tr>\n",
       "      <th>1</th>\n",
       "      <td>NaN</td>\n",
       "      <td>NaN</td>\n",
       "      <td>NaN</td>\n",
       "      <td>NaN</td>\n",
       "      <td>NaN</td>\n",
       "      <td>NaN</td>\n",
       "      <td>NaN</td>\n",
       "      <td>NaN</td>\n",
       "      <td>NaN</td>\n",
       "      <td>NaN</td>\n",
       "      <td>NaN</td>\n",
       "      <td>NaN</td>\n",
       "      <td>NaN</td>\n",
       "      <td>NaN</td>\n",
       "      <td>NaN</td>\n",
       "      <td>NaN</td>\n",
       "      <td>NaN</td>\n",
       "      <td>NaN</td>\n",
       "      <td>NaN</td>\n",
       "      <td>NaN</td>\n",
       "      <td>NaN</td>\n",
       "      <td>NaN</td>\n",
       "      <td>NaN</td>\n",
       "      <td>NaN</td>\n",
       "      <td>NaN</td>\n",
       "      <td>NaN</td>\n",
       "      <td>NaN</td>\n",
       "      <td>NaN</td>\n",
       "      <td>NaN</td>\n",
       "      <td>NaN</td>\n",
       "      <td>NaN</td>\n",
       "      <td>NaN</td>\n",
       "      <td>NaN</td>\n",
       "      <td>NaN</td>\n",
       "      <td>NaN</td>\n",
       "      <td>NaN</td>\n",
       "      <td>NaN</td>\n",
       "      <td>NaN</td>\n",
       "      <td>NaN</td>\n",
       "      <td>NaN</td>\n",
       "      <td>NaN</td>\n",
       "      <td>NaN</td>\n",
       "      <td>NaN</td>\n",
       "      <td>NaN</td>\n",
       "      <td>NaN</td>\n",
       "      <td>NaN</td>\n",
       "      <td>NaN</td>\n",
       "      <td>NaN</td>\n",
       "      <td>NaN</td>\n",
       "      <td>NaN</td>\n",
       "      <td>NaN</td>\n",
       "      <td>NaN</td>\n",
       "      <td>NaN</td>\n",
       "      <td>NaN</td>\n",
       "      <td>NaN</td>\n",
       "      <td>NaN</td>\n",
       "      <td>NaN</td>\n",
       "      <td>NaN</td>\n",
       "      <td>NaN</td>\n",
       "      <td>NaN</td>\n",
       "      <td>NaN</td>\n",
       "      <td>NaN</td>\n",
       "      <td>NaN</td>\n",
       "      <td>NaN</td>\n",
       "      <td>NaN</td>\n",
       "      <td>NaN</td>\n",
       "    </tr>\n",
       "    <tr>\n",
       "      <th>2</th>\n",
       "      <td>NaN</td>\n",
       "      <td>NaN</td>\n",
       "      <td>NaN</td>\n",
       "      <td>NaN</td>\n",
       "      <td>NaN</td>\n",
       "      <td>NaN</td>\n",
       "      <td>NaN</td>\n",
       "      <td>NaN</td>\n",
       "      <td>NaN</td>\n",
       "      <td>NaN</td>\n",
       "      <td>NaN</td>\n",
       "      <td>NaN</td>\n",
       "      <td>NaN</td>\n",
       "      <td>NaN</td>\n",
       "      <td>NaN</td>\n",
       "      <td>NaN</td>\n",
       "      <td>NaN</td>\n",
       "      <td>NaN</td>\n",
       "      <td>NaN</td>\n",
       "      <td>NaN</td>\n",
       "      <td>NaN</td>\n",
       "      <td>NaN</td>\n",
       "      <td>NaN</td>\n",
       "      <td>NaN</td>\n",
       "      <td>NaN</td>\n",
       "      <td>NaN</td>\n",
       "      <td>NaN</td>\n",
       "      <td>NaN</td>\n",
       "      <td>NaN</td>\n",
       "      <td>NaN</td>\n",
       "      <td>NaN</td>\n",
       "      <td>NaN</td>\n",
       "      <td>NaN</td>\n",
       "      <td>NaN</td>\n",
       "      <td>NaN</td>\n",
       "      <td>NaN</td>\n",
       "      <td>NaN</td>\n",
       "      <td>NaN</td>\n",
       "      <td>NaN</td>\n",
       "      <td>NaN</td>\n",
       "      <td>NaN</td>\n",
       "      <td>NaN</td>\n",
       "      <td>NaN</td>\n",
       "      <td>NaN</td>\n",
       "      <td>NaN</td>\n",
       "      <td>NaN</td>\n",
       "      <td>NaN</td>\n",
       "      <td>NaN</td>\n",
       "      <td>NaN</td>\n",
       "      <td>NaN</td>\n",
       "      <td>NaN</td>\n",
       "      <td>NaN</td>\n",
       "      <td>NaN</td>\n",
       "      <td>NaN</td>\n",
       "      <td>NaN</td>\n",
       "      <td>NaN</td>\n",
       "      <td>NaN</td>\n",
       "      <td>NaN</td>\n",
       "      <td>NaN</td>\n",
       "      <td>NaN</td>\n",
       "      <td>NaN</td>\n",
       "      <td>NaN</td>\n",
       "      <td>NaN</td>\n",
       "      <td>NaN</td>\n",
       "      <td>NaN</td>\n",
       "      <td>NaN</td>\n",
       "    </tr>\n",
       "    <tr>\n",
       "      <th>3</th>\n",
       "      <td>NaN</td>\n",
       "      <td>NaN</td>\n",
       "      <td>NaN</td>\n",
       "      <td>NaN</td>\n",
       "      <td>NaN</td>\n",
       "      <td>NaN</td>\n",
       "      <td>NaN</td>\n",
       "      <td>NaN</td>\n",
       "      <td>NaN</td>\n",
       "      <td>NaN</td>\n",
       "      <td>NaN</td>\n",
       "      <td>NaN</td>\n",
       "      <td>NaN</td>\n",
       "      <td>NaN</td>\n",
       "      <td>NaN</td>\n",
       "      <td>NaN</td>\n",
       "      <td>NaN</td>\n",
       "      <td>NaN</td>\n",
       "      <td>NaN</td>\n",
       "      <td>NaN</td>\n",
       "      <td>NaN</td>\n",
       "      <td>NaN</td>\n",
       "      <td>NaN</td>\n",
       "      <td>NaN</td>\n",
       "      <td>NaN</td>\n",
       "      <td>NaN</td>\n",
       "      <td>NaN</td>\n",
       "      <td>NaN</td>\n",
       "      <td>NaN</td>\n",
       "      <td>NaN</td>\n",
       "      <td>NaN</td>\n",
       "      <td>NaN</td>\n",
       "      <td>NaN</td>\n",
       "      <td>NaN</td>\n",
       "      <td>NaN</td>\n",
       "      <td>NaN</td>\n",
       "      <td>NaN</td>\n",
       "      <td>NaN</td>\n",
       "      <td>NaN</td>\n",
       "      <td>NaN</td>\n",
       "      <td>NaN</td>\n",
       "      <td>NaN</td>\n",
       "      <td>NaN</td>\n",
       "      <td>NaN</td>\n",
       "      <td>NaN</td>\n",
       "      <td>NaN</td>\n",
       "      <td>NaN</td>\n",
       "      <td>NaN</td>\n",
       "      <td>NaN</td>\n",
       "      <td>NaN</td>\n",
       "      <td>NaN</td>\n",
       "      <td>NaN</td>\n",
       "      <td>NaN</td>\n",
       "      <td>NaN</td>\n",
       "      <td>NaN</td>\n",
       "      <td>NaN</td>\n",
       "      <td>NaN</td>\n",
       "      <td>NaN</td>\n",
       "      <td>NaN</td>\n",
       "      <td>NaN</td>\n",
       "      <td>NaN</td>\n",
       "      <td>NaN</td>\n",
       "      <td>NaN</td>\n",
       "      <td>NaN</td>\n",
       "      <td>NaN</td>\n",
       "      <td>NaN</td>\n",
       "    </tr>\n",
       "    <tr>\n",
       "      <th>4</th>\n",
       "      <td>NaN</td>\n",
       "      <td>NaN</td>\n",
       "      <td>NaN</td>\n",
       "      <td>NaN</td>\n",
       "      <td>NaN</td>\n",
       "      <td>NaN</td>\n",
       "      <td>NaN</td>\n",
       "      <td>NaN</td>\n",
       "      <td>NaN</td>\n",
       "      <td>NaN</td>\n",
       "      <td>NaN</td>\n",
       "      <td>NaN</td>\n",
       "      <td>NaN</td>\n",
       "      <td>NaN</td>\n",
       "      <td>NaN</td>\n",
       "      <td>NaN</td>\n",
       "      <td>NaN</td>\n",
       "      <td>NaN</td>\n",
       "      <td>NaN</td>\n",
       "      <td>NaN</td>\n",
       "      <td>NaN</td>\n",
       "      <td>NaN</td>\n",
       "      <td>NaN</td>\n",
       "      <td>NaN</td>\n",
       "      <td>NaN</td>\n",
       "      <td>NaN</td>\n",
       "      <td>NaN</td>\n",
       "      <td>NaN</td>\n",
       "      <td>NaN</td>\n",
       "      <td>NaN</td>\n",
       "      <td>NaN</td>\n",
       "      <td>NaN</td>\n",
       "      <td>NaN</td>\n",
       "      <td>NaN</td>\n",
       "      <td>NaN</td>\n",
       "      <td>NaN</td>\n",
       "      <td>NaN</td>\n",
       "      <td>NaN</td>\n",
       "      <td>NaN</td>\n",
       "      <td>NaN</td>\n",
       "      <td>NaN</td>\n",
       "      <td>NaN</td>\n",
       "      <td>NaN</td>\n",
       "      <td>NaN</td>\n",
       "      <td>NaN</td>\n",
       "      <td>NaN</td>\n",
       "      <td>NaN</td>\n",
       "      <td>NaN</td>\n",
       "      <td>NaN</td>\n",
       "      <td>NaN</td>\n",
       "      <td>NaN</td>\n",
       "      <td>NaN</td>\n",
       "      <td>NaN</td>\n",
       "      <td>NaN</td>\n",
       "      <td>NaN</td>\n",
       "      <td>NaN</td>\n",
       "      <td>NaN</td>\n",
       "      <td>NaN</td>\n",
       "      <td>NaN</td>\n",
       "      <td>NaN</td>\n",
       "      <td>NaN</td>\n",
       "      <td>NaN</td>\n",
       "      <td>NaN</td>\n",
       "      <td>NaN</td>\n",
       "      <td>NaN</td>\n",
       "      <td>NaN</td>\n",
       "    </tr>\n",
       "  </tbody>\n",
       "</table>\n",
       "</div>"
      ],
      "text/plain": [
       "   How many students below Age 12 years old in Grade 10 are MALES?  \\\n",
       "0                                                NaN                 \n",
       "1                                                NaN                 \n",
       "2                                                NaN                 \n",
       "3                                                NaN                 \n",
       "4                                                NaN                 \n",
       "\n",
       "   How many students below Age 12 years old in Grade 11 are MALES?  \\\n",
       "0                                                NaN                 \n",
       "1                                                NaN                 \n",
       "2                                                NaN                 \n",
       "3                                                NaN                 \n",
       "4                                                NaN                 \n",
       "\n",
       "   How many students below Age 12 years old in Grade 12 are MALES?  \\\n",
       "0                                                NaN                 \n",
       "1                                                NaN                 \n",
       "2                                                NaN                 \n",
       "3                                                NaN                 \n",
       "4                                                NaN                 \n",
       "\n",
       "   How many students below Age 12 years old in Grade 10 are FEMALES?  \\\n",
       "0                                                NaN                   \n",
       "1                                                NaN                   \n",
       "2                                                NaN                   \n",
       "3                                                NaN                   \n",
       "4                                                NaN                   \n",
       "\n",
       "   How many students below Age 12 years old in Grade 11 are FEMALES?  \\\n",
       "0                                                NaN                   \n",
       "1                                                NaN                   \n",
       "2                                                NaN                   \n",
       "3                                                NaN                   \n",
       "4                                                NaN                   \n",
       "\n",
       "   How many students below Age 12 years old in Grade 12 are FEMALES?  \\\n",
       "0                                                NaN                   \n",
       "1                                                NaN                   \n",
       "2                                                NaN                   \n",
       "3                                                NaN                   \n",
       "4                                                NaN                   \n",
       "\n",
       "   How many students Age 12 years old in Grade 10 are MALES?  \\\n",
       "0                                                NaN           \n",
       "1                                                NaN           \n",
       "2                                                NaN           \n",
       "3                                                NaN           \n",
       "4                                                NaN           \n",
       "\n",
       "   How many students Age 12 years old in Grade 11 are MALES?  \\\n",
       "0                                                NaN           \n",
       "1                                                NaN           \n",
       "2                                                NaN           \n",
       "3                                                NaN           \n",
       "4                                                NaN           \n",
       "\n",
       "   How many students Age 12 years old in Grade 12 are MALES?  \\\n",
       "0                                                NaN           \n",
       "1                                                NaN           \n",
       "2                                                NaN           \n",
       "3                                                NaN           \n",
       "4                                                NaN           \n",
       "\n",
       "   How many students Age 12 years old in Grade 10 are FEMALES?  \\\n",
       "0                                                NaN             \n",
       "1                                                NaN             \n",
       "2                                                NaN             \n",
       "3                                                NaN             \n",
       "4                                                NaN             \n",
       "\n",
       "   How many students Age 12 years old in Grade 11 are FEMALES?  \\\n",
       "0                                                NaN             \n",
       "1                                                NaN             \n",
       "2                                                NaN             \n",
       "3                                                NaN             \n",
       "4                                                NaN             \n",
       "\n",
       "   How many students Age 12 years old in Grade 12 are FEMALES?  \\\n",
       "0                                                NaN             \n",
       "1                                                NaN             \n",
       "2                                                NaN             \n",
       "3                                                NaN             \n",
       "4                                                NaN             \n",
       "\n",
       "   How many students  Age 13 years old in Grade 10 are MALES?  \\\n",
       "0                                                NaN            \n",
       "1                                                NaN            \n",
       "2                                                NaN            \n",
       "3                                                NaN            \n",
       "4                                                NaN            \n",
       "\n",
       "   How many students  Age 13 years old in Grade 11 are MALES?  \\\n",
       "0                                                NaN            \n",
       "1                                                NaN            \n",
       "2                                                NaN            \n",
       "3                                                NaN            \n",
       "4                                                NaN            \n",
       "\n",
       "   How many students  Age 13 years old in Grade 12 are MALES?  \\\n",
       "0                                                NaN            \n",
       "1                                                NaN            \n",
       "2                                                NaN            \n",
       "3                                                NaN            \n",
       "4                                                NaN            \n",
       "\n",
       "   How many students  Age 13 years old in Grade 10 are FEMALES?  \\\n",
       "0                                                NaN              \n",
       "1                                                NaN              \n",
       "2                                                NaN              \n",
       "3                                                NaN              \n",
       "4                                                NaN              \n",
       "\n",
       "   How many students  Age 13 years old in Grade 11 are FEMALES?  \\\n",
       "0                                                NaN              \n",
       "1                                                NaN              \n",
       "2                                                NaN              \n",
       "3                                                NaN              \n",
       "4                                                NaN              \n",
       "\n",
       "   How many students  Age 13 years old in Grade 12 are FEMALES?  \\\n",
       "0                                                NaN              \n",
       "1                                                NaN              \n",
       "2                                                NaN              \n",
       "3                                                NaN              \n",
       "4                                                NaN              \n",
       "\n",
       "   How many students  Age 14 years old in Grade 10 are MALES?  \\\n",
       "0                                                NaN            \n",
       "1                                                NaN            \n",
       "2                                                NaN            \n",
       "3                                                NaN            \n",
       "4                                                NaN            \n",
       "\n",
       "   How many students  Age 14 years old in Grade 11 are MALES?  \\\n",
       "0                                                NaN            \n",
       "1                                                NaN            \n",
       "2                                                NaN            \n",
       "3                                                NaN            \n",
       "4                                                NaN            \n",
       "\n",
       "   How many students  Age 14 years old in Grade 12 are MALES?  \\\n",
       "0                                                NaN            \n",
       "1                                                NaN            \n",
       "2                                                NaN            \n",
       "3                                                NaN            \n",
       "4                                                NaN            \n",
       "\n",
       "   How many students  Age 14 years old in Grade 10 are FEMALES?  \\\n",
       "0                                                NaN              \n",
       "1                                                NaN              \n",
       "2                                                NaN              \n",
       "3                                                NaN              \n",
       "4                                                NaN              \n",
       "\n",
       "   How many students  Age 14 years old in Grade 11 are FEMALES?  \\\n",
       "0                                                NaN              \n",
       "1                                                NaN              \n",
       "2                                                NaN              \n",
       "3                                                NaN              \n",
       "4                                                NaN              \n",
       "\n",
       "   How many students  Age 14 years old in Grade 12 are FEMALES?  \\\n",
       "0                                                NaN              \n",
       "1                                                NaN              \n",
       "2                                                NaN              \n",
       "3                                                NaN              \n",
       "4                                                NaN              \n",
       "\n",
       "   How many students  Age 15 years old in Grade 10 are MALES?  \\\n",
       "0                                                NaN            \n",
       "1                                                NaN            \n",
       "2                                                NaN            \n",
       "3                                                NaN            \n",
       "4                                                NaN            \n",
       "\n",
       "   How many students  Age 15 years old in Grade 11 are MALES?  \\\n",
       "0                                                NaN            \n",
       "1                                                NaN            \n",
       "2                                                NaN            \n",
       "3                                                NaN            \n",
       "4                                                NaN            \n",
       "\n",
       "   How many students  Age 15 years old in Grade 12 are MALES?  \\\n",
       "0                                                NaN            \n",
       "1                                                NaN            \n",
       "2                                                NaN            \n",
       "3                                                NaN            \n",
       "4                                                NaN            \n",
       "\n",
       "   How many students  age 15 Years old  in Grade 10 are FEMALES?  \\\n",
       "0                                                NaN               \n",
       "1                                                NaN               \n",
       "2                                                NaN               \n",
       "3                                                NaN               \n",
       "4                                                NaN               \n",
       "\n",
       "   How many students  age 15 Years old  in Grade 11 are FEMALES?  \\\n",
       "0                                                NaN               \n",
       "1                                                NaN               \n",
       "2                                                NaN               \n",
       "3                                                NaN               \n",
       "4                                                NaN               \n",
       "\n",
       "   How many students  age 15 Years old  in Grade 12 are FEMALES?  \\\n",
       "0                                                NaN               \n",
       "1                                                NaN               \n",
       "2                                                NaN               \n",
       "3                                                NaN               \n",
       "4                                                NaN               \n",
       "\n",
       "   How many students age 16 Years old  in Grade 10 are MALES?  \\\n",
       "0                                                NaN            \n",
       "1                                                NaN            \n",
       "2                                                NaN            \n",
       "3                                                NaN            \n",
       "4                                                NaN            \n",
       "\n",
       "   How many students age 16 Years old  in Grade 11 are MALES?  \\\n",
       "0                                                NaN            \n",
       "1                                                NaN            \n",
       "2                                                NaN            \n",
       "3                                                NaN            \n",
       "4                                                NaN            \n",
       "\n",
       "   How many students age 16 Years old  in Grade 12 are MALES?  \\\n",
       "0                                                NaN            \n",
       "1                                                NaN            \n",
       "2                                                NaN            \n",
       "3                                                NaN            \n",
       "4                                                NaN            \n",
       "\n",
       "   How many students  above Age 16 in Grade 10 are FEMALES?  \\\n",
       "0                                                NaN          \n",
       "1                                                NaN          \n",
       "2                                                NaN          \n",
       "3                                                NaN          \n",
       "4                                                NaN          \n",
       "\n",
       "   How many students  above Age 16 in Grade 11 are FEMALES?  \\\n",
       "0                                                NaN          \n",
       "1                                                NaN          \n",
       "2                                                NaN          \n",
       "3                                                NaN          \n",
       "4                                                NaN          \n",
       "\n",
       "   How many students  above Age 16 in Grade 12 are FEMALES?  \\\n",
       "0                                                NaN          \n",
       "1                                                NaN          \n",
       "2                                                NaN          \n",
       "3                                                NaN          \n",
       "4                                                NaN          \n",
       "\n",
       "   How many students age 17 in Grade 10 are MALES?  \\\n",
       "0                                              NaN   \n",
       "1                                              NaN   \n",
       "2                                              NaN   \n",
       "3                                              NaN   \n",
       "4                                              NaN   \n",
       "\n",
       "   How many students age 17 in Grade 11 are MALES?  \\\n",
       "0                                              NaN   \n",
       "1                                              NaN   \n",
       "2                                              NaN   \n",
       "3                                              NaN   \n",
       "4                                              NaN   \n",
       "\n",
       "   How many students age 17 in Grade 12 are MALES?  \\\n",
       "0                                              NaN   \n",
       "1                                              NaN   \n",
       "2                                              NaN   \n",
       "3                                              NaN   \n",
       "4                                              NaN   \n",
       "\n",
       "   How many students age 17 in Grade 10 are FEMALES?  \\\n",
       "0                                                NaN   \n",
       "1                                                NaN   \n",
       "2                                                NaN   \n",
       "3                                                NaN   \n",
       "4                                                NaN   \n",
       "\n",
       "   How many students age 17 in Grade 11 are FEMALES?  \\\n",
       "0                                                NaN   \n",
       "1                                                NaN   \n",
       "2                                                NaN   \n",
       "3                                                NaN   \n",
       "4                                                NaN   \n",
       "\n",
       "   How many students age 17 in Grade 12 are FEMALES?  \\\n",
       "0                                                NaN   \n",
       "1                                                NaN   \n",
       "2                                                NaN   \n",
       "3                                                NaN   \n",
       "4                                                NaN   \n",
       "\n",
       "   How many students age 18 in Grade 10 are MALES?  \\\n",
       "0                                              NaN   \n",
       "1                                              NaN   \n",
       "2                                              NaN   \n",
       "3                                              NaN   \n",
       "4                                              NaN   \n",
       "\n",
       "   How many students age 18 in Grade 11 are MALES?  \\\n",
       "0                                              NaN   \n",
       "1                                              NaN   \n",
       "2                                              NaN   \n",
       "3                                              NaN   \n",
       "4                                              NaN   \n",
       "\n",
       "   How many students age 18 in Grade 12 are MALES?  \\\n",
       "0                                              NaN   \n",
       "1                                              NaN   \n",
       "2                                              NaN   \n",
       "3                                              NaN   \n",
       "4                                              NaN   \n",
       "\n",
       "   How many students age 18 in Grade 10 are FEMALES?  \\\n",
       "0                                                NaN   \n",
       "1                                                NaN   \n",
       "2                                                NaN   \n",
       "3                                                NaN   \n",
       "4                                                NaN   \n",
       "\n",
       "   How many students age 18 in Grade 11 are FEMALES?  \\\n",
       "0                                                NaN   \n",
       "1                                                NaN   \n",
       "2                                                NaN   \n",
       "3                                                NaN   \n",
       "4                                                NaN   \n",
       "\n",
       "   How many students age 18 in Grade 12 are FEMALES?  \\\n",
       "0                                                NaN   \n",
       "1                                                NaN   \n",
       "2                                                NaN   \n",
       "3                                                NaN   \n",
       "4                                                NaN   \n",
       "\n",
       "   How many students age 19 in Grade 10 are MALES?  \\\n",
       "0                                              NaN   \n",
       "1                                              NaN   \n",
       "2                                              NaN   \n",
       "3                                              NaN   \n",
       "4                                              NaN   \n",
       "\n",
       "   How many students age 19 in Grade 11 are MALES?  \\\n",
       "0                                              NaN   \n",
       "1                                              NaN   \n",
       "2                                              NaN   \n",
       "3                                              NaN   \n",
       "4                                              NaN   \n",
       "\n",
       "   How many students age 19 in Grade 12 are MALES?  \\\n",
       "0                                              NaN   \n",
       "1                                              NaN   \n",
       "2                                              NaN   \n",
       "3                                              NaN   \n",
       "4                                              NaN   \n",
       "\n",
       "   How many students age 19 in Grade 10 are FEMALES?  \\\n",
       "0                                                NaN   \n",
       "1                                                NaN   \n",
       "2                                                NaN   \n",
       "3                                                NaN   \n",
       "4                                                NaN   \n",
       "\n",
       "   How many students age 19 in Grade 11 are FEMALES?  \\\n",
       "0                                                NaN   \n",
       "1                                                NaN   \n",
       "2                                                NaN   \n",
       "3                                                NaN   \n",
       "4                                                NaN   \n",
       "\n",
       "   How many students age 19 in Grade 12 are FEMALES?  \\\n",
       "0                                                NaN   \n",
       "1                                                NaN   \n",
       "2                                                NaN   \n",
       "3                                                NaN   \n",
       "4                                                NaN   \n",
       "\n",
       "   How many students age 20 in Grade 10 are MALES?  \\\n",
       "0                                              NaN   \n",
       "1                                              NaN   \n",
       "2                                              NaN   \n",
       "3                                              NaN   \n",
       "4                                              NaN   \n",
       "\n",
       "   How many students age 20 in Grade 11 are MALES?  \\\n",
       "0                                              NaN   \n",
       "1                                              NaN   \n",
       "2                                              NaN   \n",
       "3                                              NaN   \n",
       "4                                              NaN   \n",
       "\n",
       "   How many students age 20 in Grade 12 are MALES?  \\\n",
       "0                                              NaN   \n",
       "1                                              NaN   \n",
       "2                                              NaN   \n",
       "3                                              NaN   \n",
       "4                                              NaN   \n",
       "\n",
       "   How many students age 20 in Grade 10 are FEMALES?  \\\n",
       "0                                                NaN   \n",
       "1                                                NaN   \n",
       "2                                                NaN   \n",
       "3                                                NaN   \n",
       "4                                                NaN   \n",
       "\n",
       "   How many students age 20 in Grade 11 that are FEMALES?  \\\n",
       "0                                                NaN        \n",
       "1                                                NaN        \n",
       "2                                                NaN        \n",
       "3                                                NaN        \n",
       "4                                                NaN        \n",
       "\n",
       "   How many students age 20 in Grade 12 that are FEMALES?  \\\n",
       "0                                                NaN        \n",
       "1                                                NaN        \n",
       "2                                                NaN        \n",
       "3                                                NaN        \n",
       "4                                                NaN        \n",
       "\n",
       "   How many students above age 20 in Grade 10 that are MALES?  \\\n",
       "0                                                NaN            \n",
       "1                                                NaN            \n",
       "2                                                NaN            \n",
       "3                                                NaN            \n",
       "4                                                NaN            \n",
       "\n",
       "   How many students above age 20 in Grade 11 that are MALES?  \\\n",
       "0                                                NaN            \n",
       "1                                                NaN            \n",
       "2                                                NaN            \n",
       "3                                                NaN            \n",
       "4                                                NaN            \n",
       "\n",
       "   How many students above age 20 in Grade 12 that are MALES?  \\\n",
       "0                                                NaN            \n",
       "1                                                NaN            \n",
       "2                                                NaN            \n",
       "3                                                NaN            \n",
       "4                                                NaN            \n",
       "\n",
       "   How many students above age 20 in Grade 10 that are FEMALES?  \\\n",
       "0                                                NaN              \n",
       "1                                                NaN              \n",
       "2                                                NaN              \n",
       "3                                                NaN              \n",
       "4                                                NaN              \n",
       "\n",
       "   How many students above age 20 in Grade 11 that are FEMALES?  \\\n",
       "0                                                NaN              \n",
       "1                                                NaN              \n",
       "2                                                NaN              \n",
       "3                                                NaN              \n",
       "4                                                NaN              \n",
       "\n",
       "   How many students above age 20 in Grade 12 that are FEMALES?  \n",
       "0                                                NaN             \n",
       "1                                                NaN             \n",
       "2                                                NaN             \n",
       "3                                                NaN             \n",
       "4                                                NaN             "
      ]
     },
     "execution_count": 6,
     "metadata": {},
     "output_type": "execute_result"
    }
   ],
   "source": [
    "kece_student =kcensus.iloc[:,568:634]\n",
    "kece_student.head()"
   ]
  },
  {
   "cell_type": "code",
   "execution_count": 8,
   "id": "fc3e91d5-8f6b-4ae4-8dc0-521bf277b80c",
   "metadata": {},
   "outputs": [
    {
     "data": {
      "text/html": [
       "<div>\n",
       "<style scoped>\n",
       "    .dataframe tbody tr th:only-of-type {\n",
       "        vertical-align: middle;\n",
       "    }\n",
       "\n",
       "    .dataframe tbody tr th {\n",
       "        vertical-align: top;\n",
       "    }\n",
       "\n",
       "    .dataframe thead th {\n",
       "        text-align: right;\n",
       "    }\n",
       "</style>\n",
       "<table border=\"1\" class=\"dataframe\">\n",
       "  <thead>\n",
       "    <tr style=\"text-align: right;\">\n",
       "      <th></th>\n",
       "      <th>How many students below Age 12 years old in Grade 10 are MALES?</th>\n",
       "      <th>How many students below Age 12 years old in Grade 11 are MALES?</th>\n",
       "      <th>How many students below Age 12 years old in Grade 12 are MALES?</th>\n",
       "      <th>How many students below Age 12 years old in Grade 10 are FEMALES?</th>\n",
       "      <th>How many students below Age 12 years old in Grade 11 are FEMALES?</th>\n",
       "      <th>How many students below Age 12 years old in Grade 12 are FEMALES?</th>\n",
       "      <th>How many students Age 12 years old in Grade 10 are MALES?</th>\n",
       "      <th>How many students Age 12 years old in Grade 11 are MALES?</th>\n",
       "      <th>How many students Age 12 years old in Grade 12 are MALES?</th>\n",
       "      <th>How many students Age 12 years old in Grade 10 are FEMALES?</th>\n",
       "      <th>How many students Age 12 years old in Grade 11 are FEMALES?</th>\n",
       "      <th>How many students Age 12 years old in Grade 12 are FEMALES?</th>\n",
       "      <th>How many students  Age 13 years old in Grade 10 are MALES?</th>\n",
       "      <th>How many students  Age 13 years old in Grade 11 are MALES?</th>\n",
       "      <th>How many students  Age 13 years old in Grade 12 are MALES?</th>\n",
       "      <th>How many students  Age 13 years old in Grade 10 are FEMALES?</th>\n",
       "      <th>How many students  Age 13 years old in Grade 11 are FEMALES?</th>\n",
       "      <th>How many students  Age 13 years old in Grade 12 are FEMALES?</th>\n",
       "      <th>How many students  Age 14 years old in Grade 10 are MALES?</th>\n",
       "      <th>How many students  Age 14 years old in Grade 11 are MALES?</th>\n",
       "      <th>How many students  Age 14 years old in Grade 12 are MALES?</th>\n",
       "      <th>How many students  Age 14 years old in Grade 10 are FEMALES?</th>\n",
       "      <th>How many students  Age 14 years old in Grade 11 are FEMALES?</th>\n",
       "      <th>How many students  Age 14 years old in Grade 12 are FEMALES?</th>\n",
       "      <th>How many students  Age 15 years old in Grade 10 are MALES?</th>\n",
       "      <th>How many students  Age 15 years old in Grade 11 are MALES?</th>\n",
       "      <th>How many students  Age 15 years old in Grade 12 are MALES?</th>\n",
       "      <th>How many students  age 15 Years old  in Grade 10 are FEMALES?</th>\n",
       "      <th>How many students  age 15 Years old  in Grade 11 are FEMALES?</th>\n",
       "      <th>How many students  age 15 Years old  in Grade 12 are FEMALES?</th>\n",
       "      <th>How many students age 16 Years old  in Grade 10 are MALES?</th>\n",
       "      <th>How many students age 16 Years old  in Grade 11 are MALES?</th>\n",
       "      <th>How many students age 16 Years old  in Grade 12 are MALES?</th>\n",
       "      <th>How many students  above Age 16 in Grade 10 are FEMALES?</th>\n",
       "      <th>How many students  above Age 16 in Grade 11 are FEMALES?</th>\n",
       "      <th>How many students  above Age 16 in Grade 12 are FEMALES?</th>\n",
       "      <th>How many students age 17 in Grade 10 are MALES?</th>\n",
       "      <th>How many students age 17 in Grade 11 are MALES?</th>\n",
       "      <th>How many students age 17 in Grade 12 are MALES?</th>\n",
       "      <th>How many students age 17 in Grade 10 are FEMALES?</th>\n",
       "      <th>How many students age 17 in Grade 11 are FEMALES?</th>\n",
       "      <th>How many students age 17 in Grade 12 are FEMALES?</th>\n",
       "      <th>How many students age 18 in Grade 10 are MALES?</th>\n",
       "      <th>How many students age 18 in Grade 11 are MALES?</th>\n",
       "      <th>How many students age 18 in Grade 12 are MALES?</th>\n",
       "      <th>How many students age 18 in Grade 10 are FEMALES?</th>\n",
       "      <th>How many students age 18 in Grade 11 are FEMALES?</th>\n",
       "      <th>How many students age 18 in Grade 12 are FEMALES?</th>\n",
       "      <th>How many students age 19 in Grade 10 are MALES?</th>\n",
       "      <th>How many students age 19 in Grade 11 are MALES?</th>\n",
       "      <th>How many students age 19 in Grade 12 are MALES?</th>\n",
       "      <th>How many students age 19 in Grade 10 are FEMALES?</th>\n",
       "      <th>How many students age 19 in Grade 11 are FEMALES?</th>\n",
       "      <th>How many students age 19 in Grade 12 are FEMALES?</th>\n",
       "      <th>How many students age 20 in Grade 10 are MALES?</th>\n",
       "      <th>How many students age 20 in Grade 11 are MALES?</th>\n",
       "      <th>How many students age 20 in Grade 12 are MALES?</th>\n",
       "      <th>How many students age 20 in Grade 10 are FEMALES?</th>\n",
       "      <th>How many students age 20 in Grade 11 that are FEMALES?</th>\n",
       "      <th>How many students age 20 in Grade 12 that are FEMALES?</th>\n",
       "      <th>How many students above age 20 in Grade 10 that are MALES?</th>\n",
       "      <th>How many students above age 20 in Grade 11 that are MALES?</th>\n",
       "      <th>How many students above age 20 in Grade 12 that are MALES?</th>\n",
       "      <th>How many students above age 20 in Grade 10 that are FEMALES?</th>\n",
       "      <th>How many students above age 20 in Grade 11 that are FEMALES?</th>\n",
       "      <th>How many students above age 20 in Grade 12 that are FEMALES?</th>\n",
       "    </tr>\n",
       "  </thead>\n",
       "  <tbody>\n",
       "    <tr>\n",
       "      <th>0</th>\n",
       "      <td>NaN</td>\n",
       "      <td>NaN</td>\n",
       "      <td>NaN</td>\n",
       "      <td>NaN</td>\n",
       "      <td>NaN</td>\n",
       "      <td>NaN</td>\n",
       "      <td>NaN</td>\n",
       "      <td>NaN</td>\n",
       "      <td>NaN</td>\n",
       "      <td>NaN</td>\n",
       "      <td>NaN</td>\n",
       "      <td>NaN</td>\n",
       "      <td>NaN</td>\n",
       "      <td>NaN</td>\n",
       "      <td>NaN</td>\n",
       "      <td>NaN</td>\n",
       "      <td>NaN</td>\n",
       "      <td>NaN</td>\n",
       "      <td>NaN</td>\n",
       "      <td>NaN</td>\n",
       "      <td>NaN</td>\n",
       "      <td>NaN</td>\n",
       "      <td>NaN</td>\n",
       "      <td>NaN</td>\n",
       "      <td>NaN</td>\n",
       "      <td>NaN</td>\n",
       "      <td>NaN</td>\n",
       "      <td>NaN</td>\n",
       "      <td>NaN</td>\n",
       "      <td>NaN</td>\n",
       "      <td>NaN</td>\n",
       "      <td>NaN</td>\n",
       "      <td>NaN</td>\n",
       "      <td>NaN</td>\n",
       "      <td>NaN</td>\n",
       "      <td>NaN</td>\n",
       "      <td>NaN</td>\n",
       "      <td>NaN</td>\n",
       "      <td>NaN</td>\n",
       "      <td>NaN</td>\n",
       "      <td>NaN</td>\n",
       "      <td>NaN</td>\n",
       "      <td>NaN</td>\n",
       "      <td>NaN</td>\n",
       "      <td>NaN</td>\n",
       "      <td>NaN</td>\n",
       "      <td>NaN</td>\n",
       "      <td>NaN</td>\n",
       "      <td>NaN</td>\n",
       "      <td>NaN</td>\n",
       "      <td>NaN</td>\n",
       "      <td>NaN</td>\n",
       "      <td>NaN</td>\n",
       "      <td>NaN</td>\n",
       "      <td>NaN</td>\n",
       "      <td>NaN</td>\n",
       "      <td>NaN</td>\n",
       "      <td>NaN</td>\n",
       "      <td>NaN</td>\n",
       "      <td>NaN</td>\n",
       "      <td>NaN</td>\n",
       "      <td>NaN</td>\n",
       "      <td>NaN</td>\n",
       "      <td>NaN</td>\n",
       "      <td>NaN</td>\n",
       "      <td>NaN</td>\n",
       "    </tr>\n",
       "    <tr>\n",
       "      <th>1</th>\n",
       "      <td>NaN</td>\n",
       "      <td>NaN</td>\n",
       "      <td>NaN</td>\n",
       "      <td>NaN</td>\n",
       "      <td>NaN</td>\n",
       "      <td>NaN</td>\n",
       "      <td>NaN</td>\n",
       "      <td>NaN</td>\n",
       "      <td>NaN</td>\n",
       "      <td>NaN</td>\n",
       "      <td>NaN</td>\n",
       "      <td>NaN</td>\n",
       "      <td>NaN</td>\n",
       "      <td>NaN</td>\n",
       "      <td>NaN</td>\n",
       "      <td>NaN</td>\n",
       "      <td>NaN</td>\n",
       "      <td>NaN</td>\n",
       "      <td>NaN</td>\n",
       "      <td>NaN</td>\n",
       "      <td>NaN</td>\n",
       "      <td>NaN</td>\n",
       "      <td>NaN</td>\n",
       "      <td>NaN</td>\n",
       "      <td>NaN</td>\n",
       "      <td>NaN</td>\n",
       "      <td>NaN</td>\n",
       "      <td>NaN</td>\n",
       "      <td>NaN</td>\n",
       "      <td>NaN</td>\n",
       "      <td>NaN</td>\n",
       "      <td>NaN</td>\n",
       "      <td>NaN</td>\n",
       "      <td>NaN</td>\n",
       "      <td>NaN</td>\n",
       "      <td>NaN</td>\n",
       "      <td>NaN</td>\n",
       "      <td>NaN</td>\n",
       "      <td>NaN</td>\n",
       "      <td>NaN</td>\n",
       "      <td>NaN</td>\n",
       "      <td>NaN</td>\n",
       "      <td>NaN</td>\n",
       "      <td>NaN</td>\n",
       "      <td>NaN</td>\n",
       "      <td>NaN</td>\n",
       "      <td>NaN</td>\n",
       "      <td>NaN</td>\n",
       "      <td>NaN</td>\n",
       "      <td>NaN</td>\n",
       "      <td>NaN</td>\n",
       "      <td>NaN</td>\n",
       "      <td>NaN</td>\n",
       "      <td>NaN</td>\n",
       "      <td>NaN</td>\n",
       "      <td>NaN</td>\n",
       "      <td>NaN</td>\n",
       "      <td>NaN</td>\n",
       "      <td>NaN</td>\n",
       "      <td>NaN</td>\n",
       "      <td>NaN</td>\n",
       "      <td>NaN</td>\n",
       "      <td>NaN</td>\n",
       "      <td>NaN</td>\n",
       "      <td>NaN</td>\n",
       "      <td>NaN</td>\n",
       "    </tr>\n",
       "    <tr>\n",
       "      <th>2</th>\n",
       "      <td>NaN</td>\n",
       "      <td>NaN</td>\n",
       "      <td>NaN</td>\n",
       "      <td>NaN</td>\n",
       "      <td>NaN</td>\n",
       "      <td>NaN</td>\n",
       "      <td>NaN</td>\n",
       "      <td>NaN</td>\n",
       "      <td>NaN</td>\n",
       "      <td>NaN</td>\n",
       "      <td>NaN</td>\n",
       "      <td>NaN</td>\n",
       "      <td>NaN</td>\n",
       "      <td>NaN</td>\n",
       "      <td>NaN</td>\n",
       "      <td>NaN</td>\n",
       "      <td>NaN</td>\n",
       "      <td>NaN</td>\n",
       "      <td>NaN</td>\n",
       "      <td>NaN</td>\n",
       "      <td>NaN</td>\n",
       "      <td>NaN</td>\n",
       "      <td>NaN</td>\n",
       "      <td>NaN</td>\n",
       "      <td>NaN</td>\n",
       "      <td>NaN</td>\n",
       "      <td>NaN</td>\n",
       "      <td>NaN</td>\n",
       "      <td>NaN</td>\n",
       "      <td>NaN</td>\n",
       "      <td>NaN</td>\n",
       "      <td>NaN</td>\n",
       "      <td>NaN</td>\n",
       "      <td>NaN</td>\n",
       "      <td>NaN</td>\n",
       "      <td>NaN</td>\n",
       "      <td>NaN</td>\n",
       "      <td>NaN</td>\n",
       "      <td>NaN</td>\n",
       "      <td>NaN</td>\n",
       "      <td>NaN</td>\n",
       "      <td>NaN</td>\n",
       "      <td>NaN</td>\n",
       "      <td>NaN</td>\n",
       "      <td>NaN</td>\n",
       "      <td>NaN</td>\n",
       "      <td>NaN</td>\n",
       "      <td>NaN</td>\n",
       "      <td>NaN</td>\n",
       "      <td>NaN</td>\n",
       "      <td>NaN</td>\n",
       "      <td>NaN</td>\n",
       "      <td>NaN</td>\n",
       "      <td>NaN</td>\n",
       "      <td>NaN</td>\n",
       "      <td>NaN</td>\n",
       "      <td>NaN</td>\n",
       "      <td>NaN</td>\n",
       "      <td>NaN</td>\n",
       "      <td>NaN</td>\n",
       "      <td>NaN</td>\n",
       "      <td>NaN</td>\n",
       "      <td>NaN</td>\n",
       "      <td>NaN</td>\n",
       "      <td>NaN</td>\n",
       "      <td>NaN</td>\n",
       "    </tr>\n",
       "    <tr>\n",
       "      <th>3</th>\n",
       "      <td>NaN</td>\n",
       "      <td>NaN</td>\n",
       "      <td>NaN</td>\n",
       "      <td>NaN</td>\n",
       "      <td>NaN</td>\n",
       "      <td>NaN</td>\n",
       "      <td>NaN</td>\n",
       "      <td>NaN</td>\n",
       "      <td>NaN</td>\n",
       "      <td>NaN</td>\n",
       "      <td>NaN</td>\n",
       "      <td>NaN</td>\n",
       "      <td>NaN</td>\n",
       "      <td>NaN</td>\n",
       "      <td>NaN</td>\n",
       "      <td>NaN</td>\n",
       "      <td>NaN</td>\n",
       "      <td>NaN</td>\n",
       "      <td>NaN</td>\n",
       "      <td>NaN</td>\n",
       "      <td>NaN</td>\n",
       "      <td>NaN</td>\n",
       "      <td>NaN</td>\n",
       "      <td>NaN</td>\n",
       "      <td>NaN</td>\n",
       "      <td>NaN</td>\n",
       "      <td>NaN</td>\n",
       "      <td>NaN</td>\n",
       "      <td>NaN</td>\n",
       "      <td>NaN</td>\n",
       "      <td>NaN</td>\n",
       "      <td>NaN</td>\n",
       "      <td>NaN</td>\n",
       "      <td>NaN</td>\n",
       "      <td>NaN</td>\n",
       "      <td>NaN</td>\n",
       "      <td>NaN</td>\n",
       "      <td>NaN</td>\n",
       "      <td>NaN</td>\n",
       "      <td>NaN</td>\n",
       "      <td>NaN</td>\n",
       "      <td>NaN</td>\n",
       "      <td>NaN</td>\n",
       "      <td>NaN</td>\n",
       "      <td>NaN</td>\n",
       "      <td>NaN</td>\n",
       "      <td>NaN</td>\n",
       "      <td>NaN</td>\n",
       "      <td>NaN</td>\n",
       "      <td>NaN</td>\n",
       "      <td>NaN</td>\n",
       "      <td>NaN</td>\n",
       "      <td>NaN</td>\n",
       "      <td>NaN</td>\n",
       "      <td>NaN</td>\n",
       "      <td>NaN</td>\n",
       "      <td>NaN</td>\n",
       "      <td>NaN</td>\n",
       "      <td>NaN</td>\n",
       "      <td>NaN</td>\n",
       "      <td>NaN</td>\n",
       "      <td>NaN</td>\n",
       "      <td>NaN</td>\n",
       "      <td>NaN</td>\n",
       "      <td>NaN</td>\n",
       "      <td>NaN</td>\n",
       "    </tr>\n",
       "    <tr>\n",
       "      <th>4</th>\n",
       "      <td>NaN</td>\n",
       "      <td>NaN</td>\n",
       "      <td>NaN</td>\n",
       "      <td>NaN</td>\n",
       "      <td>NaN</td>\n",
       "      <td>NaN</td>\n",
       "      <td>NaN</td>\n",
       "      <td>NaN</td>\n",
       "      <td>NaN</td>\n",
       "      <td>NaN</td>\n",
       "      <td>NaN</td>\n",
       "      <td>NaN</td>\n",
       "      <td>NaN</td>\n",
       "      <td>NaN</td>\n",
       "      <td>NaN</td>\n",
       "      <td>NaN</td>\n",
       "      <td>NaN</td>\n",
       "      <td>NaN</td>\n",
       "      <td>NaN</td>\n",
       "      <td>NaN</td>\n",
       "      <td>NaN</td>\n",
       "      <td>NaN</td>\n",
       "      <td>NaN</td>\n",
       "      <td>NaN</td>\n",
       "      <td>NaN</td>\n",
       "      <td>NaN</td>\n",
       "      <td>NaN</td>\n",
       "      <td>NaN</td>\n",
       "      <td>NaN</td>\n",
       "      <td>NaN</td>\n",
       "      <td>NaN</td>\n",
       "      <td>NaN</td>\n",
       "      <td>NaN</td>\n",
       "      <td>NaN</td>\n",
       "      <td>NaN</td>\n",
       "      <td>NaN</td>\n",
       "      <td>NaN</td>\n",
       "      <td>NaN</td>\n",
       "      <td>NaN</td>\n",
       "      <td>NaN</td>\n",
       "      <td>NaN</td>\n",
       "      <td>NaN</td>\n",
       "      <td>NaN</td>\n",
       "      <td>NaN</td>\n",
       "      <td>NaN</td>\n",
       "      <td>NaN</td>\n",
       "      <td>NaN</td>\n",
       "      <td>NaN</td>\n",
       "      <td>NaN</td>\n",
       "      <td>NaN</td>\n",
       "      <td>NaN</td>\n",
       "      <td>NaN</td>\n",
       "      <td>NaN</td>\n",
       "      <td>NaN</td>\n",
       "      <td>NaN</td>\n",
       "      <td>NaN</td>\n",
       "      <td>NaN</td>\n",
       "      <td>NaN</td>\n",
       "      <td>NaN</td>\n",
       "      <td>NaN</td>\n",
       "      <td>NaN</td>\n",
       "      <td>NaN</td>\n",
       "      <td>NaN</td>\n",
       "      <td>NaN</td>\n",
       "      <td>NaN</td>\n",
       "      <td>NaN</td>\n",
       "    </tr>\n",
       "  </tbody>\n",
       "</table>\n",
       "</div>"
      ],
      "text/plain": [
       "   How many students below Age 12 years old in Grade 10 are MALES?  \\\n",
       "0                                                NaN                 \n",
       "1                                                NaN                 \n",
       "2                                                NaN                 \n",
       "3                                                NaN                 \n",
       "4                                                NaN                 \n",
       "\n",
       "   How many students below Age 12 years old in Grade 11 are MALES?  \\\n",
       "0                                                NaN                 \n",
       "1                                                NaN                 \n",
       "2                                                NaN                 \n",
       "3                                                NaN                 \n",
       "4                                                NaN                 \n",
       "\n",
       "   How many students below Age 12 years old in Grade 12 are MALES?  \\\n",
       "0                                                NaN                 \n",
       "1                                                NaN                 \n",
       "2                                                NaN                 \n",
       "3                                                NaN                 \n",
       "4                                                NaN                 \n",
       "\n",
       "   How many students below Age 12 years old in Grade 10 are FEMALES?  \\\n",
       "0                                                NaN                   \n",
       "1                                                NaN                   \n",
       "2                                                NaN                   \n",
       "3                                                NaN                   \n",
       "4                                                NaN                   \n",
       "\n",
       "   How many students below Age 12 years old in Grade 11 are FEMALES?  \\\n",
       "0                                                NaN                   \n",
       "1                                                NaN                   \n",
       "2                                                NaN                   \n",
       "3                                                NaN                   \n",
       "4                                                NaN                   \n",
       "\n",
       "   How many students below Age 12 years old in Grade 12 are FEMALES?  \\\n",
       "0                                                NaN                   \n",
       "1                                                NaN                   \n",
       "2                                                NaN                   \n",
       "3                                                NaN                   \n",
       "4                                                NaN                   \n",
       "\n",
       "   How many students Age 12 years old in Grade 10 are MALES?  \\\n",
       "0                                                NaN           \n",
       "1                                                NaN           \n",
       "2                                                NaN           \n",
       "3                                                NaN           \n",
       "4                                                NaN           \n",
       "\n",
       "   How many students Age 12 years old in Grade 11 are MALES?  \\\n",
       "0                                                NaN           \n",
       "1                                                NaN           \n",
       "2                                                NaN           \n",
       "3                                                NaN           \n",
       "4                                                NaN           \n",
       "\n",
       "   How many students Age 12 years old in Grade 12 are MALES?  \\\n",
       "0                                                NaN           \n",
       "1                                                NaN           \n",
       "2                                                NaN           \n",
       "3                                                NaN           \n",
       "4                                                NaN           \n",
       "\n",
       "   How many students Age 12 years old in Grade 10 are FEMALES?  \\\n",
       "0                                                NaN             \n",
       "1                                                NaN             \n",
       "2                                                NaN             \n",
       "3                                                NaN             \n",
       "4                                                NaN             \n",
       "\n",
       "   How many students Age 12 years old in Grade 11 are FEMALES?  \\\n",
       "0                                                NaN             \n",
       "1                                                NaN             \n",
       "2                                                NaN             \n",
       "3                                                NaN             \n",
       "4                                                NaN             \n",
       "\n",
       "   How many students Age 12 years old in Grade 12 are FEMALES?  \\\n",
       "0                                                NaN             \n",
       "1                                                NaN             \n",
       "2                                                NaN             \n",
       "3                                                NaN             \n",
       "4                                                NaN             \n",
       "\n",
       "   How many students  Age 13 years old in Grade 10 are MALES?  \\\n",
       "0                                                NaN            \n",
       "1                                                NaN            \n",
       "2                                                NaN            \n",
       "3                                                NaN            \n",
       "4                                                NaN            \n",
       "\n",
       "   How many students  Age 13 years old in Grade 11 are MALES?  \\\n",
       "0                                                NaN            \n",
       "1                                                NaN            \n",
       "2                                                NaN            \n",
       "3                                                NaN            \n",
       "4                                                NaN            \n",
       "\n",
       "   How many students  Age 13 years old in Grade 12 are MALES?  \\\n",
       "0                                                NaN            \n",
       "1                                                NaN            \n",
       "2                                                NaN            \n",
       "3                                                NaN            \n",
       "4                                                NaN            \n",
       "\n",
       "   How many students  Age 13 years old in Grade 10 are FEMALES?  \\\n",
       "0                                                NaN              \n",
       "1                                                NaN              \n",
       "2                                                NaN              \n",
       "3                                                NaN              \n",
       "4                                                NaN              \n",
       "\n",
       "   How many students  Age 13 years old in Grade 11 are FEMALES?  \\\n",
       "0                                                NaN              \n",
       "1                                                NaN              \n",
       "2                                                NaN              \n",
       "3                                                NaN              \n",
       "4                                                NaN              \n",
       "\n",
       "   How many students  Age 13 years old in Grade 12 are FEMALES?  \\\n",
       "0                                                NaN              \n",
       "1                                                NaN              \n",
       "2                                                NaN              \n",
       "3                                                NaN              \n",
       "4                                                NaN              \n",
       "\n",
       "   How many students  Age 14 years old in Grade 10 are MALES?  \\\n",
       "0                                                NaN            \n",
       "1                                                NaN            \n",
       "2                                                NaN            \n",
       "3                                                NaN            \n",
       "4                                                NaN            \n",
       "\n",
       "   How many students  Age 14 years old in Grade 11 are MALES?  \\\n",
       "0                                                NaN            \n",
       "1                                                NaN            \n",
       "2                                                NaN            \n",
       "3                                                NaN            \n",
       "4                                                NaN            \n",
       "\n",
       "   How many students  Age 14 years old in Grade 12 are MALES?  \\\n",
       "0                                                NaN            \n",
       "1                                                NaN            \n",
       "2                                                NaN            \n",
       "3                                                NaN            \n",
       "4                                                NaN            \n",
       "\n",
       "   How many students  Age 14 years old in Grade 10 are FEMALES?  \\\n",
       "0                                                NaN              \n",
       "1                                                NaN              \n",
       "2                                                NaN              \n",
       "3                                                NaN              \n",
       "4                                                NaN              \n",
       "\n",
       "   How many students  Age 14 years old in Grade 11 are FEMALES?  \\\n",
       "0                                                NaN              \n",
       "1                                                NaN              \n",
       "2                                                NaN              \n",
       "3                                                NaN              \n",
       "4                                                NaN              \n",
       "\n",
       "   How many students  Age 14 years old in Grade 12 are FEMALES?  \\\n",
       "0                                                NaN              \n",
       "1                                                NaN              \n",
       "2                                                NaN              \n",
       "3                                                NaN              \n",
       "4                                                NaN              \n",
       "\n",
       "   How many students  Age 15 years old in Grade 10 are MALES?  \\\n",
       "0                                                NaN            \n",
       "1                                                NaN            \n",
       "2                                                NaN            \n",
       "3                                                NaN            \n",
       "4                                                NaN            \n",
       "\n",
       "   How many students  Age 15 years old in Grade 11 are MALES?  \\\n",
       "0                                                NaN            \n",
       "1                                                NaN            \n",
       "2                                                NaN            \n",
       "3                                                NaN            \n",
       "4                                                NaN            \n",
       "\n",
       "   How many students  Age 15 years old in Grade 12 are MALES?  \\\n",
       "0                                                NaN            \n",
       "1                                                NaN            \n",
       "2                                                NaN            \n",
       "3                                                NaN            \n",
       "4                                                NaN            \n",
       "\n",
       "   How many students  age 15 Years old  in Grade 10 are FEMALES?  \\\n",
       "0                                                NaN               \n",
       "1                                                NaN               \n",
       "2                                                NaN               \n",
       "3                                                NaN               \n",
       "4                                                NaN               \n",
       "\n",
       "   How many students  age 15 Years old  in Grade 11 are FEMALES?  \\\n",
       "0                                                NaN               \n",
       "1                                                NaN               \n",
       "2                                                NaN               \n",
       "3                                                NaN               \n",
       "4                                                NaN               \n",
       "\n",
       "   How many students  age 15 Years old  in Grade 12 are FEMALES?  \\\n",
       "0                                                NaN               \n",
       "1                                                NaN               \n",
       "2                                                NaN               \n",
       "3                                                NaN               \n",
       "4                                                NaN               \n",
       "\n",
       "   How many students age 16 Years old  in Grade 10 are MALES?  \\\n",
       "0                                                NaN            \n",
       "1                                                NaN            \n",
       "2                                                NaN            \n",
       "3                                                NaN            \n",
       "4                                                NaN            \n",
       "\n",
       "   How many students age 16 Years old  in Grade 11 are MALES?  \\\n",
       "0                                                NaN            \n",
       "1                                                NaN            \n",
       "2                                                NaN            \n",
       "3                                                NaN            \n",
       "4                                                NaN            \n",
       "\n",
       "   How many students age 16 Years old  in Grade 12 are MALES?  \\\n",
       "0                                                NaN            \n",
       "1                                                NaN            \n",
       "2                                                NaN            \n",
       "3                                                NaN            \n",
       "4                                                NaN            \n",
       "\n",
       "   How many students  above Age 16 in Grade 10 are FEMALES?  \\\n",
       "0                                                NaN          \n",
       "1                                                NaN          \n",
       "2                                                NaN          \n",
       "3                                                NaN          \n",
       "4                                                NaN          \n",
       "\n",
       "   How many students  above Age 16 in Grade 11 are FEMALES?  \\\n",
       "0                                                NaN          \n",
       "1                                                NaN          \n",
       "2                                                NaN          \n",
       "3                                                NaN          \n",
       "4                                                NaN          \n",
       "\n",
       "   How many students  above Age 16 in Grade 12 are FEMALES?  \\\n",
       "0                                                NaN          \n",
       "1                                                NaN          \n",
       "2                                                NaN          \n",
       "3                                                NaN          \n",
       "4                                                NaN          \n",
       "\n",
       "   How many students age 17 in Grade 10 are MALES?  \\\n",
       "0                                              NaN   \n",
       "1                                              NaN   \n",
       "2                                              NaN   \n",
       "3                                              NaN   \n",
       "4                                              NaN   \n",
       "\n",
       "   How many students age 17 in Grade 11 are MALES?  \\\n",
       "0                                              NaN   \n",
       "1                                              NaN   \n",
       "2                                              NaN   \n",
       "3                                              NaN   \n",
       "4                                              NaN   \n",
       "\n",
       "   How many students age 17 in Grade 12 are MALES?  \\\n",
       "0                                              NaN   \n",
       "1                                              NaN   \n",
       "2                                              NaN   \n",
       "3                                              NaN   \n",
       "4                                              NaN   \n",
       "\n",
       "   How many students age 17 in Grade 10 are FEMALES?  \\\n",
       "0                                                NaN   \n",
       "1                                                NaN   \n",
       "2                                                NaN   \n",
       "3                                                NaN   \n",
       "4                                                NaN   \n",
       "\n",
       "   How many students age 17 in Grade 11 are FEMALES?  \\\n",
       "0                                                NaN   \n",
       "1                                                NaN   \n",
       "2                                                NaN   \n",
       "3                                                NaN   \n",
       "4                                                NaN   \n",
       "\n",
       "   How many students age 17 in Grade 12 are FEMALES?  \\\n",
       "0                                                NaN   \n",
       "1                                                NaN   \n",
       "2                                                NaN   \n",
       "3                                                NaN   \n",
       "4                                                NaN   \n",
       "\n",
       "   How many students age 18 in Grade 10 are MALES?  \\\n",
       "0                                              NaN   \n",
       "1                                              NaN   \n",
       "2                                              NaN   \n",
       "3                                              NaN   \n",
       "4                                              NaN   \n",
       "\n",
       "   How many students age 18 in Grade 11 are MALES?  \\\n",
       "0                                              NaN   \n",
       "1                                              NaN   \n",
       "2                                              NaN   \n",
       "3                                              NaN   \n",
       "4                                              NaN   \n",
       "\n",
       "   How many students age 18 in Grade 12 are MALES?  \\\n",
       "0                                              NaN   \n",
       "1                                              NaN   \n",
       "2                                              NaN   \n",
       "3                                              NaN   \n",
       "4                                              NaN   \n",
       "\n",
       "   How many students age 18 in Grade 10 are FEMALES?  \\\n",
       "0                                                NaN   \n",
       "1                                                NaN   \n",
       "2                                                NaN   \n",
       "3                                                NaN   \n",
       "4                                                NaN   \n",
       "\n",
       "   How many students age 18 in Grade 11 are FEMALES?  \\\n",
       "0                                                NaN   \n",
       "1                                                NaN   \n",
       "2                                                NaN   \n",
       "3                                                NaN   \n",
       "4                                                NaN   \n",
       "\n",
       "   How many students age 18 in Grade 12 are FEMALES?  \\\n",
       "0                                                NaN   \n",
       "1                                                NaN   \n",
       "2                                                NaN   \n",
       "3                                                NaN   \n",
       "4                                                NaN   \n",
       "\n",
       "   How many students age 19 in Grade 10 are MALES?  \\\n",
       "0                                              NaN   \n",
       "1                                              NaN   \n",
       "2                                              NaN   \n",
       "3                                              NaN   \n",
       "4                                              NaN   \n",
       "\n",
       "   How many students age 19 in Grade 11 are MALES?  \\\n",
       "0                                              NaN   \n",
       "1                                              NaN   \n",
       "2                                              NaN   \n",
       "3                                              NaN   \n",
       "4                                              NaN   \n",
       "\n",
       "   How many students age 19 in Grade 12 are MALES?  \\\n",
       "0                                              NaN   \n",
       "1                                              NaN   \n",
       "2                                              NaN   \n",
       "3                                              NaN   \n",
       "4                                              NaN   \n",
       "\n",
       "   How many students age 19 in Grade 10 are FEMALES?  \\\n",
       "0                                                NaN   \n",
       "1                                                NaN   \n",
       "2                                                NaN   \n",
       "3                                                NaN   \n",
       "4                                                NaN   \n",
       "\n",
       "   How many students age 19 in Grade 11 are FEMALES?  \\\n",
       "0                                                NaN   \n",
       "1                                                NaN   \n",
       "2                                                NaN   \n",
       "3                                                NaN   \n",
       "4                                                NaN   \n",
       "\n",
       "   How many students age 19 in Grade 12 are FEMALES?  \\\n",
       "0                                                NaN   \n",
       "1                                                NaN   \n",
       "2                                                NaN   \n",
       "3                                                NaN   \n",
       "4                                                NaN   \n",
       "\n",
       "   How many students age 20 in Grade 10 are MALES?  \\\n",
       "0                                              NaN   \n",
       "1                                              NaN   \n",
       "2                                              NaN   \n",
       "3                                              NaN   \n",
       "4                                              NaN   \n",
       "\n",
       "   How many students age 20 in Grade 11 are MALES?  \\\n",
       "0                                              NaN   \n",
       "1                                              NaN   \n",
       "2                                              NaN   \n",
       "3                                              NaN   \n",
       "4                                              NaN   \n",
       "\n",
       "   How many students age 20 in Grade 12 are MALES?  \\\n",
       "0                                              NaN   \n",
       "1                                              NaN   \n",
       "2                                              NaN   \n",
       "3                                              NaN   \n",
       "4                                              NaN   \n",
       "\n",
       "   How many students age 20 in Grade 10 are FEMALES?  \\\n",
       "0                                                NaN   \n",
       "1                                                NaN   \n",
       "2                                                NaN   \n",
       "3                                                NaN   \n",
       "4                                                NaN   \n",
       "\n",
       "   How many students age 20 in Grade 11 that are FEMALES?  \\\n",
       "0                                                NaN        \n",
       "1                                                NaN        \n",
       "2                                                NaN        \n",
       "3                                                NaN        \n",
       "4                                                NaN        \n",
       "\n",
       "   How many students age 20 in Grade 12 that are FEMALES?  \\\n",
       "0                                                NaN        \n",
       "1                                                NaN        \n",
       "2                                                NaN        \n",
       "3                                                NaN        \n",
       "4                                                NaN        \n",
       "\n",
       "   How many students above age 20 in Grade 10 that are MALES?  \\\n",
       "0                                                NaN            \n",
       "1                                                NaN            \n",
       "2                                                NaN            \n",
       "3                                                NaN            \n",
       "4                                                NaN            \n",
       "\n",
       "   How many students above age 20 in Grade 11 that are MALES?  \\\n",
       "0                                                NaN            \n",
       "1                                                NaN            \n",
       "2                                                NaN            \n",
       "3                                                NaN            \n",
       "4                                                NaN            \n",
       "\n",
       "   How many students above age 20 in Grade 12 that are MALES?  \\\n",
       "0                                                NaN            \n",
       "1                                                NaN            \n",
       "2                                                NaN            \n",
       "3                                                NaN            \n",
       "4                                                NaN            \n",
       "\n",
       "   How many students above age 20 in Grade 10 that are FEMALES?  \\\n",
       "0                                                NaN              \n",
       "1                                                NaN              \n",
       "2                                                NaN              \n",
       "3                                                NaN              \n",
       "4                                                NaN              \n",
       "\n",
       "   How many students above age 20 in Grade 11 that are FEMALES?  \\\n",
       "0                                                NaN              \n",
       "1                                                NaN              \n",
       "2                                                NaN              \n",
       "3                                                NaN              \n",
       "4                                                NaN              \n",
       "\n",
       "   How many students above age 20 in Grade 12 that are FEMALES?  \n",
       "0                                                NaN             \n",
       "1                                                NaN             \n",
       "2                                                NaN             \n",
       "3                                                NaN             \n",
       "4                                                NaN             "
      ]
     },
     "execution_count": 8,
     "metadata": {},
     "output_type": "execute_result"
    }
   ],
   "source": [
    "kece_age = kcensus.iloc[:,568:634]\n",
    "kece_age.head()\n"
   ]
  },
  {
   "cell_type": "code",
   "execution_count": 244,
   "id": "7785f36e-b5bf-4e01-a967-d4243845ee8f",
   "metadata": {},
   "outputs": [],
   "source": [
    "#kece_student_dic = pd.Series(kece_student.columns)\n",
    "#kece_student_dic.to_csv('kece_student_dic.csv', index = False)"
   ]
  },
  {
   "cell_type": "code",
   "execution_count": null,
   "id": "38635bdf-9ff4-4f86-b598-46695f5cbc47",
   "metadata": {},
   "outputs": [],
   "source": []
  },
  {
   "cell_type": "markdown",
   "id": "46740754-f674-4c8d-ad73-2229ce4b8c2b",
   "metadata": {},
   "source": [
    "# Table 1: SHS Enrollment by Ownership and Gender"
   ]
  },
  {
   "cell_type": "code",
   "execution_count": 9,
   "id": "11acd7fa-4790-4750-b1e3-451e090a6a04",
   "metadata": {},
   "outputs": [
    {
     "data": {
      "text/html": [
       "<div>\n",
       "<style scoped>\n",
       "    .dataframe tbody tr th:only-of-type {\n",
       "        vertical-align: middle;\n",
       "    }\n",
       "\n",
       "    .dataframe tbody tr th {\n",
       "        vertical-align: top;\n",
       "    }\n",
       "\n",
       "    .dataframe thead th {\n",
       "        text-align: right;\n",
       "    }\n",
       "</style>\n",
       "<table border=\"1\" class=\"dataframe\">\n",
       "  <thead>\n",
       "    <tr style=\"text-align: right;\">\n",
       "      <th></th>\n",
       "      <th>How many students below Age 12 years old in Grade 10 are MALES?</th>\n",
       "      <th>How many students below Age 12 years old in Grade 11 are MALES?</th>\n",
       "      <th>How many students below Age 12 years old in Grade 12 are MALES?</th>\n",
       "      <th>How many students below Age 12 years old in Grade 10 are FEMALES?</th>\n",
       "      <th>How many students below Age 12 years old in Grade 11 are FEMALES?</th>\n",
       "      <th>How many students below Age 12 years old in Grade 12 are FEMALES?</th>\n",
       "      <th>How many students Age 12 years old in Grade 10 are MALES?</th>\n",
       "      <th>How many students Age 12 years old in Grade 11 are MALES?</th>\n",
       "      <th>How many students Age 12 years old in Grade 12 are MALES?</th>\n",
       "      <th>How many students Age 12 years old in Grade 10 are FEMALES?</th>\n",
       "      <th>How many students Age 12 years old in Grade 11 are FEMALES?</th>\n",
       "      <th>How many students Age 12 years old in Grade 12 are FEMALES?</th>\n",
       "      <th>How many students  Age 13 years old in Grade 10 are MALES?</th>\n",
       "      <th>How many students  Age 13 years old in Grade 11 are MALES?</th>\n",
       "      <th>How many students  Age 13 years old in Grade 12 are MALES?</th>\n",
       "      <th>How many students  Age 13 years old in Grade 10 are FEMALES?</th>\n",
       "      <th>How many students  Age 13 years old in Grade 11 are FEMALES?</th>\n",
       "      <th>How many students  Age 13 years old in Grade 12 are FEMALES?</th>\n",
       "      <th>How many students  Age 14 years old in Grade 10 are MALES?</th>\n",
       "      <th>How many students  Age 14 years old in Grade 11 are MALES?</th>\n",
       "      <th>How many students  Age 14 years old in Grade 12 are MALES?</th>\n",
       "      <th>How many students  Age 14 years old in Grade 10 are FEMALES?</th>\n",
       "      <th>How many students  Age 14 years old in Grade 11 are FEMALES?</th>\n",
       "      <th>How many students  Age 14 years old in Grade 12 are FEMALES?</th>\n",
       "      <th>How many students  Age 15 years old in Grade 10 are MALES?</th>\n",
       "      <th>How many students  Age 15 years old in Grade 11 are MALES?</th>\n",
       "      <th>How many students  Age 15 years old in Grade 12 are MALES?</th>\n",
       "      <th>How many students  age 15 Years old  in Grade 10 are FEMALES?</th>\n",
       "      <th>How many students  age 15 Years old  in Grade 11 are FEMALES?</th>\n",
       "      <th>How many students  age 15 Years old  in Grade 12 are FEMALES?</th>\n",
       "      <th>How many students age 16 Years old  in Grade 10 are MALES?</th>\n",
       "      <th>How many students age 16 Years old  in Grade 11 are MALES?</th>\n",
       "      <th>How many students age 16 Years old  in Grade 12 are MALES?</th>\n",
       "      <th>How many students  above Age 16 in Grade 10 are FEMALES?</th>\n",
       "      <th>How many students  above Age 16 in Grade 11 are FEMALES?</th>\n",
       "      <th>How many students  above Age 16 in Grade 12 are FEMALES?</th>\n",
       "      <th>How many students age 17 in Grade 10 are MALES?</th>\n",
       "      <th>How many students age 17 in Grade 11 are MALES?</th>\n",
       "      <th>How many students age 17 in Grade 12 are MALES?</th>\n",
       "      <th>How many students age 17 in Grade 10 are FEMALES?</th>\n",
       "      <th>How many students age 17 in Grade 11 are FEMALES?</th>\n",
       "      <th>How many students age 17 in Grade 12 are FEMALES?</th>\n",
       "      <th>How many students age 18 in Grade 10 are MALES?</th>\n",
       "      <th>How many students age 18 in Grade 11 are MALES?</th>\n",
       "      <th>How many students age 18 in Grade 12 are MALES?</th>\n",
       "      <th>How many students age 18 in Grade 10 are FEMALES?</th>\n",
       "      <th>How many students age 18 in Grade 11 are FEMALES?</th>\n",
       "      <th>How many students age 18 in Grade 12 are FEMALES?</th>\n",
       "      <th>How many students age 19 in Grade 10 are MALES?</th>\n",
       "      <th>How many students age 19 in Grade 11 are MALES?</th>\n",
       "      <th>How many students age 19 in Grade 12 are MALES?</th>\n",
       "      <th>How many students age 19 in Grade 10 are FEMALES?</th>\n",
       "      <th>How many students age 19 in Grade 11 are FEMALES?</th>\n",
       "      <th>How many students age 19 in Grade 12 are FEMALES?</th>\n",
       "      <th>How many students age 20 in Grade 10 are MALES?</th>\n",
       "      <th>How many students age 20 in Grade 11 are MALES?</th>\n",
       "      <th>How many students age 20 in Grade 12 are MALES?</th>\n",
       "      <th>How many students age 20 in Grade 10 are FEMALES?</th>\n",
       "      <th>How many students age 20 in Grade 11 that are FEMALES?</th>\n",
       "      <th>How many students age 20 in Grade 12 that are FEMALES?</th>\n",
       "      <th>How many students above age 20 in Grade 10 that are MALES?</th>\n",
       "      <th>How many students above age 20 in Grade 11 that are MALES?</th>\n",
       "      <th>How many students above age 20 in Grade 12 that are MALES?</th>\n",
       "      <th>How many students above age 20 in Grade 10 that are FEMALES?</th>\n",
       "      <th>How many students above age 20 in Grade 11 that are FEMALES?</th>\n",
       "      <th>How many students above age 20 in Grade 12 that are FEMALES?</th>\n",
       "    </tr>\n",
       "  </thead>\n",
       "  <tbody>\n",
       "    <tr>\n",
       "      <th>0</th>\n",
       "      <td>NaN</td>\n",
       "      <td>NaN</td>\n",
       "      <td>NaN</td>\n",
       "      <td>NaN</td>\n",
       "      <td>NaN</td>\n",
       "      <td>NaN</td>\n",
       "      <td>NaN</td>\n",
       "      <td>NaN</td>\n",
       "      <td>NaN</td>\n",
       "      <td>NaN</td>\n",
       "      <td>NaN</td>\n",
       "      <td>NaN</td>\n",
       "      <td>NaN</td>\n",
       "      <td>NaN</td>\n",
       "      <td>NaN</td>\n",
       "      <td>NaN</td>\n",
       "      <td>NaN</td>\n",
       "      <td>NaN</td>\n",
       "      <td>NaN</td>\n",
       "      <td>NaN</td>\n",
       "      <td>NaN</td>\n",
       "      <td>NaN</td>\n",
       "      <td>NaN</td>\n",
       "      <td>NaN</td>\n",
       "      <td>NaN</td>\n",
       "      <td>NaN</td>\n",
       "      <td>NaN</td>\n",
       "      <td>NaN</td>\n",
       "      <td>NaN</td>\n",
       "      <td>NaN</td>\n",
       "      <td>NaN</td>\n",
       "      <td>NaN</td>\n",
       "      <td>NaN</td>\n",
       "      <td>NaN</td>\n",
       "      <td>NaN</td>\n",
       "      <td>NaN</td>\n",
       "      <td>NaN</td>\n",
       "      <td>NaN</td>\n",
       "      <td>NaN</td>\n",
       "      <td>NaN</td>\n",
       "      <td>NaN</td>\n",
       "      <td>NaN</td>\n",
       "      <td>NaN</td>\n",
       "      <td>NaN</td>\n",
       "      <td>NaN</td>\n",
       "      <td>NaN</td>\n",
       "      <td>NaN</td>\n",
       "      <td>NaN</td>\n",
       "      <td>NaN</td>\n",
       "      <td>NaN</td>\n",
       "      <td>NaN</td>\n",
       "      <td>NaN</td>\n",
       "      <td>NaN</td>\n",
       "      <td>NaN</td>\n",
       "      <td>NaN</td>\n",
       "      <td>NaN</td>\n",
       "      <td>NaN</td>\n",
       "      <td>NaN</td>\n",
       "      <td>NaN</td>\n",
       "      <td>NaN</td>\n",
       "      <td>NaN</td>\n",
       "      <td>NaN</td>\n",
       "      <td>NaN</td>\n",
       "      <td>NaN</td>\n",
       "      <td>NaN</td>\n",
       "      <td>NaN</td>\n",
       "    </tr>\n",
       "    <tr>\n",
       "      <th>1</th>\n",
       "      <td>NaN</td>\n",
       "      <td>NaN</td>\n",
       "      <td>NaN</td>\n",
       "      <td>NaN</td>\n",
       "      <td>NaN</td>\n",
       "      <td>NaN</td>\n",
       "      <td>NaN</td>\n",
       "      <td>NaN</td>\n",
       "      <td>NaN</td>\n",
       "      <td>NaN</td>\n",
       "      <td>NaN</td>\n",
       "      <td>NaN</td>\n",
       "      <td>NaN</td>\n",
       "      <td>NaN</td>\n",
       "      <td>NaN</td>\n",
       "      <td>NaN</td>\n",
       "      <td>NaN</td>\n",
       "      <td>NaN</td>\n",
       "      <td>NaN</td>\n",
       "      <td>NaN</td>\n",
       "      <td>NaN</td>\n",
       "      <td>NaN</td>\n",
       "      <td>NaN</td>\n",
       "      <td>NaN</td>\n",
       "      <td>NaN</td>\n",
       "      <td>NaN</td>\n",
       "      <td>NaN</td>\n",
       "      <td>NaN</td>\n",
       "      <td>NaN</td>\n",
       "      <td>NaN</td>\n",
       "      <td>NaN</td>\n",
       "      <td>NaN</td>\n",
       "      <td>NaN</td>\n",
       "      <td>NaN</td>\n",
       "      <td>NaN</td>\n",
       "      <td>NaN</td>\n",
       "      <td>NaN</td>\n",
       "      <td>NaN</td>\n",
       "      <td>NaN</td>\n",
       "      <td>NaN</td>\n",
       "      <td>NaN</td>\n",
       "      <td>NaN</td>\n",
       "      <td>NaN</td>\n",
       "      <td>NaN</td>\n",
       "      <td>NaN</td>\n",
       "      <td>NaN</td>\n",
       "      <td>NaN</td>\n",
       "      <td>NaN</td>\n",
       "      <td>NaN</td>\n",
       "      <td>NaN</td>\n",
       "      <td>NaN</td>\n",
       "      <td>NaN</td>\n",
       "      <td>NaN</td>\n",
       "      <td>NaN</td>\n",
       "      <td>NaN</td>\n",
       "      <td>NaN</td>\n",
       "      <td>NaN</td>\n",
       "      <td>NaN</td>\n",
       "      <td>NaN</td>\n",
       "      <td>NaN</td>\n",
       "      <td>NaN</td>\n",
       "      <td>NaN</td>\n",
       "      <td>NaN</td>\n",
       "      <td>NaN</td>\n",
       "      <td>NaN</td>\n",
       "      <td>NaN</td>\n",
       "    </tr>\n",
       "    <tr>\n",
       "      <th>2</th>\n",
       "      <td>NaN</td>\n",
       "      <td>NaN</td>\n",
       "      <td>NaN</td>\n",
       "      <td>NaN</td>\n",
       "      <td>NaN</td>\n",
       "      <td>NaN</td>\n",
       "      <td>NaN</td>\n",
       "      <td>NaN</td>\n",
       "      <td>NaN</td>\n",
       "      <td>NaN</td>\n",
       "      <td>NaN</td>\n",
       "      <td>NaN</td>\n",
       "      <td>NaN</td>\n",
       "      <td>NaN</td>\n",
       "      <td>NaN</td>\n",
       "      <td>NaN</td>\n",
       "      <td>NaN</td>\n",
       "      <td>NaN</td>\n",
       "      <td>NaN</td>\n",
       "      <td>NaN</td>\n",
       "      <td>NaN</td>\n",
       "      <td>NaN</td>\n",
       "      <td>NaN</td>\n",
       "      <td>NaN</td>\n",
       "      <td>NaN</td>\n",
       "      <td>NaN</td>\n",
       "      <td>NaN</td>\n",
       "      <td>NaN</td>\n",
       "      <td>NaN</td>\n",
       "      <td>NaN</td>\n",
       "      <td>NaN</td>\n",
       "      <td>NaN</td>\n",
       "      <td>NaN</td>\n",
       "      <td>NaN</td>\n",
       "      <td>NaN</td>\n",
       "      <td>NaN</td>\n",
       "      <td>NaN</td>\n",
       "      <td>NaN</td>\n",
       "      <td>NaN</td>\n",
       "      <td>NaN</td>\n",
       "      <td>NaN</td>\n",
       "      <td>NaN</td>\n",
       "      <td>NaN</td>\n",
       "      <td>NaN</td>\n",
       "      <td>NaN</td>\n",
       "      <td>NaN</td>\n",
       "      <td>NaN</td>\n",
       "      <td>NaN</td>\n",
       "      <td>NaN</td>\n",
       "      <td>NaN</td>\n",
       "      <td>NaN</td>\n",
       "      <td>NaN</td>\n",
       "      <td>NaN</td>\n",
       "      <td>NaN</td>\n",
       "      <td>NaN</td>\n",
       "      <td>NaN</td>\n",
       "      <td>NaN</td>\n",
       "      <td>NaN</td>\n",
       "      <td>NaN</td>\n",
       "      <td>NaN</td>\n",
       "      <td>NaN</td>\n",
       "      <td>NaN</td>\n",
       "      <td>NaN</td>\n",
       "      <td>NaN</td>\n",
       "      <td>NaN</td>\n",
       "      <td>NaN</td>\n",
       "    </tr>\n",
       "    <tr>\n",
       "      <th>3</th>\n",
       "      <td>NaN</td>\n",
       "      <td>NaN</td>\n",
       "      <td>NaN</td>\n",
       "      <td>NaN</td>\n",
       "      <td>NaN</td>\n",
       "      <td>NaN</td>\n",
       "      <td>NaN</td>\n",
       "      <td>NaN</td>\n",
       "      <td>NaN</td>\n",
       "      <td>NaN</td>\n",
       "      <td>NaN</td>\n",
       "      <td>NaN</td>\n",
       "      <td>NaN</td>\n",
       "      <td>NaN</td>\n",
       "      <td>NaN</td>\n",
       "      <td>NaN</td>\n",
       "      <td>NaN</td>\n",
       "      <td>NaN</td>\n",
       "      <td>NaN</td>\n",
       "      <td>NaN</td>\n",
       "      <td>NaN</td>\n",
       "      <td>NaN</td>\n",
       "      <td>NaN</td>\n",
       "      <td>NaN</td>\n",
       "      <td>NaN</td>\n",
       "      <td>NaN</td>\n",
       "      <td>NaN</td>\n",
       "      <td>NaN</td>\n",
       "      <td>NaN</td>\n",
       "      <td>NaN</td>\n",
       "      <td>NaN</td>\n",
       "      <td>NaN</td>\n",
       "      <td>NaN</td>\n",
       "      <td>NaN</td>\n",
       "      <td>NaN</td>\n",
       "      <td>NaN</td>\n",
       "      <td>NaN</td>\n",
       "      <td>NaN</td>\n",
       "      <td>NaN</td>\n",
       "      <td>NaN</td>\n",
       "      <td>NaN</td>\n",
       "      <td>NaN</td>\n",
       "      <td>NaN</td>\n",
       "      <td>NaN</td>\n",
       "      <td>NaN</td>\n",
       "      <td>NaN</td>\n",
       "      <td>NaN</td>\n",
       "      <td>NaN</td>\n",
       "      <td>NaN</td>\n",
       "      <td>NaN</td>\n",
       "      <td>NaN</td>\n",
       "      <td>NaN</td>\n",
       "      <td>NaN</td>\n",
       "      <td>NaN</td>\n",
       "      <td>NaN</td>\n",
       "      <td>NaN</td>\n",
       "      <td>NaN</td>\n",
       "      <td>NaN</td>\n",
       "      <td>NaN</td>\n",
       "      <td>NaN</td>\n",
       "      <td>NaN</td>\n",
       "      <td>NaN</td>\n",
       "      <td>NaN</td>\n",
       "      <td>NaN</td>\n",
       "      <td>NaN</td>\n",
       "      <td>NaN</td>\n",
       "    </tr>\n",
       "    <tr>\n",
       "      <th>4</th>\n",
       "      <td>NaN</td>\n",
       "      <td>NaN</td>\n",
       "      <td>NaN</td>\n",
       "      <td>NaN</td>\n",
       "      <td>NaN</td>\n",
       "      <td>NaN</td>\n",
       "      <td>NaN</td>\n",
       "      <td>NaN</td>\n",
       "      <td>NaN</td>\n",
       "      <td>NaN</td>\n",
       "      <td>NaN</td>\n",
       "      <td>NaN</td>\n",
       "      <td>NaN</td>\n",
       "      <td>NaN</td>\n",
       "      <td>NaN</td>\n",
       "      <td>NaN</td>\n",
       "      <td>NaN</td>\n",
       "      <td>NaN</td>\n",
       "      <td>NaN</td>\n",
       "      <td>NaN</td>\n",
       "      <td>NaN</td>\n",
       "      <td>NaN</td>\n",
       "      <td>NaN</td>\n",
       "      <td>NaN</td>\n",
       "      <td>NaN</td>\n",
       "      <td>NaN</td>\n",
       "      <td>NaN</td>\n",
       "      <td>NaN</td>\n",
       "      <td>NaN</td>\n",
       "      <td>NaN</td>\n",
       "      <td>NaN</td>\n",
       "      <td>NaN</td>\n",
       "      <td>NaN</td>\n",
       "      <td>NaN</td>\n",
       "      <td>NaN</td>\n",
       "      <td>NaN</td>\n",
       "      <td>NaN</td>\n",
       "      <td>NaN</td>\n",
       "      <td>NaN</td>\n",
       "      <td>NaN</td>\n",
       "      <td>NaN</td>\n",
       "      <td>NaN</td>\n",
       "      <td>NaN</td>\n",
       "      <td>NaN</td>\n",
       "      <td>NaN</td>\n",
       "      <td>NaN</td>\n",
       "      <td>NaN</td>\n",
       "      <td>NaN</td>\n",
       "      <td>NaN</td>\n",
       "      <td>NaN</td>\n",
       "      <td>NaN</td>\n",
       "      <td>NaN</td>\n",
       "      <td>NaN</td>\n",
       "      <td>NaN</td>\n",
       "      <td>NaN</td>\n",
       "      <td>NaN</td>\n",
       "      <td>NaN</td>\n",
       "      <td>NaN</td>\n",
       "      <td>NaN</td>\n",
       "      <td>NaN</td>\n",
       "      <td>NaN</td>\n",
       "      <td>NaN</td>\n",
       "      <td>NaN</td>\n",
       "      <td>NaN</td>\n",
       "      <td>NaN</td>\n",
       "      <td>NaN</td>\n",
       "    </tr>\n",
       "  </tbody>\n",
       "</table>\n",
       "</div>"
      ],
      "text/plain": [
       "   How many students below Age 12 years old in Grade 10 are MALES?  \\\n",
       "0                                                NaN                 \n",
       "1                                                NaN                 \n",
       "2                                                NaN                 \n",
       "3                                                NaN                 \n",
       "4                                                NaN                 \n",
       "\n",
       "   How many students below Age 12 years old in Grade 11 are MALES?  \\\n",
       "0                                                NaN                 \n",
       "1                                                NaN                 \n",
       "2                                                NaN                 \n",
       "3                                                NaN                 \n",
       "4                                                NaN                 \n",
       "\n",
       "   How many students below Age 12 years old in Grade 12 are MALES?  \\\n",
       "0                                                NaN                 \n",
       "1                                                NaN                 \n",
       "2                                                NaN                 \n",
       "3                                                NaN                 \n",
       "4                                                NaN                 \n",
       "\n",
       "   How many students below Age 12 years old in Grade 10 are FEMALES?  \\\n",
       "0                                                NaN                   \n",
       "1                                                NaN                   \n",
       "2                                                NaN                   \n",
       "3                                                NaN                   \n",
       "4                                                NaN                   \n",
       "\n",
       "   How many students below Age 12 years old in Grade 11 are FEMALES?  \\\n",
       "0                                                NaN                   \n",
       "1                                                NaN                   \n",
       "2                                                NaN                   \n",
       "3                                                NaN                   \n",
       "4                                                NaN                   \n",
       "\n",
       "   How many students below Age 12 years old in Grade 12 are FEMALES?  \\\n",
       "0                                                NaN                   \n",
       "1                                                NaN                   \n",
       "2                                                NaN                   \n",
       "3                                                NaN                   \n",
       "4                                                NaN                   \n",
       "\n",
       "   How many students Age 12 years old in Grade 10 are MALES?  \\\n",
       "0                                                NaN           \n",
       "1                                                NaN           \n",
       "2                                                NaN           \n",
       "3                                                NaN           \n",
       "4                                                NaN           \n",
       "\n",
       "   How many students Age 12 years old in Grade 11 are MALES?  \\\n",
       "0                                                NaN           \n",
       "1                                                NaN           \n",
       "2                                                NaN           \n",
       "3                                                NaN           \n",
       "4                                                NaN           \n",
       "\n",
       "   How many students Age 12 years old in Grade 12 are MALES?  \\\n",
       "0                                                NaN           \n",
       "1                                                NaN           \n",
       "2                                                NaN           \n",
       "3                                                NaN           \n",
       "4                                                NaN           \n",
       "\n",
       "   How many students Age 12 years old in Grade 10 are FEMALES?  \\\n",
       "0                                                NaN             \n",
       "1                                                NaN             \n",
       "2                                                NaN             \n",
       "3                                                NaN             \n",
       "4                                                NaN             \n",
       "\n",
       "   How many students Age 12 years old in Grade 11 are FEMALES?  \\\n",
       "0                                                NaN             \n",
       "1                                                NaN             \n",
       "2                                                NaN             \n",
       "3                                                NaN             \n",
       "4                                                NaN             \n",
       "\n",
       "   How many students Age 12 years old in Grade 12 are FEMALES?  \\\n",
       "0                                                NaN             \n",
       "1                                                NaN             \n",
       "2                                                NaN             \n",
       "3                                                NaN             \n",
       "4                                                NaN             \n",
       "\n",
       "   How many students  Age 13 years old in Grade 10 are MALES?  \\\n",
       "0                                                NaN            \n",
       "1                                                NaN            \n",
       "2                                                NaN            \n",
       "3                                                NaN            \n",
       "4                                                NaN            \n",
       "\n",
       "   How many students  Age 13 years old in Grade 11 are MALES?  \\\n",
       "0                                                NaN            \n",
       "1                                                NaN            \n",
       "2                                                NaN            \n",
       "3                                                NaN            \n",
       "4                                                NaN            \n",
       "\n",
       "   How many students  Age 13 years old in Grade 12 are MALES?  \\\n",
       "0                                                NaN            \n",
       "1                                                NaN            \n",
       "2                                                NaN            \n",
       "3                                                NaN            \n",
       "4                                                NaN            \n",
       "\n",
       "   How many students  Age 13 years old in Grade 10 are FEMALES?  \\\n",
       "0                                                NaN              \n",
       "1                                                NaN              \n",
       "2                                                NaN              \n",
       "3                                                NaN              \n",
       "4                                                NaN              \n",
       "\n",
       "   How many students  Age 13 years old in Grade 11 are FEMALES?  \\\n",
       "0                                                NaN              \n",
       "1                                                NaN              \n",
       "2                                                NaN              \n",
       "3                                                NaN              \n",
       "4                                                NaN              \n",
       "\n",
       "   How many students  Age 13 years old in Grade 12 are FEMALES?  \\\n",
       "0                                                NaN              \n",
       "1                                                NaN              \n",
       "2                                                NaN              \n",
       "3                                                NaN              \n",
       "4                                                NaN              \n",
       "\n",
       "   How many students  Age 14 years old in Grade 10 are MALES?  \\\n",
       "0                                                NaN            \n",
       "1                                                NaN            \n",
       "2                                                NaN            \n",
       "3                                                NaN            \n",
       "4                                                NaN            \n",
       "\n",
       "   How many students  Age 14 years old in Grade 11 are MALES?  \\\n",
       "0                                                NaN            \n",
       "1                                                NaN            \n",
       "2                                                NaN            \n",
       "3                                                NaN            \n",
       "4                                                NaN            \n",
       "\n",
       "   How many students  Age 14 years old in Grade 12 are MALES?  \\\n",
       "0                                                NaN            \n",
       "1                                                NaN            \n",
       "2                                                NaN            \n",
       "3                                                NaN            \n",
       "4                                                NaN            \n",
       "\n",
       "   How many students  Age 14 years old in Grade 10 are FEMALES?  \\\n",
       "0                                                NaN              \n",
       "1                                                NaN              \n",
       "2                                                NaN              \n",
       "3                                                NaN              \n",
       "4                                                NaN              \n",
       "\n",
       "   How many students  Age 14 years old in Grade 11 are FEMALES?  \\\n",
       "0                                                NaN              \n",
       "1                                                NaN              \n",
       "2                                                NaN              \n",
       "3                                                NaN              \n",
       "4                                                NaN              \n",
       "\n",
       "   How many students  Age 14 years old in Grade 12 are FEMALES?  \\\n",
       "0                                                NaN              \n",
       "1                                                NaN              \n",
       "2                                                NaN              \n",
       "3                                                NaN              \n",
       "4                                                NaN              \n",
       "\n",
       "   How many students  Age 15 years old in Grade 10 are MALES?  \\\n",
       "0                                                NaN            \n",
       "1                                                NaN            \n",
       "2                                                NaN            \n",
       "3                                                NaN            \n",
       "4                                                NaN            \n",
       "\n",
       "   How many students  Age 15 years old in Grade 11 are MALES?  \\\n",
       "0                                                NaN            \n",
       "1                                                NaN            \n",
       "2                                                NaN            \n",
       "3                                                NaN            \n",
       "4                                                NaN            \n",
       "\n",
       "   How many students  Age 15 years old in Grade 12 are MALES?  \\\n",
       "0                                                NaN            \n",
       "1                                                NaN            \n",
       "2                                                NaN            \n",
       "3                                                NaN            \n",
       "4                                                NaN            \n",
       "\n",
       "   How many students  age 15 Years old  in Grade 10 are FEMALES?  \\\n",
       "0                                                NaN               \n",
       "1                                                NaN               \n",
       "2                                                NaN               \n",
       "3                                                NaN               \n",
       "4                                                NaN               \n",
       "\n",
       "   How many students  age 15 Years old  in Grade 11 are FEMALES?  \\\n",
       "0                                                NaN               \n",
       "1                                                NaN               \n",
       "2                                                NaN               \n",
       "3                                                NaN               \n",
       "4                                                NaN               \n",
       "\n",
       "   How many students  age 15 Years old  in Grade 12 are FEMALES?  \\\n",
       "0                                                NaN               \n",
       "1                                                NaN               \n",
       "2                                                NaN               \n",
       "3                                                NaN               \n",
       "4                                                NaN               \n",
       "\n",
       "   How many students age 16 Years old  in Grade 10 are MALES?  \\\n",
       "0                                                NaN            \n",
       "1                                                NaN            \n",
       "2                                                NaN            \n",
       "3                                                NaN            \n",
       "4                                                NaN            \n",
       "\n",
       "   How many students age 16 Years old  in Grade 11 are MALES?  \\\n",
       "0                                                NaN            \n",
       "1                                                NaN            \n",
       "2                                                NaN            \n",
       "3                                                NaN            \n",
       "4                                                NaN            \n",
       "\n",
       "   How many students age 16 Years old  in Grade 12 are MALES?  \\\n",
       "0                                                NaN            \n",
       "1                                                NaN            \n",
       "2                                                NaN            \n",
       "3                                                NaN            \n",
       "4                                                NaN            \n",
       "\n",
       "   How many students  above Age 16 in Grade 10 are FEMALES?  \\\n",
       "0                                                NaN          \n",
       "1                                                NaN          \n",
       "2                                                NaN          \n",
       "3                                                NaN          \n",
       "4                                                NaN          \n",
       "\n",
       "   How many students  above Age 16 in Grade 11 are FEMALES?  \\\n",
       "0                                                NaN          \n",
       "1                                                NaN          \n",
       "2                                                NaN          \n",
       "3                                                NaN          \n",
       "4                                                NaN          \n",
       "\n",
       "   How many students  above Age 16 in Grade 12 are FEMALES?  \\\n",
       "0                                                NaN          \n",
       "1                                                NaN          \n",
       "2                                                NaN          \n",
       "3                                                NaN          \n",
       "4                                                NaN          \n",
       "\n",
       "   How many students age 17 in Grade 10 are MALES?  \\\n",
       "0                                              NaN   \n",
       "1                                              NaN   \n",
       "2                                              NaN   \n",
       "3                                              NaN   \n",
       "4                                              NaN   \n",
       "\n",
       "   How many students age 17 in Grade 11 are MALES?  \\\n",
       "0                                              NaN   \n",
       "1                                              NaN   \n",
       "2                                              NaN   \n",
       "3                                              NaN   \n",
       "4                                              NaN   \n",
       "\n",
       "   How many students age 17 in Grade 12 are MALES?  \\\n",
       "0                                              NaN   \n",
       "1                                              NaN   \n",
       "2                                              NaN   \n",
       "3                                              NaN   \n",
       "4                                              NaN   \n",
       "\n",
       "   How many students age 17 in Grade 10 are FEMALES?  \\\n",
       "0                                                NaN   \n",
       "1                                                NaN   \n",
       "2                                                NaN   \n",
       "3                                                NaN   \n",
       "4                                                NaN   \n",
       "\n",
       "   How many students age 17 in Grade 11 are FEMALES?  \\\n",
       "0                                                NaN   \n",
       "1                                                NaN   \n",
       "2                                                NaN   \n",
       "3                                                NaN   \n",
       "4                                                NaN   \n",
       "\n",
       "   How many students age 17 in Grade 12 are FEMALES?  \\\n",
       "0                                                NaN   \n",
       "1                                                NaN   \n",
       "2                                                NaN   \n",
       "3                                                NaN   \n",
       "4                                                NaN   \n",
       "\n",
       "   How many students age 18 in Grade 10 are MALES?  \\\n",
       "0                                              NaN   \n",
       "1                                              NaN   \n",
       "2                                              NaN   \n",
       "3                                              NaN   \n",
       "4                                              NaN   \n",
       "\n",
       "   How many students age 18 in Grade 11 are MALES?  \\\n",
       "0                                              NaN   \n",
       "1                                              NaN   \n",
       "2                                              NaN   \n",
       "3                                              NaN   \n",
       "4                                              NaN   \n",
       "\n",
       "   How many students age 18 in Grade 12 are MALES?  \\\n",
       "0                                              NaN   \n",
       "1                                              NaN   \n",
       "2                                              NaN   \n",
       "3                                              NaN   \n",
       "4                                              NaN   \n",
       "\n",
       "   How many students age 18 in Grade 10 are FEMALES?  \\\n",
       "0                                                NaN   \n",
       "1                                                NaN   \n",
       "2                                                NaN   \n",
       "3                                                NaN   \n",
       "4                                                NaN   \n",
       "\n",
       "   How many students age 18 in Grade 11 are FEMALES?  \\\n",
       "0                                                NaN   \n",
       "1                                                NaN   \n",
       "2                                                NaN   \n",
       "3                                                NaN   \n",
       "4                                                NaN   \n",
       "\n",
       "   How many students age 18 in Grade 12 are FEMALES?  \\\n",
       "0                                                NaN   \n",
       "1                                                NaN   \n",
       "2                                                NaN   \n",
       "3                                                NaN   \n",
       "4                                                NaN   \n",
       "\n",
       "   How many students age 19 in Grade 10 are MALES?  \\\n",
       "0                                              NaN   \n",
       "1                                              NaN   \n",
       "2                                              NaN   \n",
       "3                                              NaN   \n",
       "4                                              NaN   \n",
       "\n",
       "   How many students age 19 in Grade 11 are MALES?  \\\n",
       "0                                              NaN   \n",
       "1                                              NaN   \n",
       "2                                              NaN   \n",
       "3                                              NaN   \n",
       "4                                              NaN   \n",
       "\n",
       "   How many students age 19 in Grade 12 are MALES?  \\\n",
       "0                                              NaN   \n",
       "1                                              NaN   \n",
       "2                                              NaN   \n",
       "3                                              NaN   \n",
       "4                                              NaN   \n",
       "\n",
       "   How many students age 19 in Grade 10 are FEMALES?  \\\n",
       "0                                                NaN   \n",
       "1                                                NaN   \n",
       "2                                                NaN   \n",
       "3                                                NaN   \n",
       "4                                                NaN   \n",
       "\n",
       "   How many students age 19 in Grade 11 are FEMALES?  \\\n",
       "0                                                NaN   \n",
       "1                                                NaN   \n",
       "2                                                NaN   \n",
       "3                                                NaN   \n",
       "4                                                NaN   \n",
       "\n",
       "   How many students age 19 in Grade 12 are FEMALES?  \\\n",
       "0                                                NaN   \n",
       "1                                                NaN   \n",
       "2                                                NaN   \n",
       "3                                                NaN   \n",
       "4                                                NaN   \n",
       "\n",
       "   How many students age 20 in Grade 10 are MALES?  \\\n",
       "0                                              NaN   \n",
       "1                                              NaN   \n",
       "2                                              NaN   \n",
       "3                                              NaN   \n",
       "4                                              NaN   \n",
       "\n",
       "   How many students age 20 in Grade 11 are MALES?  \\\n",
       "0                                              NaN   \n",
       "1                                              NaN   \n",
       "2                                              NaN   \n",
       "3                                              NaN   \n",
       "4                                              NaN   \n",
       "\n",
       "   How many students age 20 in Grade 12 are MALES?  \\\n",
       "0                                              NaN   \n",
       "1                                              NaN   \n",
       "2                                              NaN   \n",
       "3                                              NaN   \n",
       "4                                              NaN   \n",
       "\n",
       "   How many students age 20 in Grade 10 are FEMALES?  \\\n",
       "0                                                NaN   \n",
       "1                                                NaN   \n",
       "2                                                NaN   \n",
       "3                                                NaN   \n",
       "4                                                NaN   \n",
       "\n",
       "   How many students age 20 in Grade 11 that are FEMALES?  \\\n",
       "0                                                NaN        \n",
       "1                                                NaN        \n",
       "2                                                NaN        \n",
       "3                                                NaN        \n",
       "4                                                NaN        \n",
       "\n",
       "   How many students age 20 in Grade 12 that are FEMALES?  \\\n",
       "0                                                NaN        \n",
       "1                                                NaN        \n",
       "2                                                NaN        \n",
       "3                                                NaN        \n",
       "4                                                NaN        \n",
       "\n",
       "   How many students above age 20 in Grade 10 that are MALES?  \\\n",
       "0                                                NaN            \n",
       "1                                                NaN            \n",
       "2                                                NaN            \n",
       "3                                                NaN            \n",
       "4                                                NaN            \n",
       "\n",
       "   How many students above age 20 in Grade 11 that are MALES?  \\\n",
       "0                                                NaN            \n",
       "1                                                NaN            \n",
       "2                                                NaN            \n",
       "3                                                NaN            \n",
       "4                                                NaN            \n",
       "\n",
       "   How many students above age 20 in Grade 12 that are MALES?  \\\n",
       "0                                                NaN            \n",
       "1                                                NaN            \n",
       "2                                                NaN            \n",
       "3                                                NaN            \n",
       "4                                                NaN            \n",
       "\n",
       "   How many students above age 20 in Grade 10 that are FEMALES?  \\\n",
       "0                                                NaN              \n",
       "1                                                NaN              \n",
       "2                                                NaN              \n",
       "3                                                NaN              \n",
       "4                                                NaN              \n",
       "\n",
       "   How many students above age 20 in Grade 11 that are FEMALES?  \\\n",
       "0                                                NaN              \n",
       "1                                                NaN              \n",
       "2                                                NaN              \n",
       "3                                                NaN              \n",
       "4                                                NaN              \n",
       "\n",
       "   How many students above age 20 in Grade 12 that are FEMALES?  \n",
       "0                                                NaN             \n",
       "1                                                NaN             \n",
       "2                                                NaN             \n",
       "3                                                NaN             \n",
       "4                                                NaN             "
      ]
     },
     "execution_count": 9,
     "metadata": {},
     "output_type": "execute_result"
    }
   ],
   "source": [
    "kece_c = kcensus.iloc[:,[2]]\n",
    "kece_o = kcensus.iloc[:,[39]]\n",
    "kece_s = kcensus.iloc[:,568:634]\n",
    "kece_s.head()"
   ]
  },
  {
   "cell_type": "code",
   "execution_count": 12,
   "id": "bb247e6c-4d21-4834-8a7d-afc2387681d6",
   "metadata": {},
   "outputs": [
    {
     "data": {
      "text/plain": [
       "Type of school\n",
       "Community       1023.0\n",
       "Faith-based    19531.0\n",
       "Private        29962.0\n",
       "Public         19514.0\n",
       "dtype: float64"
      ]
     },
     "execution_count": 12,
     "metadata": {},
     "output_type": "execute_result"
    }
   ],
   "source": [
    "kece_og = pd.concat([kece_o, kece_s],axis=1).groupby('Type of school').sum()\n",
    "kece_ogs = kece_og.sum(1)\n",
    "kece_ogs"
   ]
  },
  {
   "cell_type": "code",
   "execution_count": 14,
   "id": "08137268-0d18-4970-86f5-85ae11d16636",
   "metadata": {},
   "outputs": [
    {
     "data": {
      "text/plain": [
       "Type of school\n",
       "Community        630.0\n",
       "Faith-based     9505.0\n",
       "Private        15177.0\n",
       "Public         10457.0\n",
       "dtype: float64"
      ]
     },
     "execution_count": 14,
     "metadata": {},
     "output_type": "execute_result"
    }
   ],
   "source": [
    "kece_ogm  = pd.concat([kece_og.iloc[:,0:3],\n",
    "kece_og.iloc[:,6:9],\n",
    "kece_og.iloc[:,12:15],\n",
    "kece_og.iloc[:,18:21],\n",
    "kece_og.iloc[:,24:27],\n",
    "kece_og.iloc[:,30:33],\n",
    "kece_og.iloc[:,36:39],\n",
    "kece_og.iloc[:,42:45],\n",
    "kece_og.iloc[:,48:51],\n",
    "kece_og.iloc[:,54:57],\n",
    "kece_og.iloc[:,60:63]],axis=1)\n",
    "\n",
    "kece_ogm.sum(1)"
   ]
  },
  {
   "cell_type": "code",
   "execution_count": 15,
   "id": "399636c8-cd0a-4e59-b962-3447b60967db",
   "metadata": {},
   "outputs": [
    {
     "data": {
      "text/plain": [
       "Type of school\n",
       "Community        393.0\n",
       "Faith-based    10026.0\n",
       "Private        14785.0\n",
       "Public          9057.0\n",
       "dtype: float64"
      ]
     },
     "execution_count": 15,
     "metadata": {},
     "output_type": "execute_result"
    }
   ],
   "source": [
    "kece_ogf = kece_ogs - kece_ogm.sum(1)\n",
    "kece_ogf"
   ]
  },
  {
   "cell_type": "markdown",
   "id": "b0fbb78d-1770-4d01-9a19-70ad8b22cfc6",
   "metadata": {},
   "source": [
    "# Table 2: SHS Enrollment by Grade and Gender"
   ]
  },
  {
   "cell_type": "code",
   "execution_count": 16,
   "id": "aada7822-59d4-4835-a7bf-688af7d16b66",
   "metadata": {},
   "outputs": [
    {
     "data": {
      "text/plain": [
       "How many students below Age 12 years old in Grade 10 are MALES?        95.0\n",
       "How many students below Age 12 years old in Grade 11 are MALES?        99.0\n",
       "How many students below Age 12 years old in Grade 12 are MALES?        97.0\n",
       "How many students below Age 12 years old in Grade 10 are FEMALES?      43.0\n",
       "How many students below Age 12 years old in Grade 11 are FEMALES?      66.0\n",
       "How many students below Age 12 years old in Grade 12 are FEMALES?      62.0\n",
       "How many students Age 12 years old in Grade 10 are MALES?              68.0\n",
       "How many students Age 12 years old in Grade 11 are MALES?              28.0\n",
       "How many students Age 12 years old in Grade 12 are MALES?              38.0\n",
       "How many students Age 12 years old in Grade 10 are FEMALES?            41.0\n",
       "How many students Age 12 years old in Grade 11 are FEMALES?            25.0\n",
       "How many students Age 12 years old in Grade 12 are FEMALES?            10.0\n",
       "How many students  Age 13 years old in Grade 10 are MALES?             66.0\n",
       "How many students  Age 13 years old in Grade 11 are MALES?             29.0\n",
       "How many students  Age 13 years old in Grade 12 are MALES?             26.0\n",
       "How many students  Age 13 years old in Grade 10 are FEMALES?           72.0\n",
       "How many students  Age 13 years old in Grade 11 are FEMALES?           39.0\n",
       "How many students  Age 13 years old in Grade 12 are FEMALES?           11.0\n",
       "How many students  Age 14 years old in Grade 10 are MALES?            595.0\n",
       "How many students  Age 14 years old in Grade 11 are MALES?            310.0\n",
       "How many students  Age 14 years old in Grade 12 are MALES?            160.0\n",
       "How many students  Age 14 years old in Grade 10 are FEMALES?          618.0\n",
       "How many students  Age 14 years old in Grade 11 are FEMALES?          266.0\n",
       "How many students  Age 14 years old in Grade 12 are FEMALES?          114.0\n",
       "How many students  Age 15 years old in Grade 10 are MALES?           1063.0\n",
       "How many students  Age 15 years old in Grade 11 are MALES?            548.0\n",
       "How many students  Age 15 years old in Grade 12 are MALES?            232.0\n",
       "How many students  age 15 Years old  in Grade 10 are FEMALES?        1361.0\n",
       "How many students  age 15 Years old  in Grade 11 are FEMALES?         640.0\n",
       "How many students  age 15 Years old  in Grade 12 are FEMALES?         302.0\n",
       "How many students age 16 Years old  in Grade 10 are MALES?           1941.0\n",
       "How many students age 16 Years old  in Grade 11 are MALES?           1490.0\n",
       "How many students age 16 Years old  in Grade 12 are MALES?            666.0\n",
       "How many students  above Age 16 in Grade 10 are FEMALES?             2205.0\n",
       "How many students  above Age 16 in Grade 11 are FEMALES?             1755.0\n",
       "How many students  above Age 16 in Grade 12 are FEMALES?             1156.0\n",
       "How many students age 17 in Grade 10 are MALES?                      2387.0\n",
       "How many students age 17 in Grade 11 are MALES?                      1797.0\n",
       "How many students age 17 in Grade 12 are MALES?                      1372.0\n",
       "How many students age 17 in Grade 10 are FEMALES?                    2121.0\n",
       "How many students age 17 in Grade 11 are FEMALES?                    1921.0\n",
       "How many students age 17 in Grade 12 are FEMALES?                    1390.0\n",
       "How many students age 18 in Grade 10 are MALES?                      2227.0\n",
       "How many students age 18 in Grade 11 are MALES?                      2252.0\n",
       "How many students age 18 in Grade 12 are MALES?                      1788.0\n",
       "How many students age 18 in Grade 10 are FEMALES?                    2112.0\n",
       "How many students age 18 in Grade 11 are FEMALES?                    2053.0\n",
       "How many students age 18 in Grade 12 are FEMALES?                    1921.0\n",
       "How many students age 19 in Grade 10 are MALES?                      1811.0\n",
       "How many students age 19 in Grade 11 are MALES?                      1955.0\n",
       "How many students age 19 in Grade 12 are MALES?                      2267.0\n",
       "How many students age 19 in Grade 10 are FEMALES?                    1534.0\n",
       "How many students age 19 in Grade 11 are FEMALES?                    1627.0\n",
       "How many students age 19 in Grade 12 are FEMALES?                    1889.0\n",
       "How many students age 20 in Grade 10 are MALES?                      1284.0\n",
       "How many students age 20 in Grade 11 are MALES?                      1486.0\n",
       "How many students age 20 in Grade 12 are MALES?                      2044.0\n",
       "How many students age 20 in Grade 10 are FEMALES?                    1128.0\n",
       "How many students age 20 in Grade 11 that are FEMALES?               1309.0\n",
       "How many students age 20 in Grade 12 that are FEMALES?               1867.0\n",
       "How many students above age 20 in Grade 10 that are MALES?           1436.0\n",
       "How many students above age 20 in Grade 11 that are MALES?           1704.0\n",
       "How many students above age 20 in Grade 12 that are MALES?           2408.0\n",
       "How many students above age 20 in Grade 10 that are FEMALES?         1205.0\n",
       "How many students above age 20 in Grade 11 that are FEMALES?         1441.0\n",
       "How many students above age 20 in Grade 12 that are FEMALES?         1957.0\n",
       "dtype: float64"
      ]
     },
     "execution_count": 16,
     "metadata": {},
     "output_type": "execute_result"
    }
   ],
   "source": [
    "kece_gg = kece_og.sum()\n",
    "kece_gg.sum()"
   ]
  },
  {
   "cell_type": "code",
   "execution_count": 21,
   "id": "0e9accb8-07fd-499a-8711-cc02f476dfa7",
   "metadata": {},
   "outputs": [
    {
     "data": {
      "text/plain": [
       "25413.0"
      ]
     },
     "execution_count": 21,
     "metadata": {},
     "output_type": "execute_result"
    }
   ],
   "source": [
    "kece_gg10 = kece_gg[::3]\n",
    "kece_gg10.sum()\n"
   ]
  },
  {
   "cell_type": "code",
   "execution_count": 22,
   "id": "914cea7b-74bd-48ae-8de0-c5639c9fd95c",
   "metadata": {},
   "outputs": [
    {
     "data": {
      "text/plain": [
       "12973.0"
      ]
     },
     "execution_count": 22,
     "metadata": {},
     "output_type": "execute_result"
    }
   ],
   "source": [
    "kece_gg10m = kece_gg7[::2]\n",
    "kece_gg10m.sum() "
   ]
  },
  {
   "cell_type": "code",
   "execution_count": 26,
   "id": "ad0a07c6-b423-467e-bcbd-33bf55b5cd15",
   "metadata": {},
   "outputs": [
    {
     "data": {
      "text/plain": [
       "12440.0"
      ]
     },
     "execution_count": 26,
     "metadata": {},
     "output_type": "execute_result"
    }
   ],
   "source": [
    "kece_gg10f = kece_gg10[1::2]\n",
    "kece_gg10f .sum()"
   ]
  },
  {
   "cell_type": "code",
   "execution_count": 24,
   "id": "128920ae-ce55-4292-9d23-ecdc6dbcdbbf",
   "metadata": {},
   "outputs": [
    {
     "data": {
      "text/plain": [
       "22840.0"
      ]
     },
     "execution_count": 24,
     "metadata": {},
     "output_type": "execute_result"
    }
   ],
   "source": [
    "kece_gg11 =kece_gg[1::3]\n",
    "kece_gg11.sum()"
   ]
  },
  {
   "cell_type": "code",
   "execution_count": 25,
   "id": "4acc3bac-bbc1-4fe7-b7ba-8671c40932cb",
   "metadata": {},
   "outputs": [
    {
     "data": {
      "text/plain": [
       "11698.0"
      ]
     },
     "execution_count": 25,
     "metadata": {},
     "output_type": "execute_result"
    }
   ],
   "source": [
    "kece_gg11m =kece_gg11[::2]\n",
    "kece_gg11m.sum()"
   ]
  },
  {
   "cell_type": "code",
   "execution_count": 27,
   "id": "96a269b3-7816-4061-b243-ff6b633941d4",
   "metadata": {},
   "outputs": [
    {
     "data": {
      "text/plain": [
       "11142.0"
      ]
     },
     "execution_count": 27,
     "metadata": {},
     "output_type": "execute_result"
    }
   ],
   "source": [
    "kece_gg11f =kece_gg11[1::2]\n",
    "kece_gg11f.sum()"
   ]
  },
  {
   "cell_type": "code",
   "execution_count": 28,
   "id": "93c57ee4-79ac-4b61-ba96-7ed58ea0bddd",
   "metadata": {},
   "outputs": [
    {
     "data": {
      "text/plain": [
       "21777.0"
      ]
     },
     "execution_count": 28,
     "metadata": {},
     "output_type": "execute_result"
    }
   ],
   "source": [
    "kece_gg12 = kece_gg[2::3]\n",
    "kece_gg12.sum()"
   ]
  },
  {
   "cell_type": "code",
   "execution_count": 29,
   "id": "d62f9059-f6dc-4a2a-aeef-9bacb9666922",
   "metadata": {},
   "outputs": [
    {
     "data": {
      "text/plain": [
       "11098.0"
      ]
     },
     "execution_count": 29,
     "metadata": {},
     "output_type": "execute_result"
    }
   ],
   "source": [
    "kece_gg12m = kece_gg12[::2]\n",
    "kece_gg12m.sum() "
   ]
  },
  {
   "cell_type": "code",
   "execution_count": 30,
   "id": "0f37492c-83f2-4260-874b-442a0741e35d",
   "metadata": {},
   "outputs": [
    {
     "data": {
      "text/plain": [
       "10679.0"
      ]
     },
     "execution_count": 30,
     "metadata": {},
     "output_type": "execute_result"
    }
   ],
   "source": [
    "kece_gg12f = kece_gg12[1::2]\n",
    "kece_gg12f.sum() "
   ]
  },
  {
   "cell_type": "markdown",
   "id": "54a6e330-9a31-444c-83cd-c925f84bfbd1",
   "metadata": {},
   "source": [
    "# Table 3: Number of SHS Students by County and Grade"
   ]
  },
  {
   "cell_type": "code",
   "execution_count": 32,
   "id": "6dd53d8e-ff3a-4bc2-b068-710fc9fe2c8d",
   "metadata": {},
   "outputs": [
    {
     "data": {
      "text/plain": [
       "County\n",
       "Bomi                 1663.0\n",
       "Bong                 2880.0\n",
       "Gbarpolu              140.0\n",
       "Grand Bassa          1493.0\n",
       "Grand Cape Mount     1172.0\n",
       "Grand Gedeh          2786.0\n",
       "Grand Kru             438.0\n",
       "Lofa                 1649.0\n",
       "Margibi              4073.0\n",
       "Maryland              230.0\n",
       "Montserrado 1       26003.0\n",
       "Montserrado 2       19342.0\n",
       "Nimba                6007.0\n",
       "River Gee             409.0\n",
       "Rivercess             153.0\n",
       "Sinoe                1592.0\n",
       "dtype: float64"
      ]
     },
     "execution_count": 32,
     "metadata": {},
     "output_type": "execute_result"
    }
   ],
   "source": [
    "kece_cos = pd.concat([kece_c, kece_o, kece_s], axis = 1).groupby(['County']).sum()\n",
    "kece_cos.sum(1)"
   ]
  },
  {
   "cell_type": "code",
   "execution_count": 36,
   "id": "15c59238-74ae-4e39-8925-73e0a3fe892f",
   "metadata": {},
   "outputs": [
    {
     "data": {
      "text/plain": [
       "County\n",
       "Bomi                 611.0\n",
       "Bong                1057.0\n",
       "Gbarpolu              61.0\n",
       "Grand Bassa          680.0\n",
       "Grand Cape Mount     500.0\n",
       "Grand Gedeh          971.0\n",
       "Grand Kru            201.0\n",
       "Lofa                 643.0\n",
       "Margibi             1632.0\n",
       "Maryland              94.0\n",
       "Montserrado 1       9116.0\n",
       "Montserrado 2       6668.0\n",
       "Nimba               2286.0\n",
       "River Gee            163.0\n",
       "Rivercess             45.0\n",
       "Sinoe                685.0\n",
       "dtype: float64"
      ]
     },
     "execution_count": 36,
     "metadata": {},
     "output_type": "execute_result"
    }
   ],
   "source": [
    "kece_cos10 = kece_cos.iloc[:,::3]\n",
    "kece_cos10.sum(1)#.sum()\n"
   ]
  },
  {
   "cell_type": "code",
   "execution_count": 37,
   "id": "29bd0a85-1081-4959-9c62-30df13142614",
   "metadata": {},
   "outputs": [
    {
     "data": {
      "text/plain": [
       "County\n",
       "Bomi                 568.0\n",
       "Bong                 988.0\n",
       "Gbarpolu              45.0\n",
       "Grand Bassa          439.0\n",
       "Grand Cape Mount     402.0\n",
       "Grand Gedeh          907.0\n",
       "Grand Kru            150.0\n",
       "Lofa                 574.0\n",
       "Margibi             1380.0\n",
       "Maryland              84.0\n",
       "Montserrado 1       8443.0\n",
       "Montserrado 2       6354.0\n",
       "Nimba               1809.0\n",
       "River Gee            151.0\n",
       "Rivercess             48.0\n",
       "Sinoe                498.0\n",
       "dtype: float64"
      ]
     },
     "execution_count": 37,
     "metadata": {},
     "output_type": "execute_result"
    }
   ],
   "source": [
    "kece_cos11 =kece_cos.iloc[:,1::3]\n",
    "kece_cos11.sum(1)#.sum()\n"
   ]
  },
  {
   "cell_type": "code",
   "execution_count": 38,
   "id": "5b75bae0-7500-4a42-976d-3310156f090f",
   "metadata": {},
   "outputs": [
    {
     "data": {
      "text/plain": [
       "County\n",
       "Bomi                 484.0\n",
       "Bong                 835.0\n",
       "Gbarpolu              34.0\n",
       "Grand Bassa          374.0\n",
       "Grand Cape Mount     270.0\n",
       "Grand Gedeh          908.0\n",
       "Grand Kru             87.0\n",
       "Lofa                 432.0\n",
       "Margibi             1061.0\n",
       "Maryland              52.0\n",
       "Montserrado 1       8444.0\n",
       "Montserrado 2       6320.0\n",
       "Nimba               1912.0\n",
       "River Gee             95.0\n",
       "Rivercess             60.0\n",
       "Sinoe                409.0\n",
       "dtype: float64"
      ]
     },
     "execution_count": 38,
     "metadata": {},
     "output_type": "execute_result"
    }
   ],
   "source": [
    "kece_cos12 = kece_cos.iloc[:,2::3]\n",
    "kece_cos12.sum(1)#.sum()\n"
   ]
  },
  {
   "cell_type": "code",
   "execution_count": null,
   "id": "1adb1402-ae77-41c9-b0bb-c5dc2fedae65",
   "metadata": {},
   "outputs": [],
   "source": []
  },
  {
   "cell_type": "markdown",
   "id": "89b16cfe-16cf-4e9a-b242-8268bdc99284",
   "metadata": {},
   "source": [
    "# Table 4: SHS Students by County and Gender"
   ]
  },
  {
   "cell_type": "code",
   "execution_count": 44,
   "id": "7e348735-be98-42fe-8213-e3529b1f6bff",
   "metadata": {},
   "outputs": [
    {
     "data": {
      "text/plain": [
       "County\n",
       "Bomi                 1663.0\n",
       "Bong                 2880.0\n",
       "Gbarpolu              140.0\n",
       "Grand Bassa          1493.0\n",
       "Grand Cape Mount     1172.0\n",
       "Grand Gedeh          2786.0\n",
       "Grand Kru             438.0\n",
       "Lofa                 1649.0\n",
       "Margibi              4073.0\n",
       "Maryland              230.0\n",
       "Montserrado 1       26003.0\n",
       "Montserrado 2       19342.0\n",
       "Nimba                6007.0\n",
       "River Gee             409.0\n",
       "Rivercess             153.0\n",
       "Sinoe                1592.0\n",
       "dtype: float64"
      ]
     },
     "execution_count": 44,
     "metadata": {},
     "output_type": "execute_result"
    }
   ],
   "source": [
    "kece_cg = pd.concat([kece_c, kece_s], axis = 1).groupby(['County']).sum()\n",
    "kece_cg.sum(1)#.sum()"
   ]
  },
  {
   "cell_type": "code",
   "execution_count": 46,
   "id": "b42070f7-c2f7-4520-bd42-2932d7766b35",
   "metadata": {},
   "outputs": [
    {
     "data": {
      "text/plain": [
       "County\n",
       "Bomi                  861.0\n",
       "Bong                 1477.0\n",
       "Gbarpolu               78.0\n",
       "Grand Bassa           922.0\n",
       "Grand Cape Mount      680.0\n",
       "Grand Gedeh          1644.0\n",
       "Grand Kru             237.0\n",
       "Lofa                  973.0\n",
       "Margibi              2145.0\n",
       "Maryland              125.0\n",
       "Montserrado 1       12386.0\n",
       "Montserrado 2        9775.0\n",
       "Nimba                3222.0\n",
       "River Gee             233.0\n",
       "Rivercess             100.0\n",
       "Sinoe                 911.0\n",
       "dtype: float64"
      ]
     },
     "execution_count": 46,
     "metadata": {},
     "output_type": "execute_result"
    }
   ],
   "source": [
    "kece_cgm = pd.concat([kece_cg.iloc[:,0:3],\n",
    "kece_cg.iloc[:,6:9],\n",
    "kece_cg.iloc[:,12:15],\n",
    "kece_cg.iloc[:,18:21],\n",
    "kece_cg.iloc[:,24:27],\n",
    "kece_cg.iloc[:,30:33],\n",
    "kece_cg.iloc[:,36:39],\n",
    "kece_cg.iloc[:,42:45],\n",
    "kece_cg.iloc[:,48:51],\n",
    "kece_cg.iloc[:,54:57],\n",
    "kece_cg.iloc[:,60:63]],axis=1)\n",
    "kece_cgm.sum(1)#.sum()"
   ]
  },
  {
   "cell_type": "code",
   "execution_count": 47,
   "id": "da2018fd-347a-4823-a780-41892f290a82",
   "metadata": {},
   "outputs": [
    {
     "data": {
      "text/plain": [
       "County\n",
       "Bomi                  802.0\n",
       "Bong                 1403.0\n",
       "Gbarpolu               62.0\n",
       "Grand Bassa           571.0\n",
       "Grand Cape Mount      492.0\n",
       "Grand Gedeh          1142.0\n",
       "Grand Kru             201.0\n",
       "Lofa                  676.0\n",
       "Margibi              1928.0\n",
       "Maryland              105.0\n",
       "Montserrado 1       13617.0\n",
       "Montserrado 2        9567.0\n",
       "Nimba                2785.0\n",
       "River Gee             176.0\n",
       "Rivercess              53.0\n",
       "Sinoe                 681.0\n",
       "dtype: float64"
      ]
     },
     "execution_count": 47,
     "metadata": {},
     "output_type": "execute_result"
    }
   ],
   "source": [
    "kece_cgf = kece_cg.sum(1)-kece_cgm.sum(1)\n",
    "kece_cgf"
   ]
  },
  {
   "cell_type": "markdown",
   "id": "ed5fe0d3-41d1-4bdc-b039-a88c16577153",
   "metadata": {},
   "source": [
    "# Table 5: ECE Enrollment by County and Ownership"
   ]
  },
  {
   "cell_type": "code",
   "execution_count": 48,
   "id": "7c24e05d-bf85-4b5d-a725-14488dcc3673",
   "metadata": {},
   "outputs": [
    {
     "data": {
      "text/plain": [
       "County            Type of school\n",
       "Bomi              Community             0.0\n",
       "                  Faith-based         123.0\n",
       "                  Private            1040.0\n",
       "                  Public              500.0\n",
       "Bong              Community             0.0\n",
       "                  Faith-based         691.0\n",
       "                  Private             645.0\n",
       "                  Public             1544.0\n",
       "Gbarpolu          Community             0.0\n",
       "                  Faith-based           0.0\n",
       "                  Private               0.0\n",
       "                  Public              140.0\n",
       "Grand Bassa       Community             0.0\n",
       "                  Faith-based           0.0\n",
       "                  Private             521.0\n",
       "                  Public              972.0\n",
       "Grand Cape Mount  Community             0.0\n",
       "                  Faith-based          55.0\n",
       "                  Private             300.0\n",
       "                  Public              817.0\n",
       "Grand Gedeh       Community             5.0\n",
       "                  Faith-based        1273.0\n",
       "                  Private             812.0\n",
       "                  Public              696.0\n",
       "Grand Kru         Faith-based         167.0\n",
       "                  Private              82.0\n",
       "                  Public              189.0\n",
       "Lofa              Community            27.0\n",
       "                  Faith-based         445.0\n",
       "                  Private             128.0\n",
       "                  Public             1049.0\n",
       "Margibi           Community           600.0\n",
       "                  Faith-based         650.0\n",
       "                  Private             906.0\n",
       "                  Public             1917.0\n",
       "Maryland          Private             214.0\n",
       "                  Public               16.0\n",
       "Montserrado 1     Community           291.0\n",
       "                  Faith-based        9978.0\n",
       "                  Private           13289.0\n",
       "                  Public             2445.0\n",
       "Montserrado 2     Community             0.0\n",
       "                  Faith-based        3893.0\n",
       "                  Private           11041.0\n",
       "                  Public             4408.0\n",
       "Nimba             Community           100.0\n",
       "                  Faith-based        1696.0\n",
       "                  Private             938.0\n",
       "                  Public             3273.0\n",
       "River Gee         Faith-based           0.0\n",
       "                  Private               0.0\n",
       "                  Public              409.0\n",
       "Rivercess         Community             0.0\n",
       "                  Faith-based           0.0\n",
       "                  Private               0.0\n",
       "                  Public              153.0\n",
       "Sinoe             Community             0.0\n",
       "                  Faith-based         560.0\n",
       "                  Private              46.0\n",
       "                  Public              986.0\n",
       "dtype: float64"
      ]
     },
     "execution_count": 48,
     "metadata": {},
     "output_type": "execute_result"
    }
   ],
   "source": [
    "pd.concat([kece_c, kece_o, kece_s], axis = 1).groupby(['County', 'Type of school']).sum().sum(1)"
   ]
  },
  {
   "cell_type": "code",
   "execution_count": null,
   "id": "32f7c120-f693-4519-aaa3-587e7e9c2188",
   "metadata": {},
   "outputs": [],
   "source": []
  },
  {
   "cell_type": "code",
   "execution_count": null,
   "id": "4f253cbe-09b1-44e3-b4df-e4951549ba2d",
   "metadata": {},
   "outputs": [],
   "source": []
  },
  {
   "cell_type": "markdown",
   "id": "5fac7e1b-3965-4b29-a68f-a117d074c32f",
   "metadata": {},
   "source": [
    "# Table 6: SHS Enrollment by District and Gender"
   ]
  },
  {
   "cell_type": "code",
   "execution_count": 49,
   "id": "91f15aae-7d9d-4025-9bf5-a1ac9d4e92bc",
   "metadata": {},
   "outputs": [
    {
     "data": {
      "text/html": [
       "<div>\n",
       "<style scoped>\n",
       "    .dataframe tbody tr th:only-of-type {\n",
       "        vertical-align: middle;\n",
       "    }\n",
       "\n",
       "    .dataframe tbody tr th {\n",
       "        vertical-align: top;\n",
       "    }\n",
       "\n",
       "    .dataframe thead th {\n",
       "        text-align: right;\n",
       "    }\n",
       "</style>\n",
       "<table border=\"1\" class=\"dataframe\">\n",
       "  <thead>\n",
       "    <tr style=\"text-align: right;\">\n",
       "      <th></th>\n",
       "      <th>How many students below Age 12 years old in Grade 10 are MALES?</th>\n",
       "      <th>How many students below Age 12 years old in Grade 11 are MALES?</th>\n",
       "      <th>How many students below Age 12 years old in Grade 12 are MALES?</th>\n",
       "      <th>How many students below Age 12 years old in Grade 10 are FEMALES?</th>\n",
       "      <th>How many students below Age 12 years old in Grade 11 are FEMALES?</th>\n",
       "      <th>How many students below Age 12 years old in Grade 12 are FEMALES?</th>\n",
       "      <th>How many students Age 12 years old in Grade 10 are MALES?</th>\n",
       "      <th>How many students Age 12 years old in Grade 11 are MALES?</th>\n",
       "      <th>How many students Age 12 years old in Grade 12 are MALES?</th>\n",
       "      <th>How many students Age 12 years old in Grade 10 are FEMALES?</th>\n",
       "      <th>How many students Age 12 years old in Grade 11 are FEMALES?</th>\n",
       "      <th>How many students Age 12 years old in Grade 12 are FEMALES?</th>\n",
       "      <th>How many students  Age 13 years old in Grade 10 are MALES?</th>\n",
       "      <th>How many students  Age 13 years old in Grade 11 are MALES?</th>\n",
       "      <th>How many students  Age 13 years old in Grade 12 are MALES?</th>\n",
       "      <th>How many students  Age 13 years old in Grade 10 are FEMALES?</th>\n",
       "      <th>How many students  Age 13 years old in Grade 11 are FEMALES?</th>\n",
       "      <th>How many students  Age 13 years old in Grade 12 are FEMALES?</th>\n",
       "      <th>How many students  Age 14 years old in Grade 10 are MALES?</th>\n",
       "      <th>How many students  Age 14 years old in Grade 11 are MALES?</th>\n",
       "      <th>How many students  Age 14 years old in Grade 12 are MALES?</th>\n",
       "      <th>How many students  Age 14 years old in Grade 10 are FEMALES?</th>\n",
       "      <th>How many students  Age 14 years old in Grade 11 are FEMALES?</th>\n",
       "      <th>How many students  Age 14 years old in Grade 12 are FEMALES?</th>\n",
       "      <th>How many students  Age 15 years old in Grade 10 are MALES?</th>\n",
       "      <th>How many students  Age 15 years old in Grade 11 are MALES?</th>\n",
       "      <th>How many students  Age 15 years old in Grade 12 are MALES?</th>\n",
       "      <th>How many students  age 15 Years old  in Grade 10 are FEMALES?</th>\n",
       "      <th>How many students  age 15 Years old  in Grade 11 are FEMALES?</th>\n",
       "      <th>How many students  age 15 Years old  in Grade 12 are FEMALES?</th>\n",
       "      <th>How many students age 16 Years old  in Grade 10 are MALES?</th>\n",
       "      <th>How many students age 16 Years old  in Grade 11 are MALES?</th>\n",
       "      <th>How many students age 16 Years old  in Grade 12 are MALES?</th>\n",
       "      <th>How many students  above Age 16 in Grade 10 are FEMALES?</th>\n",
       "      <th>How many students  above Age 16 in Grade 11 are FEMALES?</th>\n",
       "      <th>How many students  above Age 16 in Grade 12 are FEMALES?</th>\n",
       "      <th>How many students age 17 in Grade 10 are MALES?</th>\n",
       "      <th>How many students age 17 in Grade 11 are MALES?</th>\n",
       "      <th>How many students age 17 in Grade 12 are MALES?</th>\n",
       "      <th>How many students age 17 in Grade 10 are FEMALES?</th>\n",
       "      <th>How many students age 17 in Grade 11 are FEMALES?</th>\n",
       "      <th>How many students age 17 in Grade 12 are FEMALES?</th>\n",
       "      <th>How many students age 18 in Grade 10 are MALES?</th>\n",
       "      <th>How many students age 18 in Grade 11 are MALES?</th>\n",
       "      <th>How many students age 18 in Grade 12 are MALES?</th>\n",
       "      <th>How many students age 18 in Grade 10 are FEMALES?</th>\n",
       "      <th>How many students age 18 in Grade 11 are FEMALES?</th>\n",
       "      <th>How many students age 18 in Grade 12 are FEMALES?</th>\n",
       "      <th>How many students age 19 in Grade 10 are MALES?</th>\n",
       "      <th>How many students age 19 in Grade 11 are MALES?</th>\n",
       "      <th>How many students age 19 in Grade 12 are MALES?</th>\n",
       "      <th>How many students age 19 in Grade 10 are FEMALES?</th>\n",
       "      <th>How many students age 19 in Grade 11 are FEMALES?</th>\n",
       "      <th>How many students age 19 in Grade 12 are FEMALES?</th>\n",
       "      <th>How many students age 20 in Grade 10 are MALES?</th>\n",
       "      <th>How many students age 20 in Grade 11 are MALES?</th>\n",
       "      <th>How many students age 20 in Grade 12 are MALES?</th>\n",
       "      <th>How many students age 20 in Grade 10 are FEMALES?</th>\n",
       "      <th>How many students age 20 in Grade 11 that are FEMALES?</th>\n",
       "      <th>How many students age 20 in Grade 12 that are FEMALES?</th>\n",
       "      <th>How many students above age 20 in Grade 10 that are MALES?</th>\n",
       "      <th>How many students above age 20 in Grade 11 that are MALES?</th>\n",
       "      <th>How many students above age 20 in Grade 12 that are MALES?</th>\n",
       "      <th>How many students above age 20 in Grade 10 that are FEMALES?</th>\n",
       "      <th>How many students above age 20 in Grade 11 that are FEMALES?</th>\n",
       "      <th>How many students above age 20 in Grade 12 that are FEMALES?</th>\n",
       "    </tr>\n",
       "  </thead>\n",
       "  <tbody>\n",
       "    <tr>\n",
       "      <th>0</th>\n",
       "      <td>NaN</td>\n",
       "      <td>NaN</td>\n",
       "      <td>NaN</td>\n",
       "      <td>NaN</td>\n",
       "      <td>NaN</td>\n",
       "      <td>NaN</td>\n",
       "      <td>NaN</td>\n",
       "      <td>NaN</td>\n",
       "      <td>NaN</td>\n",
       "      <td>NaN</td>\n",
       "      <td>NaN</td>\n",
       "      <td>NaN</td>\n",
       "      <td>NaN</td>\n",
       "      <td>NaN</td>\n",
       "      <td>NaN</td>\n",
       "      <td>NaN</td>\n",
       "      <td>NaN</td>\n",
       "      <td>NaN</td>\n",
       "      <td>NaN</td>\n",
       "      <td>NaN</td>\n",
       "      <td>NaN</td>\n",
       "      <td>NaN</td>\n",
       "      <td>NaN</td>\n",
       "      <td>NaN</td>\n",
       "      <td>NaN</td>\n",
       "      <td>NaN</td>\n",
       "      <td>NaN</td>\n",
       "      <td>NaN</td>\n",
       "      <td>NaN</td>\n",
       "      <td>NaN</td>\n",
       "      <td>NaN</td>\n",
       "      <td>NaN</td>\n",
       "      <td>NaN</td>\n",
       "      <td>NaN</td>\n",
       "      <td>NaN</td>\n",
       "      <td>NaN</td>\n",
       "      <td>NaN</td>\n",
       "      <td>NaN</td>\n",
       "      <td>NaN</td>\n",
       "      <td>NaN</td>\n",
       "      <td>NaN</td>\n",
       "      <td>NaN</td>\n",
       "      <td>NaN</td>\n",
       "      <td>NaN</td>\n",
       "      <td>NaN</td>\n",
       "      <td>NaN</td>\n",
       "      <td>NaN</td>\n",
       "      <td>NaN</td>\n",
       "      <td>NaN</td>\n",
       "      <td>NaN</td>\n",
       "      <td>NaN</td>\n",
       "      <td>NaN</td>\n",
       "      <td>NaN</td>\n",
       "      <td>NaN</td>\n",
       "      <td>NaN</td>\n",
       "      <td>NaN</td>\n",
       "      <td>NaN</td>\n",
       "      <td>NaN</td>\n",
       "      <td>NaN</td>\n",
       "      <td>NaN</td>\n",
       "      <td>NaN</td>\n",
       "      <td>NaN</td>\n",
       "      <td>NaN</td>\n",
       "      <td>NaN</td>\n",
       "      <td>NaN</td>\n",
       "      <td>NaN</td>\n",
       "    </tr>\n",
       "    <tr>\n",
       "      <th>1</th>\n",
       "      <td>NaN</td>\n",
       "      <td>NaN</td>\n",
       "      <td>NaN</td>\n",
       "      <td>NaN</td>\n",
       "      <td>NaN</td>\n",
       "      <td>NaN</td>\n",
       "      <td>NaN</td>\n",
       "      <td>NaN</td>\n",
       "      <td>NaN</td>\n",
       "      <td>NaN</td>\n",
       "      <td>NaN</td>\n",
       "      <td>NaN</td>\n",
       "      <td>NaN</td>\n",
       "      <td>NaN</td>\n",
       "      <td>NaN</td>\n",
       "      <td>NaN</td>\n",
       "      <td>NaN</td>\n",
       "      <td>NaN</td>\n",
       "      <td>NaN</td>\n",
       "      <td>NaN</td>\n",
       "      <td>NaN</td>\n",
       "      <td>NaN</td>\n",
       "      <td>NaN</td>\n",
       "      <td>NaN</td>\n",
       "      <td>NaN</td>\n",
       "      <td>NaN</td>\n",
       "      <td>NaN</td>\n",
       "      <td>NaN</td>\n",
       "      <td>NaN</td>\n",
       "      <td>NaN</td>\n",
       "      <td>NaN</td>\n",
       "      <td>NaN</td>\n",
       "      <td>NaN</td>\n",
       "      <td>NaN</td>\n",
       "      <td>NaN</td>\n",
       "      <td>NaN</td>\n",
       "      <td>NaN</td>\n",
       "      <td>NaN</td>\n",
       "      <td>NaN</td>\n",
       "      <td>NaN</td>\n",
       "      <td>NaN</td>\n",
       "      <td>NaN</td>\n",
       "      <td>NaN</td>\n",
       "      <td>NaN</td>\n",
       "      <td>NaN</td>\n",
       "      <td>NaN</td>\n",
       "      <td>NaN</td>\n",
       "      <td>NaN</td>\n",
       "      <td>NaN</td>\n",
       "      <td>NaN</td>\n",
       "      <td>NaN</td>\n",
       "      <td>NaN</td>\n",
       "      <td>NaN</td>\n",
       "      <td>NaN</td>\n",
       "      <td>NaN</td>\n",
       "      <td>NaN</td>\n",
       "      <td>NaN</td>\n",
       "      <td>NaN</td>\n",
       "      <td>NaN</td>\n",
       "      <td>NaN</td>\n",
       "      <td>NaN</td>\n",
       "      <td>NaN</td>\n",
       "      <td>NaN</td>\n",
       "      <td>NaN</td>\n",
       "      <td>NaN</td>\n",
       "      <td>NaN</td>\n",
       "    </tr>\n",
       "    <tr>\n",
       "      <th>2</th>\n",
       "      <td>NaN</td>\n",
       "      <td>NaN</td>\n",
       "      <td>NaN</td>\n",
       "      <td>NaN</td>\n",
       "      <td>NaN</td>\n",
       "      <td>NaN</td>\n",
       "      <td>NaN</td>\n",
       "      <td>NaN</td>\n",
       "      <td>NaN</td>\n",
       "      <td>NaN</td>\n",
       "      <td>NaN</td>\n",
       "      <td>NaN</td>\n",
       "      <td>NaN</td>\n",
       "      <td>NaN</td>\n",
       "      <td>NaN</td>\n",
       "      <td>NaN</td>\n",
       "      <td>NaN</td>\n",
       "      <td>NaN</td>\n",
       "      <td>NaN</td>\n",
       "      <td>NaN</td>\n",
       "      <td>NaN</td>\n",
       "      <td>NaN</td>\n",
       "      <td>NaN</td>\n",
       "      <td>NaN</td>\n",
       "      <td>NaN</td>\n",
       "      <td>NaN</td>\n",
       "      <td>NaN</td>\n",
       "      <td>NaN</td>\n",
       "      <td>NaN</td>\n",
       "      <td>NaN</td>\n",
       "      <td>NaN</td>\n",
       "      <td>NaN</td>\n",
       "      <td>NaN</td>\n",
       "      <td>NaN</td>\n",
       "      <td>NaN</td>\n",
       "      <td>NaN</td>\n",
       "      <td>NaN</td>\n",
       "      <td>NaN</td>\n",
       "      <td>NaN</td>\n",
       "      <td>NaN</td>\n",
       "      <td>NaN</td>\n",
       "      <td>NaN</td>\n",
       "      <td>NaN</td>\n",
       "      <td>NaN</td>\n",
       "      <td>NaN</td>\n",
       "      <td>NaN</td>\n",
       "      <td>NaN</td>\n",
       "      <td>NaN</td>\n",
       "      <td>NaN</td>\n",
       "      <td>NaN</td>\n",
       "      <td>NaN</td>\n",
       "      <td>NaN</td>\n",
       "      <td>NaN</td>\n",
       "      <td>NaN</td>\n",
       "      <td>NaN</td>\n",
       "      <td>NaN</td>\n",
       "      <td>NaN</td>\n",
       "      <td>NaN</td>\n",
       "      <td>NaN</td>\n",
       "      <td>NaN</td>\n",
       "      <td>NaN</td>\n",
       "      <td>NaN</td>\n",
       "      <td>NaN</td>\n",
       "      <td>NaN</td>\n",
       "      <td>NaN</td>\n",
       "      <td>NaN</td>\n",
       "    </tr>\n",
       "    <tr>\n",
       "      <th>3</th>\n",
       "      <td>NaN</td>\n",
       "      <td>NaN</td>\n",
       "      <td>NaN</td>\n",
       "      <td>NaN</td>\n",
       "      <td>NaN</td>\n",
       "      <td>NaN</td>\n",
       "      <td>NaN</td>\n",
       "      <td>NaN</td>\n",
       "      <td>NaN</td>\n",
       "      <td>NaN</td>\n",
       "      <td>NaN</td>\n",
       "      <td>NaN</td>\n",
       "      <td>NaN</td>\n",
       "      <td>NaN</td>\n",
       "      <td>NaN</td>\n",
       "      <td>NaN</td>\n",
       "      <td>NaN</td>\n",
       "      <td>NaN</td>\n",
       "      <td>NaN</td>\n",
       "      <td>NaN</td>\n",
       "      <td>NaN</td>\n",
       "      <td>NaN</td>\n",
       "      <td>NaN</td>\n",
       "      <td>NaN</td>\n",
       "      <td>NaN</td>\n",
       "      <td>NaN</td>\n",
       "      <td>NaN</td>\n",
       "      <td>NaN</td>\n",
       "      <td>NaN</td>\n",
       "      <td>NaN</td>\n",
       "      <td>NaN</td>\n",
       "      <td>NaN</td>\n",
       "      <td>NaN</td>\n",
       "      <td>NaN</td>\n",
       "      <td>NaN</td>\n",
       "      <td>NaN</td>\n",
       "      <td>NaN</td>\n",
       "      <td>NaN</td>\n",
       "      <td>NaN</td>\n",
       "      <td>NaN</td>\n",
       "      <td>NaN</td>\n",
       "      <td>NaN</td>\n",
       "      <td>NaN</td>\n",
       "      <td>NaN</td>\n",
       "      <td>NaN</td>\n",
       "      <td>NaN</td>\n",
       "      <td>NaN</td>\n",
       "      <td>NaN</td>\n",
       "      <td>NaN</td>\n",
       "      <td>NaN</td>\n",
       "      <td>NaN</td>\n",
       "      <td>NaN</td>\n",
       "      <td>NaN</td>\n",
       "      <td>NaN</td>\n",
       "      <td>NaN</td>\n",
       "      <td>NaN</td>\n",
       "      <td>NaN</td>\n",
       "      <td>NaN</td>\n",
       "      <td>NaN</td>\n",
       "      <td>NaN</td>\n",
       "      <td>NaN</td>\n",
       "      <td>NaN</td>\n",
       "      <td>NaN</td>\n",
       "      <td>NaN</td>\n",
       "      <td>NaN</td>\n",
       "      <td>NaN</td>\n",
       "    </tr>\n",
       "    <tr>\n",
       "      <th>4</th>\n",
       "      <td>NaN</td>\n",
       "      <td>NaN</td>\n",
       "      <td>NaN</td>\n",
       "      <td>NaN</td>\n",
       "      <td>NaN</td>\n",
       "      <td>NaN</td>\n",
       "      <td>NaN</td>\n",
       "      <td>NaN</td>\n",
       "      <td>NaN</td>\n",
       "      <td>NaN</td>\n",
       "      <td>NaN</td>\n",
       "      <td>NaN</td>\n",
       "      <td>NaN</td>\n",
       "      <td>NaN</td>\n",
       "      <td>NaN</td>\n",
       "      <td>NaN</td>\n",
       "      <td>NaN</td>\n",
       "      <td>NaN</td>\n",
       "      <td>NaN</td>\n",
       "      <td>NaN</td>\n",
       "      <td>NaN</td>\n",
       "      <td>NaN</td>\n",
       "      <td>NaN</td>\n",
       "      <td>NaN</td>\n",
       "      <td>NaN</td>\n",
       "      <td>NaN</td>\n",
       "      <td>NaN</td>\n",
       "      <td>NaN</td>\n",
       "      <td>NaN</td>\n",
       "      <td>NaN</td>\n",
       "      <td>NaN</td>\n",
       "      <td>NaN</td>\n",
       "      <td>NaN</td>\n",
       "      <td>NaN</td>\n",
       "      <td>NaN</td>\n",
       "      <td>NaN</td>\n",
       "      <td>NaN</td>\n",
       "      <td>NaN</td>\n",
       "      <td>NaN</td>\n",
       "      <td>NaN</td>\n",
       "      <td>NaN</td>\n",
       "      <td>NaN</td>\n",
       "      <td>NaN</td>\n",
       "      <td>NaN</td>\n",
       "      <td>NaN</td>\n",
       "      <td>NaN</td>\n",
       "      <td>NaN</td>\n",
       "      <td>NaN</td>\n",
       "      <td>NaN</td>\n",
       "      <td>NaN</td>\n",
       "      <td>NaN</td>\n",
       "      <td>NaN</td>\n",
       "      <td>NaN</td>\n",
       "      <td>NaN</td>\n",
       "      <td>NaN</td>\n",
       "      <td>NaN</td>\n",
       "      <td>NaN</td>\n",
       "      <td>NaN</td>\n",
       "      <td>NaN</td>\n",
       "      <td>NaN</td>\n",
       "      <td>NaN</td>\n",
       "      <td>NaN</td>\n",
       "      <td>NaN</td>\n",
       "      <td>NaN</td>\n",
       "      <td>NaN</td>\n",
       "      <td>NaN</td>\n",
       "    </tr>\n",
       "  </tbody>\n",
       "</table>\n",
       "</div>"
      ],
      "text/plain": [
       "   How many students below Age 12 years old in Grade 10 are MALES?  \\\n",
       "0                                                NaN                 \n",
       "1                                                NaN                 \n",
       "2                                                NaN                 \n",
       "3                                                NaN                 \n",
       "4                                                NaN                 \n",
       "\n",
       "   How many students below Age 12 years old in Grade 11 are MALES?  \\\n",
       "0                                                NaN                 \n",
       "1                                                NaN                 \n",
       "2                                                NaN                 \n",
       "3                                                NaN                 \n",
       "4                                                NaN                 \n",
       "\n",
       "   How many students below Age 12 years old in Grade 12 are MALES?  \\\n",
       "0                                                NaN                 \n",
       "1                                                NaN                 \n",
       "2                                                NaN                 \n",
       "3                                                NaN                 \n",
       "4                                                NaN                 \n",
       "\n",
       "   How many students below Age 12 years old in Grade 10 are FEMALES?  \\\n",
       "0                                                NaN                   \n",
       "1                                                NaN                   \n",
       "2                                                NaN                   \n",
       "3                                                NaN                   \n",
       "4                                                NaN                   \n",
       "\n",
       "   How many students below Age 12 years old in Grade 11 are FEMALES?  \\\n",
       "0                                                NaN                   \n",
       "1                                                NaN                   \n",
       "2                                                NaN                   \n",
       "3                                                NaN                   \n",
       "4                                                NaN                   \n",
       "\n",
       "   How many students below Age 12 years old in Grade 12 are FEMALES?  \\\n",
       "0                                                NaN                   \n",
       "1                                                NaN                   \n",
       "2                                                NaN                   \n",
       "3                                                NaN                   \n",
       "4                                                NaN                   \n",
       "\n",
       "   How many students Age 12 years old in Grade 10 are MALES?  \\\n",
       "0                                                NaN           \n",
       "1                                                NaN           \n",
       "2                                                NaN           \n",
       "3                                                NaN           \n",
       "4                                                NaN           \n",
       "\n",
       "   How many students Age 12 years old in Grade 11 are MALES?  \\\n",
       "0                                                NaN           \n",
       "1                                                NaN           \n",
       "2                                                NaN           \n",
       "3                                                NaN           \n",
       "4                                                NaN           \n",
       "\n",
       "   How many students Age 12 years old in Grade 12 are MALES?  \\\n",
       "0                                                NaN           \n",
       "1                                                NaN           \n",
       "2                                                NaN           \n",
       "3                                                NaN           \n",
       "4                                                NaN           \n",
       "\n",
       "   How many students Age 12 years old in Grade 10 are FEMALES?  \\\n",
       "0                                                NaN             \n",
       "1                                                NaN             \n",
       "2                                                NaN             \n",
       "3                                                NaN             \n",
       "4                                                NaN             \n",
       "\n",
       "   How many students Age 12 years old in Grade 11 are FEMALES?  \\\n",
       "0                                                NaN             \n",
       "1                                                NaN             \n",
       "2                                                NaN             \n",
       "3                                                NaN             \n",
       "4                                                NaN             \n",
       "\n",
       "   How many students Age 12 years old in Grade 12 are FEMALES?  \\\n",
       "0                                                NaN             \n",
       "1                                                NaN             \n",
       "2                                                NaN             \n",
       "3                                                NaN             \n",
       "4                                                NaN             \n",
       "\n",
       "   How many students  Age 13 years old in Grade 10 are MALES?  \\\n",
       "0                                                NaN            \n",
       "1                                                NaN            \n",
       "2                                                NaN            \n",
       "3                                                NaN            \n",
       "4                                                NaN            \n",
       "\n",
       "   How many students  Age 13 years old in Grade 11 are MALES?  \\\n",
       "0                                                NaN            \n",
       "1                                                NaN            \n",
       "2                                                NaN            \n",
       "3                                                NaN            \n",
       "4                                                NaN            \n",
       "\n",
       "   How many students  Age 13 years old in Grade 12 are MALES?  \\\n",
       "0                                                NaN            \n",
       "1                                                NaN            \n",
       "2                                                NaN            \n",
       "3                                                NaN            \n",
       "4                                                NaN            \n",
       "\n",
       "   How many students  Age 13 years old in Grade 10 are FEMALES?  \\\n",
       "0                                                NaN              \n",
       "1                                                NaN              \n",
       "2                                                NaN              \n",
       "3                                                NaN              \n",
       "4                                                NaN              \n",
       "\n",
       "   How many students  Age 13 years old in Grade 11 are FEMALES?  \\\n",
       "0                                                NaN              \n",
       "1                                                NaN              \n",
       "2                                                NaN              \n",
       "3                                                NaN              \n",
       "4                                                NaN              \n",
       "\n",
       "   How many students  Age 13 years old in Grade 12 are FEMALES?  \\\n",
       "0                                                NaN              \n",
       "1                                                NaN              \n",
       "2                                                NaN              \n",
       "3                                                NaN              \n",
       "4                                                NaN              \n",
       "\n",
       "   How many students  Age 14 years old in Grade 10 are MALES?  \\\n",
       "0                                                NaN            \n",
       "1                                                NaN            \n",
       "2                                                NaN            \n",
       "3                                                NaN            \n",
       "4                                                NaN            \n",
       "\n",
       "   How many students  Age 14 years old in Grade 11 are MALES?  \\\n",
       "0                                                NaN            \n",
       "1                                                NaN            \n",
       "2                                                NaN            \n",
       "3                                                NaN            \n",
       "4                                                NaN            \n",
       "\n",
       "   How many students  Age 14 years old in Grade 12 are MALES?  \\\n",
       "0                                                NaN            \n",
       "1                                                NaN            \n",
       "2                                                NaN            \n",
       "3                                                NaN            \n",
       "4                                                NaN            \n",
       "\n",
       "   How many students  Age 14 years old in Grade 10 are FEMALES?  \\\n",
       "0                                                NaN              \n",
       "1                                                NaN              \n",
       "2                                                NaN              \n",
       "3                                                NaN              \n",
       "4                                                NaN              \n",
       "\n",
       "   How many students  Age 14 years old in Grade 11 are FEMALES?  \\\n",
       "0                                                NaN              \n",
       "1                                                NaN              \n",
       "2                                                NaN              \n",
       "3                                                NaN              \n",
       "4                                                NaN              \n",
       "\n",
       "   How many students  Age 14 years old in Grade 12 are FEMALES?  \\\n",
       "0                                                NaN              \n",
       "1                                                NaN              \n",
       "2                                                NaN              \n",
       "3                                                NaN              \n",
       "4                                                NaN              \n",
       "\n",
       "   How many students  Age 15 years old in Grade 10 are MALES?  \\\n",
       "0                                                NaN            \n",
       "1                                                NaN            \n",
       "2                                                NaN            \n",
       "3                                                NaN            \n",
       "4                                                NaN            \n",
       "\n",
       "   How many students  Age 15 years old in Grade 11 are MALES?  \\\n",
       "0                                                NaN            \n",
       "1                                                NaN            \n",
       "2                                                NaN            \n",
       "3                                                NaN            \n",
       "4                                                NaN            \n",
       "\n",
       "   How many students  Age 15 years old in Grade 12 are MALES?  \\\n",
       "0                                                NaN            \n",
       "1                                                NaN            \n",
       "2                                                NaN            \n",
       "3                                                NaN            \n",
       "4                                                NaN            \n",
       "\n",
       "   How many students  age 15 Years old  in Grade 10 are FEMALES?  \\\n",
       "0                                                NaN               \n",
       "1                                                NaN               \n",
       "2                                                NaN               \n",
       "3                                                NaN               \n",
       "4                                                NaN               \n",
       "\n",
       "   How many students  age 15 Years old  in Grade 11 are FEMALES?  \\\n",
       "0                                                NaN               \n",
       "1                                                NaN               \n",
       "2                                                NaN               \n",
       "3                                                NaN               \n",
       "4                                                NaN               \n",
       "\n",
       "   How many students  age 15 Years old  in Grade 12 are FEMALES?  \\\n",
       "0                                                NaN               \n",
       "1                                                NaN               \n",
       "2                                                NaN               \n",
       "3                                                NaN               \n",
       "4                                                NaN               \n",
       "\n",
       "   How many students age 16 Years old  in Grade 10 are MALES?  \\\n",
       "0                                                NaN            \n",
       "1                                                NaN            \n",
       "2                                                NaN            \n",
       "3                                                NaN            \n",
       "4                                                NaN            \n",
       "\n",
       "   How many students age 16 Years old  in Grade 11 are MALES?  \\\n",
       "0                                                NaN            \n",
       "1                                                NaN            \n",
       "2                                                NaN            \n",
       "3                                                NaN            \n",
       "4                                                NaN            \n",
       "\n",
       "   How many students age 16 Years old  in Grade 12 are MALES?  \\\n",
       "0                                                NaN            \n",
       "1                                                NaN            \n",
       "2                                                NaN            \n",
       "3                                                NaN            \n",
       "4                                                NaN            \n",
       "\n",
       "   How many students  above Age 16 in Grade 10 are FEMALES?  \\\n",
       "0                                                NaN          \n",
       "1                                                NaN          \n",
       "2                                                NaN          \n",
       "3                                                NaN          \n",
       "4                                                NaN          \n",
       "\n",
       "   How many students  above Age 16 in Grade 11 are FEMALES?  \\\n",
       "0                                                NaN          \n",
       "1                                                NaN          \n",
       "2                                                NaN          \n",
       "3                                                NaN          \n",
       "4                                                NaN          \n",
       "\n",
       "   How many students  above Age 16 in Grade 12 are FEMALES?  \\\n",
       "0                                                NaN          \n",
       "1                                                NaN          \n",
       "2                                                NaN          \n",
       "3                                                NaN          \n",
       "4                                                NaN          \n",
       "\n",
       "   How many students age 17 in Grade 10 are MALES?  \\\n",
       "0                                              NaN   \n",
       "1                                              NaN   \n",
       "2                                              NaN   \n",
       "3                                              NaN   \n",
       "4                                              NaN   \n",
       "\n",
       "   How many students age 17 in Grade 11 are MALES?  \\\n",
       "0                                              NaN   \n",
       "1                                              NaN   \n",
       "2                                              NaN   \n",
       "3                                              NaN   \n",
       "4                                              NaN   \n",
       "\n",
       "   How many students age 17 in Grade 12 are MALES?  \\\n",
       "0                                              NaN   \n",
       "1                                              NaN   \n",
       "2                                              NaN   \n",
       "3                                              NaN   \n",
       "4                                              NaN   \n",
       "\n",
       "   How many students age 17 in Grade 10 are FEMALES?  \\\n",
       "0                                                NaN   \n",
       "1                                                NaN   \n",
       "2                                                NaN   \n",
       "3                                                NaN   \n",
       "4                                                NaN   \n",
       "\n",
       "   How many students age 17 in Grade 11 are FEMALES?  \\\n",
       "0                                                NaN   \n",
       "1                                                NaN   \n",
       "2                                                NaN   \n",
       "3                                                NaN   \n",
       "4                                                NaN   \n",
       "\n",
       "   How many students age 17 in Grade 12 are FEMALES?  \\\n",
       "0                                                NaN   \n",
       "1                                                NaN   \n",
       "2                                                NaN   \n",
       "3                                                NaN   \n",
       "4                                                NaN   \n",
       "\n",
       "   How many students age 18 in Grade 10 are MALES?  \\\n",
       "0                                              NaN   \n",
       "1                                              NaN   \n",
       "2                                              NaN   \n",
       "3                                              NaN   \n",
       "4                                              NaN   \n",
       "\n",
       "   How many students age 18 in Grade 11 are MALES?  \\\n",
       "0                                              NaN   \n",
       "1                                              NaN   \n",
       "2                                              NaN   \n",
       "3                                              NaN   \n",
       "4                                              NaN   \n",
       "\n",
       "   How many students age 18 in Grade 12 are MALES?  \\\n",
       "0                                              NaN   \n",
       "1                                              NaN   \n",
       "2                                              NaN   \n",
       "3                                              NaN   \n",
       "4                                              NaN   \n",
       "\n",
       "   How many students age 18 in Grade 10 are FEMALES?  \\\n",
       "0                                                NaN   \n",
       "1                                                NaN   \n",
       "2                                                NaN   \n",
       "3                                                NaN   \n",
       "4                                                NaN   \n",
       "\n",
       "   How many students age 18 in Grade 11 are FEMALES?  \\\n",
       "0                                                NaN   \n",
       "1                                                NaN   \n",
       "2                                                NaN   \n",
       "3                                                NaN   \n",
       "4                                                NaN   \n",
       "\n",
       "   How many students age 18 in Grade 12 are FEMALES?  \\\n",
       "0                                                NaN   \n",
       "1                                                NaN   \n",
       "2                                                NaN   \n",
       "3                                                NaN   \n",
       "4                                                NaN   \n",
       "\n",
       "   How many students age 19 in Grade 10 are MALES?  \\\n",
       "0                                              NaN   \n",
       "1                                              NaN   \n",
       "2                                              NaN   \n",
       "3                                              NaN   \n",
       "4                                              NaN   \n",
       "\n",
       "   How many students age 19 in Grade 11 are MALES?  \\\n",
       "0                                              NaN   \n",
       "1                                              NaN   \n",
       "2                                              NaN   \n",
       "3                                              NaN   \n",
       "4                                              NaN   \n",
       "\n",
       "   How many students age 19 in Grade 12 are MALES?  \\\n",
       "0                                              NaN   \n",
       "1                                              NaN   \n",
       "2                                              NaN   \n",
       "3                                              NaN   \n",
       "4                                              NaN   \n",
       "\n",
       "   How many students age 19 in Grade 10 are FEMALES?  \\\n",
       "0                                                NaN   \n",
       "1                                                NaN   \n",
       "2                                                NaN   \n",
       "3                                                NaN   \n",
       "4                                                NaN   \n",
       "\n",
       "   How many students age 19 in Grade 11 are FEMALES?  \\\n",
       "0                                                NaN   \n",
       "1                                                NaN   \n",
       "2                                                NaN   \n",
       "3                                                NaN   \n",
       "4                                                NaN   \n",
       "\n",
       "   How many students age 19 in Grade 12 are FEMALES?  \\\n",
       "0                                                NaN   \n",
       "1                                                NaN   \n",
       "2                                                NaN   \n",
       "3                                                NaN   \n",
       "4                                                NaN   \n",
       "\n",
       "   How many students age 20 in Grade 10 are MALES?  \\\n",
       "0                                              NaN   \n",
       "1                                              NaN   \n",
       "2                                              NaN   \n",
       "3                                              NaN   \n",
       "4                                              NaN   \n",
       "\n",
       "   How many students age 20 in Grade 11 are MALES?  \\\n",
       "0                                              NaN   \n",
       "1                                              NaN   \n",
       "2                                              NaN   \n",
       "3                                              NaN   \n",
       "4                                              NaN   \n",
       "\n",
       "   How many students age 20 in Grade 12 are MALES?  \\\n",
       "0                                              NaN   \n",
       "1                                              NaN   \n",
       "2                                              NaN   \n",
       "3                                              NaN   \n",
       "4                                              NaN   \n",
       "\n",
       "   How many students age 20 in Grade 10 are FEMALES?  \\\n",
       "0                                                NaN   \n",
       "1                                                NaN   \n",
       "2                                                NaN   \n",
       "3                                                NaN   \n",
       "4                                                NaN   \n",
       "\n",
       "   How many students age 20 in Grade 11 that are FEMALES?  \\\n",
       "0                                                NaN        \n",
       "1                                                NaN        \n",
       "2                                                NaN        \n",
       "3                                                NaN        \n",
       "4                                                NaN        \n",
       "\n",
       "   How many students age 20 in Grade 12 that are FEMALES?  \\\n",
       "0                                                NaN        \n",
       "1                                                NaN        \n",
       "2                                                NaN        \n",
       "3                                                NaN        \n",
       "4                                                NaN        \n",
       "\n",
       "   How many students above age 20 in Grade 10 that are MALES?  \\\n",
       "0                                                NaN            \n",
       "1                                                NaN            \n",
       "2                                                NaN            \n",
       "3                                                NaN            \n",
       "4                                                NaN            \n",
       "\n",
       "   How many students above age 20 in Grade 11 that are MALES?  \\\n",
       "0                                                NaN            \n",
       "1                                                NaN            \n",
       "2                                                NaN            \n",
       "3                                                NaN            \n",
       "4                                                NaN            \n",
       "\n",
       "   How many students above age 20 in Grade 12 that are MALES?  \\\n",
       "0                                                NaN            \n",
       "1                                                NaN            \n",
       "2                                                NaN            \n",
       "3                                                NaN            \n",
       "4                                                NaN            \n",
       "\n",
       "   How many students above age 20 in Grade 10 that are FEMALES?  \\\n",
       "0                                                NaN              \n",
       "1                                                NaN              \n",
       "2                                                NaN              \n",
       "3                                                NaN              \n",
       "4                                                NaN              \n",
       "\n",
       "   How many students above age 20 in Grade 11 that are FEMALES?  \\\n",
       "0                                                NaN              \n",
       "1                                                NaN              \n",
       "2                                                NaN              \n",
       "3                                                NaN              \n",
       "4                                                NaN              \n",
       "\n",
       "   How many students above age 20 in Grade 12 that are FEMALES?  \n",
       "0                                                NaN             \n",
       "1                                                NaN             \n",
       "2                                                NaN             \n",
       "3                                                NaN             \n",
       "4                                                NaN             "
      ]
     },
     "execution_count": 49,
     "metadata": {},
     "output_type": "execute_result"
    }
   ],
   "source": [
    "kece_c = kcensus.iloc[:,[2]]\n",
    "kece_d = kcensus.iloc[:,3:19]\n",
    "kece_s.head()"
   ]
  },
  {
   "cell_type": "code",
   "execution_count": 50,
   "id": "1f1e1d30-c765-48e8-a3e5-dcdd6ffc3e0b",
   "metadata": {},
   "outputs": [
    {
     "data": {
      "text/plain": [
       "Index(['County', 'District in Bong County', 'District in Gbarpolu',\n",
       "       'District in River Gee', 'District in Sinoe', 'District in Lofa',\n",
       "       'District in Nimba', 'District in Grand Cape Mount',\n",
       "       'District in Maryland', 'District in Margibi', 'District in Bomi',\n",
       "       'District in Grand Bassa', 'District in Montserrado 2',\n",
       "       'District in Montserrado 1', 'Districts in Grand Kru',\n",
       "       'Districts in Grand Gedeh', 'Districts in River Cess',\n",
       "       'How many students below Age 12 years old in Grade 10 are MALES?',\n",
       "       'How many students below Age 12 years old in Grade 11 are MALES?',\n",
       "       'How many students below Age 12 years old in Grade 12 are MALES?',\n",
       "       'How many students below Age 12 years old in Grade 10 are FEMALES?',\n",
       "       'How many students below Age 12 years old in Grade 11 are FEMALES?',\n",
       "       'How many students below Age 12 years old in Grade 12 are FEMALES?',\n",
       "       'How many students Age 12 years old in Grade 10 are MALES?',\n",
       "       'How many students Age 12 years old in Grade 11 are MALES?',\n",
       "       'How many students Age 12 years old in Grade 12 are MALES?',\n",
       "       'How many students Age 12 years old in Grade 10 are FEMALES?',\n",
       "       'How many students Age 12 years old in Grade 11 are FEMALES?',\n",
       "       'How many students Age 12 years old in Grade 12 are FEMALES?',\n",
       "       'How many students  Age 13 years old in Grade 10 are MALES?',\n",
       "       'How many students  Age 13 years old in Grade 11 are MALES?',\n",
       "       'How many students  Age 13 years old in Grade 12 are MALES?',\n",
       "       'How many students  Age 13 years old in Grade 10 are FEMALES?',\n",
       "       'How many students  Age 13 years old in Grade 11 are FEMALES?',\n",
       "       'How many students  Age 13 years old in Grade 12 are FEMALES?',\n",
       "       'How many students  Age 14 years old in Grade 10 are MALES?',\n",
       "       'How many students  Age 14 years old in Grade 11 are MALES?',\n",
       "       'How many students  Age 14 years old in Grade 12 are MALES?',\n",
       "       'How many students  Age 14 years old in Grade 10 are FEMALES?',\n",
       "       'How many students  Age 14 years old in Grade 11 are FEMALES?',\n",
       "       'How many students  Age 14 years old in Grade 12 are FEMALES?',\n",
       "       'How many students  Age 15 years old in Grade 10 are MALES?',\n",
       "       'How many students  Age 15 years old in Grade 11 are MALES?',\n",
       "       'How many students  Age 15 years old in Grade 12 are MALES?',\n",
       "       'How many students  age 15 Years old  in Grade 10 are FEMALES?',\n",
       "       'How many students  age 15 Years old  in Grade 11 are FEMALES?',\n",
       "       'How many students  age 15 Years old  in Grade 12 are FEMALES?',\n",
       "       'How many students age 16 Years old  in Grade 10 are MALES?',\n",
       "       'How many students age 16 Years old  in Grade 11 are MALES?',\n",
       "       'How many students age 16 Years old  in Grade 12 are MALES?',\n",
       "       'How many students  above Age 16 in Grade 10 are FEMALES?',\n",
       "       'How many students  above Age 16 in Grade 11 are FEMALES?',\n",
       "       'How many students  above Age 16 in Grade 12 are FEMALES?',\n",
       "       'How many students age 17 in Grade 10 are MALES?',\n",
       "       'How many students age 17 in Grade 11 are MALES?',\n",
       "       'How many students age 17 in Grade 12 are MALES?',\n",
       "       'How many students age 17 in Grade 10 are FEMALES?',\n",
       "       'How many students age 17 in Grade 11 are FEMALES?',\n",
       "       'How many students age 17 in Grade 12 are FEMALES?',\n",
       "       'How many students age 18 in Grade 10 are MALES?',\n",
       "       'How many students age 18 in Grade 11 are MALES?',\n",
       "       'How many students age 18 in Grade 12 are MALES?',\n",
       "       'How many students age 18 in Grade 10 are FEMALES?',\n",
       "       'How many students age 18 in Grade 11 are FEMALES?',\n",
       "       'How many students age 18 in Grade 12 are FEMALES?',\n",
       "       'How many students age 19 in Grade 10 are MALES?',\n",
       "       'How many students age 19 in Grade 11 are MALES?',\n",
       "       'How many students age 19 in Grade 12 are MALES?',\n",
       "       'How many students age 19 in Grade 10 are FEMALES?',\n",
       "       'How many students age 19 in Grade 11 are FEMALES?',\n",
       "       'How many students age 19 in Grade 12 are FEMALES?',\n",
       "       'How many students age 20 in Grade 10 are MALES?',\n",
       "       'How many students age 20 in Grade 11 are MALES?',\n",
       "       'How many students age 20 in Grade 12 are MALES?',\n",
       "       'How many students age 20 in Grade 10 are FEMALES?',\n",
       "       'How many students age 20 in Grade 11 that are FEMALES?',\n",
       "       'How many students age 20 in Grade 12 that are FEMALES?',\n",
       "       'How many students above age 20 in Grade 10 that are MALES?',\n",
       "       'How many students above age 20 in Grade 11 that are MALES?',\n",
       "       'How many students above age 20 in Grade 12 that are MALES?',\n",
       "       'How many students above age 20 in Grade 10 that are FEMALES?',\n",
       "       'How many students above age 20 in Grade 11 that are FEMALES?',\n",
       "       'How many students above age 20 in Grade 12 that are FEMALES?'],\n",
       "      dtype='object')"
      ]
     },
     "execution_count": 50,
     "metadata": {},
     "output_type": "execute_result"
    }
   ],
   "source": [
    "kece_cds = pd.concat([kece_c, kece_d, kece_s], axis = 1)\n",
    "kece_cds.columns"
   ]
  },
  {
   "cell_type": "code",
   "execution_count": 52,
   "id": "3040ea00-86d9-4a8e-9d1f-c9f11144d4c3",
   "metadata": {},
   "outputs": [
    {
     "data": {
      "text/html": [
       "<div>\n",
       "<style scoped>\n",
       "    .dataframe tbody tr th:only-of-type {\n",
       "        vertical-align: middle;\n",
       "    }\n",
       "\n",
       "    .dataframe tbody tr th {\n",
       "        vertical-align: top;\n",
       "    }\n",
       "\n",
       "    .dataframe thead th {\n",
       "        text-align: right;\n",
       "    }\n",
       "</style>\n",
       "<table border=\"1\" class=\"dataframe\">\n",
       "  <thead>\n",
       "    <tr style=\"text-align: right;\">\n",
       "      <th></th>\n",
       "      <th>County</th>\n",
       "      <th>How many students below Age 12 years old in Grade 10 are MALES?</th>\n",
       "      <th>How many students below Age 12 years old in Grade 11 are MALES?</th>\n",
       "      <th>How many students below Age 12 years old in Grade 12 are MALES?</th>\n",
       "      <th>How many students below Age 12 years old in Grade 10 are FEMALES?</th>\n",
       "      <th>How many students below Age 12 years old in Grade 11 are FEMALES?</th>\n",
       "      <th>How many students below Age 12 years old in Grade 12 are FEMALES?</th>\n",
       "      <th>How many students Age 12 years old in Grade 10 are MALES?</th>\n",
       "      <th>How many students Age 12 years old in Grade 11 are MALES?</th>\n",
       "      <th>How many students Age 12 years old in Grade 12 are MALES?</th>\n",
       "      <th>How many students Age 12 years old in Grade 10 are FEMALES?</th>\n",
       "      <th>How many students Age 12 years old in Grade 11 are FEMALES?</th>\n",
       "      <th>How many students Age 12 years old in Grade 12 are FEMALES?</th>\n",
       "      <th>How many students  Age 13 years old in Grade 10 are MALES?</th>\n",
       "      <th>How many students  Age 13 years old in Grade 11 are MALES?</th>\n",
       "      <th>How many students  Age 13 years old in Grade 12 are MALES?</th>\n",
       "      <th>How many students  Age 13 years old in Grade 10 are FEMALES?</th>\n",
       "      <th>How many students  Age 13 years old in Grade 11 are FEMALES?</th>\n",
       "      <th>How many students  Age 13 years old in Grade 12 are FEMALES?</th>\n",
       "      <th>How many students  Age 14 years old in Grade 10 are MALES?</th>\n",
       "      <th>How many students  Age 14 years old in Grade 11 are MALES?</th>\n",
       "      <th>How many students  Age 14 years old in Grade 12 are MALES?</th>\n",
       "      <th>How many students  Age 14 years old in Grade 10 are FEMALES?</th>\n",
       "      <th>How many students  Age 14 years old in Grade 11 are FEMALES?</th>\n",
       "      <th>How many students  Age 14 years old in Grade 12 are FEMALES?</th>\n",
       "      <th>How many students  Age 15 years old in Grade 10 are MALES?</th>\n",
       "      <th>How many students  Age 15 years old in Grade 11 are MALES?</th>\n",
       "      <th>How many students  Age 15 years old in Grade 12 are MALES?</th>\n",
       "      <th>How many students  age 15 Years old  in Grade 10 are FEMALES?</th>\n",
       "      <th>How many students  age 15 Years old  in Grade 11 are FEMALES?</th>\n",
       "      <th>How many students  age 15 Years old  in Grade 12 are FEMALES?</th>\n",
       "      <th>How many students age 16 Years old  in Grade 10 are MALES?</th>\n",
       "      <th>How many students age 16 Years old  in Grade 11 are MALES?</th>\n",
       "      <th>How many students age 16 Years old  in Grade 12 are MALES?</th>\n",
       "      <th>How many students  above Age 16 in Grade 10 are FEMALES?</th>\n",
       "      <th>How many students  above Age 16 in Grade 11 are FEMALES?</th>\n",
       "      <th>How many students  above Age 16 in Grade 12 are FEMALES?</th>\n",
       "      <th>How many students age 17 in Grade 10 are MALES?</th>\n",
       "      <th>How many students age 17 in Grade 11 are MALES?</th>\n",
       "      <th>How many students age 17 in Grade 12 are MALES?</th>\n",
       "      <th>How many students age 17 in Grade 10 are FEMALES?</th>\n",
       "      <th>How many students age 17 in Grade 11 are FEMALES?</th>\n",
       "      <th>How many students age 17 in Grade 12 are FEMALES?</th>\n",
       "      <th>How many students age 18 in Grade 10 are MALES?</th>\n",
       "      <th>How many students age 18 in Grade 11 are MALES?</th>\n",
       "      <th>How many students age 18 in Grade 12 are MALES?</th>\n",
       "      <th>How many students age 18 in Grade 10 are FEMALES?</th>\n",
       "      <th>How many students age 18 in Grade 11 are FEMALES?</th>\n",
       "      <th>How many students age 18 in Grade 12 are FEMALES?</th>\n",
       "      <th>How many students age 19 in Grade 10 are MALES?</th>\n",
       "      <th>How many students age 19 in Grade 11 are MALES?</th>\n",
       "      <th>How many students age 19 in Grade 12 are MALES?</th>\n",
       "      <th>How many students age 19 in Grade 10 are FEMALES?</th>\n",
       "      <th>How many students age 19 in Grade 11 are FEMALES?</th>\n",
       "      <th>How many students age 19 in Grade 12 are FEMALES?</th>\n",
       "      <th>How many students age 20 in Grade 10 are MALES?</th>\n",
       "      <th>How many students age 20 in Grade 11 are MALES?</th>\n",
       "      <th>How many students age 20 in Grade 12 are MALES?</th>\n",
       "      <th>How many students age 20 in Grade 10 are FEMALES?</th>\n",
       "      <th>How many students age 20 in Grade 11 that are FEMALES?</th>\n",
       "      <th>How many students age 20 in Grade 12 that are FEMALES?</th>\n",
       "      <th>How many students above age 20 in Grade 10 that are MALES?</th>\n",
       "      <th>How many students above age 20 in Grade 11 that are MALES?</th>\n",
       "      <th>How many students above age 20 in Grade 12 that are MALES?</th>\n",
       "      <th>How many students above age 20 in Grade 10 that are FEMALES?</th>\n",
       "      <th>How many students above age 20 in Grade 11 that are FEMALES?</th>\n",
       "      <th>How many students above age 20 in Grade 12 that are FEMALES?</th>\n",
       "      <th>district</th>\n",
       "      <th>count</th>\n",
       "    </tr>\n",
       "  </thead>\n",
       "  <tbody>\n",
       "    <tr>\n",
       "      <th>0</th>\n",
       "      <td>Rivercess</td>\n",
       "      <td>NaN</td>\n",
       "      <td>NaN</td>\n",
       "      <td>NaN</td>\n",
       "      <td>NaN</td>\n",
       "      <td>NaN</td>\n",
       "      <td>NaN</td>\n",
       "      <td>NaN</td>\n",
       "      <td>NaN</td>\n",
       "      <td>NaN</td>\n",
       "      <td>NaN</td>\n",
       "      <td>NaN</td>\n",
       "      <td>NaN</td>\n",
       "      <td>NaN</td>\n",
       "      <td>NaN</td>\n",
       "      <td>NaN</td>\n",
       "      <td>NaN</td>\n",
       "      <td>NaN</td>\n",
       "      <td>NaN</td>\n",
       "      <td>NaN</td>\n",
       "      <td>NaN</td>\n",
       "      <td>NaN</td>\n",
       "      <td>NaN</td>\n",
       "      <td>NaN</td>\n",
       "      <td>NaN</td>\n",
       "      <td>NaN</td>\n",
       "      <td>NaN</td>\n",
       "      <td>NaN</td>\n",
       "      <td>NaN</td>\n",
       "      <td>NaN</td>\n",
       "      <td>NaN</td>\n",
       "      <td>NaN</td>\n",
       "      <td>NaN</td>\n",
       "      <td>NaN</td>\n",
       "      <td>NaN</td>\n",
       "      <td>NaN</td>\n",
       "      <td>NaN</td>\n",
       "      <td>NaN</td>\n",
       "      <td>NaN</td>\n",
       "      <td>NaN</td>\n",
       "      <td>NaN</td>\n",
       "      <td>NaN</td>\n",
       "      <td>NaN</td>\n",
       "      <td>NaN</td>\n",
       "      <td>NaN</td>\n",
       "      <td>NaN</td>\n",
       "      <td>NaN</td>\n",
       "      <td>NaN</td>\n",
       "      <td>NaN</td>\n",
       "      <td>NaN</td>\n",
       "      <td>NaN</td>\n",
       "      <td>NaN</td>\n",
       "      <td>NaN</td>\n",
       "      <td>NaN</td>\n",
       "      <td>NaN</td>\n",
       "      <td>NaN</td>\n",
       "      <td>NaN</td>\n",
       "      <td>NaN</td>\n",
       "      <td>NaN</td>\n",
       "      <td>NaN</td>\n",
       "      <td>NaN</td>\n",
       "      <td>NaN</td>\n",
       "      <td>NaN</td>\n",
       "      <td>NaN</td>\n",
       "      <td>NaN</td>\n",
       "      <td>NaN</td>\n",
       "      <td>NaN</td>\n",
       "      <td>District in Bong County</td>\n",
       "      <td>NaN</td>\n",
       "    </tr>\n",
       "    <tr>\n",
       "      <th>1</th>\n",
       "      <td>Nimba</td>\n",
       "      <td>NaN</td>\n",
       "      <td>NaN</td>\n",
       "      <td>NaN</td>\n",
       "      <td>NaN</td>\n",
       "      <td>NaN</td>\n",
       "      <td>NaN</td>\n",
       "      <td>NaN</td>\n",
       "      <td>NaN</td>\n",
       "      <td>NaN</td>\n",
       "      <td>NaN</td>\n",
       "      <td>NaN</td>\n",
       "      <td>NaN</td>\n",
       "      <td>NaN</td>\n",
       "      <td>NaN</td>\n",
       "      <td>NaN</td>\n",
       "      <td>NaN</td>\n",
       "      <td>NaN</td>\n",
       "      <td>NaN</td>\n",
       "      <td>NaN</td>\n",
       "      <td>NaN</td>\n",
       "      <td>NaN</td>\n",
       "      <td>NaN</td>\n",
       "      <td>NaN</td>\n",
       "      <td>NaN</td>\n",
       "      <td>NaN</td>\n",
       "      <td>NaN</td>\n",
       "      <td>NaN</td>\n",
       "      <td>NaN</td>\n",
       "      <td>NaN</td>\n",
       "      <td>NaN</td>\n",
       "      <td>NaN</td>\n",
       "      <td>NaN</td>\n",
       "      <td>NaN</td>\n",
       "      <td>NaN</td>\n",
       "      <td>NaN</td>\n",
       "      <td>NaN</td>\n",
       "      <td>NaN</td>\n",
       "      <td>NaN</td>\n",
       "      <td>NaN</td>\n",
       "      <td>NaN</td>\n",
       "      <td>NaN</td>\n",
       "      <td>NaN</td>\n",
       "      <td>NaN</td>\n",
       "      <td>NaN</td>\n",
       "      <td>NaN</td>\n",
       "      <td>NaN</td>\n",
       "      <td>NaN</td>\n",
       "      <td>NaN</td>\n",
       "      <td>NaN</td>\n",
       "      <td>NaN</td>\n",
       "      <td>NaN</td>\n",
       "      <td>NaN</td>\n",
       "      <td>NaN</td>\n",
       "      <td>NaN</td>\n",
       "      <td>NaN</td>\n",
       "      <td>NaN</td>\n",
       "      <td>NaN</td>\n",
       "      <td>NaN</td>\n",
       "      <td>NaN</td>\n",
       "      <td>NaN</td>\n",
       "      <td>NaN</td>\n",
       "      <td>NaN</td>\n",
       "      <td>NaN</td>\n",
       "      <td>NaN</td>\n",
       "      <td>NaN</td>\n",
       "      <td>NaN</td>\n",
       "      <td>District in Bong County</td>\n",
       "      <td>NaN</td>\n",
       "    </tr>\n",
       "    <tr>\n",
       "      <th>2</th>\n",
       "      <td>River Gee</td>\n",
       "      <td>NaN</td>\n",
       "      <td>NaN</td>\n",
       "      <td>NaN</td>\n",
       "      <td>NaN</td>\n",
       "      <td>NaN</td>\n",
       "      <td>NaN</td>\n",
       "      <td>NaN</td>\n",
       "      <td>NaN</td>\n",
       "      <td>NaN</td>\n",
       "      <td>NaN</td>\n",
       "      <td>NaN</td>\n",
       "      <td>NaN</td>\n",
       "      <td>NaN</td>\n",
       "      <td>NaN</td>\n",
       "      <td>NaN</td>\n",
       "      <td>NaN</td>\n",
       "      <td>NaN</td>\n",
       "      <td>NaN</td>\n",
       "      <td>NaN</td>\n",
       "      <td>NaN</td>\n",
       "      <td>NaN</td>\n",
       "      <td>NaN</td>\n",
       "      <td>NaN</td>\n",
       "      <td>NaN</td>\n",
       "      <td>NaN</td>\n",
       "      <td>NaN</td>\n",
       "      <td>NaN</td>\n",
       "      <td>NaN</td>\n",
       "      <td>NaN</td>\n",
       "      <td>NaN</td>\n",
       "      <td>NaN</td>\n",
       "      <td>NaN</td>\n",
       "      <td>NaN</td>\n",
       "      <td>NaN</td>\n",
       "      <td>NaN</td>\n",
       "      <td>NaN</td>\n",
       "      <td>NaN</td>\n",
       "      <td>NaN</td>\n",
       "      <td>NaN</td>\n",
       "      <td>NaN</td>\n",
       "      <td>NaN</td>\n",
       "      <td>NaN</td>\n",
       "      <td>NaN</td>\n",
       "      <td>NaN</td>\n",
       "      <td>NaN</td>\n",
       "      <td>NaN</td>\n",
       "      <td>NaN</td>\n",
       "      <td>NaN</td>\n",
       "      <td>NaN</td>\n",
       "      <td>NaN</td>\n",
       "      <td>NaN</td>\n",
       "      <td>NaN</td>\n",
       "      <td>NaN</td>\n",
       "      <td>NaN</td>\n",
       "      <td>NaN</td>\n",
       "      <td>NaN</td>\n",
       "      <td>NaN</td>\n",
       "      <td>NaN</td>\n",
       "      <td>NaN</td>\n",
       "      <td>NaN</td>\n",
       "      <td>NaN</td>\n",
       "      <td>NaN</td>\n",
       "      <td>NaN</td>\n",
       "      <td>NaN</td>\n",
       "      <td>NaN</td>\n",
       "      <td>NaN</td>\n",
       "      <td>District in Bong County</td>\n",
       "      <td>NaN</td>\n",
       "    </tr>\n",
       "    <tr>\n",
       "      <th>3</th>\n",
       "      <td>Montserrado 1</td>\n",
       "      <td>NaN</td>\n",
       "      <td>NaN</td>\n",
       "      <td>NaN</td>\n",
       "      <td>NaN</td>\n",
       "      <td>NaN</td>\n",
       "      <td>NaN</td>\n",
       "      <td>NaN</td>\n",
       "      <td>NaN</td>\n",
       "      <td>NaN</td>\n",
       "      <td>NaN</td>\n",
       "      <td>NaN</td>\n",
       "      <td>NaN</td>\n",
       "      <td>NaN</td>\n",
       "      <td>NaN</td>\n",
       "      <td>NaN</td>\n",
       "      <td>NaN</td>\n",
       "      <td>NaN</td>\n",
       "      <td>NaN</td>\n",
       "      <td>NaN</td>\n",
       "      <td>NaN</td>\n",
       "      <td>NaN</td>\n",
       "      <td>NaN</td>\n",
       "      <td>NaN</td>\n",
       "      <td>NaN</td>\n",
       "      <td>NaN</td>\n",
       "      <td>NaN</td>\n",
       "      <td>NaN</td>\n",
       "      <td>NaN</td>\n",
       "      <td>NaN</td>\n",
       "      <td>NaN</td>\n",
       "      <td>NaN</td>\n",
       "      <td>NaN</td>\n",
       "      <td>NaN</td>\n",
       "      <td>NaN</td>\n",
       "      <td>NaN</td>\n",
       "      <td>NaN</td>\n",
       "      <td>NaN</td>\n",
       "      <td>NaN</td>\n",
       "      <td>NaN</td>\n",
       "      <td>NaN</td>\n",
       "      <td>NaN</td>\n",
       "      <td>NaN</td>\n",
       "      <td>NaN</td>\n",
       "      <td>NaN</td>\n",
       "      <td>NaN</td>\n",
       "      <td>NaN</td>\n",
       "      <td>NaN</td>\n",
       "      <td>NaN</td>\n",
       "      <td>NaN</td>\n",
       "      <td>NaN</td>\n",
       "      <td>NaN</td>\n",
       "      <td>NaN</td>\n",
       "      <td>NaN</td>\n",
       "      <td>NaN</td>\n",
       "      <td>NaN</td>\n",
       "      <td>NaN</td>\n",
       "      <td>NaN</td>\n",
       "      <td>NaN</td>\n",
       "      <td>NaN</td>\n",
       "      <td>NaN</td>\n",
       "      <td>NaN</td>\n",
       "      <td>NaN</td>\n",
       "      <td>NaN</td>\n",
       "      <td>NaN</td>\n",
       "      <td>NaN</td>\n",
       "      <td>NaN</td>\n",
       "      <td>District in Bong County</td>\n",
       "      <td>NaN</td>\n",
       "    </tr>\n",
       "    <tr>\n",
       "      <th>4</th>\n",
       "      <td>Montserrado 1</td>\n",
       "      <td>NaN</td>\n",
       "      <td>NaN</td>\n",
       "      <td>NaN</td>\n",
       "      <td>NaN</td>\n",
       "      <td>NaN</td>\n",
       "      <td>NaN</td>\n",
       "      <td>NaN</td>\n",
       "      <td>NaN</td>\n",
       "      <td>NaN</td>\n",
       "      <td>NaN</td>\n",
       "      <td>NaN</td>\n",
       "      <td>NaN</td>\n",
       "      <td>NaN</td>\n",
       "      <td>NaN</td>\n",
       "      <td>NaN</td>\n",
       "      <td>NaN</td>\n",
       "      <td>NaN</td>\n",
       "      <td>NaN</td>\n",
       "      <td>NaN</td>\n",
       "      <td>NaN</td>\n",
       "      <td>NaN</td>\n",
       "      <td>NaN</td>\n",
       "      <td>NaN</td>\n",
       "      <td>NaN</td>\n",
       "      <td>NaN</td>\n",
       "      <td>NaN</td>\n",
       "      <td>NaN</td>\n",
       "      <td>NaN</td>\n",
       "      <td>NaN</td>\n",
       "      <td>NaN</td>\n",
       "      <td>NaN</td>\n",
       "      <td>NaN</td>\n",
       "      <td>NaN</td>\n",
       "      <td>NaN</td>\n",
       "      <td>NaN</td>\n",
       "      <td>NaN</td>\n",
       "      <td>NaN</td>\n",
       "      <td>NaN</td>\n",
       "      <td>NaN</td>\n",
       "      <td>NaN</td>\n",
       "      <td>NaN</td>\n",
       "      <td>NaN</td>\n",
       "      <td>NaN</td>\n",
       "      <td>NaN</td>\n",
       "      <td>NaN</td>\n",
       "      <td>NaN</td>\n",
       "      <td>NaN</td>\n",
       "      <td>NaN</td>\n",
       "      <td>NaN</td>\n",
       "      <td>NaN</td>\n",
       "      <td>NaN</td>\n",
       "      <td>NaN</td>\n",
       "      <td>NaN</td>\n",
       "      <td>NaN</td>\n",
       "      <td>NaN</td>\n",
       "      <td>NaN</td>\n",
       "      <td>NaN</td>\n",
       "      <td>NaN</td>\n",
       "      <td>NaN</td>\n",
       "      <td>NaN</td>\n",
       "      <td>NaN</td>\n",
       "      <td>NaN</td>\n",
       "      <td>NaN</td>\n",
       "      <td>NaN</td>\n",
       "      <td>NaN</td>\n",
       "      <td>NaN</td>\n",
       "      <td>District in Bong County</td>\n",
       "      <td>NaN</td>\n",
       "    </tr>\n",
       "  </tbody>\n",
       "</table>\n",
       "</div>"
      ],
      "text/plain": [
       "          County  \\\n",
       "0      Rivercess   \n",
       "1          Nimba   \n",
       "2      River Gee   \n",
       "3  Montserrado 1   \n",
       "4  Montserrado 1   \n",
       "\n",
       "   How many students below Age 12 years old in Grade 10 are MALES?  \\\n",
       "0                                                NaN                 \n",
       "1                                                NaN                 \n",
       "2                                                NaN                 \n",
       "3                                                NaN                 \n",
       "4                                                NaN                 \n",
       "\n",
       "   How many students below Age 12 years old in Grade 11 are MALES?  \\\n",
       "0                                                NaN                 \n",
       "1                                                NaN                 \n",
       "2                                                NaN                 \n",
       "3                                                NaN                 \n",
       "4                                                NaN                 \n",
       "\n",
       "   How many students below Age 12 years old in Grade 12 are MALES?  \\\n",
       "0                                                NaN                 \n",
       "1                                                NaN                 \n",
       "2                                                NaN                 \n",
       "3                                                NaN                 \n",
       "4                                                NaN                 \n",
       "\n",
       "   How many students below Age 12 years old in Grade 10 are FEMALES?  \\\n",
       "0                                                NaN                   \n",
       "1                                                NaN                   \n",
       "2                                                NaN                   \n",
       "3                                                NaN                   \n",
       "4                                                NaN                   \n",
       "\n",
       "   How many students below Age 12 years old in Grade 11 are FEMALES?  \\\n",
       "0                                                NaN                   \n",
       "1                                                NaN                   \n",
       "2                                                NaN                   \n",
       "3                                                NaN                   \n",
       "4                                                NaN                   \n",
       "\n",
       "   How many students below Age 12 years old in Grade 12 are FEMALES?  \\\n",
       "0                                                NaN                   \n",
       "1                                                NaN                   \n",
       "2                                                NaN                   \n",
       "3                                                NaN                   \n",
       "4                                                NaN                   \n",
       "\n",
       "   How many students Age 12 years old in Grade 10 are MALES?  \\\n",
       "0                                                NaN           \n",
       "1                                                NaN           \n",
       "2                                                NaN           \n",
       "3                                                NaN           \n",
       "4                                                NaN           \n",
       "\n",
       "   How many students Age 12 years old in Grade 11 are MALES?  \\\n",
       "0                                                NaN           \n",
       "1                                                NaN           \n",
       "2                                                NaN           \n",
       "3                                                NaN           \n",
       "4                                                NaN           \n",
       "\n",
       "   How many students Age 12 years old in Grade 12 are MALES?  \\\n",
       "0                                                NaN           \n",
       "1                                                NaN           \n",
       "2                                                NaN           \n",
       "3                                                NaN           \n",
       "4                                                NaN           \n",
       "\n",
       "   How many students Age 12 years old in Grade 10 are FEMALES?  \\\n",
       "0                                                NaN             \n",
       "1                                                NaN             \n",
       "2                                                NaN             \n",
       "3                                                NaN             \n",
       "4                                                NaN             \n",
       "\n",
       "   How many students Age 12 years old in Grade 11 are FEMALES?  \\\n",
       "0                                                NaN             \n",
       "1                                                NaN             \n",
       "2                                                NaN             \n",
       "3                                                NaN             \n",
       "4                                                NaN             \n",
       "\n",
       "   How many students Age 12 years old in Grade 12 are FEMALES?  \\\n",
       "0                                                NaN             \n",
       "1                                                NaN             \n",
       "2                                                NaN             \n",
       "3                                                NaN             \n",
       "4                                                NaN             \n",
       "\n",
       "   How many students  Age 13 years old in Grade 10 are MALES?  \\\n",
       "0                                                NaN            \n",
       "1                                                NaN            \n",
       "2                                                NaN            \n",
       "3                                                NaN            \n",
       "4                                                NaN            \n",
       "\n",
       "   How many students  Age 13 years old in Grade 11 are MALES?  \\\n",
       "0                                                NaN            \n",
       "1                                                NaN            \n",
       "2                                                NaN            \n",
       "3                                                NaN            \n",
       "4                                                NaN            \n",
       "\n",
       "   How many students  Age 13 years old in Grade 12 are MALES?  \\\n",
       "0                                                NaN            \n",
       "1                                                NaN            \n",
       "2                                                NaN            \n",
       "3                                                NaN            \n",
       "4                                                NaN            \n",
       "\n",
       "   How many students  Age 13 years old in Grade 10 are FEMALES?  \\\n",
       "0                                                NaN              \n",
       "1                                                NaN              \n",
       "2                                                NaN              \n",
       "3                                                NaN              \n",
       "4                                                NaN              \n",
       "\n",
       "   How many students  Age 13 years old in Grade 11 are FEMALES?  \\\n",
       "0                                                NaN              \n",
       "1                                                NaN              \n",
       "2                                                NaN              \n",
       "3                                                NaN              \n",
       "4                                                NaN              \n",
       "\n",
       "   How many students  Age 13 years old in Grade 12 are FEMALES?  \\\n",
       "0                                                NaN              \n",
       "1                                                NaN              \n",
       "2                                                NaN              \n",
       "3                                                NaN              \n",
       "4                                                NaN              \n",
       "\n",
       "   How many students  Age 14 years old in Grade 10 are MALES?  \\\n",
       "0                                                NaN            \n",
       "1                                                NaN            \n",
       "2                                                NaN            \n",
       "3                                                NaN            \n",
       "4                                                NaN            \n",
       "\n",
       "   How many students  Age 14 years old in Grade 11 are MALES?  \\\n",
       "0                                                NaN            \n",
       "1                                                NaN            \n",
       "2                                                NaN            \n",
       "3                                                NaN            \n",
       "4                                                NaN            \n",
       "\n",
       "   How many students  Age 14 years old in Grade 12 are MALES?  \\\n",
       "0                                                NaN            \n",
       "1                                                NaN            \n",
       "2                                                NaN            \n",
       "3                                                NaN            \n",
       "4                                                NaN            \n",
       "\n",
       "   How many students  Age 14 years old in Grade 10 are FEMALES?  \\\n",
       "0                                                NaN              \n",
       "1                                                NaN              \n",
       "2                                                NaN              \n",
       "3                                                NaN              \n",
       "4                                                NaN              \n",
       "\n",
       "   How many students  Age 14 years old in Grade 11 are FEMALES?  \\\n",
       "0                                                NaN              \n",
       "1                                                NaN              \n",
       "2                                                NaN              \n",
       "3                                                NaN              \n",
       "4                                                NaN              \n",
       "\n",
       "   How many students  Age 14 years old in Grade 12 are FEMALES?  \\\n",
       "0                                                NaN              \n",
       "1                                                NaN              \n",
       "2                                                NaN              \n",
       "3                                                NaN              \n",
       "4                                                NaN              \n",
       "\n",
       "   How many students  Age 15 years old in Grade 10 are MALES?  \\\n",
       "0                                                NaN            \n",
       "1                                                NaN            \n",
       "2                                                NaN            \n",
       "3                                                NaN            \n",
       "4                                                NaN            \n",
       "\n",
       "   How many students  Age 15 years old in Grade 11 are MALES?  \\\n",
       "0                                                NaN            \n",
       "1                                                NaN            \n",
       "2                                                NaN            \n",
       "3                                                NaN            \n",
       "4                                                NaN            \n",
       "\n",
       "   How many students  Age 15 years old in Grade 12 are MALES?  \\\n",
       "0                                                NaN            \n",
       "1                                                NaN            \n",
       "2                                                NaN            \n",
       "3                                                NaN            \n",
       "4                                                NaN            \n",
       "\n",
       "   How many students  age 15 Years old  in Grade 10 are FEMALES?  \\\n",
       "0                                                NaN               \n",
       "1                                                NaN               \n",
       "2                                                NaN               \n",
       "3                                                NaN               \n",
       "4                                                NaN               \n",
       "\n",
       "   How many students  age 15 Years old  in Grade 11 are FEMALES?  \\\n",
       "0                                                NaN               \n",
       "1                                                NaN               \n",
       "2                                                NaN               \n",
       "3                                                NaN               \n",
       "4                                                NaN               \n",
       "\n",
       "   How many students  age 15 Years old  in Grade 12 are FEMALES?  \\\n",
       "0                                                NaN               \n",
       "1                                                NaN               \n",
       "2                                                NaN               \n",
       "3                                                NaN               \n",
       "4                                                NaN               \n",
       "\n",
       "   How many students age 16 Years old  in Grade 10 are MALES?  \\\n",
       "0                                                NaN            \n",
       "1                                                NaN            \n",
       "2                                                NaN            \n",
       "3                                                NaN            \n",
       "4                                                NaN            \n",
       "\n",
       "   How many students age 16 Years old  in Grade 11 are MALES?  \\\n",
       "0                                                NaN            \n",
       "1                                                NaN            \n",
       "2                                                NaN            \n",
       "3                                                NaN            \n",
       "4                                                NaN            \n",
       "\n",
       "   How many students age 16 Years old  in Grade 12 are MALES?  \\\n",
       "0                                                NaN            \n",
       "1                                                NaN            \n",
       "2                                                NaN            \n",
       "3                                                NaN            \n",
       "4                                                NaN            \n",
       "\n",
       "   How many students  above Age 16 in Grade 10 are FEMALES?  \\\n",
       "0                                                NaN          \n",
       "1                                                NaN          \n",
       "2                                                NaN          \n",
       "3                                                NaN          \n",
       "4                                                NaN          \n",
       "\n",
       "   How many students  above Age 16 in Grade 11 are FEMALES?  \\\n",
       "0                                                NaN          \n",
       "1                                                NaN          \n",
       "2                                                NaN          \n",
       "3                                                NaN          \n",
       "4                                                NaN          \n",
       "\n",
       "   How many students  above Age 16 in Grade 12 are FEMALES?  \\\n",
       "0                                                NaN          \n",
       "1                                                NaN          \n",
       "2                                                NaN          \n",
       "3                                                NaN          \n",
       "4                                                NaN          \n",
       "\n",
       "   How many students age 17 in Grade 10 are MALES?  \\\n",
       "0                                              NaN   \n",
       "1                                              NaN   \n",
       "2                                              NaN   \n",
       "3                                              NaN   \n",
       "4                                              NaN   \n",
       "\n",
       "   How many students age 17 in Grade 11 are MALES?  \\\n",
       "0                                              NaN   \n",
       "1                                              NaN   \n",
       "2                                              NaN   \n",
       "3                                              NaN   \n",
       "4                                              NaN   \n",
       "\n",
       "   How many students age 17 in Grade 12 are MALES?  \\\n",
       "0                                              NaN   \n",
       "1                                              NaN   \n",
       "2                                              NaN   \n",
       "3                                              NaN   \n",
       "4                                              NaN   \n",
       "\n",
       "   How many students age 17 in Grade 10 are FEMALES?  \\\n",
       "0                                                NaN   \n",
       "1                                                NaN   \n",
       "2                                                NaN   \n",
       "3                                                NaN   \n",
       "4                                                NaN   \n",
       "\n",
       "   How many students age 17 in Grade 11 are FEMALES?  \\\n",
       "0                                                NaN   \n",
       "1                                                NaN   \n",
       "2                                                NaN   \n",
       "3                                                NaN   \n",
       "4                                                NaN   \n",
       "\n",
       "   How many students age 17 in Grade 12 are FEMALES?  \\\n",
       "0                                                NaN   \n",
       "1                                                NaN   \n",
       "2                                                NaN   \n",
       "3                                                NaN   \n",
       "4                                                NaN   \n",
       "\n",
       "   How many students age 18 in Grade 10 are MALES?  \\\n",
       "0                                              NaN   \n",
       "1                                              NaN   \n",
       "2                                              NaN   \n",
       "3                                              NaN   \n",
       "4                                              NaN   \n",
       "\n",
       "   How many students age 18 in Grade 11 are MALES?  \\\n",
       "0                                              NaN   \n",
       "1                                              NaN   \n",
       "2                                              NaN   \n",
       "3                                              NaN   \n",
       "4                                              NaN   \n",
       "\n",
       "   How many students age 18 in Grade 12 are MALES?  \\\n",
       "0                                              NaN   \n",
       "1                                              NaN   \n",
       "2                                              NaN   \n",
       "3                                              NaN   \n",
       "4                                              NaN   \n",
       "\n",
       "   How many students age 18 in Grade 10 are FEMALES?  \\\n",
       "0                                                NaN   \n",
       "1                                                NaN   \n",
       "2                                                NaN   \n",
       "3                                                NaN   \n",
       "4                                                NaN   \n",
       "\n",
       "   How many students age 18 in Grade 11 are FEMALES?  \\\n",
       "0                                                NaN   \n",
       "1                                                NaN   \n",
       "2                                                NaN   \n",
       "3                                                NaN   \n",
       "4                                                NaN   \n",
       "\n",
       "   How many students age 18 in Grade 12 are FEMALES?  \\\n",
       "0                                                NaN   \n",
       "1                                                NaN   \n",
       "2                                                NaN   \n",
       "3                                                NaN   \n",
       "4                                                NaN   \n",
       "\n",
       "   How many students age 19 in Grade 10 are MALES?  \\\n",
       "0                                              NaN   \n",
       "1                                              NaN   \n",
       "2                                              NaN   \n",
       "3                                              NaN   \n",
       "4                                              NaN   \n",
       "\n",
       "   How many students age 19 in Grade 11 are MALES?  \\\n",
       "0                                              NaN   \n",
       "1                                              NaN   \n",
       "2                                              NaN   \n",
       "3                                              NaN   \n",
       "4                                              NaN   \n",
       "\n",
       "   How many students age 19 in Grade 12 are MALES?  \\\n",
       "0                                              NaN   \n",
       "1                                              NaN   \n",
       "2                                              NaN   \n",
       "3                                              NaN   \n",
       "4                                              NaN   \n",
       "\n",
       "   How many students age 19 in Grade 10 are FEMALES?  \\\n",
       "0                                                NaN   \n",
       "1                                                NaN   \n",
       "2                                                NaN   \n",
       "3                                                NaN   \n",
       "4                                                NaN   \n",
       "\n",
       "   How many students age 19 in Grade 11 are FEMALES?  \\\n",
       "0                                                NaN   \n",
       "1                                                NaN   \n",
       "2                                                NaN   \n",
       "3                                                NaN   \n",
       "4                                                NaN   \n",
       "\n",
       "   How many students age 19 in Grade 12 are FEMALES?  \\\n",
       "0                                                NaN   \n",
       "1                                                NaN   \n",
       "2                                                NaN   \n",
       "3                                                NaN   \n",
       "4                                                NaN   \n",
       "\n",
       "   How many students age 20 in Grade 10 are MALES?  \\\n",
       "0                                              NaN   \n",
       "1                                              NaN   \n",
       "2                                              NaN   \n",
       "3                                              NaN   \n",
       "4                                              NaN   \n",
       "\n",
       "   How many students age 20 in Grade 11 are MALES?  \\\n",
       "0                                              NaN   \n",
       "1                                              NaN   \n",
       "2                                              NaN   \n",
       "3                                              NaN   \n",
       "4                                              NaN   \n",
       "\n",
       "   How many students age 20 in Grade 12 are MALES?  \\\n",
       "0                                              NaN   \n",
       "1                                              NaN   \n",
       "2                                              NaN   \n",
       "3                                              NaN   \n",
       "4                                              NaN   \n",
       "\n",
       "   How many students age 20 in Grade 10 are FEMALES?  \\\n",
       "0                                                NaN   \n",
       "1                                                NaN   \n",
       "2                                                NaN   \n",
       "3                                                NaN   \n",
       "4                                                NaN   \n",
       "\n",
       "   How many students age 20 in Grade 11 that are FEMALES?  \\\n",
       "0                                                NaN        \n",
       "1                                                NaN        \n",
       "2                                                NaN        \n",
       "3                                                NaN        \n",
       "4                                                NaN        \n",
       "\n",
       "   How many students age 20 in Grade 12 that are FEMALES?  \\\n",
       "0                                                NaN        \n",
       "1                                                NaN        \n",
       "2                                                NaN        \n",
       "3                                                NaN        \n",
       "4                                                NaN        \n",
       "\n",
       "   How many students above age 20 in Grade 10 that are MALES?  \\\n",
       "0                                                NaN            \n",
       "1                                                NaN            \n",
       "2                                                NaN            \n",
       "3                                                NaN            \n",
       "4                                                NaN            \n",
       "\n",
       "   How many students above age 20 in Grade 11 that are MALES?  \\\n",
       "0                                                NaN            \n",
       "1                                                NaN            \n",
       "2                                                NaN            \n",
       "3                                                NaN            \n",
       "4                                                NaN            \n",
       "\n",
       "   How many students above age 20 in Grade 12 that are MALES?  \\\n",
       "0                                                NaN            \n",
       "1                                                NaN            \n",
       "2                                                NaN            \n",
       "3                                                NaN            \n",
       "4                                                NaN            \n",
       "\n",
       "   How many students above age 20 in Grade 10 that are FEMALES?  \\\n",
       "0                                                NaN              \n",
       "1                                                NaN              \n",
       "2                                                NaN              \n",
       "3                                                NaN              \n",
       "4                                                NaN              \n",
       "\n",
       "   How many students above age 20 in Grade 11 that are FEMALES?  \\\n",
       "0                                                NaN              \n",
       "1                                                NaN              \n",
       "2                                                NaN              \n",
       "3                                                NaN              \n",
       "4                                                NaN              \n",
       "\n",
       "   How many students above age 20 in Grade 12 that are FEMALES?  \\\n",
       "0                                                NaN              \n",
       "1                                                NaN              \n",
       "2                                                NaN              \n",
       "3                                                NaN              \n",
       "4                                                NaN              \n",
       "\n",
       "                  district count  \n",
       "0  District in Bong County   NaN  \n",
       "1  District in Bong County   NaN  \n",
       "2  District in Bong County   NaN  \n",
       "3  District in Bong County   NaN  \n",
       "4  District in Bong County   NaN  "
      ]
     },
     "execution_count": 52,
     "metadata": {},
     "output_type": "execute_result"
    }
   ],
   "source": [
    "kece_melt =kece_cds.melt(id_vars=['County',\n",
    "         'How many students below Age 12 years old in Grade 10 are MALES?',\n",
    "       'How many students below Age 12 years old in Grade 11 are MALES?',\n",
    "       'How many students below Age 12 years old in Grade 12 are MALES?',\n",
    "       'How many students below Age 12 years old in Grade 10 are FEMALES?',\n",
    "       'How many students below Age 12 years old in Grade 11 are FEMALES?',\n",
    "       'How many students below Age 12 years old in Grade 12 are FEMALES?',\n",
    "       'How many students Age 12 years old in Grade 10 are MALES?',\n",
    "       'How many students Age 12 years old in Grade 11 are MALES?',\n",
    "       'How many students Age 12 years old in Grade 12 are MALES?',\n",
    "       'How many students Age 12 years old in Grade 10 are FEMALES?',\n",
    "       'How many students Age 12 years old in Grade 11 are FEMALES?',\n",
    "       'How many students Age 12 years old in Grade 12 are FEMALES?',\n",
    "       'How many students  Age 13 years old in Grade 10 are MALES?',\n",
    "       'How many students  Age 13 years old in Grade 11 are MALES?',\n",
    "       'How many students  Age 13 years old in Grade 12 are MALES?',\n",
    "       'How many students  Age 13 years old in Grade 10 are FEMALES?',\n",
    "       'How many students  Age 13 years old in Grade 11 are FEMALES?',\n",
    "       'How many students  Age 13 years old in Grade 12 are FEMALES?',\n",
    "       'How many students  Age 14 years old in Grade 10 are MALES?',\n",
    "       'How many students  Age 14 years old in Grade 11 are MALES?',\n",
    "       'How many students  Age 14 years old in Grade 12 are MALES?',\n",
    "       'How many students  Age 14 years old in Grade 10 are FEMALES?',\n",
    "       'How many students  Age 14 years old in Grade 11 are FEMALES?',\n",
    "       'How many students  Age 14 years old in Grade 12 are FEMALES?',\n",
    "       'How many students  Age 15 years old in Grade 10 are MALES?',\n",
    "       'How many students  Age 15 years old in Grade 11 are MALES?',\n",
    "       'How many students  Age 15 years old in Grade 12 are MALES?',\n",
    "       'How many students  age 15 Years old  in Grade 10 are FEMALES?',\n",
    "       'How many students  age 15 Years old  in Grade 11 are FEMALES?',\n",
    "       'How many students  age 15 Years old  in Grade 12 are FEMALES?',\n",
    "       'How many students age 16 Years old  in Grade 10 are MALES?',\n",
    "       'How many students age 16 Years old  in Grade 11 are MALES?',\n",
    "       'How many students age 16 Years old  in Grade 12 are MALES?',\n",
    "       'How many students  above Age 16 in Grade 10 are FEMALES?',\n",
    "       'How many students  above Age 16 in Grade 11 are FEMALES?',\n",
    "       'How many students  above Age 16 in Grade 12 are FEMALES?',\n",
    "       'How many students age 17 in Grade 10 are MALES?',\n",
    "       'How many students age 17 in Grade 11 are MALES?',\n",
    "       'How many students age 17 in Grade 12 are MALES?',\n",
    "       'How many students age 17 in Grade 10 are FEMALES?',\n",
    "       'How many students age 17 in Grade 11 are FEMALES?',\n",
    "       'How many students age 17 in Grade 12 are FEMALES?',\n",
    "       'How many students age 18 in Grade 10 are MALES?',\n",
    "       'How many students age 18 in Grade 11 are MALES?',\n",
    "       'How many students age 18 in Grade 12 are MALES?',\n",
    "       'How many students age 18 in Grade 10 are FEMALES?',\n",
    "       'How many students age 18 in Grade 11 are FEMALES?',\n",
    "       'How many students age 18 in Grade 12 are FEMALES?',\n",
    "       'How many students age 19 in Grade 10 are MALES?',\n",
    "       'How many students age 19 in Grade 11 are MALES?',\n",
    "       'How many students age 19 in Grade 12 are MALES?',\n",
    "       'How many students age 19 in Grade 10 are FEMALES?',\n",
    "       'How many students age 19 in Grade 11 are FEMALES?',\n",
    "       'How many students age 19 in Grade 12 are FEMALES?',\n",
    "       'How many students age 20 in Grade 10 are MALES?',\n",
    "       'How many students age 20 in Grade 11 are MALES?',\n",
    "       'How many students age 20 in Grade 12 are MALES?',\n",
    "       'How many students age 20 in Grade 10 are FEMALES?',\n",
    "       'How many students age 20 in Grade 11 that are FEMALES?',\n",
    "       'How many students age 20 in Grade 12 that are FEMALES?',\n",
    "       'How many students above age 20 in Grade 10 that are MALES?',\n",
    "       'How many students above age 20 in Grade 11 that are MALES?',\n",
    "       'How many students above age 20 in Grade 12 that are MALES?',\n",
    "       'How many students above age 20 in Grade 10 that are FEMALES?',\n",
    "       'How many students above age 20 in Grade 11 that are FEMALES?',\n",
    "       'How many students above age 20 in Grade 12 that are FEMALES?'],var_name = 'district',value_name='count')\n",
    "kece_melt.head()"
   ]
  },
  {
   "cell_type": "markdown",
   "id": "e8f734b8-fb31-423f-946b-2e8f051a88b8",
   "metadata": {},
   "source": [
    "## Districts in Bomi County"
   ]
  },
  {
   "cell_type": "code",
   "execution_count": 67,
   "id": "8f9446c9-5cf4-4b0b-8171-234421bf66df",
   "metadata": {},
   "outputs": [
    {
     "data": {
      "text/plain": [
       "47.0"
      ]
     },
     "execution_count": 67,
     "metadata": {},
     "output_type": "execute_result"
    }
   ],
   "source": [
    "k_s = kece_melt[(kece_melt['district']== 'District in Bomi') & (kece_melt['count']== 'Senji')].sum()\n",
    "k_s = kece_melt[(kece_melt['district']== 'District in Bomi') & (kece_melt['count']== 'Dewoin')].sum()\n",
    "k_s = kece_melt[(kece_melt['district']== 'District in Bomi') & (kece_melt['count']== 'Klay')].sum()\n",
    "k_s = kece_melt[(kece_melt['district']== 'District in Bomi') & (kece_melt['count']== 'Suehn-Mecca')].sum()\n",
    "\n",
    "k_a = k_s[1:-2]\n",
    "k_a.sum()"
   ]
  },
  {
   "cell_type": "code",
   "execution_count": 68,
   "id": "3400102f-b838-47e5-b7ec-836d230cc64f",
   "metadata": {},
   "outputs": [
    {
     "data": {
      "text/plain": [
       "19.0"
      ]
     },
     "execution_count": 68,
     "metadata": {},
     "output_type": "execute_result"
    }
   ],
   "source": [
    "k_am = pd.concat([k_a[0:3],\n",
    "k_a[6:9],\n",
    "k_a[12:15],\n",
    "k_a[18:21],\n",
    "k_a[24:27],\n",
    "k_a[30:33],\n",
    "k_a[36:39],\n",
    "k_a[42:45],\n",
    "k_a[48:51],\n",
    "k_a[54:57],\n",
    "k_a[60:63]])\n",
    "k_am.sum()"
   ]
  },
  {
   "cell_type": "code",
   "execution_count": 69,
   "id": "7422c03c-10b5-4b5f-9fd7-6246c48e8f57",
   "metadata": {},
   "outputs": [
    {
     "data": {
      "text/plain": [
       "28.0"
      ]
     },
     "execution_count": 69,
     "metadata": {},
     "output_type": "execute_result"
    }
   ],
   "source": [
    "k_af = k_a.sum() - k_am.sum()\n",
    "k_af"
   ]
  },
  {
   "cell_type": "markdown",
   "id": "c47fe965-0533-4023-9c0a-02adc2a098c0",
   "metadata": {},
   "source": [
    "## Districts in Bong County"
   ]
  },
  {
   "cell_type": "code",
   "execution_count": 94,
   "id": "ef9b4886-66c5-491b-95b4-326ae464ce5f",
   "metadata": {},
   "outputs": [
    {
     "data": {
      "text/plain": [
       "97.0"
      ]
     },
     "execution_count": 94,
     "metadata": {},
     "output_type": "execute_result"
    }
   ],
   "source": [
    "k_s = kece_melt[(kece_melt['district']== 'District in Bong County') & (kece_melt['count']== 'Gbarnga 1')].sum()\n",
    "k_s = kece_melt[(kece_melt['district']== 'District in Bong County') & (kece_melt['count']== 'Gbarnga 2')].sum()\n",
    "k_s = kece_melt[(kece_melt['district']== 'District in Bong County') & (kece_melt['count']== 'Zota')].sum()\n",
    "k_s = kece_melt[(kece_melt['district']== 'District in Bong County') & (kece_melt['count']== 'Salala')].sum()\n",
    "k_s = kece_melt[(kece_melt['district']== 'District in Bong County') & (kece_melt['count']== 'Fuamah')].sum()\n",
    "k_s = kece_melt[(kece_melt['district']== 'District in Bong County') & (kece_melt['count']== 'Suakoko')].sum()\n",
    "k_s = kece_melt[(kece_melt['district']== 'District in Bong County') & (kece_melt['count']== 'Sanoyea')].sum()\n",
    "k_s = kece_melt[(kece_melt['district']== 'District in Bong County') & (kece_melt['count']== 'Panta-Kpaai')].sum()\n",
    "k_s = kece_melt[(kece_melt['district']== 'District in Bong County') & (kece_melt['count']== 'Kokoyah')].sum()\n",
    "\n",
    "k_a = k_s[1:-2]\n",
    "k_a.sum()\n"
   ]
  },
  {
   "cell_type": "code",
   "execution_count": 95,
   "id": "b4f6ee89-ffce-4e30-afe6-2e9afefb8416",
   "metadata": {},
   "outputs": [
    {
     "data": {
      "text/plain": [
       "65.0"
      ]
     },
     "execution_count": 95,
     "metadata": {},
     "output_type": "execute_result"
    }
   ],
   "source": [
    "k_am = pd.concat([k_a[0:3],\n",
    "k_a[6:9],\n",
    "k_a[12:15],\n",
    "k_a[18:21],\n",
    "k_a[24:27],\n",
    "k_a[30:33],\n",
    "k_a[36:39],\n",
    "k_a[42:45],\n",
    "k_a[48:51],\n",
    "k_a[54:57],\n",
    "k_a[60:63]])\n",
    "k_am.sum()"
   ]
  },
  {
   "cell_type": "code",
   "execution_count": 96,
   "id": "adf407f0-4c7e-4588-b616-cdd9c01de02b",
   "metadata": {},
   "outputs": [
    {
     "data": {
      "text/plain": [
       "32.0"
      ]
     },
     "execution_count": 96,
     "metadata": {},
     "output_type": "execute_result"
    }
   ],
   "source": [
    "k_af = k_a.sum() - k_am.sum()\n",
    "k_af"
   ]
  },
  {
   "cell_type": "markdown",
   "id": "b72fab03-8a64-42cc-bdb6-cf19a845aa24",
   "metadata": {},
   "source": [
    "## Districts in Gbarpolu"
   ]
  },
  {
   "cell_type": "code",
   "execution_count": 111,
   "id": "2424efaa-2358-4857-beb3-d70013998659",
   "metadata": {},
   "outputs": [
    {
     "data": {
      "text/plain": [
       "0.0"
      ]
     },
     "execution_count": 111,
     "metadata": {},
     "output_type": "execute_result"
    }
   ],
   "source": [
    "k_s = kece_melt[(kece_melt['district']== 'District in Gbarpolu') & (kece_melt['count']== 'Gorwalali')].sum()\n",
    "k_s = kece_melt[(kece_melt['district']== 'District in Gbarpolu') & (kece_melt['count']== 'Bopolu')].sum()\n",
    "k_s = kece_melt[(kece_melt['district']== 'District in Gbarpolu') & (kece_melt['count']== 'Gbarma')].sum()\n",
    "k_s = kece_melt[(kece_melt['district']== 'District in Gbarpolu') & (kece_melt['count']== 'Belle')].sum()\n",
    "k_s = kece_melt[(kece_melt['district']== 'District in Gbarpolu') & (kece_melt['count']== 'Bokomu')].sum()\n",
    "k_s = kece_melt[(kece_melt['district']== 'District in Gbarpolu') & (kece_melt['count']== 'Kongba')].sum()\n",
    "\n",
    "k_a = k_s[1:-2]\n",
    "k_a.sum()\n"
   ]
  },
  {
   "cell_type": "code",
   "execution_count": 112,
   "id": "3f3e9516-ff30-407c-bcd9-fca6f39acaa1",
   "metadata": {},
   "outputs": [
    {
     "data": {
      "text/plain": [
       "0.0"
      ]
     },
     "execution_count": 112,
     "metadata": {},
     "output_type": "execute_result"
    }
   ],
   "source": [
    "k_am = pd.concat([k_a[0:3],\n",
    "k_a[6:9],\n",
    "k_a[12:15],\n",
    "k_a[18:21],\n",
    "k_a[24:27],\n",
    "k_a[30:33],\n",
    "k_a[36:39],\n",
    "k_a[42:45],\n",
    "k_a[48:51],\n",
    "k_a[54:57],\n",
    "k_a[60:63]])\n",
    "k_am.sum()"
   ]
  },
  {
   "cell_type": "code",
   "execution_count": 113,
   "id": "9991e5b9-84c1-4486-9ce5-56ba5c568cc8",
   "metadata": {},
   "outputs": [
    {
     "data": {
      "text/plain": [
       "0.0"
      ]
     },
     "execution_count": 113,
     "metadata": {},
     "output_type": "execute_result"
    }
   ],
   "source": [
    "k_af = k_a.sum() - k_am.sum()\n",
    "k_af"
   ]
  },
  {
   "cell_type": "markdown",
   "id": "ef2aa058-1e40-4271-a01d-3561b6b38ccf",
   "metadata": {},
   "source": [
    "## Districts in Grand Bassa "
   ]
  },
  {
   "cell_type": "code",
   "execution_count": 132,
   "id": "3e4142a7-430e-4080-906b-764815a0b232",
   "metadata": {},
   "outputs": [
    {
     "data": {
      "text/plain": [
       "0.0"
      ]
     },
     "execution_count": 132,
     "metadata": {},
     "output_type": "execute_result"
    }
   ],
   "source": [
    "k_s = kece_melt[(kece_melt['district']== 'District in Grand Bassa') & (kece_melt['count']== 'District 5')].sum()\n",
    "k_s = kece_melt[(kece_melt['district']== 'District in Grand Bassa') & (kece_melt['count']== 'District 5B')].sum()\n",
    "k_s = kece_melt[(kece_melt['district']== 'District in Grand Bassa') & (kece_melt['count']== 'District 2')].sum()\n",
    "k_s = kece_melt[(kece_melt['district']== 'District in Grand Bassa') & (kece_melt['count']== 'District 3A')].sum()\n",
    "k_s = kece_melt[(kece_melt['district']== 'District in Grand Bassa') & (kece_melt['count']== 'District 3B')].sum()\n",
    "k_s = kece_melt[(kece_melt['district']== 'District in Grand Bassa') & (kece_melt['count']== 'District 1')].sum()\n",
    "k_s = kece_melt[(kece_melt['district']== 'District in Grand Bassa') & (kece_melt['count']== 'District 4')].sum()\n",
    "k_a = k_s[1:-2]\n",
    "k_a.sum()\n"
   ]
  },
  {
   "cell_type": "code",
   "execution_count": 133,
   "id": "ecfc850f-aaee-44b4-80df-668d13e49745",
   "metadata": {},
   "outputs": [
    {
     "data": {
      "text/plain": [
       "0.0"
      ]
     },
     "execution_count": 133,
     "metadata": {},
     "output_type": "execute_result"
    }
   ],
   "source": [
    "k_am = pd.concat([k_a[0:3],\n",
    "k_a[6:9],\n",
    "k_a[12:15],\n",
    "k_a[18:21],\n",
    "k_a[24:27],\n",
    "k_a[30:33],\n",
    "k_a[36:39],\n",
    "k_a[42:45],\n",
    "k_a[48:51],\n",
    "k_a[54:57],\n",
    "k_a[60:63]])\n",
    "k_am.sum()"
   ]
  },
  {
   "cell_type": "code",
   "execution_count": 134,
   "id": "cc36c7d1-8eed-428d-be32-bf5e445a7728",
   "metadata": {},
   "outputs": [
    {
     "data": {
      "text/plain": [
       "0.0"
      ]
     },
     "execution_count": 134,
     "metadata": {},
     "output_type": "execute_result"
    }
   ],
   "source": [
    "k_af = k_a.sum() - k_am.sum()\n",
    "k_af"
   ]
  },
  {
   "cell_type": "markdown",
   "id": "3234f016-5253-4db8-9e79-79a3d07b32f5",
   "metadata": {},
   "source": [
    "## Districts in Grand Cape Mount"
   ]
  },
  {
   "cell_type": "code",
   "execution_count": 145,
   "id": "014afd7e-dec3-4128-92a6-92c187bcd0ee",
   "metadata": {},
   "outputs": [
    {
     "data": {
      "text/plain": [
       "104.0"
      ]
     },
     "execution_count": 145,
     "metadata": {},
     "output_type": "execute_result"
    }
   ],
   "source": [
    "k_s = kece_melt[(kece_melt['district']== 'District in Grand Cape Mount') & (kece_melt['count']== 'Tewor')].sum()\n",
    "k_s = kece_melt[(kece_melt['district']== 'District in Grand Cape Mount') & (kece_melt['count']== 'Gola Konneh')].sum()\n",
    "k_s = kece_melt[(kece_melt['district']== 'District in Grand Cape Mount') & (kece_melt['count']== 'Porkpa')].sum()\n",
    "k_s = kece_melt[(kece_melt['district']== 'District in Grand Cape Mount') & (kece_melt['count']== 'Garwular')].sum()\n",
    "k_s = kece_melt[(kece_melt['district']== 'District in Grand Cape Mount') & (kece_melt['count']== 'Tallah Tombay')].sum()\n",
    "\n",
    "k_a = k_s[1:-2]\n",
    "k_a.sum()"
   ]
  },
  {
   "cell_type": "code",
   "execution_count": 146,
   "id": "92b37fad-9cbe-4027-9ceb-f9149fb35515",
   "metadata": {},
   "outputs": [
    {
     "data": {
      "text/plain": [
       "50.0"
      ]
     },
     "execution_count": 146,
     "metadata": {},
     "output_type": "execute_result"
    }
   ],
   "source": [
    "k_am = pd.concat([k_a[0:3],\n",
    "k_a[6:9],\n",
    "k_a[12:15],\n",
    "k_a[18:21],\n",
    "k_a[24:27],\n",
    "k_a[30:33],\n",
    "k_a[36:39],\n",
    "k_a[42:45],\n",
    "k_a[48:51],\n",
    "k_a[54:57],\n",
    "k_a[60:63]])\n",
    "k_am.sum()"
   ]
  },
  {
   "cell_type": "code",
   "execution_count": 147,
   "id": "931f7ebf-3b4b-4719-8dcf-42d6d243d52a",
   "metadata": {},
   "outputs": [
    {
     "data": {
      "text/plain": [
       "54.0"
      ]
     },
     "execution_count": 147,
     "metadata": {},
     "output_type": "execute_result"
    }
   ],
   "source": [
    "k_af = k_a.sum() - k_am.sum()\n",
    "k_af"
   ]
  },
  {
   "cell_type": "markdown",
   "id": "a44d9672-5e81-4b42-8589-9bba05e00cd8",
   "metadata": {},
   "source": [
    "## Districts in Grand Gedeh"
   ]
  },
  {
   "cell_type": "code",
   "execution_count": 159,
   "id": "8958882c-b804-446a-907f-b21bab84a414",
   "metadata": {},
   "outputs": [
    {
     "data": {
      "text/plain": [
       "578.0"
      ]
     },
     "execution_count": 159,
     "metadata": {},
     "output_type": "execute_result"
    }
   ],
   "source": [
    "k_s = kece_melt[(kece_melt['district']== 'Districts in Grand Gedeh') & (kece_melt['count']== 'Konobo')].sum()\n",
    "k_s = kece_melt[(kece_melt['district']== 'Districts in Grand Gedeh') & (kece_melt['count']== 'Putu')].sum()\n",
    "k_s = kece_melt[(kece_melt['district']== 'Districts in Grand Gedeh') & (kece_melt['count']== 'Gbarzon')].sum()\n",
    "k_s = kece_melt[(kece_melt['district']== 'Districts in Grand Gedeh') & (kece_melt['count']== 'Tchien')].sum()\n",
    "k_s = kece_melt[(kece_melt['district']== 'Districts in Grand Gedeh') & (kece_melt['count']== 'Cavalla')].sum()\n",
    "k_a = k_s[1:-2]\n",
    "k_a.sum()\n"
   ]
  },
  {
   "cell_type": "code",
   "execution_count": 160,
   "id": "2721115b-73ab-4003-aee0-7d37490d4bae",
   "metadata": {},
   "outputs": [
    {
     "data": {
      "text/plain": [
       "379.0"
      ]
     },
     "execution_count": 160,
     "metadata": {},
     "output_type": "execute_result"
    }
   ],
   "source": [
    "k_am = pd.concat([k_a[0:3],\n",
    "k_a[6:9],\n",
    "k_a[12:15],\n",
    "k_a[18:21],\n",
    "k_a[24:27],\n",
    "k_a[30:33],\n",
    "k_a[36:39],\n",
    "k_a[42:45],\n",
    "k_a[48:51],\n",
    "k_a[54:57],\n",
    "k_a[60:63]])\n",
    "k_am.sum()"
   ]
  },
  {
   "cell_type": "code",
   "execution_count": 161,
   "id": "ac7f074d-df4a-41ca-89d5-2b8211201f26",
   "metadata": {},
   "outputs": [
    {
     "data": {
      "text/plain": [
       "199.0"
      ]
     },
     "execution_count": 161,
     "metadata": {},
     "output_type": "execute_result"
    }
   ],
   "source": [
    "k_af = k_a.sum() - k_am.sum()\n",
    "k_af"
   ]
  },
  {
   "cell_type": "markdown",
   "id": "ea038cf3-b718-4d0e-97b2-2c8a8dc600c4",
   "metadata": {},
   "source": [
    "## Districts in Grand Kru"
   ]
  },
  {
   "cell_type": "code",
   "execution_count": 182,
   "id": "876b9460-c715-42ee-a1c5-ddb4ad4b394b",
   "metadata": {},
   "outputs": [
    {
     "data": {
      "text/plain": [
       "0.0"
      ]
     },
     "execution_count": 182,
     "metadata": {},
     "output_type": "execute_result"
    }
   ],
   "source": [
    "k_s = kece_melt[(kece_melt['district']== 'Districts in Grand Kru') & (kece_melt['count']== 'Barclayville')].sum()\n",
    "k_s = kece_melt[(kece_melt['district']== 'Districts in Grand Kru') & (kece_melt['count']== 'Trehn')].sum()\n",
    "k_s = kece_melt[(kece_melt['district']== 'Districts in Grand Kru') & (kece_melt['count']== 'Buah')].sum()\n",
    "k_s = kece_melt[(kece_melt['district']== 'Districts in Grand Kru') & (kece_melt['count']== 'Grand Cess')].sum()\n",
    "k_s = kece_melt[(kece_melt['district']== 'Districts in Grand Kru') & (kece_melt['count']== 'Dorbor')].sum()\n",
    "k_s = kece_melt[(kece_melt['district']== 'Districts in Grand Kru') & (kece_melt['count']== 'Jloh')].sum()\n",
    "k_s = kece_melt[(kece_melt['district']== 'Districts in Grand Kru') & (kece_melt['count']== 'Sass Town')].sum()\n",
    "k_s = kece_melt[(kece_melt['district']== 'Districts in Grand Kru') & (kece_melt['count']== 'Wedabo')].sum()\n",
    "\n",
    "k_a = k_s[1:-2]\n",
    "k_a.sum()"
   ]
  },
  {
   "cell_type": "code",
   "execution_count": 183,
   "id": "5cbb5410-12e2-4258-a75f-319c0f5b73b7",
   "metadata": {},
   "outputs": [
    {
     "data": {
      "text/plain": [
       "0.0"
      ]
     },
     "execution_count": 183,
     "metadata": {},
     "output_type": "execute_result"
    }
   ],
   "source": [
    "k_am = pd.concat([k_a[0:3],\n",
    "k_a[6:9],\n",
    "k_a[12:15],\n",
    "k_a[18:21],\n",
    "k_a[24:27],\n",
    "k_a[30:33],\n",
    "k_a[36:39],\n",
    "k_a[42:45],\n",
    "k_a[48:51],\n",
    "k_a[54:57],\n",
    "k_a[60:63]])\n",
    "k_am.sum()"
   ]
  },
  {
   "cell_type": "code",
   "execution_count": 184,
   "id": "c212af4a-b18f-4f10-9450-b7443be3e305",
   "metadata": {},
   "outputs": [
    {
     "data": {
      "text/plain": [
       "0.0"
      ]
     },
     "execution_count": 184,
     "metadata": {},
     "output_type": "execute_result"
    }
   ],
   "source": [
    "k_af = k_a.sum() - k_am.sum()\n",
    "k_af"
   ]
  },
  {
   "cell_type": "markdown",
   "id": "7fed20b1-eb2d-40a2-bf99-e4279de713b6",
   "metadata": {},
   "source": [
    "## Districts in Lofa"
   ]
  },
  {
   "cell_type": "code",
   "execution_count": 197,
   "id": "49699f8b-3171-44a7-81ff-d276702b1674",
   "metadata": {},
   "outputs": [
    {
     "data": {
      "text/plain": [
       "350.0"
      ]
     },
     "execution_count": 197,
     "metadata": {},
     "output_type": "execute_result"
    }
   ],
   "source": [
    "k_s = kece_melt[(kece_melt['district']== 'District in Lofa') & (kece_melt['count']== 'Foya')].sum()\n",
    "k_s = kece_melt[(kece_melt['district']== 'District in Lofa') & (kece_melt['count']== 'Kolahun 1')].sum()\n",
    "k_s = kece_melt[(kece_melt['district']== 'District in Lofa') & (kece_melt['count']== 'Kolahun 2')].sum()\n",
    "k_s = kece_melt[(kece_melt['district']== 'District in Lofa') & (kece_melt['count']== 'Salayea')].sum()\n",
    "k_s = kece_melt[(kece_melt['district']== 'District in Lofa') & (kece_melt['count']== 'Vahun')].sum()\n",
    "k_s = kece_melt[(kece_melt['district']== 'District in Lofa') & (kece_melt['count']== 'Voinjama')].sum()#\n",
    "k_s = kece_melt[(kece_melt['district']== 'District in Lofa') & (kece_melt['count']== 'Zorzor')].sum()\n",
    "\n",
    "k_a = k_s[1:-2]\n",
    "k_a.sum()\n"
   ]
  },
  {
   "cell_type": "code",
   "execution_count": 198,
   "id": "5ea7b637-afef-4ad0-ad78-efecc7ce77f5",
   "metadata": {},
   "outputs": [
    {
     "data": {
      "text/plain": [
       "238.0"
      ]
     },
     "execution_count": 198,
     "metadata": {},
     "output_type": "execute_result"
    }
   ],
   "source": [
    "k_am = pd.concat([k_a[0:3],\n",
    "k_a[6:9],\n",
    "k_a[12:15],\n",
    "k_a[18:21],\n",
    "k_a[24:27],\n",
    "k_a[30:33],\n",
    "k_a[36:39],\n",
    "k_a[42:45],\n",
    "k_a[48:51],\n",
    "k_a[54:57],\n",
    "k_a[60:63]])\n",
    "k_am.sum()"
   ]
  },
  {
   "cell_type": "code",
   "execution_count": 533,
   "id": "92d0e050-c846-427c-836a-92050f95cbb6",
   "metadata": {},
   "outputs": [
    {
     "data": {
      "text/plain": [
       "214.0"
      ]
     },
     "execution_count": 533,
     "metadata": {},
     "output_type": "execute_result"
    }
   ],
   "source": [
    "k_af = k_a.sum() - k_am.sum()\n",
    "k_af"
   ]
  },
  {
   "cell_type": "markdown",
   "id": "2f1a2021-f533-4e7a-829b-50c2caa4b744",
   "metadata": {},
   "source": [
    "## Districts in Margibi"
   ]
  },
  {
   "cell_type": "code",
   "execution_count": 212,
   "id": "9c05b214-d962-46cb-88cb-4eb887ce185f",
   "metadata": {},
   "outputs": [
    {
     "data": {
      "text/plain": [
       "1275.0"
      ]
     },
     "execution_count": 212,
     "metadata": {},
     "output_type": "execute_result"
    }
   ],
   "source": [
    "k_s = kece_melt[(kece_melt['district']== 'District in Margibi') & (kece_melt['count']== 'Marshall')].sum()\n",
    "k_s = kece_melt[(kece_melt['district']== 'District in Margibi') & (kece_melt['count']== 'Farmington')].sum()\n",
    "k_s = kece_melt[(kece_melt['district']== 'District in Margibi') & (kece_melt['count']== 'Mama kaba')].sum()\n",
    "k_s = kece_melt[(kece_melt['district']== 'District in Margibi') & (kece_melt['count']== 'Gibi')].sum()\n",
    "k_s = kece_melt[(kece_melt['district']== 'District in Margibi') & (kece_melt['count']== 'Kakata 1')].sum()\n",
    "k_s = kece_melt[(kece_melt['district']== 'District in Margibi') & (kece_melt['count']== 'Kakata 2')].sum()\n",
    "\n",
    "k_a = k_s[1:-2]\n",
    "k_a.sum()"
   ]
  },
  {
   "cell_type": "code",
   "execution_count": 213,
   "id": "c873c64d-e312-4194-ae87-9259278a7025",
   "metadata": {},
   "outputs": [
    {
     "data": {
      "text/plain": [
       "672.0"
      ]
     },
     "execution_count": 213,
     "metadata": {},
     "output_type": "execute_result"
    }
   ],
   "source": [
    "k_am = pd.concat([k_a[0:3],\n",
    "k_a[6:9],\n",
    "k_a[12:15],\n",
    "k_a[18:21],\n",
    "k_a[24:27],\n",
    "k_a[30:33],\n",
    "k_a[36:39],\n",
    "k_a[42:45],\n",
    "k_a[48:51],\n",
    "k_a[54:57],\n",
    "k_a[60:63]])\n",
    "k_am.sum()"
   ]
  },
  {
   "cell_type": "code",
   "execution_count": 209,
   "id": "90c9285a-696a-4a37-8efd-8b80f537944f",
   "metadata": {},
   "outputs": [
    {
     "data": {
      "text/plain": [
       "0.0"
      ]
     },
     "execution_count": 209,
     "metadata": {},
     "output_type": "execute_result"
    }
   ],
   "source": [
    "k_af = k_a.sum() - k_am.sum()\n",
    "k_af"
   ]
  },
  {
   "cell_type": "markdown",
   "id": "39155906-56b8-4779-99ec-091292cea46e",
   "metadata": {},
   "source": [
    "## Districts in Maryland"
   ]
  },
  {
   "cell_type": "code",
   "execution_count": 230,
   "id": "ab64c394-8e3b-47ea-90c4-f3a9bd402ab4",
   "metadata": {},
   "outputs": [
    {
     "data": {
      "text/plain": [
       "0.0"
      ]
     },
     "execution_count": 230,
     "metadata": {},
     "output_type": "execute_result"
    }
   ],
   "source": [
    "k_s = kece_melt[(kece_melt['district']== 'District in Maryland') & (kece_melt['count']== 'Harper 1')].sum()\n",
    "k_s = kece_melt[(kece_melt['district']== 'District in Maryland') & (kece_melt['count']== 'Harper 2')].sum()\n",
    "k_s = kece_melt[(kece_melt['district']== 'District in Maryland') & (kece_melt['count']== 'Barrobo 1')].sum()\n",
    "k_s = kece_melt[(kece_melt['district']== 'District in Maryland') & (kece_melt['count']== 'Barrobo 2')].sum()\n",
    "k_s = kece_melt[(kece_melt['district']== 'District in Maryland') & (kece_melt['count']== 'Sodoken')].sum()\n",
    "k_s = kece_melt[(kece_melt['district']== 'District in Maryland') & (kece_melt['count']== 'Karleway 1')].sum()\n",
    "k_s = kece_melt[(kece_melt['district']== 'District in Maryland') & (kece_melt['count']== 'Karleway 2')].sum()\n",
    "k_s = kece_melt[(kece_melt['district']== 'District in Maryland') & (kece_melt['count']== 'Pleebo')].sum()\n",
    "\n",
    "k_a = k_s[1:-2]\n",
    "k_a.sum()"
   ]
  },
  {
   "cell_type": "code",
   "execution_count": 231,
   "id": "6d3097b7-c19d-497b-a2bc-38dc338596ba",
   "metadata": {},
   "outputs": [
    {
     "data": {
      "text/plain": [
       "0.0"
      ]
     },
     "execution_count": 231,
     "metadata": {},
     "output_type": "execute_result"
    }
   ],
   "source": [
    "k_am = pd.concat([k_a[0:3],\n",
    "k_a[6:9],\n",
    "k_a[12:15],\n",
    "k_a[18:21],\n",
    "k_a[24:27],\n",
    "k_a[30:33],\n",
    "k_a[36:39],\n",
    "k_a[42:45],\n",
    "k_a[48:51],\n",
    "k_a[54:57],\n",
    "k_a[60:63]])\n",
    "k_am.sum()"
   ]
  },
  {
   "cell_type": "code",
   "execution_count": 219,
   "id": "79bae78a-0c92-4add-8ba1-ab16115d8f57",
   "metadata": {},
   "outputs": [
    {
     "data": {
      "text/plain": [
       "0.0"
      ]
     },
     "execution_count": 219,
     "metadata": {},
     "output_type": "execute_result"
    }
   ],
   "source": [
    "k_af = k_a.sum() - k_am.sum()\n",
    "k_af"
   ]
  },
  {
   "cell_type": "markdown",
   "id": "ece30a83-4b54-4d82-9c26-cb9703fe756d",
   "metadata": {},
   "source": [
    "## Districts in Montserrado 1"
   ]
  },
  {
   "cell_type": "code",
   "execution_count": 266,
   "id": "b79dd37b-559b-4b32-a231-ccc3d1fd1e2f",
   "metadata": {},
   "outputs": [
    {
     "data": {
      "text/plain": [
       "1992.0"
      ]
     },
     "execution_count": 266,
     "metadata": {},
     "output_type": "execute_result"
    }
   ],
   "source": [
    "k_s = kece_melt[(kece_melt['district']== 'District in Montserrado 1') & (kece_melt['count']== 'Paynesville 1')].sum()\n",
    "k_s = kece_melt[(kece_melt['district']== 'District in Montserrado 1') & (kece_melt['count']== 'Paynesville 2')].sum()\n",
    "k_s = kece_melt[(kece_melt['district']== 'District in Montserrado 1') & (kece_melt['count']== 'Paynesville 3')].sum()\n",
    "k_s = kece_melt[(kece_melt['district']== 'District in Montserrado 1') & (kece_melt['count']== 'Paynesville 4')].sum()\n",
    "k_s = kece_melt[(kece_melt['district']== 'District in Montserrado 1') & (kece_melt['count']== 'Paynesville 5')].sum()\n",
    "k_s = kece_melt[(kece_melt['district']== 'District in Montserrado 1') & (kece_melt['count']== 'Paynesville 6')].sum()\n",
    "k_s = kece_melt[(kece_melt['district']== 'District in Montserrado 1') & (kece_melt['count']== 'Greater Monrovia 1A')].sum()\n",
    "k_s = kece_melt[(kece_melt['district']== 'District in Montserrado 1') & (kece_melt['count']== 'Greater Monrovia 1B')].sum()\n",
    "k_s = kece_melt[(kece_melt['district']== 'District in Montserrado 1') & (kece_melt['count']== 'Greater Monrovia 1C')].sum()\n",
    "k_s = kece_melt[(kece_melt['district']== 'District in Montserrado 1') & (kece_melt['count']== 'Greater Monrovia 1D')].sum()\n",
    "k_s = kece_melt[(kece_melt['district']== 'District in Montserrado 1') & (kece_melt['count']== 'Greater Monrovia 1E')].sum()\n",
    "k_s = kece_melt[(kece_melt['district']== 'District in Montserrado 1') & (kece_melt['count']== 'Greater Monrovia 2A')].sum()\n",
    "k_s = kece_melt[(kece_melt['district']== 'District in Montserrado 1') & (kece_melt['count']== 'Greater Monrovia 2B')].sum()\n",
    "k_s = kece_melt[(kece_melt['district']== 'District in Montserrado 1') & (kece_melt['count']== 'Greater Monrovia 2C')].sum()\n",
    "k_s = kece_melt[(kece_melt['district']== 'District in Montserrado 1') & (kece_melt['count']== 'Greater Monrovia 2D')].sum()\n",
    "\n",
    "k_a = k_s[1:-2]\n",
    "k_a.sum()"
   ]
  },
  {
   "cell_type": "code",
   "execution_count": 267,
   "id": "7179d338-0449-469e-aa24-d6217c070365",
   "metadata": {},
   "outputs": [
    {
     "data": {
      "text/plain": [
       "922.0"
      ]
     },
     "execution_count": 267,
     "metadata": {},
     "output_type": "execute_result"
    }
   ],
   "source": [
    "k_am = pd.concat([k_a[0:3],\n",
    "k_a[6:9],\n",
    "k_a[12:15],\n",
    "k_a[18:21],\n",
    "k_a[24:27],\n",
    "k_a[30:33],\n",
    "k_a[36:39],\n",
    "k_a[42:45],\n",
    "k_a[48:51],\n",
    "k_a[54:57],\n",
    "k_a[60:63]])\n",
    "k_am.sum()"
   ]
  },
  {
   "cell_type": "code",
   "execution_count": 268,
   "id": "547bccd6-b37b-4edc-b104-c052e5b12ecc",
   "metadata": {},
   "outputs": [
    {
     "data": {
      "text/plain": [
       "1070.0"
      ]
     },
     "execution_count": 268,
     "metadata": {},
     "output_type": "execute_result"
    }
   ],
   "source": [
    "k_af = k_a.sum() - k_am.sum()\n",
    "k_af"
   ]
  },
  {
   "cell_type": "markdown",
   "id": "9eb7f3db-0ef1-4d2a-b11a-5217ff799ab0",
   "metadata": {},
   "source": [
    "## Districts in Montserrado 2"
   ]
  },
  {
   "cell_type": "code",
   "execution_count": 328,
   "id": "4eb16ded-6f3a-41c8-b737-23ec92e2a2b4",
   "metadata": {},
   "outputs": [
    {
     "data": {
      "text/plain": [
       "2633.0"
      ]
     },
     "execution_count": 328,
     "metadata": {},
     "output_type": "execute_result"
    }
   ],
   "source": [
    "k_s = kece_melt[(kece_melt['district']== 'District in Montserrado 2') & (kece_melt['count']== 'Left Bank 1A')].sum()\n",
    "#k_s = kece_melt[(kece_melt['district']== 'District in Montserrado 2') & (kece_melt['count']== 'Left bank 1B')].sum()\n",
    "#k_s = kece_melt[(kece_melt['district']== 'District in Montserrado 2') & (kece_melt['count']== 'Left bank  1C')].sum()\n",
    "#k_s = kece_melt[(kece_melt['district']== 'District in Montserrado 2') & (kece_melt['count']== 'Left Bank 1D')].sum()\n",
    "#k_s = kece_melt[(kece_melt['district']== 'District in Montserrado 2') & (kece_melt['count']== 'Left Bank 2A')].sum()\n",
    "#k_s = kece_melt[(kece_melt['district']== 'District in Montserrado 2') & (kece_melt['count']== 'Left bank 2B')].sum()\n",
    "#k_s = kece_melt[(kece_melt['district']== 'District in Montserrado 2') & (kece_melt['count']== 'Careysburg')].sum()\n",
    "#k_s = kece_melt[(kece_melt['district']== 'District in Montserrado 2') & (kece_melt['count']== 'Todee')].sum()\n",
    "#k_s = kece_melt[(kece_melt['district']== 'District in Montserrado 2') & (kece_melt['count']== 'Right Bank 1')].sum()\n",
    "#k_s = kece_melt[(kece_melt['district']== 'District in Montserrado 2') & (kece_melt['count']== 'Right Bank 2')].sum()\n",
    "#k_s = kece_melt[(kece_melt['district']== 'District in Montserrado 2') & (kece_melt['count']== 'Right Bank 3')].sum()\n",
    "\n",
    "k_a = k_s[1:-2]\n",
    "k_a.sum()\n"
   ]
  },
  {
   "cell_type": "code",
   "execution_count": 329,
   "id": "37b33f23-6756-4334-983a-3accee5ad7ec",
   "metadata": {},
   "outputs": [
    {
     "data": {
      "text/plain": [
       "1476.0"
      ]
     },
     "execution_count": 329,
     "metadata": {},
     "output_type": "execute_result"
    }
   ],
   "source": [
    "k_am = pd.concat([k_a[0:3],\n",
    "k_a[6:9],\n",
    "k_a[12:15],\n",
    "k_a[18:21],\n",
    "k_a[24:27],\n",
    "k_a[30:33],\n",
    "k_a[36:39],\n",
    "k_a[42:45],\n",
    "k_a[48:51],\n",
    "k_a[54:57],\n",
    "k_a[60:63]])\n",
    "k_am.sum()"
   ]
  },
  {
   "cell_type": "code",
   "execution_count": 330,
   "id": "e08e4cf6-ad91-4d09-9896-d07551974f72",
   "metadata": {},
   "outputs": [
    {
     "data": {
      "text/plain": [
       "1157.0"
      ]
     },
     "execution_count": 330,
     "metadata": {},
     "output_type": "execute_result"
    }
   ],
   "source": [
    "k_af = k_a.sum() - k_am.sum()\n",
    "k_af"
   ]
  },
  {
   "cell_type": "markdown",
   "id": "59521c80-e266-4ac0-a683-b8f2c436504f",
   "metadata": {},
   "source": [
    "## Districts in Nimba"
   ]
  },
  {
   "cell_type": "code",
   "execution_count": 381,
   "id": "eefb8612-7554-41fd-b97f-6e2fb2f06b75",
   "metadata": {},
   "outputs": [
    {
     "data": {
      "text/plain": [
       "1058.0"
      ]
     },
     "execution_count": 381,
     "metadata": {},
     "output_type": "execute_result"
    }
   ],
   "source": [
    "k_s = kece_melt[(kece_melt['district']== 'District in Nimba') & (kece_melt['count']== 'Tappita 1')].sum()\n",
    "k_s = kece_melt[(kece_melt['district']== 'District in Nimba') & (kece_melt['count']== 'Tappita 2')].sum()\n",
    "k_s = kece_melt[(kece_melt['district']== 'District in Nimba') & (kece_melt['count']== 'Saclepea 1')].sum()\n",
    "k_s = kece_melt[(kece_melt['district']== 'District in Nimba') & (kece_melt['count']== 'Sanniquellie Mah')].sum()\n",
    "#k_s = kece_melt[(kece_melt['district']== 'District in Nimba') & (kece_melt['count']== 'Zoe-Geh')].sum()\n",
    "#k_s = kece_melt[(kece_melt['district']== 'District in Nimba') & (kece_melt['count']== 'Tuwah River')].sum()\n",
    "#k_s = kece_melt[(kece_melt['district']== 'District in Nimba') & (kece_melt['count']== 'Gbelay-Geh')].sum()\n",
    "#k_s = kece_melt[(kece_melt['district']== 'District in Nimba') & (kece_melt['count']== 'Yarpea Mah')].sum()\n",
    "#k_s = kece_melt[(kece_melt['district']== 'District in Nimba') & (kece_melt['count']== 'Yarwein Mensonoh')].sum()\n",
    "#k_s = kece_melt[(kece_melt['district']== 'District in Nimba') & (kece_melt['count']== 'Buuyao')].sum()\n",
    "#k_s = kece_melt[(kece_melt['district']== 'District in Nimba') & (kece_melt['count']== 'Bain-Garr 1')].sum()\n",
    "#k_s = kece_melt[(kece_melt['district']== 'District in Nimba') & (kece_melt['count']== 'Bain- Garr 2')].sum()\n",
    "\n",
    "k_a = k_s[1:-2]\n",
    "k_a.sum()\n"
   ]
  },
  {
   "cell_type": "code",
   "execution_count": 382,
   "id": "d72699a5-9ed0-4d0a-a315-2e4e164ee5ec",
   "metadata": {},
   "outputs": [
    {
     "data": {
      "text/plain": [
       "519.0"
      ]
     },
     "execution_count": 382,
     "metadata": {},
     "output_type": "execute_result"
    }
   ],
   "source": [
    "k_am = pd.concat([k_a[0:3],\n",
    "k_a[6:9],\n",
    "k_a[12:15],\n",
    "k_a[18:21],\n",
    "k_a[24:27],\n",
    "k_a[30:33],\n",
    "k_a[36:39],\n",
    "k_a[42:45],\n",
    "k_a[48:51],\n",
    "k_a[54:57],\n",
    "k_a[60:63]])\n",
    "k_am.sum()"
   ]
  },
  {
   "cell_type": "code",
   "execution_count": 378,
   "id": "274848f3-1375-47d6-888a-1480351ca93d",
   "metadata": {},
   "outputs": [
    {
     "data": {
      "text/plain": [
       "36.0"
      ]
     },
     "execution_count": 378,
     "metadata": {},
     "output_type": "execute_result"
    }
   ],
   "source": [
    "k_af = k_a.sum() - k_am.sum()\n",
    "k_af"
   ]
  },
  {
   "cell_type": "markdown",
   "id": "0d526e9c-880d-455d-8a32-9182455d3605",
   "metadata": {},
   "source": [
    "## Districts in River Gee"
   ]
  },
  {
   "cell_type": "code",
   "execution_count": 397,
   "id": "9e0ff529-9917-4c3c-9de4-6cbad2424281",
   "metadata": {},
   "outputs": [
    {
     "data": {
      "text/plain": [
       "43.0"
      ]
     },
     "execution_count": 397,
     "metadata": {},
     "output_type": "execute_result"
    }
   ],
   "source": [
    "k_s = kece_melt[(kece_melt['district']== 'District in River Gee') & (kece_melt['count']== 'Sarbo')].sum()\n",
    "k_s = kece_melt[(kece_melt['district']== 'District in River Gee') & (kece_melt['count']== 'Tienpo')].sum()\n",
    "k_s = kece_melt[(kece_melt['district']== 'District in River Gee') & (kece_melt['count']== 'Chedepo')].sum()\n",
    "k_s = kece_melt[(kece_melt['district']== 'District in River Gee') & (kece_melt['count']== 'Putupo')].sum()\n",
    "k_s = kece_melt[(kece_melt['district']== 'District in River Gee') & (kece_melt['count']== 'Gbeapo')].sum()\n",
    "k_s = kece_melt[(kece_melt['district']== 'District in River Gee') & (kece_melt['count']== 'Webbo')].sum()\n",
    "\n",
    "k_a = k_s[1:-2]\n",
    "k_a.sum()\n"
   ]
  },
  {
   "cell_type": "code",
   "execution_count": 398,
   "id": "d7fe029f-d331-486a-adcb-6204b1a8169f",
   "metadata": {},
   "outputs": [
    {
     "data": {
      "text/plain": [
       "31.0"
      ]
     },
     "execution_count": 398,
     "metadata": {},
     "output_type": "execute_result"
    }
   ],
   "source": [
    "k_am = pd.concat([k_a[0:3],\n",
    "k_a[6:9],\n",
    "k_a[12:15],\n",
    "k_a[18:21],\n",
    "k_a[24:27],\n",
    "k_a[30:33],\n",
    "k_a[36:39],\n",
    "k_a[42:45],\n",
    "k_a[48:51],\n",
    "k_a[54:57],\n",
    "k_a[60:63]])\n",
    "k_am.sum()"
   ]
  },
  {
   "cell_type": "code",
   "execution_count": 399,
   "id": "b1a82788-fc40-49de-ad47-2038742384f9",
   "metadata": {},
   "outputs": [
    {
     "data": {
      "text/plain": [
       "12.0"
      ]
     },
     "execution_count": 399,
     "metadata": {},
     "output_type": "execute_result"
    }
   ],
   "source": [
    "k_af = k_a.sum() - k_am.sum()\n",
    "k_af"
   ]
  },
  {
   "cell_type": "markdown",
   "id": "9abb5cd9-a5f2-42d2-999b-e3b6b107f047",
   "metadata": {},
   "source": [
    "## Districts in River Cess"
   ]
  },
  {
   "cell_type": "code",
   "execution_count": 412,
   "id": "5000728e-8664-48b5-a7ba-b055c7ee9d90",
   "metadata": {},
   "outputs": [
    {
     "data": {
      "text/plain": [
       "0.0"
      ]
     },
     "execution_count": 412,
     "metadata": {},
     "output_type": "execute_result"
    }
   ],
   "source": [
    "k_s = kece_melt[(kece_melt['district']== 'Districts in River Cess') & (kece_melt['count']== 'Timobo')].sum()\n",
    "k_s = kece_melt[(kece_melt['district']== 'Districts in River Cess') & (kece_melt['count']== 'Central Rivercess 1')].sum()\n",
    "k_s = kece_melt[(kece_melt['district']== 'Districts in River Cess') & (kece_melt['count']== 'Central Rivercess 2')].sum()\n",
    "k_s = kece_melt[(kece_melt['district']== 'Districts in River Cess') & (kece_melt['count']== 'Morwah')].sum()\n",
    "k_s = kece_melt[(kece_melt['district']== 'Districts in River Cess') & (kece_melt['count']== 'Yarnee')].sum()\n",
    "\n",
    "k_a = k_s[1:-2]\n",
    "k_a.sum()\n"
   ]
  },
  {
   "cell_type": "code",
   "execution_count": 413,
   "id": "2ff95ada-ee55-435b-b327-14a792547174",
   "metadata": {},
   "outputs": [
    {
     "data": {
      "text/plain": [
       "0.0"
      ]
     },
     "execution_count": 413,
     "metadata": {},
     "output_type": "execute_result"
    }
   ],
   "source": [
    "k_am = pd.concat([k_a[0:3],\n",
    "k_a[6:9],\n",
    "k_a[12:15],\n",
    "k_a[18:21],\n",
    "k_a[24:27],\n",
    "k_a[30:33],\n",
    "k_a[36:39],\n",
    "k_a[42:45],\n",
    "k_a[48:51],\n",
    "k_a[54:57],\n",
    "k_a[60:63]])\n",
    "k_am.sum()"
   ]
  },
  {
   "cell_type": "code",
   "execution_count": 414,
   "id": "fd547db4-8fee-47c2-9ed9-2a0a84fac514",
   "metadata": {},
   "outputs": [
    {
     "data": {
      "text/plain": [
       "0.0"
      ]
     },
     "execution_count": 414,
     "metadata": {},
     "output_type": "execute_result"
    }
   ],
   "source": [
    "k_af = k_a.sum() - k_am.sum()\n",
    "k_af"
   ]
  },
  {
   "cell_type": "markdown",
   "id": "581967a1-1c38-477f-8119-a70afbda618b",
   "metadata": {},
   "source": [
    "## Districts in Sinoe"
   ]
  },
  {
   "cell_type": "code",
   "execution_count": 439,
   "id": "e53a3b58-4c35-410a-a8f6-28fa2746a14f",
   "metadata": {},
   "outputs": [
    {
     "data": {
      "text/plain": [
       "103.0"
      ]
     },
     "execution_count": 439,
     "metadata": {},
     "output_type": "execute_result"
    }
   ],
   "source": [
    "k_s = kece_melt[(kece_melt['district']== 'District in Sinoe') & (kece_melt['count']== 'Upper Kpanyan')].sum()\n",
    "k_s = kece_melt[(kece_melt['district']== 'District in Sinoe') & (kece_melt['count']== 'Juarzon')].sum()\n",
    "k_s = kece_melt[(kece_melt['district']== 'District in Sinoe') & (kece_melt['count']== 'Lower Kpanyan')].sum()\n",
    "k_s = kece_melt[(kece_melt['district']== 'District in Sinoe') & (kece_melt['count']== 'Butaw')].sum()\n",
    "k_s = kece_melt[(kece_melt['district']== 'District in Sinoe') & (kece_melt['count']== 'Tarjuwon')].sum()\n",
    "k_s = kece_melt[(kece_melt['district']== 'District in Sinoe') & (kece_melt['count']== 'Jeadea')].sum()\n",
    "k_s = kece_melt[(kece_melt['district']== 'District in Sinoe') & (kece_melt['count']== 'Sanquin')].sum()\n",
    "k_s = kece_melt[(kece_melt['district']== 'District in Sinoe') & (kece_melt['count']== 'Greenville')].sum()\n",
    "k_s = kece_melt[(kece_melt['district']== 'District in Sinoe') & (kece_melt['count']== 'Central Kpanyan')].sum()\n",
    "\n",
    "k_a = k_s[1:-2]\n",
    "k_a.sum()"
   ]
  },
  {
   "cell_type": "code",
   "execution_count": 440,
   "id": "b708c39a-e357-43ab-91e0-5312692b74fe",
   "metadata": {},
   "outputs": [
    {
     "data": {
      "text/plain": [
       "31.0"
      ]
     },
     "execution_count": 440,
     "metadata": {},
     "output_type": "execute_result"
    }
   ],
   "source": [
    "k_am = pd.concat([k_a[0:3],\n",
    "k_a[6:9],\n",
    "k_a[12:15],\n",
    "k_a[18:21],\n",
    "k_a[24:27],\n",
    "k_a[30:33],\n",
    "k_a[36:39],\n",
    "k_a[42:45],\n",
    "k_a[48:51],\n",
    "k_a[54:57],\n",
    "k_a[60:63]])\n",
    "k_am.sum()"
   ]
  },
  {
   "cell_type": "code",
   "execution_count": 438,
   "id": "d1cab6b3-f07b-4b22-9d8f-38ca41325f42",
   "metadata": {},
   "outputs": [
    {
     "data": {
      "text/plain": [
       "566.0"
      ]
     },
     "execution_count": 438,
     "metadata": {},
     "output_type": "execute_result"
    }
   ],
   "source": [
    "k_af = k_a.sum() - k_am.sum()\n",
    "k_af"
   ]
  },
  {
   "cell_type": "code",
   "execution_count": null,
   "id": "2055cef5-c525-43aa-a5dd-509efd6988fe",
   "metadata": {},
   "outputs": [],
   "source": []
  },
  {
   "cell_type": "code",
   "execution_count": null,
   "id": "418951a0-8340-4d0e-a238-c60caa543b39",
   "metadata": {},
   "outputs": [],
   "source": []
  },
  {
   "cell_type": "code",
   "execution_count": null,
   "id": "852956c0-1268-4b37-a784-b9b8d908f142",
   "metadata": {},
   "outputs": [],
   "source": []
  },
  {
   "cell_type": "markdown",
   "id": "42e82392-72e7-4490-ab71-59aec625b398",
   "metadata": {},
   "source": [
    "# Table 7: Enrollment by District and Grade"
   ]
  },
  {
   "cell_type": "code",
   "execution_count": null,
   "id": "1d69472d-c828-4bba-aae0-c852315f76c7",
   "metadata": {},
   "outputs": [],
   "source": []
  },
  {
   "cell_type": "code",
   "execution_count": 62,
   "id": "1705155f-0b2b-4f54-a69f-4268e141f2eb",
   "metadata": {},
   "outputs": [],
   "source": [
    "#kece_cds.columns"
   ]
  },
  {
   "cell_type": "code",
   "execution_count": 441,
   "id": "62165002-6be1-444e-a5c7-1c8930bf9f51",
   "metadata": {},
   "outputs": [],
   "source": [
    "#pd.set_option('display.max_rows',2000)\n",
    "\n",
    "#kece_cds['District in Nimba'].dropna() #[kece_cds['District in Montserrado 2']=='Left Bank 1B']"
   ]
  },
  {
   "cell_type": "markdown",
   "id": "7c216703-9c25-4c72-9248-ae5db06d2936",
   "metadata": {},
   "source": [
    "## Districts in Bomi County"
   ]
  },
  {
   "cell_type": "code",
   "execution_count": 458,
   "id": "6398e100-72bc-485d-a3f5-1f4570144015",
   "metadata": {},
   "outputs": [],
   "source": [
    "k_s = kece_melt[(kece_melt['district']== 'District in Bomi') & (kece_melt['count']== 'Senji')].sum()\n",
    "k_s = kece_melt[(kece_melt['district']== 'District in Bomi') & (kece_melt['count']== 'Dewoin')].sum()\n",
    "k_s = kece_melt[(kece_melt['district']== 'District in Bomi') & (kece_melt['count']== 'Klay')].sum()\n",
    "k_s = kece_melt[(kece_melt['district']== 'District in Bomi') & (kece_melt['count']== 'Suehn-Mecca')].sum()\n",
    "k_a = k_s[1:-2]\n",
    "#k_a.sum()\n"
   ]
  },
  {
   "cell_type": "code",
   "execution_count": 459,
   "id": "b414e677-ba70-4381-88cd-d4bdc6dad2e9",
   "metadata": {},
   "outputs": [
    {
     "data": {
      "text/plain": [
       "27.0"
      ]
     },
     "execution_count": 459,
     "metadata": {},
     "output_type": "execute_result"
    }
   ],
   "source": [
    "k_a10 =k_a[::3].sum()\n",
    "k_a10"
   ]
  },
  {
   "cell_type": "code",
   "execution_count": 460,
   "id": "6a193959-d758-4df3-b260-ed37c821b9a9",
   "metadata": {},
   "outputs": [
    {
     "data": {
      "text/plain": [
       "15.0"
      ]
     },
     "execution_count": 460,
     "metadata": {},
     "output_type": "execute_result"
    }
   ],
   "source": [
    "k_a11 = k_a[1:37:3].append(\n",
    "k_a[[38,40,44,46, 49,52,55, 58, 61, 64]]).sum()\n",
    "k_a11"
   ]
  },
  {
   "cell_type": "code",
   "execution_count": 461,
   "id": "6bb438f6-f8d3-42d8-8187-5e86c525d269",
   "metadata": {},
   "outputs": [
    {
     "data": {
      "text/plain": [
       "5.0"
      ]
     },
     "execution_count": 461,
     "metadata": {},
     "output_type": "execute_result"
    }
   ],
   "source": [
    "k_a12 =k_a[2:37:3].append(\n",
    "k_a[[37,41,43,47, 50,53,56, 59, 62, 65]]).sum()\n",
    "k_a12"
   ]
  },
  {
   "cell_type": "markdown",
   "id": "7441752f-445d-474a-bf1d-94c656c4d70d",
   "metadata": {},
   "source": [
    "## Districts in Bong County"
   ]
  },
  {
   "cell_type": "code",
   "execution_count": 512,
   "id": "00fc1557-99c9-46b0-bf60-e55c6893a36c",
   "metadata": {},
   "outputs": [
    {
     "data": {
      "text/plain": [
       "97.0"
      ]
     },
     "execution_count": 512,
     "metadata": {},
     "output_type": "execute_result"
    }
   ],
   "source": [
    "k_s = kece_melt[(kece_melt['district']== 'District in Bong County') & (kece_melt['count']== 'Gbarnga 1')].sum()\n",
    "k_s = kece_melt[(kece_melt['district']== 'District in Bong County') & (kece_melt['count']== 'Gbarnga 2')].sum()\n",
    "k_s = kece_melt[(kece_melt['district']== 'District in Bong County') & (kece_melt['count']== 'Zota')].sum()\n",
    "k_s = kece_melt[(kece_melt['district']== 'District in Bong County') & (kece_melt['count']== 'Salala')].sum()\n",
    "k_s = kece_melt[(kece_melt['district']== 'District in Bong County') & (kece_melt['count']== 'Fuamah')].sum()\n",
    "k_s = kece_melt[(kece_melt['district']== 'District in Bong County') & (kece_melt['count']== 'Suakoko')].sum()\n",
    "k_s = kece_melt[(kece_melt['district']== 'District in Bong County') & (kece_melt['count']== 'Sanoyea')].sum()\n",
    "k_s = kece_melt[(kece_melt['district']== 'District in Bong County') & (kece_melt['count']== 'Panta-Kpaai')].sum()\n",
    "k_s = kece_melt[(kece_melt['district']== 'District in Bong County') & (kece_melt['count']== 'Kokoyah')].sum()\n",
    "k_a = k_s[1:-2]\n",
    "k_a.sum()\n"
   ]
  },
  {
   "cell_type": "code",
   "execution_count": 513,
   "id": "37f2c664-af36-4c12-bbdf-062f6147b1e6",
   "metadata": {},
   "outputs": [
    {
     "data": {
      "text/plain": [
       "25.0"
      ]
     },
     "execution_count": 513,
     "metadata": {},
     "output_type": "execute_result"
    }
   ],
   "source": [
    "k_s10 =k_a[::3].sum()\n",
    "k_s10"
   ]
  },
  {
   "cell_type": "code",
   "execution_count": 514,
   "id": "6002c5c0-f430-4d79-893b-c27e867b4eca",
   "metadata": {},
   "outputs": [
    {
     "data": {
      "text/plain": [
       "20.0"
      ]
     },
     "execution_count": 514,
     "metadata": {},
     "output_type": "execute_result"
    }
   ],
   "source": [
    "k_a11 = k_a[1:37:3].append(\n",
    "k_a[[38,40,44,46, 49,52,55, 58, 61, 64]]).sum()\n",
    "k_a11"
   ]
  },
  {
   "cell_type": "code",
   "execution_count": 515,
   "id": "236f0734-1a15-4710-b681-408584e2e236",
   "metadata": {},
   "outputs": [
    {
     "data": {
      "text/plain": [
       "52.0"
      ]
     },
     "execution_count": 515,
     "metadata": {},
     "output_type": "execute_result"
    }
   ],
   "source": [
    "k_a12 =k_a[2:37:3].append(\n",
    "k_a[[37,41,43,47, 50,53,56, 59, 62, 65]]).sum()\n",
    "k_a12"
   ]
  },
  {
   "cell_type": "code",
   "execution_count": null,
   "id": "642d37c9-7be5-48e9-a5e9-d631d321c7aa",
   "metadata": {},
   "outputs": [],
   "source": []
  },
  {
   "cell_type": "code",
   "execution_count": null,
   "id": "b0cb224f-5931-4a12-b621-1b690501e190",
   "metadata": {},
   "outputs": [],
   "source": []
  },
  {
   "cell_type": "markdown",
   "id": "b7a44e5a-e10f-4762-9e23-5a3f0b7f4e82",
   "metadata": {},
   "source": [
    "## Districts in Gbarpolu"
   ]
  },
  {
   "cell_type": "code",
   "execution_count": 535,
   "id": "697723d0-c9a5-4a09-bde3-7f45aaadf74a",
   "metadata": {},
   "outputs": [
    {
     "data": {
      "text/plain": [
       "0.0"
      ]
     },
     "execution_count": 535,
     "metadata": {},
     "output_type": "execute_result"
    }
   ],
   "source": [
    "k_s = kece_melt[(kece_melt['district']== 'District in Gbarpolu') & (kece_melt['count']== 'Gorwalali')].sum()\n",
    "k_s = kece_melt[(kece_melt['district']== 'District in Gbarpolu') & (kece_melt['count']== 'Bopolu')].sum()\n",
    "k_s = kece_melt[(kece_melt['district']== 'District in Gbarpolu') & (kece_melt['count']== 'Gbarma')].sum()\n",
    "k_s = kece_melt[(kece_melt['district']== 'District in Gbarpolu') & (kece_melt['count']== 'Belle')].sum()\n",
    "k_s = kece_melt[(kece_melt['district']== 'District in Gbarpolu') & (kece_melt['count']== 'Bokomu')].sum()\n",
    "k_s = kece_melt[(kece_melt['district']== 'District in Gbarpolu') & (kece_melt['count']== 'Kongba')].sum()\n",
    "\n",
    "k_a = k_s[1:-2]\n",
    "k_a.sum()\n",
    "\n"
   ]
  },
  {
   "cell_type": "code",
   "execution_count": 536,
   "id": "f23b16f3-0d84-4ef8-9888-9a1d479df253",
   "metadata": {},
   "outputs": [
    {
     "data": {
      "text/plain": [
       "0.0"
      ]
     },
     "execution_count": 536,
     "metadata": {},
     "output_type": "execute_result"
    }
   ],
   "source": [
    "k_a10 =k_a[::3].sum()\n",
    "k_a10"
   ]
  },
  {
   "cell_type": "code",
   "execution_count": 537,
   "id": "fc14381d-17d1-4baa-b9c0-25fae4f5a4d8",
   "metadata": {},
   "outputs": [
    {
     "data": {
      "text/plain": [
       "0.0"
      ]
     },
     "execution_count": 537,
     "metadata": {},
     "output_type": "execute_result"
    }
   ],
   "source": [
    "k_a11 = k_a[1:37:3].append(\n",
    "k_a[[38,40,44,46, 49,52,55, 58, 61, 64]]).sum()\n",
    "k_a11"
   ]
  },
  {
   "cell_type": "code",
   "execution_count": 538,
   "id": "63ade83c-49af-4730-a927-62c5c909d3d2",
   "metadata": {},
   "outputs": [
    {
     "data": {
      "text/plain": [
       "0.0"
      ]
     },
     "execution_count": 538,
     "metadata": {},
     "output_type": "execute_result"
    }
   ],
   "source": [
    "k_a12 =k_a[2:37:3].append(\n",
    "k_a[[37,41,43,47, 50,53,56, 59, 62, 65]]).sum()\n",
    "k_a12"
   ]
  },
  {
   "cell_type": "code",
   "execution_count": null,
   "id": "bf9a5639-5c23-4c28-981d-fd157aa02beb",
   "metadata": {},
   "outputs": [],
   "source": []
  },
  {
   "cell_type": "markdown",
   "id": "680b12cb-e4e1-4a3d-b74a-c1d0e6d321c9",
   "metadata": {},
   "source": [
    "## Districts in Grand Bassa "
   ]
  },
  {
   "cell_type": "code",
   "execution_count": 567,
   "id": "2a0a6163-1795-461c-a048-d421d3e188e8",
   "metadata": {},
   "outputs": [
    {
     "data": {
      "text/plain": [
       "0.0"
      ]
     },
     "execution_count": 567,
     "metadata": {},
     "output_type": "execute_result"
    }
   ],
   "source": [
    "k_s = kece_melt[(kece_melt['district']== 'District in Grand Bassa') & (kece_melt['count']== 'District 5')].sum()\n",
    "k_s = kece_melt[(kece_melt['district']== 'District in Grand Bassa') & (kece_melt['count']== 'District 5B')].sum()\n",
    "k_s = kece_melt[(kece_melt['district']== 'District in Grand Bassa') & (kece_melt['count']== 'District 2')].sum()\n",
    "k_s = kece_melt[(kece_melt['district']== 'District in Grand Bassa') & (kece_melt['count']== 'District 3A')].sum()\n",
    "k_s = kece_melt[(kece_melt['district']== 'District in Grand Bassa') & (kece_melt['count']== 'District 3B')].sum()\n",
    "k_s = kece_melt[(kece_melt['district']== 'District in Grand Bassa') & (kece_melt['count']== 'District 1')].sum()\n",
    "k_s = kece_melt[(kece_melt['district']== 'District in Grand Bassa') & (kece_melt['count']== 'District 4')].sum()\n",
    "k_a = k_s[1:-2]\n",
    "k_a.sum()\n",
    "\n"
   ]
  },
  {
   "cell_type": "code",
   "execution_count": 568,
   "id": "edeb858a-fc88-4e36-8f7b-76e93b182075",
   "metadata": {},
   "outputs": [
    {
     "data": {
      "text/plain": [
       "0.0"
      ]
     },
     "execution_count": 568,
     "metadata": {},
     "output_type": "execute_result"
    }
   ],
   "source": [
    "k_a10 =k_a[::3].sum()\n",
    "k_a10"
   ]
  },
  {
   "cell_type": "code",
   "execution_count": 569,
   "id": "30eb431c-4670-44fb-b9f6-671a004e3300",
   "metadata": {},
   "outputs": [
    {
     "data": {
      "text/plain": [
       "0.0"
      ]
     },
     "execution_count": 569,
     "metadata": {},
     "output_type": "execute_result"
    }
   ],
   "source": [
    "k_a11 = k_a[1:37:3].append(\n",
    "k_a[[38,40,44,46, 49,52,55, 58, 61, 64]]).sum()\n",
    "k_a11"
   ]
  },
  {
   "cell_type": "code",
   "execution_count": 570,
   "id": "6e8e0969-cd7d-4152-8c06-5566ad0ba407",
   "metadata": {},
   "outputs": [
    {
     "data": {
      "text/plain": [
       "0.0"
      ]
     },
     "execution_count": 570,
     "metadata": {},
     "output_type": "execute_result"
    }
   ],
   "source": [
    "k_a12 =k_a[2:37:3].append(\n",
    "k_a[[37,41,43,47, 50,53,56, 59, 62, 65]]).sum()\n",
    "k_a12"
   ]
  },
  {
   "cell_type": "code",
   "execution_count": null,
   "id": "639911cd-146c-4a0a-a531-b3d9b5f4fe31",
   "metadata": {},
   "outputs": [],
   "source": []
  },
  {
   "cell_type": "markdown",
   "id": "3ab0e9c1-5fb0-4f91-b644-d01cc5c82db5",
   "metadata": {},
   "source": [
    "## Districts in Grand Cape Mount"
   ]
  },
  {
   "cell_type": "code",
   "execution_count": 587,
   "id": "10052e09-dc12-408a-b0d2-e72527678af1",
   "metadata": {},
   "outputs": [
    {
     "data": {
      "text/plain": [
       "104.0"
      ]
     },
     "execution_count": 587,
     "metadata": {},
     "output_type": "execute_result"
    }
   ],
   "source": [
    "k_s = kece_melt[(kece_melt['district']== 'District in Grand Cape Mount') & (kece_melt['count']== 'Tewor')].sum()\n",
    "k_s = kece_melt[(kece_melt['district']== 'District in Grand Cape Mount') & (kece_melt['count']== 'Gola Konneh')].sum()\n",
    "k_s = kece_melt[(kece_melt['district']== 'District in Grand Cape Mount') & (kece_melt['count']== 'Porkpa')].sum()\n",
    "k_s = kece_melt[(kece_melt['district']== 'District in Grand Cape Mount') & (kece_melt['count']== 'Garwular')].sum()\n",
    "k_s = kece_melt[(kece_melt['district']== 'District in Grand Cape Mount') & (kece_melt['count']== 'Tallah Tombay')].sum()\n",
    "k_a = k_s[1:-2]\n",
    "k_a.sum()\n",
    "\n"
   ]
  },
  {
   "cell_type": "code",
   "execution_count": 588,
   "id": "17b2e6b9-0000-436c-80d4-2dd1c77485cc",
   "metadata": {},
   "outputs": [
    {
     "data": {
      "text/plain": [
       "47.0"
      ]
     },
     "execution_count": 588,
     "metadata": {},
     "output_type": "execute_result"
    }
   ],
   "source": [
    "k_a10 =k_a[::3].sum()\n",
    "k_a10"
   ]
  },
  {
   "cell_type": "code",
   "execution_count": 589,
   "id": "b20cc840-f899-4952-a0b7-0007d987afbb",
   "metadata": {},
   "outputs": [
    {
     "data": {
      "text/plain": [
       "35.0"
      ]
     },
     "execution_count": 589,
     "metadata": {},
     "output_type": "execute_result"
    }
   ],
   "source": [
    "k_a11 = k_a[1:37:3].append(\n",
    "k_a[[38,40,44,46, 49,52,55, 58, 61, 64]]).sum()\n",
    "k_a11"
   ]
  },
  {
   "cell_type": "code",
   "execution_count": 590,
   "id": "fc7154e2-9221-42e0-9637-4025bae9bb38",
   "metadata": {},
   "outputs": [
    {
     "data": {
      "text/plain": [
       "22.0"
      ]
     },
     "execution_count": 590,
     "metadata": {},
     "output_type": "execute_result"
    }
   ],
   "source": [
    "k_a12 =k_a[2:37:3].append(\n",
    "k_a[[37,41,43,47, 50,53,56, 59, 62, 65]]).sum()\n",
    "k_a12"
   ]
  },
  {
   "cell_type": "code",
   "execution_count": null,
   "id": "9a336873-4b33-42a7-9a40-b3ab09258a5a",
   "metadata": {},
   "outputs": [],
   "source": []
  },
  {
   "cell_type": "markdown",
   "id": "1fc620c6-dcf4-4549-be17-e24eb562d799",
   "metadata": {},
   "source": [
    "## Districts in Grand Gedeh"
   ]
  },
  {
   "cell_type": "code",
   "execution_count": 607,
   "id": "f1ed567e-f4ad-4c8f-8ec7-b124349107cc",
   "metadata": {},
   "outputs": [
    {
     "data": {
      "text/plain": [
       "578.0"
      ]
     },
     "execution_count": 607,
     "metadata": {},
     "output_type": "execute_result"
    }
   ],
   "source": [
    "k_s = kece_melt[(kece_melt['district']== 'Districts in Grand Gedeh') & (kece_melt['count']== 'Konobo')].sum()\n",
    "k_s = kece_melt[(kece_melt['district']== 'Districts in Grand Gedeh') & (kece_melt['count']== 'Putu')].sum()\n",
    "k_s = kece_melt[(kece_melt['district']== 'Districts in Grand Gedeh') & (kece_melt['count']== 'Gbarzon')].sum()\n",
    "k_s = kece_melt[(kece_melt['district']== 'Districts in Grand Gedeh') & (kece_melt['count']== 'Tchien')].sum()\n",
    "k_s = kece_melt[(kece_melt['district']== 'Districts in Grand Gedeh') & (kece_melt['count']== 'Cavalla')].sum()\n",
    "\n",
    "k_a = k_s[1:-2]\n",
    "k_a.sum()\n",
    "\n"
   ]
  },
  {
   "cell_type": "code",
   "execution_count": 608,
   "id": "e67970f8-43f2-4897-b4b6-71400a92abed",
   "metadata": {},
   "outputs": [
    {
     "data": {
      "text/plain": [
       "166.0"
      ]
     },
     "execution_count": 608,
     "metadata": {},
     "output_type": "execute_result"
    }
   ],
   "source": [
    "k_a10 =k_a[::3].sum()\n",
    "k_a10"
   ]
  },
  {
   "cell_type": "code",
   "execution_count": 609,
   "id": "69347fd2-44ca-4582-8adc-a2c4dc412975",
   "metadata": {},
   "outputs": [
    {
     "data": {
      "text/plain": [
       "222.0"
      ]
     },
     "execution_count": 609,
     "metadata": {},
     "output_type": "execute_result"
    }
   ],
   "source": [
    "k_a11 = k_a[1:37:3].append(\n",
    "k_a[[38,40,44,46, 49,52,55, 58, 61, 64]]).sum()\n",
    "k_a11"
   ]
  },
  {
   "cell_type": "code",
   "execution_count": 610,
   "id": "03b3fe94-f1cc-4e4b-8e13-40c73a465d21",
   "metadata": {},
   "outputs": [
    {
     "data": {
      "text/plain": [
       "190.0"
      ]
     },
     "execution_count": 610,
     "metadata": {},
     "output_type": "execute_result"
    }
   ],
   "source": [
    "k_a12 =k_a[2:37:3].append(\n",
    "k_a[[37,41,43,47, 50,53,56, 59, 62, 65]]).sum()\n",
    "k_a12"
   ]
  },
  {
   "cell_type": "code",
   "execution_count": null,
   "id": "d06bf382-1da9-4251-94a2-b39939cd8dc0",
   "metadata": {},
   "outputs": [],
   "source": []
  },
  {
   "cell_type": "markdown",
   "id": "f83d2cc0-772e-47b3-917f-c8d61396c467",
   "metadata": {},
   "source": [
    "## Districts in Grand Kru"
   ]
  },
  {
   "cell_type": "code",
   "execution_count": 639,
   "id": "3aead961-b30d-41b9-8899-e09211d5ef5a",
   "metadata": {},
   "outputs": [
    {
     "data": {
      "text/plain": [
       "0.0"
      ]
     },
     "execution_count": 639,
     "metadata": {},
     "output_type": "execute_result"
    }
   ],
   "source": [
    "k_s = kece_melt[(kece_melt['district']== 'Districts in Grand Kru') & (kece_melt['count']== 'Barclayville')].sum()\n",
    "k_s = kece_melt[(kece_melt['district']== 'Districts in Grand Kru') & (kece_melt['count']== 'Trehn')].sum()\n",
    "k_s = kece_melt[(kece_melt['district']== 'Districts in Grand Kru') & (kece_melt['count']== 'Buah')].sum()\n",
    "k_s = kece_melt[(kece_melt['district']== 'Districts in Grand Kru') & (kece_melt['count']== 'Grand Cess')].sum()\n",
    "k_s = kece_melt[(kece_melt['district']== 'Districts in Grand Kru') & (kece_melt['count']== 'Dorbor')].sum()\n",
    "k_s = kece_melt[(kece_melt['district']== 'Districts in Grand Kru') & (kece_melt['count']== 'Jloh')].sum()\n",
    "k_s = kece_melt[(kece_melt['district']== 'Districts in Grand Kru') & (kece_melt['count']== 'Sass Town')].sum()\n",
    "k_s = kece_melt[(kece_melt['district']== 'Districts in Grand Kru') & (kece_melt['count']== 'Wedabo')].sum()\n",
    "\n",
    "k_a = k_s[1:-2]\n",
    "k_a.sum()\n"
   ]
  },
  {
   "cell_type": "code",
   "execution_count": 640,
   "id": "7e3f6e12-c453-4494-b88d-c246a83e0d4f",
   "metadata": {},
   "outputs": [
    {
     "data": {
      "text/plain": [
       "0.0"
      ]
     },
     "execution_count": 640,
     "metadata": {},
     "output_type": "execute_result"
    }
   ],
   "source": [
    "k_a10 =k_a[::3].sum()\n",
    "k_a10"
   ]
  },
  {
   "cell_type": "code",
   "execution_count": 641,
   "id": "69c422d4-db15-44cc-9e64-03caf34fcb15",
   "metadata": {},
   "outputs": [
    {
     "data": {
      "text/plain": [
       "0.0"
      ]
     },
     "execution_count": 641,
     "metadata": {},
     "output_type": "execute_result"
    }
   ],
   "source": [
    "k_a11 = k_a[1:37:3].append(\n",
    "k_a[[38,40,44,46, 49,52,55, 58, 61, 64]]).sum()\n",
    "k_a11"
   ]
  },
  {
   "cell_type": "code",
   "execution_count": 642,
   "id": "5e05dbd4-17b2-459d-9504-573eea073ab7",
   "metadata": {},
   "outputs": [
    {
     "data": {
      "text/plain": [
       "0.0"
      ]
     },
     "execution_count": 642,
     "metadata": {},
     "output_type": "execute_result"
    }
   ],
   "source": [
    "k_a12 =k_a[2:37:3].append(\n",
    "k_a[[37,41,43,47, 50,53,56, 59, 62, 65]]).sum()\n",
    "k_a12"
   ]
  },
  {
   "cell_type": "markdown",
   "id": "540f248e-9437-4927-815b-e1969e5d56ba",
   "metadata": {},
   "source": [
    "## Districts in Lofa"
   ]
  },
  {
   "cell_type": "code",
   "execution_count": 667,
   "id": "412abd32-68a6-41d5-8cfc-015bac732ed7",
   "metadata": {},
   "outputs": [
    {
     "data": {
      "text/plain": [
       "350.0"
      ]
     },
     "execution_count": 667,
     "metadata": {},
     "output_type": "execute_result"
    }
   ],
   "source": [
    "k_s = kece_melt[(kece_melt['district']== 'District in Lofa') & (kece_melt['count']== 'Foya')].sum()\n",
    "k_s = kece_melt[(kece_melt['district']== 'District in Lofa') & (kece_melt['count']== 'Kolahun 1')].sum()\n",
    "k_s = kece_melt[(kece_melt['district']== 'District in Lofa') & (kece_melt['count']== 'Kolahun 2')].sum()\n",
    "k_s = kece_melt[(kece_melt['district']== 'District in Lofa') & (kece_melt['count']== 'Salayea')].sum()\n",
    "k_s = kece_melt[(kece_melt['district']== 'District in Lofa') & (kece_melt['count']== 'Vahun')].sum()\n",
    "k_s = kece_melt[(kece_melt['district']== 'District in Lofa') & (kece_melt['count']== 'Voinjama')].sum()\n",
    "k_s = kece_melt[(kece_melt['district']== 'District in Lofa') & (kece_melt['count']== 'Zorzor')].sum()\n",
    "k_a = k_s[1:-2]\n",
    "k_a.sum()\n"
   ]
  },
  {
   "cell_type": "code",
   "execution_count": 668,
   "id": "742573c4-7845-41e7-829d-16411f04ce9c",
   "metadata": {},
   "outputs": [
    {
     "data": {
      "text/plain": [
       "143.0"
      ]
     },
     "execution_count": 668,
     "metadata": {},
     "output_type": "execute_result"
    }
   ],
   "source": [
    "k_a10 =k_a[::3].sum()\n",
    "k_a10"
   ]
  },
  {
   "cell_type": "code",
   "execution_count": 669,
   "id": "50ef0011-a6ab-44f1-bd1f-203a1201e9b0",
   "metadata": {},
   "outputs": [
    {
     "data": {
      "text/plain": [
       "127.0"
      ]
     },
     "execution_count": 669,
     "metadata": {},
     "output_type": "execute_result"
    }
   ],
   "source": [
    "k_a11 = k_a[1:37:3].append(\n",
    "k_a[[38,40,44,46, 49,52,55, 58, 61, 64]]).sum()\n",
    "k_a11"
   ]
  },
  {
   "cell_type": "code",
   "execution_count": 670,
   "id": "b4d0f441-3be9-48e8-a536-f33b4861bca5",
   "metadata": {},
   "outputs": [
    {
     "data": {
      "text/plain": [
       "80.0"
      ]
     },
     "execution_count": 670,
     "metadata": {},
     "output_type": "execute_result"
    }
   ],
   "source": [
    "k_a12 =k_a[2:37:3].append(\n",
    "k_a[[37,41,43,47, 50,53,56, 59, 62, 65]]).sum()\n",
    "k_a12"
   ]
  },
  {
   "cell_type": "markdown",
   "id": "f82c1995-b3c5-4344-9219-cba3609ea0d2",
   "metadata": {},
   "source": [
    "## Districts in Margibi"
   ]
  },
  {
   "cell_type": "code",
   "execution_count": 691,
   "id": "3e89b1c5-4279-45c2-9c2e-c335a66134a1",
   "metadata": {},
   "outputs": [
    {
     "data": {
      "text/plain": [
       "1275.0"
      ]
     },
     "execution_count": 691,
     "metadata": {},
     "output_type": "execute_result"
    }
   ],
   "source": [
    "k_s = kece_melt[(kece_melt['district']== 'District in Margibi') & (kece_melt['count']== 'Marshall')].sum()\n",
    "k_s = kece_melt[(kece_melt['district']== 'District in Margibi') & (kece_melt['count']== 'Farmington')].sum()\n",
    "k_s = kece_melt[(kece_melt['district']== 'District in Margibi') & (kece_melt['count']== 'Mama kaba')].sum()\n",
    "k_s = kece_melt[(kece_melt['district']== 'District in Margibi') & (kece_melt['count']== 'Gibi')].sum()\n",
    "k_s = kece_melt[(kece_melt['district']== 'District in Margibi') & (kece_melt['count']== 'Kakata 1')].sum()\n",
    "k_s = kece_melt[(kece_melt['district']== 'District in Margibi') & (kece_melt['count']== 'Kakata 2')].sum()\n",
    "k_a = k_s[1:-2]\n",
    "k_a.sum()\n"
   ]
  },
  {
   "cell_type": "code",
   "execution_count": 692,
   "id": "6c347292-8fc6-4ead-a458-59840883c945",
   "metadata": {},
   "outputs": [
    {
     "data": {
      "text/plain": [
       "497.0"
      ]
     },
     "execution_count": 692,
     "metadata": {},
     "output_type": "execute_result"
    }
   ],
   "source": [
    "k_a10 =k_a[::3].sum()\n",
    "k_a10"
   ]
  },
  {
   "cell_type": "code",
   "execution_count": 693,
   "id": "815ffd95-872f-4feb-8e43-d4332061f77d",
   "metadata": {},
   "outputs": [
    {
     "data": {
      "text/plain": [
       "401.0"
      ]
     },
     "execution_count": 693,
     "metadata": {},
     "output_type": "execute_result"
    }
   ],
   "source": [
    "k_a11 = k_a[1:37:3].append(\n",
    "k_a[[38,40,44,46, 49,52,55, 58, 61, 64]]).sum()\n",
    "k_a11"
   ]
  },
  {
   "cell_type": "code",
   "execution_count": 694,
   "id": "816a8758-db1c-4822-8ab9-6883d7f52ca3",
   "metadata": {},
   "outputs": [
    {
     "data": {
      "text/plain": [
       "377.0"
      ]
     },
     "execution_count": 694,
     "metadata": {},
     "output_type": "execute_result"
    }
   ],
   "source": [
    "k_a12 =k_a[2:37:3].append(\n",
    "k_a[[37,41,43,47, 50,53,56, 59, 62, 65]]).sum()\n",
    "k_a12"
   ]
  },
  {
   "cell_type": "markdown",
   "id": "ea0da580-03f6-4e1f-8f5f-ea89b0e843b4",
   "metadata": {},
   "source": [
    "## Districts in Maryland"
   ]
  },
  {
   "cell_type": "code",
   "execution_count": 723,
   "id": "22551948-a6e4-490b-ad9d-e74d0948b57c",
   "metadata": {},
   "outputs": [
    {
     "data": {
      "text/plain": [
       "0.0"
      ]
     },
     "execution_count": 723,
     "metadata": {},
     "output_type": "execute_result"
    }
   ],
   "source": [
    "k_s = kece_melt[(kece_melt['district']== 'District in Maryland') & (kece_melt['count']== 'Harper 1')].sum()\n",
    "k_s = kece_melt[(kece_melt['district']== 'District in Maryland') & (kece_melt['count']== 'Harper 2')].sum()\n",
    "k_s = kece_melt[(kece_melt['district']== 'District in Maryland') & (kece_melt['count']== 'Barrobo 1')].sum()\n",
    "k_s = kece_melt[(kece_melt['district']== 'District in Maryland') & (kece_melt['count']== 'Barrobo 2')].sum()\n",
    "k_s = kece_melt[(kece_melt['district']== 'District in Maryland') & (kece_melt['count']== 'Sodoken')].sum()\n",
    "k_s = kece_melt[(kece_melt['district']== 'District in Maryland') & (kece_melt['count']== 'Karleway 1')].sum()\n",
    "k_s = kece_melt[(kece_melt['district']== 'District in Maryland') & (kece_melt['count']== 'Karleway 2')].sum()\n",
    "k_s = kece_melt[(kece_melt['district']== 'District in Maryland') & (kece_melt['count']== 'Pleebo')].sum()\n",
    "k_a = k_s[1:-2]\n",
    "k_a.sum()"
   ]
  },
  {
   "cell_type": "code",
   "execution_count": 724,
   "id": "40284668-95d9-4ca8-8830-aac453a95f5d",
   "metadata": {},
   "outputs": [
    {
     "data": {
      "text/plain": [
       "0.0"
      ]
     },
     "execution_count": 724,
     "metadata": {},
     "output_type": "execute_result"
    }
   ],
   "source": [
    "k_a10 =k_a[::3].sum()\n",
    "k_a10"
   ]
  },
  {
   "cell_type": "code",
   "execution_count": 725,
   "id": "4b0eb126-8aea-43cf-89e0-525c7bf19a01",
   "metadata": {},
   "outputs": [
    {
     "data": {
      "text/plain": [
       "0.0"
      ]
     },
     "execution_count": 725,
     "metadata": {},
     "output_type": "execute_result"
    }
   ],
   "source": [
    "k_a11 = k_a[1:37:3].append(\n",
    "k_a[[38,40,44,46, 49,52,55, 58, 61, 64]]).sum()\n",
    "k_a11"
   ]
  },
  {
   "cell_type": "code",
   "execution_count": 726,
   "id": "393942e0-8f78-41c5-9b58-9fec1ec4eee3",
   "metadata": {},
   "outputs": [
    {
     "data": {
      "text/plain": [
       "0.0"
      ]
     },
     "execution_count": 726,
     "metadata": {},
     "output_type": "execute_result"
    }
   ],
   "source": [
    "k_a12 =k_a[2:37:3].append(\n",
    "k_a[[37,41,43,47, 50,53,56, 59, 62, 65]]).sum()\n",
    "k_a12"
   ]
  },
  {
   "cell_type": "markdown",
   "id": "abfe93d2-fa73-4ef0-850d-650f025bbdb5",
   "metadata": {},
   "source": [
    "## Districts in Montserrado 1"
   ]
  },
  {
   "cell_type": "code",
   "execution_count": 783,
   "id": "d0ed7781-f823-491f-bd01-abf288e69edd",
   "metadata": {},
   "outputs": [
    {
     "data": {
      "text/plain": [
       "1992.0"
      ]
     },
     "execution_count": 783,
     "metadata": {},
     "output_type": "execute_result"
    }
   ],
   "source": [
    "k_s = kece_melt[(kece_melt['district']== 'District in Montserrado 1') & (kece_melt['count']== 'Paynesville 1')].sum()\n",
    "k_s = kece_melt[(kece_melt['district']== 'District in Montserrado 1') & (kece_melt['count']== 'Paynesville 2')].sum()\n",
    "k_s = kece_melt[(kece_melt['district']== 'District in Montserrado 1') & (kece_melt['count']== 'Paynesville 3')].sum()\n",
    "k_s = kece_melt[(kece_melt['district']== 'District in Montserrado 1') & (kece_melt['count']== 'Paynesville 4')].sum()\n",
    "k_s = kece_melt[(kece_melt['district']== 'District in Montserrado 1') & (kece_melt['count']== 'Paynesville 5')].sum()\n",
    "k_s = kece_melt[(kece_melt['district']== 'District in Montserrado 1') & (kece_melt['count']== 'Paynesville 6')].sum()\n",
    "k_s = kece_melt[(kece_melt['district']== 'District in Montserrado 1') & (kece_melt['count']== 'Greater Monrovia 1A')].sum()\n",
    "k_s = kece_melt[(kece_melt['district']== 'District in Montserrado 1') & (kece_melt['count']== 'Greater Monrovia 1B')].sum()\n",
    "k_s = kece_melt[(kece_melt['district']== 'District in Montserrado 1') & (kece_melt['count']== 'Greater Monrovia 1C')].sum()\n",
    "k_s = kece_melt[(kece_melt['district']== 'District in Montserrado 1') & (kece_melt['count']== 'Greater Monrovia 1D')].sum()\n",
    "k_s = kece_melt[(kece_melt['district']== 'District in Montserrado 1') & (kece_melt['count']== 'Greater Monrovia 1E')].sum()\n",
    "k_s = kece_melt[(kece_melt['district']== 'District in Montserrado 1') & (kece_melt['count']== 'Greater Monrovia 2A')].sum()\n",
    "k_s = kece_melt[(kece_melt['district']== 'District in Montserrado 1') & (kece_melt['count']== 'Greater Monrovia 2B')].sum()\n",
    "k_s = kece_melt[(kece_melt['district']== 'District in Montserrado 1') & (kece_melt['count']== 'Greater Monrovia 2C')].sum()\n",
    "k_s = kece_melt[(kece_melt['district']== 'District in Montserrado 1') & (kece_melt['count']== 'Greater Monrovia 2D')].sum()\n",
    "k_a = k_s[1:-2]\n",
    "k_a.sum()"
   ]
  },
  {
   "cell_type": "code",
   "execution_count": 784,
   "id": "79dd2b6c-24e5-48b1-ad7d-6eeff1a640e3",
   "metadata": {},
   "outputs": [
    {
     "data": {
      "text/plain": [
       "669.0"
      ]
     },
     "execution_count": 784,
     "metadata": {},
     "output_type": "execute_result"
    }
   ],
   "source": [
    "k_a10 =k_a[::3].sum()\n",
    "k_a10"
   ]
  },
  {
   "cell_type": "code",
   "execution_count": 785,
   "id": "a5f12adf-84ad-4ddd-8725-ad64552d3452",
   "metadata": {},
   "outputs": [
    {
     "data": {
      "text/plain": [
       "693.0"
      ]
     },
     "execution_count": 785,
     "metadata": {},
     "output_type": "execute_result"
    }
   ],
   "source": [
    "k_a11 = k_a[1:37:3].append(\n",
    "k_a[[38,40,44,46, 49,52,55, 58, 61, 64]]).sum()\n",
    "k_a11"
   ]
  },
  {
   "cell_type": "code",
   "execution_count": 786,
   "id": "a7aae383-fdbf-4ae4-b0cb-f6c33de82b1f",
   "metadata": {},
   "outputs": [
    {
     "data": {
      "text/plain": [
       "630.0"
      ]
     },
     "execution_count": 786,
     "metadata": {},
     "output_type": "execute_result"
    }
   ],
   "source": [
    "k_a12 =k_a[2:37:3].append(\n",
    "k_a[[37,41,43,47, 50,53,56, 59, 62, 65]]).sum()\n",
    "k_a12"
   ]
  },
  {
   "cell_type": "markdown",
   "id": "3c8fce94-3d58-4e50-8b9d-be1b380fbc2e",
   "metadata": {},
   "source": [
    "## Districts in Montserrado 2"
   ]
  },
  {
   "cell_type": "code",
   "execution_count": 827,
   "id": "3a1f7bd8-e957-47f6-8a52-96ced1d70615",
   "metadata": {},
   "outputs": [
    {
     "data": {
      "text/plain": [
       "1509.0"
      ]
     },
     "execution_count": 827,
     "metadata": {},
     "output_type": "execute_result"
    }
   ],
   "source": [
    "k_s = kece_melt[(kece_melt['district']== 'District in Montserrado 2') & (kece_melt['count']== 'Left Bank 1A')].sum()\n",
    "k_s = kece_melt[(kece_melt['district']== 'District in Montserrado 2') & (kece_melt['count']== 'Left bank 1B')].sum()\n",
    "k_s = kece_melt[(kece_melt['district']== 'District in Montserrado 2') & (kece_melt['count']== 'Left bank  1C')].sum()\n",
    "k_s = kece_melt[(kece_melt['district']== 'District in Montserrado 2') & (kece_melt['count']== 'Left Bank 1D')].sum()\n",
    "k_s = kece_melt[(kece_melt['district']== 'District in Montserrado 2') & (kece_melt['count']== 'Left Bank 2A')].sum()\n",
    "k_s = kece_melt[(kece_melt['district']== 'District in Montserrado 2') & (kece_melt['count']== 'Left bank 2B')].sum()\n",
    "k_s = kece_melt[(kece_melt['district']== 'District in Montserrado 2') & (kece_melt['count']== 'Careysburg')].sum()\n",
    "k_s = kece_melt[(kece_melt['district']== 'District in Montserrado 2') & (kece_melt['count']== 'Todee')].sum()\n",
    "k_s = kece_melt[(kece_melt['district']== 'District in Montserrado 2') & (kece_melt['count']== 'Right Bank 1')].sum()\n",
    "k_s = kece_melt[(kece_melt['district']== 'District in Montserrado 2') & (kece_melt['count']== 'Right Bank 2')].sum()\n",
    "k_s = kece_melt[(kece_melt['district']== 'District in Montserrado 2') & (kece_melt['count']== 'Right Bank 3')].sum()\n",
    "k_a = k_s[1:-2]\n",
    "k_a.sum()\n"
   ]
  },
  {
   "cell_type": "code",
   "execution_count": 828,
   "id": "b0e48f70-6d7c-4f2c-a64d-e3b254e14a8c",
   "metadata": {},
   "outputs": [
    {
     "data": {
      "text/plain": [
       "536.0"
      ]
     },
     "execution_count": 828,
     "metadata": {},
     "output_type": "execute_result"
    }
   ],
   "source": [
    "k_a10 =k_a[::3].sum()\n",
    "k_a10"
   ]
  },
  {
   "cell_type": "code",
   "execution_count": 829,
   "id": "742cf86b-2d38-405d-90b9-f84ec21d03be",
   "metadata": {},
   "outputs": [
    {
     "data": {
      "text/plain": [
       "496.0"
      ]
     },
     "execution_count": 829,
     "metadata": {},
     "output_type": "execute_result"
    }
   ],
   "source": [
    "k_a11 = k_a[1:37:3].append(\n",
    "k_a[[38,40,44,46, 49,52,55, 58, 61, 64]]).sum()\n",
    "k_a11"
   ]
  },
  {
   "cell_type": "code",
   "execution_count": 830,
   "id": "c71a58d4-bafe-4e46-94a4-7f0ef58317fc",
   "metadata": {},
   "outputs": [
    {
     "data": {
      "text/plain": [
       "477.0"
      ]
     },
     "execution_count": 830,
     "metadata": {},
     "output_type": "execute_result"
    }
   ],
   "source": [
    "k_a12 =k_a[2:37:3].append(\n",
    "k_a[[37,41,43,47, 50,53,56, 59, 62, 65]]).sum()\n",
    "k_a12"
   ]
  },
  {
   "cell_type": "markdown",
   "id": "6e6be2af-df86-4cfa-a667-f26ad1ce24f2",
   "metadata": {},
   "source": [
    "## Districts in Nimba"
   ]
  },
  {
   "cell_type": "code",
   "execution_count": 911,
   "id": "f821cd93-a4e5-4dfa-9fda-08ad918bb7ba",
   "metadata": {},
   "outputs": [
    {
     "data": {
      "text/plain": [
       "146.0"
      ]
     },
     "execution_count": 911,
     "metadata": {},
     "output_type": "execute_result"
    }
   ],
   "source": [
    "k_s = kece_melt[(kece_melt['district']== 'District in Nimba') & (kece_melt['count']== 'Tappita 1')].sum()\n",
    "k_s = kece_melt[(kece_melt['district']== 'District in Nimba') & (kece_melt['count']== 'Tappita 2')].sum()\n",
    "k_s = kece_melt[(kece_melt['district']== 'District in Nimba') & (kece_melt['count']== 'Saclepea 1')].sum()\n",
    "k_s = kece_melt[(kece_melt['district']== 'District in Nimba') & (kece_melt['count']== 'Sanniquellie Mah')].sum()\n",
    "k_s = kece_melt[(kece_melt['district']== 'District in Nimba') & (kece_melt['count']== 'Zoe-Geh')].sum()\n",
    "k_s = kece_melt[(kece_melt['district']== 'District in Nimba') & (kece_melt['count']== 'Tuwah River')].sum()\n",
    "k_s = kece_melt[(kece_melt['district']== 'District in Nimba') & (kece_melt['count']== 'Gbelay-Geh')].sum()\n",
    "k_s = kece_melt[(kece_melt['district']== 'District in Nimba') & (kece_melt['count']== 'Yarpea Mah')].sum()\n",
    "k_s = kece_melt[(kece_melt['district']== 'District in Nimba') & (kece_melt['count']== 'Yarwein Mensonoh')].sum()\n",
    "k_s = kece_melt[(kece_melt['district']== 'District in Nimba') & (kece_melt['count']== 'Buuyao')].sum()\n",
    "k_s = kece_melt[(kece_melt['district']== 'District in Nimba') & (kece_melt['count']== 'Bain-Garr 1')].sum()\n",
    "k_s = kece_melt[(kece_melt['district']== 'District in Nimba') & (kece_melt['count']== 'Bain- Garr 2')].sum()\n",
    "k_a = k_s[1:-2]\n",
    "k_a.sum()"
   ]
  },
  {
   "cell_type": "code",
   "execution_count": 912,
   "id": "7a7e022d-f657-4487-8edd-0b73f9e0197e",
   "metadata": {},
   "outputs": [
    {
     "data": {
      "text/plain": [
       "48.0"
      ]
     },
     "execution_count": 912,
     "metadata": {},
     "output_type": "execute_result"
    }
   ],
   "source": [
    "k_a10 =k_a[::3].sum()\n",
    "k_a10"
   ]
  },
  {
   "cell_type": "code",
   "execution_count": 913,
   "id": "80a93c30-bec7-4dda-a3c6-c2adf151fd69",
   "metadata": {},
   "outputs": [
    {
     "data": {
      "text/plain": [
       "49.0"
      ]
     },
     "execution_count": 913,
     "metadata": {},
     "output_type": "execute_result"
    }
   ],
   "source": [
    "k_a11 = k_a[1:37:3].append(\n",
    "k_a[[38,40,44,46, 49,52,55, 58, 61, 64]]).sum()\n",
    "k_a11"
   ]
  },
  {
   "cell_type": "code",
   "execution_count": 914,
   "id": "7f8e32c2-d75c-4e00-bbd5-da06e6ae79b8",
   "metadata": {},
   "outputs": [
    {
     "data": {
      "text/plain": [
       "49.0"
      ]
     },
     "execution_count": 914,
     "metadata": {},
     "output_type": "execute_result"
    }
   ],
   "source": [
    "k_a12 =k_a[2:37:3].append(\n",
    "k_a[[37,41,43,47, 50,53,56, 59, 62, 65]]).sum()\n",
    "k_a12"
   ]
  },
  {
   "cell_type": "markdown",
   "id": "d0764159-dd9d-4361-9e93-786caf281a2b",
   "metadata": {},
   "source": [
    "## Districts in River Gee"
   ]
  },
  {
   "cell_type": "code",
   "execution_count": 935,
   "id": "49ebe6bf-a86d-482d-b879-e94dfd79318f",
   "metadata": {},
   "outputs": [
    {
     "data": {
      "text/plain": [
       "43.0"
      ]
     },
     "execution_count": 935,
     "metadata": {},
     "output_type": "execute_result"
    }
   ],
   "source": [
    "k_s = kece_melt[(kece_melt['district']== 'District in River Gee') & (kece_melt['count']== 'Sarbo')].sum()\n",
    "k_s = kece_melt[(kece_melt['district']== 'District in River Gee') & (kece_melt['count']== 'Tienpo')].sum()\n",
    "k_s = kece_melt[(kece_melt['district']== 'District in River Gee') & (kece_melt['count']== 'Chedepo')].sum()\n",
    "k_s = kece_melt[(kece_melt['district']== 'District in River Gee') & (kece_melt['count']== 'Putupo')].sum()\n",
    "k_s = kece_melt[(kece_melt['district']== 'District in River Gee') & (kece_melt['count']== 'Gbeapo')].sum()\n",
    "k_s = kece_melt[(kece_melt['district']== 'District in River Gee') & (kece_melt['count']== 'Webbo')].sum()\n",
    "k_a = k_s[1:-2]\n",
    "k_a.sum()\n"
   ]
  },
  {
   "cell_type": "code",
   "execution_count": 936,
   "id": "8ea65ddd-177c-40c0-b3d9-6210cc9a719b",
   "metadata": {},
   "outputs": [
    {
     "data": {
      "text/plain": [
       "26.0"
      ]
     },
     "execution_count": 936,
     "metadata": {},
     "output_type": "execute_result"
    }
   ],
   "source": [
    "k_a10 =k_a[::3].sum()\n",
    "k_a10"
   ]
  },
  {
   "cell_type": "code",
   "execution_count": 937,
   "id": "26c9d91a-b316-4599-893a-d0aadc717391",
   "metadata": {},
   "outputs": [
    {
     "data": {
      "text/plain": [
       "7.0"
      ]
     },
     "execution_count": 937,
     "metadata": {},
     "output_type": "execute_result"
    }
   ],
   "source": [
    "k_a11 = k_a[1:37:3].append(\n",
    "k_a[[38,40,44,46, 49,52,55, 58, 61, 64]]).sum()\n",
    "k_a11"
   ]
  },
  {
   "cell_type": "code",
   "execution_count": 938,
   "id": "d54af708-5d30-4090-a41d-6ca25a49652f",
   "metadata": {},
   "outputs": [
    {
     "data": {
      "text/plain": [
       "10.0"
      ]
     },
     "execution_count": 938,
     "metadata": {},
     "output_type": "execute_result"
    }
   ],
   "source": [
    "k_a12 =k_a[2:37:3].append(\n",
    "k_a[[37,41,43,47, 50,53,56, 59, 62, 65]]).sum()\n",
    "k_a12"
   ]
  },
  {
   "cell_type": "markdown",
   "id": "89aee3dc-9558-4bab-8f97-48fb19e7f36d",
   "metadata": {},
   "source": [
    "## Districts in River Cess"
   ]
  },
  {
   "cell_type": "code",
   "execution_count": 961,
   "id": "365c3fa6-03cd-4bb6-a78f-3134dd036c6e",
   "metadata": {},
   "outputs": [
    {
     "data": {
      "text/plain": [
       "0.0"
      ]
     },
     "execution_count": 961,
     "metadata": {},
     "output_type": "execute_result"
    }
   ],
   "source": [
    "k_s = kece_melt[(kece_melt['district']== 'Districts in River Cess') & (kece_melt['count']== 'Timobo')].sum()\n",
    "k_s = kece_melt[(kece_melt['district']== 'Districts in River Cess') & (kece_melt['count']== 'Central Rivercess 1')].sum()\n",
    "k_s = kece_melt[(kece_melt['district']== 'Districts in River Cess') & (kece_melt['count']== 'Central Rivercess 2')].sum()\n",
    "k_s = kece_melt[(kece_melt['district']== 'Districts in River Cess') & (kece_melt['count']== 'Morwah')].sum()\n",
    "k_s = kece_melt[(kece_melt['district']== 'Districts in River Cess') & (kece_melt['count']== 'Yarnee')].sum()\n",
    "k_a = k_s[1:-2]\n",
    "k_a.sum()"
   ]
  },
  {
   "cell_type": "code",
   "execution_count": 962,
   "id": "a1bd2974-df05-405a-9aed-df24149ba16a",
   "metadata": {},
   "outputs": [
    {
     "data": {
      "text/plain": [
       "0.0"
      ]
     },
     "execution_count": 962,
     "metadata": {},
     "output_type": "execute_result"
    }
   ],
   "source": [
    "k_a10 =k_a[::3].sum()\n",
    "k_a10"
   ]
  },
  {
   "cell_type": "code",
   "execution_count": 963,
   "id": "fd780f74-fd52-435d-b6ca-791d89c0f1ff",
   "metadata": {},
   "outputs": [
    {
     "data": {
      "text/plain": [
       "0.0"
      ]
     },
     "execution_count": 963,
     "metadata": {},
     "output_type": "execute_result"
    }
   ],
   "source": [
    "k_a11 = k_a[1:37:3].append(\n",
    "k_a[[38,40,44,46, 49,52,55, 58, 61, 64]]).sum()\n",
    "k_a11"
   ]
  },
  {
   "cell_type": "code",
   "execution_count": 964,
   "id": "8e3e8411-b1fe-4e7c-89be-61d42be29c51",
   "metadata": {},
   "outputs": [
    {
     "data": {
      "text/plain": [
       "0.0"
      ]
     },
     "execution_count": 964,
     "metadata": {},
     "output_type": "execute_result"
    }
   ],
   "source": [
    "k_a12 =k_a[2:37:3].append(\n",
    "k_a[[37,41,43,47, 50,53,56, 59, 62, 65]]).sum()\n",
    "k_a12"
   ]
  },
  {
   "cell_type": "markdown",
   "id": "bb5d3409-f2c9-4fee-8146-5df5e23004cb",
   "metadata": {},
   "source": [
    "## Districts in Sinoe"
   ]
  },
  {
   "cell_type": "code",
   "execution_count": 996,
   "id": "3ab9ae12-7c6e-4231-903d-4610ab59d8cd",
   "metadata": {},
   "outputs": [
    {
     "data": {
      "text/plain": [
       "103.0"
      ]
     },
     "execution_count": 996,
     "metadata": {},
     "output_type": "execute_result"
    }
   ],
   "source": [
    "k_s = kece_melt[(kece_melt['district']== 'District in Sinoe') & (kece_melt['count']== 'Upper Kpanyan')].sum()\n",
    "k_s = kece_melt[(kece_melt['district']== 'District in Sinoe') & (kece_melt['count']== 'Juarzon')].sum()\n",
    "k_s = kece_melt[(kece_melt['district']== 'District in Sinoe') & (kece_melt['count']== 'Lower Kpanyan')].sum()\n",
    "k_s = kece_melt[(kece_melt['district']== 'District in Sinoe') & (kece_melt['count']== 'Butaw')].sum()\n",
    "k_s = kece_melt[(kece_melt['district']== 'District in Sinoe') & (kece_melt['count']== 'Tarjuwon')].sum()\n",
    "k_s = kece_melt[(kece_melt['district']== 'District in Sinoe') & (kece_melt['count']== 'Jeadea')].sum()\n",
    "k_s = kece_melt[(kece_melt['district']== 'District in Sinoe') & (kece_melt['count']== 'Sanquin')].sum()\n",
    "k_s = kece_melt[(kece_melt['district']== 'District in Sinoe') & (kece_melt['count']== 'Greenville')].sum()\n",
    "k_s = kece_melt[(kece_melt['district']== 'District in Sinoe') & (kece_melt['count']== 'Central Kpanyan')].sum()\n",
    "k_a = k_s[1:-2]\n",
    "k_a.sum()"
   ]
  },
  {
   "cell_type": "code",
   "execution_count": 997,
   "id": "12604877-4df7-46fa-9882-90438e7c1081",
   "metadata": {},
   "outputs": [
    {
     "data": {
      "text/plain": [
       "44.0"
      ]
     },
     "execution_count": 997,
     "metadata": {},
     "output_type": "execute_result"
    }
   ],
   "source": [
    "k_a10 =k_a[::3].sum()\n",
    "k_a10"
   ]
  },
  {
   "cell_type": "code",
   "execution_count": 998,
   "id": "bedfa5a9-ee99-4c6a-a3dc-7e08ce2b6487",
   "metadata": {},
   "outputs": [
    {
     "data": {
      "text/plain": [
       "50.0"
      ]
     },
     "execution_count": 998,
     "metadata": {},
     "output_type": "execute_result"
    }
   ],
   "source": [
    "k_a11 = k_a[1:37:3].append(\n",
    "k_a[[38,40,44,46, 49,52,55, 58, 61, 64]]).sum()\n",
    "k_a11"
   ]
  },
  {
   "cell_type": "code",
   "execution_count": 999,
   "id": "b161fa68-d3b1-4113-967c-9c6d0d772edd",
   "metadata": {},
   "outputs": [
    {
     "data": {
      "text/plain": [
       "9.0"
      ]
     },
     "execution_count": 999,
     "metadata": {},
     "output_type": "execute_result"
    }
   ],
   "source": [
    "k_a12 =k_a[2:37:3].append(\n",
    "k_a[[37,41,43,47, 50,53,56, 59, 62, 65]]).sum()\n",
    "k_a12"
   ]
  },
  {
   "cell_type": "markdown",
   "id": "0c8c6a55-1add-434a-9299-cc1f127eb76e",
   "metadata": {},
   "source": [
    "# Table 8: Enrollment by District and Ownership"
   ]
  },
  {
   "cell_type": "code",
   "execution_count": 1366,
   "id": "65a12a43-7a39-47d2-a05a-6583a5c47f89",
   "metadata": {},
   "outputs": [],
   "source": [
    "#kece_c.head()"
   ]
  },
  {
   "cell_type": "code",
   "execution_count": 1000,
   "id": "a2d37ea3-11af-4992-bfc2-14c3c713762f",
   "metadata": {},
   "outputs": [],
   "source": [
    "kece_c = kcensus.iloc[:,[2]]\n",
    "kece_o = kcensus.iloc[:,[39]]\n",
    "kece_d = kcensus.iloc[:,3:19]"
   ]
  },
  {
   "cell_type": "code",
   "execution_count": 1193,
   "id": "6651cf7a-d61e-458c-9881-8c46cf0cd8dd",
   "metadata": {},
   "outputs": [
    {
     "data": {
      "text/plain": [
       "Index(['County', 'Type of school', 'District in Bong County',\n",
       "       'District in Gbarpolu', 'District in River Gee', 'District in Sinoe',\n",
       "       'District in Lofa', 'District in Nimba', 'District in Grand Cape Mount',\n",
       "       'District in Maryland', 'District in Margibi', 'District in Bomi',\n",
       "       'District in Grand Bassa', 'District in Montserrado 2',\n",
       "       'District in Montserrado 1', 'Districts in Grand Kru',\n",
       "       'Districts in Grand Gedeh', 'Districts in River Cess',\n",
       "       'How many students below Age 12 years old in Grade 10 are MALES?',\n",
       "       'How many students below Age 12 years old in Grade 11 are MALES?',\n",
       "       'How many students below Age 12 years old in Grade 12 are MALES?',\n",
       "       'How many students below Age 12 years old in Grade 10 are FEMALES?',\n",
       "       'How many students below Age 12 years old in Grade 11 are FEMALES?',\n",
       "       'How many students below Age 12 years old in Grade 12 are FEMALES?',\n",
       "       'How many students Age 12 years old in Grade 10 are MALES?',\n",
       "       'How many students Age 12 years old in Grade 11 are MALES?',\n",
       "       'How many students Age 12 years old in Grade 12 are MALES?',\n",
       "       'How many students Age 12 years old in Grade 10 are FEMALES?',\n",
       "       'How many students Age 12 years old in Grade 11 are FEMALES?',\n",
       "       'How many students Age 12 years old in Grade 12 are FEMALES?',\n",
       "       'How many students  Age 13 years old in Grade 10 are MALES?',\n",
       "       'How many students  Age 13 years old in Grade 11 are MALES?',\n",
       "       'How many students  Age 13 years old in Grade 12 are MALES?',\n",
       "       'How many students  Age 13 years old in Grade 10 are FEMALES?',\n",
       "       'How many students  Age 13 years old in Grade 11 are FEMALES?',\n",
       "       'How many students  Age 13 years old in Grade 12 are FEMALES?',\n",
       "       'How many students  Age 14 years old in Grade 10 are MALES?',\n",
       "       'How many students  Age 14 years old in Grade 11 are MALES?',\n",
       "       'How many students  Age 14 years old in Grade 12 are MALES?',\n",
       "       'How many students  Age 14 years old in Grade 10 are FEMALES?',\n",
       "       'How many students  Age 14 years old in Grade 11 are FEMALES?',\n",
       "       'How many students  Age 14 years old in Grade 12 are FEMALES?',\n",
       "       'How many students  Age 15 years old in Grade 10 are MALES?',\n",
       "       'How many students  Age 15 years old in Grade 11 are MALES?',\n",
       "       'How many students  Age 15 years old in Grade 12 are MALES?',\n",
       "       'How many students  age 15 Years old  in Grade 10 are FEMALES?',\n",
       "       'How many students  age 15 Years old  in Grade 11 are FEMALES?',\n",
       "       'How many students  age 15 Years old  in Grade 12 are FEMALES?',\n",
       "       'How many students age 16 Years old  in Grade 10 are MALES?',\n",
       "       'How many students age 16 Years old  in Grade 11 are MALES?',\n",
       "       'How many students age 16 Years old  in Grade 12 are MALES?',\n",
       "       'How many students  above Age 16 in Grade 10 are FEMALES?',\n",
       "       'How many students  above Age 16 in Grade 11 are FEMALES?',\n",
       "       'How many students  above Age 16 in Grade 12 are FEMALES?',\n",
       "       'How many students age 17 in Grade 10 are MALES?',\n",
       "       'How many students age 17 in Grade 11 are MALES?',\n",
       "       'How many students age 17 in Grade 12 are MALES?',\n",
       "       'How many students age 17 in Grade 10 are FEMALES?',\n",
       "       'How many students age 17 in Grade 11 are FEMALES?',\n",
       "       'How many students age 17 in Grade 12 are FEMALES?',\n",
       "       'How many students age 18 in Grade 10 are MALES?',\n",
       "       'How many students age 18 in Grade 11 are MALES?',\n",
       "       'How many students age 18 in Grade 12 are MALES?',\n",
       "       'How many students age 18 in Grade 10 are FEMALES?',\n",
       "       'How many students age 18 in Grade 11 are FEMALES?',\n",
       "       'How many students age 18 in Grade 12 are FEMALES?',\n",
       "       'How many students age 19 in Grade 10 are MALES?',\n",
       "       'How many students age 19 in Grade 11 are MALES?',\n",
       "       'How many students age 19 in Grade 12 are MALES?',\n",
       "       'How many students age 19 in Grade 10 are FEMALES?',\n",
       "       'How many students age 19 in Grade 11 are FEMALES?',\n",
       "       'How many students age 19 in Grade 12 are FEMALES?',\n",
       "       'How many students age 20 in Grade 10 are MALES?',\n",
       "       'How many students age 20 in Grade 11 are MALES?',\n",
       "       'How many students age 20 in Grade 12 are MALES?',\n",
       "       'How many students age 20 in Grade 10 are FEMALES?',\n",
       "       'How many students age 20 in Grade 11 that are FEMALES?',\n",
       "       'How many students age 20 in Grade 12 that are FEMALES?',\n",
       "       'How many students above age 20 in Grade 10 that are MALES?',\n",
       "       'How many students above age 20 in Grade 11 that are MALES?',\n",
       "       'How many students above age 20 in Grade 12 that are MALES?',\n",
       "       'How many students above age 20 in Grade 10 that are FEMALES?',\n",
       "       'How many students above age 20 in Grade 11 that are FEMALES?',\n",
       "       'How many students above age 20 in Grade 12 that are FEMALES?'],\n",
       "      dtype='object')"
      ]
     },
     "execution_count": 1193,
     "metadata": {},
     "output_type": "execute_result"
    }
   ],
   "source": [
    "kece_cdso = pd.concat([kece_c, kece_o, kece_d, kece_s], axis = 1)\n",
    "kece_cdso.columns"
   ]
  },
  {
   "cell_type": "code",
   "execution_count": 1194,
   "id": "e9173133-4a01-4535-bf26-40ea50a36a7d",
   "metadata": {},
   "outputs": [
    {
     "data": {
      "text/html": [
       "<div>\n",
       "<style scoped>\n",
       "    .dataframe tbody tr th:only-of-type {\n",
       "        vertical-align: middle;\n",
       "    }\n",
       "\n",
       "    .dataframe tbody tr th {\n",
       "        vertical-align: top;\n",
       "    }\n",
       "\n",
       "    .dataframe thead th {\n",
       "        text-align: right;\n",
       "    }\n",
       "</style>\n",
       "<table border=\"1\" class=\"dataframe\">\n",
       "  <thead>\n",
       "    <tr style=\"text-align: right;\">\n",
       "      <th></th>\n",
       "      <th>County</th>\n",
       "      <th>Type of school</th>\n",
       "      <th>How many students below Age 12 years old in Grade 10 are MALES?</th>\n",
       "      <th>How many students below Age 12 years old in Grade 11 are MALES?</th>\n",
       "      <th>How many students below Age 12 years old in Grade 12 are MALES?</th>\n",
       "      <th>How many students below Age 12 years old in Grade 10 are FEMALES?</th>\n",
       "      <th>How many students below Age 12 years old in Grade 11 are FEMALES?</th>\n",
       "      <th>How many students below Age 12 years old in Grade 12 are FEMALES?</th>\n",
       "      <th>How many students Age 12 years old in Grade 10 are MALES?</th>\n",
       "      <th>How many students Age 12 years old in Grade 11 are MALES?</th>\n",
       "      <th>How many students Age 12 years old in Grade 12 are MALES?</th>\n",
       "      <th>How many students Age 12 years old in Grade 10 are FEMALES?</th>\n",
       "      <th>How many students Age 12 years old in Grade 11 are FEMALES?</th>\n",
       "      <th>How many students Age 12 years old in Grade 12 are FEMALES?</th>\n",
       "      <th>How many students  Age 13 years old in Grade 10 are MALES?</th>\n",
       "      <th>How many students  Age 13 years old in Grade 11 are MALES?</th>\n",
       "      <th>How many students  Age 13 years old in Grade 12 are MALES?</th>\n",
       "      <th>How many students  Age 13 years old in Grade 10 are FEMALES?</th>\n",
       "      <th>How many students  Age 13 years old in Grade 11 are FEMALES?</th>\n",
       "      <th>How many students  Age 13 years old in Grade 12 are FEMALES?</th>\n",
       "      <th>How many students  Age 14 years old in Grade 10 are MALES?</th>\n",
       "      <th>How many students  Age 14 years old in Grade 11 are MALES?</th>\n",
       "      <th>How many students  Age 14 years old in Grade 12 are MALES?</th>\n",
       "      <th>How many students  Age 14 years old in Grade 10 are FEMALES?</th>\n",
       "      <th>How many students  Age 14 years old in Grade 11 are FEMALES?</th>\n",
       "      <th>How many students  Age 14 years old in Grade 12 are FEMALES?</th>\n",
       "      <th>How many students  Age 15 years old in Grade 10 are MALES?</th>\n",
       "      <th>How many students  Age 15 years old in Grade 11 are MALES?</th>\n",
       "      <th>How many students  Age 15 years old in Grade 12 are MALES?</th>\n",
       "      <th>How many students  age 15 Years old  in Grade 10 are FEMALES?</th>\n",
       "      <th>How many students  age 15 Years old  in Grade 11 are FEMALES?</th>\n",
       "      <th>How many students  age 15 Years old  in Grade 12 are FEMALES?</th>\n",
       "      <th>How many students age 16 Years old  in Grade 10 are MALES?</th>\n",
       "      <th>How many students age 16 Years old  in Grade 11 are MALES?</th>\n",
       "      <th>How many students age 16 Years old  in Grade 12 are MALES?</th>\n",
       "      <th>How many students  above Age 16 in Grade 10 are FEMALES?</th>\n",
       "      <th>How many students  above Age 16 in Grade 11 are FEMALES?</th>\n",
       "      <th>How many students  above Age 16 in Grade 12 are FEMALES?</th>\n",
       "      <th>How many students age 17 in Grade 10 are MALES?</th>\n",
       "      <th>How many students age 17 in Grade 11 are MALES?</th>\n",
       "      <th>How many students age 17 in Grade 12 are MALES?</th>\n",
       "      <th>How many students age 17 in Grade 10 are FEMALES?</th>\n",
       "      <th>How many students age 17 in Grade 11 are FEMALES?</th>\n",
       "      <th>How many students age 17 in Grade 12 are FEMALES?</th>\n",
       "      <th>How many students age 18 in Grade 10 are MALES?</th>\n",
       "      <th>How many students age 18 in Grade 11 are MALES?</th>\n",
       "      <th>How many students age 18 in Grade 12 are MALES?</th>\n",
       "      <th>How many students age 18 in Grade 10 are FEMALES?</th>\n",
       "      <th>How many students age 18 in Grade 11 are FEMALES?</th>\n",
       "      <th>How many students age 18 in Grade 12 are FEMALES?</th>\n",
       "      <th>How many students age 19 in Grade 10 are MALES?</th>\n",
       "      <th>How many students age 19 in Grade 11 are MALES?</th>\n",
       "      <th>How many students age 19 in Grade 12 are MALES?</th>\n",
       "      <th>How many students age 19 in Grade 10 are FEMALES?</th>\n",
       "      <th>How many students age 19 in Grade 11 are FEMALES?</th>\n",
       "      <th>How many students age 19 in Grade 12 are FEMALES?</th>\n",
       "      <th>How many students age 20 in Grade 10 are MALES?</th>\n",
       "      <th>How many students age 20 in Grade 11 are MALES?</th>\n",
       "      <th>How many students age 20 in Grade 12 are MALES?</th>\n",
       "      <th>How many students age 20 in Grade 10 are FEMALES?</th>\n",
       "      <th>How many students age 20 in Grade 11 that are FEMALES?</th>\n",
       "      <th>How many students age 20 in Grade 12 that are FEMALES?</th>\n",
       "      <th>How many students above age 20 in Grade 10 that are MALES?</th>\n",
       "      <th>How many students above age 20 in Grade 11 that are MALES?</th>\n",
       "      <th>How many students above age 20 in Grade 12 that are MALES?</th>\n",
       "      <th>How many students above age 20 in Grade 10 that are FEMALES?</th>\n",
       "      <th>How many students above age 20 in Grade 11 that are FEMALES?</th>\n",
       "      <th>How many students above age 20 in Grade 12 that are FEMALES?</th>\n",
       "      <th>district</th>\n",
       "      <th>count</th>\n",
       "    </tr>\n",
       "  </thead>\n",
       "  <tbody>\n",
       "    <tr>\n",
       "      <th>0</th>\n",
       "      <td>Rivercess</td>\n",
       "      <td>Private</td>\n",
       "      <td>NaN</td>\n",
       "      <td>NaN</td>\n",
       "      <td>NaN</td>\n",
       "      <td>NaN</td>\n",
       "      <td>NaN</td>\n",
       "      <td>NaN</td>\n",
       "      <td>NaN</td>\n",
       "      <td>NaN</td>\n",
       "      <td>NaN</td>\n",
       "      <td>NaN</td>\n",
       "      <td>NaN</td>\n",
       "      <td>NaN</td>\n",
       "      <td>NaN</td>\n",
       "      <td>NaN</td>\n",
       "      <td>NaN</td>\n",
       "      <td>NaN</td>\n",
       "      <td>NaN</td>\n",
       "      <td>NaN</td>\n",
       "      <td>NaN</td>\n",
       "      <td>NaN</td>\n",
       "      <td>NaN</td>\n",
       "      <td>NaN</td>\n",
       "      <td>NaN</td>\n",
       "      <td>NaN</td>\n",
       "      <td>NaN</td>\n",
       "      <td>NaN</td>\n",
       "      <td>NaN</td>\n",
       "      <td>NaN</td>\n",
       "      <td>NaN</td>\n",
       "      <td>NaN</td>\n",
       "      <td>NaN</td>\n",
       "      <td>NaN</td>\n",
       "      <td>NaN</td>\n",
       "      <td>NaN</td>\n",
       "      <td>NaN</td>\n",
       "      <td>NaN</td>\n",
       "      <td>NaN</td>\n",
       "      <td>NaN</td>\n",
       "      <td>NaN</td>\n",
       "      <td>NaN</td>\n",
       "      <td>NaN</td>\n",
       "      <td>NaN</td>\n",
       "      <td>NaN</td>\n",
       "      <td>NaN</td>\n",
       "      <td>NaN</td>\n",
       "      <td>NaN</td>\n",
       "      <td>NaN</td>\n",
       "      <td>NaN</td>\n",
       "      <td>NaN</td>\n",
       "      <td>NaN</td>\n",
       "      <td>NaN</td>\n",
       "      <td>NaN</td>\n",
       "      <td>NaN</td>\n",
       "      <td>NaN</td>\n",
       "      <td>NaN</td>\n",
       "      <td>NaN</td>\n",
       "      <td>NaN</td>\n",
       "      <td>NaN</td>\n",
       "      <td>NaN</td>\n",
       "      <td>NaN</td>\n",
       "      <td>NaN</td>\n",
       "      <td>NaN</td>\n",
       "      <td>NaN</td>\n",
       "      <td>NaN</td>\n",
       "      <td>NaN</td>\n",
       "      <td>NaN</td>\n",
       "      <td>District in Bong County</td>\n",
       "      <td>NaN</td>\n",
       "    </tr>\n",
       "    <tr>\n",
       "      <th>1</th>\n",
       "      <td>Nimba</td>\n",
       "      <td>Public</td>\n",
       "      <td>NaN</td>\n",
       "      <td>NaN</td>\n",
       "      <td>NaN</td>\n",
       "      <td>NaN</td>\n",
       "      <td>NaN</td>\n",
       "      <td>NaN</td>\n",
       "      <td>NaN</td>\n",
       "      <td>NaN</td>\n",
       "      <td>NaN</td>\n",
       "      <td>NaN</td>\n",
       "      <td>NaN</td>\n",
       "      <td>NaN</td>\n",
       "      <td>NaN</td>\n",
       "      <td>NaN</td>\n",
       "      <td>NaN</td>\n",
       "      <td>NaN</td>\n",
       "      <td>NaN</td>\n",
       "      <td>NaN</td>\n",
       "      <td>NaN</td>\n",
       "      <td>NaN</td>\n",
       "      <td>NaN</td>\n",
       "      <td>NaN</td>\n",
       "      <td>NaN</td>\n",
       "      <td>NaN</td>\n",
       "      <td>NaN</td>\n",
       "      <td>NaN</td>\n",
       "      <td>NaN</td>\n",
       "      <td>NaN</td>\n",
       "      <td>NaN</td>\n",
       "      <td>NaN</td>\n",
       "      <td>NaN</td>\n",
       "      <td>NaN</td>\n",
       "      <td>NaN</td>\n",
       "      <td>NaN</td>\n",
       "      <td>NaN</td>\n",
       "      <td>NaN</td>\n",
       "      <td>NaN</td>\n",
       "      <td>NaN</td>\n",
       "      <td>NaN</td>\n",
       "      <td>NaN</td>\n",
       "      <td>NaN</td>\n",
       "      <td>NaN</td>\n",
       "      <td>NaN</td>\n",
       "      <td>NaN</td>\n",
       "      <td>NaN</td>\n",
       "      <td>NaN</td>\n",
       "      <td>NaN</td>\n",
       "      <td>NaN</td>\n",
       "      <td>NaN</td>\n",
       "      <td>NaN</td>\n",
       "      <td>NaN</td>\n",
       "      <td>NaN</td>\n",
       "      <td>NaN</td>\n",
       "      <td>NaN</td>\n",
       "      <td>NaN</td>\n",
       "      <td>NaN</td>\n",
       "      <td>NaN</td>\n",
       "      <td>NaN</td>\n",
       "      <td>NaN</td>\n",
       "      <td>NaN</td>\n",
       "      <td>NaN</td>\n",
       "      <td>NaN</td>\n",
       "      <td>NaN</td>\n",
       "      <td>NaN</td>\n",
       "      <td>NaN</td>\n",
       "      <td>NaN</td>\n",
       "      <td>District in Bong County</td>\n",
       "      <td>NaN</td>\n",
       "    </tr>\n",
       "    <tr>\n",
       "      <th>2</th>\n",
       "      <td>River Gee</td>\n",
       "      <td>Public</td>\n",
       "      <td>NaN</td>\n",
       "      <td>NaN</td>\n",
       "      <td>NaN</td>\n",
       "      <td>NaN</td>\n",
       "      <td>NaN</td>\n",
       "      <td>NaN</td>\n",
       "      <td>NaN</td>\n",
       "      <td>NaN</td>\n",
       "      <td>NaN</td>\n",
       "      <td>NaN</td>\n",
       "      <td>NaN</td>\n",
       "      <td>NaN</td>\n",
       "      <td>NaN</td>\n",
       "      <td>NaN</td>\n",
       "      <td>NaN</td>\n",
       "      <td>NaN</td>\n",
       "      <td>NaN</td>\n",
       "      <td>NaN</td>\n",
       "      <td>NaN</td>\n",
       "      <td>NaN</td>\n",
       "      <td>NaN</td>\n",
       "      <td>NaN</td>\n",
       "      <td>NaN</td>\n",
       "      <td>NaN</td>\n",
       "      <td>NaN</td>\n",
       "      <td>NaN</td>\n",
       "      <td>NaN</td>\n",
       "      <td>NaN</td>\n",
       "      <td>NaN</td>\n",
       "      <td>NaN</td>\n",
       "      <td>NaN</td>\n",
       "      <td>NaN</td>\n",
       "      <td>NaN</td>\n",
       "      <td>NaN</td>\n",
       "      <td>NaN</td>\n",
       "      <td>NaN</td>\n",
       "      <td>NaN</td>\n",
       "      <td>NaN</td>\n",
       "      <td>NaN</td>\n",
       "      <td>NaN</td>\n",
       "      <td>NaN</td>\n",
       "      <td>NaN</td>\n",
       "      <td>NaN</td>\n",
       "      <td>NaN</td>\n",
       "      <td>NaN</td>\n",
       "      <td>NaN</td>\n",
       "      <td>NaN</td>\n",
       "      <td>NaN</td>\n",
       "      <td>NaN</td>\n",
       "      <td>NaN</td>\n",
       "      <td>NaN</td>\n",
       "      <td>NaN</td>\n",
       "      <td>NaN</td>\n",
       "      <td>NaN</td>\n",
       "      <td>NaN</td>\n",
       "      <td>NaN</td>\n",
       "      <td>NaN</td>\n",
       "      <td>NaN</td>\n",
       "      <td>NaN</td>\n",
       "      <td>NaN</td>\n",
       "      <td>NaN</td>\n",
       "      <td>NaN</td>\n",
       "      <td>NaN</td>\n",
       "      <td>NaN</td>\n",
       "      <td>NaN</td>\n",
       "      <td>NaN</td>\n",
       "      <td>District in Bong County</td>\n",
       "      <td>NaN</td>\n",
       "    </tr>\n",
       "    <tr>\n",
       "      <th>3</th>\n",
       "      <td>Montserrado 1</td>\n",
       "      <td>Private</td>\n",
       "      <td>NaN</td>\n",
       "      <td>NaN</td>\n",
       "      <td>NaN</td>\n",
       "      <td>NaN</td>\n",
       "      <td>NaN</td>\n",
       "      <td>NaN</td>\n",
       "      <td>NaN</td>\n",
       "      <td>NaN</td>\n",
       "      <td>NaN</td>\n",
       "      <td>NaN</td>\n",
       "      <td>NaN</td>\n",
       "      <td>NaN</td>\n",
       "      <td>NaN</td>\n",
       "      <td>NaN</td>\n",
       "      <td>NaN</td>\n",
       "      <td>NaN</td>\n",
       "      <td>NaN</td>\n",
       "      <td>NaN</td>\n",
       "      <td>NaN</td>\n",
       "      <td>NaN</td>\n",
       "      <td>NaN</td>\n",
       "      <td>NaN</td>\n",
       "      <td>NaN</td>\n",
       "      <td>NaN</td>\n",
       "      <td>NaN</td>\n",
       "      <td>NaN</td>\n",
       "      <td>NaN</td>\n",
       "      <td>NaN</td>\n",
       "      <td>NaN</td>\n",
       "      <td>NaN</td>\n",
       "      <td>NaN</td>\n",
       "      <td>NaN</td>\n",
       "      <td>NaN</td>\n",
       "      <td>NaN</td>\n",
       "      <td>NaN</td>\n",
       "      <td>NaN</td>\n",
       "      <td>NaN</td>\n",
       "      <td>NaN</td>\n",
       "      <td>NaN</td>\n",
       "      <td>NaN</td>\n",
       "      <td>NaN</td>\n",
       "      <td>NaN</td>\n",
       "      <td>NaN</td>\n",
       "      <td>NaN</td>\n",
       "      <td>NaN</td>\n",
       "      <td>NaN</td>\n",
       "      <td>NaN</td>\n",
       "      <td>NaN</td>\n",
       "      <td>NaN</td>\n",
       "      <td>NaN</td>\n",
       "      <td>NaN</td>\n",
       "      <td>NaN</td>\n",
       "      <td>NaN</td>\n",
       "      <td>NaN</td>\n",
       "      <td>NaN</td>\n",
       "      <td>NaN</td>\n",
       "      <td>NaN</td>\n",
       "      <td>NaN</td>\n",
       "      <td>NaN</td>\n",
       "      <td>NaN</td>\n",
       "      <td>NaN</td>\n",
       "      <td>NaN</td>\n",
       "      <td>NaN</td>\n",
       "      <td>NaN</td>\n",
       "      <td>NaN</td>\n",
       "      <td>NaN</td>\n",
       "      <td>District in Bong County</td>\n",
       "      <td>NaN</td>\n",
       "    </tr>\n",
       "    <tr>\n",
       "      <th>4</th>\n",
       "      <td>Montserrado 1</td>\n",
       "      <td>Private</td>\n",
       "      <td>NaN</td>\n",
       "      <td>NaN</td>\n",
       "      <td>NaN</td>\n",
       "      <td>NaN</td>\n",
       "      <td>NaN</td>\n",
       "      <td>NaN</td>\n",
       "      <td>NaN</td>\n",
       "      <td>NaN</td>\n",
       "      <td>NaN</td>\n",
       "      <td>NaN</td>\n",
       "      <td>NaN</td>\n",
       "      <td>NaN</td>\n",
       "      <td>NaN</td>\n",
       "      <td>NaN</td>\n",
       "      <td>NaN</td>\n",
       "      <td>NaN</td>\n",
       "      <td>NaN</td>\n",
       "      <td>NaN</td>\n",
       "      <td>NaN</td>\n",
       "      <td>NaN</td>\n",
       "      <td>NaN</td>\n",
       "      <td>NaN</td>\n",
       "      <td>NaN</td>\n",
       "      <td>NaN</td>\n",
       "      <td>NaN</td>\n",
       "      <td>NaN</td>\n",
       "      <td>NaN</td>\n",
       "      <td>NaN</td>\n",
       "      <td>NaN</td>\n",
       "      <td>NaN</td>\n",
       "      <td>NaN</td>\n",
       "      <td>NaN</td>\n",
       "      <td>NaN</td>\n",
       "      <td>NaN</td>\n",
       "      <td>NaN</td>\n",
       "      <td>NaN</td>\n",
       "      <td>NaN</td>\n",
       "      <td>NaN</td>\n",
       "      <td>NaN</td>\n",
       "      <td>NaN</td>\n",
       "      <td>NaN</td>\n",
       "      <td>NaN</td>\n",
       "      <td>NaN</td>\n",
       "      <td>NaN</td>\n",
       "      <td>NaN</td>\n",
       "      <td>NaN</td>\n",
       "      <td>NaN</td>\n",
       "      <td>NaN</td>\n",
       "      <td>NaN</td>\n",
       "      <td>NaN</td>\n",
       "      <td>NaN</td>\n",
       "      <td>NaN</td>\n",
       "      <td>NaN</td>\n",
       "      <td>NaN</td>\n",
       "      <td>NaN</td>\n",
       "      <td>NaN</td>\n",
       "      <td>NaN</td>\n",
       "      <td>NaN</td>\n",
       "      <td>NaN</td>\n",
       "      <td>NaN</td>\n",
       "      <td>NaN</td>\n",
       "      <td>NaN</td>\n",
       "      <td>NaN</td>\n",
       "      <td>NaN</td>\n",
       "      <td>NaN</td>\n",
       "      <td>NaN</td>\n",
       "      <td>District in Bong County</td>\n",
       "      <td>NaN</td>\n",
       "    </tr>\n",
       "  </tbody>\n",
       "</table>\n",
       "</div>"
      ],
      "text/plain": [
       "          County Type of school  \\\n",
       "0      Rivercess        Private   \n",
       "1          Nimba         Public   \n",
       "2      River Gee         Public   \n",
       "3  Montserrado 1        Private   \n",
       "4  Montserrado 1        Private   \n",
       "\n",
       "   How many students below Age 12 years old in Grade 10 are MALES?  \\\n",
       "0                                                NaN                 \n",
       "1                                                NaN                 \n",
       "2                                                NaN                 \n",
       "3                                                NaN                 \n",
       "4                                                NaN                 \n",
       "\n",
       "   How many students below Age 12 years old in Grade 11 are MALES?  \\\n",
       "0                                                NaN                 \n",
       "1                                                NaN                 \n",
       "2                                                NaN                 \n",
       "3                                                NaN                 \n",
       "4                                                NaN                 \n",
       "\n",
       "   How many students below Age 12 years old in Grade 12 are MALES?  \\\n",
       "0                                                NaN                 \n",
       "1                                                NaN                 \n",
       "2                                                NaN                 \n",
       "3                                                NaN                 \n",
       "4                                                NaN                 \n",
       "\n",
       "   How many students below Age 12 years old in Grade 10 are FEMALES?  \\\n",
       "0                                                NaN                   \n",
       "1                                                NaN                   \n",
       "2                                                NaN                   \n",
       "3                                                NaN                   \n",
       "4                                                NaN                   \n",
       "\n",
       "   How many students below Age 12 years old in Grade 11 are FEMALES?  \\\n",
       "0                                                NaN                   \n",
       "1                                                NaN                   \n",
       "2                                                NaN                   \n",
       "3                                                NaN                   \n",
       "4                                                NaN                   \n",
       "\n",
       "   How many students below Age 12 years old in Grade 12 are FEMALES?  \\\n",
       "0                                                NaN                   \n",
       "1                                                NaN                   \n",
       "2                                                NaN                   \n",
       "3                                                NaN                   \n",
       "4                                                NaN                   \n",
       "\n",
       "   How many students Age 12 years old in Grade 10 are MALES?  \\\n",
       "0                                                NaN           \n",
       "1                                                NaN           \n",
       "2                                                NaN           \n",
       "3                                                NaN           \n",
       "4                                                NaN           \n",
       "\n",
       "   How many students Age 12 years old in Grade 11 are MALES?  \\\n",
       "0                                                NaN           \n",
       "1                                                NaN           \n",
       "2                                                NaN           \n",
       "3                                                NaN           \n",
       "4                                                NaN           \n",
       "\n",
       "   How many students Age 12 years old in Grade 12 are MALES?  \\\n",
       "0                                                NaN           \n",
       "1                                                NaN           \n",
       "2                                                NaN           \n",
       "3                                                NaN           \n",
       "4                                                NaN           \n",
       "\n",
       "   How many students Age 12 years old in Grade 10 are FEMALES?  \\\n",
       "0                                                NaN             \n",
       "1                                                NaN             \n",
       "2                                                NaN             \n",
       "3                                                NaN             \n",
       "4                                                NaN             \n",
       "\n",
       "   How many students Age 12 years old in Grade 11 are FEMALES?  \\\n",
       "0                                                NaN             \n",
       "1                                                NaN             \n",
       "2                                                NaN             \n",
       "3                                                NaN             \n",
       "4                                                NaN             \n",
       "\n",
       "   How many students Age 12 years old in Grade 12 are FEMALES?  \\\n",
       "0                                                NaN             \n",
       "1                                                NaN             \n",
       "2                                                NaN             \n",
       "3                                                NaN             \n",
       "4                                                NaN             \n",
       "\n",
       "   How many students  Age 13 years old in Grade 10 are MALES?  \\\n",
       "0                                                NaN            \n",
       "1                                                NaN            \n",
       "2                                                NaN            \n",
       "3                                                NaN            \n",
       "4                                                NaN            \n",
       "\n",
       "   How many students  Age 13 years old in Grade 11 are MALES?  \\\n",
       "0                                                NaN            \n",
       "1                                                NaN            \n",
       "2                                                NaN            \n",
       "3                                                NaN            \n",
       "4                                                NaN            \n",
       "\n",
       "   How many students  Age 13 years old in Grade 12 are MALES?  \\\n",
       "0                                                NaN            \n",
       "1                                                NaN            \n",
       "2                                                NaN            \n",
       "3                                                NaN            \n",
       "4                                                NaN            \n",
       "\n",
       "   How many students  Age 13 years old in Grade 10 are FEMALES?  \\\n",
       "0                                                NaN              \n",
       "1                                                NaN              \n",
       "2                                                NaN              \n",
       "3                                                NaN              \n",
       "4                                                NaN              \n",
       "\n",
       "   How many students  Age 13 years old in Grade 11 are FEMALES?  \\\n",
       "0                                                NaN              \n",
       "1                                                NaN              \n",
       "2                                                NaN              \n",
       "3                                                NaN              \n",
       "4                                                NaN              \n",
       "\n",
       "   How many students  Age 13 years old in Grade 12 are FEMALES?  \\\n",
       "0                                                NaN              \n",
       "1                                                NaN              \n",
       "2                                                NaN              \n",
       "3                                                NaN              \n",
       "4                                                NaN              \n",
       "\n",
       "   How many students  Age 14 years old in Grade 10 are MALES?  \\\n",
       "0                                                NaN            \n",
       "1                                                NaN            \n",
       "2                                                NaN            \n",
       "3                                                NaN            \n",
       "4                                                NaN            \n",
       "\n",
       "   How many students  Age 14 years old in Grade 11 are MALES?  \\\n",
       "0                                                NaN            \n",
       "1                                                NaN            \n",
       "2                                                NaN            \n",
       "3                                                NaN            \n",
       "4                                                NaN            \n",
       "\n",
       "   How many students  Age 14 years old in Grade 12 are MALES?  \\\n",
       "0                                                NaN            \n",
       "1                                                NaN            \n",
       "2                                                NaN            \n",
       "3                                                NaN            \n",
       "4                                                NaN            \n",
       "\n",
       "   How many students  Age 14 years old in Grade 10 are FEMALES?  \\\n",
       "0                                                NaN              \n",
       "1                                                NaN              \n",
       "2                                                NaN              \n",
       "3                                                NaN              \n",
       "4                                                NaN              \n",
       "\n",
       "   How many students  Age 14 years old in Grade 11 are FEMALES?  \\\n",
       "0                                                NaN              \n",
       "1                                                NaN              \n",
       "2                                                NaN              \n",
       "3                                                NaN              \n",
       "4                                                NaN              \n",
       "\n",
       "   How many students  Age 14 years old in Grade 12 are FEMALES?  \\\n",
       "0                                                NaN              \n",
       "1                                                NaN              \n",
       "2                                                NaN              \n",
       "3                                                NaN              \n",
       "4                                                NaN              \n",
       "\n",
       "   How many students  Age 15 years old in Grade 10 are MALES?  \\\n",
       "0                                                NaN            \n",
       "1                                                NaN            \n",
       "2                                                NaN            \n",
       "3                                                NaN            \n",
       "4                                                NaN            \n",
       "\n",
       "   How many students  Age 15 years old in Grade 11 are MALES?  \\\n",
       "0                                                NaN            \n",
       "1                                                NaN            \n",
       "2                                                NaN            \n",
       "3                                                NaN            \n",
       "4                                                NaN            \n",
       "\n",
       "   How many students  Age 15 years old in Grade 12 are MALES?  \\\n",
       "0                                                NaN            \n",
       "1                                                NaN            \n",
       "2                                                NaN            \n",
       "3                                                NaN            \n",
       "4                                                NaN            \n",
       "\n",
       "   How many students  age 15 Years old  in Grade 10 are FEMALES?  \\\n",
       "0                                                NaN               \n",
       "1                                                NaN               \n",
       "2                                                NaN               \n",
       "3                                                NaN               \n",
       "4                                                NaN               \n",
       "\n",
       "   How many students  age 15 Years old  in Grade 11 are FEMALES?  \\\n",
       "0                                                NaN               \n",
       "1                                                NaN               \n",
       "2                                                NaN               \n",
       "3                                                NaN               \n",
       "4                                                NaN               \n",
       "\n",
       "   How many students  age 15 Years old  in Grade 12 are FEMALES?  \\\n",
       "0                                                NaN               \n",
       "1                                                NaN               \n",
       "2                                                NaN               \n",
       "3                                                NaN               \n",
       "4                                                NaN               \n",
       "\n",
       "   How many students age 16 Years old  in Grade 10 are MALES?  \\\n",
       "0                                                NaN            \n",
       "1                                                NaN            \n",
       "2                                                NaN            \n",
       "3                                                NaN            \n",
       "4                                                NaN            \n",
       "\n",
       "   How many students age 16 Years old  in Grade 11 are MALES?  \\\n",
       "0                                                NaN            \n",
       "1                                                NaN            \n",
       "2                                                NaN            \n",
       "3                                                NaN            \n",
       "4                                                NaN            \n",
       "\n",
       "   How many students age 16 Years old  in Grade 12 are MALES?  \\\n",
       "0                                                NaN            \n",
       "1                                                NaN            \n",
       "2                                                NaN            \n",
       "3                                                NaN            \n",
       "4                                                NaN            \n",
       "\n",
       "   How many students  above Age 16 in Grade 10 are FEMALES?  \\\n",
       "0                                                NaN          \n",
       "1                                                NaN          \n",
       "2                                                NaN          \n",
       "3                                                NaN          \n",
       "4                                                NaN          \n",
       "\n",
       "   How many students  above Age 16 in Grade 11 are FEMALES?  \\\n",
       "0                                                NaN          \n",
       "1                                                NaN          \n",
       "2                                                NaN          \n",
       "3                                                NaN          \n",
       "4                                                NaN          \n",
       "\n",
       "   How many students  above Age 16 in Grade 12 are FEMALES?  \\\n",
       "0                                                NaN          \n",
       "1                                                NaN          \n",
       "2                                                NaN          \n",
       "3                                                NaN          \n",
       "4                                                NaN          \n",
       "\n",
       "   How many students age 17 in Grade 10 are MALES?  \\\n",
       "0                                              NaN   \n",
       "1                                              NaN   \n",
       "2                                              NaN   \n",
       "3                                              NaN   \n",
       "4                                              NaN   \n",
       "\n",
       "   How many students age 17 in Grade 11 are MALES?  \\\n",
       "0                                              NaN   \n",
       "1                                              NaN   \n",
       "2                                              NaN   \n",
       "3                                              NaN   \n",
       "4                                              NaN   \n",
       "\n",
       "   How many students age 17 in Grade 12 are MALES?  \\\n",
       "0                                              NaN   \n",
       "1                                              NaN   \n",
       "2                                              NaN   \n",
       "3                                              NaN   \n",
       "4                                              NaN   \n",
       "\n",
       "   How many students age 17 in Grade 10 are FEMALES?  \\\n",
       "0                                                NaN   \n",
       "1                                                NaN   \n",
       "2                                                NaN   \n",
       "3                                                NaN   \n",
       "4                                                NaN   \n",
       "\n",
       "   How many students age 17 in Grade 11 are FEMALES?  \\\n",
       "0                                                NaN   \n",
       "1                                                NaN   \n",
       "2                                                NaN   \n",
       "3                                                NaN   \n",
       "4                                                NaN   \n",
       "\n",
       "   How many students age 17 in Grade 12 are FEMALES?  \\\n",
       "0                                                NaN   \n",
       "1                                                NaN   \n",
       "2                                                NaN   \n",
       "3                                                NaN   \n",
       "4                                                NaN   \n",
       "\n",
       "   How many students age 18 in Grade 10 are MALES?  \\\n",
       "0                                              NaN   \n",
       "1                                              NaN   \n",
       "2                                              NaN   \n",
       "3                                              NaN   \n",
       "4                                              NaN   \n",
       "\n",
       "   How many students age 18 in Grade 11 are MALES?  \\\n",
       "0                                              NaN   \n",
       "1                                              NaN   \n",
       "2                                              NaN   \n",
       "3                                              NaN   \n",
       "4                                              NaN   \n",
       "\n",
       "   How many students age 18 in Grade 12 are MALES?  \\\n",
       "0                                              NaN   \n",
       "1                                              NaN   \n",
       "2                                              NaN   \n",
       "3                                              NaN   \n",
       "4                                              NaN   \n",
       "\n",
       "   How many students age 18 in Grade 10 are FEMALES?  \\\n",
       "0                                                NaN   \n",
       "1                                                NaN   \n",
       "2                                                NaN   \n",
       "3                                                NaN   \n",
       "4                                                NaN   \n",
       "\n",
       "   How many students age 18 in Grade 11 are FEMALES?  \\\n",
       "0                                                NaN   \n",
       "1                                                NaN   \n",
       "2                                                NaN   \n",
       "3                                                NaN   \n",
       "4                                                NaN   \n",
       "\n",
       "   How many students age 18 in Grade 12 are FEMALES?  \\\n",
       "0                                                NaN   \n",
       "1                                                NaN   \n",
       "2                                                NaN   \n",
       "3                                                NaN   \n",
       "4                                                NaN   \n",
       "\n",
       "   How many students age 19 in Grade 10 are MALES?  \\\n",
       "0                                              NaN   \n",
       "1                                              NaN   \n",
       "2                                              NaN   \n",
       "3                                              NaN   \n",
       "4                                              NaN   \n",
       "\n",
       "   How many students age 19 in Grade 11 are MALES?  \\\n",
       "0                                              NaN   \n",
       "1                                              NaN   \n",
       "2                                              NaN   \n",
       "3                                              NaN   \n",
       "4                                              NaN   \n",
       "\n",
       "   How many students age 19 in Grade 12 are MALES?  \\\n",
       "0                                              NaN   \n",
       "1                                              NaN   \n",
       "2                                              NaN   \n",
       "3                                              NaN   \n",
       "4                                              NaN   \n",
       "\n",
       "   How many students age 19 in Grade 10 are FEMALES?  \\\n",
       "0                                                NaN   \n",
       "1                                                NaN   \n",
       "2                                                NaN   \n",
       "3                                                NaN   \n",
       "4                                                NaN   \n",
       "\n",
       "   How many students age 19 in Grade 11 are FEMALES?  \\\n",
       "0                                                NaN   \n",
       "1                                                NaN   \n",
       "2                                                NaN   \n",
       "3                                                NaN   \n",
       "4                                                NaN   \n",
       "\n",
       "   How many students age 19 in Grade 12 are FEMALES?  \\\n",
       "0                                                NaN   \n",
       "1                                                NaN   \n",
       "2                                                NaN   \n",
       "3                                                NaN   \n",
       "4                                                NaN   \n",
       "\n",
       "   How many students age 20 in Grade 10 are MALES?  \\\n",
       "0                                              NaN   \n",
       "1                                              NaN   \n",
       "2                                              NaN   \n",
       "3                                              NaN   \n",
       "4                                              NaN   \n",
       "\n",
       "   How many students age 20 in Grade 11 are MALES?  \\\n",
       "0                                              NaN   \n",
       "1                                              NaN   \n",
       "2                                              NaN   \n",
       "3                                              NaN   \n",
       "4                                              NaN   \n",
       "\n",
       "   How many students age 20 in Grade 12 are MALES?  \\\n",
       "0                                              NaN   \n",
       "1                                              NaN   \n",
       "2                                              NaN   \n",
       "3                                              NaN   \n",
       "4                                              NaN   \n",
       "\n",
       "   How many students age 20 in Grade 10 are FEMALES?  \\\n",
       "0                                                NaN   \n",
       "1                                                NaN   \n",
       "2                                                NaN   \n",
       "3                                                NaN   \n",
       "4                                                NaN   \n",
       "\n",
       "   How many students age 20 in Grade 11 that are FEMALES?  \\\n",
       "0                                                NaN        \n",
       "1                                                NaN        \n",
       "2                                                NaN        \n",
       "3                                                NaN        \n",
       "4                                                NaN        \n",
       "\n",
       "   How many students age 20 in Grade 12 that are FEMALES?  \\\n",
       "0                                                NaN        \n",
       "1                                                NaN        \n",
       "2                                                NaN        \n",
       "3                                                NaN        \n",
       "4                                                NaN        \n",
       "\n",
       "   How many students above age 20 in Grade 10 that are MALES?  \\\n",
       "0                                                NaN            \n",
       "1                                                NaN            \n",
       "2                                                NaN            \n",
       "3                                                NaN            \n",
       "4                                                NaN            \n",
       "\n",
       "   How many students above age 20 in Grade 11 that are MALES?  \\\n",
       "0                                                NaN            \n",
       "1                                                NaN            \n",
       "2                                                NaN            \n",
       "3                                                NaN            \n",
       "4                                                NaN            \n",
       "\n",
       "   How many students above age 20 in Grade 12 that are MALES?  \\\n",
       "0                                                NaN            \n",
       "1                                                NaN            \n",
       "2                                                NaN            \n",
       "3                                                NaN            \n",
       "4                                                NaN            \n",
       "\n",
       "   How many students above age 20 in Grade 10 that are FEMALES?  \\\n",
       "0                                                NaN              \n",
       "1                                                NaN              \n",
       "2                                                NaN              \n",
       "3                                                NaN              \n",
       "4                                                NaN              \n",
       "\n",
       "   How many students above age 20 in Grade 11 that are FEMALES?  \\\n",
       "0                                                NaN              \n",
       "1                                                NaN              \n",
       "2                                                NaN              \n",
       "3                                                NaN              \n",
       "4                                                NaN              \n",
       "\n",
       "   How many students above age 20 in Grade 12 that are FEMALES?  \\\n",
       "0                                                NaN              \n",
       "1                                                NaN              \n",
       "2                                                NaN              \n",
       "3                                                NaN              \n",
       "4                                                NaN              \n",
       "\n",
       "                  district count  \n",
       "0  District in Bong County   NaN  \n",
       "1  District in Bong County   NaN  \n",
       "2  District in Bong County   NaN  \n",
       "3  District in Bong County   NaN  \n",
       "4  District in Bong County   NaN  "
      ]
     },
     "execution_count": 1194,
     "metadata": {},
     "output_type": "execute_result"
    }
   ],
   "source": [
    "kece_melto =kece_cdso.melt(id_vars=['County', 'Type of school',\n",
    "        'How many students below Age 12 years old in Grade 10 are MALES?',\n",
    "       'How many students below Age 12 years old in Grade 11 are MALES?',\n",
    "       'How many students below Age 12 years old in Grade 12 are MALES?',\n",
    "       'How many students below Age 12 years old in Grade 10 are FEMALES?',\n",
    "       'How many students below Age 12 years old in Grade 11 are FEMALES?',\n",
    "       'How many students below Age 12 years old in Grade 12 are FEMALES?',\n",
    "       'How many students Age 12 years old in Grade 10 are MALES?',\n",
    "       'How many students Age 12 years old in Grade 11 are MALES?',\n",
    "       'How many students Age 12 years old in Grade 12 are MALES?',\n",
    "       'How many students Age 12 years old in Grade 10 are FEMALES?',\n",
    "       'How many students Age 12 years old in Grade 11 are FEMALES?',\n",
    "       'How many students Age 12 years old in Grade 12 are FEMALES?',\n",
    "       'How many students  Age 13 years old in Grade 10 are MALES?',\n",
    "       'How many students  Age 13 years old in Grade 11 are MALES?',\n",
    "       'How many students  Age 13 years old in Grade 12 are MALES?',\n",
    "       'How many students  Age 13 years old in Grade 10 are FEMALES?',\n",
    "       'How many students  Age 13 years old in Grade 11 are FEMALES?',\n",
    "       'How many students  Age 13 years old in Grade 12 are FEMALES?',\n",
    "       'How many students  Age 14 years old in Grade 10 are MALES?',\n",
    "       'How many students  Age 14 years old in Grade 11 are MALES?',\n",
    "       'How many students  Age 14 years old in Grade 12 are MALES?',\n",
    "       'How many students  Age 14 years old in Grade 10 are FEMALES?',\n",
    "       'How many students  Age 14 years old in Grade 11 are FEMALES?',\n",
    "       'How many students  Age 14 years old in Grade 12 are FEMALES?',\n",
    "       'How many students  Age 15 years old in Grade 10 are MALES?',\n",
    "       'How many students  Age 15 years old in Grade 11 are MALES?',\n",
    "       'How many students  Age 15 years old in Grade 12 are MALES?',\n",
    "       'How many students  age 15 Years old  in Grade 10 are FEMALES?',\n",
    "       'How many students  age 15 Years old  in Grade 11 are FEMALES?',\n",
    "       'How many students  age 15 Years old  in Grade 12 are FEMALES?',\n",
    "       'How many students age 16 Years old  in Grade 10 are MALES?',\n",
    "       'How many students age 16 Years old  in Grade 11 are MALES?',\n",
    "       'How many students age 16 Years old  in Grade 12 are MALES?',\n",
    "       'How many students  above Age 16 in Grade 10 are FEMALES?',\n",
    "       'How many students  above Age 16 in Grade 11 are FEMALES?',\n",
    "       'How many students  above Age 16 in Grade 12 are FEMALES?',\n",
    "       'How many students age 17 in Grade 10 are MALES?',\n",
    "       'How many students age 17 in Grade 11 are MALES?',\n",
    "       'How many students age 17 in Grade 12 are MALES?',\n",
    "       'How many students age 17 in Grade 10 are FEMALES?',\n",
    "       'How many students age 17 in Grade 11 are FEMALES?',\n",
    "       'How many students age 17 in Grade 12 are FEMALES?',\n",
    "       'How many students age 18 in Grade 10 are MALES?',\n",
    "       'How many students age 18 in Grade 11 are MALES?',\n",
    "       'How many students age 18 in Grade 12 are MALES?',\n",
    "       'How many students age 18 in Grade 10 are FEMALES?',\n",
    "       'How many students age 18 in Grade 11 are FEMALES?',\n",
    "       'How many students age 18 in Grade 12 are FEMALES?',\n",
    "       'How many students age 19 in Grade 10 are MALES?',\n",
    "       'How many students age 19 in Grade 11 are MALES?',\n",
    "       'How many students age 19 in Grade 12 are MALES?',\n",
    "       'How many students age 19 in Grade 10 are FEMALES?',\n",
    "       'How many students age 19 in Grade 11 are FEMALES?',\n",
    "       'How many students age 19 in Grade 12 are FEMALES?',\n",
    "       'How many students age 20 in Grade 10 are MALES?',\n",
    "       'How many students age 20 in Grade 11 are MALES?',\n",
    "       'How many students age 20 in Grade 12 are MALES?',\n",
    "       'How many students age 20 in Grade 10 are FEMALES?',\n",
    "       'How many students age 20 in Grade 11 that are FEMALES?',\n",
    "       'How many students age 20 in Grade 12 that are FEMALES?',\n",
    "       'How many students above age 20 in Grade 10 that are MALES?',\n",
    "       'How many students above age 20 in Grade 11 that are MALES?',\n",
    "       'How many students above age 20 in Grade 12 that are MALES?',\n",
    "       'How many students above age 20 in Grade 10 that are FEMALES?',\n",
    "       'How many students above age 20 in Grade 11 that are FEMALES?',\n",
    "       'How many students above age 20 in Grade 12 that are FEMALES?'],var_name = 'district',value_name='count')\n",
    "kece_melto.head()"
   ]
  },
  {
   "cell_type": "code",
   "execution_count": 1195,
   "id": "8a3ab208-45be-43ea-a0ad-0252d207db92",
   "metadata": {},
   "outputs": [
    {
     "data": {
      "text/plain": [
       "Type of school\n",
       "Public    103.0\n",
       "dtype: float64"
      ]
     },
     "execution_count": 1195,
     "metadata": {},
     "output_type": "execute_result"
    }
   ],
   "source": [
    "#k_so = kece_melto[(kece_melt['district']== 'District in Gbarpolu') & (kece_melt['count']== 'Gbarma')].head(2).groupby('Type of school').sum()#.sum(1)\n",
    "#k_so\n",
    "#k_so = kece_melto[(kece_melto['district']== 'District in Sinoe') & (kece_melto['count']== 'Greenville')].groupby('Type of school').sum().sum(1)\n",
    "k_so\n",
    "#k_so#.sum(1)"
   ]
  },
  {
   "cell_type": "code",
   "execution_count": null,
   "id": "3f027b3e-07c7-441f-be43-42952098cb18",
   "metadata": {},
   "outputs": [],
   "source": []
  },
  {
   "cell_type": "markdown",
   "id": "9830562f-1fc0-497d-b6c3-74c626b9937b",
   "metadata": {},
   "source": [
    "## Districts in Bomi County"
   ]
  },
  {
   "cell_type": "code",
   "execution_count": 1016,
   "id": "4e8876e4-17eb-4f8b-90bf-f09864ece020",
   "metadata": {},
   "outputs": [
    {
     "name": "stdout",
     "output_type": "stream",
     "text": [
      "47.0\n",
      "Type of school\n",
      "Private     0.0\n",
      "Public     47.0\n",
      "dtype: float64\n"
     ]
    }
   ],
   "source": [
    "k_so = kece_melto[(kece_melto['district']== 'District in Bomi') & (kece_melto['count']== 'Senji')].groupby('Type of school').sum().sum(1)\n",
    "k_so = kece_melto[(kece_melto['district']== 'District in Bomi') & (kece_melto['count']== 'Dewoin')].groupby('Type of school').sum().sum(1)\n",
    "k_so = kece_melto[(kece_melto['district']== 'District in Bomi') & (kece_melto['count']== 'Klay')].groupby('Type of school').sum().sum(1)\n",
    "k_so = kece_melto[(kece_melto['district']== 'District in Bomi') & (kece_melto['count']== 'Suehn-Mecca')].groupby('Type of school').sum().sum(1)\n",
    "\n",
    "print(k_so.sum())\n",
    "print(k_so)"
   ]
  },
  {
   "cell_type": "code",
   "execution_count": null,
   "id": "5d21a71e-b18a-49e3-909b-ab99d3f373a9",
   "metadata": {},
   "outputs": [],
   "source": []
  },
  {
   "cell_type": "markdown",
   "id": "9b178d25-c670-4339-8ec0-fba2d44b635e",
   "metadata": {},
   "source": [
    "## Districts in Bong County"
   ]
  },
  {
   "cell_type": "code",
   "execution_count": 1025,
   "id": "b55f56a1-e913-4f1f-8e9e-15000d5e9eb1",
   "metadata": {},
   "outputs": [
    {
     "name": "stdout",
     "output_type": "stream",
     "text": [
      "97.0\n",
      "Type of school\n",
      "Community       0.0\n",
      "Faith-based     0.0\n",
      "Private        97.0\n",
      "Public          0.0\n",
      "dtype: float64\n"
     ]
    }
   ],
   "source": [
    "k_so = kece_melto[(kece_melto['district']== 'District in Bong County') & (kece_melto['count']== 'Gbarnga 1')].groupby('Type of school').sum().sum(1)\n",
    "k_so = kece_melto[(kece_melto['district']== 'District in Bong County') & (kece_melto['count']== 'Gbarnga 2')].groupby('Type of school').sum().sum(1)\n",
    "k_so = kece_melto[(kece_melto['district']== 'District in Bong County') & (kece_melto['count']== 'Zota')].groupby('Type of school').sum().sum(1)\n",
    "k_so = kece_melto[(kece_melto['district']== 'District in Bong County') & (kece_melto['count']== 'Salala')].groupby('Type of school').sum().sum(1)\n",
    "k_so = kece_melto[(kece_melto['district']== 'District in Bong County') & (kece_melto['count']== 'Fuamah')].groupby('Type of school').sum().sum(1)\n",
    "k_so = kece_melto[(kece_melto['district']== 'District in Bong County') & (kece_melto['count']== 'Suakoko')].groupby('Type of school').sum().sum(1)\n",
    "k_so = kece_melto[(kece_melto['district']== 'District in Bong County') & (kece_melto['count']== 'Sanoyea')].groupby('Type of school').sum().sum(1)\n",
    "k_so = kece_melto[(kece_melto['district']== 'District in Bong County') & (kece_melto['count']== 'Panta-Kpaai')].groupby('Type of school').sum().sum(1)\n",
    "k_so = kece_melto[(kece_melto['district']== 'District in Bong County') & (kece_melto['count']== 'Kokoyah')].groupby('Type of school').sum().sum(1)\n",
    "\n",
    "print(k_so.sum())\n",
    "print(k_so)"
   ]
  },
  {
   "cell_type": "code",
   "execution_count": null,
   "id": "b5c8dcf7-7c52-4264-a007-d9a49b8f9712",
   "metadata": {},
   "outputs": [],
   "source": []
  },
  {
   "cell_type": "markdown",
   "id": "c03a0f1b-b6db-4744-91c6-29e969a22bb0",
   "metadata": {},
   "source": [
    "## Districts in Gbarpolu"
   ]
  },
  {
   "cell_type": "code",
   "execution_count": 1031,
   "id": "85b71b07-713e-4d5f-92a8-ff3baa2523d6",
   "metadata": {},
   "outputs": [
    {
     "name": "stdout",
     "output_type": "stream",
     "text": [
      "0.0\n",
      "Type of school\n",
      "Public    0.0\n",
      "dtype: float64\n"
     ]
    }
   ],
   "source": [
    "k_so = kece_melto[(kece_melto['district']== 'District in Gbarpolu') & (kece_melto['count']== 'Gorwalali')].groupby('Type of school').sum().sum(1)\n",
    "k_so = kece_melto[(kece_melto['district']== 'District in Gbarpolu') & (kece_melto['count']== 'Bopolu')].groupby('Type of school').sum().sum(1)\n",
    "k_so = kece_melto[(kece_melto['district']== 'District in Gbarpolu') & (kece_melto['count']== 'Gbarma')].groupby('Type of school').sum().sum(1)\n",
    "k_so = kece_melto[(kece_melto['district']== 'District in Gbarpolu') & (kece_melto['count']== 'Belle')].groupby('Type of school').sum().sum(1)\n",
    "k_so = kece_melto[(kece_melto['district']== 'District in Gbarpolu') & (kece_melto['count']== 'Bokomu')].groupby('Type of school').sum().sum(1)\n",
    "k_so = kece_melto[(kece_melto['district']== 'District in Gbarpolu') & (kece_melto['count']== 'Kongba')].groupby('Type of school').sum().sum(1)\n",
    "print(k_so.sum())\n",
    "print(k_so)"
   ]
  },
  {
   "cell_type": "code",
   "execution_count": null,
   "id": "77c486e8-1b25-4413-bd57-944275efa854",
   "metadata": {},
   "outputs": [],
   "source": []
  },
  {
   "cell_type": "code",
   "execution_count": null,
   "id": "1304f666-39e0-4d18-ad9a-60ad8e212f6a",
   "metadata": {},
   "outputs": [],
   "source": []
  },
  {
   "cell_type": "markdown",
   "id": "45862a6c-caa1-411d-80d3-2a5705f2b640",
   "metadata": {},
   "source": [
    "## Districts in Grand Bassa "
   ]
  },
  {
   "cell_type": "code",
   "execution_count": 1038,
   "id": "93b3ae2e-6876-4351-9816-c7aca9081c60",
   "metadata": {},
   "outputs": [
    {
     "name": "stdout",
     "output_type": "stream",
     "text": [
      "0.0\n",
      "Type of school\n",
      "Community      0.0\n",
      "Faith-based    0.0\n",
      "Private        0.0\n",
      "Public         0.0\n",
      "dtype: float64\n"
     ]
    }
   ],
   "source": [
    "k_so = kece_melto[(kece_melto['district']== 'District in Grand Bassa') & (kece_melto['count']== 'District 5')].groupby('Type of school').sum().sum(1)\n",
    "k_so = kece_melto[(kece_melto['district']== 'District in Grand Bassa') & (kece_melto['count']== 'District 5B')].groupby('Type of school').sum().sum(1)\n",
    "k_so = kece_melto[(kece_melto['district']== 'District in Grand Bassa') & (kece_melto['count']== 'District 2')].groupby('Type of school').sum().sum(1)\n",
    "k_so = kece_melto[(kece_melto['district']== 'District in Grand Bassa') & (kece_melto['count']== 'District 3A')].groupby('Type of school').sum().sum(1)\n",
    "k_so = kece_melto[(kece_melto['district']== 'District in Grand Bassa') & (kece_melto['count']== 'District 3B')].groupby('Type of school').sum().sum(1)\n",
    "k_so = kece_melto[(kece_melto['district']== 'District in Grand Bassa') & (kece_melto['count']== 'District 1')].groupby('Type of school').sum().sum(1)\n",
    "k_so = kece_melto[(kece_melto['district']== 'District in Grand Bassa') & (kece_melto['count']== 'District 4')].groupby('Type of school').sum().sum(1)\n",
    "print(k_so.sum())\n",
    "print(k_so)"
   ]
  },
  {
   "cell_type": "code",
   "execution_count": null,
   "id": "07b2c440-1b35-4d06-b35e-dd08ea555acf",
   "metadata": {},
   "outputs": [],
   "source": []
  },
  {
   "cell_type": "markdown",
   "id": "e9e99d30-54cb-4616-acf1-5f7c5144ce84",
   "metadata": {},
   "source": [
    "## Districts in Grand Cape Mount"
   ]
  },
  {
   "cell_type": "code",
   "execution_count": 1043,
   "id": "3912d6cb-1635-47ec-9c2a-562c7be1644d",
   "metadata": {},
   "outputs": [
    {
     "name": "stdout",
     "output_type": "stream",
     "text": [
      "104.0\n",
      "Type of school\n",
      "Community       0.0\n",
      "Faith-based    26.0\n",
      "Private         0.0\n",
      "Public         78.0\n",
      "dtype: float64\n"
     ]
    }
   ],
   "source": [
    "k_so = kece_melto[(kece_melto['district']== 'District in Grand Cape Mount') & (kece_melto['count']== 'Tewor')].groupby('Type of school').sum().sum(1)\n",
    "k_so = kece_melto[(kece_melto['district']== 'District in Grand Cape Mount') & (kece_melto['count']== 'Gola Konneh')].groupby('Type of school').sum().sum(1)\n",
    "k_so = kece_melto[(kece_melto['district']== 'District in Grand Cape Mount') & (kece_melto['count']== 'Porkpa')].groupby('Type of school').sum().sum(1)\n",
    "k_so = kece_melto[(kece_melto['district']== 'District in Grand Cape Mount') & (kece_melto['count']== 'Garwular')].groupby('Type of school').sum().sum(1)\n",
    "k_so = kece_melto[(kece_melto['district']== 'District in Grand Cape Mount') & (kece_melto['count']== 'Tallah Tombay')].groupby('Type of school').sum().sum(1)\n",
    "print(k_so.sum())\n",
    "print(k_so)"
   ]
  },
  {
   "cell_type": "code",
   "execution_count": null,
   "id": "641bd989-c401-4ec4-9ee0-4db414568c14",
   "metadata": {},
   "outputs": [],
   "source": []
  },
  {
   "cell_type": "markdown",
   "id": "03894060-fbf4-4113-8e2a-b769421c2680",
   "metadata": {},
   "source": [
    "## Districts in Grand Gedeh"
   ]
  },
  {
   "cell_type": "code",
   "execution_count": 1048,
   "id": "64f5ee7a-a824-457b-9b9b-ef46cfe9dec9",
   "metadata": {},
   "outputs": [
    {
     "name": "stdout",
     "output_type": "stream",
     "text": [
      "578.0\n",
      "Type of school\n",
      "Community        0.0\n",
      "Faith-based    376.0\n",
      "Private         98.0\n",
      "Public         104.0\n",
      "dtype: float64\n"
     ]
    }
   ],
   "source": [
    "k_so = kece_melto[(kece_melto['district']== 'Districts in Grand Gedeh') & (kece_melto['count']== 'Konobo')].groupby('Type of school').sum().sum(1)\n",
    "k_so = kece_melto[(kece_melto['district']== 'Districts in Grand Gedeh') & (kece_melto['count']== 'Putu')].groupby('Type of school').sum().sum(1)\n",
    "k_so = kece_melto[(kece_melto['district']== 'Districts in Grand Gedeh') & (kece_melto['count']== 'Gbarzon')].groupby('Type of school').sum().sum(1)\n",
    "k_so = kece_melto[(kece_melto['district']== 'Districts in Grand Gedeh') & (kece_melto['count']== 'Tchien')].groupby('Type of school').sum().sum(1)\n",
    "k_so = kece_melto[(kece_melto['district']== 'Districts in Grand Gedeh') & (kece_melto['count']== 'Cavalla')].groupby('Type of school').sum().sum(1)\n",
    "print(k_so.sum())\n",
    "print(k_so)\n"
   ]
  },
  {
   "cell_type": "code",
   "execution_count": null,
   "id": "1efb72d2-3b00-4768-985c-7de8e8f19cf2",
   "metadata": {},
   "outputs": [],
   "source": []
  },
  {
   "cell_type": "markdown",
   "id": "a25bd9a9-bf16-4cfa-b1a0-114d0456631c",
   "metadata": {},
   "source": [
    "## Districts in Grand Kru"
   ]
  },
  {
   "cell_type": "code",
   "execution_count": 1056,
   "id": "f0c654e2-ef2e-4864-81cc-22b75091f517",
   "metadata": {},
   "outputs": [
    {
     "name": "stdout",
     "output_type": "stream",
     "text": [
      "0.0\n",
      "Type of school\n",
      "Faith-based    0.0\n",
      "Public         0.0\n",
      "dtype: float64\n"
     ]
    }
   ],
   "source": [
    "k_so = kece_melto[(kece_melto['district']== 'Districts in Grand Kru') & (kece_melto['count']== 'Barclayville')].groupby('Type of school').sum().sum(1)\n",
    "k_so = kece_melto[(kece_melto['district']== 'Districts in Grand Kru') & (kece_melto['count']== 'Trehn')].groupby('Type of school').sum().sum(1)\n",
    "k_so = kece_melto[(kece_melto['district']== 'Districts in Grand Kru') & (kece_melto['count']== 'Buah')].groupby('Type of school').sum().sum(1)\n",
    "k_so = kece_melto[(kece_melto['district']== 'Districts in Grand Kru') & (kece_melto['count']== 'Grand Cess')].groupby('Type of school').sum().sum(1)\n",
    "k_so = kece_melto[(kece_melto['district']== 'Districts in Grand Kru') & (kece_melto['count']== 'Dorbor')].groupby('Type of school').sum().sum(1)\n",
    "k_so = kece_melto[(kece_melto['district']== 'Districts in Grand Kru') & (kece_melto['count']== 'Jloh')].groupby('Type of school').sum().sum(1)\n",
    "k_so = kece_melto[(kece_melto['district']== 'Districts in Grand Kru') & (kece_melto['count']== 'Sass Town')].groupby('Type of school').sum().sum(1)\n",
    "k_so = kece_melto[(kece_melto['district']== 'Districts in Grand Kru') & (kece_melto['count']== 'Wedabo')].groupby('Type of school').sum().sum(1)\n",
    "print(k_so.sum())\n",
    "print(k_so)"
   ]
  },
  {
   "cell_type": "code",
   "execution_count": null,
   "id": "7ad57553-9153-48c9-b29c-00db8647019a",
   "metadata": {},
   "outputs": [],
   "source": []
  },
  {
   "cell_type": "markdown",
   "id": "b2f4966e-292b-4c92-ae46-441a6702a122",
   "metadata": {},
   "source": [
    "## Districts in Lofa"
   ]
  },
  {
   "cell_type": "code",
   "execution_count": 1063,
   "id": "79440508-42c3-490e-a6b7-716a659f0c37",
   "metadata": {},
   "outputs": [
    {
     "name": "stdout",
     "output_type": "stream",
     "text": [
      "350.0\n",
      "Type of school\n",
      "Faith-based      0.0\n",
      "Private          0.0\n",
      "Public         350.0\n",
      "dtype: float64\n"
     ]
    }
   ],
   "source": [
    "k_so = kece_melto[(kece_melto['district']== 'District in Lofa') & (kece_melto['count']== 'Foya')].groupby('Type of school').sum().sum(1)\n",
    "k_so = kece_melto[(kece_melto['district']== 'District in Lofa') & (kece_melto['count']== 'Kolahun 1')].groupby('Type of school').sum().sum(1)\n",
    "k_so = kece_melto[(kece_melto['district']== 'District in Lofa') & (kece_melto['count']== 'Kolahun 2')].groupby('Type of school').sum().sum(1)\n",
    "k_so = kece_melto[(kece_melto['district']== 'District in Lofa') & (kece_melto['count']== 'Salayea')].groupby('Type of school').sum().sum(1)\n",
    "k_so = kece_melto[(kece_melto['district']== 'District in Lofa') & (kece_melto['count']== 'Vahun')].groupby('Type of school').sum().sum(1)\n",
    "k_so = kece_melto[(kece_melto['district']== 'District in Lofa') & (kece_melto['count']== 'Voinjama')].groupby('Type of school').sum().sum(1)\n",
    "k_so = kece_melto[(kece_melto['district']== 'District in Lofa') & (kece_melto['count']== 'Zorzor')].groupby('Type of school').sum().sum(1)\n",
    "print(k_so.sum())\n",
    "print(k_so)"
   ]
  },
  {
   "cell_type": "code",
   "execution_count": null,
   "id": "3136e9d5-dd3f-4cbb-a7b3-1c352634296f",
   "metadata": {},
   "outputs": [],
   "source": []
  },
  {
   "cell_type": "markdown",
   "id": "89401577-1dfe-4b54-a9df-7e2f9246cfa0",
   "metadata": {},
   "source": [
    "## Districts in Margibi"
   ]
  },
  {
   "cell_type": "code",
   "execution_count": 1069,
   "id": "f3aa7778-2a79-4761-a84a-6c3976978f01",
   "metadata": {},
   "outputs": [
    {
     "name": "stdout",
     "output_type": "stream",
     "text": [
      "1275.0\n",
      "Type of school\n",
      "Community      162.0\n",
      "Faith-based    398.0\n",
      "Private          0.0\n",
      "Public         715.0\n",
      "dtype: float64\n"
     ]
    }
   ],
   "source": [
    "k_so = kece_melto[(kece_melto['district']== 'District in Margibi') & (kece_melto['count']== 'Marshall')].groupby('Type of school').sum().sum(1)\n",
    "k_so = kece_melto[(kece_melto['district']== 'District in Margibi') & (kece_melto['count']== 'Farmington')].groupby('Type of school').sum().sum(1)\n",
    "k_so = kece_melto[(kece_melto['district']== 'District in Margibi') & (kece_melto['count']== 'Mama kaba')].groupby('Type of school').sum().sum(1)\n",
    "k_so = kece_melto[(kece_melto['district']== 'District in Margibi') & (kece_melto['count']== 'Gibi')].groupby('Type of school').sum().sum(1)\n",
    "k_so = kece_melto[(kece_melto['district']== 'District in Margibi') & (kece_melto['count']== 'Kakata 1')].groupby('Type of school').sum().sum(1)\n",
    "k_so = kece_melto[(kece_melto['district']== 'District in Margibi') & (kece_melto['count']== 'Kakata 2')].groupby('Type of school').sum().sum(1)\n",
    "\n",
    "print(k_so.sum())\n",
    "print(k_so)"
   ]
  },
  {
   "cell_type": "code",
   "execution_count": null,
   "id": "9eff0552-3751-4379-a8db-ba0961174ce3",
   "metadata": {},
   "outputs": [],
   "source": []
  },
  {
   "cell_type": "markdown",
   "id": "f1fb52ac-755b-4f45-90fa-c433bdb92bb3",
   "metadata": {},
   "source": [
    "## Districts in Maryland"
   ]
  },
  {
   "cell_type": "code",
   "execution_count": 1077,
   "id": "6987afbb-8411-4be4-9520-314209767603",
   "metadata": {},
   "outputs": [
    {
     "name": "stdout",
     "output_type": "stream",
     "text": [
      "0.0\n",
      "Series([], dtype: float64)\n"
     ]
    }
   ],
   "source": [
    "k_so = kece_melto[(kece_melto['district']== 'District in Maryland') & (kece_melto['count']== 'Harper 1')].groupby('Type of school').sum().sum(1)\n",
    "k_so = kece_melto[(kece_melto['district']== 'District in Maryland') & (kece_melto['count']== 'Harper 2')].groupby('Type of school').sum().sum(1)\n",
    "k_so = kece_melto[(kece_melto['district']== 'District in Maryland') & (kece_melto['count']== 'Barrobo 1')].groupby('Type of school').sum().sum(1)\n",
    "k_so = kece_melto[(kece_melto['district']== 'District in Maryland') & (kece_melto['count']== 'Barrobo 2')].groupby('Type of school').sum().sum(1)\n",
    "k_so = kece_melto[(kece_melto['district']== 'District in Maryland') & (kece_melto['count']== 'Sodoken')].groupby('Type of school').sum().sum(1)\n",
    "k_so = kece_melto[(kece_melto['district']== 'District in Maryland') & (kece_melto['count']== 'Karleway 1')].groupby('Type of school').sum().sum(1)\n",
    "k_so = kece_melto[(kece_melto['district']== 'District in Maryland') & (kece_melto['count']== 'Karleway 2')].groupby('Type of school').sum().sum(1)\n",
    "k_so = kece_melto[(kece_melto['district']== 'District in Maryland') & (kece_melto['count']== 'Pleebo')].groupby('Type of school').sum().sum(1)\n",
    "\n",
    "print(k_so.sum())\n",
    "print(k_so)"
   ]
  },
  {
   "cell_type": "code",
   "execution_count": null,
   "id": "2f96e85b-066a-407c-9704-13698661669e",
   "metadata": {},
   "outputs": [],
   "source": []
  },
  {
   "cell_type": "markdown",
   "id": "33310750-ad3d-4374-abd2-0e8b9ebcc00e",
   "metadata": {},
   "source": [
    "## Districts in Montserrado 1"
   ]
  },
  {
   "cell_type": "code",
   "execution_count": 1092,
   "id": "af2dbfd8-ac1b-4f1b-89ac-290dbff8cf59",
   "metadata": {},
   "outputs": [
    {
     "name": "stdout",
     "output_type": "stream",
     "text": [
      "1992.0\n",
      "Type of school\n",
      "Community       154.0\n",
      "Faith-based    1109.0\n",
      "Private         721.0\n",
      "Public            8.0\n",
      "dtype: float64\n"
     ]
    }
   ],
   "source": [
    "k_so = kece_melto[(kece_melto['district']== 'District in Montserrado 1') & (kece_melto['count']== 'Paynesville 1')].groupby('Type of school').sum().sum(1)\n",
    "k_so = kece_melto[(kece_melto['district']== 'District in Montserrado 1') & (kece_melto['count']== 'Paynesville 2')].groupby('Type of school').sum().sum(1)\n",
    "k_so = kece_melto[(kece_melto['district']== 'District in Montserrado 1') & (kece_melt['count']== 'Paynesville 3')].groupby('Type of school').sum().sum(1)\n",
    "k_so = kece_melto[(kece_melto['district']== 'District in Montserrado 1') & (kece_melto['count']== 'Paynesville 4')].groupby('Type of school').sum().sum(1)\n",
    "k_so = kece_melto[(kece_melto['district']== 'District in Montserrado 1') & (kece_melto['count']== 'Paynesville 5')].groupby('Type of school').sum().sum(1)\n",
    "k_so = kece_melto[(kece_melto['district']== 'District in Montserrado 1') & (kece_melto['count']== 'Paynesville 6')].groupby('Type of school').sum().sum(1)\n",
    "k_so = kece_melto[(kece_melto['district']== 'District in Montserrado 1') & (kece_melto['count']== 'Greater Monrovia 1A')].groupby('Type of school').sum().sum(1)\n",
    "k_so = kece_melto[(kece_melto['district']== 'District in Montserrado 1') & (kece_melto['count']== 'Greater Monrovia 1B')].groupby('Type of school').sum().sum(1)\n",
    "k_so = kece_melto[(kece_melto['district']== 'District in Montserrado 1') & (kece_melto['count']== 'Greater Monrovia 1C')].groupby('Type of school').sum().sum(1)\n",
    "k_so = kece_melto[(kece_melto['district']== 'District in Montserrado 1') & (kece_melto['count']== 'Greater Monrovia 1D')].groupby('Type of school').sum().sum(1)\n",
    "k_so = kece_melto[(kece_melto['district']== 'District in Montserrado 1') & (kece_melto['count']== 'Greater Monrovia 1E')].groupby('Type of school').sum().sum(1)\n",
    "k_so = kece_melto[(kece_melto['district']== 'District in Montserrado 1') & (kece_melto['count']== 'Greater Monrovia 2A')].groupby('Type of school').sum().sum(1)\n",
    "k_so = kece_melto[(kece_melto['district']== 'District in Montserrado 1') & (kece_melto['count']== 'Greater Monrovia 2B')].groupby('Type of school').sum().sum(1)\n",
    "k_so = kece_melto[(kece_melto['district']== 'District in Montserrado 1') & (kece_melto['count']== 'Greater Monrovia 2C')].groupby('Type of school').sum().sum(1)\n",
    "k_so = kece_melto[(kece_melto['district']== 'District in Montserrado 1') & (kece_melto['count']== 'Greater Monrovia 2D')].groupby('Type of school').sum().sum(1)\n",
    "\n",
    "print(k_so.sum())\n",
    "print(k_so)"
   ]
  },
  {
   "cell_type": "code",
   "execution_count": null,
   "id": "7a81b721-db70-4986-9ef1-60121240e288",
   "metadata": {},
   "outputs": [],
   "source": []
  },
  {
   "cell_type": "code",
   "execution_count": null,
   "id": "705e85f9-c4ab-46b7-b7d9-61879cf63f28",
   "metadata": {},
   "outputs": [],
   "source": []
  },
  {
   "cell_type": "markdown",
   "id": "23a7b206-21f4-4f09-a94a-b741fb02346a",
   "metadata": {},
   "source": [
    "## Districts in Montserrado 2"
   ]
  },
  {
   "cell_type": "code",
   "execution_count": 1104,
   "id": "7d23876d-cd0a-4b05-84a9-81d6035617b9",
   "metadata": {},
   "outputs": [
    {
     "name": "stdout",
     "output_type": "stream",
     "text": [
      "1509.0\n",
      "Type of school\n",
      "Faith-based     225.0\n",
      "Private        1050.0\n",
      "Public          234.0\n",
      "dtype: float64\n"
     ]
    }
   ],
   "source": [
    "k_so = kece_melto[(kece_melto['district']== 'District in Montserrado 2') & (kece_melto['count']== 'Left Bank 1A')].groupby('Type of school').sum().sum(1)\n",
    "k_so = kece_melto[(kece_melto['district']== 'District in Montserrado 2') & (kece_melto['count']== 'Left bank 1B')].groupby('Type of school').sum().sum(1)\n",
    "k_so = kece_melto[(kece_melto['district']== 'District in Montserrado 2') & (kece_melto['count']== 'Left bank  1C')].groupby('Type of school').sum().sum(1)\n",
    "k_so = kece_melto[(kece_melto['district']== 'District in Montserrado 2') & (kece_melto['count']== 'Left Bank 1D')].groupby('Type of school').sum().sum(1)\n",
    "k_so = kece_melto[(kece_melto['district']== 'District in Montserrado 2') & (kece_melto['count']== 'Left Bank 2A')].groupby('Type of school').sum().sum(1)\n",
    "k_so = kece_melto[(kece_melto['district']== 'District in Montserrado 2') & (kece_melto['count']== 'Left bank 2B')].groupby('Type of school').sum().sum(1)\n",
    "k_so = kece_melto[(kece_melto['district']== 'District in Montserrado 2') & (kece_melto['count']== 'Careysburg')].groupby('Type of school').sum().sum(1)\n",
    "k_so = kece_melto[(kece_melto['district']== 'District in Montserrado 2') & (kece_melto['count']== 'Todee')].groupby('Type of school').sum().sum(1)\n",
    "k_so = kece_melto[(kece_melto['district']== 'District in Montserrado 2') & (kece_melto['count']== 'Right Bank 1')].groupby('Type of school').sum().sum(1)\n",
    "k_so = kece_melto[(kece_melto['district']== 'District in Montserrado 2') & (kece_melto['count']== 'Right Bank 2')].groupby('Type of school').sum().sum(1)\n",
    "k_so = kece_melto[(kece_melto['district']== 'District in Montserrado 2') & (kece_melto['count']== 'Right Bank 3')].groupby('Type of school').sum().sum(1)\n",
    "\n",
    "print(k_so.sum())\n",
    "print(k_so)"
   ]
  },
  {
   "cell_type": "code",
   "execution_count": null,
   "id": "d5a06d6f-d3ee-47eb-852e-ad173f3ceae8",
   "metadata": {},
   "outputs": [],
   "source": []
  },
  {
   "cell_type": "markdown",
   "id": "f82b4e05-c52a-4077-b043-62d6bcd3ec0f",
   "metadata": {},
   "source": [
    "## Districts in Nimba"
   ]
  },
  {
   "cell_type": "code",
   "execution_count": 1205,
   "id": "272628be-b86c-4363-9ece-53b575273bcf",
   "metadata": {},
   "outputs": [
    {
     "name": "stdout",
     "output_type": "stream",
     "text": [
      "146.0\n",
      "Type of school\n",
      "Community        0.0\n",
      "Faith-based    131.0\n",
      "Private         15.0\n",
      "Public           0.0\n",
      "dtype: float64\n"
     ]
    }
   ],
   "source": [
    "k_so = kece_melto[(kece_melto['district']== 'District in Nimba') & (kece_melto['count']== 'Tappita 1')].groupby('Type of school').sum().sum(1)\n",
    "k_so = kece_melto[(kece_melto['district']== 'District in Nimba') & (kece_melto['count']== 'Tappita 2')].groupby('Type of school').sum().sum(1)\n",
    "k_so = kece_melto[(kece_melto['district']== 'District in Nimba') & (kece_melto['count']== 'Saclepea 1')].groupby('Type of school').sum().sum(1)\n",
    "k_so = kece_melto[(kece_melto['district']== 'District in Nimba') & (kece_melto['count']== 'Sanniquellie Mah')].groupby('Type of school').sum().sum(1)\n",
    "k_so = kece_melto[(kece_melto['district']== 'District in Nimba') & (kece_melto['count']== 'Zoe-Geh')].groupby('Type of school').sum().sum(1)\n",
    "k_so = kece_melto[(kece_melto['district']== 'District in Nimba') & (kece_melto['count']== 'Tuwah River')].groupby('Type of school').sum().sum(1)\n",
    "k_so = kece_melto[(kece_melto['district']== 'District in Nimba') & (kece_melto['count']== 'Gbelay-Geh')].groupby('Type of school').sum().sum(1)\n",
    "k_so = kece_melto[(kece_melto['district']== 'District in Nimba') & (kece_melto['count']== 'Yarpea Mah')].groupby('Type of school').sum().sum(1)\n",
    "k_so = kece_melto[(kece_melto['district']== 'District in Nimba') & (kece_melto['count']== 'Yarwein Mensonoh')].groupby('Type of school').sum().sum(1)\n",
    "k_so = kece_melto[(kece_melto['district']== 'District in Nimba') & (kece_melto['count']== 'Buuyao')].groupby('Type of school').sum().sum(1)\n",
    "k_so = kece_melto[(kece_melto['district']== 'District in Nimba') & (kece_melto['count']== 'Bain-Garr 1')].groupby('Type of school').sum().sum(1)\n",
    "k_so = kece_melto[(kece_melto['district']== 'District in Nimba') & (kece_melto['count']== 'Bain- Garr 2')].groupby('Type of school').sum().sum(1)\n",
    "\n",
    "print(k_so.sum())\n",
    "print(k_so)"
   ]
  },
  {
   "cell_type": "code",
   "execution_count": null,
   "id": "63250513-725c-4e25-953a-46f4889fe731",
   "metadata": {},
   "outputs": [],
   "source": []
  },
  {
   "cell_type": "markdown",
   "id": "37e493e5-79d3-41e8-992f-e7b560d7cb9a",
   "metadata": {},
   "source": [
    "## Districts in River Gee"
   ]
  },
  {
   "cell_type": "code",
   "execution_count": 1122,
   "id": "8a091a83-4903-4ca5-a611-7284e2076f25",
   "metadata": {},
   "outputs": [
    {
     "name": "stdout",
     "output_type": "stream",
     "text": [
      "43.0\n",
      "Type of school\n",
      "Public    43.0\n",
      "dtype: float64\n"
     ]
    }
   ],
   "source": [
    "k_so = kece_melto[(kece_melto['district']== 'District in River Gee') & (kece_melto['count']== 'Sarbo')].groupby('Type of school').sum().sum(1)\n",
    "k_so = kece_melto[(kece_melto['district']== 'District in River Gee') & (kece_melto['count']== 'Tienpo')].groupby('Type of school').sum().sum(1)\n",
    "k_so = kece_melto[(kece_melto['district']== 'District in River Gee') & (kece_melto['count']== 'Chedepo')].groupby('Type of school').sum().sum(1)\n",
    "k_so = kece_melto[(kece_melto['district']== 'District in River Gee') & (kece_melto['count']== 'Putupo')].groupby('Type of school').sum().sum(1)\n",
    "k_so = kece_melto[(kece_melto['district']== 'District in River Gee') & (kece_melto['count']== 'Gbeapo')].groupby('Type of school').sum().sum(1)\n",
    "k_so = kece_melto[(kece_melto['district']== 'District in River Gee') & (kece_melto['count']== 'Webbo')].groupby('Type of school').sum().sum(1)\n",
    "\n",
    "print(k_so.sum())\n",
    "print(k_so)"
   ]
  },
  {
   "cell_type": "code",
   "execution_count": null,
   "id": "127213f5-5e57-4086-aa2b-4a3ecfcd934d",
   "metadata": {},
   "outputs": [],
   "source": []
  },
  {
   "cell_type": "markdown",
   "id": "7065b700-4e72-4ab7-9252-238b370b1939",
   "metadata": {},
   "source": [
    "## Districts in River Cess"
   ]
  },
  {
   "cell_type": "code",
   "execution_count": 1127,
   "id": "89ee0456-7220-480d-a7d3-3abc5d26ac1e",
   "metadata": {},
   "outputs": [
    {
     "name": "stdout",
     "output_type": "stream",
     "text": [
      "0.0\n",
      "Type of school\n",
      "Faith-based    0.0\n",
      "Public         0.0\n",
      "dtype: float64\n"
     ]
    }
   ],
   "source": [
    "k_so = kece_melto[(kece_melto['district']== 'Districts in River Cess') & (kece_melto['count']== 'Timobo')].groupby('Type of school').sum().sum(1)\n",
    "k_so = kece_melto[(kece_melto['district']== 'Districts in River Cess') & (kece_melto['count']== 'Central Rivercess 1')].groupby('Type of school').sum().sum(1)\n",
    "k_so = kece_melto[(kece_melto['district']== 'Districts in River Cess') & (kece_melto['count']== 'Central Rivercess 2')].groupby('Type of school').sum().sum(1)\n",
    "k_so = kece_melto[(kece_melto['district']== 'Districts in River Cess') & (kece_melto['count']== 'Morwah')].groupby('Type of school').sum().sum(1)\n",
    "k_so = kece_melto[(kece_melto['district']== 'Districts in River Cess') & (kece_melto['count']== 'Yarnee')].groupby('Type of school').sum().sum(1)\n",
    "\n",
    "print(k_so.sum())\n",
    "print(k_so)"
   ]
  },
  {
   "cell_type": "code",
   "execution_count": null,
   "id": "d93aa937-e810-4c19-8d47-2195dc18a477",
   "metadata": {},
   "outputs": [],
   "source": []
  },
  {
   "cell_type": "markdown",
   "id": "e9df6cc6-693c-46d9-ac13-ab6854475dfd",
   "metadata": {},
   "source": [
    "## Districts in Sinoe"
   ]
  },
  {
   "cell_type": "code",
   "execution_count": 1136,
   "id": "7caf5fb8-48ba-4be4-a0d2-d660465fca5e",
   "metadata": {},
   "outputs": [
    {
     "name": "stdout",
     "output_type": "stream",
     "text": [
      "103.0\n",
      "Type of school\n",
      "Public    103.0\n",
      "dtype: float64\n"
     ]
    }
   ],
   "source": [
    "k_so = kece_melto[(kece_melto['district']== 'District in Sinoe') & (kece_melto['count']== 'Upper Kpanyan')].groupby('Type of school').sum().sum(1)\n",
    "k_so = kece_melto[(kece_melto['district']== 'District in Sinoe') & (kece_melto['count']== 'Juarzon')].groupby('Type of school').sum().sum(1)\n",
    "k_so = kece_melto[(kece_melto['district']== 'District in Sinoe') & (kece_melto['count']== 'Lower Kpanyan')].groupby('Type of school').sum().sum(1)\n",
    "k_so = kece_melto[(kece_melto['district']== 'District in Sinoe') & (kece_melto['count']== 'Butaw')].groupby('Type of school').sum().sum(1)\n",
    "k_so = kece_melto[(kece_melto['district']== 'District in Sinoe') & (kece_melto['count']== 'Tarjuwon')].groupby('Type of school').sum().sum(1)\n",
    "k_so = kece_melto[(kece_melto['district']== 'District in Sinoe') & (kece_melto['count']== 'Jeadea')].groupby('Type of school').sum().sum(1)\n",
    "k_so = kece_melto[(kece_melto['district']== 'District in Sinoe') & (kece_melto['count']== 'Sanquin')].groupby('Type of school').sum().sum(1)\n",
    "k_so = kece_melto[(kece_melto['district']== 'District in Sinoe') & (kece_melto['count']== 'Greenville')].groupby('Type of school').sum().sum(1)\n",
    "k_so = kece_melto[(kece_melto['district']== 'District in Sinoe') & (kece_melto['count']== 'Central Kpanyan')].groupby('Type of school').sum().sum(1)\n",
    "\n",
    "print(k_so.sum())\n",
    "print(k_so)\n"
   ]
  },
  {
   "cell_type": "code",
   "execution_count": null,
   "id": "5aa35548-f444-4f8a-871f-1930d62c8fdd",
   "metadata": {},
   "outputs": [],
   "source": []
  },
  {
   "cell_type": "markdown",
   "id": "cfce4156-31e7-447c-8526-a1ad56849322",
   "metadata": {},
   "source": [
    "# Table 9: SHS Disability by Ownership"
   ]
  },
  {
   "cell_type": "code",
   "execution_count": 1206,
   "id": "87660a86-223d-4651-8745-d25b495caf63",
   "metadata": {},
   "outputs": [
    {
     "data": {
      "text/html": [
       "<div>\n",
       "<style scoped>\n",
       "    .dataframe tbody tr th:only-of-type {\n",
       "        vertical-align: middle;\n",
       "    }\n",
       "\n",
       "    .dataframe tbody tr th {\n",
       "        vertical-align: top;\n",
       "    }\n",
       "\n",
       "    .dataframe thead th {\n",
       "        text-align: right;\n",
       "    }\n",
       "</style>\n",
       "<table border=\"1\" class=\"dataframe\">\n",
       "  <thead>\n",
       "    <tr style=\"text-align: right;\">\n",
       "      <th></th>\n",
       "      <th>How many MALE students in Grade 10 are Visually impaired ?</th>\n",
       "      <th>How many FEMALE students in Grade 10 are Visually impaired?</th>\n",
       "      <th>How many MALE students in Grade 11 are Visually impaired ?</th>\n",
       "      <th>How many FEMALE students in Grade 11 are Visually impaired?</th>\n",
       "      <th>How many MALE students in Grade 12 are Visually impaired ?</th>\n",
       "      <th>How many FEMALE students in Grade 12 are Visually impaired?</th>\n",
       "      <th>How many MALE students in  Grade 10 have hearing impairment?</th>\n",
       "      <th>How many FEMALE students in Grade 10 have hearing impairment?</th>\n",
       "      <th>How many MALE students in  Grade 11 have hearing impairment?</th>\n",
       "      <th>How many FEMALE students in Grade 11 have hearing impairment?</th>\n",
       "      <th>How many MALE students in  Grade 12 have hearing impairment?</th>\n",
       "      <th>How many FEMALE students in Grade 12 have hearing impairment?</th>\n",
       "      <th>How many MALE students in  Grade 10 have other physical disabilities?</th>\n",
       "      <th>How many FEMALE students in  Grade 10 have other physical disabilities?</th>\n",
       "      <th>How many MALE students in  Grade 11 have other physical disabilities?</th>\n",
       "      <th>How many FEMALE students in  Grade 11 have other physical disabilities?</th>\n",
       "      <th>How many MALE students in  Grade 12 have other physical disabilities?</th>\n",
       "      <th>How many FEMALE students in  Grade 12 have other physical disabilities?</th>\n",
       "      <th>How many MALE students in  Grade 10 have other mental disability or learning difficulty?</th>\n",
       "      <th>How many MALE students in  Grade 11 have other mental disability or learning difficulty?</th>\n",
       "      <th>How many MALE students in  Grade 12 have other mental disability or learning difficulty?</th>\n",
       "      <th>How many FEMALE students in  Grade 10 have other mental disability or learning difficulty?</th>\n",
       "      <th>How many FEMALE students in  Grade 11 have other mental disability or learning difficulty?</th>\n",
       "      <th>How many FEMALE students in  Grade 12 have other mental disability or learning difficulty?</th>\n",
       "    </tr>\n",
       "    <tr>\n",
       "      <th>Type of school</th>\n",
       "      <th></th>\n",
       "      <th></th>\n",
       "      <th></th>\n",
       "      <th></th>\n",
       "      <th></th>\n",
       "      <th></th>\n",
       "      <th></th>\n",
       "      <th></th>\n",
       "      <th></th>\n",
       "      <th></th>\n",
       "      <th></th>\n",
       "      <th></th>\n",
       "      <th></th>\n",
       "      <th></th>\n",
       "      <th></th>\n",
       "      <th></th>\n",
       "      <th></th>\n",
       "      <th></th>\n",
       "      <th></th>\n",
       "      <th></th>\n",
       "      <th></th>\n",
       "      <th></th>\n",
       "      <th></th>\n",
       "      <th></th>\n",
       "    </tr>\n",
       "  </thead>\n",
       "  <tbody>\n",
       "    <tr>\n",
       "      <th>Community</th>\n",
       "      <td>0.0</td>\n",
       "      <td>0.0</td>\n",
       "      <td>0.0</td>\n",
       "      <td>8.0</td>\n",
       "      <td>0.0</td>\n",
       "      <td>0.0</td>\n",
       "      <td>0.0</td>\n",
       "      <td>0.0</td>\n",
       "      <td>0.0</td>\n",
       "      <td>0.0</td>\n",
       "      <td>0.0</td>\n",
       "      <td>0.0</td>\n",
       "      <td>0.0</td>\n",
       "      <td>1.0</td>\n",
       "      <td>0.0</td>\n",
       "      <td>0.0</td>\n",
       "      <td>0.0</td>\n",
       "      <td>1.0</td>\n",
       "      <td>5.0</td>\n",
       "      <td>0.0</td>\n",
       "      <td>0.0</td>\n",
       "      <td>0.0</td>\n",
       "      <td>0.0</td>\n",
       "      <td>0.0</td>\n",
       "    </tr>\n",
       "    <tr>\n",
       "      <th>Faith-based</th>\n",
       "      <td>9.0</td>\n",
       "      <td>13.0</td>\n",
       "      <td>5.0</td>\n",
       "      <td>2.0</td>\n",
       "      <td>4.0</td>\n",
       "      <td>4.0</td>\n",
       "      <td>11.0</td>\n",
       "      <td>10.0</td>\n",
       "      <td>13.0</td>\n",
       "      <td>2.0</td>\n",
       "      <td>5.0</td>\n",
       "      <td>2.0</td>\n",
       "      <td>2.0</td>\n",
       "      <td>4.0</td>\n",
       "      <td>5.0</td>\n",
       "      <td>4.0</td>\n",
       "      <td>11.0</td>\n",
       "      <td>2.0</td>\n",
       "      <td>0.0</td>\n",
       "      <td>3.0</td>\n",
       "      <td>0.0</td>\n",
       "      <td>3.0</td>\n",
       "      <td>6.0</td>\n",
       "      <td>9.0</td>\n",
       "    </tr>\n",
       "    <tr>\n",
       "      <th>Private</th>\n",
       "      <td>1.0</td>\n",
       "      <td>1.0</td>\n",
       "      <td>1.0</td>\n",
       "      <td>2.0</td>\n",
       "      <td>0.0</td>\n",
       "      <td>1.0</td>\n",
       "      <td>0.0</td>\n",
       "      <td>8.0</td>\n",
       "      <td>0.0</td>\n",
       "      <td>0.0</td>\n",
       "      <td>1.0</td>\n",
       "      <td>0.0</td>\n",
       "      <td>8.0</td>\n",
       "      <td>23.0</td>\n",
       "      <td>0.0</td>\n",
       "      <td>0.0</td>\n",
       "      <td>2.0</td>\n",
       "      <td>2.0</td>\n",
       "      <td>0.0</td>\n",
       "      <td>0.0</td>\n",
       "      <td>10.0</td>\n",
       "      <td>2.0</td>\n",
       "      <td>8.0</td>\n",
       "      <td>1.0</td>\n",
       "    </tr>\n",
       "    <tr>\n",
       "      <th>Public</th>\n",
       "      <td>1.0</td>\n",
       "      <td>1.0</td>\n",
       "      <td>9.0</td>\n",
       "      <td>1.0</td>\n",
       "      <td>1.0</td>\n",
       "      <td>2.0</td>\n",
       "      <td>0.0</td>\n",
       "      <td>0.0</td>\n",
       "      <td>0.0</td>\n",
       "      <td>0.0</td>\n",
       "      <td>0.0</td>\n",
       "      <td>1.0</td>\n",
       "      <td>4.0</td>\n",
       "      <td>0.0</td>\n",
       "      <td>2.0</td>\n",
       "      <td>3.0</td>\n",
       "      <td>1.0</td>\n",
       "      <td>4.0</td>\n",
       "      <td>1.0</td>\n",
       "      <td>0.0</td>\n",
       "      <td>0.0</td>\n",
       "      <td>0.0</td>\n",
       "      <td>8.0</td>\n",
       "      <td>0.0</td>\n",
       "    </tr>\n",
       "  </tbody>\n",
       "</table>\n",
       "</div>"
      ],
      "text/plain": [
       "                How many MALE students in Grade 10 are Visually impaired ?  \\\n",
       "Type of school                                                               \n",
       "Community                                                     0.0            \n",
       "Faith-based                                                   9.0            \n",
       "Private                                                       1.0            \n",
       "Public                                                        1.0            \n",
       "\n",
       "                How many FEMALE students in Grade 10 are Visually impaired?  \\\n",
       "Type of school                                                                \n",
       "Community                                                     0.0             \n",
       "Faith-based                                                  13.0             \n",
       "Private                                                       1.0             \n",
       "Public                                                        1.0             \n",
       "\n",
       "                How many MALE students in Grade 11 are Visually impaired ?  \\\n",
       "Type of school                                                               \n",
       "Community                                                     0.0            \n",
       "Faith-based                                                   5.0            \n",
       "Private                                                       1.0            \n",
       "Public                                                        9.0            \n",
       "\n",
       "                How many FEMALE students in Grade 11 are Visually impaired?  \\\n",
       "Type of school                                                                \n",
       "Community                                                     8.0             \n",
       "Faith-based                                                   2.0             \n",
       "Private                                                       2.0             \n",
       "Public                                                        1.0             \n",
       "\n",
       "                How many MALE students in Grade 12 are Visually impaired ?  \\\n",
       "Type of school                                                               \n",
       "Community                                                     0.0            \n",
       "Faith-based                                                   4.0            \n",
       "Private                                                       0.0            \n",
       "Public                                                        1.0            \n",
       "\n",
       "                How many FEMALE students in Grade 12 are Visually impaired?  \\\n",
       "Type of school                                                                \n",
       "Community                                                     0.0             \n",
       "Faith-based                                                   4.0             \n",
       "Private                                                       1.0             \n",
       "Public                                                        2.0             \n",
       "\n",
       "                How many MALE students in  Grade 10 have hearing impairment?  \\\n",
       "Type of school                                                                 \n",
       "Community                                                     0.0              \n",
       "Faith-based                                                  11.0              \n",
       "Private                                                       0.0              \n",
       "Public                                                        0.0              \n",
       "\n",
       "                How many FEMALE students in Grade 10 have hearing impairment?  \\\n",
       "Type of school                                                                  \n",
       "Community                                                     0.0               \n",
       "Faith-based                                                  10.0               \n",
       "Private                                                       8.0               \n",
       "Public                                                        0.0               \n",
       "\n",
       "                How many MALE students in  Grade 11 have hearing impairment?  \\\n",
       "Type of school                                                                 \n",
       "Community                                                     0.0              \n",
       "Faith-based                                                  13.0              \n",
       "Private                                                       0.0              \n",
       "Public                                                        0.0              \n",
       "\n",
       "                How many FEMALE students in Grade 11 have hearing impairment?  \\\n",
       "Type of school                                                                  \n",
       "Community                                                     0.0               \n",
       "Faith-based                                                   2.0               \n",
       "Private                                                       0.0               \n",
       "Public                                                        0.0               \n",
       "\n",
       "                How many MALE students in  Grade 12 have hearing impairment?  \\\n",
       "Type of school                                                                 \n",
       "Community                                                     0.0              \n",
       "Faith-based                                                   5.0              \n",
       "Private                                                       1.0              \n",
       "Public                                                        0.0              \n",
       "\n",
       "                How many FEMALE students in Grade 12 have hearing impairment?  \\\n",
       "Type of school                                                                  \n",
       "Community                                                     0.0               \n",
       "Faith-based                                                   2.0               \n",
       "Private                                                       0.0               \n",
       "Public                                                        1.0               \n",
       "\n",
       "                How many MALE students in  Grade 10 have other physical disabilities?  \\\n",
       "Type of school                                                                          \n",
       "Community                                                     0.0                       \n",
       "Faith-based                                                   2.0                       \n",
       "Private                                                       8.0                       \n",
       "Public                                                        4.0                       \n",
       "\n",
       "                How many FEMALE students in  Grade 10 have other physical disabilities?  \\\n",
       "Type of school                                                                            \n",
       "Community                                                     1.0                         \n",
       "Faith-based                                                   4.0                         \n",
       "Private                                                      23.0                         \n",
       "Public                                                        0.0                         \n",
       "\n",
       "                How many MALE students in  Grade 11 have other physical disabilities?  \\\n",
       "Type of school                                                                          \n",
       "Community                                                     0.0                       \n",
       "Faith-based                                                   5.0                       \n",
       "Private                                                       0.0                       \n",
       "Public                                                        2.0                       \n",
       "\n",
       "                How many FEMALE students in  Grade 11 have other physical disabilities?  \\\n",
       "Type of school                                                                            \n",
       "Community                                                     0.0                         \n",
       "Faith-based                                                   4.0                         \n",
       "Private                                                       0.0                         \n",
       "Public                                                        3.0                         \n",
       "\n",
       "                How many MALE students in  Grade 12 have other physical disabilities?  \\\n",
       "Type of school                                                                          \n",
       "Community                                                     0.0                       \n",
       "Faith-based                                                  11.0                       \n",
       "Private                                                       2.0                       \n",
       "Public                                                        1.0                       \n",
       "\n",
       "                How many FEMALE students in  Grade 12 have other physical disabilities?  \\\n",
       "Type of school                                                                            \n",
       "Community                                                     1.0                         \n",
       "Faith-based                                                   2.0                         \n",
       "Private                                                       2.0                         \n",
       "Public                                                        4.0                         \n",
       "\n",
       "                How many MALE students in  Grade 10 have other mental disability or learning difficulty?  \\\n",
       "Type of school                                                                                             \n",
       "Community                                                     5.0                                          \n",
       "Faith-based                                                   0.0                                          \n",
       "Private                                                       0.0                                          \n",
       "Public                                                        1.0                                          \n",
       "\n",
       "                How many MALE students in  Grade 11 have other mental disability or learning difficulty?  \\\n",
       "Type of school                                                                                             \n",
       "Community                                                     0.0                                          \n",
       "Faith-based                                                   3.0                                          \n",
       "Private                                                       0.0                                          \n",
       "Public                                                        0.0                                          \n",
       "\n",
       "                How many MALE students in  Grade 12 have other mental disability or learning difficulty?  \\\n",
       "Type of school                                                                                             \n",
       "Community                                                     0.0                                          \n",
       "Faith-based                                                   0.0                                          \n",
       "Private                                                      10.0                                          \n",
       "Public                                                        0.0                                          \n",
       "\n",
       "                How many FEMALE students in  Grade 10 have other mental disability or learning difficulty?  \\\n",
       "Type of school                                                                                               \n",
       "Community                                                     0.0                                            \n",
       "Faith-based                                                   3.0                                            \n",
       "Private                                                       2.0                                            \n",
       "Public                                                        0.0                                            \n",
       "\n",
       "                How many FEMALE students in  Grade 11 have other mental disability or learning difficulty?  \\\n",
       "Type of school                                                                                               \n",
       "Community                                                     0.0                                            \n",
       "Faith-based                                                   6.0                                            \n",
       "Private                                                       8.0                                            \n",
       "Public                                                        8.0                                            \n",
       "\n",
       "                How many FEMALE students in  Grade 12 have other mental disability or learning difficulty?  \n",
       "Type of school                                                                                              \n",
       "Community                                                     0.0                                           \n",
       "Faith-based                                                   9.0                                           \n",
       "Private                                                       1.0                                           \n",
       "Public                                                        0.0                                           "
      ]
     },
     "execution_count": 1206,
     "metadata": {},
     "output_type": "execute_result"
    }
   ],
   "source": [
    "kece_disa=kcensus.iloc[:,541:565]\n",
    "kece_disa\n",
    "eceo=kece_disao.iloc[:,0]\n",
    "eceo.head()\n",
    "#kece_disa.head()\n",
    "kece_disao=pd.concat([kece_o,kece_disa], axis =1)\n",
    "kece_dis1 = kece_disao.groupby('Type of school').sum()\n",
    "kece_dis1#.sum(1).sum()"
   ]
  },
  {
   "cell_type": "code",
   "execution_count": 1207,
   "id": "edc29d25-4920-4c27-b096-94613f725d46",
   "metadata": {},
   "outputs": [
    {
     "data": {
      "text/plain": [
       "Type of school\n",
       "Community       8.0\n",
       "Faith-based    37.0\n",
       "Private         6.0\n",
       "Public         15.0\n",
       "dtype: float64"
      ]
     },
     "execution_count": 1207,
     "metadata": {},
     "output_type": "execute_result"
    }
   ],
   "source": [
    "kece_dis1v= kece_dis1.iloc[:,:6].sum(1)\n",
    "kece_dis1v"
   ]
  },
  {
   "cell_type": "code",
   "execution_count": 1208,
   "id": "5429be42-97bd-4880-a8a3-1ac63f3bdb06",
   "metadata": {},
   "outputs": [
    {
     "data": {
      "text/plain": [
       "Type of school\n",
       "Community       0.0\n",
       "Faith-based    43.0\n",
       "Private         9.0\n",
       "Public          1.0\n",
       "dtype: float64"
      ]
     },
     "execution_count": 1208,
     "metadata": {},
     "output_type": "execute_result"
    }
   ],
   "source": [
    "kece_dish = kece_dis1.iloc[:,6:12].sum(1)\n",
    "kece_dish"
   ]
  },
  {
   "cell_type": "code",
   "execution_count": 1209,
   "id": "9e3416d0-a329-4010-9d3c-e7db95699375",
   "metadata": {},
   "outputs": [
    {
     "data": {
      "text/plain": [
       "Type of school\n",
       "Community       2.0\n",
       "Faith-based    28.0\n",
       "Private        35.0\n",
       "Public         14.0\n",
       "dtype: float64"
      ]
     },
     "execution_count": 1209,
     "metadata": {},
     "output_type": "execute_result"
    }
   ],
   "source": [
    "kece_disp = kece_dis1.iloc[:,12:18].sum(1)\n",
    "kece_disp"
   ]
  },
  {
   "cell_type": "code",
   "execution_count": 1210,
   "id": "553d49ff-7af9-4e9a-8757-ab1b9104d00b",
   "metadata": {},
   "outputs": [
    {
     "data": {
      "text/plain": [
       "Type of school\n",
       "Community       5.0\n",
       "Faith-based    21.0\n",
       "Private        21.0\n",
       "Public          9.0\n",
       "dtype: float64"
      ]
     },
     "execution_count": 1210,
     "metadata": {},
     "output_type": "execute_result"
    }
   ],
   "source": [
    "kece_disl = kece_dis1.iloc[:,18:].sum(1)\n",
    "kece_disl"
   ]
  },
  {
   "cell_type": "markdown",
   "id": "6c6b12a8-a0c0-44d2-bead-29952ed3f993",
   "metadata": {},
   "source": [
    "# Table 10: ECE Disability by Gender"
   ]
  },
  {
   "cell_type": "code",
   "execution_count": 1211,
   "id": "9aed10c6-715f-4202-af2f-3faad18bad04",
   "metadata": {},
   "outputs": [
    {
     "data": {
      "text/html": [
       "<div>\n",
       "<style scoped>\n",
       "    .dataframe tbody tr th:only-of-type {\n",
       "        vertical-align: middle;\n",
       "    }\n",
       "\n",
       "    .dataframe tbody tr th {\n",
       "        vertical-align: top;\n",
       "    }\n",
       "\n",
       "    .dataframe thead th {\n",
       "        text-align: right;\n",
       "    }\n",
       "</style>\n",
       "<table border=\"1\" class=\"dataframe\">\n",
       "  <thead>\n",
       "    <tr style=\"text-align: right;\">\n",
       "      <th></th>\n",
       "      <th>How many MALE students in Grade 10 are Visually impaired ?</th>\n",
       "      <th>How many FEMALE students in Grade 10 are Visually impaired?</th>\n",
       "      <th>How many MALE students in Grade 11 are Visually impaired ?</th>\n",
       "      <th>How many FEMALE students in Grade 11 are Visually impaired?</th>\n",
       "      <th>How many MALE students in Grade 12 are Visually impaired ?</th>\n",
       "      <th>How many FEMALE students in Grade 12 are Visually impaired?</th>\n",
       "      <th>How many MALE students in  Grade 10 have hearing impairment?</th>\n",
       "      <th>How many FEMALE students in Grade 10 have hearing impairment?</th>\n",
       "      <th>How many MALE students in  Grade 11 have hearing impairment?</th>\n",
       "      <th>How many FEMALE students in Grade 11 have hearing impairment?</th>\n",
       "      <th>How many MALE students in  Grade 12 have hearing impairment?</th>\n",
       "      <th>How many FEMALE students in Grade 12 have hearing impairment?</th>\n",
       "      <th>How many MALE students in  Grade 10 have other physical disabilities?</th>\n",
       "      <th>How many FEMALE students in  Grade 10 have other physical disabilities?</th>\n",
       "      <th>How many MALE students in  Grade 11 have other physical disabilities?</th>\n",
       "      <th>How many FEMALE students in  Grade 11 have other physical disabilities?</th>\n",
       "      <th>How many MALE students in  Grade 12 have other physical disabilities?</th>\n",
       "      <th>How many FEMALE students in  Grade 12 have other physical disabilities?</th>\n",
       "      <th>How many MALE students in  Grade 10 have other mental disability or learning difficulty?</th>\n",
       "      <th>How many MALE students in  Grade 11 have other mental disability or learning difficulty?</th>\n",
       "      <th>How many MALE students in  Grade 12 have other mental disability or learning difficulty?</th>\n",
       "      <th>How many FEMALE students in  Grade 10 have other mental disability or learning difficulty?</th>\n",
       "      <th>How many FEMALE students in  Grade 11 have other mental disability or learning difficulty?</th>\n",
       "      <th>How many FEMALE students in  Grade 12 have other mental disability or learning difficulty?</th>\n",
       "    </tr>\n",
       "    <tr>\n",
       "      <th>Type of school</th>\n",
       "      <th></th>\n",
       "      <th></th>\n",
       "      <th></th>\n",
       "      <th></th>\n",
       "      <th></th>\n",
       "      <th></th>\n",
       "      <th></th>\n",
       "      <th></th>\n",
       "      <th></th>\n",
       "      <th></th>\n",
       "      <th></th>\n",
       "      <th></th>\n",
       "      <th></th>\n",
       "      <th></th>\n",
       "      <th></th>\n",
       "      <th></th>\n",
       "      <th></th>\n",
       "      <th></th>\n",
       "      <th></th>\n",
       "      <th></th>\n",
       "      <th></th>\n",
       "      <th></th>\n",
       "      <th></th>\n",
       "      <th></th>\n",
       "    </tr>\n",
       "  </thead>\n",
       "  <tbody>\n",
       "    <tr>\n",
       "      <th>Community</th>\n",
       "      <td>0.0</td>\n",
       "      <td>0.0</td>\n",
       "      <td>0.0</td>\n",
       "      <td>8.0</td>\n",
       "      <td>0.0</td>\n",
       "      <td>0.0</td>\n",
       "      <td>0.0</td>\n",
       "      <td>0.0</td>\n",
       "      <td>0.0</td>\n",
       "      <td>0.0</td>\n",
       "      <td>0.0</td>\n",
       "      <td>0.0</td>\n",
       "      <td>0.0</td>\n",
       "      <td>1.0</td>\n",
       "      <td>0.0</td>\n",
       "      <td>0.0</td>\n",
       "      <td>0.0</td>\n",
       "      <td>1.0</td>\n",
       "      <td>5.0</td>\n",
       "      <td>0.0</td>\n",
       "      <td>0.0</td>\n",
       "      <td>0.0</td>\n",
       "      <td>0.0</td>\n",
       "      <td>0.0</td>\n",
       "    </tr>\n",
       "    <tr>\n",
       "      <th>Faith-based</th>\n",
       "      <td>9.0</td>\n",
       "      <td>13.0</td>\n",
       "      <td>5.0</td>\n",
       "      <td>2.0</td>\n",
       "      <td>4.0</td>\n",
       "      <td>4.0</td>\n",
       "      <td>11.0</td>\n",
       "      <td>10.0</td>\n",
       "      <td>13.0</td>\n",
       "      <td>2.0</td>\n",
       "      <td>5.0</td>\n",
       "      <td>2.0</td>\n",
       "      <td>2.0</td>\n",
       "      <td>4.0</td>\n",
       "      <td>5.0</td>\n",
       "      <td>4.0</td>\n",
       "      <td>11.0</td>\n",
       "      <td>2.0</td>\n",
       "      <td>0.0</td>\n",
       "      <td>3.0</td>\n",
       "      <td>0.0</td>\n",
       "      <td>3.0</td>\n",
       "      <td>6.0</td>\n",
       "      <td>9.0</td>\n",
       "    </tr>\n",
       "    <tr>\n",
       "      <th>Private</th>\n",
       "      <td>1.0</td>\n",
       "      <td>1.0</td>\n",
       "      <td>1.0</td>\n",
       "      <td>2.0</td>\n",
       "      <td>0.0</td>\n",
       "      <td>1.0</td>\n",
       "      <td>0.0</td>\n",
       "      <td>8.0</td>\n",
       "      <td>0.0</td>\n",
       "      <td>0.0</td>\n",
       "      <td>1.0</td>\n",
       "      <td>0.0</td>\n",
       "      <td>8.0</td>\n",
       "      <td>23.0</td>\n",
       "      <td>0.0</td>\n",
       "      <td>0.0</td>\n",
       "      <td>2.0</td>\n",
       "      <td>2.0</td>\n",
       "      <td>0.0</td>\n",
       "      <td>0.0</td>\n",
       "      <td>10.0</td>\n",
       "      <td>2.0</td>\n",
       "      <td>8.0</td>\n",
       "      <td>1.0</td>\n",
       "    </tr>\n",
       "    <tr>\n",
       "      <th>Public</th>\n",
       "      <td>1.0</td>\n",
       "      <td>1.0</td>\n",
       "      <td>9.0</td>\n",
       "      <td>1.0</td>\n",
       "      <td>1.0</td>\n",
       "      <td>2.0</td>\n",
       "      <td>0.0</td>\n",
       "      <td>0.0</td>\n",
       "      <td>0.0</td>\n",
       "      <td>0.0</td>\n",
       "      <td>0.0</td>\n",
       "      <td>1.0</td>\n",
       "      <td>4.0</td>\n",
       "      <td>0.0</td>\n",
       "      <td>2.0</td>\n",
       "      <td>3.0</td>\n",
       "      <td>1.0</td>\n",
       "      <td>4.0</td>\n",
       "      <td>1.0</td>\n",
       "      <td>0.0</td>\n",
       "      <td>0.0</td>\n",
       "      <td>0.0</td>\n",
       "      <td>8.0</td>\n",
       "      <td>0.0</td>\n",
       "    </tr>\n",
       "  </tbody>\n",
       "</table>\n",
       "</div>"
      ],
      "text/plain": [
       "                How many MALE students in Grade 10 are Visually impaired ?  \\\n",
       "Type of school                                                               \n",
       "Community                                                     0.0            \n",
       "Faith-based                                                   9.0            \n",
       "Private                                                       1.0            \n",
       "Public                                                        1.0            \n",
       "\n",
       "                How many FEMALE students in Grade 10 are Visually impaired?  \\\n",
       "Type of school                                                                \n",
       "Community                                                     0.0             \n",
       "Faith-based                                                  13.0             \n",
       "Private                                                       1.0             \n",
       "Public                                                        1.0             \n",
       "\n",
       "                How many MALE students in Grade 11 are Visually impaired ?  \\\n",
       "Type of school                                                               \n",
       "Community                                                     0.0            \n",
       "Faith-based                                                   5.0            \n",
       "Private                                                       1.0            \n",
       "Public                                                        9.0            \n",
       "\n",
       "                How many FEMALE students in Grade 11 are Visually impaired?  \\\n",
       "Type of school                                                                \n",
       "Community                                                     8.0             \n",
       "Faith-based                                                   2.0             \n",
       "Private                                                       2.0             \n",
       "Public                                                        1.0             \n",
       "\n",
       "                How many MALE students in Grade 12 are Visually impaired ?  \\\n",
       "Type of school                                                               \n",
       "Community                                                     0.0            \n",
       "Faith-based                                                   4.0            \n",
       "Private                                                       0.0            \n",
       "Public                                                        1.0            \n",
       "\n",
       "                How many FEMALE students in Grade 12 are Visually impaired?  \\\n",
       "Type of school                                                                \n",
       "Community                                                     0.0             \n",
       "Faith-based                                                   4.0             \n",
       "Private                                                       1.0             \n",
       "Public                                                        2.0             \n",
       "\n",
       "                How many MALE students in  Grade 10 have hearing impairment?  \\\n",
       "Type of school                                                                 \n",
       "Community                                                     0.0              \n",
       "Faith-based                                                  11.0              \n",
       "Private                                                       0.0              \n",
       "Public                                                        0.0              \n",
       "\n",
       "                How many FEMALE students in Grade 10 have hearing impairment?  \\\n",
       "Type of school                                                                  \n",
       "Community                                                     0.0               \n",
       "Faith-based                                                  10.0               \n",
       "Private                                                       8.0               \n",
       "Public                                                        0.0               \n",
       "\n",
       "                How many MALE students in  Grade 11 have hearing impairment?  \\\n",
       "Type of school                                                                 \n",
       "Community                                                     0.0              \n",
       "Faith-based                                                  13.0              \n",
       "Private                                                       0.0              \n",
       "Public                                                        0.0              \n",
       "\n",
       "                How many FEMALE students in Grade 11 have hearing impairment?  \\\n",
       "Type of school                                                                  \n",
       "Community                                                     0.0               \n",
       "Faith-based                                                   2.0               \n",
       "Private                                                       0.0               \n",
       "Public                                                        0.0               \n",
       "\n",
       "                How many MALE students in  Grade 12 have hearing impairment?  \\\n",
       "Type of school                                                                 \n",
       "Community                                                     0.0              \n",
       "Faith-based                                                   5.0              \n",
       "Private                                                       1.0              \n",
       "Public                                                        0.0              \n",
       "\n",
       "                How many FEMALE students in Grade 12 have hearing impairment?  \\\n",
       "Type of school                                                                  \n",
       "Community                                                     0.0               \n",
       "Faith-based                                                   2.0               \n",
       "Private                                                       0.0               \n",
       "Public                                                        1.0               \n",
       "\n",
       "                How many MALE students in  Grade 10 have other physical disabilities?  \\\n",
       "Type of school                                                                          \n",
       "Community                                                     0.0                       \n",
       "Faith-based                                                   2.0                       \n",
       "Private                                                       8.0                       \n",
       "Public                                                        4.0                       \n",
       "\n",
       "                How many FEMALE students in  Grade 10 have other physical disabilities?  \\\n",
       "Type of school                                                                            \n",
       "Community                                                     1.0                         \n",
       "Faith-based                                                   4.0                         \n",
       "Private                                                      23.0                         \n",
       "Public                                                        0.0                         \n",
       "\n",
       "                How many MALE students in  Grade 11 have other physical disabilities?  \\\n",
       "Type of school                                                                          \n",
       "Community                                                     0.0                       \n",
       "Faith-based                                                   5.0                       \n",
       "Private                                                       0.0                       \n",
       "Public                                                        2.0                       \n",
       "\n",
       "                How many FEMALE students in  Grade 11 have other physical disabilities?  \\\n",
       "Type of school                                                                            \n",
       "Community                                                     0.0                         \n",
       "Faith-based                                                   4.0                         \n",
       "Private                                                       0.0                         \n",
       "Public                                                        3.0                         \n",
       "\n",
       "                How many MALE students in  Grade 12 have other physical disabilities?  \\\n",
       "Type of school                                                                          \n",
       "Community                                                     0.0                       \n",
       "Faith-based                                                  11.0                       \n",
       "Private                                                       2.0                       \n",
       "Public                                                        1.0                       \n",
       "\n",
       "                How many FEMALE students in  Grade 12 have other physical disabilities?  \\\n",
       "Type of school                                                                            \n",
       "Community                                                     1.0                         \n",
       "Faith-based                                                   2.0                         \n",
       "Private                                                       2.0                         \n",
       "Public                                                        4.0                         \n",
       "\n",
       "                How many MALE students in  Grade 10 have other mental disability or learning difficulty?  \\\n",
       "Type of school                                                                                             \n",
       "Community                                                     5.0                                          \n",
       "Faith-based                                                   0.0                                          \n",
       "Private                                                       0.0                                          \n",
       "Public                                                        1.0                                          \n",
       "\n",
       "                How many MALE students in  Grade 11 have other mental disability or learning difficulty?  \\\n",
       "Type of school                                                                                             \n",
       "Community                                                     0.0                                          \n",
       "Faith-based                                                   3.0                                          \n",
       "Private                                                       0.0                                          \n",
       "Public                                                        0.0                                          \n",
       "\n",
       "                How many MALE students in  Grade 12 have other mental disability or learning difficulty?  \\\n",
       "Type of school                                                                                             \n",
       "Community                                                     0.0                                          \n",
       "Faith-based                                                   0.0                                          \n",
       "Private                                                      10.0                                          \n",
       "Public                                                        0.0                                          \n",
       "\n",
       "                How many FEMALE students in  Grade 10 have other mental disability or learning difficulty?  \\\n",
       "Type of school                                                                                               \n",
       "Community                                                     0.0                                            \n",
       "Faith-based                                                   3.0                                            \n",
       "Private                                                       2.0                                            \n",
       "Public                                                        0.0                                            \n",
       "\n",
       "                How many FEMALE students in  Grade 11 have other mental disability or learning difficulty?  \\\n",
       "Type of school                                                                                               \n",
       "Community                                                     0.0                                            \n",
       "Faith-based                                                   6.0                                            \n",
       "Private                                                       8.0                                            \n",
       "Public                                                        8.0                                            \n",
       "\n",
       "                How many FEMALE students in  Grade 12 have other mental disability or learning difficulty?  \n",
       "Type of school                                                                                              \n",
       "Community                                                     0.0                                           \n",
       "Faith-based                                                   9.0                                           \n",
       "Private                                                       1.0                                           \n",
       "Public                                                        0.0                                           "
      ]
     },
     "execution_count": 1211,
     "metadata": {},
     "output_type": "execute_result"
    }
   ],
   "source": [
    "kece_dis1\n"
   ]
  },
  {
   "cell_type": "code",
   "execution_count": 1212,
   "id": "e723539e-6097-4311-93fb-6e85b314ccc9",
   "metadata": {},
   "outputs": [
    {
     "data": {
      "text/plain": [
       "How many MALE students in Grade 10 are Visually impaired ?                                    11.0\n",
       "How many FEMALE students in Grade 10 are Visually impaired?                                   15.0\n",
       "How many MALE students in Grade 11 are Visually impaired ?                                    15.0\n",
       "How many FEMALE students in Grade 11 are Visually impaired?                                   13.0\n",
       "How many MALE students in Grade 12 are Visually impaired ?                                     5.0\n",
       "How many FEMALE students in Grade 12 are Visually impaired?                                    7.0\n",
       "How many MALE students in  Grade 10 have hearing impairment?                                  11.0\n",
       "How many FEMALE students in Grade 10 have hearing impairment?                                 18.0\n",
       "How many MALE students in  Grade 11 have hearing impairment?                                  13.0\n",
       "How many FEMALE students in Grade 11 have hearing impairment?                                  2.0\n",
       "How many MALE students in  Grade 12 have hearing impairment?                                   6.0\n",
       "How many FEMALE students in Grade 12 have hearing impairment?                                  3.0\n",
       "How many MALE students in  Grade 10 have other physical disabilities?                         14.0\n",
       "How many FEMALE students in  Grade 10 have other physical disabilities?                       28.0\n",
       "How many MALE students in  Grade 11 have other physical disabilities?                          7.0\n",
       "How many FEMALE students in  Grade 11 have other physical disabilities?                        7.0\n",
       "How many MALE students in  Grade 12 have other physical disabilities?                         14.0\n",
       "How many FEMALE students in  Grade 12 have other physical disabilities?                        9.0\n",
       "How many MALE students in  Grade 10 have other mental disability or learning difficulty?       6.0\n",
       "How many MALE students in  Grade 11 have other mental disability or learning difficulty?       3.0\n",
       "How many MALE students in  Grade 12 have other mental disability or learning difficulty?      10.0\n",
       "How many FEMALE students in  Grade 10 have other mental disability or learning difficulty?     5.0\n",
       "How many FEMALE students in  Grade 11 have other mental disability or learning difficulty?    22.0\n",
       "How many FEMALE students in  Grade 12 have other mental disability or learning difficulty?    10.0\n",
       "dtype: float64"
      ]
     },
     "execution_count": 1212,
     "metadata": {},
     "output_type": "execute_result"
    }
   ],
   "source": [
    "kdist=kece_dis1.sum()\n",
    "kdist"
   ]
  },
  {
   "cell_type": "code",
   "execution_count": 1214,
   "id": "65d41336-6eb1-4be3-b0fd-905b6952188a",
   "metadata": {},
   "outputs": [
    {
     "data": {
      "text/plain": [
       "31.0"
      ]
     },
     "execution_count": 1214,
     "metadata": {},
     "output_type": "execute_result"
    }
   ],
   "source": [
    "kdisvm=kdist[0:5:2].sum()\n",
    "kdisvm"
   ]
  },
  {
   "cell_type": "code",
   "execution_count": 1216,
   "id": "07e8adfd-eb80-4fe9-b044-76f00533b1c8",
   "metadata": {},
   "outputs": [
    {
     "data": {
      "text/plain": [
       "35.0"
      ]
     },
     "execution_count": 1216,
     "metadata": {},
     "output_type": "execute_result"
    }
   ],
   "source": [
    "kdisvf=kdist[1:6:2].sum()\n",
    "kdisvf"
   ]
  },
  {
   "cell_type": "code",
   "execution_count": null,
   "id": "c0057870-1ddf-4783-8d31-c586774d4789",
   "metadata": {},
   "outputs": [],
   "source": []
  },
  {
   "cell_type": "code",
   "execution_count": 1218,
   "id": "8e5aadd7-84ed-454d-bcae-1ee69535c189",
   "metadata": {},
   "outputs": [
    {
     "data": {
      "text/plain": [
       "30.0"
      ]
     },
     "execution_count": 1218,
     "metadata": {},
     "output_type": "execute_result"
    }
   ],
   "source": [
    "kdishm=kdist[6:12:2].sum()\n",
    "kdishm"
   ]
  },
  {
   "cell_type": "code",
   "execution_count": 1220,
   "id": "b308ac2b-4025-4766-b082-0077f710cea1",
   "metadata": {},
   "outputs": [
    {
     "data": {
      "text/plain": [
       "23.0"
      ]
     },
     "execution_count": 1220,
     "metadata": {},
     "output_type": "execute_result"
    }
   ],
   "source": [
    "kdishf=kdist[7:13:2].sum()\n",
    "kdishf"
   ]
  },
  {
   "cell_type": "code",
   "execution_count": 1222,
   "id": "533b860c-aa29-45b7-a315-c85cab462e20",
   "metadata": {},
   "outputs": [
    {
     "data": {
      "text/plain": [
       "35.0"
      ]
     },
     "execution_count": 1222,
     "metadata": {},
     "output_type": "execute_result"
    }
   ],
   "source": [
    "kdispm=kdist[12:18:2].sum()\n",
    "kdispm"
   ]
  },
  {
   "cell_type": "code",
   "execution_count": 1224,
   "id": "4ee3944f-caa0-4e68-9fde-dae54d5b6eef",
   "metadata": {},
   "outputs": [
    {
     "data": {
      "text/plain": [
       "44.0"
      ]
     },
     "execution_count": 1224,
     "metadata": {},
     "output_type": "execute_result"
    }
   ],
   "source": [
    "kdispf=kdist[13:19:2].sum()\n",
    "kdispf"
   ]
  },
  {
   "cell_type": "code",
   "execution_count": 1227,
   "id": "73d0473c-3a3e-4c94-b87a-569b0d45bb19",
   "metadata": {},
   "outputs": [
    {
     "data": {
      "text/plain": [
       "19.0"
      ]
     },
     "execution_count": 1227,
     "metadata": {},
     "output_type": "execute_result"
    }
   ],
   "source": [
    "kdislm=kdist[18:21].sum()\n",
    "kdislm"
   ]
  },
  {
   "cell_type": "code",
   "execution_count": 1228,
   "id": "4913d309-197a-49a5-a3a9-95fa801905bd",
   "metadata": {},
   "outputs": [
    {
     "data": {
      "text/plain": [
       "37.0"
      ]
     },
     "execution_count": 1228,
     "metadata": {},
     "output_type": "execute_result"
    }
   ],
   "source": [
    "kdislf=kdist[21:].sum()\n",
    "kdislf"
   ]
  },
  {
   "cell_type": "markdown",
   "id": "9677d139-34ad-4b3e-a064-f76fcde40a23",
   "metadata": {},
   "source": [
    "# Table 11: SHS Disability by Grade"
   ]
  },
  {
   "cell_type": "code",
   "execution_count": 1233,
   "id": "4e379518-8ff1-4c01-a5ac-aab04bebf694",
   "metadata": {},
   "outputs": [
    {
     "data": {
      "text/plain": [
       "How many MALE students in Grade 10 are Visually impaired ?                                    11.0\n",
       "How many FEMALE students in Grade 10 are Visually impaired?                                   15.0\n",
       "How many MALE students in Grade 11 are Visually impaired ?                                    15.0\n",
       "How many FEMALE students in Grade 11 are Visually impaired?                                   13.0\n",
       "How many MALE students in Grade 12 are Visually impaired ?                                     5.0\n",
       "How many FEMALE students in Grade 12 are Visually impaired?                                    7.0\n",
       "How many MALE students in  Grade 10 have hearing impairment?                                  11.0\n",
       "How many FEMALE students in Grade 10 have hearing impairment?                                 18.0\n",
       "How many MALE students in  Grade 11 have hearing impairment?                                  13.0\n",
       "How many FEMALE students in Grade 11 have hearing impairment?                                  2.0\n",
       "How many MALE students in  Grade 12 have hearing impairment?                                   6.0\n",
       "How many FEMALE students in Grade 12 have hearing impairment?                                  3.0\n",
       "How many MALE students in  Grade 10 have other physical disabilities?                         14.0\n",
       "How many FEMALE students in  Grade 10 have other physical disabilities?                       28.0\n",
       "How many MALE students in  Grade 11 have other physical disabilities?                          7.0\n",
       "How many FEMALE students in  Grade 11 have other physical disabilities?                        7.0\n",
       "How many MALE students in  Grade 12 have other physical disabilities?                         14.0\n",
       "How many FEMALE students in  Grade 12 have other physical disabilities?                        9.0\n",
       "How many MALE students in  Grade 10 have other mental disability or learning difficulty?       6.0\n",
       "How many MALE students in  Grade 11 have other mental disability or learning difficulty?       3.0\n",
       "How many MALE students in  Grade 12 have other mental disability or learning difficulty?      10.0\n",
       "How many FEMALE students in  Grade 10 have other mental disability or learning difficulty?     5.0\n",
       "How many FEMALE students in  Grade 11 have other mental disability or learning difficulty?    22.0\n",
       "How many FEMALE students in  Grade 12 have other mental disability or learning difficulty?    10.0\n",
       "dtype: float64"
      ]
     },
     "execution_count": 1233,
     "metadata": {},
     "output_type": "execute_result"
    }
   ],
   "source": [
    "dd = kdist \n",
    "\n",
    "dd_s = dd\n",
    "dd_s"
   ]
  },
  {
   "cell_type": "code",
   "execution_count": 1600,
   "id": "71229a90-8ca5-4f8e-bab6-381dfad95ea8",
   "metadata": {},
   "outputs": [
    {
     "data": {
      "text/plain": [
       "55.0"
      ]
     },
     "execution_count": 1600,
     "metadata": {},
     "output_type": "execute_result"
    }
   ],
   "source": [
    "dd_s[:2].sum()"
   ]
  },
  {
   "cell_type": "code",
   "execution_count": 1602,
   "id": "f77654d4-f31c-4486-9764-a27afdfd56b4",
   "metadata": {},
   "outputs": [
    {
     "data": {
      "text/plain": [
       "27.0"
      ]
     },
     "execution_count": 1602,
     "metadata": {},
     "output_type": "execute_result"
    }
   ],
   "source": [
    "dd_s[2:4].sum()"
   ]
  },
  {
   "cell_type": "code",
   "execution_count": 1604,
   "id": "ad9031ac-fcab-4b54-a4b9-45802b75e54f",
   "metadata": {},
   "outputs": [
    {
     "data": {
      "text/plain": [
       "53.0"
      ]
     },
     "execution_count": 1604,
     "metadata": {},
     "output_type": "execute_result"
    }
   ],
   "source": [
    "dd_s[4:6].sum()"
   ]
  },
  {
   "cell_type": "code",
   "execution_count": 1606,
   "id": "35a4bfc8-d13f-4bc8-8b9e-34a5b87e1f33",
   "metadata": {},
   "outputs": [
    {
     "data": {
      "text/plain": [
       "33.0"
      ]
     },
     "execution_count": 1606,
     "metadata": {},
     "output_type": "execute_result"
    }
   ],
   "source": [
    "dd_s[6:8].sum()"
   ]
  },
  {
   "cell_type": "code",
   "execution_count": 1608,
   "id": "f4fc42ba-c067-4666-966f-391d79a89c75",
   "metadata": {},
   "outputs": [
    {
     "data": {
      "text/plain": [
       "56.0"
      ]
     },
     "execution_count": 1608,
     "metadata": {},
     "output_type": "execute_result"
    }
   ],
   "source": [
    "dd_s[8:10].sum()"
   ]
  },
  {
   "cell_type": "code",
   "execution_count": 1610,
   "id": "e784b4a3-42fb-4647-beaa-634b005c63a2",
   "metadata": {},
   "outputs": [
    {
     "data": {
      "text/plain": [
       "139.0"
      ]
     },
     "execution_count": 1610,
     "metadata": {},
     "output_type": "execute_result"
    }
   ],
   "source": [
    "dd_s[10:12].sum()"
   ]
  },
  {
   "cell_type": "code",
   "execution_count": 1612,
   "id": "73a3cc31-3898-4c1a-bfeb-e9155884830f",
   "metadata": {},
   "outputs": [
    {
     "data": {
      "text/plain": [
       "61.0"
      ]
     },
     "execution_count": 1612,
     "metadata": {},
     "output_type": "execute_result"
    }
   ],
   "source": [
    "dd_s[12:14].sum()"
   ]
  },
  {
   "cell_type": "code",
   "execution_count": 1614,
   "id": "e82147a3-6ef0-4ad7-ab0b-888a6e33514b",
   "metadata": {},
   "outputs": [
    {
     "data": {
      "text/plain": [
       "70.0"
      ]
     },
     "execution_count": 1614,
     "metadata": {},
     "output_type": "execute_result"
    }
   ],
   "source": [
    "dd_s[14:16].sum()"
   ]
  },
  {
   "cell_type": "code",
   "execution_count": 1616,
   "id": "b4f53ecd-39ff-41c1-ba01-3758b054a0c8",
   "metadata": {},
   "outputs": [
    {
     "data": {
      "text/plain": [
       "12.0"
      ]
     },
     "execution_count": 1616,
     "metadata": {},
     "output_type": "execute_result"
    }
   ],
   "source": [
    "dd_s[16:18].sum()"
   ]
  },
  {
   "cell_type": "code",
   "execution_count": 1618,
   "id": "4e514dd5-fde3-4fb6-97af-c6e688688b57",
   "metadata": {},
   "outputs": [
    {
     "data": {
      "text/plain": [
       "41.0"
      ]
     },
     "execution_count": 1618,
     "metadata": {},
     "output_type": "execute_result"
    }
   ],
   "source": [
    "dd_s[18:20].sum()"
   ]
  },
  {
   "cell_type": "code",
   "execution_count": 1620,
   "id": "e3e888c7-74ef-4c9f-b43a-f0f9a08d7b98",
   "metadata": {},
   "outputs": [
    {
     "data": {
      "text/plain": [
       "76.0"
      ]
     },
     "execution_count": 1620,
     "metadata": {},
     "output_type": "execute_result"
    }
   ],
   "source": [
    "dd_s[20:22].sum()"
   ]
  },
  {
   "cell_type": "code",
   "execution_count": 1622,
   "id": "0f1cc1a8-6acd-44e0-ae45-a087c120c395",
   "metadata": {},
   "outputs": [
    {
     "data": {
      "text/plain": [
       "16.0"
      ]
     },
     "execution_count": 1622,
     "metadata": {},
     "output_type": "execute_result"
    }
   ],
   "source": [
    "dd_s[22:].sum()"
   ]
  },
  {
   "cell_type": "code",
   "execution_count": null,
   "id": "344aa611-bdd1-4387-a407-a3281cb813f6",
   "metadata": {},
   "outputs": [],
   "source": []
  },
  {
   "cell_type": "code",
   "execution_count": null,
   "id": "0cbcde86-36cb-4e80-98d4-52d3ff1913aa",
   "metadata": {},
   "outputs": [],
   "source": []
  },
  {
   "cell_type": "markdown",
   "id": "bd5e0e3f-136f-429d-b903-a6b686f8de57",
   "metadata": {},
   "source": [
    "# Table 12: JHS by Enrollment by Disability and County"
   ]
  },
  {
   "cell_type": "code",
   "execution_count": 1623,
   "id": "2a937b91-4438-4259-bf51-054b8de82ddc",
   "metadata": {},
   "outputs": [
    {
     "data": {
      "text/html": [
       "<div>\n",
       "<style scoped>\n",
       "    .dataframe tbody tr th:only-of-type {\n",
       "        vertical-align: middle;\n",
       "    }\n",
       "\n",
       "    .dataframe tbody tr th {\n",
       "        vertical-align: top;\n",
       "    }\n",
       "\n",
       "    .dataframe thead th {\n",
       "        text-align: right;\n",
       "    }\n",
       "</style>\n",
       "<table border=\"1\" class=\"dataframe\">\n",
       "  <thead>\n",
       "    <tr style=\"text-align: right;\">\n",
       "      <th></th>\n",
       "      <th>How many MALE students in Grade 7 are Visually impaired ?</th>\n",
       "      <th>How many FEMALE students in Grade 7 are Visually impaired?</th>\n",
       "      <th>How many MALE students in Grade 8 are Visually impaired ?</th>\n",
       "      <th>How many FEMALE students in Grade 8 are Visually impaired?</th>\n",
       "      <th>How many MALE students in Grade 9 are Visually impaired ?</th>\n",
       "      <th>How many FEMALE students in Grade 9 are Visually impaired?</th>\n",
       "      <th>How many MALE students in  Grade 7 have hearing impairment?</th>\n",
       "      <th>How many FEMALE students in Grade 7 have hearing impairment?</th>\n",
       "      <th>How many MALE students in  Grade 8 have hearing impairment?</th>\n",
       "      <th>How many FEMALE students in Grade 8 have hearing impairment?</th>\n",
       "      <th>How many MALE students in  Grade 9 have hearing impairment?</th>\n",
       "      <th>How many FEMALE students in Grade 9 have hearing impairment?</th>\n",
       "      <th>How many MALE students in  Grade 7 have other physical disabilities?</th>\n",
       "      <th>How many FEMALE students in  Grade 7 have other physical disabilities?</th>\n",
       "      <th>How many MALE students in  Grade 8 have other physical disabilities?</th>\n",
       "      <th>How many FEMALE students in  Grade 8 have other physical disabilities?</th>\n",
       "      <th>How many MALE students in  Grade 9 have other physical disabilities?</th>\n",
       "      <th>How many FEMALE students in  Grade 9 have other physical disabilities?</th>\n",
       "      <th>How many MALE students in  Grade 7 have other mental disability or learning difficulty?</th>\n",
       "      <th>How many FEMALE students in  Grade 7 have other mental disability or learning difficulty?</th>\n",
       "      <th>How many MALE students in  Grade 8 have other mental disability or learning difficulty?</th>\n",
       "      <th>How many FEMALE students in  Grade 8 have other mental disability or learning difficulty?</th>\n",
       "      <th>How many FEMALE students in  Grade 9 have other mental disability or learning difficulty?</th>\n",
       "      <th>How many MALE students in  Grade 9 have other mental disability or learning difficulty?</th>\n",
       "    </tr>\n",
       "  </thead>\n",
       "  <tbody>\n",
       "    <tr>\n",
       "      <th>0</th>\n",
       "      <td>NaN</td>\n",
       "      <td>NaN</td>\n",
       "      <td>NaN</td>\n",
       "      <td>NaN</td>\n",
       "      <td>NaN</td>\n",
       "      <td>NaN</td>\n",
       "      <td>NaN</td>\n",
       "      <td>NaN</td>\n",
       "      <td>NaN</td>\n",
       "      <td>NaN</td>\n",
       "      <td>NaN</td>\n",
       "      <td>NaN</td>\n",
       "      <td>NaN</td>\n",
       "      <td>NaN</td>\n",
       "      <td>NaN</td>\n",
       "      <td>NaN</td>\n",
       "      <td>NaN</td>\n",
       "      <td>NaN</td>\n",
       "      <td>NaN</td>\n",
       "      <td>NaN</td>\n",
       "      <td>NaN</td>\n",
       "      <td>NaN</td>\n",
       "      <td>NaN</td>\n",
       "      <td>NaN</td>\n",
       "    </tr>\n",
       "    <tr>\n",
       "      <th>1</th>\n",
       "      <td>NaN</td>\n",
       "      <td>NaN</td>\n",
       "      <td>NaN</td>\n",
       "      <td>NaN</td>\n",
       "      <td>NaN</td>\n",
       "      <td>NaN</td>\n",
       "      <td>NaN</td>\n",
       "      <td>NaN</td>\n",
       "      <td>NaN</td>\n",
       "      <td>NaN</td>\n",
       "      <td>NaN</td>\n",
       "      <td>NaN</td>\n",
       "      <td>NaN</td>\n",
       "      <td>NaN</td>\n",
       "      <td>NaN</td>\n",
       "      <td>NaN</td>\n",
       "      <td>NaN</td>\n",
       "      <td>NaN</td>\n",
       "      <td>NaN</td>\n",
       "      <td>NaN</td>\n",
       "      <td>NaN</td>\n",
       "      <td>NaN</td>\n",
       "      <td>NaN</td>\n",
       "      <td>NaN</td>\n",
       "    </tr>\n",
       "    <tr>\n",
       "      <th>2</th>\n",
       "      <td>NaN</td>\n",
       "      <td>NaN</td>\n",
       "      <td>NaN</td>\n",
       "      <td>NaN</td>\n",
       "      <td>NaN</td>\n",
       "      <td>NaN</td>\n",
       "      <td>NaN</td>\n",
       "      <td>NaN</td>\n",
       "      <td>NaN</td>\n",
       "      <td>NaN</td>\n",
       "      <td>NaN</td>\n",
       "      <td>NaN</td>\n",
       "      <td>NaN</td>\n",
       "      <td>NaN</td>\n",
       "      <td>NaN</td>\n",
       "      <td>NaN</td>\n",
       "      <td>NaN</td>\n",
       "      <td>NaN</td>\n",
       "      <td>NaN</td>\n",
       "      <td>NaN</td>\n",
       "      <td>NaN</td>\n",
       "      <td>NaN</td>\n",
       "      <td>NaN</td>\n",
       "      <td>NaN</td>\n",
       "    </tr>\n",
       "    <tr>\n",
       "      <th>3</th>\n",
       "      <td>NaN</td>\n",
       "      <td>NaN</td>\n",
       "      <td>NaN</td>\n",
       "      <td>NaN</td>\n",
       "      <td>NaN</td>\n",
       "      <td>NaN</td>\n",
       "      <td>NaN</td>\n",
       "      <td>NaN</td>\n",
       "      <td>NaN</td>\n",
       "      <td>NaN</td>\n",
       "      <td>NaN</td>\n",
       "      <td>NaN</td>\n",
       "      <td>NaN</td>\n",
       "      <td>NaN</td>\n",
       "      <td>NaN</td>\n",
       "      <td>NaN</td>\n",
       "      <td>NaN</td>\n",
       "      <td>NaN</td>\n",
       "      <td>NaN</td>\n",
       "      <td>NaN</td>\n",
       "      <td>NaN</td>\n",
       "      <td>NaN</td>\n",
       "      <td>NaN</td>\n",
       "      <td>NaN</td>\n",
       "    </tr>\n",
       "    <tr>\n",
       "      <th>4</th>\n",
       "      <td>NaN</td>\n",
       "      <td>NaN</td>\n",
       "      <td>NaN</td>\n",
       "      <td>NaN</td>\n",
       "      <td>NaN</td>\n",
       "      <td>NaN</td>\n",
       "      <td>NaN</td>\n",
       "      <td>NaN</td>\n",
       "      <td>NaN</td>\n",
       "      <td>NaN</td>\n",
       "      <td>NaN</td>\n",
       "      <td>NaN</td>\n",
       "      <td>NaN</td>\n",
       "      <td>NaN</td>\n",
       "      <td>NaN</td>\n",
       "      <td>NaN</td>\n",
       "      <td>NaN</td>\n",
       "      <td>NaN</td>\n",
       "      <td>NaN</td>\n",
       "      <td>NaN</td>\n",
       "      <td>NaN</td>\n",
       "      <td>NaN</td>\n",
       "      <td>NaN</td>\n",
       "      <td>NaN</td>\n",
       "    </tr>\n",
       "  </tbody>\n",
       "</table>\n",
       "</div>"
      ],
      "text/plain": [
       "   How many MALE students in Grade 7 are Visually impaired ?  \\\n",
       "0                                                NaN           \n",
       "1                                                NaN           \n",
       "2                                                NaN           \n",
       "3                                                NaN           \n",
       "4                                                NaN           \n",
       "\n",
       "   How many FEMALE students in Grade 7 are Visually impaired?  \\\n",
       "0                                                NaN            \n",
       "1                                                NaN            \n",
       "2                                                NaN            \n",
       "3                                                NaN            \n",
       "4                                                NaN            \n",
       "\n",
       "   How many MALE students in Grade 8 are Visually impaired ?  \\\n",
       "0                                                NaN           \n",
       "1                                                NaN           \n",
       "2                                                NaN           \n",
       "3                                                NaN           \n",
       "4                                                NaN           \n",
       "\n",
       "   How many FEMALE students in Grade 8 are Visually impaired?  \\\n",
       "0                                                NaN            \n",
       "1                                                NaN            \n",
       "2                                                NaN            \n",
       "3                                                NaN            \n",
       "4                                                NaN            \n",
       "\n",
       "   How many MALE students in Grade 9 are Visually impaired ?  \\\n",
       "0                                                NaN           \n",
       "1                                                NaN           \n",
       "2                                                NaN           \n",
       "3                                                NaN           \n",
       "4                                                NaN           \n",
       "\n",
       "   How many FEMALE students in Grade 9 are Visually impaired?  \\\n",
       "0                                                NaN            \n",
       "1                                                NaN            \n",
       "2                                                NaN            \n",
       "3                                                NaN            \n",
       "4                                                NaN            \n",
       "\n",
       "   How many MALE students in  Grade 7 have hearing impairment?  \\\n",
       "0                                                NaN             \n",
       "1                                                NaN             \n",
       "2                                                NaN             \n",
       "3                                                NaN             \n",
       "4                                                NaN             \n",
       "\n",
       "   How many FEMALE students in Grade 7 have hearing impairment?  \\\n",
       "0                                                NaN              \n",
       "1                                                NaN              \n",
       "2                                                NaN              \n",
       "3                                                NaN              \n",
       "4                                                NaN              \n",
       "\n",
       "   How many MALE students in  Grade 8 have hearing impairment?  \\\n",
       "0                                                NaN             \n",
       "1                                                NaN             \n",
       "2                                                NaN             \n",
       "3                                                NaN             \n",
       "4                                                NaN             \n",
       "\n",
       "   How many FEMALE students in Grade 8 have hearing impairment?  \\\n",
       "0                                                NaN              \n",
       "1                                                NaN              \n",
       "2                                                NaN              \n",
       "3                                                NaN              \n",
       "4                                                NaN              \n",
       "\n",
       "   How many MALE students in  Grade 9 have hearing impairment?  \\\n",
       "0                                                NaN             \n",
       "1                                                NaN             \n",
       "2                                                NaN             \n",
       "3                                                NaN             \n",
       "4                                                NaN             \n",
       "\n",
       "   How many FEMALE students in Grade 9 have hearing impairment?  \\\n",
       "0                                                NaN              \n",
       "1                                                NaN              \n",
       "2                                                NaN              \n",
       "3                                                NaN              \n",
       "4                                                NaN              \n",
       "\n",
       "   How many MALE students in  Grade 7 have other physical disabilities?  \\\n",
       "0                                                NaN                      \n",
       "1                                                NaN                      \n",
       "2                                                NaN                      \n",
       "3                                                NaN                      \n",
       "4                                                NaN                      \n",
       "\n",
       "   How many FEMALE students in  Grade 7 have other physical disabilities?  \\\n",
       "0                                                NaN                        \n",
       "1                                                NaN                        \n",
       "2                                                NaN                        \n",
       "3                                                NaN                        \n",
       "4                                                NaN                        \n",
       "\n",
       "   How many MALE students in  Grade 8 have other physical disabilities?  \\\n",
       "0                                                NaN                      \n",
       "1                                                NaN                      \n",
       "2                                                NaN                      \n",
       "3                                                NaN                      \n",
       "4                                                NaN                      \n",
       "\n",
       "   How many FEMALE students in  Grade 8 have other physical disabilities?  \\\n",
       "0                                                NaN                        \n",
       "1                                                NaN                        \n",
       "2                                                NaN                        \n",
       "3                                                NaN                        \n",
       "4                                                NaN                        \n",
       "\n",
       "   How many MALE students in  Grade 9 have other physical disabilities?  \\\n",
       "0                                                NaN                      \n",
       "1                                                NaN                      \n",
       "2                                                NaN                      \n",
       "3                                                NaN                      \n",
       "4                                                NaN                      \n",
       "\n",
       "   How many FEMALE students in  Grade 9 have other physical disabilities?  \\\n",
       "0                                                NaN                        \n",
       "1                                                NaN                        \n",
       "2                                                NaN                        \n",
       "3                                                NaN                        \n",
       "4                                                NaN                        \n",
       "\n",
       "   How many MALE students in  Grade 7 have other mental disability or learning difficulty?  \\\n",
       "0                                                NaN                                         \n",
       "1                                                NaN                                         \n",
       "2                                                NaN                                         \n",
       "3                                                NaN                                         \n",
       "4                                                NaN                                         \n",
       "\n",
       "   How many FEMALE students in  Grade 7 have other mental disability or learning difficulty?  \\\n",
       "0                                                NaN                                           \n",
       "1                                                NaN                                           \n",
       "2                                                NaN                                           \n",
       "3                                                NaN                                           \n",
       "4                                                NaN                                           \n",
       "\n",
       "   How many MALE students in  Grade 8 have other mental disability or learning difficulty?  \\\n",
       "0                                                NaN                                         \n",
       "1                                                NaN                                         \n",
       "2                                                NaN                                         \n",
       "3                                                NaN                                         \n",
       "4                                                NaN                                         \n",
       "\n",
       "   How many FEMALE students in  Grade 8 have other mental disability or learning difficulty?  \\\n",
       "0                                                NaN                                           \n",
       "1                                                NaN                                           \n",
       "2                                                NaN                                           \n",
       "3                                                NaN                                           \n",
       "4                                                NaN                                           \n",
       "\n",
       "   How many FEMALE students in  Grade 9 have other mental disability or learning difficulty?  \\\n",
       "0                                                NaN                                           \n",
       "1                                                NaN                                           \n",
       "2                                                NaN                                           \n",
       "3                                                NaN                                           \n",
       "4                                                NaN                                           \n",
       "\n",
       "   How many MALE students in  Grade 9 have other mental disability or learning difficulty?  \n",
       "0                                                NaN                                        \n",
       "1                                                NaN                                        \n",
       "2                                                NaN                                        \n",
       "3                                                NaN                                        \n",
       "4                                                NaN                                        "
      ]
     },
     "execution_count": 1623,
     "metadata": {},
     "output_type": "execute_result"
    }
   ],
   "source": [
    "kece_c = kcensus.iloc[:,[2]]\n",
    "kece_o = kcensus.iloc[:,[39]]\n",
    "kece_d = kcensus.iloc[:,3:19]\n",
    "kece_disa.head()"
   ]
  },
  {
   "cell_type": "code",
   "execution_count": 1624,
   "id": "c78e68cd-be34-4b79-82f3-4f9a4effd1fc",
   "metadata": {},
   "outputs": [
    {
     "data": {
      "text/html": [
       "<div>\n",
       "<style scoped>\n",
       "    .dataframe tbody tr th:only-of-type {\n",
       "        vertical-align: middle;\n",
       "    }\n",
       "\n",
       "    .dataframe tbody tr th {\n",
       "        vertical-align: top;\n",
       "    }\n",
       "\n",
       "    .dataframe thead th {\n",
       "        text-align: right;\n",
       "    }\n",
       "</style>\n",
       "<table border=\"1\" class=\"dataframe\">\n",
       "  <thead>\n",
       "    <tr style=\"text-align: right;\">\n",
       "      <th></th>\n",
       "      <th>County</th>\n",
       "      <th>District in Bong County</th>\n",
       "      <th>District in Gbarpolu</th>\n",
       "      <th>District in River Gee</th>\n",
       "      <th>District in Sinoe</th>\n",
       "      <th>District in Lofa</th>\n",
       "      <th>District in Nimba</th>\n",
       "      <th>District in Grand Cape Mount</th>\n",
       "      <th>District in Maryland</th>\n",
       "      <th>District in Margibi</th>\n",
       "      <th>District in Bomi</th>\n",
       "      <th>District in Grand Bassa</th>\n",
       "      <th>District in Montserrado 2</th>\n",
       "      <th>District in Montserrado 1</th>\n",
       "      <th>Districts in Grand Kru</th>\n",
       "      <th>Districts in Grand Gedeh</th>\n",
       "      <th>Districts in River Cess</th>\n",
       "      <th>How many MALE students in Grade 7 are Visually impaired ?</th>\n",
       "      <th>How many FEMALE students in Grade 7 are Visually impaired?</th>\n",
       "      <th>How many MALE students in Grade 8 are Visually impaired ?</th>\n",
       "      <th>How many FEMALE students in Grade 8 are Visually impaired?</th>\n",
       "      <th>How many MALE students in Grade 9 are Visually impaired ?</th>\n",
       "      <th>How many FEMALE students in Grade 9 are Visually impaired?</th>\n",
       "      <th>How many MALE students in  Grade 7 have hearing impairment?</th>\n",
       "      <th>How many FEMALE students in Grade 7 have hearing impairment?</th>\n",
       "      <th>How many MALE students in  Grade 8 have hearing impairment?</th>\n",
       "      <th>How many FEMALE students in Grade 8 have hearing impairment?</th>\n",
       "      <th>How many MALE students in  Grade 9 have hearing impairment?</th>\n",
       "      <th>How many FEMALE students in Grade 9 have hearing impairment?</th>\n",
       "      <th>How many MALE students in  Grade 7 have other physical disabilities?</th>\n",
       "      <th>How many FEMALE students in  Grade 7 have other physical disabilities?</th>\n",
       "      <th>How many MALE students in  Grade 8 have other physical disabilities?</th>\n",
       "      <th>How many FEMALE students in  Grade 8 have other physical disabilities?</th>\n",
       "      <th>How many MALE students in  Grade 9 have other physical disabilities?</th>\n",
       "      <th>How many FEMALE students in  Grade 9 have other physical disabilities?</th>\n",
       "      <th>How many MALE students in  Grade 7 have other mental disability or learning difficulty?</th>\n",
       "      <th>How many FEMALE students in  Grade 7 have other mental disability or learning difficulty?</th>\n",
       "      <th>How many MALE students in  Grade 8 have other mental disability or learning difficulty?</th>\n",
       "      <th>How many FEMALE students in  Grade 8 have other mental disability or learning difficulty?</th>\n",
       "      <th>How many FEMALE students in  Grade 9 have other mental disability or learning difficulty?</th>\n",
       "      <th>How many MALE students in  Grade 9 have other mental disability or learning difficulty?</th>\n",
       "    </tr>\n",
       "  </thead>\n",
       "  <tbody>\n",
       "    <tr>\n",
       "      <th>0</th>\n",
       "      <td>Rivercess</td>\n",
       "      <td>NaN</td>\n",
       "      <td>NaN</td>\n",
       "      <td>NaN</td>\n",
       "      <td>NaN</td>\n",
       "      <td>NaN</td>\n",
       "      <td>NaN</td>\n",
       "      <td>NaN</td>\n",
       "      <td>NaN</td>\n",
       "      <td>NaN</td>\n",
       "      <td>NaN</td>\n",
       "      <td>NaN</td>\n",
       "      <td>NaN</td>\n",
       "      <td>NaN</td>\n",
       "      <td>NaN</td>\n",
       "      <td>NaN</td>\n",
       "      <td>Timobo</td>\n",
       "      <td>NaN</td>\n",
       "      <td>NaN</td>\n",
       "      <td>NaN</td>\n",
       "      <td>NaN</td>\n",
       "      <td>NaN</td>\n",
       "      <td>NaN</td>\n",
       "      <td>NaN</td>\n",
       "      <td>NaN</td>\n",
       "      <td>NaN</td>\n",
       "      <td>NaN</td>\n",
       "      <td>NaN</td>\n",
       "      <td>NaN</td>\n",
       "      <td>NaN</td>\n",
       "      <td>NaN</td>\n",
       "      <td>NaN</td>\n",
       "      <td>NaN</td>\n",
       "      <td>NaN</td>\n",
       "      <td>NaN</td>\n",
       "      <td>NaN</td>\n",
       "      <td>NaN</td>\n",
       "      <td>NaN</td>\n",
       "      <td>NaN</td>\n",
       "      <td>NaN</td>\n",
       "      <td>NaN</td>\n",
       "    </tr>\n",
       "    <tr>\n",
       "      <th>1</th>\n",
       "      <td>Nimba</td>\n",
       "      <td>NaN</td>\n",
       "      <td>NaN</td>\n",
       "      <td>NaN</td>\n",
       "      <td>NaN</td>\n",
       "      <td>NaN</td>\n",
       "      <td>Zoe-Geh</td>\n",
       "      <td>NaN</td>\n",
       "      <td>NaN</td>\n",
       "      <td>NaN</td>\n",
       "      <td>NaN</td>\n",
       "      <td>NaN</td>\n",
       "      <td>NaN</td>\n",
       "      <td>NaN</td>\n",
       "      <td>NaN</td>\n",
       "      <td>NaN</td>\n",
       "      <td>NaN</td>\n",
       "      <td>NaN</td>\n",
       "      <td>NaN</td>\n",
       "      <td>NaN</td>\n",
       "      <td>NaN</td>\n",
       "      <td>NaN</td>\n",
       "      <td>NaN</td>\n",
       "      <td>NaN</td>\n",
       "      <td>NaN</td>\n",
       "      <td>NaN</td>\n",
       "      <td>NaN</td>\n",
       "      <td>NaN</td>\n",
       "      <td>NaN</td>\n",
       "      <td>NaN</td>\n",
       "      <td>NaN</td>\n",
       "      <td>NaN</td>\n",
       "      <td>NaN</td>\n",
       "      <td>NaN</td>\n",
       "      <td>NaN</td>\n",
       "      <td>NaN</td>\n",
       "      <td>NaN</td>\n",
       "      <td>NaN</td>\n",
       "      <td>NaN</td>\n",
       "      <td>NaN</td>\n",
       "      <td>NaN</td>\n",
       "    </tr>\n",
       "    <tr>\n",
       "      <th>2</th>\n",
       "      <td>River Gee</td>\n",
       "      <td>NaN</td>\n",
       "      <td>NaN</td>\n",
       "      <td>Tienpo</td>\n",
       "      <td>NaN</td>\n",
       "      <td>NaN</td>\n",
       "      <td>NaN</td>\n",
       "      <td>NaN</td>\n",
       "      <td>NaN</td>\n",
       "      <td>NaN</td>\n",
       "      <td>NaN</td>\n",
       "      <td>NaN</td>\n",
       "      <td>NaN</td>\n",
       "      <td>NaN</td>\n",
       "      <td>NaN</td>\n",
       "      <td>NaN</td>\n",
       "      <td>NaN</td>\n",
       "      <td>NaN</td>\n",
       "      <td>NaN</td>\n",
       "      <td>NaN</td>\n",
       "      <td>NaN</td>\n",
       "      <td>NaN</td>\n",
       "      <td>NaN</td>\n",
       "      <td>NaN</td>\n",
       "      <td>NaN</td>\n",
       "      <td>NaN</td>\n",
       "      <td>NaN</td>\n",
       "      <td>NaN</td>\n",
       "      <td>NaN</td>\n",
       "      <td>NaN</td>\n",
       "      <td>NaN</td>\n",
       "      <td>NaN</td>\n",
       "      <td>NaN</td>\n",
       "      <td>NaN</td>\n",
       "      <td>NaN</td>\n",
       "      <td>NaN</td>\n",
       "      <td>NaN</td>\n",
       "      <td>NaN</td>\n",
       "      <td>NaN</td>\n",
       "      <td>NaN</td>\n",
       "      <td>NaN</td>\n",
       "    </tr>\n",
       "    <tr>\n",
       "      <th>3</th>\n",
       "      <td>Montserrado 1</td>\n",
       "      <td>NaN</td>\n",
       "      <td>NaN</td>\n",
       "      <td>NaN</td>\n",
       "      <td>NaN</td>\n",
       "      <td>NaN</td>\n",
       "      <td>NaN</td>\n",
       "      <td>NaN</td>\n",
       "      <td>NaN</td>\n",
       "      <td>NaN</td>\n",
       "      <td>NaN</td>\n",
       "      <td>NaN</td>\n",
       "      <td>NaN</td>\n",
       "      <td>Paynesville 4</td>\n",
       "      <td>NaN</td>\n",
       "      <td>NaN</td>\n",
       "      <td>NaN</td>\n",
       "      <td>NaN</td>\n",
       "      <td>NaN</td>\n",
       "      <td>NaN</td>\n",
       "      <td>NaN</td>\n",
       "      <td>NaN</td>\n",
       "      <td>NaN</td>\n",
       "      <td>NaN</td>\n",
       "      <td>NaN</td>\n",
       "      <td>NaN</td>\n",
       "      <td>NaN</td>\n",
       "      <td>NaN</td>\n",
       "      <td>NaN</td>\n",
       "      <td>NaN</td>\n",
       "      <td>NaN</td>\n",
       "      <td>NaN</td>\n",
       "      <td>NaN</td>\n",
       "      <td>NaN</td>\n",
       "      <td>NaN</td>\n",
       "      <td>NaN</td>\n",
       "      <td>NaN</td>\n",
       "      <td>NaN</td>\n",
       "      <td>NaN</td>\n",
       "      <td>NaN</td>\n",
       "      <td>NaN</td>\n",
       "    </tr>\n",
       "    <tr>\n",
       "      <th>4</th>\n",
       "      <td>Montserrado 1</td>\n",
       "      <td>NaN</td>\n",
       "      <td>NaN</td>\n",
       "      <td>NaN</td>\n",
       "      <td>NaN</td>\n",
       "      <td>NaN</td>\n",
       "      <td>NaN</td>\n",
       "      <td>NaN</td>\n",
       "      <td>NaN</td>\n",
       "      <td>NaN</td>\n",
       "      <td>NaN</td>\n",
       "      <td>NaN</td>\n",
       "      <td>NaN</td>\n",
       "      <td>Greater Monrovia 1A</td>\n",
       "      <td>NaN</td>\n",
       "      <td>NaN</td>\n",
       "      <td>NaN</td>\n",
       "      <td>NaN</td>\n",
       "      <td>NaN</td>\n",
       "      <td>NaN</td>\n",
       "      <td>NaN</td>\n",
       "      <td>NaN</td>\n",
       "      <td>NaN</td>\n",
       "      <td>NaN</td>\n",
       "      <td>NaN</td>\n",
       "      <td>NaN</td>\n",
       "      <td>NaN</td>\n",
       "      <td>NaN</td>\n",
       "      <td>NaN</td>\n",
       "      <td>NaN</td>\n",
       "      <td>NaN</td>\n",
       "      <td>NaN</td>\n",
       "      <td>NaN</td>\n",
       "      <td>NaN</td>\n",
       "      <td>NaN</td>\n",
       "      <td>NaN</td>\n",
       "      <td>NaN</td>\n",
       "      <td>NaN</td>\n",
       "      <td>NaN</td>\n",
       "      <td>NaN</td>\n",
       "      <td>NaN</td>\n",
       "    </tr>\n",
       "  </tbody>\n",
       "</table>\n",
       "</div>"
      ],
      "text/plain": [
       "          County District in Bong County District in Gbarpolu  \\\n",
       "0      Rivercess                     NaN                  NaN   \n",
       "1          Nimba                     NaN                  NaN   \n",
       "2      River Gee                     NaN                  NaN   \n",
       "3  Montserrado 1                     NaN                  NaN   \n",
       "4  Montserrado 1                     NaN                  NaN   \n",
       "\n",
       "  District in River Gee District in Sinoe District in Lofa District in Nimba  \\\n",
       "0                   NaN               NaN              NaN               NaN   \n",
       "1                   NaN               NaN              NaN           Zoe-Geh   \n",
       "2                Tienpo               NaN              NaN               NaN   \n",
       "3                   NaN               NaN              NaN               NaN   \n",
       "4                   NaN               NaN              NaN               NaN   \n",
       "\n",
       "  District in Grand Cape Mount District in Maryland District in Margibi  \\\n",
       "0                          NaN                  NaN                 NaN   \n",
       "1                          NaN                  NaN                 NaN   \n",
       "2                          NaN                  NaN                 NaN   \n",
       "3                          NaN                  NaN                 NaN   \n",
       "4                          NaN                  NaN                 NaN   \n",
       "\n",
       "  District in Bomi District in Grand Bassa District in Montserrado 2  \\\n",
       "0              NaN                     NaN                       NaN   \n",
       "1              NaN                     NaN                       NaN   \n",
       "2              NaN                     NaN                       NaN   \n",
       "3              NaN                     NaN                       NaN   \n",
       "4              NaN                     NaN                       NaN   \n",
       "\n",
       "  District in Montserrado 1 Districts in Grand Kru Districts in Grand Gedeh  \\\n",
       "0                       NaN                    NaN                      NaN   \n",
       "1                       NaN                    NaN                      NaN   \n",
       "2                       NaN                    NaN                      NaN   \n",
       "3             Paynesville 4                    NaN                      NaN   \n",
       "4       Greater Monrovia 1A                    NaN                      NaN   \n",
       "\n",
       "  Districts in River Cess  \\\n",
       "0                  Timobo   \n",
       "1                     NaN   \n",
       "2                     NaN   \n",
       "3                     NaN   \n",
       "4                     NaN   \n",
       "\n",
       "   How many MALE students in Grade 7 are Visually impaired ?  \\\n",
       "0                                                NaN           \n",
       "1                                                NaN           \n",
       "2                                                NaN           \n",
       "3                                                NaN           \n",
       "4                                                NaN           \n",
       "\n",
       "   How many FEMALE students in Grade 7 are Visually impaired?  \\\n",
       "0                                                NaN            \n",
       "1                                                NaN            \n",
       "2                                                NaN            \n",
       "3                                                NaN            \n",
       "4                                                NaN            \n",
       "\n",
       "   How many MALE students in Grade 8 are Visually impaired ?  \\\n",
       "0                                                NaN           \n",
       "1                                                NaN           \n",
       "2                                                NaN           \n",
       "3                                                NaN           \n",
       "4                                                NaN           \n",
       "\n",
       "   How many FEMALE students in Grade 8 are Visually impaired?  \\\n",
       "0                                                NaN            \n",
       "1                                                NaN            \n",
       "2                                                NaN            \n",
       "3                                                NaN            \n",
       "4                                                NaN            \n",
       "\n",
       "   How many MALE students in Grade 9 are Visually impaired ?  \\\n",
       "0                                                NaN           \n",
       "1                                                NaN           \n",
       "2                                                NaN           \n",
       "3                                                NaN           \n",
       "4                                                NaN           \n",
       "\n",
       "   How many FEMALE students in Grade 9 are Visually impaired?  \\\n",
       "0                                                NaN            \n",
       "1                                                NaN            \n",
       "2                                                NaN            \n",
       "3                                                NaN            \n",
       "4                                                NaN            \n",
       "\n",
       "   How many MALE students in  Grade 7 have hearing impairment?  \\\n",
       "0                                                NaN             \n",
       "1                                                NaN             \n",
       "2                                                NaN             \n",
       "3                                                NaN             \n",
       "4                                                NaN             \n",
       "\n",
       "   How many FEMALE students in Grade 7 have hearing impairment?  \\\n",
       "0                                                NaN              \n",
       "1                                                NaN              \n",
       "2                                                NaN              \n",
       "3                                                NaN              \n",
       "4                                                NaN              \n",
       "\n",
       "   How many MALE students in  Grade 8 have hearing impairment?  \\\n",
       "0                                                NaN             \n",
       "1                                                NaN             \n",
       "2                                                NaN             \n",
       "3                                                NaN             \n",
       "4                                                NaN             \n",
       "\n",
       "   How many FEMALE students in Grade 8 have hearing impairment?  \\\n",
       "0                                                NaN              \n",
       "1                                                NaN              \n",
       "2                                                NaN              \n",
       "3                                                NaN              \n",
       "4                                                NaN              \n",
       "\n",
       "   How many MALE students in  Grade 9 have hearing impairment?  \\\n",
       "0                                                NaN             \n",
       "1                                                NaN             \n",
       "2                                                NaN             \n",
       "3                                                NaN             \n",
       "4                                                NaN             \n",
       "\n",
       "   How many FEMALE students in Grade 9 have hearing impairment?  \\\n",
       "0                                                NaN              \n",
       "1                                                NaN              \n",
       "2                                                NaN              \n",
       "3                                                NaN              \n",
       "4                                                NaN              \n",
       "\n",
       "   How many MALE students in  Grade 7 have other physical disabilities?  \\\n",
       "0                                                NaN                      \n",
       "1                                                NaN                      \n",
       "2                                                NaN                      \n",
       "3                                                NaN                      \n",
       "4                                                NaN                      \n",
       "\n",
       "   How many FEMALE students in  Grade 7 have other physical disabilities?  \\\n",
       "0                                                NaN                        \n",
       "1                                                NaN                        \n",
       "2                                                NaN                        \n",
       "3                                                NaN                        \n",
       "4                                                NaN                        \n",
       "\n",
       "   How many MALE students in  Grade 8 have other physical disabilities?  \\\n",
       "0                                                NaN                      \n",
       "1                                                NaN                      \n",
       "2                                                NaN                      \n",
       "3                                                NaN                      \n",
       "4                                                NaN                      \n",
       "\n",
       "   How many FEMALE students in  Grade 8 have other physical disabilities?  \\\n",
       "0                                                NaN                        \n",
       "1                                                NaN                        \n",
       "2                                                NaN                        \n",
       "3                                                NaN                        \n",
       "4                                                NaN                        \n",
       "\n",
       "   How many MALE students in  Grade 9 have other physical disabilities?  \\\n",
       "0                                                NaN                      \n",
       "1                                                NaN                      \n",
       "2                                                NaN                      \n",
       "3                                                NaN                      \n",
       "4                                                NaN                      \n",
       "\n",
       "   How many FEMALE students in  Grade 9 have other physical disabilities?  \\\n",
       "0                                                NaN                        \n",
       "1                                                NaN                        \n",
       "2                                                NaN                        \n",
       "3                                                NaN                        \n",
       "4                                                NaN                        \n",
       "\n",
       "   How many MALE students in  Grade 7 have other mental disability or learning difficulty?  \\\n",
       "0                                                NaN                                         \n",
       "1                                                NaN                                         \n",
       "2                                                NaN                                         \n",
       "3                                                NaN                                         \n",
       "4                                                NaN                                         \n",
       "\n",
       "   How many FEMALE students in  Grade 7 have other mental disability or learning difficulty?  \\\n",
       "0                                                NaN                                           \n",
       "1                                                NaN                                           \n",
       "2                                                NaN                                           \n",
       "3                                                NaN                                           \n",
       "4                                                NaN                                           \n",
       "\n",
       "   How many MALE students in  Grade 8 have other mental disability or learning difficulty?  \\\n",
       "0                                                NaN                                         \n",
       "1                                                NaN                                         \n",
       "2                                                NaN                                         \n",
       "3                                                NaN                                         \n",
       "4                                                NaN                                         \n",
       "\n",
       "   How many FEMALE students in  Grade 8 have other mental disability or learning difficulty?  \\\n",
       "0                                                NaN                                           \n",
       "1                                                NaN                                           \n",
       "2                                                NaN                                           \n",
       "3                                                NaN                                           \n",
       "4                                                NaN                                           \n",
       "\n",
       "   How many FEMALE students in  Grade 9 have other mental disability or learning difficulty?  \\\n",
       "0                                                NaN                                           \n",
       "1                                                NaN                                           \n",
       "2                                                NaN                                           \n",
       "3                                                NaN                                           \n",
       "4                                                NaN                                           \n",
       "\n",
       "   How many MALE students in  Grade 9 have other mental disability or learning difficulty?  \n",
       "0                                                NaN                                        \n",
       "1                                                NaN                                        \n",
       "2                                                NaN                                        \n",
       "3                                                NaN                                        \n",
       "4                                                NaN                                        "
      ]
     },
     "execution_count": 1624,
     "metadata": {},
     "output_type": "execute_result"
    }
   ],
   "source": [
    "kece_cdd = pd.concat([kece_c, kece_d, kece_disa], axis = 1)\n",
    "kece_cdd.columns\n",
    "kece_cdd.head()"
   ]
  },
  {
   "cell_type": "code",
   "execution_count": 1636,
   "id": "9b22b89b-2632-47db-a7ea-66e52605bbbd",
   "metadata": {},
   "outputs": [
    {
     "data": {
      "text/plain": [
       "County\n",
       "Bomi                  7.0\n",
       "Bong                 72.0\n",
       "Gbarpolu              5.0\n",
       "Grand Bassa           3.0\n",
       "Grand Cape Mount      0.0\n",
       "Grand Gedeh           2.0\n",
       "Grand Kru             6.0\n",
       "Lofa                 10.0\n",
       "Margibi              41.0\n",
       "Maryland             10.0\n",
       "Montserrado 1       194.0\n",
       "Montserrado 2        66.0\n",
       "Nimba                98.0\n",
       "River Gee             2.0\n",
       "Rivercess           110.0\n",
       "Sinoe                13.0\n",
       "dtype: float64"
      ]
     },
     "execution_count": 1636,
     "metadata": {},
     "output_type": "execute_result"
    }
   ],
   "source": [
    "dd = kece_cdd.groupby('County').sum()\n",
    "dd.sum(1)"
   ]
  },
  {
   "cell_type": "code",
   "execution_count": 1629,
   "id": "33c314f2-861e-4e6d-82bb-fb3b8f4d5ca5",
   "metadata": {},
   "outputs": [
    {
     "data": {
      "text/plain": [
       "County\n",
       "Bomi                 0.0\n",
       "Bong                25.0\n",
       "Gbarpolu             2.0\n",
       "Grand Bassa          1.0\n",
       "Grand Cape Mount     0.0\n",
       "Grand Gedeh          0.0\n",
       "Grand Kru            1.0\n",
       "Lofa                 1.0\n",
       "Margibi              4.0\n",
       "Maryland             0.0\n",
       "Montserrado 1       42.0\n",
       "Montserrado 2       38.0\n",
       "Nimba               18.0\n",
       "River Gee            0.0\n",
       "Rivercess            0.0\n",
       "Sinoe                3.0\n",
       "dtype: float64"
      ]
     },
     "execution_count": 1629,
     "metadata": {},
     "output_type": "execute_result"
    }
   ],
   "source": [
    "dd.iloc[:,:6].sum(1)"
   ]
  },
  {
   "cell_type": "code",
   "execution_count": 1631,
   "id": "6b11a668-e310-44e6-a6fb-376a2d20c847",
   "metadata": {},
   "outputs": [
    {
     "data": {
      "text/plain": [
       "County\n",
       "Bomi                  7.0\n",
       "Bong                  9.0\n",
       "Gbarpolu              1.0\n",
       "Grand Bassa           0.0\n",
       "Grand Cape Mount      0.0\n",
       "Grand Gedeh           0.0\n",
       "Grand Kru             0.0\n",
       "Lofa                  5.0\n",
       "Margibi              24.0\n",
       "Maryland              0.0\n",
       "Montserrado 1        45.0\n",
       "Montserrado 2         2.0\n",
       "Nimba                24.0\n",
       "River Gee             1.0\n",
       "Rivercess           110.0\n",
       "Sinoe                 0.0\n",
       "dtype: float64"
      ]
     },
     "execution_count": 1631,
     "metadata": {},
     "output_type": "execute_result"
    }
   ],
   "source": [
    "dd.iloc[:,6:12].sum(1)"
   ]
  },
  {
   "cell_type": "code",
   "execution_count": 1633,
   "id": "17dda723-c296-4b7b-8689-ee89769b09d8",
   "metadata": {},
   "outputs": [
    {
     "data": {
      "text/plain": [
       "County\n",
       "Bomi                 0.0\n",
       "Bong                20.0\n",
       "Gbarpolu             1.0\n",
       "Grand Bassa          2.0\n",
       "Grand Cape Mount     0.0\n",
       "Grand Gedeh          2.0\n",
       "Grand Kru            0.0\n",
       "Lofa                 4.0\n",
       "Margibi             12.0\n",
       "Maryland             2.0\n",
       "Montserrado 1       40.0\n",
       "Montserrado 2       23.0\n",
       "Nimba               34.0\n",
       "River Gee            1.0\n",
       "Rivercess            0.0\n",
       "Sinoe                2.0\n",
       "dtype: float64"
      ]
     },
     "execution_count": 1633,
     "metadata": {},
     "output_type": "execute_result"
    }
   ],
   "source": [
    "dd.iloc[:,12:18].sum(1)"
   ]
  },
  {
   "cell_type": "code",
   "execution_count": 1635,
   "id": "2feefc85-0b87-4c5b-a4e2-06b6b4b71ba7",
   "metadata": {},
   "outputs": [
    {
     "data": {
      "text/plain": [
       "County\n",
       "Bomi                 0.0\n",
       "Bong                18.0\n",
       "Gbarpolu             1.0\n",
       "Grand Bassa          0.0\n",
       "Grand Cape Mount     0.0\n",
       "Grand Gedeh          0.0\n",
       "Grand Kru            5.0\n",
       "Lofa                 0.0\n",
       "Margibi              1.0\n",
       "Maryland             8.0\n",
       "Montserrado 1       67.0\n",
       "Montserrado 2        3.0\n",
       "Nimba               22.0\n",
       "River Gee            0.0\n",
       "Rivercess            0.0\n",
       "Sinoe                8.0\n",
       "dtype: float64"
      ]
     },
     "execution_count": 1635,
     "metadata": {},
     "output_type": "execute_result"
    }
   ],
   "source": [
    "dd.iloc[:,18:].sum(1)"
   ]
  },
  {
   "cell_type": "code",
   "execution_count": null,
   "id": "7b8bc1dc-31a5-4d39-ae58-778896175d9d",
   "metadata": {},
   "outputs": [],
   "source": []
  },
  {
   "cell_type": "markdown",
   "id": "c524b787-5c05-4129-b100-fdcbbc90e6b2",
   "metadata": {},
   "source": [
    "# Table 13: ECE Enrollment by Disability and Districts"
   ]
  },
  {
   "cell_type": "code",
   "execution_count": 1637,
   "id": "88821432-dfb0-4e1d-90a2-1a365af32434",
   "metadata": {},
   "outputs": [
    {
     "data": {
      "text/plain": [
       "Index(['County', 'District in Bong County', 'District in Gbarpolu',\n",
       "       'District in River Gee', 'District in Sinoe', 'District in Lofa',\n",
       "       'District in Nimba', 'District in Grand Cape Mount',\n",
       "       'District in Maryland', 'District in Margibi', 'District in Bomi',\n",
       "       'District in Grand Bassa', 'District in Montserrado 2',\n",
       "       'District in Montserrado 1', 'Districts in Grand Kru',\n",
       "       'Districts in Grand Gedeh', 'Districts in River Cess',\n",
       "       'How many MALE students in Grade 7 are Visually impaired ?',\n",
       "       'How many FEMALE students in Grade 7 are Visually impaired?',\n",
       "       'How many MALE students in Grade 8 are Visually impaired ?',\n",
       "       'How many FEMALE students in Grade 8 are Visually impaired?',\n",
       "       'How many MALE students in Grade 9 are Visually impaired ?',\n",
       "       'How many FEMALE students in Grade 9 are Visually impaired?',\n",
       "       'How many MALE students in  Grade 7 have hearing impairment?',\n",
       "       'How many FEMALE students in Grade 7 have hearing impairment?',\n",
       "       'How many MALE students in  Grade 8 have hearing impairment?',\n",
       "       'How many FEMALE students in Grade 8 have hearing impairment?',\n",
       "       'How many MALE students in  Grade 9 have hearing impairment?',\n",
       "       'How many FEMALE students in Grade 9 have hearing impairment?',\n",
       "       'How many MALE students in  Grade 7 have other physical disabilities?',\n",
       "       'How many FEMALE students in  Grade 7 have other physical disabilities?',\n",
       "       'How many MALE students in  Grade 8 have other physical disabilities?',\n",
       "       'How many FEMALE students in  Grade 8 have other physical disabilities?',\n",
       "       'How many MALE students in  Grade 9 have other physical disabilities?',\n",
       "       'How many FEMALE students in  Grade 9 have other physical disabilities?',\n",
       "       'How many MALE students in  Grade 7 have other mental disability or learning difficulty?',\n",
       "       'How many FEMALE students in  Grade 7 have other mental disability or learning difficulty?',\n",
       "       'How many MALE students in  Grade 8 have other mental disability or learning difficulty?',\n",
       "       'How many FEMALE students in  Grade 8 have other mental disability or learning difficulty?',\n",
       "       'How many FEMALE students in  Grade 9 have other mental disability or learning difficulty?',\n",
       "       'How many MALE students in  Grade 9 have other mental disability or learning difficulty?'],\n",
       "      dtype='object')"
      ]
     },
     "execution_count": 1637,
     "metadata": {},
     "output_type": "execute_result"
    }
   ],
   "source": [
    "kece_cdd.columns"
   ]
  },
  {
   "cell_type": "code",
   "execution_count": null,
   "id": "d0ffcdcc-4f2c-4a3a-a706-5d7759a6e240",
   "metadata": {},
   "outputs": [],
   "source": []
  },
  {
   "cell_type": "code",
   "execution_count": 1638,
   "id": "40556a17-46f9-4331-b9c5-fca892b59f87",
   "metadata": {},
   "outputs": [
    {
     "data": {
      "text/html": [
       "<div>\n",
       "<style scoped>\n",
       "    .dataframe tbody tr th:only-of-type {\n",
       "        vertical-align: middle;\n",
       "    }\n",
       "\n",
       "    .dataframe tbody tr th {\n",
       "        vertical-align: top;\n",
       "    }\n",
       "\n",
       "    .dataframe thead th {\n",
       "        text-align: right;\n",
       "    }\n",
       "</style>\n",
       "<table border=\"1\" class=\"dataframe\">\n",
       "  <thead>\n",
       "    <tr style=\"text-align: right;\">\n",
       "      <th></th>\n",
       "      <th>How many MALE students in Grade 7 are Visually impaired ?</th>\n",
       "      <th>How many FEMALE students in Grade 7 are Visually impaired?</th>\n",
       "      <th>How many MALE students in Grade 8 are Visually impaired ?</th>\n",
       "      <th>How many FEMALE students in Grade 8 are Visually impaired?</th>\n",
       "      <th>How many MALE students in Grade 9 are Visually impaired ?</th>\n",
       "      <th>How many FEMALE students in Grade 9 are Visually impaired?</th>\n",
       "      <th>How many MALE students in  Grade 7 have hearing impairment?</th>\n",
       "      <th>How many FEMALE students in Grade 7 have hearing impairment?</th>\n",
       "      <th>How many MALE students in  Grade 8 have hearing impairment?</th>\n",
       "      <th>How many FEMALE students in Grade 8 have hearing impairment?</th>\n",
       "      <th>How many MALE students in  Grade 9 have hearing impairment?</th>\n",
       "      <th>How many FEMALE students in Grade 9 have hearing impairment?</th>\n",
       "      <th>How many MALE students in  Grade 7 have other physical disabilities?</th>\n",
       "      <th>How many FEMALE students in  Grade 7 have other physical disabilities?</th>\n",
       "      <th>How many MALE students in  Grade 8 have other physical disabilities?</th>\n",
       "      <th>How many FEMALE students in  Grade 8 have other physical disabilities?</th>\n",
       "      <th>How many MALE students in  Grade 9 have other physical disabilities?</th>\n",
       "      <th>How many FEMALE students in  Grade 9 have other physical disabilities?</th>\n",
       "      <th>How many MALE students in  Grade 7 have other mental disability or learning difficulty?</th>\n",
       "      <th>How many FEMALE students in  Grade 7 have other mental disability or learning difficulty?</th>\n",
       "      <th>How many MALE students in  Grade 8 have other mental disability or learning difficulty?</th>\n",
       "      <th>How many FEMALE students in  Grade 8 have other mental disability or learning difficulty?</th>\n",
       "      <th>How many FEMALE students in  Grade 9 have other mental disability or learning difficulty?</th>\n",
       "      <th>How many MALE students in  Grade 9 have other mental disability or learning difficulty?</th>\n",
       "      <th>district</th>\n",
       "      <th>count</th>\n",
       "    </tr>\n",
       "  </thead>\n",
       "  <tbody>\n",
       "    <tr>\n",
       "      <th>0</th>\n",
       "      <td>NaN</td>\n",
       "      <td>NaN</td>\n",
       "      <td>NaN</td>\n",
       "      <td>NaN</td>\n",
       "      <td>NaN</td>\n",
       "      <td>NaN</td>\n",
       "      <td>NaN</td>\n",
       "      <td>NaN</td>\n",
       "      <td>NaN</td>\n",
       "      <td>NaN</td>\n",
       "      <td>NaN</td>\n",
       "      <td>NaN</td>\n",
       "      <td>NaN</td>\n",
       "      <td>NaN</td>\n",
       "      <td>NaN</td>\n",
       "      <td>NaN</td>\n",
       "      <td>NaN</td>\n",
       "      <td>NaN</td>\n",
       "      <td>NaN</td>\n",
       "      <td>NaN</td>\n",
       "      <td>NaN</td>\n",
       "      <td>NaN</td>\n",
       "      <td>NaN</td>\n",
       "      <td>NaN</td>\n",
       "      <td>County</td>\n",
       "      <td>Rivercess</td>\n",
       "    </tr>\n",
       "    <tr>\n",
       "      <th>1</th>\n",
       "      <td>NaN</td>\n",
       "      <td>NaN</td>\n",
       "      <td>NaN</td>\n",
       "      <td>NaN</td>\n",
       "      <td>NaN</td>\n",
       "      <td>NaN</td>\n",
       "      <td>NaN</td>\n",
       "      <td>NaN</td>\n",
       "      <td>NaN</td>\n",
       "      <td>NaN</td>\n",
       "      <td>NaN</td>\n",
       "      <td>NaN</td>\n",
       "      <td>NaN</td>\n",
       "      <td>NaN</td>\n",
       "      <td>NaN</td>\n",
       "      <td>NaN</td>\n",
       "      <td>NaN</td>\n",
       "      <td>NaN</td>\n",
       "      <td>NaN</td>\n",
       "      <td>NaN</td>\n",
       "      <td>NaN</td>\n",
       "      <td>NaN</td>\n",
       "      <td>NaN</td>\n",
       "      <td>NaN</td>\n",
       "      <td>County</td>\n",
       "      <td>Nimba</td>\n",
       "    </tr>\n",
       "    <tr>\n",
       "      <th>2</th>\n",
       "      <td>NaN</td>\n",
       "      <td>NaN</td>\n",
       "      <td>NaN</td>\n",
       "      <td>NaN</td>\n",
       "      <td>NaN</td>\n",
       "      <td>NaN</td>\n",
       "      <td>NaN</td>\n",
       "      <td>NaN</td>\n",
       "      <td>NaN</td>\n",
       "      <td>NaN</td>\n",
       "      <td>NaN</td>\n",
       "      <td>NaN</td>\n",
       "      <td>NaN</td>\n",
       "      <td>NaN</td>\n",
       "      <td>NaN</td>\n",
       "      <td>NaN</td>\n",
       "      <td>NaN</td>\n",
       "      <td>NaN</td>\n",
       "      <td>NaN</td>\n",
       "      <td>NaN</td>\n",
       "      <td>NaN</td>\n",
       "      <td>NaN</td>\n",
       "      <td>NaN</td>\n",
       "      <td>NaN</td>\n",
       "      <td>County</td>\n",
       "      <td>River Gee</td>\n",
       "    </tr>\n",
       "    <tr>\n",
       "      <th>3</th>\n",
       "      <td>NaN</td>\n",
       "      <td>NaN</td>\n",
       "      <td>NaN</td>\n",
       "      <td>NaN</td>\n",
       "      <td>NaN</td>\n",
       "      <td>NaN</td>\n",
       "      <td>NaN</td>\n",
       "      <td>NaN</td>\n",
       "      <td>NaN</td>\n",
       "      <td>NaN</td>\n",
       "      <td>NaN</td>\n",
       "      <td>NaN</td>\n",
       "      <td>NaN</td>\n",
       "      <td>NaN</td>\n",
       "      <td>NaN</td>\n",
       "      <td>NaN</td>\n",
       "      <td>NaN</td>\n",
       "      <td>NaN</td>\n",
       "      <td>NaN</td>\n",
       "      <td>NaN</td>\n",
       "      <td>NaN</td>\n",
       "      <td>NaN</td>\n",
       "      <td>NaN</td>\n",
       "      <td>NaN</td>\n",
       "      <td>County</td>\n",
       "      <td>Montserrado 1</td>\n",
       "    </tr>\n",
       "    <tr>\n",
       "      <th>4</th>\n",
       "      <td>NaN</td>\n",
       "      <td>NaN</td>\n",
       "      <td>NaN</td>\n",
       "      <td>NaN</td>\n",
       "      <td>NaN</td>\n",
       "      <td>NaN</td>\n",
       "      <td>NaN</td>\n",
       "      <td>NaN</td>\n",
       "      <td>NaN</td>\n",
       "      <td>NaN</td>\n",
       "      <td>NaN</td>\n",
       "      <td>NaN</td>\n",
       "      <td>NaN</td>\n",
       "      <td>NaN</td>\n",
       "      <td>NaN</td>\n",
       "      <td>NaN</td>\n",
       "      <td>NaN</td>\n",
       "      <td>NaN</td>\n",
       "      <td>NaN</td>\n",
       "      <td>NaN</td>\n",
       "      <td>NaN</td>\n",
       "      <td>NaN</td>\n",
       "      <td>NaN</td>\n",
       "      <td>NaN</td>\n",
       "      <td>County</td>\n",
       "      <td>Montserrado 1</td>\n",
       "    </tr>\n",
       "  </tbody>\n",
       "</table>\n",
       "</div>"
      ],
      "text/plain": [
       "   How many MALE students in Grade 7 are Visually impaired ?  \\\n",
       "0                                                NaN           \n",
       "1                                                NaN           \n",
       "2                                                NaN           \n",
       "3                                                NaN           \n",
       "4                                                NaN           \n",
       "\n",
       "   How many FEMALE students in Grade 7 are Visually impaired?  \\\n",
       "0                                                NaN            \n",
       "1                                                NaN            \n",
       "2                                                NaN            \n",
       "3                                                NaN            \n",
       "4                                                NaN            \n",
       "\n",
       "   How many MALE students in Grade 8 are Visually impaired ?  \\\n",
       "0                                                NaN           \n",
       "1                                                NaN           \n",
       "2                                                NaN           \n",
       "3                                                NaN           \n",
       "4                                                NaN           \n",
       "\n",
       "   How many FEMALE students in Grade 8 are Visually impaired?  \\\n",
       "0                                                NaN            \n",
       "1                                                NaN            \n",
       "2                                                NaN            \n",
       "3                                                NaN            \n",
       "4                                                NaN            \n",
       "\n",
       "   How many MALE students in Grade 9 are Visually impaired ?  \\\n",
       "0                                                NaN           \n",
       "1                                                NaN           \n",
       "2                                                NaN           \n",
       "3                                                NaN           \n",
       "4                                                NaN           \n",
       "\n",
       "   How many FEMALE students in Grade 9 are Visually impaired?  \\\n",
       "0                                                NaN            \n",
       "1                                                NaN            \n",
       "2                                                NaN            \n",
       "3                                                NaN            \n",
       "4                                                NaN            \n",
       "\n",
       "   How many MALE students in  Grade 7 have hearing impairment?  \\\n",
       "0                                                NaN             \n",
       "1                                                NaN             \n",
       "2                                                NaN             \n",
       "3                                                NaN             \n",
       "4                                                NaN             \n",
       "\n",
       "   How many FEMALE students in Grade 7 have hearing impairment?  \\\n",
       "0                                                NaN              \n",
       "1                                                NaN              \n",
       "2                                                NaN              \n",
       "3                                                NaN              \n",
       "4                                                NaN              \n",
       "\n",
       "   How many MALE students in  Grade 8 have hearing impairment?  \\\n",
       "0                                                NaN             \n",
       "1                                                NaN             \n",
       "2                                                NaN             \n",
       "3                                                NaN             \n",
       "4                                                NaN             \n",
       "\n",
       "   How many FEMALE students in Grade 8 have hearing impairment?  \\\n",
       "0                                                NaN              \n",
       "1                                                NaN              \n",
       "2                                                NaN              \n",
       "3                                                NaN              \n",
       "4                                                NaN              \n",
       "\n",
       "   How many MALE students in  Grade 9 have hearing impairment?  \\\n",
       "0                                                NaN             \n",
       "1                                                NaN             \n",
       "2                                                NaN             \n",
       "3                                                NaN             \n",
       "4                                                NaN             \n",
       "\n",
       "   How many FEMALE students in Grade 9 have hearing impairment?  \\\n",
       "0                                                NaN              \n",
       "1                                                NaN              \n",
       "2                                                NaN              \n",
       "3                                                NaN              \n",
       "4                                                NaN              \n",
       "\n",
       "   How many MALE students in  Grade 7 have other physical disabilities?  \\\n",
       "0                                                NaN                      \n",
       "1                                                NaN                      \n",
       "2                                                NaN                      \n",
       "3                                                NaN                      \n",
       "4                                                NaN                      \n",
       "\n",
       "   How many FEMALE students in  Grade 7 have other physical disabilities?  \\\n",
       "0                                                NaN                        \n",
       "1                                                NaN                        \n",
       "2                                                NaN                        \n",
       "3                                                NaN                        \n",
       "4                                                NaN                        \n",
       "\n",
       "   How many MALE students in  Grade 8 have other physical disabilities?  \\\n",
       "0                                                NaN                      \n",
       "1                                                NaN                      \n",
       "2                                                NaN                      \n",
       "3                                                NaN                      \n",
       "4                                                NaN                      \n",
       "\n",
       "   How many FEMALE students in  Grade 8 have other physical disabilities?  \\\n",
       "0                                                NaN                        \n",
       "1                                                NaN                        \n",
       "2                                                NaN                        \n",
       "3                                                NaN                        \n",
       "4                                                NaN                        \n",
       "\n",
       "   How many MALE students in  Grade 9 have other physical disabilities?  \\\n",
       "0                                                NaN                      \n",
       "1                                                NaN                      \n",
       "2                                                NaN                      \n",
       "3                                                NaN                      \n",
       "4                                                NaN                      \n",
       "\n",
       "   How many FEMALE students in  Grade 9 have other physical disabilities?  \\\n",
       "0                                                NaN                        \n",
       "1                                                NaN                        \n",
       "2                                                NaN                        \n",
       "3                                                NaN                        \n",
       "4                                                NaN                        \n",
       "\n",
       "   How many MALE students in  Grade 7 have other mental disability or learning difficulty?  \\\n",
       "0                                                NaN                                         \n",
       "1                                                NaN                                         \n",
       "2                                                NaN                                         \n",
       "3                                                NaN                                         \n",
       "4                                                NaN                                         \n",
       "\n",
       "   How many FEMALE students in  Grade 7 have other mental disability or learning difficulty?  \\\n",
       "0                                                NaN                                           \n",
       "1                                                NaN                                           \n",
       "2                                                NaN                                           \n",
       "3                                                NaN                                           \n",
       "4                                                NaN                                           \n",
       "\n",
       "   How many MALE students in  Grade 8 have other mental disability or learning difficulty?  \\\n",
       "0                                                NaN                                         \n",
       "1                                                NaN                                         \n",
       "2                                                NaN                                         \n",
       "3                                                NaN                                         \n",
       "4                                                NaN                                         \n",
       "\n",
       "   How many FEMALE students in  Grade 8 have other mental disability or learning difficulty?  \\\n",
       "0                                                NaN                                           \n",
       "1                                                NaN                                           \n",
       "2                                                NaN                                           \n",
       "3                                                NaN                                           \n",
       "4                                                NaN                                           \n",
       "\n",
       "   How many FEMALE students in  Grade 9 have other mental disability or learning difficulty?  \\\n",
       "0                                                NaN                                           \n",
       "1                                                NaN                                           \n",
       "2                                                NaN                                           \n",
       "3                                                NaN                                           \n",
       "4                                                NaN                                           \n",
       "\n",
       "   How many MALE students in  Grade 9 have other mental disability or learning difficulty?  \\\n",
       "0                                                NaN                                         \n",
       "1                                                NaN                                         \n",
       "2                                                NaN                                         \n",
       "3                                                NaN                                         \n",
       "4                                                NaN                                         \n",
       "\n",
       "  district          count  \n",
       "0   County      Rivercess  \n",
       "1   County          Nimba  \n",
       "2   County      River Gee  \n",
       "3   County  Montserrado 1  \n",
       "4   County  Montserrado 1  "
      ]
     },
     "execution_count": 1638,
     "metadata": {},
     "output_type": "execute_result"
    }
   ],
   "source": [
    "kece_meltdd =kece_cdd.melt(id_vars=['How many MALE students in Grade 7 are Visually impaired ?',\n",
    "       'How many FEMALE students in Grade 7 are Visually impaired?',\n",
    "       'How many MALE students in Grade 8 are Visually impaired ?',\n",
    "       'How many FEMALE students in Grade 8 are Visually impaired?',\n",
    "       'How many MALE students in Grade 9 are Visually impaired ?',\n",
    "       'How many FEMALE students in Grade 9 are Visually impaired?',\n",
    "       'How many MALE students in  Grade 7 have hearing impairment?',\n",
    "       'How many FEMALE students in Grade 7 have hearing impairment?',\n",
    "       'How many MALE students in  Grade 8 have hearing impairment?',\n",
    "       'How many FEMALE students in Grade 8 have hearing impairment?',\n",
    "       'How many MALE students in  Grade 9 have hearing impairment?',\n",
    "       'How many FEMALE students in Grade 9 have hearing impairment?',\n",
    "       'How many MALE students in  Grade 7 have other physical disabilities?',\n",
    "       'How many FEMALE students in  Grade 7 have other physical disabilities?',\n",
    "       'How many MALE students in  Grade 8 have other physical disabilities?',\n",
    "       'How many FEMALE students in  Grade 8 have other physical disabilities?',\n",
    "       'How many MALE students in  Grade 9 have other physical disabilities?',\n",
    "       'How many FEMALE students in  Grade 9 have other physical disabilities?',\n",
    "       'How many MALE students in  Grade 7 have other mental disability or learning difficulty?',\n",
    "       'How many FEMALE students in  Grade 7 have other mental disability or learning difficulty?',\n",
    "       'How many MALE students in  Grade 8 have other mental disability or learning difficulty?',\n",
    "       'How many FEMALE students in  Grade 8 have other mental disability or learning difficulty?',\n",
    "       'How many FEMALE students in  Grade 9 have other mental disability or learning difficulty?',\n",
    "       'How many MALE students in  Grade 9 have other mental disability or learning difficulty?'],var_name = 'district',value_name='count')\n",
    "kece_meltdd.head()"
   ]
  },
  {
   "cell_type": "code",
   "execution_count": null,
   "id": "978d0e3e-5eab-4a20-b868-5d16913252e4",
   "metadata": {},
   "outputs": [],
   "source": []
  },
  {
   "cell_type": "markdown",
   "id": "f7f7a0b0-23c0-4d58-b9a4-7bd497b5d08e",
   "metadata": {},
   "source": [
    "## Districts in Bomi County"
   ]
  },
  {
   "cell_type": "code",
   "execution_count": 1661,
   "id": "0a2453bd-c872-478b-bd37-b48b45ad7d50",
   "metadata": {},
   "outputs": [],
   "source": [
    "k_dd = kece_meltdd[(kece_meltdd['district']== 'District in Bomi') & (kece_meltdd['count']== 'Senji')]\n",
    "k_dd = kece_meltdd[(kece_meltdd['district']== 'District in Bomi') & (kece_meltdd['count']== 'Dewoin')]\n",
    "k_dd = kece_meltdd[(kece_meltdd['district']== 'District in Bomi') & (kece_meltdd['count']== 'Klay')]\n",
    "k_dd = kece_meltdd[(kece_meltdd['district']== 'District in Bomi') & (kece_meltdd['count']== 'Suehn-Mecca')]\n",
    "#k_dd.sum(1).sum()"
   ]
  },
  {
   "cell_type": "code",
   "execution_count": 1662,
   "id": "86324303-ffd5-4cc4-8ce1-db375d9a7645",
   "metadata": {},
   "outputs": [
    {
     "data": {
      "text/plain": [
       "0.0"
      ]
     },
     "execution_count": 1662,
     "metadata": {},
     "output_type": "execute_result"
    }
   ],
   "source": [
    "k_dd.iloc[:,:6].sum().sum()"
   ]
  },
  {
   "cell_type": "code",
   "execution_count": 1663,
   "id": "245cad4b-0d66-4656-992d-83257562dc96",
   "metadata": {},
   "outputs": [
    {
     "data": {
      "text/plain": [
       "0.0"
      ]
     },
     "execution_count": 1663,
     "metadata": {},
     "output_type": "execute_result"
    }
   ],
   "source": [
    "k_dd.iloc[:,6:12].sum().sum()"
   ]
  },
  {
   "cell_type": "code",
   "execution_count": 1664,
   "id": "6cfb3956-d5b4-46a6-a6d9-02b28562c1bc",
   "metadata": {},
   "outputs": [
    {
     "data": {
      "text/plain": [
       "0.0"
      ]
     },
     "execution_count": 1664,
     "metadata": {},
     "output_type": "execute_result"
    }
   ],
   "source": [
    "k_dd.iloc[:,12:18].sum().sum()"
   ]
  },
  {
   "cell_type": "code",
   "execution_count": 1665,
   "id": "382ae9b5-fe1b-4b3d-a2b0-ef497a38b7dd",
   "metadata": {},
   "outputs": [
    {
     "data": {
      "text/plain": [
       "0.0"
      ]
     },
     "execution_count": 1665,
     "metadata": {},
     "output_type": "execute_result"
    }
   ],
   "source": [
    "k_dd.iloc[:,18:24].sum().sum()"
   ]
  },
  {
   "cell_type": "markdown",
   "id": "04dd83a0-8c2a-415a-8513-966a2217f06e",
   "metadata": {},
   "source": [
    "## Districts in Bong County"
   ]
  },
  {
   "cell_type": "code",
   "execution_count": 1706,
   "id": "36fe015f-5e12-4c0a-8e0f-2db225bf7197",
   "metadata": {},
   "outputs": [],
   "source": [
    "k_dd = kece_meltdd[(kece_meltdd['district']== 'District in Bong County') & (kece_meltdd['count']== 'Gbarnga 1')]\n",
    "k_dd = kece_meltdd[(kece_meltdd['district']== 'District in Bong County') & (kece_meltdd['count']== 'Gbarnga 2')]\n",
    "k_dd = kece_meltdd[(kece_meltdd['district']== 'District in Bong County') & (kece_meltdd['count']== 'Zota')]\n",
    "k_dd = kece_meltdd[(kece_meltdd['district']== 'District in Bong County') & (kece_meltdd['count']== 'Salala')]\n",
    "k_dd = kece_meltdd[(kece_meltdd['district']== 'District in Bong County') & (kece_meltdd['count']== 'Fuamah')]\n",
    "k_dd = kece_meltdd[(kece_meltdd['district']== 'District in Bong County') & (kece_meltdd['count']== 'Suakoko')]\n",
    "k_dd = kece_meltdd[(kece_meltdd['district']== 'District in Bong County') & (kece_meltdd['count']== 'Sanoyea')]\n",
    "k_dd = kece_meltdd[(kece_meltdd['district']== 'District in Bong County') & (kece_meltdd['count']== 'Panta-Kpaai')]\n",
    "k_dd = kece_meltdd[(kece_meltdd['district']== 'District in Bong County') & (kece_meltdd['count']== 'Kokoyah')]\n",
    "#k_dd.sum(1).sum()"
   ]
  },
  {
   "cell_type": "code",
   "execution_count": null,
   "id": "ba10d01d-8274-4b8e-9fb3-952cc0d58372",
   "metadata": {},
   "outputs": [],
   "source": []
  },
  {
   "cell_type": "code",
   "execution_count": 1707,
   "id": "efcf4a3f-baec-404f-a433-5dde807bcd13",
   "metadata": {},
   "outputs": [
    {
     "data": {
      "text/plain": [
       "8.0"
      ]
     },
     "execution_count": 1707,
     "metadata": {},
     "output_type": "execute_result"
    }
   ],
   "source": [
    "k_dd.iloc[:,:6].sum().sum()"
   ]
  },
  {
   "cell_type": "code",
   "execution_count": 1708,
   "id": "38ec5715-2bcc-4e86-b70e-d447ce7bc96d",
   "metadata": {},
   "outputs": [
    {
     "data": {
      "text/plain": [
       "0.0"
      ]
     },
     "execution_count": 1708,
     "metadata": {},
     "output_type": "execute_result"
    }
   ],
   "source": [
    "k_dd.iloc[:,6:12].sum().sum()"
   ]
  },
  {
   "cell_type": "code",
   "execution_count": 1709,
   "id": "2a79185f-728c-4eec-9d92-30409581b4b4",
   "metadata": {},
   "outputs": [
    {
     "data": {
      "text/plain": [
       "2.0"
      ]
     },
     "execution_count": 1709,
     "metadata": {},
     "output_type": "execute_result"
    }
   ],
   "source": [
    "k_dd.iloc[:,12:18].sum().sum()"
   ]
  },
  {
   "cell_type": "code",
   "execution_count": 1710,
   "id": "79151b3d-5915-49d8-b245-6d9aba21450c",
   "metadata": {},
   "outputs": [
    {
     "data": {
      "text/plain": [
       "0.0"
      ]
     },
     "execution_count": 1710,
     "metadata": {},
     "output_type": "execute_result"
    }
   ],
   "source": [
    "k_dd.iloc[:,18:24].sum().sum()"
   ]
  },
  {
   "cell_type": "code",
   "execution_count": null,
   "id": "e079dfc5-5c9e-47ed-becf-9280a03d34bb",
   "metadata": {},
   "outputs": [],
   "source": []
  },
  {
   "cell_type": "markdown",
   "id": "58550ff8-ac16-4135-a932-7e07f2332b82",
   "metadata": {},
   "source": [
    "## Districts in Gbarpolu"
   ]
  },
  {
   "cell_type": "code",
   "execution_count": 1742,
   "id": "be8e147d-c285-4c28-bf43-0b03502aa540",
   "metadata": {},
   "outputs": [],
   "source": [
    "k_dd = kece_meltdd[(kece_meltdd['district']== 'District in Gbarpolu') & (kece_meltdd['count']== 'Gorwalali')]\n",
    "k_dd = kece_meltdd[(kece_meltdd['district']== 'District in Gbarpolu') & (kece_meltdd['count']== 'Bopolu')]\n",
    "k_dd = kece_meltdd[(kece_meltdd['district']== 'District in Gbarpolu') & (kece_meltdd['count']== 'Gbarma')]\n",
    "k_dd = kece_meltdd[(kece_meltdd['district']== 'District in Gbarpolu') & (kece_meltdd['count']== 'Belle')]\n",
    "k_dd = kece_meltdd[(kece_meltdd['district']== 'District in Gbarpolu') & (kece_meltdd['count']== 'Bokomu')]\n",
    "k_dd = kece_meltdd[(kece_meltdd['district']== 'District in Gbarpolu') & (kece_meltdd['count']== 'Kongba')]\n",
    "#k_dd.sum(1).sum()"
   ]
  },
  {
   "cell_type": "code",
   "execution_count": null,
   "id": "09f0bec0-e1a1-4fae-9cf2-0e4961ce8dc0",
   "metadata": {},
   "outputs": [],
   "source": []
  },
  {
   "cell_type": "code",
   "execution_count": 1743,
   "id": "f7d428b1-a8d9-4736-b032-31355a062a24",
   "metadata": {},
   "outputs": [
    {
     "data": {
      "text/plain": [
       "0.0"
      ]
     },
     "execution_count": 1743,
     "metadata": {},
     "output_type": "execute_result"
    }
   ],
   "source": [
    "k_dd.iloc[:,:6].sum().sum()"
   ]
  },
  {
   "cell_type": "code",
   "execution_count": 1744,
   "id": "867ae054-1141-4811-a8ae-aa34f51090b7",
   "metadata": {},
   "outputs": [
    {
     "data": {
      "text/plain": [
       "0.0"
      ]
     },
     "execution_count": 1744,
     "metadata": {},
     "output_type": "execute_result"
    }
   ],
   "source": [
    "k_dd.iloc[:,6:12].sum().sum()"
   ]
  },
  {
   "cell_type": "code",
   "execution_count": 1745,
   "id": "0e8e175d-a0c1-4191-b1f1-8b601111cc32",
   "metadata": {},
   "outputs": [
    {
     "data": {
      "text/plain": [
       "0.0"
      ]
     },
     "execution_count": 1745,
     "metadata": {},
     "output_type": "execute_result"
    }
   ],
   "source": [
    "k_dd.iloc[:,12:18].sum().sum()"
   ]
  },
  {
   "cell_type": "code",
   "execution_count": 1746,
   "id": "3888c5c3-90b5-40e8-bb0d-6c30bdfbcd1f",
   "metadata": {},
   "outputs": [
    {
     "data": {
      "text/plain": [
       "0.0"
      ]
     },
     "execution_count": 1746,
     "metadata": {},
     "output_type": "execute_result"
    }
   ],
   "source": [
    "k_dd.iloc[:,18:24].sum().sum()"
   ]
  },
  {
   "cell_type": "code",
   "execution_count": null,
   "id": "fe8a5aa8-1d2b-4620-be89-5f93068ac8c7",
   "metadata": {},
   "outputs": [],
   "source": []
  },
  {
   "cell_type": "markdown",
   "id": "5bb63406-3a03-4c31-b531-7d4c38ddf70c",
   "metadata": {},
   "source": [
    "## Districts in Grand Bassa "
   ]
  },
  {
   "cell_type": "code",
   "execution_count": 1782,
   "id": "d8537d61-b15e-43ca-ac5a-84d4ee0c43e1",
   "metadata": {},
   "outputs": [],
   "source": [
    "k_dd = kece_meltdd[(kece_meltdd['district']== 'District in Grand Bassa') & (kece_meltdd['count']== 'District 5')]\n",
    "k_dd = kece_meltdd[(kece_meltdd['district']== 'District in Grand Bassa') & (kece_meltdd['count']== 'District 5B')]\n",
    "k_dd = kece_meltdd[(kece_meltdd['district']== 'District in Grand Bassa') & (kece_meltdd['count']== 'District 2')]\n",
    "k_dd = kece_meltdd[(kece_meltdd['district']== 'District in Grand Bassa') & (kece_meltdd['count']== 'District 3A')]\n",
    "k_dd = kece_meltdd[(kece_meltdd['district']== 'District in Grand Bassa') & (kece_meltdd['count']== 'District 3B')]\n",
    "k_dd = kece_meltdd[(kece_meltdd['district']== 'District in Grand Bassa') & (kece_meltdd['count']== 'District 1')]\n",
    "k_dd = kece_meltdd[(kece_meltdd['district']== 'District in Grand Bassa') & (kece_meltdd['count']== 'District 4')]\n",
    "\n",
    "#k_dd.sum(1).sum()"
   ]
  },
  {
   "cell_type": "code",
   "execution_count": null,
   "id": "0b846b32-2b5c-48a6-af96-3b65e6e843c1",
   "metadata": {},
   "outputs": [],
   "source": []
  },
  {
   "cell_type": "code",
   "execution_count": 1783,
   "id": "c76b4cd0-053a-44b1-a1ce-2bad30f07777",
   "metadata": {},
   "outputs": [
    {
     "data": {
      "text/plain": [
       "0.0"
      ]
     },
     "execution_count": 1783,
     "metadata": {},
     "output_type": "execute_result"
    }
   ],
   "source": [
    "k_dd.iloc[:,:6].sum().sum()"
   ]
  },
  {
   "cell_type": "code",
   "execution_count": 1784,
   "id": "3c230429-2bc4-40c6-a4fa-1d78f5115da9",
   "metadata": {},
   "outputs": [
    {
     "data": {
      "text/plain": [
       "0.0"
      ]
     },
     "execution_count": 1784,
     "metadata": {},
     "output_type": "execute_result"
    }
   ],
   "source": [
    "k_dd.iloc[:,6:12].sum().sum()"
   ]
  },
  {
   "cell_type": "code",
   "execution_count": 1785,
   "id": "64a8d135-eca0-4874-94db-0083b58c7779",
   "metadata": {},
   "outputs": [
    {
     "data": {
      "text/plain": [
       "0.0"
      ]
     },
     "execution_count": 1785,
     "metadata": {},
     "output_type": "execute_result"
    }
   ],
   "source": [
    "k_dd.iloc[:,12:18].sum().sum()"
   ]
  },
  {
   "cell_type": "code",
   "execution_count": 1786,
   "id": "2241c097-ce6e-432f-b020-d33cffccc52f",
   "metadata": {},
   "outputs": [
    {
     "data": {
      "text/plain": [
       "0.0"
      ]
     },
     "execution_count": 1786,
     "metadata": {},
     "output_type": "execute_result"
    }
   ],
   "source": [
    "k_dd.iloc[:,18:24].sum().sum()"
   ]
  },
  {
   "cell_type": "markdown",
   "id": "292e7889-389e-4777-b3a8-6a03426ae510",
   "metadata": {},
   "source": [
    "## Districts in Grand Cape Mount"
   ]
  },
  {
   "cell_type": "code",
   "execution_count": 1807,
   "id": "3012f294-3435-4b95-9bfe-9851586b0cc3",
   "metadata": {},
   "outputs": [],
   "source": [
    "k_dd = kece_meltdd[(kece_meltdd['district']== 'District in Grand Cape Mount') & (kece_meltdd['count']== 'Tewor')]\n",
    "k_dd = kece_meltdd[(kece_meltdd['district']== 'District in Grand Cape Mount') & (kece_meltdd['count']== 'Gola Konneh')]\n",
    "k_dd = kece_meltdd[(kece_meltdd['district']== 'District in Grand Cape Mount') & (kece_meltdd['count']== 'Porkpa')]\n",
    "k_dd = kece_meltdd[(kece_meltdd['district']== 'District in Grand Cape Mount') & (kece_meltdd['count']== 'Garwular')]\n",
    "k_dd = kece_meltdd[(kece_meltdd['district']== 'District in Grand Cape Mount') & (kece_meltdd['count']== 'Tallah Tombay')]\n",
    "#k_dd.sum(1).sum()"
   ]
  },
  {
   "cell_type": "code",
   "execution_count": null,
   "id": "24ccb8bc-3a8f-44d3-9664-119e89516bd0",
   "metadata": {},
   "outputs": [],
   "source": []
  },
  {
   "cell_type": "code",
   "execution_count": 1808,
   "id": "dd9c33ad-2969-4730-8086-cf662a3e393e",
   "metadata": {},
   "outputs": [
    {
     "data": {
      "text/plain": [
       "0.0"
      ]
     },
     "execution_count": 1808,
     "metadata": {},
     "output_type": "execute_result"
    }
   ],
   "source": [
    "k_dd.iloc[:,:6].sum().sum()"
   ]
  },
  {
   "cell_type": "code",
   "execution_count": 1809,
   "id": "253539f2-4017-4c59-8573-2f8e44cf14e7",
   "metadata": {},
   "outputs": [
    {
     "data": {
      "text/plain": [
       "0.0"
      ]
     },
     "execution_count": 1809,
     "metadata": {},
     "output_type": "execute_result"
    }
   ],
   "source": [
    "k_dd.iloc[:,6:12].sum().sum()"
   ]
  },
  {
   "cell_type": "code",
   "execution_count": 1810,
   "id": "68891be9-2442-423b-a9b3-6c838bbc5d4d",
   "metadata": {},
   "outputs": [
    {
     "data": {
      "text/plain": [
       "0.0"
      ]
     },
     "execution_count": 1810,
     "metadata": {},
     "output_type": "execute_result"
    }
   ],
   "source": [
    "k_dd.iloc[:,12:18].sum().sum()"
   ]
  },
  {
   "cell_type": "code",
   "execution_count": 1812,
   "id": "853405a8-76e5-49ac-a618-3022a80a54a2",
   "metadata": {},
   "outputs": [
    {
     "data": {
      "text/plain": [
       "0.0"
      ]
     },
     "execution_count": 1812,
     "metadata": {},
     "output_type": "execute_result"
    }
   ],
   "source": [
    "k_dd.iloc[:,18:24].sum().sum()"
   ]
  },
  {
   "cell_type": "code",
   "execution_count": null,
   "id": "8a7d53fd-bff7-4771-a9c6-0c93d7cd12ad",
   "metadata": {},
   "outputs": [],
   "source": []
  },
  {
   "cell_type": "markdown",
   "id": "e59922af-1ddd-4399-be97-517bed394c6b",
   "metadata": {},
   "source": [
    "## Districts in Grand Gedeh"
   ]
  },
  {
   "cell_type": "code",
   "execution_count": 1833,
   "id": "7c06caa6-b42d-44c8-a723-a2d9a562ddf3",
   "metadata": {},
   "outputs": [
    {
     "data": {
      "text/plain": [
       "1.0"
      ]
     },
     "execution_count": 1833,
     "metadata": {},
     "output_type": "execute_result"
    }
   ],
   "source": [
    "k_dd = kece_meltdd[(kece_meltdd['district']== 'Districts in Grand Gedeh') & (kece_meltdd['count']== 'Konobo')]\n",
    "k_dd = kece_meltdd[(kece_meltdd['district']== 'Districts in Grand Gedeh') & (kece_meltdd['count']== 'Putu')]\n",
    "k_dd = kece_meltdd[(kece_meltdd['district']== 'Districts in Grand Gedeh') & (kece_meltdd['count']== 'Gbarzon')]\n",
    "k_dd = kece_meltdd[(kece_meltdd['district']== 'Districts in Grand Gedeh') & (kece_meltdd['count']== 'Tchien')]\n",
    "k_dd = kece_meltdd[(kece_meltdd['district']== 'Districts in Grand Gedeh') & (kece_meltdd['count']== 'Cavalla')]\n",
    "#k_so\n",
    "k_dd.sum(1).sum()"
   ]
  },
  {
   "cell_type": "code",
   "execution_count": null,
   "id": "f6ee905e-1c80-4105-8144-034d027757e5",
   "metadata": {},
   "outputs": [],
   "source": []
  },
  {
   "cell_type": "code",
   "execution_count": 1834,
   "id": "8a1f8a04-44ae-4ece-a2de-5494566f4806",
   "metadata": {},
   "outputs": [
    {
     "data": {
      "text/plain": [
       "0.0"
      ]
     },
     "execution_count": 1834,
     "metadata": {},
     "output_type": "execute_result"
    }
   ],
   "source": [
    "k_dd.iloc[:,:6].sum().sum()"
   ]
  },
  {
   "cell_type": "code",
   "execution_count": 1835,
   "id": "f157cc43-9839-4495-92b2-b62a9feee973",
   "metadata": {},
   "outputs": [
    {
     "data": {
      "text/plain": [
       "0.0"
      ]
     },
     "execution_count": 1835,
     "metadata": {},
     "output_type": "execute_result"
    }
   ],
   "source": [
    "k_dd.iloc[:,6:12].sum().sum()"
   ]
  },
  {
   "cell_type": "code",
   "execution_count": 1836,
   "id": "6bfeb31d-b927-41bf-83fb-4986402ae61b",
   "metadata": {},
   "outputs": [
    {
     "data": {
      "text/plain": [
       "1.0"
      ]
     },
     "execution_count": 1836,
     "metadata": {},
     "output_type": "execute_result"
    }
   ],
   "source": [
    "k_dd.iloc[:,12:18].sum().sum()"
   ]
  },
  {
   "cell_type": "code",
   "execution_count": 1837,
   "id": "38abc8a2-0268-484a-a51d-c3f18cfe9718",
   "metadata": {},
   "outputs": [
    {
     "data": {
      "text/plain": [
       "0.0"
      ]
     },
     "execution_count": 1837,
     "metadata": {},
     "output_type": "execute_result"
    }
   ],
   "source": [
    "k_dd.iloc[:,18:24].sum().sum()"
   ]
  },
  {
   "cell_type": "markdown",
   "id": "35f7907e-d18d-4878-89c9-2b3a837e7431",
   "metadata": {},
   "source": [
    "## Districts in Grand Kru"
   ]
  },
  {
   "cell_type": "code",
   "execution_count": 1877,
   "id": "deab3f70-147b-48ec-a017-2744c9828241",
   "metadata": {},
   "outputs": [
    {
     "data": {
      "text/plain": [
       "0.0"
      ]
     },
     "execution_count": 1877,
     "metadata": {},
     "output_type": "execute_result"
    }
   ],
   "source": [
    "k_dd = kece_meltdd[(kece_meltdd['district']== 'Districts in Grand Kru') & (kece_meltdd['count']== 'Barclayville')]\n",
    "k_dd = kece_meltdd[(kece_meltdd['district']== 'Districts in Grand Kru') & (kece_meltdd['count']== 'Trehn')]\n",
    "k_dd = kece_meltdd[(kece_meltdd['district']== 'Districts in Grand Kru') & (kece_meltdd['count']== 'Buah')]\n",
    "k_dd = kece_meltdd[(kece_meltdd['district']== 'Districts in Grand Kru') & (kece_meltdd['count']== 'Grand Cess')]\n",
    "k_dd = kece_meltdd[(kece_meltdd['district']== 'Districts in Grand Kru') & (kece_meltdd['count']== 'Dorbor')]\n",
    "k_dd = kece_meltdd[(kece_meltdd['district']== 'Districts in Grand Kru') & (kece_meltdd['count']== 'Jloh')]\n",
    "k_dd = kece_meltdd[(kece_meltdd['district']== 'Districts in Grand Kru') & (kece_meltdd['count']== 'Sass Town')]\n",
    "k_dd = kece_meltdd[(kece_meltdd['district']== 'Districts in Grand Kru') & (kece_meltdd['count']== 'Wedabo')]\n",
    "\n",
    "k_dd.sum(1).sum()"
   ]
  },
  {
   "cell_type": "code",
   "execution_count": null,
   "id": "c366deec-242a-4dc8-84ca-6d82cc8b4257",
   "metadata": {},
   "outputs": [],
   "source": []
  },
  {
   "cell_type": "code",
   "execution_count": 1878,
   "id": "1d4254cb-cf5a-4668-8818-3fa2bae3a51b",
   "metadata": {},
   "outputs": [
    {
     "data": {
      "text/plain": [
       "0.0"
      ]
     },
     "execution_count": 1878,
     "metadata": {},
     "output_type": "execute_result"
    }
   ],
   "source": [
    "k_dd.iloc[:,:6].sum().sum()"
   ]
  },
  {
   "cell_type": "code",
   "execution_count": 1879,
   "id": "9df3b075-f669-4786-b3bc-b463fbee9812",
   "metadata": {},
   "outputs": [
    {
     "data": {
      "text/plain": [
       "0.0"
      ]
     },
     "execution_count": 1879,
     "metadata": {},
     "output_type": "execute_result"
    }
   ],
   "source": [
    "k_dd.iloc[:,6:12].sum().sum()"
   ]
  },
  {
   "cell_type": "code",
   "execution_count": 1890,
   "id": "89996ce0-f1de-422d-aea4-ae92ea762382",
   "metadata": {},
   "outputs": [
    {
     "data": {
      "text/plain": [
       "3.0"
      ]
     },
     "execution_count": 1890,
     "metadata": {},
     "output_type": "execute_result"
    }
   ],
   "source": [
    "k_dd.iloc[:,12:18].sum().sum()"
   ]
  },
  {
   "cell_type": "code",
   "execution_count": 1881,
   "id": "477f56ba-0df9-443e-bcbe-273e2c687fb9",
   "metadata": {},
   "outputs": [
    {
     "data": {
      "text/plain": [
       "0.0"
      ]
     },
     "execution_count": 1881,
     "metadata": {},
     "output_type": "execute_result"
    }
   ],
   "source": [
    "k_dd.iloc[:,18:24].sum().sum()"
   ]
  },
  {
   "cell_type": "markdown",
   "id": "1f0e34aa-36a1-4bd8-bd12-204948554b04",
   "metadata": {},
   "source": [
    "## Districts in Lofa"
   ]
  },
  {
   "cell_type": "code",
   "execution_count": 1955,
   "id": "a004f6c6-2449-4448-b6b3-7ff8bb2d72ac",
   "metadata": {},
   "outputs": [],
   "source": [
    "k_dd = kece_meltdd[(kece_meltdd['district']== 'District in Lofa') & (kece_meltdd['count']== 'Foya')]\n",
    "k_dd = kece_meltdd[(kece_meltdd['district']== 'District in Lofa') & (kece_meltdd['count']== 'Kolahun 1')]\n",
    "k_dd = kece_meltdd[(kece_meltdd['district']== 'District in Lofa') & (kece_meltdd['count']== 'Kolahun 2')]\n",
    "k_dd = kece_meltdd[(kece_meltdd['district']== 'District in Lofa') & (kece_meltdd['count']== 'Salayea')]\n",
    "k_dd = kece_meltdd[(kece_meltdd['district']== 'District in Lofa') & (kece_meltdd['count']== 'Vahun')]\n",
    "k_dd = kece_meltdd[(kece_meltdd['district']== 'District in Lofa') & (kece_meltdd['count']== 'Voinjama')]\n",
    "k_dd = kece_meltdd[(kece_meltdd['district']== 'District in Lofa') & (kece_meltdd['count']== 'Zorzor')]\n",
    "\n",
    "#k_dd.sum(1).sum()"
   ]
  },
  {
   "cell_type": "code",
   "execution_count": 1956,
   "id": "1a1c7e3b-1c4f-440e-af5c-b845921a828d",
   "metadata": {},
   "outputs": [
    {
     "data": {
      "text/plain": [
       "1.0"
      ]
     },
     "execution_count": 1956,
     "metadata": {},
     "output_type": "execute_result"
    }
   ],
   "source": [
    "k_dd.iloc[:,:6].sum().sum()"
   ]
  },
  {
   "cell_type": "code",
   "execution_count": 1957,
   "id": "2f3c0ed6-819c-46c8-a70a-4cdabc4515c7",
   "metadata": {},
   "outputs": [
    {
     "data": {
      "text/plain": [
       "0.0"
      ]
     },
     "execution_count": 1957,
     "metadata": {},
     "output_type": "execute_result"
    }
   ],
   "source": [
    "k_dd.iloc[:,6:12].sum().sum()"
   ]
  },
  {
   "cell_type": "code",
   "execution_count": 1958,
   "id": "5381f14d-a1fe-4a89-8e30-e75f423e163f",
   "metadata": {},
   "outputs": [
    {
     "data": {
      "text/plain": [
       "1.0"
      ]
     },
     "execution_count": 1958,
     "metadata": {},
     "output_type": "execute_result"
    }
   ],
   "source": [
    "k_dd.iloc[:,12:18].sum().sum()"
   ]
  },
  {
   "cell_type": "code",
   "execution_count": 1959,
   "id": "3fd7bfa0-d978-46e3-8c4c-36769725e721",
   "metadata": {},
   "outputs": [
    {
     "data": {
      "text/plain": [
       "0.0"
      ]
     },
     "execution_count": 1959,
     "metadata": {},
     "output_type": "execute_result"
    }
   ],
   "source": [
    "k_dd.iloc[:,18:24].sum().sum()"
   ]
  },
  {
   "cell_type": "markdown",
   "id": "f6340709-94cb-4559-9e5a-cb69bb689678",
   "metadata": {},
   "source": [
    "## Districts in Margibi"
   ]
  },
  {
   "cell_type": "code",
   "execution_count": 1985,
   "id": "2c8efc59-9c55-436a-9a49-2b8d5bf8db23",
   "metadata": {},
   "outputs": [],
   "source": [
    "k_dd = kece_meltdd[(kece_meltdd['district']== 'District in Margibi') & (kece_meltdd['count']== 'Marshall')]\n",
    "k_dd = kece_meltdd[(kece_meltdd['district']== 'District in Margibi') & (kece_meltdd['count']== 'Farmington')]\n",
    "k_dd = kece_meltdd[(kece_meltdd['district']== 'District in Margibi') & (kece_meltdd['count']== 'Mama kaba')]\n",
    "k_dd = kece_meltdd[(kece_meltdd['district']== 'District in Margibi') & (kece_meltdd['count']== 'Gibi')]\n",
    "k_dd = kece_meltdd[(kece_meltdd['district']== 'District in Margibi') & (kece_meltdd['count']== 'Kakata 1')]\n",
    "k_dd = kece_meltdd[(kece_meltdd['district']== 'District in Margibi') & (kece_meltdd['count']== 'Kakata 2')]\n",
    "#k_dd.sum(1).sum()"
   ]
  },
  {
   "cell_type": "code",
   "execution_count": null,
   "id": "2affc308-cb7f-48f5-97d6-f3f269c05266",
   "metadata": {},
   "outputs": [],
   "source": []
  },
  {
   "cell_type": "code",
   "execution_count": 1986,
   "id": "4e407392-f684-4c1c-b390-e352681bb24b",
   "metadata": {},
   "outputs": [
    {
     "data": {
      "text/plain": [
       "2.0"
      ]
     },
     "execution_count": 1986,
     "metadata": {},
     "output_type": "execute_result"
    }
   ],
   "source": [
    "k_dd.iloc[:,:6].sum().sum()"
   ]
  },
  {
   "cell_type": "code",
   "execution_count": 1987,
   "id": "b30edd0f-1333-4587-846b-a43c453f35a1",
   "metadata": {},
   "outputs": [
    {
     "data": {
      "text/plain": [
       "1.0"
      ]
     },
     "execution_count": 1987,
     "metadata": {},
     "output_type": "execute_result"
    }
   ],
   "source": [
    "k_dd.iloc[:,6:12].sum().sum()"
   ]
  },
  {
   "cell_type": "code",
   "execution_count": 1988,
   "id": "299da816-1ab7-4543-8cc4-83680dd829ee",
   "metadata": {},
   "outputs": [
    {
     "data": {
      "text/plain": [
       "0.0"
      ]
     },
     "execution_count": 1988,
     "metadata": {},
     "output_type": "execute_result"
    }
   ],
   "source": [
    "k_dd.iloc[:,12:18].sum().sum()"
   ]
  },
  {
   "cell_type": "code",
   "execution_count": 1989,
   "id": "cf15a3fb-bb67-4ce2-8af4-5ce5a8166d30",
   "metadata": {},
   "outputs": [
    {
     "data": {
      "text/plain": [
       "0.0"
      ]
     },
     "execution_count": 1989,
     "metadata": {},
     "output_type": "execute_result"
    }
   ],
   "source": [
    "k_dd.iloc[:,18:24].sum().sum()"
   ]
  },
  {
   "cell_type": "markdown",
   "id": "92a61b29-d2e4-42f7-b29d-ca9b7921fd25",
   "metadata": {},
   "source": [
    "##### "
   ]
  },
  {
   "cell_type": "markdown",
   "id": "0e331be0-2edf-4388-ab36-b87ddfdff62f",
   "metadata": {},
   "source": [
    "## Districts in Maryland"
   ]
  },
  {
   "cell_type": "code",
   "execution_count": 2032,
   "id": "90312dfe-2b09-4045-b298-cc59a5e840db",
   "metadata": {},
   "outputs": [],
   "source": [
    "k_dd = kece_meltdd[(kece_meltdd['district']== 'District in Maryland') & (kece_meltdd['count']== 'Harper 1')]\n",
    "k_dd = kece_meltdd[(kece_meltdd['district']== 'District in Maryland') & (kece_meltdd['count']== 'Harper 2')]\n",
    "k_dd = kece_meltdd[(kece_meltdd['district']== 'District in Maryland') & (kece_meltdd['count']== 'Barrobo 1')]\n",
    "k_dd = kece_meltdd[(kece_meltdd['district']== 'District in Maryland') & (kece_meltdd['count']== 'Barrobo 2')]\n",
    "k_dd = kece_meltdd[(kece_meltdd['district']== 'District in Maryland') & (kece_meltdd['count']== 'Sodoken')]\n",
    "k_dd = kece_meltdd[(kece_meltdd['district']== 'District in Maryland') & (kece_meltdd['count']== 'Karleway 1')]\n",
    "k_dd = kece_meltdd[(kece_meltdd['district']== 'District in Maryland') & (kece_meltdd['count']== 'Karleway 2')]\n",
    "k_dd = kece_meltdd[(kece_meltdd['district']== 'District in Maryland') & (kece_meltdd['count']== 'Pleebo')]\n",
    "\n",
    "#k_dd.sum(1).sum()"
   ]
  },
  {
   "cell_type": "code",
   "execution_count": null,
   "id": "c3636d21-64dd-400a-bac5-b7a534572735",
   "metadata": {},
   "outputs": [],
   "source": []
  },
  {
   "cell_type": "code",
   "execution_count": 2033,
   "id": "89a04e79-b3c6-4c18-80d0-b19a2bf29b5c",
   "metadata": {},
   "outputs": [
    {
     "data": {
      "text/plain": [
       "0.0"
      ]
     },
     "execution_count": 2033,
     "metadata": {},
     "output_type": "execute_result"
    }
   ],
   "source": [
    "k_dd.iloc[:,:6].sum().sum()"
   ]
  },
  {
   "cell_type": "code",
   "execution_count": 2034,
   "id": "36906d2d-a306-44f6-9f3d-e36fbe0d941e",
   "metadata": {},
   "outputs": [
    {
     "data": {
      "text/plain": [
       "0.0"
      ]
     },
     "execution_count": 2034,
     "metadata": {},
     "output_type": "execute_result"
    }
   ],
   "source": [
    "k_dd.iloc[:,6:12].sum().sum()"
   ]
  },
  {
   "cell_type": "code",
   "execution_count": 2035,
   "id": "aed625b4-8e09-457b-b3c6-4424e808adb7",
   "metadata": {},
   "outputs": [
    {
     "data": {
      "text/plain": [
       "0.0"
      ]
     },
     "execution_count": 2035,
     "metadata": {},
     "output_type": "execute_result"
    }
   ],
   "source": [
    "k_dd.iloc[:,12:18].sum().sum()"
   ]
  },
  {
   "cell_type": "code",
   "execution_count": 2036,
   "id": "92c21a37-f5e6-4042-9634-8cbd46332f87",
   "metadata": {},
   "outputs": [
    {
     "data": {
      "text/plain": [
       "0.0"
      ]
     },
     "execution_count": 2036,
     "metadata": {},
     "output_type": "execute_result"
    }
   ],
   "source": [
    "k_dd.iloc[:,18:24].sum().sum()"
   ]
  },
  {
   "cell_type": "markdown",
   "id": "c48b6f59-7cc5-4c62-8fd0-6f38766b1c99",
   "metadata": {},
   "source": [
    "## Districts in Montserrado 1"
   ]
  },
  {
   "cell_type": "code",
   "execution_count": 2116,
   "id": "67886051-a286-4e8a-935d-82a89155346f",
   "metadata": {},
   "outputs": [],
   "source": [
    "k_dd = kece_meltdd[(kece_meltdd['district']== 'District in Montserrado 1') & (kece_meltdd['count']== 'Paynesville 1')]\n",
    "k_dd = kece_meltdd[(kece_meltdd['district']== 'District in Montserrado 1') & (kece_meltdd['count']== 'Paynesville 2')]\n",
    "k_dd = kece_meltdd[(kece_meltdd['district']== 'District in Montserrado 1') & (kece_meltdd['count']== 'Paynesville 3')]\n",
    "k_dd = kece_meltdd[(kece_meltdd['district']== 'District in Montserrado 1') & (kece_meltdd['count']== 'Paynesville 4')]\n",
    "k_dd = kece_meltdd[(kece_meltdd['district']== 'District in Montserrado 1') & (kece_meltdd['count']== 'Paynesville 5')]\n",
    "k_dd = kece_meltdd[(kece_meltdd['district']== 'District in Montserrado 1') & (kece_meltdd['count']== 'Paynesville 6')]\n",
    "k_dd = kece_meltdd[(kece_meltdd['district']== 'District in Montserrado 1') & (kece_meltdd['count']== 'Greater Monrovia 1A')]\n",
    "k_dd = kece_meltdd[(kece_meltdd['district']== 'District in Montserrado 1') & (kece_meltdd['count']== 'Greater Monrovia 1B')]\n",
    "k_dd = kece_meltdd[(kece_meltdd['district']== 'District in Montserrado 1') & (kece_meltdd['count']== 'Greater Monrovia 1C')]\n",
    "k_dd = kece_meltdd[(kece_meltdd['district']== 'District in Montserrado 1') & (kece_meltdd['count']== 'Greater Monrovia 1D')]\n",
    "k_dd = kece_meltdd[(kece_meltdd['district']== 'District in Montserrado 1') & (kece_meltdd['count']== 'Greater Monrovia 1E')]\n",
    "k_dd = kece_meltdd[(kece_meltdd['district']== 'District in Montserrado 1') & (kece_meltdd['count']== 'Greater Monrovia 2A')]\n",
    "k_dd = kece_meltdd[(kece_meltdd['district']== 'District in Montserrado 1') & (kece_meltdd['count']== 'Greater Monrovia 2B')]\n",
    "k_dd = kece_meltdd[(kece_meltdd['district']== 'District in Montserrado 1') & (kece_meltdd['count']== 'Greater Monrovia 2C')]\n",
    "k_dd = kece_meltdd[(kece_meltdd['district']== 'District in Montserrado 1') & (kece_meltdd['count']== 'Greater Monrovia 2D')]\n",
    "\n",
    "#k_dd.sum(1).sum()"
   ]
  },
  {
   "cell_type": "code",
   "execution_count": null,
   "id": "2177c2d2-f52f-48ac-9b23-8d99d6fb3303",
   "metadata": {},
   "outputs": [],
   "source": []
  },
  {
   "cell_type": "code",
   "execution_count": 2117,
   "id": "ab0fa91f-b475-49d0-8a3d-a61c96e69168",
   "metadata": {},
   "outputs": [
    {
     "data": {
      "text/plain": [
       "0.0"
      ]
     },
     "execution_count": 2117,
     "metadata": {},
     "output_type": "execute_result"
    }
   ],
   "source": [
    "k_dd.iloc[:,:6].sum().sum()"
   ]
  },
  {
   "cell_type": "code",
   "execution_count": 2118,
   "id": "74c44544-d3a4-4566-a8d3-a9ced7c34f06",
   "metadata": {},
   "outputs": [
    {
     "data": {
      "text/plain": [
       "8.0"
      ]
     },
     "execution_count": 2118,
     "metadata": {},
     "output_type": "execute_result"
    }
   ],
   "source": [
    "k_dd.iloc[:,6:12].sum().sum()"
   ]
  },
  {
   "cell_type": "code",
   "execution_count": 2119,
   "id": "314f02bb-4c46-4581-83bb-5c8c9a895ead",
   "metadata": {},
   "outputs": [
    {
     "data": {
      "text/plain": [
       "0.0"
      ]
     },
     "execution_count": 2119,
     "metadata": {},
     "output_type": "execute_result"
    }
   ],
   "source": [
    "k_dd.iloc[:,12:18].sum().sum()"
   ]
  },
  {
   "cell_type": "code",
   "execution_count": 2120,
   "id": "b2938ee8-b236-4fd2-8c92-acae6787755d",
   "metadata": {},
   "outputs": [
    {
     "data": {
      "text/plain": [
       "0.0"
      ]
     },
     "execution_count": 2120,
     "metadata": {},
     "output_type": "execute_result"
    }
   ],
   "source": [
    "k_dd.iloc[:,18:24].sum().sum()"
   ]
  },
  {
   "cell_type": "markdown",
   "id": "cd458cfd-6730-4977-b352-010d7cd6fa22",
   "metadata": {},
   "source": [
    "## Districts in Montserrado 2"
   ]
  },
  {
   "cell_type": "code",
   "execution_count": 2171,
   "id": "d1aef104-9be6-475d-8b82-18abb2df800a",
   "metadata": {},
   "outputs": [],
   "source": [
    "k_dd = kece_meltdd[(kece_meltdd['district']== 'District in Montserrado 2') & (kece_meltdd['count']== 'Left Bank 1A')]\n",
    "k_dd = kece_meltdd[(kece_meltdd['district']== 'District in Montserrado 2') & (kece_meltdd['count']== 'Left bank 1B')]\n",
    "k_dd = kece_meltdd[(kece_meltdd['district']== 'District in Montserrado 2') & (kece_meltdd['count']== 'Left bank  1C')]\n",
    "k_dd = kece_meltdd[(kece_meltdd['district']== 'District in Montserrado 2') & (kece_meltdd['count']== 'Left Bank 1D')]\n",
    "k_dd = kece_meltdd[(kece_meltdd['district']== 'District in Montserrado 2') & (kece_meltdd['count']== 'Left Bank 2A')]\n",
    "k_dd = kece_meltdd[(kece_meltdd['district']== 'District in Montserrado 2') & (kece_meltdd['count']== 'Left bank 2B')]\n",
    "k_dd = kece_meltdd[(kece_meltdd['district']== 'District in Montserrado 2') & (kece_meltdd['count']== 'Careysburg')]\n",
    "k_dd = kece_meltdd[(kece_meltdd['district']== 'District in Montserrado 2') & (kece_meltdd['count']== 'Todee')]\n",
    "k_dd = kece_meltdd[(kece_meltdd['district']== 'District in Montserrado 2') & (kece_meltdd['count']== 'Right Bank 1')]\n",
    "k_dd = kece_meltdd[(kece_meltdd['district']== 'District in Montserrado 2') & (kece_meltdd['count']== 'Right Bank 2')]\n",
    "k_dd = kece_meltdd[(kece_meltdd['district']== 'District in Montserrado 2') & (kece_meltdd['count']== 'Right Bank 3')]\n",
    "\n",
    "#k_dd.sum(1).sum()"
   ]
  },
  {
   "cell_type": "code",
   "execution_count": 2172,
   "id": "c3b958ea-55d9-4d93-8193-6b97dd77e93d",
   "metadata": {},
   "outputs": [
    {
     "data": {
      "text/plain": [
       "0.0"
      ]
     },
     "execution_count": 2172,
     "metadata": {},
     "output_type": "execute_result"
    }
   ],
   "source": [
    "k_dd.iloc[:,:6].sum().sum()"
   ]
  },
  {
   "cell_type": "code",
   "execution_count": 2173,
   "id": "eee31745-66f6-4f4e-b871-09d5ca5cb1bf",
   "metadata": {},
   "outputs": [
    {
     "data": {
      "text/plain": [
       "0.0"
      ]
     },
     "execution_count": 2173,
     "metadata": {},
     "output_type": "execute_result"
    }
   ],
   "source": [
    "k_dd.iloc[:,6:12].sum().sum()"
   ]
  },
  {
   "cell_type": "code",
   "execution_count": 2174,
   "id": "e820e94a-d40f-4c45-8b23-2d1a2a67e3a3",
   "metadata": {},
   "outputs": [
    {
     "data": {
      "text/plain": [
       "0.0"
      ]
     },
     "execution_count": 2174,
     "metadata": {},
     "output_type": "execute_result"
    }
   ],
   "source": [
    "k_dd.iloc[:,12:18].sum().sum()"
   ]
  },
  {
   "cell_type": "code",
   "execution_count": 2175,
   "id": "d31b1b37-c85b-4a5a-aa1a-d3cfe26ea932",
   "metadata": {},
   "outputs": [
    {
     "data": {
      "text/plain": [
       "0.0"
      ]
     },
     "execution_count": 2175,
     "metadata": {},
     "output_type": "execute_result"
    }
   ],
   "source": [
    "k_dd.iloc[:,18:24].sum().sum()"
   ]
  },
  {
   "cell_type": "markdown",
   "id": "23e2cc19-55c0-4e83-8552-43002aef9ece",
   "metadata": {},
   "source": [
    "## Districts in Nimba"
   ]
  },
  {
   "cell_type": "code",
   "execution_count": 2236,
   "id": "00f7787c-f92c-4c3d-b740-b3bc76b7de60",
   "metadata": {},
   "outputs": [],
   "source": [
    "k_dd = kece_meltdd[(kece_meltdd['district']== 'District in Nimba') & (kece_meltdd['count']== 'Tappita 1')]\n",
    "k_dd = kece_meltdd[(kece_meltdd['district']== 'District in Nimba') & (kece_meltdd['count']== 'Tappita 2')]\n",
    "k_dd = kece_meltdd[(kece_meltdd['district']== 'District in Nimba') & (kece_meltdd['count']== 'Saclepea 1')]\n",
    "k_dd = kece_meltdd[(kece_meltdd['district']== 'District in Nimba') & (kece_meltdd['count']== 'Sanniquellie Mah')]\n",
    "k_dd = kece_meltdd[(kece_meltdd['district']== 'District in Nimba') & (kece_meltdd['count']== 'Zoe-Geh')]\n",
    "k_dd = kece_meltdd[(kece_meltdd['district']== 'District in Nimba') & (kece_meltdd['count']== 'Tuwah River')]\n",
    "k_dd = kece_meltdd[(kece_meltdd['district']== 'District in Nimba') & (kece_meltdd['count']== 'Gbelay-Geh')]\n",
    "k_dd = kece_meltdd[(kece_meltdd['district']== 'District in Nimba') & (kece_meltdd['count']== 'Yarpea Mah')]\n",
    "k_dd = kece_meltdd[(kece_meltdd['district']== 'District in Nimba') & (kece_meltdd['count']== 'Yarwein Mensonoh')]\n",
    "k_dd = kece_meltdd[(kece_meltdd['district']== 'District in Nimba') & (kece_meltdd['count']== 'Buuyao')]\n",
    "k_dd = kece_meltdd[(kece_meltdd['district']== 'District in Nimba') & (kece_meltdd['count']== 'Bain-Garr 1')]\n",
    "k_dd = kece_meltdd[(kece_meltdd['district']== 'District in Nimba') & (kece_meltdd['count']== 'Bain- Garr 2')]\n",
    "\n",
    "#k_dd.sum(1).sum()"
   ]
  },
  {
   "cell_type": "code",
   "execution_count": 2237,
   "id": "6b91c8e7-aa99-41de-adea-8f065c16a781",
   "metadata": {},
   "outputs": [
    {
     "data": {
      "text/plain": [
       "2.0"
      ]
     },
     "execution_count": 2237,
     "metadata": {},
     "output_type": "execute_result"
    }
   ],
   "source": [
    "k_dd.iloc[:,:6].sum().sum()"
   ]
  },
  {
   "cell_type": "code",
   "execution_count": 2238,
   "id": "da06a5e2-770c-4883-867b-dedc3d318866",
   "metadata": {},
   "outputs": [
    {
     "data": {
      "text/plain": [
       "0.0"
      ]
     },
     "execution_count": 2238,
     "metadata": {},
     "output_type": "execute_result"
    }
   ],
   "source": [
    "k_dd.iloc[:,6:12].sum().sum()"
   ]
  },
  {
   "cell_type": "code",
   "execution_count": 2239,
   "id": "aa3bce39-ca76-4e43-a1a1-8e9299a4a162",
   "metadata": {},
   "outputs": [
    {
     "data": {
      "text/plain": [
       "1.0"
      ]
     },
     "execution_count": 2239,
     "metadata": {},
     "output_type": "execute_result"
    }
   ],
   "source": [
    "k_dd.iloc[:,12:18].sum().sum()"
   ]
  },
  {
   "cell_type": "code",
   "execution_count": 2240,
   "id": "57a4f9cb-4cff-429f-87ec-150d33de2bc3",
   "metadata": {},
   "outputs": [
    {
     "data": {
      "text/plain": [
       "0.0"
      ]
     },
     "execution_count": 2240,
     "metadata": {},
     "output_type": "execute_result"
    }
   ],
   "source": [
    "k_dd.iloc[:,18:24].sum().sum()"
   ]
  },
  {
   "cell_type": "markdown",
   "id": "763fe06f-27c8-4138-add1-08e3414293a8",
   "metadata": {},
   "source": [
    "## Districts in River Gee"
   ]
  },
  {
   "cell_type": "code",
   "execution_count": 2283,
   "id": "1e0e3712-79c7-47be-bae1-6993fc641841",
   "metadata": {},
   "outputs": [
    {
     "data": {
      "text/plain": [
       "1.0"
      ]
     },
     "execution_count": 2283,
     "metadata": {},
     "output_type": "execute_result"
    }
   ],
   "source": [
    "k_dd = kece_meltdd[(kece_meltdd['district']== 'District in River Gee') & (kece_meltdd['count']== 'Sarbo')]\n",
    "k_dd = kece_meltdd[(kece_meltdd['district']== 'District in River Gee') & (kece_meltdd['count']== 'Tienpo')]\n",
    "k_dd = kece_meltdd[(kece_meltdd['district']== 'District in River Gee') & (kece_meltdd['count']== 'Chedepo')]\n",
    "k_dd = kece_meltdd[(kece_meltdd['district']== 'District in River Gee') & (kece_meltdd['count']== 'Putupo')]\n",
    "k_dd = kece_meltdd[(kece_meltdd['district']== 'District in River Gee') & (kece_meltdd['count']== 'Gbeapo')]\n",
    "k_dd = kece_meltdd[(kece_meltdd['district']== 'District in River Gee') & (kece_meltdd['count']== 'Webbo')]\n",
    "\n",
    "k_dd.sum(1).sum()"
   ]
  },
  {
   "cell_type": "code",
   "execution_count": null,
   "id": "6ebee464-0dd8-4936-90a2-fefd350fd792",
   "metadata": {},
   "outputs": [],
   "source": []
  },
  {
   "cell_type": "code",
   "execution_count": 2284,
   "id": "cb5627b0-c73c-48eb-99c9-243a6dec0de3",
   "metadata": {},
   "outputs": [
    {
     "data": {
      "text/plain": [
       "0.0"
      ]
     },
     "execution_count": 2284,
     "metadata": {},
     "output_type": "execute_result"
    }
   ],
   "source": [
    "k_dd.iloc[:,:6].sum().sum()"
   ]
  },
  {
   "cell_type": "code",
   "execution_count": 2285,
   "id": "522740e8-750c-4e26-8514-c1f88b7eb905",
   "metadata": {},
   "outputs": [
    {
     "data": {
      "text/plain": [
       "1.0"
      ]
     },
     "execution_count": 2285,
     "metadata": {},
     "output_type": "execute_result"
    }
   ],
   "source": [
    "k_dd.iloc[:,6:12].sum().sum()"
   ]
  },
  {
   "cell_type": "code",
   "execution_count": 2286,
   "id": "c4e0bb09-8552-420a-8102-3bb7de8ac621",
   "metadata": {},
   "outputs": [
    {
     "data": {
      "text/plain": [
       "0.0"
      ]
     },
     "execution_count": 2286,
     "metadata": {},
     "output_type": "execute_result"
    }
   ],
   "source": [
    "k_dd.iloc[:,12:18].sum().sum()"
   ]
  },
  {
   "cell_type": "code",
   "execution_count": 2287,
   "id": "a584c903-e022-43ed-baef-377ca8a4679b",
   "metadata": {},
   "outputs": [
    {
     "data": {
      "text/plain": [
       "0.0"
      ]
     },
     "execution_count": 2287,
     "metadata": {},
     "output_type": "execute_result"
    }
   ],
   "source": [
    "k_dd.iloc[:,18:24].sum().sum()"
   ]
  },
  {
   "cell_type": "markdown",
   "id": "0aa6f96b-c357-4d2c-955f-13fea7a89b5a",
   "metadata": {},
   "source": [
    "## Districts in River Cess"
   ]
  },
  {
   "cell_type": "code",
   "execution_count": 2308,
   "id": "228df05f-1cee-4072-a3c2-881749f36b7c",
   "metadata": {},
   "outputs": [],
   "source": [
    "k_dd = kece_meltdd[(kece_meltdd['district']== 'Districts in River Cess') & (kece_meltdd['count']== 'Timobo')]\n",
    "k_dd = kece_meltdd[(kece_meltdd['district']== 'Districts in River Cess') & (kece_meltdd['count']== 'Central Rivercess 1')]\n",
    "k_dd = kece_meltdd[(kece_meltdd['district']== 'Districts in River Cess') & (kece_meltdd['count']== 'Central Rivercess 2')]\n",
    "k_dd = kece_meltdd[(kece_meltdd['district']== 'Districts in River Cess') & (kece_meltdd['count']== 'Morwah')]\n",
    "k_dd = kece_meltdd[(kece_meltdd['district']== 'Districts in River Cess') & (kece_meltdd['count']== 'Yarnee')]\n",
    "\n",
    "#k_dd.sum(1).sum()"
   ]
  },
  {
   "cell_type": "code",
   "execution_count": 2309,
   "id": "c5e0b3b7-0116-4cf3-9488-5b4673dfa472",
   "metadata": {},
   "outputs": [
    {
     "data": {
      "text/plain": [
       "0.0"
      ]
     },
     "execution_count": 2309,
     "metadata": {},
     "output_type": "execute_result"
    }
   ],
   "source": [
    "k_dd.iloc[:,:6].sum().sum()"
   ]
  },
  {
   "cell_type": "code",
   "execution_count": 2310,
   "id": "ad786ffc-0f16-4d15-bea6-cfe01a845306",
   "metadata": {},
   "outputs": [
    {
     "data": {
      "text/plain": [
       "110.0"
      ]
     },
     "execution_count": 2310,
     "metadata": {},
     "output_type": "execute_result"
    }
   ],
   "source": [
    "k_dd.iloc[:,6:12].sum().sum()"
   ]
  },
  {
   "cell_type": "code",
   "execution_count": 2311,
   "id": "3c95c3a9-b031-4dab-8080-34a2e314e9a1",
   "metadata": {},
   "outputs": [
    {
     "data": {
      "text/plain": [
       "0.0"
      ]
     },
     "execution_count": 2311,
     "metadata": {},
     "output_type": "execute_result"
    }
   ],
   "source": [
    "k_dd.iloc[:,12:18].sum().sum()"
   ]
  },
  {
   "cell_type": "code",
   "execution_count": 2312,
   "id": "3104fba7-931e-4c3f-a4bf-ce37a0d44e51",
   "metadata": {},
   "outputs": [
    {
     "data": {
      "text/plain": [
       "0.0"
      ]
     },
     "execution_count": 2312,
     "metadata": {},
     "output_type": "execute_result"
    }
   ],
   "source": [
    "k_dd.iloc[:,18:24].sum().sum()"
   ]
  },
  {
   "cell_type": "markdown",
   "id": "ee85dd48-33df-4ead-9bc3-d38c8d02e005",
   "metadata": {},
   "source": [
    "## Districts in Sinoe"
   ]
  },
  {
   "cell_type": "code",
   "execution_count": 2353,
   "id": "170cd233-c5ae-4260-9fd3-b9024f38c2bf",
   "metadata": {},
   "outputs": [],
   "source": [
    "k_dd = kece_meltdd[(kece_meltdd['district']== 'District in Sinoe') & (kece_meltdd['count']== 'Upper Kpanyan')]\n",
    "k_dd = kece_meltdd[(kece_meltdd['district']== 'District in Sinoe') & (kece_meltdd['count']== 'Juarzon')]\n",
    "k_dd = kece_meltdd[(kece_meltdd['district']== 'District in Sinoe') & (kece_meltdd['count']== 'Lower Kpanyan')]\n",
    "k_dd = kece_meltdd[(kece_meltdd['district']== 'District in Sinoe') & (kece_meltdd['count']== 'Butaw')]\n",
    "k_dd = kece_meltdd[(kece_meltdd['district']== 'District in Sinoe') & (kece_meltdd['count']== 'Tarjuwon')]\n",
    "k_dd = kece_meltdd[(kece_meltdd['district']== 'District in Sinoe') & (kece_meltdd['count']== 'Jeadea')]\n",
    "k_dd = kece_meltdd[(kece_meltdd['district']== 'District in Sinoe') & (kece_meltdd['count']== 'Sanquin')]\n",
    "k_dd = kece_meltdd[(kece_meltdd['district']== 'District in Sinoe') & (kece_meltdd['count']== 'Greenville')]\n",
    "k_dd = kece_meltdd[(kece_meltdd['district']== 'District in Sinoe') & (kece_meltdd['count']== 'Central Kpanyan')]\n",
    "\n",
    "#k_dd.sum(1).sum()"
   ]
  },
  {
   "cell_type": "code",
   "execution_count": null,
   "id": "cfae6bf5-9995-4992-93cc-236ec3b23b18",
   "metadata": {},
   "outputs": [],
   "source": []
  },
  {
   "cell_type": "code",
   "execution_count": 2354,
   "id": "b1e1af38-1b11-4e68-8856-93e40df90045",
   "metadata": {},
   "outputs": [
    {
     "data": {
      "text/plain": [
       "0.0"
      ]
     },
     "execution_count": 2354,
     "metadata": {},
     "output_type": "execute_result"
    }
   ],
   "source": [
    "k_dd.iloc[:,:6].sum().sum()"
   ]
  },
  {
   "cell_type": "code",
   "execution_count": 2355,
   "id": "52194192-9374-407e-bde2-469e9ba369b6",
   "metadata": {},
   "outputs": [
    {
     "data": {
      "text/plain": [
       "0.0"
      ]
     },
     "execution_count": 2355,
     "metadata": {},
     "output_type": "execute_result"
    }
   ],
   "source": [
    "k_dd.iloc[:,6:12].sum().sum()"
   ]
  },
  {
   "cell_type": "code",
   "execution_count": 2356,
   "id": "af0258cd-0ce8-466e-b211-0432e8bf587f",
   "metadata": {},
   "outputs": [
    {
     "data": {
      "text/plain": [
       "0.0"
      ]
     },
     "execution_count": 2356,
     "metadata": {},
     "output_type": "execute_result"
    }
   ],
   "source": [
    "k_dd.iloc[:,12:18].sum().sum()"
   ]
  },
  {
   "cell_type": "code",
   "execution_count": 2357,
   "id": "f0f2414e-48b3-4c88-a232-b162affb1e97",
   "metadata": {},
   "outputs": [
    {
     "data": {
      "text/plain": [
       "0.0"
      ]
     },
     "execution_count": 2357,
     "metadata": {},
     "output_type": "execute_result"
    }
   ],
   "source": [
    "k_dd.iloc[:,18:24].sum().sum()"
   ]
  },
  {
   "cell_type": "markdown",
   "id": "3263ffa2-707b-4bb8-897e-33a5234b0c90",
   "metadata": {},
   "source": [
    "# Table 14 ECE Enrollment by Age and Grade"
   ]
  },
  {
   "cell_type": "code",
   "execution_count": 2358,
   "id": "4e8be731-41bd-4e6f-a840-a837666c16eb",
   "metadata": {},
   "outputs": [
    {
     "data": {
      "text/html": [
       "<div>\n",
       "<style scoped>\n",
       "    .dataframe tbody tr th:only-of-type {\n",
       "        vertical-align: middle;\n",
       "    }\n",
       "\n",
       "    .dataframe tbody tr th {\n",
       "        vertical-align: top;\n",
       "    }\n",
       "\n",
       "    .dataframe thead th {\n",
       "        text-align: right;\n",
       "    }\n",
       "</style>\n",
       "<table border=\"1\" class=\"dataframe\">\n",
       "  <thead>\n",
       "    <tr style=\"text-align: right;\">\n",
       "      <th></th>\n",
       "      <th>How many students  below Age 12 years old in Grade 7 are MALES?</th>\n",
       "      <th>How many students below Age 12 years old in Grade 8 are MALES?</th>\n",
       "      <th>How many students below Age 12 years old in Grade 9 are MALES?</th>\n",
       "      <th>How many students below Age 12 years old in Grade 7 are FEMALES?</th>\n",
       "      <th>How many students below Age 12 years old in Grade 8 are FEMALES?</th>\n",
       "      <th>How many students below Age 12 years old in Grade 9 are FEMALES?</th>\n",
       "      <th>How many students Age 12 years old in Grade 7 are MALES?</th>\n",
       "      <th>How many students Age 12 years old in Grade 8 are MALES?</th>\n",
       "      <th>How many students Age 12 years old in Grade 9 are MALES?</th>\n",
       "      <th>How many students Age 12 years old in Grade 7 are FEMALES?</th>\n",
       "      <th>How many students Age 12 years old in Grade 8 are FEMALES?</th>\n",
       "      <th>How many students Age 12 years old in Grade 9 are FEMALES?</th>\n",
       "      <th>How many students  Age 13 years old in Grade 7 are MALES?</th>\n",
       "      <th>How many students  Age 13 years old in Grade 8 are MALES?</th>\n",
       "      <th>How many students  Age 13 years old in Grade 9 are MALES?</th>\n",
       "      <th>How many students  Age 13 years old in Grade 7 are FEMALES?</th>\n",
       "      <th>How many students  Age 13 years old in Grade 8 are FEMALES?</th>\n",
       "      <th>How many students  Age 13 years old in Grade 9 are FEMALES?</th>\n",
       "      <th>How many students Age 14 years old in Grade 7 are MALES?</th>\n",
       "      <th>How many students Age 14 years old in Grade 8 are MALES?</th>\n",
       "      <th>How many students Age 14 years old in Grade 9 are MALES?</th>\n",
       "      <th>How many students  Age 14 years old in Grade 7 are FEMALES?</th>\n",
       "      <th>How many students  Age 14 years old in Grade 8 are FEMALES?</th>\n",
       "      <th>How many students  Age 14 years old in Grade 9 are FEMALES?</th>\n",
       "      <th>How many students  Age 15 years old in Grade 7 are MALES?</th>\n",
       "      <th>How many students  Age 15 years old in Grade 8 are MALES?</th>\n",
       "      <th>How many students  Age 15 years old in Grade 9 are MALES?</th>\n",
       "      <th>How many students  age 15 Years old  in Grade 7 are FEMALES?</th>\n",
       "      <th>How many students   age 15 Years old  in Grade 8 are FEMALES?</th>\n",
       "      <th>How many students  age 15 Years old  in Grade 9 are FEMALES?</th>\n",
       "      <th>How many students age 16 Years old  in Grade 7 are MALES?</th>\n",
       "      <th>How many students age 16 Years old  in Grade 8 are MALES?</th>\n",
       "      <th>How many students age 16 Years old  in Grade 9 are MALES?</th>\n",
       "      <th>How many students  above Age 16 in Grade 7 are FEMALES?</th>\n",
       "      <th>How many students  above Age 16 in Grade 8 are FEMALES?</th>\n",
       "      <th>How many students  above Age 16 in Grade 9 are FEMALES?</th>\n",
       "      <th>How many students age 17 in Grade 7 are MALES?</th>\n",
       "      <th>How many students age 17 in Grade 9 are MALES?</th>\n",
       "      <th>How many students age 17 in Grade 8 are MALES?</th>\n",
       "      <th>How many students age 17 in Grade 7 are FEMALES?</th>\n",
       "      <th>How many students age 17 in Grade 8 are FEMALES?</th>\n",
       "      <th>How many students age 17 in Grade 9 are FEMALES?</th>\n",
       "      <th>How many students age 18 in Grade 7 are MALES?</th>\n",
       "      <th>How many students age 18 in Grade 9 are MALES?</th>\n",
       "      <th>How many students age 18 in Grade 8 are MALES?</th>\n",
       "      <th>How many students age 18 in Grade 7 are FEMALES?</th>\n",
       "      <th>How many students age 18 in Grade 8 are FEMALES?</th>\n",
       "      <th>How many students age 18 in Grade 9 are FEMALES?</th>\n",
       "      <th>How many students age 19 in Grade 7 are MALES?</th>\n",
       "      <th>How many students age 19 in Grade 8 are MALES?</th>\n",
       "      <th>How many students age 19 in Grade 9 are MALES?</th>\n",
       "      <th>How many students age 19 in Grade 7 are FEMALES?</th>\n",
       "      <th>How many students age 19 in Grade 8 are FEMALES?</th>\n",
       "      <th>How many students age 19 in Grade 9 are FEMALES?</th>\n",
       "      <th>How many students age 20 in Grade 7 are MALES?</th>\n",
       "      <th>How many students age 20 in Grade 8 are MALES?</th>\n",
       "      <th>How many students age 20 in Grade 9 are MALES?</th>\n",
       "      <th>How many students age 20 in Grade 7 are FEMALES?</th>\n",
       "      <th>How many students age 20 in Grade 8 are FEMALES?</th>\n",
       "      <th>How many students age 20 in Grade 9 are FEMALES?</th>\n",
       "      <th>How many students above age 20 in Grade 7 that are MALES?</th>\n",
       "      <th>How many students above age 20 in Grade 8 that are MALES?</th>\n",
       "      <th>How many students above age 20 in Grade 9 that are MALES?</th>\n",
       "      <th>How many students above age 20 in Grade 7 that are FEMALES?</th>\n",
       "      <th>How many students above age 20 in Grade 8 that are FEMALES?</th>\n",
       "      <th>How many students above age 20 in Grade 9 that are FEMALES?</th>\n",
       "    </tr>\n",
       "  </thead>\n",
       "  <tbody>\n",
       "    <tr>\n",
       "      <th>0</th>\n",
       "      <td>NaN</td>\n",
       "      <td>NaN</td>\n",
       "      <td>NaN</td>\n",
       "      <td>NaN</td>\n",
       "      <td>NaN</td>\n",
       "      <td>NaN</td>\n",
       "      <td>NaN</td>\n",
       "      <td>NaN</td>\n",
       "      <td>NaN</td>\n",
       "      <td>NaN</td>\n",
       "      <td>NaN</td>\n",
       "      <td>NaN</td>\n",
       "      <td>NaN</td>\n",
       "      <td>NaN</td>\n",
       "      <td>NaN</td>\n",
       "      <td>NaN</td>\n",
       "      <td>NaN</td>\n",
       "      <td>NaN</td>\n",
       "      <td>NaN</td>\n",
       "      <td>NaN</td>\n",
       "      <td>NaN</td>\n",
       "      <td>NaN</td>\n",
       "      <td>NaN</td>\n",
       "      <td>NaN</td>\n",
       "      <td>NaN</td>\n",
       "      <td>NaN</td>\n",
       "      <td>NaN</td>\n",
       "      <td>NaN</td>\n",
       "      <td>NaN</td>\n",
       "      <td>NaN</td>\n",
       "      <td>NaN</td>\n",
       "      <td>NaN</td>\n",
       "      <td>NaN</td>\n",
       "      <td>NaN</td>\n",
       "      <td>NaN</td>\n",
       "      <td>NaN</td>\n",
       "      <td>NaN</td>\n",
       "      <td>NaN</td>\n",
       "      <td>NaN</td>\n",
       "      <td>NaN</td>\n",
       "      <td>NaN</td>\n",
       "      <td>NaN</td>\n",
       "      <td>NaN</td>\n",
       "      <td>NaN</td>\n",
       "      <td>NaN</td>\n",
       "      <td>NaN</td>\n",
       "      <td>NaN</td>\n",
       "      <td>NaN</td>\n",
       "      <td>NaN</td>\n",
       "      <td>NaN</td>\n",
       "      <td>NaN</td>\n",
       "      <td>NaN</td>\n",
       "      <td>NaN</td>\n",
       "      <td>NaN</td>\n",
       "      <td>NaN</td>\n",
       "      <td>NaN</td>\n",
       "      <td>NaN</td>\n",
       "      <td>NaN</td>\n",
       "      <td>NaN</td>\n",
       "      <td>NaN</td>\n",
       "      <td>NaN</td>\n",
       "      <td>NaN</td>\n",
       "      <td>NaN</td>\n",
       "      <td>NaN</td>\n",
       "      <td>NaN</td>\n",
       "      <td>NaN</td>\n",
       "    </tr>\n",
       "    <tr>\n",
       "      <th>1</th>\n",
       "      <td>NaN</td>\n",
       "      <td>NaN</td>\n",
       "      <td>NaN</td>\n",
       "      <td>NaN</td>\n",
       "      <td>NaN</td>\n",
       "      <td>NaN</td>\n",
       "      <td>NaN</td>\n",
       "      <td>NaN</td>\n",
       "      <td>NaN</td>\n",
       "      <td>NaN</td>\n",
       "      <td>NaN</td>\n",
       "      <td>NaN</td>\n",
       "      <td>NaN</td>\n",
       "      <td>NaN</td>\n",
       "      <td>NaN</td>\n",
       "      <td>NaN</td>\n",
       "      <td>NaN</td>\n",
       "      <td>NaN</td>\n",
       "      <td>NaN</td>\n",
       "      <td>NaN</td>\n",
       "      <td>NaN</td>\n",
       "      <td>NaN</td>\n",
       "      <td>NaN</td>\n",
       "      <td>NaN</td>\n",
       "      <td>NaN</td>\n",
       "      <td>NaN</td>\n",
       "      <td>NaN</td>\n",
       "      <td>NaN</td>\n",
       "      <td>NaN</td>\n",
       "      <td>NaN</td>\n",
       "      <td>NaN</td>\n",
       "      <td>NaN</td>\n",
       "      <td>NaN</td>\n",
       "      <td>NaN</td>\n",
       "      <td>NaN</td>\n",
       "      <td>NaN</td>\n",
       "      <td>NaN</td>\n",
       "      <td>NaN</td>\n",
       "      <td>NaN</td>\n",
       "      <td>NaN</td>\n",
       "      <td>NaN</td>\n",
       "      <td>NaN</td>\n",
       "      <td>NaN</td>\n",
       "      <td>NaN</td>\n",
       "      <td>NaN</td>\n",
       "      <td>NaN</td>\n",
       "      <td>NaN</td>\n",
       "      <td>NaN</td>\n",
       "      <td>NaN</td>\n",
       "      <td>NaN</td>\n",
       "      <td>NaN</td>\n",
       "      <td>NaN</td>\n",
       "      <td>NaN</td>\n",
       "      <td>NaN</td>\n",
       "      <td>NaN</td>\n",
       "      <td>NaN</td>\n",
       "      <td>NaN</td>\n",
       "      <td>NaN</td>\n",
       "      <td>NaN</td>\n",
       "      <td>NaN</td>\n",
       "      <td>NaN</td>\n",
       "      <td>NaN</td>\n",
       "      <td>NaN</td>\n",
       "      <td>NaN</td>\n",
       "      <td>NaN</td>\n",
       "      <td>NaN</td>\n",
       "    </tr>\n",
       "    <tr>\n",
       "      <th>2</th>\n",
       "      <td>NaN</td>\n",
       "      <td>NaN</td>\n",
       "      <td>NaN</td>\n",
       "      <td>NaN</td>\n",
       "      <td>NaN</td>\n",
       "      <td>NaN</td>\n",
       "      <td>NaN</td>\n",
       "      <td>NaN</td>\n",
       "      <td>NaN</td>\n",
       "      <td>NaN</td>\n",
       "      <td>NaN</td>\n",
       "      <td>NaN</td>\n",
       "      <td>NaN</td>\n",
       "      <td>NaN</td>\n",
       "      <td>NaN</td>\n",
       "      <td>NaN</td>\n",
       "      <td>NaN</td>\n",
       "      <td>NaN</td>\n",
       "      <td>NaN</td>\n",
       "      <td>NaN</td>\n",
       "      <td>NaN</td>\n",
       "      <td>NaN</td>\n",
       "      <td>NaN</td>\n",
       "      <td>NaN</td>\n",
       "      <td>NaN</td>\n",
       "      <td>NaN</td>\n",
       "      <td>NaN</td>\n",
       "      <td>NaN</td>\n",
       "      <td>NaN</td>\n",
       "      <td>NaN</td>\n",
       "      <td>NaN</td>\n",
       "      <td>NaN</td>\n",
       "      <td>NaN</td>\n",
       "      <td>NaN</td>\n",
       "      <td>NaN</td>\n",
       "      <td>NaN</td>\n",
       "      <td>NaN</td>\n",
       "      <td>NaN</td>\n",
       "      <td>NaN</td>\n",
       "      <td>NaN</td>\n",
       "      <td>NaN</td>\n",
       "      <td>NaN</td>\n",
       "      <td>NaN</td>\n",
       "      <td>NaN</td>\n",
       "      <td>NaN</td>\n",
       "      <td>NaN</td>\n",
       "      <td>NaN</td>\n",
       "      <td>NaN</td>\n",
       "      <td>NaN</td>\n",
       "      <td>NaN</td>\n",
       "      <td>NaN</td>\n",
       "      <td>NaN</td>\n",
       "      <td>NaN</td>\n",
       "      <td>NaN</td>\n",
       "      <td>NaN</td>\n",
       "      <td>NaN</td>\n",
       "      <td>NaN</td>\n",
       "      <td>NaN</td>\n",
       "      <td>NaN</td>\n",
       "      <td>NaN</td>\n",
       "      <td>NaN</td>\n",
       "      <td>NaN</td>\n",
       "      <td>NaN</td>\n",
       "      <td>NaN</td>\n",
       "      <td>NaN</td>\n",
       "      <td>NaN</td>\n",
       "    </tr>\n",
       "    <tr>\n",
       "      <th>3</th>\n",
       "      <td>NaN</td>\n",
       "      <td>NaN</td>\n",
       "      <td>NaN</td>\n",
       "      <td>NaN</td>\n",
       "      <td>NaN</td>\n",
       "      <td>NaN</td>\n",
       "      <td>NaN</td>\n",
       "      <td>NaN</td>\n",
       "      <td>NaN</td>\n",
       "      <td>NaN</td>\n",
       "      <td>NaN</td>\n",
       "      <td>NaN</td>\n",
       "      <td>NaN</td>\n",
       "      <td>NaN</td>\n",
       "      <td>NaN</td>\n",
       "      <td>NaN</td>\n",
       "      <td>NaN</td>\n",
       "      <td>NaN</td>\n",
       "      <td>NaN</td>\n",
       "      <td>NaN</td>\n",
       "      <td>NaN</td>\n",
       "      <td>NaN</td>\n",
       "      <td>NaN</td>\n",
       "      <td>NaN</td>\n",
       "      <td>NaN</td>\n",
       "      <td>NaN</td>\n",
       "      <td>NaN</td>\n",
       "      <td>NaN</td>\n",
       "      <td>NaN</td>\n",
       "      <td>NaN</td>\n",
       "      <td>NaN</td>\n",
       "      <td>NaN</td>\n",
       "      <td>NaN</td>\n",
       "      <td>NaN</td>\n",
       "      <td>NaN</td>\n",
       "      <td>NaN</td>\n",
       "      <td>NaN</td>\n",
       "      <td>NaN</td>\n",
       "      <td>NaN</td>\n",
       "      <td>NaN</td>\n",
       "      <td>NaN</td>\n",
       "      <td>NaN</td>\n",
       "      <td>NaN</td>\n",
       "      <td>NaN</td>\n",
       "      <td>NaN</td>\n",
       "      <td>NaN</td>\n",
       "      <td>NaN</td>\n",
       "      <td>NaN</td>\n",
       "      <td>NaN</td>\n",
       "      <td>NaN</td>\n",
       "      <td>NaN</td>\n",
       "      <td>NaN</td>\n",
       "      <td>NaN</td>\n",
       "      <td>NaN</td>\n",
       "      <td>NaN</td>\n",
       "      <td>NaN</td>\n",
       "      <td>NaN</td>\n",
       "      <td>NaN</td>\n",
       "      <td>NaN</td>\n",
       "      <td>NaN</td>\n",
       "      <td>NaN</td>\n",
       "      <td>NaN</td>\n",
       "      <td>NaN</td>\n",
       "      <td>NaN</td>\n",
       "      <td>NaN</td>\n",
       "      <td>NaN</td>\n",
       "    </tr>\n",
       "    <tr>\n",
       "      <th>4</th>\n",
       "      <td>NaN</td>\n",
       "      <td>NaN</td>\n",
       "      <td>NaN</td>\n",
       "      <td>NaN</td>\n",
       "      <td>NaN</td>\n",
       "      <td>NaN</td>\n",
       "      <td>NaN</td>\n",
       "      <td>NaN</td>\n",
       "      <td>NaN</td>\n",
       "      <td>NaN</td>\n",
       "      <td>NaN</td>\n",
       "      <td>NaN</td>\n",
       "      <td>NaN</td>\n",
       "      <td>NaN</td>\n",
       "      <td>NaN</td>\n",
       "      <td>NaN</td>\n",
       "      <td>NaN</td>\n",
       "      <td>NaN</td>\n",
       "      <td>NaN</td>\n",
       "      <td>NaN</td>\n",
       "      <td>NaN</td>\n",
       "      <td>NaN</td>\n",
       "      <td>NaN</td>\n",
       "      <td>NaN</td>\n",
       "      <td>NaN</td>\n",
       "      <td>NaN</td>\n",
       "      <td>NaN</td>\n",
       "      <td>NaN</td>\n",
       "      <td>NaN</td>\n",
       "      <td>NaN</td>\n",
       "      <td>NaN</td>\n",
       "      <td>NaN</td>\n",
       "      <td>NaN</td>\n",
       "      <td>NaN</td>\n",
       "      <td>NaN</td>\n",
       "      <td>NaN</td>\n",
       "      <td>NaN</td>\n",
       "      <td>NaN</td>\n",
       "      <td>NaN</td>\n",
       "      <td>NaN</td>\n",
       "      <td>NaN</td>\n",
       "      <td>NaN</td>\n",
       "      <td>NaN</td>\n",
       "      <td>NaN</td>\n",
       "      <td>NaN</td>\n",
       "      <td>NaN</td>\n",
       "      <td>NaN</td>\n",
       "      <td>NaN</td>\n",
       "      <td>NaN</td>\n",
       "      <td>NaN</td>\n",
       "      <td>NaN</td>\n",
       "      <td>NaN</td>\n",
       "      <td>NaN</td>\n",
       "      <td>NaN</td>\n",
       "      <td>NaN</td>\n",
       "      <td>NaN</td>\n",
       "      <td>NaN</td>\n",
       "      <td>NaN</td>\n",
       "      <td>NaN</td>\n",
       "      <td>NaN</td>\n",
       "      <td>NaN</td>\n",
       "      <td>NaN</td>\n",
       "      <td>NaN</td>\n",
       "      <td>NaN</td>\n",
       "      <td>NaN</td>\n",
       "      <td>NaN</td>\n",
       "    </tr>\n",
       "  </tbody>\n",
       "</table>\n",
       "</div>"
      ],
      "text/plain": [
       "   How many students  below Age 12 years old in Grade 7 are MALES?  \\\n",
       "0                                                NaN                 \n",
       "1                                                NaN                 \n",
       "2                                                NaN                 \n",
       "3                                                NaN                 \n",
       "4                                                NaN                 \n",
       "\n",
       "   How many students below Age 12 years old in Grade 8 are MALES?  \\\n",
       "0                                                NaN                \n",
       "1                                                NaN                \n",
       "2                                                NaN                \n",
       "3                                                NaN                \n",
       "4                                                NaN                \n",
       "\n",
       "   How many students below Age 12 years old in Grade 9 are MALES?  \\\n",
       "0                                                NaN                \n",
       "1                                                NaN                \n",
       "2                                                NaN                \n",
       "3                                                NaN                \n",
       "4                                                NaN                \n",
       "\n",
       "   How many students below Age 12 years old in Grade 7 are FEMALES?  \\\n",
       "0                                                NaN                  \n",
       "1                                                NaN                  \n",
       "2                                                NaN                  \n",
       "3                                                NaN                  \n",
       "4                                                NaN                  \n",
       "\n",
       "   How many students below Age 12 years old in Grade 8 are FEMALES?  \\\n",
       "0                                                NaN                  \n",
       "1                                                NaN                  \n",
       "2                                                NaN                  \n",
       "3                                                NaN                  \n",
       "4                                                NaN                  \n",
       "\n",
       "   How many students below Age 12 years old in Grade 9 are FEMALES?  \\\n",
       "0                                                NaN                  \n",
       "1                                                NaN                  \n",
       "2                                                NaN                  \n",
       "3                                                NaN                  \n",
       "4                                                NaN                  \n",
       "\n",
       "   How many students Age 12 years old in Grade 7 are MALES?  \\\n",
       "0                                                NaN          \n",
       "1                                                NaN          \n",
       "2                                                NaN          \n",
       "3                                                NaN          \n",
       "4                                                NaN          \n",
       "\n",
       "   How many students Age 12 years old in Grade 8 are MALES?  \\\n",
       "0                                                NaN          \n",
       "1                                                NaN          \n",
       "2                                                NaN          \n",
       "3                                                NaN          \n",
       "4                                                NaN          \n",
       "\n",
       "   How many students Age 12 years old in Grade 9 are MALES?  \\\n",
       "0                                                NaN          \n",
       "1                                                NaN          \n",
       "2                                                NaN          \n",
       "3                                                NaN          \n",
       "4                                                NaN          \n",
       "\n",
       "   How many students Age 12 years old in Grade 7 are FEMALES?  \\\n",
       "0                                                NaN            \n",
       "1                                                NaN            \n",
       "2                                                NaN            \n",
       "3                                                NaN            \n",
       "4                                                NaN            \n",
       "\n",
       "   How many students Age 12 years old in Grade 8 are FEMALES?  \\\n",
       "0                                                NaN            \n",
       "1                                                NaN            \n",
       "2                                                NaN            \n",
       "3                                                NaN            \n",
       "4                                                NaN            \n",
       "\n",
       "   How many students Age 12 years old in Grade 9 are FEMALES?  \\\n",
       "0                                                NaN            \n",
       "1                                                NaN            \n",
       "2                                                NaN            \n",
       "3                                                NaN            \n",
       "4                                                NaN            \n",
       "\n",
       "   How many students  Age 13 years old in Grade 7 are MALES?  \\\n",
       "0                                                NaN           \n",
       "1                                                NaN           \n",
       "2                                                NaN           \n",
       "3                                                NaN           \n",
       "4                                                NaN           \n",
       "\n",
       "   How many students  Age 13 years old in Grade 8 are MALES?  \\\n",
       "0                                                NaN           \n",
       "1                                                NaN           \n",
       "2                                                NaN           \n",
       "3                                                NaN           \n",
       "4                                                NaN           \n",
       "\n",
       "   How many students  Age 13 years old in Grade 9 are MALES?  \\\n",
       "0                                                NaN           \n",
       "1                                                NaN           \n",
       "2                                                NaN           \n",
       "3                                                NaN           \n",
       "4                                                NaN           \n",
       "\n",
       "   How many students  Age 13 years old in Grade 7 are FEMALES?  \\\n",
       "0                                                NaN             \n",
       "1                                                NaN             \n",
       "2                                                NaN             \n",
       "3                                                NaN             \n",
       "4                                                NaN             \n",
       "\n",
       "   How many students  Age 13 years old in Grade 8 are FEMALES?  \\\n",
       "0                                                NaN             \n",
       "1                                                NaN             \n",
       "2                                                NaN             \n",
       "3                                                NaN             \n",
       "4                                                NaN             \n",
       "\n",
       "   How many students  Age 13 years old in Grade 9 are FEMALES?  \\\n",
       "0                                                NaN             \n",
       "1                                                NaN             \n",
       "2                                                NaN             \n",
       "3                                                NaN             \n",
       "4                                                NaN             \n",
       "\n",
       "   How many students Age 14 years old in Grade 7 are MALES?  \\\n",
       "0                                                NaN          \n",
       "1                                                NaN          \n",
       "2                                                NaN          \n",
       "3                                                NaN          \n",
       "4                                                NaN          \n",
       "\n",
       "   How many students Age 14 years old in Grade 8 are MALES?  \\\n",
       "0                                                NaN          \n",
       "1                                                NaN          \n",
       "2                                                NaN          \n",
       "3                                                NaN          \n",
       "4                                                NaN          \n",
       "\n",
       "   How many students Age 14 years old in Grade 9 are MALES?  \\\n",
       "0                                                NaN          \n",
       "1                                                NaN          \n",
       "2                                                NaN          \n",
       "3                                                NaN          \n",
       "4                                                NaN          \n",
       "\n",
       "   How many students  Age 14 years old in Grade 7 are FEMALES?  \\\n",
       "0                                                NaN             \n",
       "1                                                NaN             \n",
       "2                                                NaN             \n",
       "3                                                NaN             \n",
       "4                                                NaN             \n",
       "\n",
       "   How many students  Age 14 years old in Grade 8 are FEMALES?  \\\n",
       "0                                                NaN             \n",
       "1                                                NaN             \n",
       "2                                                NaN             \n",
       "3                                                NaN             \n",
       "4                                                NaN             \n",
       "\n",
       "   How many students  Age 14 years old in Grade 9 are FEMALES?  \\\n",
       "0                                                NaN             \n",
       "1                                                NaN             \n",
       "2                                                NaN             \n",
       "3                                                NaN             \n",
       "4                                                NaN             \n",
       "\n",
       "   How many students  Age 15 years old in Grade 7 are MALES?  \\\n",
       "0                                                NaN           \n",
       "1                                                NaN           \n",
       "2                                                NaN           \n",
       "3                                                NaN           \n",
       "4                                                NaN           \n",
       "\n",
       "   How many students  Age 15 years old in Grade 8 are MALES?  \\\n",
       "0                                                NaN           \n",
       "1                                                NaN           \n",
       "2                                                NaN           \n",
       "3                                                NaN           \n",
       "4                                                NaN           \n",
       "\n",
       "   How many students  Age 15 years old in Grade 9 are MALES?  \\\n",
       "0                                                NaN           \n",
       "1                                                NaN           \n",
       "2                                                NaN           \n",
       "3                                                NaN           \n",
       "4                                                NaN           \n",
       "\n",
       "   How many students  age 15 Years old  in Grade 7 are FEMALES?  \\\n",
       "0                                                NaN              \n",
       "1                                                NaN              \n",
       "2                                                NaN              \n",
       "3                                                NaN              \n",
       "4                                                NaN              \n",
       "\n",
       "   How many students   age 15 Years old  in Grade 8 are FEMALES?  \\\n",
       "0                                                NaN               \n",
       "1                                                NaN               \n",
       "2                                                NaN               \n",
       "3                                                NaN               \n",
       "4                                                NaN               \n",
       "\n",
       "   How many students  age 15 Years old  in Grade 9 are FEMALES?  \\\n",
       "0                                                NaN              \n",
       "1                                                NaN              \n",
       "2                                                NaN              \n",
       "3                                                NaN              \n",
       "4                                                NaN              \n",
       "\n",
       "   How many students age 16 Years old  in Grade 7 are MALES?  \\\n",
       "0                                                NaN           \n",
       "1                                                NaN           \n",
       "2                                                NaN           \n",
       "3                                                NaN           \n",
       "4                                                NaN           \n",
       "\n",
       "   How many students age 16 Years old  in Grade 8 are MALES?  \\\n",
       "0                                                NaN           \n",
       "1                                                NaN           \n",
       "2                                                NaN           \n",
       "3                                                NaN           \n",
       "4                                                NaN           \n",
       "\n",
       "   How many students age 16 Years old  in Grade 9 are MALES?  \\\n",
       "0                                                NaN           \n",
       "1                                                NaN           \n",
       "2                                                NaN           \n",
       "3                                                NaN           \n",
       "4                                                NaN           \n",
       "\n",
       "   How many students  above Age 16 in Grade 7 are FEMALES?  \\\n",
       "0                                                NaN         \n",
       "1                                                NaN         \n",
       "2                                                NaN         \n",
       "3                                                NaN         \n",
       "4                                                NaN         \n",
       "\n",
       "   How many students  above Age 16 in Grade 8 are FEMALES?  \\\n",
       "0                                                NaN         \n",
       "1                                                NaN         \n",
       "2                                                NaN         \n",
       "3                                                NaN         \n",
       "4                                                NaN         \n",
       "\n",
       "   How many students  above Age 16 in Grade 9 are FEMALES?  \\\n",
       "0                                                NaN         \n",
       "1                                                NaN         \n",
       "2                                                NaN         \n",
       "3                                                NaN         \n",
       "4                                                NaN         \n",
       "\n",
       "   How many students age 17 in Grade 7 are MALES?  \\\n",
       "0                                             NaN   \n",
       "1                                             NaN   \n",
       "2                                             NaN   \n",
       "3                                             NaN   \n",
       "4                                             NaN   \n",
       "\n",
       "   How many students age 17 in Grade 9 are MALES?  \\\n",
       "0                                             NaN   \n",
       "1                                             NaN   \n",
       "2                                             NaN   \n",
       "3                                             NaN   \n",
       "4                                             NaN   \n",
       "\n",
       "   How many students age 17 in Grade 8 are MALES?  \\\n",
       "0                                             NaN   \n",
       "1                                             NaN   \n",
       "2                                             NaN   \n",
       "3                                             NaN   \n",
       "4                                             NaN   \n",
       "\n",
       "   How many students age 17 in Grade 7 are FEMALES?  \\\n",
       "0                                               NaN   \n",
       "1                                               NaN   \n",
       "2                                               NaN   \n",
       "3                                               NaN   \n",
       "4                                               NaN   \n",
       "\n",
       "   How many students age 17 in Grade 8 are FEMALES?  \\\n",
       "0                                               NaN   \n",
       "1                                               NaN   \n",
       "2                                               NaN   \n",
       "3                                               NaN   \n",
       "4                                               NaN   \n",
       "\n",
       "   How many students age 17 in Grade 9 are FEMALES?  \\\n",
       "0                                               NaN   \n",
       "1                                               NaN   \n",
       "2                                               NaN   \n",
       "3                                               NaN   \n",
       "4                                               NaN   \n",
       "\n",
       "   How many students age 18 in Grade 7 are MALES?  \\\n",
       "0                                             NaN   \n",
       "1                                             NaN   \n",
       "2                                             NaN   \n",
       "3                                             NaN   \n",
       "4                                             NaN   \n",
       "\n",
       "   How many students age 18 in Grade 9 are MALES?  \\\n",
       "0                                             NaN   \n",
       "1                                             NaN   \n",
       "2                                             NaN   \n",
       "3                                             NaN   \n",
       "4                                             NaN   \n",
       "\n",
       "   How many students age 18 in Grade 8 are MALES?  \\\n",
       "0                                             NaN   \n",
       "1                                             NaN   \n",
       "2                                             NaN   \n",
       "3                                             NaN   \n",
       "4                                             NaN   \n",
       "\n",
       "   How many students age 18 in Grade 7 are FEMALES?  \\\n",
       "0                                               NaN   \n",
       "1                                               NaN   \n",
       "2                                               NaN   \n",
       "3                                               NaN   \n",
       "4                                               NaN   \n",
       "\n",
       "   How many students age 18 in Grade 8 are FEMALES?  \\\n",
       "0                                               NaN   \n",
       "1                                               NaN   \n",
       "2                                               NaN   \n",
       "3                                               NaN   \n",
       "4                                               NaN   \n",
       "\n",
       "   How many students age 18 in Grade 9 are FEMALES?  \\\n",
       "0                                               NaN   \n",
       "1                                               NaN   \n",
       "2                                               NaN   \n",
       "3                                               NaN   \n",
       "4                                               NaN   \n",
       "\n",
       "   How many students age 19 in Grade 7 are MALES?  \\\n",
       "0                                             NaN   \n",
       "1                                             NaN   \n",
       "2                                             NaN   \n",
       "3                                             NaN   \n",
       "4                                             NaN   \n",
       "\n",
       "   How many students age 19 in Grade 8 are MALES?  \\\n",
       "0                                             NaN   \n",
       "1                                             NaN   \n",
       "2                                             NaN   \n",
       "3                                             NaN   \n",
       "4                                             NaN   \n",
       "\n",
       "   How many students age 19 in Grade 9 are MALES?  \\\n",
       "0                                             NaN   \n",
       "1                                             NaN   \n",
       "2                                             NaN   \n",
       "3                                             NaN   \n",
       "4                                             NaN   \n",
       "\n",
       "   How many students age 19 in Grade 7 are FEMALES?  \\\n",
       "0                                               NaN   \n",
       "1                                               NaN   \n",
       "2                                               NaN   \n",
       "3                                               NaN   \n",
       "4                                               NaN   \n",
       "\n",
       "   How many students age 19 in Grade 8 are FEMALES?  \\\n",
       "0                                               NaN   \n",
       "1                                               NaN   \n",
       "2                                               NaN   \n",
       "3                                               NaN   \n",
       "4                                               NaN   \n",
       "\n",
       "   How many students age 19 in Grade 9 are FEMALES?  \\\n",
       "0                                               NaN   \n",
       "1                                               NaN   \n",
       "2                                               NaN   \n",
       "3                                               NaN   \n",
       "4                                               NaN   \n",
       "\n",
       "   How many students age 20 in Grade 7 are MALES?  \\\n",
       "0                                             NaN   \n",
       "1                                             NaN   \n",
       "2                                             NaN   \n",
       "3                                             NaN   \n",
       "4                                             NaN   \n",
       "\n",
       "   How many students age 20 in Grade 8 are MALES?  \\\n",
       "0                                             NaN   \n",
       "1                                             NaN   \n",
       "2                                             NaN   \n",
       "3                                             NaN   \n",
       "4                                             NaN   \n",
       "\n",
       "   How many students age 20 in Grade 9 are MALES?  \\\n",
       "0                                             NaN   \n",
       "1                                             NaN   \n",
       "2                                             NaN   \n",
       "3                                             NaN   \n",
       "4                                             NaN   \n",
       "\n",
       "   How many students age 20 in Grade 7 are FEMALES?  \\\n",
       "0                                               NaN   \n",
       "1                                               NaN   \n",
       "2                                               NaN   \n",
       "3                                               NaN   \n",
       "4                                               NaN   \n",
       "\n",
       "   How many students age 20 in Grade 8 are FEMALES?  \\\n",
       "0                                               NaN   \n",
       "1                                               NaN   \n",
       "2                                               NaN   \n",
       "3                                               NaN   \n",
       "4                                               NaN   \n",
       "\n",
       "   How many students age 20 in Grade 9 are FEMALES?  \\\n",
       "0                                               NaN   \n",
       "1                                               NaN   \n",
       "2                                               NaN   \n",
       "3                                               NaN   \n",
       "4                                               NaN   \n",
       "\n",
       "   How many students above age 20 in Grade 7 that are MALES?  \\\n",
       "0                                                NaN           \n",
       "1                                                NaN           \n",
       "2                                                NaN           \n",
       "3                                                NaN           \n",
       "4                                                NaN           \n",
       "\n",
       "   How many students above age 20 in Grade 8 that are MALES?  \\\n",
       "0                                                NaN           \n",
       "1                                                NaN           \n",
       "2                                                NaN           \n",
       "3                                                NaN           \n",
       "4                                                NaN           \n",
       "\n",
       "   How many students above age 20 in Grade 9 that are MALES?  \\\n",
       "0                                                NaN           \n",
       "1                                                NaN           \n",
       "2                                                NaN           \n",
       "3                                                NaN           \n",
       "4                                                NaN           \n",
       "\n",
       "   How many students above age 20 in Grade 7 that are FEMALES?  \\\n",
       "0                                                NaN             \n",
       "1                                                NaN             \n",
       "2                                                NaN             \n",
       "3                                                NaN             \n",
       "4                                                NaN             \n",
       "\n",
       "   How many students above age 20 in Grade 8 that are FEMALES?  \\\n",
       "0                                                NaN             \n",
       "1                                                NaN             \n",
       "2                                                NaN             \n",
       "3                                                NaN             \n",
       "4                                                NaN             \n",
       "\n",
       "   How many students above age 20 in Grade 9 that are FEMALES?  \n",
       "0                                                NaN            \n",
       "1                                                NaN            \n",
       "2                                                NaN            \n",
       "3                                                NaN            \n",
       "4                                                NaN            "
      ]
     },
     "execution_count": 2358,
     "metadata": {},
     "output_type": "execute_result"
    }
   ],
   "source": [
    "kece_s.head()"
   ]
  },
  {
   "cell_type": "code",
   "execution_count": 2380,
   "id": "0258f0bd-fe17-4f13-a801-7f470a3b5eb2",
   "metadata": {},
   "outputs": [
    {
     "data": {
      "text/plain": [
       "How many students  below Age 12 years old in Grade 7 are MALES?      936.0\n",
       "How many students below Age 12 years old in Grade 7 are FEMALES?    1657.0\n",
       "How many students Age 12 years old in Grade 7 are MALES?            1642.0\n",
       "How many students Age 12 years old in Grade 7 are FEMALES?          1829.0\n",
       "How many students  Age 13 years old in Grade 7 are MALES?           2444.0\n",
       "How many students  Age 13 years old in Grade 7 are FEMALES?         2295.0\n",
       "How many students Age 14 years old in Grade 7 are MALES?            3254.0\n",
       "How many students  Age 14 years old in Grade 7 are FEMALES?         3058.0\n",
       "How many students  Age 15 years old in Grade 7 are MALES?           3638.0\n",
       "How many students  age 15 Years old  in Grade 7 are FEMALES?        3000.0\n",
       "How many students age 16 Years old  in Grade 7 are MALES?           3033.0\n",
       "How many students  above Age 16 in Grade 7 are FEMALES?             2624.0\n",
       "How many students age 17 in Grade 7 are MALES?                      2426.0\n",
       "How many students age 17 in Grade 7 are FEMALES?                    1989.0\n",
       "How many students age 18 in Grade 7 are MALES?                      1750.0\n",
       "How many students age 18 in Grade 7 are FEMALES?                    1480.0\n",
       "How many students age 19 in Grade 7 are MALES?                      1146.0\n",
       "How many students age 19 in Grade 7 are FEMALES?                     909.0\n",
       "How many students age 20 in Grade 7 are MALES?                       730.0\n",
       "How many students age 20 in Grade 7 are FEMALES?                     643.0\n",
       "How many students above age 20 in Grade 7 that are MALES?            665.0\n",
       "How many students above age 20 in Grade 7 that are FEMALES?          502.0\n",
       "dtype: float64"
      ]
     },
     "execution_count": 2380,
     "metadata": {},
     "output_type": "execute_result"
    }
   ],
   "source": [
    "kece_s7 = kece_s.iloc[:,::3].sum()\n",
    "kece_s7"
   ]
  },
  {
   "cell_type": "code",
   "execution_count": 2397,
   "id": "c5427c4d-4d8e-406f-9a61-9d71842e147a",
   "metadata": {},
   "outputs": [
    {
     "data": {
      "text/plain": [
       "1167.0"
      ]
     },
     "execution_count": 2397,
     "metadata": {},
     "output_type": "execute_result"
    }
   ],
   "source": [
    "kece_s7[:2].sum()\n",
    "kece_s7[2:4].sum()\n",
    "kece_s7[4:6].sum()\n",
    "kece_s7[6:8].sum()\n",
    "kece_s7[8:10].sum()\n",
    "kece_s7[10:12].sum()\n",
    "kece_s7[12:14].sum()\n",
    "kece_s7[14:16].sum()\n",
    "kece_s7[16:18].sum()\n",
    "kece_s7[18:20].sum()\n",
    "kece_s7[20:22].sum()"
   ]
  },
  {
   "cell_type": "code",
   "execution_count": 2382,
   "id": "a2968f54-c0e9-44b1-8501-dd38c8e4da43",
   "metadata": {},
   "outputs": [
    {
     "data": {
      "text/plain": [
       "How many students below Age 12 years old in Grade 8 are MALES?      1867.0\n",
       "How many students below Age 12 years old in Grade 8 are FEMALES?    1164.0\n",
       "How many students Age 12 years old in Grade 8 are MALES?             902.0\n",
       "How many students Age 12 years old in Grade 8 are FEMALES?           921.0\n",
       "How many students  Age 13 years old in Grade 8 are MALES?           1927.0\n",
       "How many students  Age 13 years old in Grade 8 are FEMALES?         1746.0\n",
       "How many students Age 14 years old in Grade 8 are MALES?            2582.0\n",
       "How many students  Age 14 years old in Grade 8 are FEMALES?         2228.0\n",
       "How many students  Age 15 years old in Grade 8 are MALES?           2860.0\n",
       "How many students   age 15 Years old  in Grade 8 are FEMALES?       2742.0\n",
       "How many students age 16 Years old  in Grade 8 are MALES?           2935.0\n",
       "How many students  above Age 16 in Grade 8 are FEMALES?             2653.0\n",
       "How many students age 17 in Grade 8 are MALES?                      2367.0\n",
       "How many students age 17 in Grade 8 are FEMALES?                    2220.0\n",
       "How many students age 18 in Grade 8 are MALES?                      1903.0\n",
       "How many students age 18 in Grade 8 are FEMALES?                    1675.0\n",
       "How many students age 19 in Grade 8 are MALES?                      1354.0\n",
       "How many students age 19 in Grade 8 are FEMALES?                    1159.0\n",
       "How many students age 20 in Grade 8 are MALES?                       811.0\n",
       "How many students age 20 in Grade 8 are FEMALES?                     782.0\n",
       "How many students above age 20 in Grade 8 that are MALES?            794.0\n",
       "How many students above age 20 in Grade 8 that are FEMALES?          774.0\n",
       "dtype: float64"
      ]
     },
     "execution_count": 2382,
     "metadata": {},
     "output_type": "execute_result"
    }
   ],
   "source": [
    "kece_s8 = pd.concat([ kece_s.iloc[:,1:37:3],kece_s.iloc[:,[38,40,44,46, 49,52,55, 58, 61, 64]]], axis = 1).sum()\n",
    "kece_s8"
   ]
  },
  {
   "cell_type": "code",
   "execution_count": 2398,
   "id": "9e887d18-e602-456c-8a5d-677b5ca589fb",
   "metadata": {},
   "outputs": [
    {
     "name": "stdout",
     "output_type": "stream",
     "text": [
      "3031.0\n",
      "1823.0\n",
      "3673.0\n",
      "4810.0\n",
      "5602.0\n",
      "5588.0\n",
      "4587.0\n",
      "3578.0\n",
      "2513.0\n",
      "1593.0\n",
      "1568.0\n"
     ]
    }
   ],
   "source": [
    "print(kece_s8[:2].sum())\n",
    "print(kece_s8[2:4].sum())\n",
    "print(kece_s8[4:6].sum())\n",
    "print(kece_s8[6:8].sum())\n",
    "print(kece_s8[8:10].sum())\n",
    "print(kece_s8[10:12].sum())\n",
    "print(kece_s8[12:14].sum())\n",
    "print(kece_s8[14:16].sum())\n",
    "print(kece_s8[16:18].sum())\n",
    "print(kece_s8[18:20].sum())\n",
    "print(kece_s8[20:22].sum())"
   ]
  },
  {
   "cell_type": "code",
   "execution_count": 2383,
   "id": "da44c890-a9ee-4d88-8793-a8a2f926cbbb",
   "metadata": {},
   "outputs": [
    {
     "data": {
      "text/plain": [
       "How many students below Age 12 years old in Grade 9 are MALES?      3919.0\n",
       "How many students below Age 12 years old in Grade 9 are FEMALES?    1027.0\n",
       "How many students Age 12 years old in Grade 9 are MALES?             422.0\n",
       "How many students Age 12 years old in Grade 9 are FEMALES?           418.0\n",
       "How many students  Age 13 years old in Grade 9 are MALES?            945.0\n",
       "How many students  Age 13 years old in Grade 9 are FEMALES?          957.0\n",
       "How many students Age 14 years old in Grade 9 are MALES?            1965.0\n",
       "How many students  Age 14 years old in Grade 9 are FEMALES?         1804.0\n",
       "How many students  Age 15 years old in Grade 9 are MALES?           2354.0\n",
       "How many students  age 15 Years old  in Grade 9 are FEMALES?        2284.0\n",
       "How many students age 16 Years old  in Grade 9 are MALES?           2653.0\n",
       "How many students  above Age 16 in Grade 9 are FEMALES?             2691.0\n",
       "How many students age 17 in Grade 9 are MALES?                      2344.0\n",
       "How many students age 17 in Grade 9 are FEMALES?                    2304.0\n",
       "How many students age 18 in Grade 9 are MALES?                      1944.0\n",
       "How many students age 18 in Grade 9 are FEMALES?                    1855.0\n",
       "How many students age 19 in Grade 9 are MALES?                      1574.0\n",
       "How many students age 19 in Grade 9 are FEMALES?                    1351.0\n",
       "How many students age 20 in Grade 9 are MALES?                      1119.0\n",
       "How many students age 20 in Grade 9 are FEMALES?                    1075.0\n",
       "How many students above age 20 in Grade 9 that are MALES?           1263.0\n",
       "How many students above age 20 in Grade 9 that are FEMALES?         1088.0\n",
       "dtype: float64"
      ]
     },
     "execution_count": 2383,
     "metadata": {},
     "output_type": "execute_result"
    }
   ],
   "source": [
    "kece_s9 = pd.concat([kece_s.iloc[:,2:37:3],kece_s.iloc[:,[37,41,43,47, 50,53,56, 59, 62, 65]]],axis = 1).sum()\n",
    "kece_s9"
   ]
  },
  {
   "cell_type": "code",
   "execution_count": 2399,
   "id": "b02eea5c-9dae-4782-8632-a1fc02fa19e7",
   "metadata": {},
   "outputs": [
    {
     "name": "stdout",
     "output_type": "stream",
     "text": [
      "4946.0\n",
      "840.0\n",
      "1902.0\n",
      "3769.0\n",
      "4638.0\n",
      "5344.0\n",
      "4648.0\n",
      "3799.0\n",
      "2925.0\n",
      "2194.0\n",
      "2351.0\n"
     ]
    }
   ],
   "source": [
    "print(kece_s9[:2].sum())\n",
    "print(kece_s9[2:4].sum())\n",
    "print(kece_s9[4:6].sum())\n",
    "print(kece_s9[6:8].sum())\n",
    "print(kece_s9[8:10].sum())\n",
    "print(kece_s9[10:12].sum())\n",
    "print(kece_s9[12:14].sum())\n",
    "print(kece_s9[14:16].sum())\n",
    "print(kece_s9[16:18].sum())\n",
    "print(kece_s9[18:20].sum())\n",
    "print(kece_s9[20:22].sum())"
   ]
  },
  {
   "cell_type": "code",
   "execution_count": null,
   "id": "fd40d4ec-d737-4809-93ac-eb02d1013983",
   "metadata": {},
   "outputs": [],
   "source": []
  },
  {
   "cell_type": "markdown",
   "id": "79df276e-7680-4767-a7e9-acf4f7f904a8",
   "metadata": {},
   "source": [
    "# Table 15 ECE Enrollment by Age, Grade and Gender"
   ]
  },
  {
   "cell_type": "code",
   "execution_count": 2404,
   "id": "cb1134ad-99e1-4660-ad84-46e83c9939bf",
   "metadata": {},
   "outputs": [
    {
     "data": {
      "text/plain": [
       "41650.0"
      ]
     },
     "execution_count": 2404,
     "metadata": {},
     "output_type": "execute_result"
    }
   ],
   "source": [
    "kece_s7.sum()"
   ]
  },
  {
   "cell_type": "code",
   "execution_count": 2406,
   "id": "d19aefb8-8c87-45b3-a21e-00d9b2f73ff8",
   "metadata": {},
   "outputs": [
    {
     "data": {
      "text/plain": [
       "How many students below Age 12 years old in Grade 8 are MALES?      1867.0\n",
       "How many students below Age 12 years old in Grade 8 are FEMALES?    1164.0\n",
       "How many students Age 12 years old in Grade 8 are MALES?             902.0\n",
       "How many students Age 12 years old in Grade 8 are FEMALES?           921.0\n",
       "How many students  Age 13 years old in Grade 8 are MALES?           1927.0\n",
       "How many students  Age 13 years old in Grade 8 are FEMALES?         1746.0\n",
       "How many students Age 14 years old in Grade 8 are MALES?            2582.0\n",
       "How many students  Age 14 years old in Grade 8 are FEMALES?         2228.0\n",
       "How many students  Age 15 years old in Grade 8 are MALES?           2860.0\n",
       "How many students   age 15 Years old  in Grade 8 are FEMALES?       2742.0\n",
       "How many students age 16 Years old  in Grade 8 are MALES?           2935.0\n",
       "How many students  above Age 16 in Grade 8 are FEMALES?             2653.0\n",
       "How many students age 17 in Grade 8 are MALES?                      2367.0\n",
       "How many students age 17 in Grade 8 are FEMALES?                    2220.0\n",
       "How many students age 18 in Grade 8 are MALES?                      1903.0\n",
       "How many students age 18 in Grade 8 are FEMALES?                    1675.0\n",
       "How many students age 19 in Grade 8 are MALES?                      1354.0\n",
       "How many students age 19 in Grade 8 are FEMALES?                    1159.0\n",
       "How many students age 20 in Grade 8 are MALES?                       811.0\n",
       "How many students age 20 in Grade 8 are FEMALES?                     782.0\n",
       "How many students above age 20 in Grade 8 that are MALES?            794.0\n",
       "How many students above age 20 in Grade 8 that are FEMALES?          774.0\n",
       "dtype: float64"
      ]
     },
     "execution_count": 2406,
     "metadata": {},
     "output_type": "execute_result"
    }
   ],
   "source": [
    "kece_s8#.sum()"
   ]
  },
  {
   "cell_type": "code",
   "execution_count": 2403,
   "id": "f95970aa-64d4-47df-ad14-29d2d60cdc74",
   "metadata": {},
   "outputs": [
    {
     "data": {
      "text/plain": [
       "How many students below Age 12 years old in Grade 9 are MALES?      3919.0\n",
       "How many students below Age 12 years old in Grade 9 are FEMALES?    1027.0\n",
       "How many students Age 12 years old in Grade 9 are MALES?             422.0\n",
       "How many students Age 12 years old in Grade 9 are FEMALES?           418.0\n",
       "How many students  Age 13 years old in Grade 9 are MALES?            945.0\n",
       "How many students  Age 13 years old in Grade 9 are FEMALES?          957.0\n",
       "How many students Age 14 years old in Grade 9 are MALES?            1965.0\n",
       "How many students  Age 14 years old in Grade 9 are FEMALES?         1804.0\n",
       "How many students  Age 15 years old in Grade 9 are MALES?           2354.0\n",
       "How many students  age 15 Years old  in Grade 9 are FEMALES?        2284.0\n",
       "How many students age 16 Years old  in Grade 9 are MALES?           2653.0\n",
       "How many students  above Age 16 in Grade 9 are FEMALES?             2691.0\n",
       "How many students age 17 in Grade 9 are MALES?                      2344.0\n",
       "How many students age 17 in Grade 9 are FEMALES?                    2304.0\n",
       "How many students age 18 in Grade 9 are MALES?                      1944.0\n",
       "How many students age 18 in Grade 9 are FEMALES?                    1855.0\n",
       "How many students age 19 in Grade 9 are MALES?                      1574.0\n",
       "How many students age 19 in Grade 9 are FEMALES?                    1351.0\n",
       "How many students age 20 in Grade 9 are MALES?                      1119.0\n",
       "How many students age 20 in Grade 9 are FEMALES?                    1075.0\n",
       "How many students above age 20 in Grade 9 that are MALES?           1263.0\n",
       "How many students above age 20 in Grade 9 that are FEMALES?         1088.0\n",
       "dtype: float64"
      ]
     },
     "execution_count": 2403,
     "metadata": {},
     "output_type": "execute_result"
    }
   ],
   "source": [
    "kece_s9"
   ]
  },
  {
   "cell_type": "code",
   "execution_count": null,
   "id": "deed16de-bc12-429b-9b4d-a2cf6baa9ecb",
   "metadata": {},
   "outputs": [],
   "source": []
  },
  {
   "cell_type": "markdown",
   "id": "55e85b82-2d35-40d6-82b8-296a1b6430ad",
   "metadata": {},
   "source": [
    "# Table 16: ECE Repeater by School Types"
   ]
  },
  {
   "cell_type": "code",
   "execution_count": 2407,
   "id": "63eb3b37-61ce-457e-8459-97e10cfaf5bb",
   "metadata": {},
   "outputs": [
    {
     "data": {
      "text/html": [
       "<div>\n",
       "<style scoped>\n",
       "    .dataframe tbody tr th:only-of-type {\n",
       "        vertical-align: middle;\n",
       "    }\n",
       "\n",
       "    .dataframe tbody tr th {\n",
       "        vertical-align: top;\n",
       "    }\n",
       "\n",
       "    .dataframe thead th {\n",
       "        text-align: right;\n",
       "    }\n",
       "</style>\n",
       "<table border=\"1\" class=\"dataframe\">\n",
       "  <thead>\n",
       "    <tr style=\"text-align: right;\">\n",
       "      <th></th>\n",
       "      <th>How many FEMALE students in Grade 7 are Repeaters?</th>\n",
       "      <th>How many MALE students in Grade 7 are Repeaters?</th>\n",
       "      <th>How many FEMALE students in Grade 8 are Repeaters?</th>\n",
       "      <th>How many MALE students in Grade 8 are Repeaters?</th>\n",
       "      <th>How many FEMALE students in Grade 9 are Repeaters?</th>\n",
       "      <th>How many MALE students in Grade 9 are Repeaters?</th>\n",
       "    </tr>\n",
       "    <tr>\n",
       "      <th>Type of school</th>\n",
       "      <th></th>\n",
       "      <th></th>\n",
       "      <th></th>\n",
       "      <th></th>\n",
       "      <th></th>\n",
       "      <th></th>\n",
       "    </tr>\n",
       "  </thead>\n",
       "  <tbody>\n",
       "    <tr>\n",
       "      <th>Community</th>\n",
       "      <td>28.0</td>\n",
       "      <td>23.0</td>\n",
       "      <td>17.0</td>\n",
       "      <td>15.0</td>\n",
       "      <td>24.0</td>\n",
       "      <td>17.0</td>\n",
       "    </tr>\n",
       "    <tr>\n",
       "      <th>Faith-based</th>\n",
       "      <td>243.0</td>\n",
       "      <td>205.0</td>\n",
       "      <td>154.0</td>\n",
       "      <td>159.0</td>\n",
       "      <td>176.0</td>\n",
       "      <td>132.0</td>\n",
       "    </tr>\n",
       "    <tr>\n",
       "      <th>Private</th>\n",
       "      <td>333.0</td>\n",
       "      <td>370.0</td>\n",
       "      <td>293.0</td>\n",
       "      <td>271.0</td>\n",
       "      <td>256.0</td>\n",
       "      <td>223.0</td>\n",
       "    </tr>\n",
       "    <tr>\n",
       "      <th>Public</th>\n",
       "      <td>731.0</td>\n",
       "      <td>825.0</td>\n",
       "      <td>590.0</td>\n",
       "      <td>661.0</td>\n",
       "      <td>452.0</td>\n",
       "      <td>541.0</td>\n",
       "    </tr>\n",
       "  </tbody>\n",
       "</table>\n",
       "</div>"
      ],
      "text/plain": [
       "                How many FEMALE students in Grade 7 are Repeaters?  \\\n",
       "Type of school                                                       \n",
       "Community                                                    28.0    \n",
       "Faith-based                                                 243.0    \n",
       "Private                                                     333.0    \n",
       "Public                                                      731.0    \n",
       "\n",
       "                How many MALE students in Grade 7 are Repeaters?  \\\n",
       "Type of school                                                     \n",
       "Community                                                   23.0   \n",
       "Faith-based                                                205.0   \n",
       "Private                                                    370.0   \n",
       "Public                                                     825.0   \n",
       "\n",
       "                How many FEMALE students in Grade 8 are Repeaters?  \\\n",
       "Type of school                                                       \n",
       "Community                                                    17.0    \n",
       "Faith-based                                                 154.0    \n",
       "Private                                                     293.0    \n",
       "Public                                                      590.0    \n",
       "\n",
       "                How many MALE students in Grade 8 are Repeaters?  \\\n",
       "Type of school                                                     \n",
       "Community                                                   15.0   \n",
       "Faith-based                                                159.0   \n",
       "Private                                                    271.0   \n",
       "Public                                                     661.0   \n",
       "\n",
       "                How many FEMALE students in Grade 9 are Repeaters?  \\\n",
       "Type of school                                                       \n",
       "Community                                                    24.0    \n",
       "Faith-based                                                 176.0    \n",
       "Private                                                     256.0    \n",
       "Public                                                      452.0    \n",
       "\n",
       "                How many MALE students in Grade 9 are Repeaters?  \n",
       "Type of school                                                    \n",
       "Community                                                   17.0  \n",
       "Faith-based                                                132.0  \n",
       "Private                                                    223.0  \n",
       "Public                                                     541.0  "
      ]
     },
     "execution_count": 2407,
     "metadata": {},
     "output_type": "execute_result"
    }
   ],
   "source": [
    "kece_r = pd.concat([kcensus.iloc[:,[2,39]],kcensus.iloc[:,409:415]], axis=1).groupby('Type of school').sum()\n",
    "kece_r\n"
   ]
  },
  {
   "cell_type": "code",
   "execution_count": null,
   "id": "fffb818d-f9cf-4baf-8d40-76543d0a9731",
   "metadata": {},
   "outputs": [],
   "source": []
  },
  {
   "cell_type": "markdown",
   "id": "a1b1dce2-6bb4-4e07-823b-56138ab0b21b",
   "metadata": {},
   "source": [
    "# Table 17: ECE Repeaters by County, Gender and Grade"
   ]
  },
  {
   "cell_type": "code",
   "execution_count": 2408,
   "id": "fc15a46a-f668-4a6b-a9ec-9a9105346bfc",
   "metadata": {},
   "outputs": [
    {
     "data": {
      "text/html": [
       "<div>\n",
       "<style scoped>\n",
       "    .dataframe tbody tr th:only-of-type {\n",
       "        vertical-align: middle;\n",
       "    }\n",
       "\n",
       "    .dataframe tbody tr th {\n",
       "        vertical-align: top;\n",
       "    }\n",
       "\n",
       "    .dataframe thead th {\n",
       "        text-align: right;\n",
       "    }\n",
       "</style>\n",
       "<table border=\"1\" class=\"dataframe\">\n",
       "  <thead>\n",
       "    <tr style=\"text-align: right;\">\n",
       "      <th></th>\n",
       "      <th>How many FEMALE students in Grade 7 are Repeaters?</th>\n",
       "      <th>How many MALE students in Grade 7 are Repeaters?</th>\n",
       "      <th>How many FEMALE students in Grade 8 are Repeaters?</th>\n",
       "      <th>How many MALE students in Grade 8 are Repeaters?</th>\n",
       "      <th>How many FEMALE students in Grade 9 are Repeaters?</th>\n",
       "      <th>How many MALE students in Grade 9 are Repeaters?</th>\n",
       "    </tr>\n",
       "    <tr>\n",
       "      <th>County</th>\n",
       "      <th></th>\n",
       "      <th></th>\n",
       "      <th></th>\n",
       "      <th></th>\n",
       "      <th></th>\n",
       "      <th></th>\n",
       "    </tr>\n",
       "  </thead>\n",
       "  <tbody>\n",
       "    <tr>\n",
       "      <th>Bomi</th>\n",
       "      <td>2.0</td>\n",
       "      <td>7.0</td>\n",
       "      <td>0.0</td>\n",
       "      <td>2.0</td>\n",
       "      <td>1.0</td>\n",
       "      <td>1.0</td>\n",
       "    </tr>\n",
       "    <tr>\n",
       "      <th>Bong</th>\n",
       "      <td>88.0</td>\n",
       "      <td>82.0</td>\n",
       "      <td>52.0</td>\n",
       "      <td>60.0</td>\n",
       "      <td>39.0</td>\n",
       "      <td>42.0</td>\n",
       "    </tr>\n",
       "    <tr>\n",
       "      <th>Gbarpolu</th>\n",
       "      <td>29.0</td>\n",
       "      <td>33.0</td>\n",
       "      <td>11.0</td>\n",
       "      <td>8.0</td>\n",
       "      <td>5.0</td>\n",
       "      <td>6.0</td>\n",
       "    </tr>\n",
       "    <tr>\n",
       "      <th>Grand Bassa</th>\n",
       "      <td>33.0</td>\n",
       "      <td>39.0</td>\n",
       "      <td>30.0</td>\n",
       "      <td>43.0</td>\n",
       "      <td>18.0</td>\n",
       "      <td>18.0</td>\n",
       "    </tr>\n",
       "    <tr>\n",
       "      <th>Grand Cape Mount</th>\n",
       "      <td>62.0</td>\n",
       "      <td>68.0</td>\n",
       "      <td>48.0</td>\n",
       "      <td>59.0</td>\n",
       "      <td>38.0</td>\n",
       "      <td>35.0</td>\n",
       "    </tr>\n",
       "    <tr>\n",
       "      <th>Grand Gedeh</th>\n",
       "      <td>126.0</td>\n",
       "      <td>176.0</td>\n",
       "      <td>157.0</td>\n",
       "      <td>187.0</td>\n",
       "      <td>117.0</td>\n",
       "      <td>181.0</td>\n",
       "    </tr>\n",
       "    <tr>\n",
       "      <th>Grand Kru</th>\n",
       "      <td>49.0</td>\n",
       "      <td>53.0</td>\n",
       "      <td>27.0</td>\n",
       "      <td>25.0</td>\n",
       "      <td>12.0</td>\n",
       "      <td>27.0</td>\n",
       "    </tr>\n",
       "    <tr>\n",
       "      <th>Lofa</th>\n",
       "      <td>55.0</td>\n",
       "      <td>75.0</td>\n",
       "      <td>64.0</td>\n",
       "      <td>48.0</td>\n",
       "      <td>31.0</td>\n",
       "      <td>19.0</td>\n",
       "    </tr>\n",
       "    <tr>\n",
       "      <th>Margibi</th>\n",
       "      <td>87.0</td>\n",
       "      <td>78.0</td>\n",
       "      <td>76.0</td>\n",
       "      <td>72.0</td>\n",
       "      <td>91.0</td>\n",
       "      <td>80.0</td>\n",
       "    </tr>\n",
       "    <tr>\n",
       "      <th>Maryland</th>\n",
       "      <td>28.0</td>\n",
       "      <td>48.0</td>\n",
       "      <td>34.0</td>\n",
       "      <td>33.0</td>\n",
       "      <td>27.0</td>\n",
       "      <td>16.0</td>\n",
       "    </tr>\n",
       "    <tr>\n",
       "      <th>Montserrado 1</th>\n",
       "      <td>247.0</td>\n",
       "      <td>228.0</td>\n",
       "      <td>184.0</td>\n",
       "      <td>177.0</td>\n",
       "      <td>200.0</td>\n",
       "      <td>160.0</td>\n",
       "    </tr>\n",
       "    <tr>\n",
       "      <th>Montserrado 2</th>\n",
       "      <td>203.0</td>\n",
       "      <td>210.0</td>\n",
       "      <td>165.0</td>\n",
       "      <td>146.0</td>\n",
       "      <td>155.0</td>\n",
       "      <td>127.0</td>\n",
       "    </tr>\n",
       "    <tr>\n",
       "      <th>Nimba</th>\n",
       "      <td>240.0</td>\n",
       "      <td>251.0</td>\n",
       "      <td>154.0</td>\n",
       "      <td>182.0</td>\n",
       "      <td>135.0</td>\n",
       "      <td>144.0</td>\n",
       "    </tr>\n",
       "    <tr>\n",
       "      <th>River Gee</th>\n",
       "      <td>23.0</td>\n",
       "      <td>18.0</td>\n",
       "      <td>16.0</td>\n",
       "      <td>14.0</td>\n",
       "      <td>3.0</td>\n",
       "      <td>15.0</td>\n",
       "    </tr>\n",
       "    <tr>\n",
       "      <th>Rivercess</th>\n",
       "      <td>10.0</td>\n",
       "      <td>6.0</td>\n",
       "      <td>5.0</td>\n",
       "      <td>5.0</td>\n",
       "      <td>5.0</td>\n",
       "      <td>8.0</td>\n",
       "    </tr>\n",
       "    <tr>\n",
       "      <th>Sinoe</th>\n",
       "      <td>53.0</td>\n",
       "      <td>51.0</td>\n",
       "      <td>31.0</td>\n",
       "      <td>45.0</td>\n",
       "      <td>31.0</td>\n",
       "      <td>34.0</td>\n",
       "    </tr>\n",
       "  </tbody>\n",
       "</table>\n",
       "</div>"
      ],
      "text/plain": [
       "                  How many FEMALE students in Grade 7 are Repeaters?  \\\n",
       "County                                                                 \n",
       "Bomi                                                            2.0    \n",
       "Bong                                                           88.0    \n",
       "Gbarpolu                                                       29.0    \n",
       "Grand Bassa                                                    33.0    \n",
       "Grand Cape Mount                                               62.0    \n",
       "Grand Gedeh                                                   126.0    \n",
       "Grand Kru                                                      49.0    \n",
       "Lofa                                                           55.0    \n",
       "Margibi                                                        87.0    \n",
       "Maryland                                                       28.0    \n",
       "Montserrado 1                                                 247.0    \n",
       "Montserrado 2                                                 203.0    \n",
       "Nimba                                                         240.0    \n",
       "River Gee                                                      23.0    \n",
       "Rivercess                                                      10.0    \n",
       "Sinoe                                                          53.0    \n",
       "\n",
       "                  How many MALE students in Grade 7 are Repeaters?  \\\n",
       "County                                                               \n",
       "Bomi                                                           7.0   \n",
       "Bong                                                          82.0   \n",
       "Gbarpolu                                                      33.0   \n",
       "Grand Bassa                                                   39.0   \n",
       "Grand Cape Mount                                              68.0   \n",
       "Grand Gedeh                                                  176.0   \n",
       "Grand Kru                                                     53.0   \n",
       "Lofa                                                          75.0   \n",
       "Margibi                                                       78.0   \n",
       "Maryland                                                      48.0   \n",
       "Montserrado 1                                                228.0   \n",
       "Montserrado 2                                                210.0   \n",
       "Nimba                                                        251.0   \n",
       "River Gee                                                     18.0   \n",
       "Rivercess                                                      6.0   \n",
       "Sinoe                                                         51.0   \n",
       "\n",
       "                  How many FEMALE students in Grade 8 are Repeaters?  \\\n",
       "County                                                                 \n",
       "Bomi                                                            0.0    \n",
       "Bong                                                           52.0    \n",
       "Gbarpolu                                                       11.0    \n",
       "Grand Bassa                                                    30.0    \n",
       "Grand Cape Mount                                               48.0    \n",
       "Grand Gedeh                                                   157.0    \n",
       "Grand Kru                                                      27.0    \n",
       "Lofa                                                           64.0    \n",
       "Margibi                                                        76.0    \n",
       "Maryland                                                       34.0    \n",
       "Montserrado 1                                                 184.0    \n",
       "Montserrado 2                                                 165.0    \n",
       "Nimba                                                         154.0    \n",
       "River Gee                                                      16.0    \n",
       "Rivercess                                                       5.0    \n",
       "Sinoe                                                          31.0    \n",
       "\n",
       "                  How many MALE students in Grade 8 are Repeaters?  \\\n",
       "County                                                               \n",
       "Bomi                                                           2.0   \n",
       "Bong                                                          60.0   \n",
       "Gbarpolu                                                       8.0   \n",
       "Grand Bassa                                                   43.0   \n",
       "Grand Cape Mount                                              59.0   \n",
       "Grand Gedeh                                                  187.0   \n",
       "Grand Kru                                                     25.0   \n",
       "Lofa                                                          48.0   \n",
       "Margibi                                                       72.0   \n",
       "Maryland                                                      33.0   \n",
       "Montserrado 1                                                177.0   \n",
       "Montserrado 2                                                146.0   \n",
       "Nimba                                                        182.0   \n",
       "River Gee                                                     14.0   \n",
       "Rivercess                                                      5.0   \n",
       "Sinoe                                                         45.0   \n",
       "\n",
       "                  How many FEMALE students in Grade 9 are Repeaters?  \\\n",
       "County                                                                 \n",
       "Bomi                                                            1.0    \n",
       "Bong                                                           39.0    \n",
       "Gbarpolu                                                        5.0    \n",
       "Grand Bassa                                                    18.0    \n",
       "Grand Cape Mount                                               38.0    \n",
       "Grand Gedeh                                                   117.0    \n",
       "Grand Kru                                                      12.0    \n",
       "Lofa                                                           31.0    \n",
       "Margibi                                                        91.0    \n",
       "Maryland                                                       27.0    \n",
       "Montserrado 1                                                 200.0    \n",
       "Montserrado 2                                                 155.0    \n",
       "Nimba                                                         135.0    \n",
       "River Gee                                                       3.0    \n",
       "Rivercess                                                       5.0    \n",
       "Sinoe                                                          31.0    \n",
       "\n",
       "                  How many MALE students in Grade 9 are Repeaters?  \n",
       "County                                                              \n",
       "Bomi                                                           1.0  \n",
       "Bong                                                          42.0  \n",
       "Gbarpolu                                                       6.0  \n",
       "Grand Bassa                                                   18.0  \n",
       "Grand Cape Mount                                              35.0  \n",
       "Grand Gedeh                                                  181.0  \n",
       "Grand Kru                                                     27.0  \n",
       "Lofa                                                          19.0  \n",
       "Margibi                                                       80.0  \n",
       "Maryland                                                      16.0  \n",
       "Montserrado 1                                                160.0  \n",
       "Montserrado 2                                                127.0  \n",
       "Nimba                                                        144.0  \n",
       "River Gee                                                     15.0  \n",
       "Rivercess                                                      8.0  \n",
       "Sinoe                                                         34.0  "
      ]
     },
     "execution_count": 2408,
     "metadata": {},
     "output_type": "execute_result"
    }
   ],
   "source": [
    "kece_rc = pd.concat([kcensus.iloc[:,[2,39]],kcensus.iloc[:,409:415]], axis=1).groupby('County').sum()\n",
    "kece_rc"
   ]
  },
  {
   "cell_type": "code",
   "execution_count": null,
   "id": "ad506710-da20-4567-a8f9-75d133e13fc4",
   "metadata": {},
   "outputs": [],
   "source": []
  },
  {
   "cell_type": "code",
   "execution_count": null,
   "id": "6eb7719e-4063-4425-a6a3-fb4815a5205c",
   "metadata": {},
   "outputs": [],
   "source": []
  }
 ],
 "metadata": {
  "kernelspec": {
   "display_name": "Python 3",
   "language": "python",
   "name": "python3"
  },
  "language_info": {
   "codemirror_mode": {
    "name": "ipython",
    "version": 3
   },
   "file_extension": ".py",
   "mimetype": "text/x-python",
   "name": "python",
   "nbconvert_exporter": "python",
   "pygments_lexer": "ipython3",
   "version": "3.8.10"
  }
 },
 "nbformat": 4,
 "nbformat_minor": 5
}
